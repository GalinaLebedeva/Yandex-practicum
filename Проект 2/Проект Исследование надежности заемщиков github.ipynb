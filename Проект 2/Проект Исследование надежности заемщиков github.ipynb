{
 "cells": [
  {
   "cell_type": "markdown",
   "id": "6aadd78d",
   "metadata": {
    "deletable": false,
    "editable": false,
    "id": "c81daeeb"
   },
   "source": [
    "# Исследование надежности заемщиков\n"
   ]
  },
  {
   "cell_type": "markdown",
   "id": "4fa8cbac",
   "metadata": {
    "deletable": false,
    "editable": false,
    "id": "827c20bf"
   },
   "source": [
    "Во второй части проекта вы выполните шаги 3 и 4. Их вручную проверит ревьюер.\n",
    "Чтобы вам не пришлось писать код заново для шагов 1 и 2, мы добавили авторские решения в ячейки с кодом. \n",
    "\n"
   ]
  },
  {
   "cell_type": "markdown",
   "id": "20acfdb1",
   "metadata": {},
   "source": [
    "## Цели проекта\n",
    "- Определить существует ли зависимость возврата кредита в срок от семейного и финансового положения, цели получения кредита и количества детей;\n",
    "- Рассчитать среднюю долю должников в каждой категории;\n",
    "- Сформулировать вывод о надежности заемщиков."
   ]
  },
  {
   "cell_type": "markdown",
   "id": "7dbbfe1d",
   "metadata": {},
   "source": [
    "## Описание данных\n",
    "`children` — количество детей в семье \\\n",
    "`days_employed` — общий трудовой стаж в днях \\\n",
    "`dob_years` — возраст клиента в годах \\\n",
    "`education` — уровень образования клиента \\\n",
    "`education_id` — идентификатор уровня образования \\\n",
    "`family_status` — семейное положение \\\n",
    "`family_status_id` — идентификатор семейного положения \\\n",
    "`gender` — пол клиента \\\n",
    "`income_type` — тип занятости \\\n",
    "`debt` — имел ли задолженность по возврату кредитов \\\n",
    "`total_income` — ежемесячный доход \\\n",
    "`purpose` — цель получения кредита."
   ]
  },
  {
   "cell_type": "markdown",
   "id": "7034eafb",
   "metadata": {},
   "source": [
    "## План работы\n",
    "1. Изучить данные\n",
    "2. Обработать данные \n",
    "3. Категоризировать данные\n",
    "4. Сделать вывод"
   ]
  },
  {
   "cell_type": "markdown",
   "id": "60790df6",
   "metadata": {
    "deletable": false,
    "editable": false,
    "id": "744d7639"
   },
   "source": [
    "## Откройте таблицу и изучите общую информацию о данных"
   ]
  },
  {
   "cell_type": "markdown",
   "id": "8aede9bb",
   "metadata": {
    "deletable": false,
    "editable": false,
    "id": "e7a14c31"
   },
   "source": [
    "**Задание 1. Импортируйте библиотеку pandas. Считайте данные из csv-файла в датафрейм и сохраните в переменную `data`. Путь к файлу:**\n",
    "\n",
    "`/datasets/data.csv`"
   ]
  },
  {
   "cell_type": "code",
   "execution_count": 1,
   "id": "f0c4ff7f",
   "metadata": {
    "deletable": false,
    "id": "7bcf75c9"
   },
   "outputs": [],
   "source": [
    "import pandas as pd\n",
    "\n",
    "try:\n",
    "    data = pd.read_csv('/datasets/data.csv')\n",
    "except:\n",
    "    data = pd.read_csv('https://code.s3.yandex.net/datasets/data.csv')"
   ]
  },
  {
   "cell_type": "markdown",
   "id": "3ddf31ec",
   "metadata": {
    "deletable": false,
    "editable": false,
    "id": "b8038fe3"
   },
   "source": [
    "**Задание 2. Выведите первые 20 строчек датафрейма `data` на экран.**"
   ]
  },
  {
   "cell_type": "code",
   "execution_count": 2,
   "id": "829d254c",
   "metadata": {
    "deletable": false,
    "id": "2a7cab99",
    "outputId": "1a8f3ef2-d323-4ec2-ddf7-89670b5944c4"
   },
   "outputs": [
    {
     "data": {
      "text/html": [
       "<div>\n",
       "<style scoped>\n",
       "    .dataframe tbody tr th:only-of-type {\n",
       "        vertical-align: middle;\n",
       "    }\n",
       "\n",
       "    .dataframe tbody tr th {\n",
       "        vertical-align: top;\n",
       "    }\n",
       "\n",
       "    .dataframe thead th {\n",
       "        text-align: right;\n",
       "    }\n",
       "</style>\n",
       "<table border=\"1\" class=\"dataframe\">\n",
       "  <thead>\n",
       "    <tr style=\"text-align: right;\">\n",
       "      <th></th>\n",
       "      <th>children</th>\n",
       "      <th>days_employed</th>\n",
       "      <th>dob_years</th>\n",
       "      <th>education</th>\n",
       "      <th>education_id</th>\n",
       "      <th>family_status</th>\n",
       "      <th>family_status_id</th>\n",
       "      <th>gender</th>\n",
       "      <th>income_type</th>\n",
       "      <th>debt</th>\n",
       "      <th>total_income</th>\n",
       "      <th>purpose</th>\n",
       "    </tr>\n",
       "  </thead>\n",
       "  <tbody>\n",
       "    <tr>\n",
       "      <th>0</th>\n",
       "      <td>1</td>\n",
       "      <td>-8437.673028</td>\n",
       "      <td>42</td>\n",
       "      <td>высшее</td>\n",
       "      <td>0</td>\n",
       "      <td>женат / замужем</td>\n",
       "      <td>0</td>\n",
       "      <td>F</td>\n",
       "      <td>сотрудник</td>\n",
       "      <td>0</td>\n",
       "      <td>253875.639453</td>\n",
       "      <td>покупка жилья</td>\n",
       "    </tr>\n",
       "    <tr>\n",
       "      <th>1</th>\n",
       "      <td>1</td>\n",
       "      <td>-4024.803754</td>\n",
       "      <td>36</td>\n",
       "      <td>среднее</td>\n",
       "      <td>1</td>\n",
       "      <td>женат / замужем</td>\n",
       "      <td>0</td>\n",
       "      <td>F</td>\n",
       "      <td>сотрудник</td>\n",
       "      <td>0</td>\n",
       "      <td>112080.014102</td>\n",
       "      <td>приобретение автомобиля</td>\n",
       "    </tr>\n",
       "    <tr>\n",
       "      <th>2</th>\n",
       "      <td>0</td>\n",
       "      <td>-5623.422610</td>\n",
       "      <td>33</td>\n",
       "      <td>Среднее</td>\n",
       "      <td>1</td>\n",
       "      <td>женат / замужем</td>\n",
       "      <td>0</td>\n",
       "      <td>M</td>\n",
       "      <td>сотрудник</td>\n",
       "      <td>0</td>\n",
       "      <td>145885.952297</td>\n",
       "      <td>покупка жилья</td>\n",
       "    </tr>\n",
       "    <tr>\n",
       "      <th>3</th>\n",
       "      <td>3</td>\n",
       "      <td>-4124.747207</td>\n",
       "      <td>32</td>\n",
       "      <td>среднее</td>\n",
       "      <td>1</td>\n",
       "      <td>женат / замужем</td>\n",
       "      <td>0</td>\n",
       "      <td>M</td>\n",
       "      <td>сотрудник</td>\n",
       "      <td>0</td>\n",
       "      <td>267628.550329</td>\n",
       "      <td>дополнительное образование</td>\n",
       "    </tr>\n",
       "    <tr>\n",
       "      <th>4</th>\n",
       "      <td>0</td>\n",
       "      <td>340266.072047</td>\n",
       "      <td>53</td>\n",
       "      <td>среднее</td>\n",
       "      <td>1</td>\n",
       "      <td>гражданский брак</td>\n",
       "      <td>1</td>\n",
       "      <td>F</td>\n",
       "      <td>пенсионер</td>\n",
       "      <td>0</td>\n",
       "      <td>158616.077870</td>\n",
       "      <td>сыграть свадьбу</td>\n",
       "    </tr>\n",
       "    <tr>\n",
       "      <th>5</th>\n",
       "      <td>0</td>\n",
       "      <td>-926.185831</td>\n",
       "      <td>27</td>\n",
       "      <td>высшее</td>\n",
       "      <td>0</td>\n",
       "      <td>гражданский брак</td>\n",
       "      <td>1</td>\n",
       "      <td>M</td>\n",
       "      <td>компаньон</td>\n",
       "      <td>0</td>\n",
       "      <td>255763.565419</td>\n",
       "      <td>покупка жилья</td>\n",
       "    </tr>\n",
       "    <tr>\n",
       "      <th>6</th>\n",
       "      <td>0</td>\n",
       "      <td>-2879.202052</td>\n",
       "      <td>43</td>\n",
       "      <td>высшее</td>\n",
       "      <td>0</td>\n",
       "      <td>женат / замужем</td>\n",
       "      <td>0</td>\n",
       "      <td>F</td>\n",
       "      <td>компаньон</td>\n",
       "      <td>0</td>\n",
       "      <td>240525.971920</td>\n",
       "      <td>операции с жильем</td>\n",
       "    </tr>\n",
       "    <tr>\n",
       "      <th>7</th>\n",
       "      <td>0</td>\n",
       "      <td>-152.779569</td>\n",
       "      <td>50</td>\n",
       "      <td>СРЕДНЕЕ</td>\n",
       "      <td>1</td>\n",
       "      <td>женат / замужем</td>\n",
       "      <td>0</td>\n",
       "      <td>M</td>\n",
       "      <td>сотрудник</td>\n",
       "      <td>0</td>\n",
       "      <td>135823.934197</td>\n",
       "      <td>образование</td>\n",
       "    </tr>\n",
       "    <tr>\n",
       "      <th>8</th>\n",
       "      <td>2</td>\n",
       "      <td>-6929.865299</td>\n",
       "      <td>35</td>\n",
       "      <td>ВЫСШЕЕ</td>\n",
       "      <td>0</td>\n",
       "      <td>гражданский брак</td>\n",
       "      <td>1</td>\n",
       "      <td>F</td>\n",
       "      <td>сотрудник</td>\n",
       "      <td>0</td>\n",
       "      <td>95856.832424</td>\n",
       "      <td>на проведение свадьбы</td>\n",
       "    </tr>\n",
       "    <tr>\n",
       "      <th>9</th>\n",
       "      <td>0</td>\n",
       "      <td>-2188.756445</td>\n",
       "      <td>41</td>\n",
       "      <td>среднее</td>\n",
       "      <td>1</td>\n",
       "      <td>женат / замужем</td>\n",
       "      <td>0</td>\n",
       "      <td>M</td>\n",
       "      <td>сотрудник</td>\n",
       "      <td>0</td>\n",
       "      <td>144425.938277</td>\n",
       "      <td>покупка жилья для семьи</td>\n",
       "    </tr>\n",
       "    <tr>\n",
       "      <th>10</th>\n",
       "      <td>2</td>\n",
       "      <td>-4171.483647</td>\n",
       "      <td>36</td>\n",
       "      <td>высшее</td>\n",
       "      <td>0</td>\n",
       "      <td>женат / замужем</td>\n",
       "      <td>0</td>\n",
       "      <td>M</td>\n",
       "      <td>компаньон</td>\n",
       "      <td>0</td>\n",
       "      <td>113943.491460</td>\n",
       "      <td>покупка недвижимости</td>\n",
       "    </tr>\n",
       "    <tr>\n",
       "      <th>11</th>\n",
       "      <td>0</td>\n",
       "      <td>-792.701887</td>\n",
       "      <td>40</td>\n",
       "      <td>среднее</td>\n",
       "      <td>1</td>\n",
       "      <td>женат / замужем</td>\n",
       "      <td>0</td>\n",
       "      <td>F</td>\n",
       "      <td>сотрудник</td>\n",
       "      <td>0</td>\n",
       "      <td>77069.234271</td>\n",
       "      <td>покупка коммерческой недвижимости</td>\n",
       "    </tr>\n",
       "    <tr>\n",
       "      <th>12</th>\n",
       "      <td>0</td>\n",
       "      <td>NaN</td>\n",
       "      <td>65</td>\n",
       "      <td>среднее</td>\n",
       "      <td>1</td>\n",
       "      <td>гражданский брак</td>\n",
       "      <td>1</td>\n",
       "      <td>M</td>\n",
       "      <td>пенсионер</td>\n",
       "      <td>0</td>\n",
       "      <td>NaN</td>\n",
       "      <td>сыграть свадьбу</td>\n",
       "    </tr>\n",
       "    <tr>\n",
       "      <th>13</th>\n",
       "      <td>0</td>\n",
       "      <td>-1846.641941</td>\n",
       "      <td>54</td>\n",
       "      <td>неоконченное высшее</td>\n",
       "      <td>2</td>\n",
       "      <td>женат / замужем</td>\n",
       "      <td>0</td>\n",
       "      <td>F</td>\n",
       "      <td>сотрудник</td>\n",
       "      <td>0</td>\n",
       "      <td>130458.228857</td>\n",
       "      <td>приобретение автомобиля</td>\n",
       "    </tr>\n",
       "    <tr>\n",
       "      <th>14</th>\n",
       "      <td>0</td>\n",
       "      <td>-1844.956182</td>\n",
       "      <td>56</td>\n",
       "      <td>высшее</td>\n",
       "      <td>0</td>\n",
       "      <td>гражданский брак</td>\n",
       "      <td>1</td>\n",
       "      <td>F</td>\n",
       "      <td>компаньон</td>\n",
       "      <td>1</td>\n",
       "      <td>165127.911772</td>\n",
       "      <td>покупка жилой недвижимости</td>\n",
       "    </tr>\n",
       "    <tr>\n",
       "      <th>15</th>\n",
       "      <td>1</td>\n",
       "      <td>-972.364419</td>\n",
       "      <td>26</td>\n",
       "      <td>среднее</td>\n",
       "      <td>1</td>\n",
       "      <td>женат / замужем</td>\n",
       "      <td>0</td>\n",
       "      <td>F</td>\n",
       "      <td>сотрудник</td>\n",
       "      <td>0</td>\n",
       "      <td>116820.904450</td>\n",
       "      <td>строительство собственной недвижимости</td>\n",
       "    </tr>\n",
       "    <tr>\n",
       "      <th>16</th>\n",
       "      <td>0</td>\n",
       "      <td>-1719.934226</td>\n",
       "      <td>35</td>\n",
       "      <td>среднее</td>\n",
       "      <td>1</td>\n",
       "      <td>женат / замужем</td>\n",
       "      <td>0</td>\n",
       "      <td>F</td>\n",
       "      <td>сотрудник</td>\n",
       "      <td>0</td>\n",
       "      <td>289202.704229</td>\n",
       "      <td>недвижимость</td>\n",
       "    </tr>\n",
       "    <tr>\n",
       "      <th>17</th>\n",
       "      <td>0</td>\n",
       "      <td>-2369.999720</td>\n",
       "      <td>33</td>\n",
       "      <td>высшее</td>\n",
       "      <td>0</td>\n",
       "      <td>гражданский брак</td>\n",
       "      <td>1</td>\n",
       "      <td>M</td>\n",
       "      <td>сотрудник</td>\n",
       "      <td>0</td>\n",
       "      <td>90410.586745</td>\n",
       "      <td>строительство недвижимости</td>\n",
       "    </tr>\n",
       "    <tr>\n",
       "      <th>18</th>\n",
       "      <td>0</td>\n",
       "      <td>400281.136913</td>\n",
       "      <td>53</td>\n",
       "      <td>среднее</td>\n",
       "      <td>1</td>\n",
       "      <td>вдовец / вдова</td>\n",
       "      <td>2</td>\n",
       "      <td>F</td>\n",
       "      <td>пенсионер</td>\n",
       "      <td>0</td>\n",
       "      <td>56823.777243</td>\n",
       "      <td>на покупку подержанного автомобиля</td>\n",
       "    </tr>\n",
       "    <tr>\n",
       "      <th>19</th>\n",
       "      <td>0</td>\n",
       "      <td>-10038.818549</td>\n",
       "      <td>48</td>\n",
       "      <td>СРЕДНЕЕ</td>\n",
       "      <td>1</td>\n",
       "      <td>в разводе</td>\n",
       "      <td>3</td>\n",
       "      <td>F</td>\n",
       "      <td>сотрудник</td>\n",
       "      <td>0</td>\n",
       "      <td>242831.107982</td>\n",
       "      <td>на покупку своего автомобиля</td>\n",
       "    </tr>\n",
       "  </tbody>\n",
       "</table>\n",
       "</div>"
      ],
      "text/plain": [
       "    children  days_employed  dob_years            education  education_id  \\\n",
       "0          1   -8437.673028         42               высшее             0   \n",
       "1          1   -4024.803754         36              среднее             1   \n",
       "2          0   -5623.422610         33              Среднее             1   \n",
       "3          3   -4124.747207         32              среднее             1   \n",
       "4          0  340266.072047         53              среднее             1   \n",
       "5          0    -926.185831         27               высшее             0   \n",
       "6          0   -2879.202052         43               высшее             0   \n",
       "7          0    -152.779569         50              СРЕДНЕЕ             1   \n",
       "8          2   -6929.865299         35               ВЫСШЕЕ             0   \n",
       "9          0   -2188.756445         41              среднее             1   \n",
       "10         2   -4171.483647         36               высшее             0   \n",
       "11         0    -792.701887         40              среднее             1   \n",
       "12         0            NaN         65              среднее             1   \n",
       "13         0   -1846.641941         54  неоконченное высшее             2   \n",
       "14         0   -1844.956182         56               высшее             0   \n",
       "15         1    -972.364419         26              среднее             1   \n",
       "16         0   -1719.934226         35              среднее             1   \n",
       "17         0   -2369.999720         33               высшее             0   \n",
       "18         0  400281.136913         53              среднее             1   \n",
       "19         0  -10038.818549         48              СРЕДНЕЕ             1   \n",
       "\n",
       "       family_status  family_status_id gender income_type  debt  \\\n",
       "0    женат / замужем                 0      F   сотрудник     0   \n",
       "1    женат / замужем                 0      F   сотрудник     0   \n",
       "2    женат / замужем                 0      M   сотрудник     0   \n",
       "3    женат / замужем                 0      M   сотрудник     0   \n",
       "4   гражданский брак                 1      F   пенсионер     0   \n",
       "5   гражданский брак                 1      M   компаньон     0   \n",
       "6    женат / замужем                 0      F   компаньон     0   \n",
       "7    женат / замужем                 0      M   сотрудник     0   \n",
       "8   гражданский брак                 1      F   сотрудник     0   \n",
       "9    женат / замужем                 0      M   сотрудник     0   \n",
       "10   женат / замужем                 0      M   компаньон     0   \n",
       "11   женат / замужем                 0      F   сотрудник     0   \n",
       "12  гражданский брак                 1      M   пенсионер     0   \n",
       "13   женат / замужем                 0      F   сотрудник     0   \n",
       "14  гражданский брак                 1      F   компаньон     1   \n",
       "15   женат / замужем                 0      F   сотрудник     0   \n",
       "16   женат / замужем                 0      F   сотрудник     0   \n",
       "17  гражданский брак                 1      M   сотрудник     0   \n",
       "18    вдовец / вдова                 2      F   пенсионер     0   \n",
       "19         в разводе                 3      F   сотрудник     0   \n",
       "\n",
       "     total_income                                 purpose  \n",
       "0   253875.639453                           покупка жилья  \n",
       "1   112080.014102                 приобретение автомобиля  \n",
       "2   145885.952297                           покупка жилья  \n",
       "3   267628.550329              дополнительное образование  \n",
       "4   158616.077870                         сыграть свадьбу  \n",
       "5   255763.565419                           покупка жилья  \n",
       "6   240525.971920                       операции с жильем  \n",
       "7   135823.934197                             образование  \n",
       "8    95856.832424                   на проведение свадьбы  \n",
       "9   144425.938277                 покупка жилья для семьи  \n",
       "10  113943.491460                    покупка недвижимости  \n",
       "11   77069.234271       покупка коммерческой недвижимости  \n",
       "12            NaN                         сыграть свадьбу  \n",
       "13  130458.228857                 приобретение автомобиля  \n",
       "14  165127.911772              покупка жилой недвижимости  \n",
       "15  116820.904450  строительство собственной недвижимости  \n",
       "16  289202.704229                            недвижимость  \n",
       "17   90410.586745              строительство недвижимости  \n",
       "18   56823.777243      на покупку подержанного автомобиля  \n",
       "19  242831.107982            на покупку своего автомобиля  "
      ]
     },
     "execution_count": 2,
     "metadata": {},
     "output_type": "execute_result"
    }
   ],
   "source": [
    "data.head(20)"
   ]
  },
  {
   "cell_type": "markdown",
   "id": "f8eba717",
   "metadata": {
    "deletable": false,
    "editable": false,
    "id": "1c12e233"
   },
   "source": [
    "**Задание 3. Выведите основную информацию о датафрейме с помощью метода `info()`.**"
   ]
  },
  {
   "cell_type": "code",
   "execution_count": 3,
   "id": "896fa760",
   "metadata": {
    "deletable": false,
    "id": "2b757bca",
    "outputId": "15376089-8dad-46c9-b520-c05248d43158"
   },
   "outputs": [
    {
     "name": "stdout",
     "output_type": "stream",
     "text": [
      "<class 'pandas.core.frame.DataFrame'>\n",
      "RangeIndex: 21525 entries, 0 to 21524\n",
      "Data columns (total 12 columns):\n",
      " #   Column            Non-Null Count  Dtype  \n",
      "---  ------            --------------  -----  \n",
      " 0   children          21525 non-null  int64  \n",
      " 1   days_employed     19351 non-null  float64\n",
      " 2   dob_years         21525 non-null  int64  \n",
      " 3   education         21525 non-null  object \n",
      " 4   education_id      21525 non-null  int64  \n",
      " 5   family_status     21525 non-null  object \n",
      " 6   family_status_id  21525 non-null  int64  \n",
      " 7   gender            21525 non-null  object \n",
      " 8   income_type       21525 non-null  object \n",
      " 9   debt              21525 non-null  int64  \n",
      " 10  total_income      19351 non-null  float64\n",
      " 11  purpose           21525 non-null  object \n",
      "dtypes: float64(2), int64(5), object(5)\n",
      "memory usage: 2.0+ MB\n"
     ]
    }
   ],
   "source": [
    "data.info()"
   ]
  },
  {
   "cell_type": "markdown",
   "id": "37953c05",
   "metadata": {},
   "source": [
    "*Вывод*: Открыв данные и изучив их структуру, мы обнаружили пропуски в колонках `days_employed` и `total_income`, в следующем шаге исправим это несовпадение в данных."
   ]
  },
  {
   "cell_type": "markdown",
   "id": "b3d172d2",
   "metadata": {
    "deletable": false,
    "editable": false,
    "id": "333ec665"
   },
   "source": [
    "## Предобработка данных"
   ]
  },
  {
   "cell_type": "markdown",
   "id": "43de7d7a",
   "metadata": {
    "deletable": false,
    "editable": false,
    "id": "02d92d53"
   },
   "source": [
    "### Удаление пропусков"
   ]
  },
  {
   "cell_type": "markdown",
   "id": "f1cd7c96",
   "metadata": {
    "deletable": false,
    "editable": false,
    "id": "cd84967c"
   },
   "source": [
    "**Задание 4. Выведите количество пропущенных значений для каждого столбца. Используйте комбинацию двух методов.**"
   ]
  },
  {
   "cell_type": "code",
   "execution_count": 4,
   "id": "6453a9d3",
   "metadata": {
    "deletable": false,
    "id": "7f9b2309",
    "outputId": "81f4d817-781c-465c-ed15-91ce4446810d"
   },
   "outputs": [
    {
     "data": {
      "text/plain": [
       "children               0\n",
       "days_employed       2174\n",
       "dob_years              0\n",
       "education              0\n",
       "education_id           0\n",
       "family_status          0\n",
       "family_status_id       0\n",
       "gender                 0\n",
       "income_type            0\n",
       "debt                   0\n",
       "total_income        2174\n",
       "purpose                0\n",
       "dtype: int64"
      ]
     },
     "execution_count": 4,
     "metadata": {},
     "output_type": "execute_result"
    }
   ],
   "source": [
    "data.isna().sum()"
   ]
  },
  {
   "cell_type": "markdown",
   "id": "2811de21",
   "metadata": {
    "deletable": false,
    "editable": false,
    "id": "db86e27b"
   },
   "source": [
    "**Задание 5. В двух столбцах есть пропущенные значения. Один из них — `days_employed`. Пропуски в этом столбце вы обработаете на следующем этапе. Другой столбец с пропущенными значениями — `total_income` — хранит данные о доходах. На сумму дохода сильнее всего влияет тип занятости, поэтому заполнить пропуски в этом столбце нужно медианным значением по каждому типу из столбца `income_type`. Например, у человека с типом занятости `сотрудник` пропуск в столбце `total_income` должен быть заполнен медианным доходом среди всех записей с тем же типом.**"
   ]
  },
  {
   "cell_type": "code",
   "execution_count": 5,
   "id": "3e981ffe",
   "metadata": {
    "deletable": false,
    "id": "42006a93"
   },
   "outputs": [],
   "source": [
    "for t in data['income_type'].unique():\n",
    "    data.loc[(data['income_type'] == t) & (data['total_income'].isna()), 'total_income'] = \\\n",
    "    data.loc[(data['income_type'] == t), 'total_income'].median()"
   ]
  },
  {
   "cell_type": "markdown",
   "id": "bf9c34ca",
   "metadata": {
    "deletable": false,
    "editable": false,
    "id": "89da5ece"
   },
   "source": [
    "### Обработка аномальных значений"
   ]
  },
  {
   "cell_type": "markdown",
   "id": "60c7006b",
   "metadata": {
    "deletable": false,
    "editable": false,
    "id": "57964554"
   },
   "source": [
    "**Задание 6. В данных могут встречаться артефакты (аномалии) — значения, которые не отражают действительность и появились по какой-то ошибке. таким артефактом будет отрицательное количество дней трудового стажа в столбце `days_employed`. Для реальных данных это нормально. Обработайте значения в этом столбце: замените все отрицательные значения положительными с помощью метода `abs()`.**"
   ]
  },
  {
   "cell_type": "code",
   "execution_count": 6,
   "id": "ce56d2b0",
   "metadata": {
    "deletable": false,
    "id": "f6f055bf"
   },
   "outputs": [],
   "source": [
    "data['days_employed'] = data['days_employed'].abs()"
   ]
  },
  {
   "cell_type": "markdown",
   "id": "a05eab78",
   "metadata": {
    "deletable": false,
    "editable": false,
    "id": "6107dd2f"
   },
   "source": [
    "**Задание 7. Для каждого типа занятости выведите медианное значение трудового стажа `days_employed` в днях.**"
   ]
  },
  {
   "cell_type": "code",
   "execution_count": 7,
   "id": "f14e89e3",
   "metadata": {
    "deletable": false,
    "id": "85a5faf6",
    "outputId": "801ef80e-522b-4668-f34e-565af7432bcf"
   },
   "outputs": [
    {
     "data": {
      "text/plain": [
       "income_type\n",
       "безработный        366413.652744\n",
       "в декрете            3296.759962\n",
       "госслужащий          2689.368353\n",
       "компаньон            1547.382223\n",
       "пенсионер          365213.306266\n",
       "предприниматель       520.848083\n",
       "сотрудник            1574.202821\n",
       "студент               578.751554\n",
       "Name: days_employed, dtype: float64"
      ]
     },
     "execution_count": 7,
     "metadata": {},
     "output_type": "execute_result"
    }
   ],
   "source": [
    "data.groupby('income_type')['days_employed'].agg('median')"
   ]
  },
  {
   "cell_type": "markdown",
   "id": "1a8c29aa",
   "metadata": {
    "deletable": false,
    "editable": false,
    "id": "38d1a030"
   },
   "source": [
    "У двух типов (безработные и пенсионеры) получатся аномально большие значения. Исправить такие значения сложно, поэтому оставьте их как есть. Тем более этот столбец не понадобится вам для исследования."
   ]
  },
  {
   "cell_type": "markdown",
   "id": "aaab8435",
   "metadata": {
    "deletable": false,
    "editable": false,
    "id": "d8a9f147"
   },
   "source": [
    "**Задание 8. Выведите перечень уникальных значений столбца `children`.**"
   ]
  },
  {
   "cell_type": "code",
   "execution_count": 8,
   "id": "a23545da",
   "metadata": {
    "deletable": false,
    "id": "ef5056eb",
    "outputId": "6975b15c-7f95-4697-d16d-a0c79b657b03"
   },
   "outputs": [
    {
     "data": {
      "text/plain": [
       "array([ 1,  0,  3,  2, -1,  4, 20,  5])"
      ]
     },
     "execution_count": 8,
     "metadata": {},
     "output_type": "execute_result"
    }
   ],
   "source": [
    "data['children'].unique()"
   ]
  },
  {
   "cell_type": "markdown",
   "id": "a6fe393c",
   "metadata": {
    "deletable": false,
    "editable": false,
    "id": "40b9ebf2"
   },
   "source": [
    "**Задание 9. В столбце `children` есть два аномальных значения. Удалите строки, в которых встречаются такие аномальные значения из датафрейма `data`.**"
   ]
  },
  {
   "cell_type": "code",
   "execution_count": 9,
   "id": "6036006b",
   "metadata": {
    "deletable": false,
    "id": "3ff9801d"
   },
   "outputs": [],
   "source": [
    "data = data[(data['children'] != -1) & (data['children'] != 20)]"
   ]
  },
  {
   "cell_type": "markdown",
   "id": "ef4db37c",
   "metadata": {
    "deletable": false,
    "editable": false,
    "id": "bbc4d0ce"
   },
   "source": [
    "**Задание 10. Ещё раз выведите перечень уникальных значений столбца `children`, чтобы убедиться, что артефакты удалены.**"
   ]
  },
  {
   "cell_type": "code",
   "execution_count": 10,
   "id": "443218e4",
   "metadata": {
    "deletable": false,
    "id": "ad4fa8b7",
    "outputId": "b2097101-d49d-44d9-901b-32a65c9463d1"
   },
   "outputs": [
    {
     "data": {
      "text/plain": [
       "array([1, 0, 3, 2, 4, 5])"
      ]
     },
     "execution_count": 10,
     "metadata": {},
     "output_type": "execute_result"
    }
   ],
   "source": [
    "data['children'].unique()"
   ]
  },
  {
   "cell_type": "markdown",
   "id": "1432d7ff",
   "metadata": {
    "deletable": false,
    "editable": false,
    "id": "75440b63"
   },
   "source": [
    "### Удаление пропусков (продолжение)"
   ]
  },
  {
   "cell_type": "markdown",
   "id": "7437f07c",
   "metadata": {
    "deletable": false,
    "editable": false,
    "id": "f4ea573f"
   },
   "source": [
    "**Задание 11. Заполните пропуски в столбце `days_employed` медианными значениями по каждого типа занятости `income_type`.**"
   ]
  },
  {
   "cell_type": "code",
   "execution_count": 11,
   "id": "264b1bdb",
   "metadata": {
    "deletable": false,
    "id": "af6b1a7e"
   },
   "outputs": [],
   "source": [
    "for t in data['income_type'].unique():\n",
    "    data.loc[(data['income_type'] == t) & (data['days_employed'].isna()), 'days_employed'] = \\\n",
    "    data.loc[(data['income_type'] == t), 'days_employed'].median()"
   ]
  },
  {
   "cell_type": "markdown",
   "id": "90bfcca6",
   "metadata": {
    "deletable": false,
    "editable": false,
    "id": "2753f40d"
   },
   "source": [
    "**Задание 12. Убедитесь, что все пропуски заполнены. Проверьте себя и ещё раз выведите количество пропущенных значений для каждого столбца с помощью двух методов.**"
   ]
  },
  {
   "cell_type": "code",
   "execution_count": 12,
   "id": "394744f6",
   "metadata": {
    "deletable": false,
    "id": "55f78bc2",
    "outputId": "8da1e4e1-358e-4e87-98c9-f261bce0a7b2"
   },
   "outputs": [
    {
     "data": {
      "text/plain": [
       "children            0\n",
       "days_employed       0\n",
       "dob_years           0\n",
       "education           0\n",
       "education_id        0\n",
       "family_status       0\n",
       "family_status_id    0\n",
       "gender              0\n",
       "income_type         0\n",
       "debt                0\n",
       "total_income        0\n",
       "purpose             0\n",
       "dtype: int64"
      ]
     },
     "execution_count": 12,
     "metadata": {},
     "output_type": "execute_result"
    }
   ],
   "source": [
    "data.isna().sum()"
   ]
  },
  {
   "cell_type": "markdown",
   "id": "6ccbcc3e",
   "metadata": {
    "deletable": false,
    "editable": false,
    "id": "ddc81e43"
   },
   "source": [
    "### Изменение типов данных"
   ]
  },
  {
   "cell_type": "markdown",
   "id": "0804dd29",
   "metadata": {
    "deletable": false,
    "editable": false,
    "id": "42d19d24"
   },
   "source": [
    "**Задание 13. Замените вещественный тип данных в столбце `total_income` на целочисленный с помощью метода `astype()`.**"
   ]
  },
  {
   "cell_type": "code",
   "execution_count": 13,
   "id": "29ef4ae5",
   "metadata": {
    "deletable": false,
    "id": "920b65ad"
   },
   "outputs": [],
   "source": [
    "data['total_income'] = data['total_income'].astype(int)"
   ]
  },
  {
   "cell_type": "markdown",
   "id": "2f35a7e1",
   "metadata": {
    "deletable": false,
    "editable": false,
    "id": "80c420ba"
   },
   "source": [
    "### Обработка дубликатов"
   ]
  },
  {
   "cell_type": "markdown",
   "id": "4fab494e",
   "metadata": {
    "deletable": false,
    "editable": false
   },
   "source": [
    "**Задание 14. Обработайте неявные дубликаты в столбце `education`. В этом столбце есть одни и те же значения, но записанные по-разному: с использованием заглавных и строчных букв. Приведите их к нижнему регистру. Проверьте остальные столбцы.**"
   ]
  },
  {
   "cell_type": "code",
   "execution_count": 14,
   "id": "0f0880a1",
   "metadata": {
    "deletable": false
   },
   "outputs": [],
   "source": [
    "data['education'] = data['education'].str.lower()"
   ]
  },
  {
   "cell_type": "markdown",
   "id": "2855fc5a",
   "metadata": {
    "deletable": false,
    "editable": false,
    "id": "dc587695"
   },
   "source": [
    "**Задание 15. Выведите на экран количество строк-дубликатов в данных. Если такие строки присутствуют, удалите их.**"
   ]
  },
  {
   "cell_type": "code",
   "execution_count": 15,
   "id": "3b5306e5",
   "metadata": {
    "deletable": false,
    "id": "3ee445e4",
    "outputId": "9684deba-1934-42d1-99e1-cda61740f822"
   },
   "outputs": [
    {
     "data": {
      "text/plain": [
       "71"
      ]
     },
     "execution_count": 15,
     "metadata": {},
     "output_type": "execute_result"
    }
   ],
   "source": [
    "data.duplicated().sum()"
   ]
  },
  {
   "cell_type": "code",
   "execution_count": 16,
   "id": "a0e8a1ff",
   "metadata": {
    "deletable": false,
    "id": "8575fe05"
   },
   "outputs": [],
   "source": [
    "data = data.drop_duplicates()"
   ]
  },
  {
   "cell_type": "markdown",
   "id": "4392eb69",
   "metadata": {
    "deletable": false,
    "editable": false,
    "id": "9904cf55"
   },
   "source": [
    "### Категоризация данных"
   ]
  },
  {
   "cell_type": "markdown",
   "id": "95f216d8",
   "metadata": {
    "deletable": false,
    "editable": false,
    "id": "72fcc8a2"
   },
   "source": [
    "**Задание 16. На основании диапазонов, указанных ниже, создайте в датафрейме `data` столбец `total_income_category` с категориями:**\n",
    "\n",
    "- 0–30000 — `'E'`;\n",
    "- 30001–50000 — `'D'`;\n",
    "- 50001–200000 — `'C'`;\n",
    "- 200001–1000000 — `'B'`;\n",
    "- 1000001 и выше — `'A'`.\n",
    "\n",
    "\n",
    "**Например, кредитополучателю с доходом 25000 нужно назначить категорию `'E'`, а клиенту, получающему 235000, — `'B'`. Используйте собственную функцию с именем `categorize_income()` и метод `apply()`.**"
   ]
  },
  {
   "cell_type": "code",
   "execution_count": 17,
   "id": "7de9cd1b",
   "metadata": {
    "deletable": false,
    "id": "e1771346"
   },
   "outputs": [],
   "source": [
    "def categorize_income(income):\n",
    "    try:\n",
    "        if 0 <= income <= 30000:\n",
    "            return 'E'\n",
    "        elif 30001 <= income <= 50000:\n",
    "            return 'D'\n",
    "        elif 50001 <= income <= 200000:\n",
    "            return 'C'\n",
    "        elif 200001 <= income <= 1000000:\n",
    "            return 'B'\n",
    "        elif income >= 1000001:\n",
    "            return 'A'\n",
    "    except:\n",
    "        pass"
   ]
  },
  {
   "cell_type": "code",
   "execution_count": 18,
   "id": "be6001f6",
   "metadata": {
    "deletable": false,
    "id": "d5f3586d"
   },
   "outputs": [],
   "source": [
    "data['total_income_category'] = data['total_income'].apply(categorize_income)"
   ]
  },
  {
   "cell_type": "markdown",
   "id": "690ebb5f",
   "metadata": {
    "deletable": false,
    "editable": false,
    "id": "dde49b5c"
   },
   "source": [
    "**Задание 17. Выведите на экран перечень уникальных целей взятия кредита из столбца `purpose`.**"
   ]
  },
  {
   "cell_type": "code",
   "execution_count": 19,
   "id": "13fa4e3b",
   "metadata": {
    "deletable": false,
    "id": "f67ce9b3",
    "outputId": "673c12d9-7d7e-4ae0-9812-c622c89dd244"
   },
   "outputs": [
    {
     "data": {
      "text/plain": [
       "array(['покупка жилья', 'приобретение автомобиля',\n",
       "       'дополнительное образование', 'сыграть свадьбу',\n",
       "       'операции с жильем', 'образование', 'на проведение свадьбы',\n",
       "       'покупка жилья для семьи', 'покупка недвижимости',\n",
       "       'покупка коммерческой недвижимости', 'покупка жилой недвижимости',\n",
       "       'строительство собственной недвижимости', 'недвижимость',\n",
       "       'строительство недвижимости', 'на покупку подержанного автомобиля',\n",
       "       'на покупку своего автомобиля',\n",
       "       'операции с коммерческой недвижимостью',\n",
       "       'строительство жилой недвижимости', 'жилье',\n",
       "       'операции со своей недвижимостью', 'автомобили',\n",
       "       'заняться образованием', 'сделка с подержанным автомобилем',\n",
       "       'получение образования', 'автомобиль', 'свадьба',\n",
       "       'получение дополнительного образования', 'покупка своего жилья',\n",
       "       'операции с недвижимостью', 'получение высшего образования',\n",
       "       'свой автомобиль', 'сделка с автомобилем',\n",
       "       'профильное образование', 'высшее образование',\n",
       "       'покупка жилья для сдачи', 'на покупку автомобиля', 'ремонт жилью',\n",
       "       'заняться высшим образованием'], dtype=object)"
      ]
     },
     "execution_count": 19,
     "metadata": {},
     "output_type": "execute_result"
    }
   ],
   "source": [
    "data['purpose'].unique()"
   ]
  },
  {
   "cell_type": "markdown",
   "id": "8d258bfb",
   "metadata": {
    "deletable": false,
    "editable": false,
    "id": "85d0aef0"
   },
   "source": [
    "**Задание 18. Создайте функцию, которая на основании данных из столбца `purpose` сформирует новый столбец `purpose_category`, в который войдут следующие категории:**\n",
    "\n",
    "- `'операции с автомобилем'`,\n",
    "- `'операции с недвижимостью'`,\n",
    "- `'проведение свадьбы'`,\n",
    "- `'получение образования'`.\n",
    "\n",
    "**Например, если в столбце `purpose` находится подстрока `'на покупку автомобиля'`, то в столбце `purpose_category` должна появиться строка `'операции с автомобилем'`.**\n",
    "\n",
    "**Используйте собственную функцию с именем `categorize_purpose()` и метод `apply()`. Изучите данные в столбце `purpose` и определите, какие подстроки помогут вам правильно определить категорию.**"
   ]
  },
  {
   "cell_type": "code",
   "execution_count": 20,
   "id": "d8b8489f",
   "metadata": {
    "deletable": false,
    "id": "e149fab4"
   },
   "outputs": [],
   "source": [
    "def categorize_purpose(row):\n",
    "    try:\n",
    "        if 'автом' in row:\n",
    "            return 'операции с автомобилем'\n",
    "        elif 'жил' in row or 'недвиж' in row:\n",
    "            return 'операции с недвижимостью'\n",
    "        elif 'свад' in row:\n",
    "            return 'проведение свадьбы'\n",
    "        elif 'образов' in row:\n",
    "            return 'получение образования'\n",
    "    except:\n",
    "        return 'нет категории'"
   ]
  },
  {
   "cell_type": "code",
   "execution_count": 21,
   "id": "fb14a5c8",
   "metadata": {
    "deletable": false,
    "id": "bf36e69b"
   },
   "outputs": [
    {
     "data": {
      "text/html": [
       "<div>\n",
       "<style scoped>\n",
       "    .dataframe tbody tr th:only-of-type {\n",
       "        vertical-align: middle;\n",
       "    }\n",
       "\n",
       "    .dataframe tbody tr th {\n",
       "        vertical-align: top;\n",
       "    }\n",
       "\n",
       "    .dataframe thead th {\n",
       "        text-align: right;\n",
       "    }\n",
       "</style>\n",
       "<table border=\"1\" class=\"dataframe\">\n",
       "  <thead>\n",
       "    <tr style=\"text-align: right;\">\n",
       "      <th></th>\n",
       "      <th>children</th>\n",
       "      <th>days_employed</th>\n",
       "      <th>dob_years</th>\n",
       "      <th>education</th>\n",
       "      <th>education_id</th>\n",
       "      <th>family_status</th>\n",
       "      <th>family_status_id</th>\n",
       "      <th>gender</th>\n",
       "      <th>income_type</th>\n",
       "      <th>debt</th>\n",
       "      <th>total_income</th>\n",
       "      <th>purpose</th>\n",
       "      <th>total_income_category</th>\n",
       "      <th>purpose_category</th>\n",
       "    </tr>\n",
       "  </thead>\n",
       "  <tbody>\n",
       "    <tr>\n",
       "      <th>0</th>\n",
       "      <td>1</td>\n",
       "      <td>8437.673028</td>\n",
       "      <td>42</td>\n",
       "      <td>высшее</td>\n",
       "      <td>0</td>\n",
       "      <td>женат / замужем</td>\n",
       "      <td>0</td>\n",
       "      <td>F</td>\n",
       "      <td>сотрудник</td>\n",
       "      <td>0</td>\n",
       "      <td>253875</td>\n",
       "      <td>покупка жилья</td>\n",
       "      <td>B</td>\n",
       "      <td>операции с недвижимостью</td>\n",
       "    </tr>\n",
       "    <tr>\n",
       "      <th>1</th>\n",
       "      <td>1</td>\n",
       "      <td>4024.803754</td>\n",
       "      <td>36</td>\n",
       "      <td>среднее</td>\n",
       "      <td>1</td>\n",
       "      <td>женат / замужем</td>\n",
       "      <td>0</td>\n",
       "      <td>F</td>\n",
       "      <td>сотрудник</td>\n",
       "      <td>0</td>\n",
       "      <td>112080</td>\n",
       "      <td>приобретение автомобиля</td>\n",
       "      <td>C</td>\n",
       "      <td>операции с автомобилем</td>\n",
       "    </tr>\n",
       "    <tr>\n",
       "      <th>2</th>\n",
       "      <td>0</td>\n",
       "      <td>5623.422610</td>\n",
       "      <td>33</td>\n",
       "      <td>среднее</td>\n",
       "      <td>1</td>\n",
       "      <td>женат / замужем</td>\n",
       "      <td>0</td>\n",
       "      <td>M</td>\n",
       "      <td>сотрудник</td>\n",
       "      <td>0</td>\n",
       "      <td>145885</td>\n",
       "      <td>покупка жилья</td>\n",
       "      <td>C</td>\n",
       "      <td>операции с недвижимостью</td>\n",
       "    </tr>\n",
       "    <tr>\n",
       "      <th>3</th>\n",
       "      <td>3</td>\n",
       "      <td>4124.747207</td>\n",
       "      <td>32</td>\n",
       "      <td>среднее</td>\n",
       "      <td>1</td>\n",
       "      <td>женат / замужем</td>\n",
       "      <td>0</td>\n",
       "      <td>M</td>\n",
       "      <td>сотрудник</td>\n",
       "      <td>0</td>\n",
       "      <td>267628</td>\n",
       "      <td>дополнительное образование</td>\n",
       "      <td>B</td>\n",
       "      <td>получение образования</td>\n",
       "    </tr>\n",
       "    <tr>\n",
       "      <th>4</th>\n",
       "      <td>0</td>\n",
       "      <td>340266.072047</td>\n",
       "      <td>53</td>\n",
       "      <td>среднее</td>\n",
       "      <td>1</td>\n",
       "      <td>гражданский брак</td>\n",
       "      <td>1</td>\n",
       "      <td>F</td>\n",
       "      <td>пенсионер</td>\n",
       "      <td>0</td>\n",
       "      <td>158616</td>\n",
       "      <td>сыграть свадьбу</td>\n",
       "      <td>C</td>\n",
       "      <td>проведение свадьбы</td>\n",
       "    </tr>\n",
       "    <tr>\n",
       "      <th>...</th>\n",
       "      <td>...</td>\n",
       "      <td>...</td>\n",
       "      <td>...</td>\n",
       "      <td>...</td>\n",
       "      <td>...</td>\n",
       "      <td>...</td>\n",
       "      <td>...</td>\n",
       "      <td>...</td>\n",
       "      <td>...</td>\n",
       "      <td>...</td>\n",
       "      <td>...</td>\n",
       "      <td>...</td>\n",
       "      <td>...</td>\n",
       "      <td>...</td>\n",
       "    </tr>\n",
       "    <tr>\n",
       "      <th>21520</th>\n",
       "      <td>1</td>\n",
       "      <td>4529.316663</td>\n",
       "      <td>43</td>\n",
       "      <td>среднее</td>\n",
       "      <td>1</td>\n",
       "      <td>гражданский брак</td>\n",
       "      <td>1</td>\n",
       "      <td>F</td>\n",
       "      <td>компаньон</td>\n",
       "      <td>0</td>\n",
       "      <td>224791</td>\n",
       "      <td>операции с жильем</td>\n",
       "      <td>B</td>\n",
       "      <td>операции с недвижимостью</td>\n",
       "    </tr>\n",
       "    <tr>\n",
       "      <th>21521</th>\n",
       "      <td>0</td>\n",
       "      <td>343937.404131</td>\n",
       "      <td>67</td>\n",
       "      <td>среднее</td>\n",
       "      <td>1</td>\n",
       "      <td>женат / замужем</td>\n",
       "      <td>0</td>\n",
       "      <td>F</td>\n",
       "      <td>пенсионер</td>\n",
       "      <td>0</td>\n",
       "      <td>155999</td>\n",
       "      <td>сделка с автомобилем</td>\n",
       "      <td>C</td>\n",
       "      <td>операции с автомобилем</td>\n",
       "    </tr>\n",
       "    <tr>\n",
       "      <th>21522</th>\n",
       "      <td>1</td>\n",
       "      <td>2113.346888</td>\n",
       "      <td>38</td>\n",
       "      <td>среднее</td>\n",
       "      <td>1</td>\n",
       "      <td>гражданский брак</td>\n",
       "      <td>1</td>\n",
       "      <td>M</td>\n",
       "      <td>сотрудник</td>\n",
       "      <td>1</td>\n",
       "      <td>89672</td>\n",
       "      <td>недвижимость</td>\n",
       "      <td>C</td>\n",
       "      <td>операции с недвижимостью</td>\n",
       "    </tr>\n",
       "    <tr>\n",
       "      <th>21523</th>\n",
       "      <td>3</td>\n",
       "      <td>3112.481705</td>\n",
       "      <td>38</td>\n",
       "      <td>среднее</td>\n",
       "      <td>1</td>\n",
       "      <td>женат / замужем</td>\n",
       "      <td>0</td>\n",
       "      <td>M</td>\n",
       "      <td>сотрудник</td>\n",
       "      <td>1</td>\n",
       "      <td>244093</td>\n",
       "      <td>на покупку своего автомобиля</td>\n",
       "      <td>B</td>\n",
       "      <td>операции с автомобилем</td>\n",
       "    </tr>\n",
       "    <tr>\n",
       "      <th>21524</th>\n",
       "      <td>2</td>\n",
       "      <td>1984.507589</td>\n",
       "      <td>40</td>\n",
       "      <td>среднее</td>\n",
       "      <td>1</td>\n",
       "      <td>женат / замужем</td>\n",
       "      <td>0</td>\n",
       "      <td>F</td>\n",
       "      <td>сотрудник</td>\n",
       "      <td>0</td>\n",
       "      <td>82047</td>\n",
       "      <td>на покупку автомобиля</td>\n",
       "      <td>C</td>\n",
       "      <td>операции с автомобилем</td>\n",
       "    </tr>\n",
       "  </tbody>\n",
       "</table>\n",
       "<p>21331 rows × 14 columns</p>\n",
       "</div>"
      ],
      "text/plain": [
       "       children  days_employed  dob_years education  education_id  \\\n",
       "0             1    8437.673028         42    высшее             0   \n",
       "1             1    4024.803754         36   среднее             1   \n",
       "2             0    5623.422610         33   среднее             1   \n",
       "3             3    4124.747207         32   среднее             1   \n",
       "4             0  340266.072047         53   среднее             1   \n",
       "...         ...            ...        ...       ...           ...   \n",
       "21520         1    4529.316663         43   среднее             1   \n",
       "21521         0  343937.404131         67   среднее             1   \n",
       "21522         1    2113.346888         38   среднее             1   \n",
       "21523         3    3112.481705         38   среднее             1   \n",
       "21524         2    1984.507589         40   среднее             1   \n",
       "\n",
       "          family_status  family_status_id gender income_type  debt  \\\n",
       "0       женат / замужем                 0      F   сотрудник     0   \n",
       "1       женат / замужем                 0      F   сотрудник     0   \n",
       "2       женат / замужем                 0      M   сотрудник     0   \n",
       "3       женат / замужем                 0      M   сотрудник     0   \n",
       "4      гражданский брак                 1      F   пенсионер     0   \n",
       "...                 ...               ...    ...         ...   ...   \n",
       "21520  гражданский брак                 1      F   компаньон     0   \n",
       "21521   женат / замужем                 0      F   пенсионер     0   \n",
       "21522  гражданский брак                 1      M   сотрудник     1   \n",
       "21523   женат / замужем                 0      M   сотрудник     1   \n",
       "21524   женат / замужем                 0      F   сотрудник     0   \n",
       "\n",
       "       total_income                       purpose total_income_category  \\\n",
       "0            253875                 покупка жилья                     B   \n",
       "1            112080       приобретение автомобиля                     C   \n",
       "2            145885                 покупка жилья                     C   \n",
       "3            267628    дополнительное образование                     B   \n",
       "4            158616               сыграть свадьбу                     C   \n",
       "...             ...                           ...                   ...   \n",
       "21520        224791             операции с жильем                     B   \n",
       "21521        155999          сделка с автомобилем                     C   \n",
       "21522         89672                  недвижимость                     C   \n",
       "21523        244093  на покупку своего автомобиля                     B   \n",
       "21524         82047         на покупку автомобиля                     C   \n",
       "\n",
       "               purpose_category  \n",
       "0      операции с недвижимостью  \n",
       "1        операции с автомобилем  \n",
       "2      операции с недвижимостью  \n",
       "3         получение образования  \n",
       "4            проведение свадьбы  \n",
       "...                         ...  \n",
       "21520  операции с недвижимостью  \n",
       "21521    операции с автомобилем  \n",
       "21522  операции с недвижимостью  \n",
       "21523    операции с автомобилем  \n",
       "21524    операции с автомобилем  \n",
       "\n",
       "[21331 rows x 14 columns]"
      ]
     },
     "execution_count": 21,
     "metadata": {},
     "output_type": "execute_result"
    }
   ],
   "source": [
    "data['purpose_category'] = data['purpose'].apply(categorize_purpose)\n",
    "data"
   ]
  },
  {
   "cell_type": "markdown",
   "id": "231d516d",
   "metadata": {},
   "source": [
    "*Общий вывод по разделу 5*: В данном разделе мы удалили пропуски, обработали аномальные значения и дубликаты, изменили тип данных в столбце `total_income` и категоризировали данные для удобства дальнейшей работы."
   ]
  },
  {
   "cell_type": "markdown",
   "id": "74576d4c",
   "metadata": {
    "deletable": false,
    "editable": false,
    "id": "09b242bf"
   },
   "source": [
    "### Шаг 3. Исследуйте данные и ответьте на вопросы"
   ]
  },
  {
   "cell_type": "markdown",
   "id": "ba1d9074",
   "metadata": {
    "deletable": false,
    "editable": false,
    "id": "c5d66278"
   },
   "source": [
    "#### 3.1 Есть ли зависимость между количеством детей и возвратом кредита в срок?"
   ]
  },
  {
   "cell_type": "markdown",
   "id": "4a6ee0f2",
   "metadata": {},
   "source": [
    "Создадим сводную таблицу, показывающую зависимость возврата кредита в срок от количества детей. Для этого в index укажем столбец по которому необходимо сделать группировку - children, а в values столбец по которому будут производиться расчеты - debt, агрументом для атрибута aggfunc служит список функций, которые будут применены к столбцу в values. Выведем таблицу на экран."
   ]
  },
  {
   "cell_type": "code",
   "execution_count": 22,
   "id": "76791489",
   "metadata": {
    "deletable": false,
    "id": "2cacfc4a"
   },
   "outputs": [
    {
     "data": {
      "text/html": [
       "<div>\n",
       "<style scoped>\n",
       "    .dataframe tbody tr th:only-of-type {\n",
       "        vertical-align: middle;\n",
       "    }\n",
       "\n",
       "    .dataframe tbody tr th {\n",
       "        vertical-align: top;\n",
       "    }\n",
       "\n",
       "    .dataframe thead tr th {\n",
       "        text-align: left;\n",
       "    }\n",
       "\n",
       "    .dataframe thead tr:last-of-type th {\n",
       "        text-align: right;\n",
       "    }\n",
       "</style>\n",
       "<table border=\"1\" class=\"dataframe\">\n",
       "  <thead>\n",
       "    <tr>\n",
       "      <th></th>\n",
       "      <th>sum</th>\n",
       "      <th>count</th>\n",
       "      <th>mean</th>\n",
       "    </tr>\n",
       "    <tr>\n",
       "      <th></th>\n",
       "      <th>debt</th>\n",
       "      <th>debt</th>\n",
       "      <th>debt</th>\n",
       "    </tr>\n",
       "    <tr>\n",
       "      <th>children</th>\n",
       "      <th></th>\n",
       "      <th></th>\n",
       "      <th></th>\n",
       "    </tr>\n",
       "  </thead>\n",
       "  <tbody>\n",
       "    <tr>\n",
       "      <th>0</th>\n",
       "      <td>1063</td>\n",
       "      <td>14091</td>\n",
       "      <td>0.075438</td>\n",
       "    </tr>\n",
       "    <tr>\n",
       "      <th>1</th>\n",
       "      <td>444</td>\n",
       "      <td>4808</td>\n",
       "      <td>0.092346</td>\n",
       "    </tr>\n",
       "    <tr>\n",
       "      <th>2</th>\n",
       "      <td>194</td>\n",
       "      <td>2052</td>\n",
       "      <td>0.094542</td>\n",
       "    </tr>\n",
       "    <tr>\n",
       "      <th>3</th>\n",
       "      <td>27</td>\n",
       "      <td>330</td>\n",
       "      <td>0.081818</td>\n",
       "    </tr>\n",
       "    <tr>\n",
       "      <th>4</th>\n",
       "      <td>4</td>\n",
       "      <td>41</td>\n",
       "      <td>0.097561</td>\n",
       "    </tr>\n",
       "    <tr>\n",
       "      <th>5</th>\n",
       "      <td>0</td>\n",
       "      <td>9</td>\n",
       "      <td>0.000000</td>\n",
       "    </tr>\n",
       "  </tbody>\n",
       "</table>\n",
       "</div>"
      ],
      "text/plain": [
       "           sum  count      mean\n",
       "          debt   debt      debt\n",
       "children                       \n",
       "0         1063  14091  0.075438\n",
       "1          444   4808  0.092346\n",
       "2          194   2052  0.094542\n",
       "3           27    330  0.081818\n",
       "4            4     41  0.097561\n",
       "5            0      9  0.000000"
      ]
     },
     "execution_count": 22,
     "metadata": {},
     "output_type": "execute_result"
    }
   ],
   "source": [
    "pivot_children = pd.pivot_table(data, index = ['children'], values = 'debt', aggfunc = ['sum','count','mean'])\n",
    "pivot_children"
   ]
  },
  {
   "cell_type": "code",
   "execution_count": 31,
   "id": "dfe15051",
   "metadata": {},
   "outputs": [
    {
     "data": {
      "text/html": [
       "<div>\n",
       "<style scoped>\n",
       "    .dataframe tbody tr th:only-of-type {\n",
       "        vertical-align: middle;\n",
       "    }\n",
       "\n",
       "    .dataframe tbody tr th {\n",
       "        vertical-align: top;\n",
       "    }\n",
       "\n",
       "    .dataframe thead tr th {\n",
       "        text-align: left;\n",
       "    }\n",
       "\n",
       "    .dataframe thead tr:last-of-type th {\n",
       "        text-align: right;\n",
       "    }\n",
       "</style>\n",
       "<table border=\"1\" class=\"dataframe\">\n",
       "  <thead>\n",
       "    <tr>\n",
       "      <th></th>\n",
       "      <th>count</th>\n",
       "      <th>sum</th>\n",
       "      <th>mean</th>\n",
       "    </tr>\n",
       "    <tr>\n",
       "      <th></th>\n",
       "      <th>debt</th>\n",
       "      <th>debt</th>\n",
       "      <th>debt</th>\n",
       "    </tr>\n",
       "    <tr>\n",
       "      <th>children</th>\n",
       "      <th></th>\n",
       "      <th></th>\n",
       "      <th></th>\n",
       "    </tr>\n",
       "  </thead>\n",
       "  <tbody>\n",
       "    <tr>\n",
       "      <th>4</th>\n",
       "      <td>41</td>\n",
       "      <td>4</td>\n",
       "      <td>0.097561</td>\n",
       "    </tr>\n",
       "    <tr>\n",
       "      <th>2</th>\n",
       "      <td>2052</td>\n",
       "      <td>194</td>\n",
       "      <td>0.094542</td>\n",
       "    </tr>\n",
       "    <tr>\n",
       "      <th>1</th>\n",
       "      <td>4808</td>\n",
       "      <td>444</td>\n",
       "      <td>0.092346</td>\n",
       "    </tr>\n",
       "    <tr>\n",
       "      <th>3</th>\n",
       "      <td>330</td>\n",
       "      <td>27</td>\n",
       "      <td>0.081818</td>\n",
       "    </tr>\n",
       "    <tr>\n",
       "      <th>0</th>\n",
       "      <td>14091</td>\n",
       "      <td>1063</td>\n",
       "      <td>0.075438</td>\n",
       "    </tr>\n",
       "    <tr>\n",
       "      <th>5</th>\n",
       "      <td>9</td>\n",
       "      <td>0</td>\n",
       "      <td>0.000000</td>\n",
       "    </tr>\n",
       "  </tbody>\n",
       "</table>\n",
       "</div>"
      ],
      "text/plain": [
       "          count   sum      mean\n",
       "           debt  debt      debt\n",
       "children                       \n",
       "4            41     4  0.097561\n",
       "2          2052   194  0.094542\n",
       "1          4808   444  0.092346\n",
       "3           330    27  0.081818\n",
       "0         14091  1063  0.075438\n",
       "5             9     0  0.000000"
      ]
     },
     "execution_count": 31,
     "metadata": {},
     "output_type": "execute_result"
    }
   ],
   "source": [
    "#Код ревьюера\n",
    "data.pivot_table(index = 'children', values = 'debt', aggfunc = ['count', 'sum', 'mean'])\\\n",
    "    .sort_values(by = ('mean', 'debt'), ascending = False)"
   ]
  },
  {
   "cell_type": "markdown",
   "id": "704acf5d",
   "metadata": {},
   "source": [
    "Мы создали таблицу зависимости возврата кредита в срок от количества детей. Для более наглядного изображения таблицы, удалим мультииндекс и переименуем название столбцов. Обновленную таблицу выведем на экран."
   ]
  },
  {
   "cell_type": "code",
   "execution_count": 23,
   "id": "39414c9a",
   "metadata": {},
   "outputs": [
    {
     "data": {
      "text/html": [
       "<div>\n",
       "<style scoped>\n",
       "    .dataframe tbody tr th:only-of-type {\n",
       "        vertical-align: middle;\n",
       "    }\n",
       "\n",
       "    .dataframe tbody tr th {\n",
       "        vertical-align: top;\n",
       "    }\n",
       "\n",
       "    .dataframe thead th {\n",
       "        text-align: right;\n",
       "    }\n",
       "</style>\n",
       "<table border=\"1\" class=\"dataframe\">\n",
       "  <thead>\n",
       "    <tr style=\"text-align: right;\">\n",
       "      <th></th>\n",
       "      <th>Всего должников</th>\n",
       "      <th>Всего кредитополучателей</th>\n",
       "      <th>Доля должников</th>\n",
       "    </tr>\n",
       "    <tr>\n",
       "      <th>Количество детей</th>\n",
       "      <th></th>\n",
       "      <th></th>\n",
       "      <th></th>\n",
       "    </tr>\n",
       "  </thead>\n",
       "  <tbody>\n",
       "    <tr>\n",
       "      <th>0</th>\n",
       "      <td>1063</td>\n",
       "      <td>14091</td>\n",
       "      <td>0.075438</td>\n",
       "    </tr>\n",
       "    <tr>\n",
       "      <th>1</th>\n",
       "      <td>444</td>\n",
       "      <td>4808</td>\n",
       "      <td>0.092346</td>\n",
       "    </tr>\n",
       "    <tr>\n",
       "      <th>2</th>\n",
       "      <td>194</td>\n",
       "      <td>2052</td>\n",
       "      <td>0.094542</td>\n",
       "    </tr>\n",
       "    <tr>\n",
       "      <th>3</th>\n",
       "      <td>27</td>\n",
       "      <td>330</td>\n",
       "      <td>0.081818</td>\n",
       "    </tr>\n",
       "    <tr>\n",
       "      <th>4</th>\n",
       "      <td>4</td>\n",
       "      <td>41</td>\n",
       "      <td>0.097561</td>\n",
       "    </tr>\n",
       "    <tr>\n",
       "      <th>5</th>\n",
       "      <td>0</td>\n",
       "      <td>9</td>\n",
       "      <td>0.000000</td>\n",
       "    </tr>\n",
       "  </tbody>\n",
       "</table>\n",
       "</div>"
      ],
      "text/plain": [
       "                  Всего должников  Всего кредитополучателей  Доля должников\n",
       "Количество детей                                                           \n",
       "0                            1063                     14091        0.075438\n",
       "1                             444                      4808        0.092346\n",
       "2                             194                      2052        0.094542\n",
       "3                              27                       330        0.081818\n",
       "4                               4                        41        0.097561\n",
       "5                               0                         9        0.000000"
      ]
     },
     "execution_count": 23,
     "metadata": {},
     "output_type": "execute_result"
    }
   ],
   "source": [
    "pivot_children = pivot_children.droplevel(1,axis = 1)\n",
    "pivot_children = pivot_children.rename(columns = {'sum':'Всего должников','count':'Всего кредитополучателей','mean':'Доля должников'})\n",
    "pivot_children.index.rename('Количество детей', inplace = True)\n",
    "pivot_children"
   ]
  },
  {
   "cell_type": "markdown",
   "id": "b5142b38",
   "metadata": {},
   "source": [
    "Сравним данные, где у семей нет детей и в семье есть один или два ребенка, это поможет получить нам общую информацию об отличие платежеспособности семей без детей и семей которые имеют детей."
   ]
  },
  {
   "cell_type": "code",
   "execution_count": 24,
   "id": "83399080",
   "metadata": {},
   "outputs": [
    {
     "data": {
      "text/html": [
       "<div>\n",
       "<style scoped>\n",
       "    .dataframe tbody tr th:only-of-type {\n",
       "        vertical-align: middle;\n",
       "    }\n",
       "\n",
       "    .dataframe tbody tr th {\n",
       "        vertical-align: top;\n",
       "    }\n",
       "\n",
       "    .dataframe thead th {\n",
       "        text-align: right;\n",
       "    }\n",
       "</style>\n",
       "<table border=\"1\" class=\"dataframe\">\n",
       "  <thead>\n",
       "    <tr style=\"text-align: right;\">\n",
       "      <th></th>\n",
       "      <th>Всего должников</th>\n",
       "      <th>Всего кредитополучателей</th>\n",
       "      <th>Доля должников</th>\n",
       "    </tr>\n",
       "    <tr>\n",
       "      <th>Количество детей</th>\n",
       "      <th></th>\n",
       "      <th></th>\n",
       "      <th></th>\n",
       "    </tr>\n",
       "  </thead>\n",
       "  <tbody>\n",
       "    <tr>\n",
       "      <th>0</th>\n",
       "      <td>1063</td>\n",
       "      <td>14091</td>\n",
       "      <td>0.075438</td>\n",
       "    </tr>\n",
       "    <tr>\n",
       "      <th>1</th>\n",
       "      <td>444</td>\n",
       "      <td>4808</td>\n",
       "      <td>0.092346</td>\n",
       "    </tr>\n",
       "    <tr>\n",
       "      <th>2</th>\n",
       "      <td>194</td>\n",
       "      <td>2052</td>\n",
       "      <td>0.094542</td>\n",
       "    </tr>\n",
       "  </tbody>\n",
       "</table>\n",
       "</div>"
      ],
      "text/plain": [
       "                  Всего должников  Всего кредитополучателей  Доля должников\n",
       "Количество детей                                                           \n",
       "0                            1063                     14091        0.075438\n",
       "1                             444                      4808        0.092346\n",
       "2                             194                      2052        0.094542"
      ]
     },
     "execution_count": 24,
     "metadata": {},
     "output_type": "execute_result"
    }
   ],
   "source": [
    "pivot_children.head(3)"
   ]
  },
  {
   "cell_type": "markdown",
   "id": "4e70f4f1",
   "metadata": {
    "deletable": false,
    "id": "3a6b99ec"
   },
   "source": [
    "**Вывод:** "
   ]
  },
  {
   "cell_type": "markdown",
   "id": "edeb3fb7",
   "metadata": {},
   "source": [
    "Теперь мы можем сделать вывод, что зависимость возврата кредита в срок от количества детей действительно существует. Так семьи, в которых 5 детей, всегда возвращают кредит в срок, но количество кредитополучателей с 5 детьми очень отличается от кредитополучателей с другим количеством детей. Поэтому возьмём выборку из предыдущего шага и посмотрим, что в семьях без детей всего 7 % должников, а в семьях, где есть дети этот процент увеличивается до 9%, но это не означает, что семьям с детьми не следует выдавать кредиты, просто у семей с детьми больше финансовых затрат, нежели у семей без детей."
   ]
  },
  {
   "cell_type": "markdown",
   "id": "3b1af3f8",
   "metadata": {
    "deletable": false,
    "editable": false,
    "id": "97be82ca"
   },
   "source": [
    "#### 3.2 Есть ли зависимость между семейным положением и возвратом кредита в срок?"
   ]
  },
  {
   "cell_type": "markdown",
   "id": "cb8f34cc",
   "metadata": {},
   "source": [
    "Выше мы выясняли зависимость возврата кредита в срок от количества детей, по аналогии посчитаем следующие показатели."
   ]
  },
  {
   "cell_type": "code",
   "execution_count": 25,
   "id": "ff799e8c",
   "metadata": {
    "deletable": false,
    "id": "dc3f7ee8"
   },
   "outputs": [
    {
     "data": {
      "text/html": [
       "<div>\n",
       "<style scoped>\n",
       "    .dataframe tbody tr th:only-of-type {\n",
       "        vertical-align: middle;\n",
       "    }\n",
       "\n",
       "    .dataframe tbody tr th {\n",
       "        vertical-align: top;\n",
       "    }\n",
       "\n",
       "    .dataframe thead th {\n",
       "        text-align: right;\n",
       "    }\n",
       "</style>\n",
       "<table border=\"1\" class=\"dataframe\">\n",
       "  <thead>\n",
       "    <tr style=\"text-align: right;\">\n",
       "      <th></th>\n",
       "      <th>Всего должников</th>\n",
       "      <th>Всего кредитополучателей</th>\n",
       "      <th>Доля должников</th>\n",
       "    </tr>\n",
       "    <tr>\n",
       "      <th>Семейное положение</th>\n",
       "      <th></th>\n",
       "      <th></th>\n",
       "      <th></th>\n",
       "    </tr>\n",
       "  </thead>\n",
       "  <tbody>\n",
       "    <tr>\n",
       "      <th>Не женат / не замужем</th>\n",
       "      <td>273</td>\n",
       "      <td>2796</td>\n",
       "      <td>0.097639</td>\n",
       "    </tr>\n",
       "    <tr>\n",
       "      <th>в разводе</th>\n",
       "      <td>84</td>\n",
       "      <td>1189</td>\n",
       "      <td>0.070648</td>\n",
       "    </tr>\n",
       "    <tr>\n",
       "      <th>вдовец / вдова</th>\n",
       "      <td>63</td>\n",
       "      <td>951</td>\n",
       "      <td>0.066246</td>\n",
       "    </tr>\n",
       "    <tr>\n",
       "      <th>гражданский брак</th>\n",
       "      <td>385</td>\n",
       "      <td>4134</td>\n",
       "      <td>0.093130</td>\n",
       "    </tr>\n",
       "    <tr>\n",
       "      <th>женат / замужем</th>\n",
       "      <td>927</td>\n",
       "      <td>12261</td>\n",
       "      <td>0.075606</td>\n",
       "    </tr>\n",
       "  </tbody>\n",
       "</table>\n",
       "</div>"
      ],
      "text/plain": [
       "                       Всего должников  Всего кредитополучателей  \\\n",
       "Семейное положение                                                 \n",
       "Не женат / не замужем              273                      2796   \n",
       "в разводе                           84                      1189   \n",
       "вдовец / вдова                      63                       951   \n",
       "гражданский брак                   385                      4134   \n",
       "женат / замужем                    927                     12261   \n",
       "\n",
       "                       Доля должников  \n",
       "Семейное положение                     \n",
       "Не женат / не замужем        0.097639  \n",
       "в разводе                    0.070648  \n",
       "вдовец / вдова               0.066246  \n",
       "гражданский брак             0.093130  \n",
       "женат / замужем              0.075606  "
      ]
     },
     "execution_count": 25,
     "metadata": {},
     "output_type": "execute_result"
    }
   ],
   "source": [
    "pivot_family_status = pd.pivot_table(data, index = ['family_status'], values = 'debt', aggfunc = ['sum','count','mean'])\n",
    "pivot_family_status = pivot_family_status.droplevel(1,axis = 1)\n",
    "pivot_family_status = pivot_family_status.rename(columns = {'sum':'Всего должников','count':'Всего кредитополучателей','mean':'Доля должников'})\n",
    "pivot_family_status.index.rename('Семейное положение', inplace = True)\n",
    "pivot_family_status"
   ]
  },
  {
   "cell_type": "markdown",
   "id": "cab4f889",
   "metadata": {
    "deletable": false,
    "id": "1cef7837"
   },
   "source": [
    "**Вывод:** "
   ]
  },
  {
   "cell_type": "markdown",
   "id": "3636b8b7",
   "metadata": {},
   "source": [
    "Из таблицы видно, что доля должников с семейным статусом **\"вдовец/вдова\"** ниже чем доля должников с другими семейными статусами. Из этого можно сделать вывод, что люди с данным семейным статусом ответственнее относятся к возврату кредита в срок. Но, если посмотреть на количество кредитополучателей с данным статусом, можно увидеть, что данный показатель является самым маленьким, поэтому не справедливо делать вывод только по данной метрике. Зато из таблицы явно видно, что кредитополучатели со статусом \"не женат/не замужем\" и \"гражданский брак\" чаще имеют задолженности по кредиту, чем люди со статусом \"в разводе\" и \"женат/замужем\". "
   ]
  },
  {
   "cell_type": "markdown",
   "id": "d63e4578",
   "metadata": {
    "deletable": false,
    "editable": false,
    "id": "1e8b2fca"
   },
   "source": [
    "#### 3.3 Есть ли зависимость между уровнем дохода и возвратом кредита в срок?"
   ]
  },
  {
   "cell_type": "code",
   "execution_count": 26,
   "id": "4392b94a",
   "metadata": {
    "deletable": false,
    "id": "cd7e3720"
   },
   "outputs": [
    {
     "data": {
      "text/html": [
       "<div>\n",
       "<style scoped>\n",
       "    .dataframe tbody tr th:only-of-type {\n",
       "        vertical-align: middle;\n",
       "    }\n",
       "\n",
       "    .dataframe tbody tr th {\n",
       "        vertical-align: top;\n",
       "    }\n",
       "\n",
       "    .dataframe thead th {\n",
       "        text-align: right;\n",
       "    }\n",
       "</style>\n",
       "<table border=\"1\" class=\"dataframe\">\n",
       "  <thead>\n",
       "    <tr style=\"text-align: right;\">\n",
       "      <th></th>\n",
       "      <th>Всего должников</th>\n",
       "      <th>Всего кредитополучателей</th>\n",
       "      <th>Доля должников</th>\n",
       "    </tr>\n",
       "    <tr>\n",
       "      <th>Уровень дохода</th>\n",
       "      <th></th>\n",
       "      <th></th>\n",
       "      <th></th>\n",
       "    </tr>\n",
       "  </thead>\n",
       "  <tbody>\n",
       "    <tr>\n",
       "      <th>A</th>\n",
       "      <td>2</td>\n",
       "      <td>25</td>\n",
       "      <td>0.080000</td>\n",
       "    </tr>\n",
       "    <tr>\n",
       "      <th>B</th>\n",
       "      <td>354</td>\n",
       "      <td>5014</td>\n",
       "      <td>0.070602</td>\n",
       "    </tr>\n",
       "    <tr>\n",
       "      <th>C</th>\n",
       "      <td>1353</td>\n",
       "      <td>15921</td>\n",
       "      <td>0.084982</td>\n",
       "    </tr>\n",
       "    <tr>\n",
       "      <th>D</th>\n",
       "      <td>21</td>\n",
       "      <td>349</td>\n",
       "      <td>0.060172</td>\n",
       "    </tr>\n",
       "    <tr>\n",
       "      <th>E</th>\n",
       "      <td>2</td>\n",
       "      <td>22</td>\n",
       "      <td>0.090909</td>\n",
       "    </tr>\n",
       "  </tbody>\n",
       "</table>\n",
       "</div>"
      ],
      "text/plain": [
       "                Всего должников  Всего кредитополучателей  Доля должников\n",
       "Уровень дохода                                                           \n",
       "A                             2                        25        0.080000\n",
       "B                           354                      5014        0.070602\n",
       "C                          1353                     15921        0.084982\n",
       "D                            21                       349        0.060172\n",
       "E                             2                        22        0.090909"
      ]
     },
     "execution_count": 26,
     "metadata": {},
     "output_type": "execute_result"
    }
   ],
   "source": [
    "pivot_total = pd.pivot_table(data, index = ['total_income_category'], values = 'debt', aggfunc = ['sum','count','mean'])\n",
    "pivot_total = pivot_total.droplevel(1,axis = 1)\n",
    "pivot_total = pivot_total.rename(columns = {'sum':'Всего должников','count':'Всего кредитополучателей','mean':'Доля должников'})\n",
    "pivot_total.index.rename('Уровень дохода', inplace = True)\n",
    "pivot_total"
   ]
  },
  {
   "cell_type": "markdown",
   "id": "721404dc",
   "metadata": {},
   "source": [
    "Напомним, что категории соответствуют уровням дохода:\n",
    "\n",
    "'A'   —  1000001 и выше \\\n",
    "'B'   —  200001–1000000 \\\n",
    "'C'   —  50001–200000 \\\n",
    "'D'   —  30001–50000 \\\n",
    "'E'   —  0–30000"
   ]
  },
  {
   "cell_type": "markdown",
   "id": "397e2a6c",
   "metadata": {},
   "source": [
    "Рассчитаем среднюю долю должников по всем уровням дохода:"
   ]
  },
  {
   "cell_type": "code",
   "execution_count": 27,
   "id": "716b55d3",
   "metadata": {},
   "outputs": [
    {
     "data": {
      "text/plain": [
       "0.07733308466327596"
      ]
     },
     "execution_count": 27,
     "metadata": {},
     "output_type": "execute_result"
    }
   ],
   "source": [
    "pivot_total['Доля должников'].mean()"
   ]
  },
  {
   "cell_type": "markdown",
   "id": "bcdae429",
   "metadata": {
    "deletable": false,
    "id": "e8593def"
   },
   "source": [
    "**Вывод:** "
   ]
  },
  {
   "cell_type": "markdown",
   "id": "77ec3249",
   "metadata": {},
   "source": [
    "Из таблицы видно, что самыми малочисленными являются категории \"А\" и \"Е\", поэтому  доля должников в них достаточно велика. Если же взять наиболее многочисленную категорию - \"С\", то можно сказать, что люди с этим уровнем дохода чаще берут кредиты и, что доля должников в ней приближается к категории \"Е\", что является странным для людей с данным уровнем дохода. Самыми дисциплинированными оказались люди с доходом от 30 до 50 тысяч, но их не так много. Из расчета средней доли должников по всем уровням дохода видно, что только 8 % кредитополучателей не возвращают кредит в срок, а это очень хороший результат."
   ]
  },
  {
   "cell_type": "markdown",
   "id": "cad026c3",
   "metadata": {
    "deletable": false,
    "editable": false,
    "id": "99ecbd1f"
   },
   "source": [
    "#### 3.4 Как разные цели кредита влияют на его возврат в срок?"
   ]
  },
  {
   "cell_type": "code",
   "execution_count": 28,
   "id": "cf17c6e3",
   "metadata": {
    "deletable": false,
    "id": "2b687290"
   },
   "outputs": [
    {
     "data": {
      "text/html": [
       "<div>\n",
       "<style scoped>\n",
       "    .dataframe tbody tr th:only-of-type {\n",
       "        vertical-align: middle;\n",
       "    }\n",
       "\n",
       "    .dataframe tbody tr th {\n",
       "        vertical-align: top;\n",
       "    }\n",
       "\n",
       "    .dataframe thead th {\n",
       "        text-align: right;\n",
       "    }\n",
       "</style>\n",
       "<table border=\"1\" class=\"dataframe\">\n",
       "  <thead>\n",
       "    <tr style=\"text-align: right;\">\n",
       "      <th></th>\n",
       "      <th>Всего должников</th>\n",
       "      <th>Всего кредитополучателей</th>\n",
       "      <th>Доля должников</th>\n",
       "    </tr>\n",
       "    <tr>\n",
       "      <th>Цель кредита</th>\n",
       "      <th></th>\n",
       "      <th></th>\n",
       "      <th></th>\n",
       "    </tr>\n",
       "  </thead>\n",
       "  <tbody>\n",
       "    <tr>\n",
       "      <th>операции с автомобилем</th>\n",
       "      <td>400</td>\n",
       "      <td>4279</td>\n",
       "      <td>0.093480</td>\n",
       "    </tr>\n",
       "    <tr>\n",
       "      <th>операции с недвижимостью</th>\n",
       "      <td>780</td>\n",
       "      <td>10751</td>\n",
       "      <td>0.072551</td>\n",
       "    </tr>\n",
       "    <tr>\n",
       "      <th>получение образования</th>\n",
       "      <td>369</td>\n",
       "      <td>3988</td>\n",
       "      <td>0.092528</td>\n",
       "    </tr>\n",
       "    <tr>\n",
       "      <th>проведение свадьбы</th>\n",
       "      <td>183</td>\n",
       "      <td>2313</td>\n",
       "      <td>0.079118</td>\n",
       "    </tr>\n",
       "  </tbody>\n",
       "</table>\n",
       "</div>"
      ],
      "text/plain": [
       "                          Всего должников  Всего кредитополучателей  \\\n",
       "Цель кредита                                                          \n",
       "операции с автомобилем                400                      4279   \n",
       "операции с недвижимостью              780                     10751   \n",
       "получение образования                 369                      3988   \n",
       "проведение свадьбы                    183                      2313   \n",
       "\n",
       "                          Доля должников  \n",
       "Цель кредита                              \n",
       "операции с автомобилем          0.093480  \n",
       "операции с недвижимостью        0.072551  \n",
       "получение образования           0.092528  \n",
       "проведение свадьбы              0.079118  "
      ]
     },
     "execution_count": 28,
     "metadata": {},
     "output_type": "execute_result"
    }
   ],
   "source": [
    "pivot_purpose = pd.pivot_table(data, index = ['purpose_category'], values = 'debt', aggfunc = ['sum','count','mean'])\n",
    "pivot_purpose = pivot_purpose.droplevel(1,axis = 1)\n",
    "pivot_purpose = pivot_purpose.rename(columns = {'sum':'Всего должников','count':'Всего кредитополучателей','mean':'Доля должников'})\n",
    "pivot_purpose.index.rename('Цель кредита', inplace = True)\n",
    "pivot_purpose"
   ]
  },
  {
   "cell_type": "markdown",
   "id": "c223961d",
   "metadata": {
    "deletable": false,
    "id": "b4bb2ce6"
   },
   "source": [
    "**Вывод:** "
   ]
  },
  {
   "cell_type": "markdown",
   "id": "f88b7b0b",
   "metadata": {},
   "source": [
    "Из таблицы видно, что кредит, взятый на проведение свадьбы или операции с недвижимостью, чаще возвращается людьми в срок, нежели кредит, взятый на автомобиль или образование. Это можно объяснить тем, что, когда человек приобретает автомобиль или получает образование, у него могут возникнуть дополнительные расходы, что приостанавливает возврат кредита."
   ]
  },
  {
   "cell_type": "markdown",
   "id": "a54a6f9d",
   "metadata": {
    "deletable": false,
    "editable": false,
    "id": "09c3ac4c"
   },
   "source": [
    "#### 3.5 Приведите возможные причины появления пропусков в исходных данных."
   ]
  },
  {
   "cell_type": "markdown",
   "id": "dcbc8758",
   "metadata": {
    "deletable": false,
    "id": "9da2ceda"
   },
   "source": [
    "*Ответ:* Возможны две причины пропусков: 1. Проблемы технического характера, например, не записались данные из-за отключения электричества и 2. Человеческий фактор, например, человек мог не увидеть пропуск или подумать, что он перезаписал пропуск в ячейке, но не дописал в алгоритме букву, и поэтому ничего не записалось."
   ]
  },
  {
   "cell_type": "markdown",
   "id": "4d3d6221",
   "metadata": {
    "deletable": false,
    "editable": false,
    "id": "7b0487d6"
   },
   "source": [
    "#### 3.6 Объясните, почему заполнить пропуски медианным значением — лучшее решение для количественных переменных."
   ]
  },
  {
   "cell_type": "markdown",
   "id": "8c6fd5c7",
   "metadata": {
    "deletable": false,
    "id": "7ecf2b8e"
   },
   "source": [
    "*Ответ:* Пропуски в количественных переменных лучше заполнять характерными значениями, характеризующими состояние выборки, — набора данных, выбранных для проведения исследования. Чтобы примерно оценить типичные значения выборки, годятся среднее арифметическое или медиана. \n",
    "- Среднее арифметическое — это сумма всех значений, поделённая на количество значений (mean()).\n",
    "- Медиана — это такое число в выборке, что ровно половина элементов больше него, а другая половина — меньше (median()). \n",
    "\n",
    "В данном датафрейме был выбран метод заполнения недостающих значений медианным значением, так как мы заполняли пропуски для разных категорий подчиненных и в этих категориях данные неоднородны, и среди данных есть выделяющиеся из большинства значения.\n"
   ]
  },
  {
   "cell_type": "code",
   "execution_count": 32,
   "id": "e9794f52",
   "metadata": {},
   "outputs": [
    {
     "data": {
      "image/png": "[encoded data removed]",
      "text/plain": [
       "<Figure size 1080x360 with 1 Axes>"
      ]
     },
     "metadata": {
      "needs_background": "light"
     },
     "output_type": "display_data"
    }
   ],
   "source": [
    "#Код ревьюера\n",
    "import matplotlib.pyplot as plt\n",
    "\n",
    "plt.figure(figsize = (15,5))\n",
    "\n",
    "ax = data['days_employed'].hist(bins = 40)\n",
    "\n",
    "ax.axvline(x = data['days_employed'].mean(), color = 'r', linestyle = 'dashed', label = 'mean')\n",
    "ax.axvline(x = data['days_employed'].median(), color = 'y', linestyle = 'dashed', label = 'median')\n",
    "plt.legend()\n",
    "plt.title('Гистограмма по столбцу days_employed с медианой и средним')\n",
    "plt.show()"
   ]
  },
  {
   "cell_type": "markdown",
   "id": "6a296fb6",
   "metadata": {},
   "source": [
    "## Расчеты перед выводом"
   ]
  },
  {
   "cell_type": "markdown",
   "id": "f1b79dab",
   "metadata": {},
   "source": [
    "Создадим таблицу, где будет видна средняя доля должников для каждого из условий. Для удобства перееименуем строки для первого условия в \"Дети\", для 2,3,4 в \"Семья\", \"Доход\" и \"Цель\" соответственно."
   ]
  },
  {
   "cell_type": "code",
   "execution_count": 29,
   "id": "94bcba0f",
   "metadata": {},
   "outputs": [
    {
     "name": "stdout",
     "output_type": "stream",
     "text": [
      "       Доля должников\n",
      "Дети         0.073618\n",
      "Семья        0.080654\n",
      "Доход        0.077333\n",
      "Цель         0.084419\n"
     ]
    }
   ],
   "source": [
    "conclusion = pd.DataFrame([[pivot_children['Доля должников'].mean()],\n",
    "                          [ pivot_family_status['Доля должников'].mean()],\n",
    "                          [ pivot_total['Доля должников'].mean()],\n",
    "                          [pivot_purpose['Доля должников'].mean()]],\n",
    "index = ['Дети','Семья','Доход','Цель'],\n",
    "columns = ['Доля должников'])\n",
    "print(conclusion)"
   ]
  },
  {
   "cell_type": "markdown",
   "id": "74d1968e",
   "metadata": {},
   "source": [
    "Рассчитаем среднее значение доли должников по всем категориям:"
   ]
  },
  {
   "cell_type": "code",
   "execution_count": 30,
   "id": "062c156b",
   "metadata": {},
   "outputs": [
    {
     "data": {
      "text/plain": [
       "0.07900590438928098"
      ]
     },
     "execution_count": 30,
     "metadata": {},
     "output_type": "execute_result"
    }
   ],
   "source": [
    "conclusion['Доля должников'].mean()"
   ]
  },
  {
   "cell_type": "markdown",
   "id": "46cc20e4",
   "metadata": {
    "deletable": false,
    "editable": false,
    "id": "6db5255a"
   },
   "source": [
    "### Шаг 4: общий вывод."
   ]
  },
  {
   "cell_type": "markdown",
   "id": "e090db5a",
   "metadata": {
    "deletable": false,
    "id": "bad65432"
   },
   "source": [
    "Напишите ваш общий вывод."
   ]
  },
  {
   "cell_type": "markdown",
   "id": "5d558371",
   "metadata": {},
   "source": [
    "На основе данных о статистике платёжеспособности клиентов, данных нам заказчиком, проведя работу по предобработке данных, \n",
    "мы исследоввали зависимость 4 критериев на возврат кредита в срок:\n",
    "1. Количество детей\n",
    "2. Семейное положение\n",
    "3. Уровень дохода\n",
    "4. Цель кредита"
   ]
  },
  {
   "cell_type": "markdown",
   "id": "fff960af",
   "metadata": {},
   "source": [
    "Проведя данное исследование, можно сделать вывод:\n",
    "1. Каждый из критериев влияет на возврат кредита в срок в большей или меньшей степени.\n",
    "2. Доля должников по каждой категории не превышает 10 %, что указывает на надежность заемщиков.\n",
    "3. Среднее значение доли должников банка по всем категориям составляет всего 8%, что говорит об ответственном отношении клиентов банка к финансам.\n",
    "4. Пересмотреть градацию по доходам для получения более сбалансированной выдержки."
   ]
  }
 ],
 "metadata": {
  "ExecuteTimeLog": [
   {
    "duration": 51,
    "start_time": "2022-10-08T19:02:48.210Z"
   },
   {
    "duration": 523,
    "start_time": "2022-10-08T19:03:02.640Z"
   },
   {
    "duration": 25,
    "start_time": "2022-10-08T19:03:03.166Z"
   },
   {
    "duration": 17,
    "start_time": "2022-10-08T19:03:03.193Z"
   },
   {
    "duration": 11,
    "start_time": "2022-10-08T19:03:03.212Z"
   },
   {
    "duration": 37,
    "start_time": "2022-10-08T19:03:03.254Z"
   },
   {
    "duration": 4,
    "start_time": "2022-10-08T19:03:03.292Z"
   },
   {
    "duration": 17,
    "start_time": "2022-10-08T19:03:03.298Z"
   },
   {
    "duration": 5,
    "start_time": "2022-10-08T19:03:03.318Z"
   },
   {
    "duration": 39,
    "start_time": "2022-10-08T19:03:03.325Z"
   },
   {
    "duration": 7,
    "start_time": "2022-10-08T19:03:03.366Z"
   },
   {
    "duration": 44,
    "start_time": "2022-10-08T19:03:03.375Z"
   },
   {
    "duration": 10,
    "start_time": "2022-10-08T19:03:03.421Z"
   },
   {
    "duration": 21,
    "start_time": "2022-10-08T19:03:03.433Z"
   },
   {
    "duration": 15,
    "start_time": "2022-10-08T19:03:03.458Z"
   },
   {
    "duration": 26,
    "start_time": "2022-10-08T19:03:03.475Z"
   },
   {
    "duration": 23,
    "start_time": "2022-10-08T19:03:03.502Z"
   },
   {
    "duration": 28,
    "start_time": "2022-10-08T19:03:03.527Z"
   },
   {
    "duration": 15,
    "start_time": "2022-10-08T19:03:03.557Z"
   },
   {
    "duration": 6,
    "start_time": "2022-10-08T19:03:03.574Z"
   },
   {
    "duration": 4,
    "start_time": "2022-10-08T19:03:03.582Z"
   },
   {
    "duration": 40,
    "start_time": "2022-10-08T19:03:03.588Z"
   },
   {
    "duration": 25,
    "start_time": "2022-10-08T19:03:03.629Z"
   },
   {
    "duration": 7,
    "start_time": "2022-10-08T19:03:03.656Z"
   },
   {
    "duration": 9,
    "start_time": "2022-10-08T19:03:03.665Z"
   },
   {
    "duration": 8,
    "start_time": "2022-10-08T19:03:03.676Z"
   },
   {
    "duration": 638,
    "start_time": "2022-10-10T06:13:53.250Z"
   },
   {
    "duration": 19,
    "start_time": "2022-10-10T06:13:53.890Z"
   },
   {
    "duration": 15,
    "start_time": "2022-10-10T06:13:53.911Z"
   },
   {
    "duration": 9,
    "start_time": "2022-10-10T06:13:53.928Z"
   },
   {
    "duration": 31,
    "start_time": "2022-10-10T06:13:53.939Z"
   },
   {
    "duration": 3,
    "start_time": "2022-10-10T06:13:53.972Z"
   },
   {
    "duration": 24,
    "start_time": "2022-10-10T06:13:53.977Z"
   },
   {
    "duration": 4,
    "start_time": "2022-10-10T06:13:54.002Z"
   },
   {
    "duration": 17,
    "start_time": "2022-10-10T06:13:54.008Z"
   },
   {
    "duration": 8,
    "start_time": "2022-10-10T06:13:54.027Z"
   },
   {
    "duration": 41,
    "start_time": "2022-10-10T06:13:54.037Z"
   },
   {
    "duration": 23,
    "start_time": "2022-10-10T06:13:54.080Z"
   },
   {
    "duration": 3,
    "start_time": "2022-10-10T06:13:54.105Z"
   },
   {
    "duration": 20,
    "start_time": "2022-10-10T06:13:54.112Z"
   },
   {
    "duration": 20,
    "start_time": "2022-10-10T06:13:54.134Z"
   },
   {
    "duration": 19,
    "start_time": "2022-10-10T06:13:54.156Z"
   },
   {
    "duration": 9,
    "start_time": "2022-10-10T06:13:54.177Z"
   },
   {
    "duration": 12,
    "start_time": "2022-10-10T06:13:54.201Z"
   },
   {
    "duration": 11,
    "start_time": "2022-10-10T06:13:54.214Z"
   },
   {
    "duration": 5,
    "start_time": "2022-10-10T06:13:54.227Z"
   },
   {
    "duration": 36,
    "start_time": "2022-10-10T06:13:54.233Z"
   },
   {
    "duration": 3,
    "start_time": "2022-10-10T06:13:54.271Z"
   },
   {
    "duration": 9,
    "start_time": "2022-10-10T06:13:54.275Z"
   },
   {
    "duration": 5,
    "start_time": "2022-10-10T06:13:54.285Z"
   },
   {
    "duration": 3,
    "start_time": "2022-10-10T06:13:54.299Z"
   },
   {
    "duration": 7,
    "start_time": "2022-10-10T06:14:43.138Z"
   },
   {
    "duration": 8,
    "start_time": "2022-10-10T06:15:13.714Z"
   },
   {
    "duration": 7,
    "start_time": "2022-10-10T06:16:05.948Z"
   },
   {
    "duration": 6,
    "start_time": "2022-10-10T06:17:18.737Z"
   },
   {
    "duration": 43,
    "start_time": "2022-10-10T06:17:38.295Z"
   },
   {
    "duration": 56,
    "start_time": "2022-10-10T06:17:42.229Z"
   },
   {
    "duration": 7,
    "start_time": "2022-10-10T06:17:49.069Z"
   },
   {
    "duration": 711,
    "start_time": "2022-10-10T11:27:42.481Z"
   },
   {
    "duration": 21,
    "start_time": "2022-10-10T11:27:43.194Z"
   },
   {
    "duration": 29,
    "start_time": "2022-10-10T11:27:43.216Z"
   },
   {
    "duration": 26,
    "start_time": "2022-10-10T11:27:43.247Z"
   },
   {
    "duration": 61,
    "start_time": "2022-10-10T11:27:43.275Z"
   },
   {
    "duration": 3,
    "start_time": "2022-10-10T11:27:43.338Z"
   },
   {
    "duration": 28,
    "start_time": "2022-10-10T11:27:43.343Z"
   },
   {
    "duration": 29,
    "start_time": "2022-10-10T11:27:43.373Z"
   },
   {
    "duration": 15,
    "start_time": "2022-10-10T11:27:43.404Z"
   },
   {
    "duration": 4,
    "start_time": "2022-10-10T11:27:43.421Z"
   },
   {
    "duration": 32,
    "start_time": "2022-10-10T11:27:43.426Z"
   },
   {
    "duration": 9,
    "start_time": "2022-10-10T11:27:43.459Z"
   },
   {
    "duration": 5,
    "start_time": "2022-10-10T11:27:43.470Z"
   },
   {
    "duration": 29,
    "start_time": "2022-10-10T11:27:43.476Z"
   },
   {
    "duration": 35,
    "start_time": "2022-10-10T11:27:43.506Z"
   },
   {
    "duration": 16,
    "start_time": "2022-10-10T11:27:43.543Z"
   },
   {
    "duration": 12,
    "start_time": "2022-10-10T11:27:43.560Z"
   },
   {
    "duration": 34,
    "start_time": "2022-10-10T11:27:43.573Z"
   },
   {
    "duration": 31,
    "start_time": "2022-10-10T11:27:43.608Z"
   },
   {
    "duration": 17,
    "start_time": "2022-10-10T11:27:43.640Z"
   },
   {
    "duration": 43,
    "start_time": "2022-10-10T11:27:43.659Z"
   },
   {
    "duration": 17,
    "start_time": "2022-10-10T11:27:43.704Z"
   },
   {
    "duration": 24,
    "start_time": "2022-10-10T11:27:43.722Z"
   },
   {
    "duration": 22,
    "start_time": "2022-10-10T11:27:43.747Z"
   },
   {
    "duration": 25,
    "start_time": "2022-10-10T11:27:43.770Z"
   },
   {
    "duration": 77,
    "start_time": "2022-10-10T11:27:56.388Z"
   },
   {
    "duration": 86,
    "start_time": "2022-10-10T11:28:27.337Z"
   },
   {
    "duration": 116,
    "start_time": "2022-10-10T11:30:00.450Z"
   },
   {
    "duration": 70,
    "start_time": "2022-10-10T11:30:47.035Z"
   },
   {
    "duration": 21,
    "start_time": "2022-10-10T11:31:00.370Z"
   },
   {
    "duration": 15,
    "start_time": "2022-10-10T11:31:29.363Z"
   },
   {
    "duration": 8,
    "start_time": "2022-10-10T11:32:44.744Z"
   },
   {
    "duration": 7,
    "start_time": "2022-10-10T11:33:10.825Z"
   },
   {
    "duration": 8,
    "start_time": "2022-10-10T11:36:06.823Z"
   },
   {
    "duration": 14,
    "start_time": "2022-10-10T11:37:00.920Z"
   },
   {
    "duration": 20,
    "start_time": "2022-10-10T11:37:23.692Z"
   },
   {
    "duration": 19,
    "start_time": "2022-10-10T11:37:32.516Z"
   },
   {
    "duration": 23,
    "start_time": "2022-10-10T11:38:03.063Z"
   },
   {
    "duration": 22,
    "start_time": "2022-10-10T11:49:27.323Z"
   },
   {
    "duration": 24,
    "start_time": "2022-10-10T11:50:13.373Z"
   },
   {
    "duration": 22,
    "start_time": "2022-10-10T11:50:43.127Z"
   },
   {
    "duration": 26,
    "start_time": "2022-10-10T11:51:24.258Z"
   },
   {
    "duration": 23,
    "start_time": "2022-10-10T11:52:10.562Z"
   },
   {
    "duration": 26,
    "start_time": "2022-10-10T11:58:21.627Z"
   },
   {
    "duration": 505,
    "start_time": "2022-10-10T16:31:10.833Z"
   },
   {
    "duration": 23,
    "start_time": "2022-10-10T16:31:11.340Z"
   },
   {
    "duration": 13,
    "start_time": "2022-10-10T16:31:11.365Z"
   },
   {
    "duration": 8,
    "start_time": "2022-10-10T16:31:11.380Z"
   },
   {
    "duration": 49,
    "start_time": "2022-10-10T16:31:11.389Z"
   },
   {
    "duration": 4,
    "start_time": "2022-10-10T16:31:11.440Z"
   },
   {
    "duration": 15,
    "start_time": "2022-10-10T16:31:11.446Z"
   },
   {
    "duration": 20,
    "start_time": "2022-10-10T16:31:11.462Z"
   },
   {
    "duration": 10,
    "start_time": "2022-10-10T16:31:11.485Z"
   },
   {
    "duration": 6,
    "start_time": "2022-10-10T16:31:11.497Z"
   },
   {
    "duration": 41,
    "start_time": "2022-10-10T16:31:11.505Z"
   },
   {
    "duration": 12,
    "start_time": "2022-10-10T16:31:11.548Z"
   },
   {
    "duration": 8,
    "start_time": "2022-10-10T16:31:11.562Z"
   },
   {
    "duration": 20,
    "start_time": "2022-10-10T16:31:11.573Z"
   },
   {
    "duration": 41,
    "start_time": "2022-10-10T16:31:11.595Z"
   },
   {
    "duration": 18,
    "start_time": "2022-10-10T16:31:11.638Z"
   },
   {
    "duration": 4,
    "start_time": "2022-10-10T16:31:11.658Z"
   },
   {
    "duration": 26,
    "start_time": "2022-10-10T16:31:11.664Z"
   },
   {
    "duration": 32,
    "start_time": "2022-10-10T16:31:11.692Z"
   },
   {
    "duration": 12,
    "start_time": "2022-10-10T16:31:11.727Z"
   },
   {
    "duration": 44,
    "start_time": "2022-10-10T16:31:11.741Z"
   },
   {
    "duration": 26,
    "start_time": "2022-10-10T16:31:11.787Z"
   },
   {
    "duration": 3,
    "start_time": "2022-10-10T16:31:11.815Z"
   },
   {
    "duration": 8,
    "start_time": "2022-10-10T16:31:11.821Z"
   },
   {
    "duration": 12,
    "start_time": "2022-10-10T16:31:11.830Z"
   },
   {
    "duration": 26,
    "start_time": "2022-10-10T16:32:04.432Z"
   },
   {
    "duration": 21,
    "start_time": "2022-10-10T16:39:52.503Z"
   },
   {
    "duration": 25,
    "start_time": "2022-10-10T16:40:25.151Z"
   },
   {
    "duration": 23,
    "start_time": "2022-10-10T16:40:51.874Z"
   },
   {
    "duration": 19,
    "start_time": "2022-10-10T16:53:24.152Z"
   },
   {
    "duration": 79,
    "start_time": "2022-10-10T16:54:29.422Z"
   },
   {
    "duration": 26,
    "start_time": "2022-10-10T16:56:19.002Z"
   },
   {
    "duration": 35,
    "start_time": "2022-10-10T17:01:42.015Z"
   },
   {
    "duration": 27,
    "start_time": "2022-10-10T17:03:51.023Z"
   },
   {
    "duration": 32,
    "start_time": "2022-10-10T18:25:27.534Z"
   },
   {
    "duration": 28,
    "start_time": "2022-10-10T18:26:22.853Z"
   },
   {
    "duration": 30,
    "start_time": "2022-10-10T18:27:13.087Z"
   },
   {
    "duration": 30,
    "start_time": "2022-10-10T18:27:16.310Z"
   },
   {
    "duration": 43,
    "start_time": "2022-10-10T18:27:35.690Z"
   },
   {
    "duration": 37,
    "start_time": "2022-10-10T18:28:20.233Z"
   },
   {
    "duration": 707,
    "start_time": "2022-10-11T10:45:21.721Z"
   },
   {
    "duration": 29,
    "start_time": "2022-10-11T10:45:22.429Z"
   },
   {
    "duration": 15,
    "start_time": "2022-10-11T10:45:22.459Z"
   },
   {
    "duration": 43,
    "start_time": "2022-10-11T10:45:22.476Z"
   },
   {
    "duration": 49,
    "start_time": "2022-10-11T10:45:22.521Z"
   },
   {
    "duration": 4,
    "start_time": "2022-10-11T10:45:22.571Z"
   },
   {
    "duration": 43,
    "start_time": "2022-10-11T10:45:22.577Z"
   },
   {
    "duration": 23,
    "start_time": "2022-10-11T10:45:22.622Z"
   },
   {
    "duration": 19,
    "start_time": "2022-10-11T10:45:22.647Z"
   },
   {
    "duration": 5,
    "start_time": "2022-10-11T10:45:22.672Z"
   },
   {
    "duration": 46,
    "start_time": "2022-10-11T10:45:22.679Z"
   },
   {
    "duration": 11,
    "start_time": "2022-10-11T10:45:22.727Z"
   },
   {
    "duration": 7,
    "start_time": "2022-10-11T10:45:22.740Z"
   },
   {
    "duration": 15,
    "start_time": "2022-10-11T10:45:22.748Z"
   },
   {
    "duration": 24,
    "start_time": "2022-10-11T10:45:22.765Z"
   },
   {
    "duration": 35,
    "start_time": "2022-10-11T10:45:22.791Z"
   },
   {
    "duration": 4,
    "start_time": "2022-10-11T10:45:22.828Z"
   },
   {
    "duration": 15,
    "start_time": "2022-10-11T10:45:22.833Z"
   },
   {
    "duration": 18,
    "start_time": "2022-10-11T10:45:22.849Z"
   },
   {
    "duration": 9,
    "start_time": "2022-10-11T10:45:22.868Z"
   },
   {
    "duration": 39,
    "start_time": "2022-10-11T10:45:22.879Z"
   },
   {
    "duration": 27,
    "start_time": "2022-10-11T10:45:22.920Z"
   },
   {
    "duration": 3,
    "start_time": "2022-10-11T10:45:22.948Z"
   },
   {
    "duration": 6,
    "start_time": "2022-10-11T10:45:22.952Z"
   },
   {
    "duration": 6,
    "start_time": "2022-10-11T10:45:22.959Z"
   },
   {
    "duration": 20,
    "start_time": "2022-10-11T10:46:46.879Z"
   },
   {
    "duration": 26,
    "start_time": "2022-10-11T10:56:05.144Z"
   },
   {
    "duration": 12,
    "start_time": "2022-10-11T11:00:41.305Z"
   },
   {
    "duration": 38,
    "start_time": "2022-10-11T11:09:35.177Z"
   },
   {
    "duration": 359,
    "start_time": "2022-10-11T11:10:03.470Z"
   },
   {
    "duration": 40,
    "start_time": "2022-10-11T11:10:14.401Z"
   },
   {
    "duration": 40,
    "start_time": "2022-10-11T11:14:28.852Z"
   },
   {
    "duration": 32,
    "start_time": "2022-10-11T11:17:51.931Z"
   },
   {
    "duration": 32,
    "start_time": "2022-10-11T11:38:54.124Z"
   },
   {
    "duration": 34,
    "start_time": "2022-10-11T11:41:48.499Z"
   },
   {
    "duration": 5,
    "start_time": "2022-10-11T11:53:50.557Z"
   },
   {
    "duration": 5,
    "start_time": "2022-10-11T11:55:00.083Z"
   },
   {
    "duration": 4,
    "start_time": "2022-10-11T11:55:44.909Z"
   },
   {
    "duration": 5,
    "start_time": "2022-10-11T12:02:37.212Z"
   },
   {
    "duration": 6,
    "start_time": "2022-10-11T12:03:27.796Z"
   },
   {
    "duration": 5,
    "start_time": "2022-10-11T12:04:02.615Z"
   },
   {
    "duration": 5,
    "start_time": "2022-10-11T12:04:36.958Z"
   },
   {
    "duration": 78,
    "start_time": "2022-10-11T12:04:57.390Z"
   },
   {
    "duration": 6,
    "start_time": "2022-10-11T12:05:06.231Z"
   },
   {
    "duration": 4,
    "start_time": "2022-10-11T12:05:18.000Z"
   },
   {
    "duration": 5,
    "start_time": "2022-10-11T12:07:21.249Z"
   },
   {
    "duration": 7,
    "start_time": "2022-10-11T12:07:24.734Z"
   },
   {
    "duration": 6,
    "start_time": "2022-10-11T12:07:27.859Z"
   },
   {
    "duration": 50,
    "start_time": "2022-10-11T12:10:08.495Z"
   },
   {
    "duration": 4,
    "start_time": "2022-10-11T12:11:42.791Z"
   },
   {
    "duration": 4,
    "start_time": "2022-10-11T12:11:46.162Z"
   },
   {
    "duration": 109,
    "start_time": "2022-10-11T12:11:49.049Z"
   },
   {
    "duration": 4,
    "start_time": "2022-10-11T12:12:04.099Z"
   },
   {
    "duration": 5,
    "start_time": "2022-10-11T12:48:55.756Z"
   },
   {
    "duration": 5,
    "start_time": "2022-10-11T12:49:05.826Z"
   },
   {
    "duration": 5,
    "start_time": "2022-10-11T12:49:13.132Z"
   },
   {
    "duration": 5,
    "start_time": "2022-10-11T12:49:22.146Z"
   },
   {
    "duration": 8,
    "start_time": "2022-10-11T12:50:33.597Z"
   },
   {
    "duration": 5,
    "start_time": "2022-10-11T13:01:50.877Z"
   },
   {
    "duration": 121,
    "start_time": "2022-10-11T13:24:06.295Z"
   },
   {
    "duration": 9,
    "start_time": "2022-10-11T13:46:21.673Z"
   },
   {
    "duration": 7,
    "start_time": "2022-10-11T13:47:54.927Z"
   },
   {
    "duration": 3,
    "start_time": "2022-10-11T13:48:07.579Z"
   },
   {
    "duration": 9,
    "start_time": "2022-10-11T13:51:23.468Z"
   },
   {
    "duration": 4,
    "start_time": "2022-10-11T13:51:32.642Z"
   },
   {
    "duration": 9,
    "start_time": "2022-10-11T13:51:41.882Z"
   },
   {
    "duration": 66,
    "start_time": "2022-10-11T13:54:50.129Z"
   },
   {
    "duration": 62,
    "start_time": "2022-10-11T13:56:02.427Z"
   },
   {
    "duration": 2,
    "start_time": "2022-10-11T13:56:56.251Z"
   },
   {
    "duration": 5,
    "start_time": "2022-10-11T13:57:23.917Z"
   },
   {
    "duration": 5,
    "start_time": "2022-10-11T13:57:53.451Z"
   },
   {
    "duration": 87,
    "start_time": "2022-10-11T14:04:20.296Z"
   },
   {
    "duration": 15,
    "start_time": "2022-10-11T14:05:23.904Z"
   },
   {
    "duration": 6,
    "start_time": "2022-10-11T14:05:42.586Z"
   },
   {
    "duration": 6,
    "start_time": "2022-10-11T14:07:33.424Z"
   },
   {
    "duration": 7,
    "start_time": "2022-10-11T14:08:15.721Z"
   },
   {
    "duration": 7,
    "start_time": "2022-10-11T14:09:01.980Z"
   },
   {
    "duration": 7,
    "start_time": "2022-10-11T14:20:41.900Z"
   },
   {
    "duration": 6,
    "start_time": "2022-10-11T14:35:27.521Z"
   },
   {
    "duration": 434,
    "start_time": "2022-10-11T14:36:27.805Z"
   },
   {
    "duration": 7,
    "start_time": "2022-10-11T14:36:37.180Z"
   },
   {
    "duration": 6,
    "start_time": "2022-10-11T14:44:11.624Z"
   },
   {
    "duration": 741,
    "start_time": "2022-10-11T18:54:18.405Z"
   },
   {
    "duration": 33,
    "start_time": "2022-10-11T18:54:19.149Z"
   },
   {
    "duration": 14,
    "start_time": "2022-10-11T18:54:19.184Z"
   },
   {
    "duration": 9,
    "start_time": "2022-10-11T18:54:19.199Z"
   },
   {
    "duration": 41,
    "start_time": "2022-10-11T18:54:19.210Z"
   },
   {
    "duration": 4,
    "start_time": "2022-10-11T18:54:19.252Z"
   },
   {
    "duration": 10,
    "start_time": "2022-10-11T18:54:19.257Z"
   },
   {
    "duration": 7,
    "start_time": "2022-10-11T18:54:19.269Z"
   },
   {
    "duration": 9,
    "start_time": "2022-10-11T18:54:19.278Z"
   },
   {
    "duration": 6,
    "start_time": "2022-10-11T18:54:19.288Z"
   },
   {
    "duration": 48,
    "start_time": "2022-10-11T18:54:19.296Z"
   },
   {
    "duration": 9,
    "start_time": "2022-10-11T18:54:19.346Z"
   },
   {
    "duration": 3,
    "start_time": "2022-10-11T18:54:19.357Z"
   },
   {
    "duration": 11,
    "start_time": "2022-10-11T18:54:19.362Z"
   },
   {
    "duration": 18,
    "start_time": "2022-10-11T18:54:19.374Z"
   },
   {
    "duration": 18,
    "start_time": "2022-10-11T18:54:19.421Z"
   },
   {
    "duration": 3,
    "start_time": "2022-10-11T18:54:19.440Z"
   },
   {
    "duration": 12,
    "start_time": "2022-10-11T18:54:19.445Z"
   },
   {
    "duration": 6,
    "start_time": "2022-10-11T18:54:19.458Z"
   },
   {
    "duration": 4,
    "start_time": "2022-10-11T18:54:19.465Z"
   },
   {
    "duration": 29,
    "start_time": "2022-10-11T18:54:19.471Z"
   },
   {
    "duration": 44,
    "start_time": "2022-10-11T18:54:19.502Z"
   },
   {
    "duration": 8,
    "start_time": "2022-10-11T18:54:19.548Z"
   },
   {
    "duration": 28,
    "start_time": "2022-10-11T18:54:19.557Z"
   },
   {
    "duration": 49,
    "start_time": "2022-10-11T18:54:19.586Z"
   },
   {
    "duration": 4,
    "start_time": "2022-10-11T18:54:19.636Z"
   },
   {
    "duration": 32,
    "start_time": "2022-10-11T18:54:19.641Z"
   },
   {
    "duration": 6,
    "start_time": "2022-10-11T18:54:19.675Z"
   },
   {
    "duration": 7,
    "start_time": "2022-10-11T18:54:19.683Z"
   },
   {
    "duration": 43,
    "start_time": "2022-10-13T09:19:53.865Z"
   },
   {
    "duration": 504,
    "start_time": "2022-10-13T09:20:05.882Z"
   },
   {
    "duration": 22,
    "start_time": "2022-10-13T09:20:06.388Z"
   },
   {
    "duration": 13,
    "start_time": "2022-10-13T09:20:06.411Z"
   },
   {
    "duration": 7,
    "start_time": "2022-10-13T09:20:06.426Z"
   },
   {
    "duration": 30,
    "start_time": "2022-10-13T09:20:06.434Z"
   },
   {
    "duration": 3,
    "start_time": "2022-10-13T09:20:06.466Z"
   },
   {
    "duration": 15,
    "start_time": "2022-10-13T09:20:06.470Z"
   },
   {
    "duration": 4,
    "start_time": "2022-10-13T09:20:06.501Z"
   },
   {
    "duration": 13,
    "start_time": "2022-10-13T09:20:06.506Z"
   },
   {
    "duration": 5,
    "start_time": "2022-10-13T09:20:06.522Z"
   },
   {
    "duration": 35,
    "start_time": "2022-10-13T09:20:06.529Z"
   },
   {
    "duration": 8,
    "start_time": "2022-10-13T09:20:06.566Z"
   },
   {
    "duration": 20,
    "start_time": "2022-10-13T09:20:06.575Z"
   },
   {
    "duration": 13,
    "start_time": "2022-10-13T09:20:06.600Z"
   },
   {
    "duration": 18,
    "start_time": "2022-10-13T09:20:06.615Z"
   },
   {
    "duration": 15,
    "start_time": "2022-10-13T09:20:06.634Z"
   },
   {
    "duration": 4,
    "start_time": "2022-10-13T09:20:06.650Z"
   },
   {
    "duration": 20,
    "start_time": "2022-10-13T09:20:06.655Z"
   },
   {
    "duration": 15,
    "start_time": "2022-10-13T09:20:06.676Z"
   },
   {
    "duration": 15,
    "start_time": "2022-10-13T09:20:06.692Z"
   },
   {
    "duration": 39,
    "start_time": "2022-10-13T09:20:06.708Z"
   },
   {
    "duration": 26,
    "start_time": "2022-10-13T09:20:06.749Z"
   },
   {
    "duration": 69,
    "start_time": "2022-10-13T09:20:06.776Z"
   },
   {
    "duration": 0,
    "start_time": "2022-10-13T09:20:06.847Z"
   },
   {
    "duration": 0,
    "start_time": "2022-10-13T09:20:06.848Z"
   },
   {
    "duration": 0,
    "start_time": "2022-10-13T09:20:06.849Z"
   },
   {
    "duration": 0,
    "start_time": "2022-10-13T09:20:06.851Z"
   },
   {
    "duration": 0,
    "start_time": "2022-10-13T09:20:06.852Z"
   },
   {
    "duration": 0,
    "start_time": "2022-10-13T09:20:06.853Z"
   },
   {
    "duration": 13,
    "start_time": "2022-10-13T09:20:16.133Z"
   },
   {
    "duration": 11,
    "start_time": "2022-10-13T09:20:33.412Z"
   },
   {
    "duration": 15,
    "start_time": "2022-10-13T09:20:54.134Z"
   },
   {
    "duration": 23,
    "start_time": "2022-10-13T09:21:35.358Z"
   },
   {
    "duration": 8,
    "start_time": "2022-10-13T09:21:38.917Z"
   },
   {
    "duration": 22,
    "start_time": "2022-10-13T09:22:38.165Z"
   },
   {
    "duration": 21,
    "start_time": "2022-10-13T09:23:09.949Z"
   },
   {
    "duration": 22,
    "start_time": "2022-10-13T09:24:13.829Z"
   },
   {
    "duration": 26,
    "start_time": "2022-10-13T09:24:25.310Z"
   },
   {
    "duration": 8,
    "start_time": "2022-10-13T09:27:32.837Z"
   },
   {
    "duration": 13,
    "start_time": "2022-10-13T09:28:12.783Z"
   },
   {
    "duration": 11,
    "start_time": "2022-10-13T09:29:23.969Z"
   },
   {
    "duration": 10,
    "start_time": "2022-10-13T09:31:39.026Z"
   },
   {
    "duration": 12,
    "start_time": "2022-10-13T09:31:43.305Z"
   },
   {
    "duration": 22,
    "start_time": "2022-10-13T09:31:46.985Z"
   },
   {
    "duration": 8,
    "start_time": "2022-10-13T09:31:49.944Z"
   },
   {
    "duration": 24,
    "start_time": "2022-10-13T09:32:51.961Z"
   },
   {
    "duration": 24,
    "start_time": "2022-10-13T09:33:20.660Z"
   },
   {
    "duration": 23,
    "start_time": "2022-10-13T09:33:40.698Z"
   },
   {
    "duration": 24,
    "start_time": "2022-10-13T09:34:35.313Z"
   },
   {
    "duration": 23,
    "start_time": "2022-10-13T09:35:06.352Z"
   },
   {
    "duration": 26,
    "start_time": "2022-10-13T09:36:55.940Z"
   },
   {
    "duration": 26,
    "start_time": "2022-10-13T09:37:35.929Z"
   },
   {
    "duration": 24,
    "start_time": "2022-10-13T09:37:52.640Z"
   },
   {
    "duration": 22,
    "start_time": "2022-10-13T09:44:44.786Z"
   },
   {
    "duration": 25,
    "start_time": "2022-10-13T09:44:55.018Z"
   },
   {
    "duration": 25,
    "start_time": "2022-10-13T10:00:50.790Z"
   },
   {
    "duration": 254,
    "start_time": "2022-10-13T10:11:48.291Z"
   },
   {
    "duration": 23,
    "start_time": "2022-10-13T10:12:40.860Z"
   },
   {
    "duration": 22,
    "start_time": "2022-10-13T10:13:39.677Z"
   },
   {
    "duration": 23,
    "start_time": "2022-10-13T10:13:50.947Z"
   },
   {
    "duration": 23,
    "start_time": "2022-10-13T10:14:38.420Z"
   },
   {
    "duration": 23,
    "start_time": "2022-10-13T10:15:12.389Z"
   },
   {
    "duration": 21,
    "start_time": "2022-10-13T10:25:27.008Z"
   },
   {
    "duration": 7,
    "start_time": "2022-10-13T10:31:21.523Z"
   },
   {
    "duration": 7,
    "start_time": "2022-10-13T10:43:13.909Z"
   },
   {
    "duration": 27,
    "start_time": "2022-10-13T10:43:18.585Z"
   },
   {
    "duration": 5,
    "start_time": "2022-10-13T10:43:22.647Z"
   },
   {
    "duration": 91,
    "start_time": "2022-10-13T11:21:15.035Z"
   },
   {
    "duration": 52,
    "start_time": "2022-10-13T11:23:46.867Z"
   },
   {
    "duration": 78,
    "start_time": "2022-10-13T11:32:56.647Z"
   },
   {
    "duration": 2035,
    "start_time": "2022-10-13T11:38:21.626Z"
   },
   {
    "duration": 27,
    "start_time": "2022-10-13T11:38:42.752Z"
   },
   {
    "duration": 23,
    "start_time": "2022-10-13T11:38:47.052Z"
   },
   {
    "duration": 29,
    "start_time": "2022-10-13T11:38:51.369Z"
   },
   {
    "duration": 11,
    "start_time": "2022-10-13T11:38:54.688Z"
   },
   {
    "duration": 8,
    "start_time": "2022-10-13T11:38:59.425Z"
   },
   {
    "duration": 5,
    "start_time": "2022-10-13T11:39:50.791Z"
   },
   {
    "duration": 490,
    "start_time": "2022-10-13T16:18:36.772Z"
   },
   {
    "duration": 22,
    "start_time": "2022-10-13T16:18:37.264Z"
   },
   {
    "duration": 14,
    "start_time": "2022-10-13T16:18:37.288Z"
   },
   {
    "duration": 9,
    "start_time": "2022-10-13T16:18:37.304Z"
   },
   {
    "duration": 33,
    "start_time": "2022-10-13T16:18:37.315Z"
   },
   {
    "duration": 3,
    "start_time": "2022-10-13T16:18:37.350Z"
   },
   {
    "duration": 15,
    "start_time": "2022-10-13T16:18:37.355Z"
   },
   {
    "duration": 23,
    "start_time": "2022-10-13T16:18:37.372Z"
   },
   {
    "duration": 7,
    "start_time": "2022-10-13T16:18:37.397Z"
   },
   {
    "duration": 4,
    "start_time": "2022-10-13T16:18:37.408Z"
   },
   {
    "duration": 32,
    "start_time": "2022-10-13T16:18:37.414Z"
   },
   {
    "duration": 10,
    "start_time": "2022-10-13T16:18:37.447Z"
   },
   {
    "duration": 6,
    "start_time": "2022-10-13T16:18:37.458Z"
   },
   {
    "duration": 38,
    "start_time": "2022-10-13T16:18:37.465Z"
   },
   {
    "duration": 21,
    "start_time": "2022-10-13T16:18:37.504Z"
   },
   {
    "duration": 17,
    "start_time": "2022-10-13T16:18:37.527Z"
   },
   {
    "duration": 4,
    "start_time": "2022-10-13T16:18:37.546Z"
   },
   {
    "duration": 16,
    "start_time": "2022-10-13T16:18:37.552Z"
   },
   {
    "duration": 6,
    "start_time": "2022-10-13T16:18:37.594Z"
   },
   {
    "duration": 4,
    "start_time": "2022-10-13T16:18:37.603Z"
   },
   {
    "duration": 28,
    "start_time": "2022-10-13T16:18:37.609Z"
   },
   {
    "duration": 28,
    "start_time": "2022-10-13T16:18:37.639Z"
   },
   {
    "duration": 35,
    "start_time": "2022-10-13T16:18:37.668Z"
   },
   {
    "duration": 13,
    "start_time": "2022-10-13T16:18:37.704Z"
   },
   {
    "duration": 30,
    "start_time": "2022-10-13T16:18:37.718Z"
   },
   {
    "duration": 46,
    "start_time": "2022-10-13T16:18:37.749Z"
   },
   {
    "duration": 5,
    "start_time": "2022-10-13T16:18:37.797Z"
   },
   {
    "duration": 34,
    "start_time": "2022-10-13T16:18:37.804Z"
   },
   {
    "duration": 6,
    "start_time": "2022-10-13T16:18:37.839Z"
   },
   {
    "duration": 11,
    "start_time": "2022-10-13T16:18:37.846Z"
   },
   {
    "duration": 26,
    "start_time": "2022-10-13T16:21:37.311Z"
   },
   {
    "duration": 616,
    "start_time": "2022-10-13T16:27:28.570Z"
   }
  ],
  "colab": {
   "name": "dpp_template_part2.ipynb",
   "provenance": []
  },
  "kernelspec": {
   "display_name": "Python 3 (ipykernel)",
   "language": "python",
   "name": "python3"
  },
  "language_info": {
   "codemirror_mode": {
    "name": "ipython",
    "version": 3
   },
   "file_extension": ".py",
   "mimetype": "text/x-python",
   "name": "python",
   "nbconvert_exporter": "python",
   "pygments_lexer": "ipython3",
   "version": "3.9.13"
  },
  "toc": {
   "base_numbering": 1,
   "nav_menu": {
    "height": "192.997px",
    "width": "302.003px"
   },
   "number_sections": true,
   "sideBar": true,
   "skip_h1_title": true,
   "title_cell": "Table of Contents",
   "title_sidebar": "Contents",
   "toc_cell": false,
   "toc_position": {},
   "toc_section_display": true,
   "toc_window_display": false
  }
 },
 "nbformat": 4,
 "nbformat_minor": 5
}
