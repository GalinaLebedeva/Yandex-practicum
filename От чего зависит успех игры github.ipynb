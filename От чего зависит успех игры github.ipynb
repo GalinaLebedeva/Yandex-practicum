{
 "cells": [
  {
   "cell_type": "markdown",
   "metadata": {},
   "source": [
    "# Исследование \"От чего зависит успех игры?\""
   ]
  },
  {
   "cell_type": "markdown",
   "metadata": {},
   "source": [
    "## Описание проекта\n",
    "Интернет-магазину «Стримчик», который продаёт по всему миру компьютерные игры, доступны исторические данные о продажах игр до 2016 года, оценки пользователей и экспертов, жанры и платформы (например, Xbox или PlayStation). Необходимо выявить определяющие успешность игры закономерности. Это позволит сделать ставку на потенциально популярный продукт и спланировать рекламные кампании.\n"
   ]
  },
  {
   "cell_type": "markdown",
   "metadata": {},
   "source": [
    "## Цели проекта\n",
    "- Изучить данные о выпускх видеоигр;\n",
    "- Составить портрет пользователя для регионов (NA, EU, JP);\n",
    "- Проверить две гипотезы (Средние пользовательские рейтинги платформ Xbox One и PC одинаковые и средние пользовательские рейтинги жанров Action и Sports разные;\n",
    "- Сделать прогноз на следующий год."
   ]
  },
  {
   "cell_type": "markdown",
   "metadata": {},
   "source": [
    "## Описание данных:\n",
    "- Name — название игры\n",
    "- Platform — платформа\n",
    "- Year_of_Release — год выпуска\n",
    "- Genre — жанр игры\n",
    "- NA_sales — продажи в Северной Америке (миллионы проданных копий)\n",
    "- EU_sales — продажи в Европе (миллионы проданных копий)\n",
    "- JP_sales — продажи в Японии (миллионы проданных копий)\n",
    "- Other_sales — продажи в других странах (миллионы проданных копий)\n",
    "- Critic_Score — оценка критиков (максимум 100)\n",
    "- User_Score — оценка пользователей (максимум 10)\n",
    "- Rating — рейтинг от организации ESRB (англ. Entertainment Software Rating Board). Эта ассоциация определяет рейтинг компьютерных игр и присваивает им подходящую возрастную категорию."
   ]
  },
  {
   "cell_type": "markdown",
   "metadata": {},
   "source": [
    "## План работы\n",
    "1. Изучить данные\n",
    "2. Обработать данные\n",
    "3. Посмотреть на портреты пользователей из разных регионов\n",
    "4. Проверить гипотезы\n",
    "5. Визуализировать результаты\n",
    "6. Сделать прогноз на следующий год"
   ]
  },
  {
   "cell_type": "markdown",
   "metadata": {},
   "source": [
    "### Изучение общей информации о файле"
   ]
  },
  {
   "cell_type": "markdown",
   "metadata": {},
   "source": [
    "Откроем датасет и проверим информацию о нём"
   ]
  },
  {
   "cell_type": "code",
   "execution_count": 1,
   "metadata": {},
   "outputs": [],
   "source": [
    "import pandas as pd"
   ]
  },
  {
   "cell_type": "code",
   "execution_count": 2,
   "metadata": {},
   "outputs": [],
   "source": [
    "import seaborn as sns"
   ]
  },
  {
   "cell_type": "code",
   "execution_count": 3,
   "metadata": {},
   "outputs": [],
   "source": [
    "import matplotlib.pyplot as plt"
   ]
  },
  {
   "cell_type": "code",
   "execution_count": 4,
   "metadata": {},
   "outputs": [],
   "source": [
    "import numpy as np"
   ]
  },
  {
   "cell_type": "code",
   "execution_count": 5,
   "metadata": {},
   "outputs": [],
   "source": [
    "import scipy.stats as st"
   ]
  },
  {
   "cell_type": "code",
   "execution_count": 6,
   "metadata": {},
   "outputs": [],
   "source": [
    "data = pd.read_csv('/datasets/games.csv')"
   ]
  },
  {
   "cell_type": "code",
   "execution_count": 7,
   "metadata": {},
   "outputs": [
    {
     "data": {
      "text/html": [
       "<div>\n",
       "<style scoped>\n",
       "    .dataframe tbody tr th:only-of-type {\n",
       "        vertical-align: middle;\n",
       "    }\n",
       "\n",
       "    .dataframe tbody tr th {\n",
       "        vertical-align: top;\n",
       "    }\n",
       "\n",
       "    .dataframe thead th {\n",
       "        text-align: right;\n",
       "    }\n",
       "</style>\n",
       "<table border=\"1\" class=\"dataframe\">\n",
       "  <thead>\n",
       "    <tr style=\"text-align: right;\">\n",
       "      <th></th>\n",
       "      <th>Name</th>\n",
       "      <th>Platform</th>\n",
       "      <th>Year_of_Release</th>\n",
       "      <th>Genre</th>\n",
       "      <th>NA_sales</th>\n",
       "      <th>EU_sales</th>\n",
       "      <th>JP_sales</th>\n",
       "      <th>Other_sales</th>\n",
       "      <th>Critic_Score</th>\n",
       "      <th>User_Score</th>\n",
       "      <th>Rating</th>\n",
       "    </tr>\n",
       "  </thead>\n",
       "  <tbody>\n",
       "    <tr>\n",
       "      <th>0</th>\n",
       "      <td>Wii Sports</td>\n",
       "      <td>Wii</td>\n",
       "      <td>2006.0</td>\n",
       "      <td>Sports</td>\n",
       "      <td>41.36</td>\n",
       "      <td>28.96</td>\n",
       "      <td>3.77</td>\n",
       "      <td>8.45</td>\n",
       "      <td>76.0</td>\n",
       "      <td>8</td>\n",
       "      <td>E</td>\n",
       "    </tr>\n",
       "    <tr>\n",
       "      <th>1</th>\n",
       "      <td>Super Mario Bros.</td>\n",
       "      <td>NES</td>\n",
       "      <td>1985.0</td>\n",
       "      <td>Platform</td>\n",
       "      <td>29.08</td>\n",
       "      <td>3.58</td>\n",
       "      <td>6.81</td>\n",
       "      <td>0.77</td>\n",
       "      <td>NaN</td>\n",
       "      <td>NaN</td>\n",
       "      <td>NaN</td>\n",
       "    </tr>\n",
       "    <tr>\n",
       "      <th>2</th>\n",
       "      <td>Mario Kart Wii</td>\n",
       "      <td>Wii</td>\n",
       "      <td>2008.0</td>\n",
       "      <td>Racing</td>\n",
       "      <td>15.68</td>\n",
       "      <td>12.76</td>\n",
       "      <td>3.79</td>\n",
       "      <td>3.29</td>\n",
       "      <td>82.0</td>\n",
       "      <td>8.3</td>\n",
       "      <td>E</td>\n",
       "    </tr>\n",
       "    <tr>\n",
       "      <th>3</th>\n",
       "      <td>Wii Sports Resort</td>\n",
       "      <td>Wii</td>\n",
       "      <td>2009.0</td>\n",
       "      <td>Sports</td>\n",
       "      <td>15.61</td>\n",
       "      <td>10.93</td>\n",
       "      <td>3.28</td>\n",
       "      <td>2.95</td>\n",
       "      <td>80.0</td>\n",
       "      <td>8</td>\n",
       "      <td>E</td>\n",
       "    </tr>\n",
       "    <tr>\n",
       "      <th>4</th>\n",
       "      <td>Pokemon Red/Pokemon Blue</td>\n",
       "      <td>GB</td>\n",
       "      <td>1996.0</td>\n",
       "      <td>Role-Playing</td>\n",
       "      <td>11.27</td>\n",
       "      <td>8.89</td>\n",
       "      <td>10.22</td>\n",
       "      <td>1.00</td>\n",
       "      <td>NaN</td>\n",
       "      <td>NaN</td>\n",
       "      <td>NaN</td>\n",
       "    </tr>\n",
       "    <tr>\n",
       "      <th>5</th>\n",
       "      <td>Tetris</td>\n",
       "      <td>GB</td>\n",
       "      <td>1989.0</td>\n",
       "      <td>Puzzle</td>\n",
       "      <td>23.20</td>\n",
       "      <td>2.26</td>\n",
       "      <td>4.22</td>\n",
       "      <td>0.58</td>\n",
       "      <td>NaN</td>\n",
       "      <td>NaN</td>\n",
       "      <td>NaN</td>\n",
       "    </tr>\n",
       "    <tr>\n",
       "      <th>6</th>\n",
       "      <td>New Super Mario Bros.</td>\n",
       "      <td>DS</td>\n",
       "      <td>2006.0</td>\n",
       "      <td>Platform</td>\n",
       "      <td>11.28</td>\n",
       "      <td>9.14</td>\n",
       "      <td>6.50</td>\n",
       "      <td>2.88</td>\n",
       "      <td>89.0</td>\n",
       "      <td>8.5</td>\n",
       "      <td>E</td>\n",
       "    </tr>\n",
       "    <tr>\n",
       "      <th>7</th>\n",
       "      <td>Wii Play</td>\n",
       "      <td>Wii</td>\n",
       "      <td>2006.0</td>\n",
       "      <td>Misc</td>\n",
       "      <td>13.96</td>\n",
       "      <td>9.18</td>\n",
       "      <td>2.93</td>\n",
       "      <td>2.84</td>\n",
       "      <td>58.0</td>\n",
       "      <td>6.6</td>\n",
       "      <td>E</td>\n",
       "    </tr>\n",
       "    <tr>\n",
       "      <th>8</th>\n",
       "      <td>New Super Mario Bros. Wii</td>\n",
       "      <td>Wii</td>\n",
       "      <td>2009.0</td>\n",
       "      <td>Platform</td>\n",
       "      <td>14.44</td>\n",
       "      <td>6.94</td>\n",
       "      <td>4.70</td>\n",
       "      <td>2.24</td>\n",
       "      <td>87.0</td>\n",
       "      <td>8.4</td>\n",
       "      <td>E</td>\n",
       "    </tr>\n",
       "    <tr>\n",
       "      <th>9</th>\n",
       "      <td>Duck Hunt</td>\n",
       "      <td>NES</td>\n",
       "      <td>1984.0</td>\n",
       "      <td>Shooter</td>\n",
       "      <td>26.93</td>\n",
       "      <td>0.63</td>\n",
       "      <td>0.28</td>\n",
       "      <td>0.47</td>\n",
       "      <td>NaN</td>\n",
       "      <td>NaN</td>\n",
       "      <td>NaN</td>\n",
       "    </tr>\n",
       "  </tbody>\n",
       "</table>\n",
       "</div>"
      ],
      "text/plain": [
       "                        Name Platform  Year_of_Release         Genre  \\\n",
       "0                 Wii Sports      Wii           2006.0        Sports   \n",
       "1          Super Mario Bros.      NES           1985.0      Platform   \n",
       "2             Mario Kart Wii      Wii           2008.0        Racing   \n",
       "3          Wii Sports Resort      Wii           2009.0        Sports   \n",
       "4   Pokemon Red/Pokemon Blue       GB           1996.0  Role-Playing   \n",
       "5                     Tetris       GB           1989.0        Puzzle   \n",
       "6      New Super Mario Bros.       DS           2006.0      Platform   \n",
       "7                   Wii Play      Wii           2006.0          Misc   \n",
       "8  New Super Mario Bros. Wii      Wii           2009.0      Platform   \n",
       "9                  Duck Hunt      NES           1984.0       Shooter   \n",
       "\n",
       "   NA_sales  EU_sales  JP_sales  Other_sales  Critic_Score User_Score Rating  \n",
       "0     41.36     28.96      3.77         8.45          76.0          8      E  \n",
       "1     29.08      3.58      6.81         0.77           NaN        NaN    NaN  \n",
       "2     15.68     12.76      3.79         3.29          82.0        8.3      E  \n",
       "3     15.61     10.93      3.28         2.95          80.0          8      E  \n",
       "4     11.27      8.89     10.22         1.00           NaN        NaN    NaN  \n",
       "5     23.20      2.26      4.22         0.58           NaN        NaN    NaN  \n",
       "6     11.28      9.14      6.50         2.88          89.0        8.5      E  \n",
       "7     13.96      9.18      2.93         2.84          58.0        6.6      E  \n",
       "8     14.44      6.94      4.70         2.24          87.0        8.4      E  \n",
       "9     26.93      0.63      0.28         0.47           NaN        NaN    NaN  "
      ]
     },
     "execution_count": 7,
     "metadata": {},
     "output_type": "execute_result"
    }
   ],
   "source": [
    "data.head(10)"
   ]
  },
  {
   "cell_type": "code",
   "execution_count": 8,
   "metadata": {
    "scrolled": true
   },
   "outputs": [
    {
     "name": "stdout",
     "output_type": "stream",
     "text": [
      "<class 'pandas.core.frame.DataFrame'>\n",
      "RangeIndex: 16715 entries, 0 to 16714\n",
      "Data columns (total 11 columns):\n",
      " #   Column           Non-Null Count  Dtype  \n",
      "---  ------           --------------  -----  \n",
      " 0   Name             16713 non-null  object \n",
      " 1   Platform         16715 non-null  object \n",
      " 2   Year_of_Release  16446 non-null  float64\n",
      " 3   Genre            16713 non-null  object \n",
      " 4   NA_sales         16715 non-null  float64\n",
      " 5   EU_sales         16715 non-null  float64\n",
      " 6   JP_sales         16715 non-null  float64\n",
      " 7   Other_sales      16715 non-null  float64\n",
      " 8   Critic_Score     8137 non-null   float64\n",
      " 9   User_Score       10014 non-null  object \n",
      " 10  Rating           9949 non-null   object \n",
      "dtypes: float64(6), object(5)\n",
      "memory usage: 1.4+ MB\n"
     ]
    }
   ],
   "source": [
    "data.info()"
   ]
  },
  {
   "cell_type": "markdown",
   "metadata": {},
   "source": [
    "### Предобработка данных"
   ]
  },
  {
   "cell_type": "markdown",
   "metadata": {},
   "source": [
    "Первое, что бросается в глаза, неправильный регистр в заголовках столбцов, изменим это"
   ]
  },
  {
   "cell_type": "code",
   "execution_count": 9,
   "metadata": {},
   "outputs": [],
   "source": [
    "data.columns= data.columns.str.lower()"
   ]
  },
  {
   "cell_type": "markdown",
   "metadata": {},
   "source": [
    "Изменим тип данных в столбце `year_of_release`, чтобы год у нас был целым числом, а не числом с точкой"
   ]
  },
  {
   "cell_type": "code",
   "execution_count": 10,
   "metadata": {},
   "outputs": [],
   "source": [
    "data['year_of_release'] = pd.array(data['year_of_release'], dtype=pd.Int64Dtype())"
   ]
  },
  {
   "cell_type": "markdown",
   "metadata": {},
   "source": [
    "В столбце `rating` у нас хранятся значения рейтинга по системе ESRB. Entertainment Software Rating Board (ESRB) — негосударственная организация, основное направление деятельности — принятие и определение рейтингов для компьютерных видеоигр и другого развлекательного программного обеспечения в США и Канаде. \n",
    "\n",
    "Описание значений:\n",
    "- `«EC»` («Early childhood») — «Для детей младшего возраста»;\n",
    "- `«E»` («Everyone») — «Для всех». Первоначально \"K-A\" (\"Kids to Adults\");\n",
    "- `«E10+»` («Everyone 10 and older») — «Для всех от 10 лет и старше»;\n",
    "- `«T»` («Teen») - «Подросткам» - Игра подходит для лиц от 13 лет;\n",
    "- `«M»` («Mature») — «Для взрослых»: Материалы игры не подходят для лиц младше 17 лет;\n",
    "- `«AO»` («Adults Only 18+») — «Только для взрослых»: Содержание игры только для взрослых старше 18 лет;\n",
    "- `«RP»` («Rating Pending») — «Рейтинг ожидается»"
   ]
  },
  {
   "cell_type": "markdown",
   "metadata": {},
   "source": [
    "В столбце `rating` менять тип данных не будем, потому что данные представлены в строковом формате, но стоит заменить значение `К-А`, потому что это тоже самое, что и `Е`, пропуски в столбце заменим на несущуествующее значение, чтобы в дальнейшем можно было работать с этим столбцом"
   ]
  },
  {
   "cell_type": "code",
   "execution_count": 11,
   "metadata": {},
   "outputs": [
    {
     "data": {
      "text/plain": [
       "array(['AO', 'E', 'E10+', 'EC', 'K-A', 'M', 'RP', 'T', nan], dtype=object)"
      ]
     },
     "execution_count": 11,
     "metadata": {},
     "output_type": "execute_result"
    }
   ],
   "source": [
    "data['rating'].sort_values().unique()"
   ]
  },
  {
   "cell_type": "code",
   "execution_count": 12,
   "metadata": {},
   "outputs": [],
   "source": [
    "data['rating'] = data['rating'].replace('K-A','E')"
   ]
  },
  {
   "cell_type": "code",
   "execution_count": 13,
   "metadata": {},
   "outputs": [
    {
     "data": {
      "text/plain": [
       "array(['AO', 'E', 'E10+', 'EC', 'M', 'RP', 'T', nan], dtype=object)"
      ]
     },
     "execution_count": 13,
     "metadata": {},
     "output_type": "execute_result"
    }
   ],
   "source": [
    "data['rating'].sort_values().unique()"
   ]
  },
  {
   "cell_type": "code",
   "execution_count": 14,
   "metadata": {},
   "outputs": [
    {
     "data": {
      "text/plain": [
       "6766"
      ]
     },
     "execution_count": 14,
     "metadata": {},
     "output_type": "execute_result"
    }
   ],
   "source": [
    "data['rating'].isna().sum()"
   ]
  },
  {
   "cell_type": "code",
   "execution_count": 15,
   "metadata": {},
   "outputs": [],
   "source": [
    "data['rating'] = data['rating'].fillna(1000)"
   ]
  },
  {
   "cell_type": "code",
   "execution_count": 16,
   "metadata": {
    "scrolled": true
   },
   "outputs": [
    {
     "data": {
      "text/plain": [
       "0"
      ]
     },
     "execution_count": 16,
     "metadata": {},
     "output_type": "execute_result"
    }
   ],
   "source": [
    "data['rating'].isna().sum()"
   ]
  },
  {
   "cell_type": "markdown",
   "metadata": {},
   "source": [
    "Псмотрим уникальные значения в столбце `user_score`, и увидим, что в данных есть значение `tbd`, мы можем это исправить применив метод `to_numeric` библиотеки пандас, где значение параметра `errors` будет `coerce` (некорректные значения принудительно заменяются на NaN)"
   ]
  },
  {
   "cell_type": "code",
   "execution_count": 17,
   "metadata": {},
   "outputs": [
    {
     "data": {
      "text/plain": [
       "array(['0', '0.2', '0.3', '0.5', '0.6', '0.7', '0.9', '1', '1.1', '1.2',\n",
       "       '1.3', '1.4', '1.5', '1.6', '1.7', '1.8', '1.9', '2', '2.1', '2.2',\n",
       "       '2.3', '2.4', '2.5', '2.6', '2.7', '2.8', '2.9', '3', '3.1', '3.2',\n",
       "       '3.3', '3.4', '3.5', '3.6', '3.7', '3.8', '3.9', '4', '4.1', '4.2',\n",
       "       '4.3', '4.4', '4.5', '4.6', '4.7', '4.8', '4.9', '5', '5.1', '5.2',\n",
       "       '5.3', '5.4', '5.5', '5.6', '5.7', '5.8', '5.9', '6', '6.1', '6.2',\n",
       "       '6.3', '6.4', '6.5', '6.6', '6.7', '6.8', '6.9', '7', '7.1', '7.2',\n",
       "       '7.3', '7.4', '7.5', '7.6', '7.7', '7.8', '7.9', '8', '8.1', '8.2',\n",
       "       '8.3', '8.4', '8.5', '8.6', '8.7', '8.8', '8.9', '9', '9.1', '9.2',\n",
       "       '9.3', '9.4', '9.5', '9.6', '9.7', 'tbd', nan], dtype=object)"
      ]
     },
     "execution_count": 17,
     "metadata": {},
     "output_type": "execute_result"
    }
   ],
   "source": [
    "data['user_score'].sort_values().unique()"
   ]
  },
  {
   "cell_type": "code",
   "execution_count": 18,
   "metadata": {},
   "outputs": [
    {
     "data": {
      "text/plain": [
       "16715"
      ]
     },
     "execution_count": 18,
     "metadata": {},
     "output_type": "execute_result"
    }
   ],
   "source": [
    "len(data['user_score'])"
   ]
  },
  {
   "cell_type": "code",
   "execution_count": 19,
   "metadata": {},
   "outputs": [],
   "source": [
    "data['user_score'] = pd.to_numeric(data['user_score'], errors = 'coerce')"
   ]
  },
  {
   "cell_type": "code",
   "execution_count": 20,
   "metadata": {},
   "outputs": [
    {
     "data": {
      "text/plain": [
       "16715"
      ]
     },
     "execution_count": 20,
     "metadata": {},
     "output_type": "execute_result"
    }
   ],
   "source": [
    "len(data['user_score'])"
   ]
  },
  {
   "cell_type": "code",
   "execution_count": 21,
   "metadata": {},
   "outputs": [
    {
     "data": {
      "text/plain": [
       "array([0. , 0.2, 0.3, 0.5, 0.6, 0.7, 0.9, 1. , 1.1, 1.2, 1.3, 1.4, 1.5,\n",
       "       1.6, 1.7, 1.8, 1.9, 2. , 2.1, 2.2, 2.3, 2.4, 2.5, 2.6, 2.7, 2.8,\n",
       "       2.9, 3. , 3.1, 3.2, 3.3, 3.4, 3.5, 3.6, 3.7, 3.8, 3.9, 4. , 4.1,\n",
       "       4.2, 4.3, 4.4, 4.5, 4.6, 4.7, 4.8, 4.9, 5. , 5.1, 5.2, 5.3, 5.4,\n",
       "       5.5, 5.6, 5.7, 5.8, 5.9, 6. , 6.1, 6.2, 6.3, 6.4, 6.5, 6.6, 6.7,\n",
       "       6.8, 6.9, 7. , 7.1, 7.2, 7.3, 7.4, 7.5, 7.6, 7.7, 7.8, 7.9, 8. ,\n",
       "       8.1, 8.2, 8.3, 8.4, 8.5, 8.6, 8.7, 8.8, 8.9, 9. , 9.1, 9.2, 9.3,\n",
       "       9.4, 9.5, 9.6, 9.7, nan])"
      ]
     },
     "execution_count": 21,
     "metadata": {},
     "output_type": "execute_result"
    }
   ],
   "source": [
    "data['user_score'].sort_values().unique()"
   ]
  },
  {
   "cell_type": "code",
   "execution_count": 22,
   "metadata": {
    "scrolled": true
   },
   "outputs": [
    {
     "data": {
      "text/plain": [
       "name                  2\n",
       "platform              0\n",
       "year_of_release     269\n",
       "genre                 2\n",
       "na_sales              0\n",
       "eu_sales              0\n",
       "jp_sales              0\n",
       "other_sales           0\n",
       "critic_score       8578\n",
       "user_score         9125\n",
       "rating                0\n",
       "dtype: int64"
      ]
     },
     "execution_count": 22,
     "metadata": {},
     "output_type": "execute_result"
    }
   ],
   "source": [
    "data.isna().sum()"
   ]
  },
  {
   "cell_type": "code",
   "execution_count": 23,
   "metadata": {},
   "outputs": [
    {
     "data": {
      "text/html": [
       "<div>\n",
       "<style scoped>\n",
       "    .dataframe tbody tr th:only-of-type {\n",
       "        vertical-align: middle;\n",
       "    }\n",
       "\n",
       "    .dataframe tbody tr th {\n",
       "        vertical-align: top;\n",
       "    }\n",
       "\n",
       "    .dataframe thead th {\n",
       "        text-align: right;\n",
       "    }\n",
       "</style>\n",
       "<table border=\"1\" class=\"dataframe\">\n",
       "  <thead>\n",
       "    <tr style=\"text-align: right;\">\n",
       "      <th></th>\n",
       "      <th>name</th>\n",
       "      <th>platform</th>\n",
       "      <th>year_of_release</th>\n",
       "      <th>genre</th>\n",
       "      <th>na_sales</th>\n",
       "      <th>eu_sales</th>\n",
       "      <th>jp_sales</th>\n",
       "      <th>other_sales</th>\n",
       "      <th>critic_score</th>\n",
       "      <th>user_score</th>\n",
       "      <th>rating</th>\n",
       "    </tr>\n",
       "  </thead>\n",
       "  <tbody>\n",
       "    <tr>\n",
       "      <th>659</th>\n",
       "      <td>NaN</td>\n",
       "      <td>GEN</td>\n",
       "      <td>1993</td>\n",
       "      <td>NaN</td>\n",
       "      <td>1.78</td>\n",
       "      <td>0.53</td>\n",
       "      <td>0.00</td>\n",
       "      <td>0.08</td>\n",
       "      <td>NaN</td>\n",
       "      <td>NaN</td>\n",
       "      <td>1000</td>\n",
       "    </tr>\n",
       "    <tr>\n",
       "      <th>14244</th>\n",
       "      <td>NaN</td>\n",
       "      <td>GEN</td>\n",
       "      <td>1993</td>\n",
       "      <td>NaN</td>\n",
       "      <td>0.00</td>\n",
       "      <td>0.00</td>\n",
       "      <td>0.03</td>\n",
       "      <td>0.00</td>\n",
       "      <td>NaN</td>\n",
       "      <td>NaN</td>\n",
       "      <td>1000</td>\n",
       "    </tr>\n",
       "  </tbody>\n",
       "</table>\n",
       "</div>"
      ],
      "text/plain": [
       "      name platform  year_of_release genre  na_sales  eu_sales  jp_sales  \\\n",
       "659    NaN      GEN             1993   NaN      1.78      0.53      0.00   \n",
       "14244  NaN      GEN             1993   NaN      0.00      0.00      0.03   \n",
       "\n",
       "       other_sales  critic_score  user_score rating  \n",
       "659           0.08           NaN         NaN   1000  \n",
       "14244         0.00           NaN         NaN   1000  "
      ]
     },
     "execution_count": 23,
     "metadata": {},
     "output_type": "execute_result"
    }
   ],
   "source": [
    "data[data['genre'].isna()]"
   ]
  },
  {
   "cell_type": "markdown",
   "metadata": {},
   "source": [
    "У нас есть пропуски в названии игр, годе производства, жанре, а также в столбцах с оценкой от критиков, пользователей и рейтинге игр, их менять не имеет смысла, во избежании искожения данных. Причины пропусков могут быть различны, например, невнимательность создателей таблицы или отказ от проведения опроса по рейтингу по какой-то из игр"
   ]
  },
  {
   "cell_type": "markdown",
   "metadata": {},
   "source": [
    "Посмотри конкретнее на пропуски с менем игры и жанром, все они лежат в двух строках, поэтому удалим их"
   ]
  },
  {
   "cell_type": "code",
   "execution_count": 24,
   "metadata": {},
   "outputs": [],
   "source": [
    "data.drop(labels = [699,14244], axis = 0, inplace = True)"
   ]
  },
  {
   "cell_type": "markdown",
   "metadata": {},
   "source": [
    "Добавим столбец в таблицу с суммой продаж по всем регионам и посмотрим суммы продаж в каждом регионе"
   ]
  },
  {
   "cell_type": "code",
   "execution_count": 25,
   "metadata": {},
   "outputs": [],
   "source": [
    "data['total_sales'] = data[['na_sales','eu_sales','jp_sales', 'other_sales']].sum(axis = 1)"
   ]
  },
  {
   "cell_type": "code",
   "execution_count": 26,
   "metadata": {},
   "outputs": [
    {
     "data": {
      "text/plain": [
       "4401.97"
      ]
     },
     "execution_count": 26,
     "metadata": {},
     "output_type": "execute_result"
    }
   ],
   "source": [
    "data['na_sales'].sum()"
   ]
  },
  {
   "cell_type": "code",
   "execution_count": 27,
   "metadata": {},
   "outputs": [
    {
     "data": {
      "text/plain": [
       "2424.6000000000004"
      ]
     },
     "execution_count": 27,
     "metadata": {},
     "output_type": "execute_result"
    }
   ],
   "source": [
    "data['eu_sales'].sum()"
   ]
  },
  {
   "cell_type": "code",
   "execution_count": 28,
   "metadata": {},
   "outputs": [
    {
     "data": {
      "text/plain": [
       "1297.33"
      ]
     },
     "execution_count": 28,
     "metadata": {},
     "output_type": "execute_result"
    }
   ],
   "source": [
    "data['jp_sales'].sum()"
   ]
  },
  {
   "cell_type": "code",
   "execution_count": 29,
   "metadata": {},
   "outputs": [
    {
     "data": {
      "text/plain": [
       "789.5000000000001"
      ]
     },
     "execution_count": 29,
     "metadata": {},
     "output_type": "execute_result"
    }
   ],
   "source": [
    "data['other_sales'].sum()"
   ]
  },
  {
   "cell_type": "markdown",
   "metadata": {},
   "source": [
    "Проверим"
   ]
  },
  {
   "cell_type": "code",
   "execution_count": 30,
   "metadata": {},
   "outputs": [
    {
     "data": {
      "text/html": [
       "<div>\n",
       "<style scoped>\n",
       "    .dataframe tbody tr th:only-of-type {\n",
       "        vertical-align: middle;\n",
       "    }\n",
       "\n",
       "    .dataframe tbody tr th {\n",
       "        vertical-align: top;\n",
       "    }\n",
       "\n",
       "    .dataframe thead th {\n",
       "        text-align: right;\n",
       "    }\n",
       "</style>\n",
       "<table border=\"1\" class=\"dataframe\">\n",
       "  <thead>\n",
       "    <tr style=\"text-align: right;\">\n",
       "      <th></th>\n",
       "      <th>name</th>\n",
       "      <th>platform</th>\n",
       "      <th>year_of_release</th>\n",
       "      <th>genre</th>\n",
       "      <th>na_sales</th>\n",
       "      <th>eu_sales</th>\n",
       "      <th>jp_sales</th>\n",
       "      <th>other_sales</th>\n",
       "      <th>critic_score</th>\n",
       "      <th>user_score</th>\n",
       "      <th>rating</th>\n",
       "      <th>total_sales</th>\n",
       "    </tr>\n",
       "  </thead>\n",
       "  <tbody>\n",
       "    <tr>\n",
       "      <th>0</th>\n",
       "      <td>Wii Sports</td>\n",
       "      <td>Wii</td>\n",
       "      <td>2006</td>\n",
       "      <td>Sports</td>\n",
       "      <td>41.36</td>\n",
       "      <td>28.96</td>\n",
       "      <td>3.77</td>\n",
       "      <td>8.45</td>\n",
       "      <td>76.0</td>\n",
       "      <td>8.0</td>\n",
       "      <td>E</td>\n",
       "      <td>82.54</td>\n",
       "    </tr>\n",
       "    <tr>\n",
       "      <th>1</th>\n",
       "      <td>Super Mario Bros.</td>\n",
       "      <td>NES</td>\n",
       "      <td>1985</td>\n",
       "      <td>Platform</td>\n",
       "      <td>29.08</td>\n",
       "      <td>3.58</td>\n",
       "      <td>6.81</td>\n",
       "      <td>0.77</td>\n",
       "      <td>NaN</td>\n",
       "      <td>NaN</td>\n",
       "      <td>1000</td>\n",
       "      <td>40.24</td>\n",
       "    </tr>\n",
       "    <tr>\n",
       "      <th>2</th>\n",
       "      <td>Mario Kart Wii</td>\n",
       "      <td>Wii</td>\n",
       "      <td>2008</td>\n",
       "      <td>Racing</td>\n",
       "      <td>15.68</td>\n",
       "      <td>12.76</td>\n",
       "      <td>3.79</td>\n",
       "      <td>3.29</td>\n",
       "      <td>82.0</td>\n",
       "      <td>8.3</td>\n",
       "      <td>E</td>\n",
       "      <td>35.52</td>\n",
       "    </tr>\n",
       "    <tr>\n",
       "      <th>3</th>\n",
       "      <td>Wii Sports Resort</td>\n",
       "      <td>Wii</td>\n",
       "      <td>2009</td>\n",
       "      <td>Sports</td>\n",
       "      <td>15.61</td>\n",
       "      <td>10.93</td>\n",
       "      <td>3.28</td>\n",
       "      <td>2.95</td>\n",
       "      <td>80.0</td>\n",
       "      <td>8.0</td>\n",
       "      <td>E</td>\n",
       "      <td>32.77</td>\n",
       "    </tr>\n",
       "    <tr>\n",
       "      <th>4</th>\n",
       "      <td>Pokemon Red/Pokemon Blue</td>\n",
       "      <td>GB</td>\n",
       "      <td>1996</td>\n",
       "      <td>Role-Playing</td>\n",
       "      <td>11.27</td>\n",
       "      <td>8.89</td>\n",
       "      <td>10.22</td>\n",
       "      <td>1.00</td>\n",
       "      <td>NaN</td>\n",
       "      <td>NaN</td>\n",
       "      <td>1000</td>\n",
       "      <td>31.38</td>\n",
       "    </tr>\n",
       "    <tr>\n",
       "      <th>...</th>\n",
       "      <td>...</td>\n",
       "      <td>...</td>\n",
       "      <td>...</td>\n",
       "      <td>...</td>\n",
       "      <td>...</td>\n",
       "      <td>...</td>\n",
       "      <td>...</td>\n",
       "      <td>...</td>\n",
       "      <td>...</td>\n",
       "      <td>...</td>\n",
       "      <td>...</td>\n",
       "      <td>...</td>\n",
       "    </tr>\n",
       "    <tr>\n",
       "      <th>16710</th>\n",
       "      <td>Samurai Warriors: Sanada Maru</td>\n",
       "      <td>PS3</td>\n",
       "      <td>2016</td>\n",
       "      <td>Action</td>\n",
       "      <td>0.00</td>\n",
       "      <td>0.00</td>\n",
       "      <td>0.01</td>\n",
       "      <td>0.00</td>\n",
       "      <td>NaN</td>\n",
       "      <td>NaN</td>\n",
       "      <td>1000</td>\n",
       "      <td>0.01</td>\n",
       "    </tr>\n",
       "    <tr>\n",
       "      <th>16711</th>\n",
       "      <td>LMA Manager 2007</td>\n",
       "      <td>X360</td>\n",
       "      <td>2006</td>\n",
       "      <td>Sports</td>\n",
       "      <td>0.00</td>\n",
       "      <td>0.01</td>\n",
       "      <td>0.00</td>\n",
       "      <td>0.00</td>\n",
       "      <td>NaN</td>\n",
       "      <td>NaN</td>\n",
       "      <td>1000</td>\n",
       "      <td>0.01</td>\n",
       "    </tr>\n",
       "    <tr>\n",
       "      <th>16712</th>\n",
       "      <td>Haitaka no Psychedelica</td>\n",
       "      <td>PSV</td>\n",
       "      <td>2016</td>\n",
       "      <td>Adventure</td>\n",
       "      <td>0.00</td>\n",
       "      <td>0.00</td>\n",
       "      <td>0.01</td>\n",
       "      <td>0.00</td>\n",
       "      <td>NaN</td>\n",
       "      <td>NaN</td>\n",
       "      <td>1000</td>\n",
       "      <td>0.01</td>\n",
       "    </tr>\n",
       "    <tr>\n",
       "      <th>16713</th>\n",
       "      <td>Spirits &amp; Spells</td>\n",
       "      <td>GBA</td>\n",
       "      <td>2003</td>\n",
       "      <td>Platform</td>\n",
       "      <td>0.01</td>\n",
       "      <td>0.00</td>\n",
       "      <td>0.00</td>\n",
       "      <td>0.00</td>\n",
       "      <td>NaN</td>\n",
       "      <td>NaN</td>\n",
       "      <td>1000</td>\n",
       "      <td>0.01</td>\n",
       "    </tr>\n",
       "    <tr>\n",
       "      <th>16714</th>\n",
       "      <td>Winning Post 8 2016</td>\n",
       "      <td>PSV</td>\n",
       "      <td>2016</td>\n",
       "      <td>Simulation</td>\n",
       "      <td>0.00</td>\n",
       "      <td>0.00</td>\n",
       "      <td>0.01</td>\n",
       "      <td>0.00</td>\n",
       "      <td>NaN</td>\n",
       "      <td>NaN</td>\n",
       "      <td>1000</td>\n",
       "      <td>0.01</td>\n",
       "    </tr>\n",
       "  </tbody>\n",
       "</table>\n",
       "<p>16713 rows × 12 columns</p>\n",
       "</div>"
      ],
      "text/plain": [
       "                                name platform  year_of_release         genre  \\\n",
       "0                         Wii Sports      Wii             2006        Sports   \n",
       "1                  Super Mario Bros.      NES             1985      Platform   \n",
       "2                     Mario Kart Wii      Wii             2008        Racing   \n",
       "3                  Wii Sports Resort      Wii             2009        Sports   \n",
       "4           Pokemon Red/Pokemon Blue       GB             1996  Role-Playing   \n",
       "...                              ...      ...              ...           ...   \n",
       "16710  Samurai Warriors: Sanada Maru      PS3             2016        Action   \n",
       "16711               LMA Manager 2007     X360             2006        Sports   \n",
       "16712        Haitaka no Psychedelica      PSV             2016     Adventure   \n",
       "16713               Spirits & Spells      GBA             2003      Platform   \n",
       "16714            Winning Post 8 2016      PSV             2016    Simulation   \n",
       "\n",
       "       na_sales  eu_sales  jp_sales  other_sales  critic_score  user_score  \\\n",
       "0         41.36     28.96      3.77         8.45          76.0         8.0   \n",
       "1         29.08      3.58      6.81         0.77           NaN         NaN   \n",
       "2         15.68     12.76      3.79         3.29          82.0         8.3   \n",
       "3         15.61     10.93      3.28         2.95          80.0         8.0   \n",
       "4         11.27      8.89     10.22         1.00           NaN         NaN   \n",
       "...         ...       ...       ...          ...           ...         ...   \n",
       "16710      0.00      0.00      0.01         0.00           NaN         NaN   \n",
       "16711      0.00      0.01      0.00         0.00           NaN         NaN   \n",
       "16712      0.00      0.00      0.01         0.00           NaN         NaN   \n",
       "16713      0.01      0.00      0.00         0.00           NaN         NaN   \n",
       "16714      0.00      0.00      0.01         0.00           NaN         NaN   \n",
       "\n",
       "      rating  total_sales  \n",
       "0          E        82.54  \n",
       "1       1000        40.24  \n",
       "2          E        35.52  \n",
       "3          E        32.77  \n",
       "4       1000        31.38  \n",
       "...      ...          ...  \n",
       "16710   1000         0.01  \n",
       "16711   1000         0.01  \n",
       "16712   1000         0.01  \n",
       "16713   1000         0.01  \n",
       "16714   1000         0.01  \n",
       "\n",
       "[16713 rows x 12 columns]"
      ]
     },
     "execution_count": 30,
     "metadata": {},
     "output_type": "execute_result"
    }
   ],
   "source": [
    "data"
   ]
  },
  {
   "cell_type": "markdown",
   "metadata": {},
   "source": [
    "По данным из добавленных столбцов можно сделать вывод, что с 1980 года по 2016 год самые высокие продажи были в Северной Америке, а самые низкие в других странах, например, России или Китае"
   ]
  },
  {
   "cell_type": "markdown",
   "metadata": {},
   "source": [
    "Проверим датафрейм на наличие дубликатов"
   ]
  },
  {
   "cell_type": "code",
   "execution_count": 31,
   "metadata": {},
   "outputs": [
    {
     "data": {
      "text/plain": [
       "0"
      ]
     },
     "execution_count": 31,
     "metadata": {},
     "output_type": "execute_result"
    }
   ],
   "source": [
    "data.duplicated().sum()"
   ]
  },
  {
   "cell_type": "code",
   "execution_count": 32,
   "metadata": {},
   "outputs": [
    {
     "data": {
      "text/plain": [
       "5153"
      ]
     },
     "execution_count": 32,
     "metadata": {},
     "output_type": "execute_result"
    }
   ],
   "source": [
    "data['name'].duplicated().sum()"
   ]
  },
  {
   "cell_type": "markdown",
   "metadata": {},
   "source": [
    "Явных дубликатов строк в датасете нет, есть в столбце `name` и в других столбца, это можно объяснить тем, игры выходят не только на одной платформе, но и на других"
   ]
  },
  {
   "cell_type": "markdown",
   "metadata": {},
   "source": [
    "### Проведение исследовательского анализа данных"
   ]
  },
  {
   "cell_type": "markdown",
   "metadata": {},
   "source": [
    "Посмотрим количество игр, которые выпускались в разные годы"
   ]
  },
  {
   "cell_type": "code",
   "execution_count": 33,
   "metadata": {},
   "outputs": [
    {
     "data": {
      "text/plain": [
       "1980       9\n",
       "1981      46\n",
       "1982      36\n",
       "1983      17\n",
       "1984      14\n",
       "1985      14\n",
       "1986      21\n",
       "1987      16\n",
       "1988      15\n",
       "1989      17\n",
       "1990      16\n",
       "1991      41\n",
       "1992      43\n",
       "1993      61\n",
       "1994     121\n",
       "1995     219\n",
       "1996     263\n",
       "1997     289\n",
       "1998     379\n",
       "1999     338\n",
       "2000     350\n",
       "2001     482\n",
       "2002     829\n",
       "2003     775\n",
       "2004     762\n",
       "2005     939\n",
       "2006    1006\n",
       "2007    1197\n",
       "2008    1426\n",
       "2009    1426\n",
       "2010    1255\n",
       "2011    1136\n",
       "2012     653\n",
       "2013     544\n",
       "2014     581\n",
       "2015     606\n",
       "2016     502\n",
       "Name: year_of_release, dtype: Int64"
      ]
     },
     "execution_count": 33,
     "metadata": {},
     "output_type": "execute_result"
    }
   ],
   "source": [
    "data['year_of_release'].value_counts().sort_index()"
   ]
  },
  {
   "cell_type": "code",
   "execution_count": 34,
   "metadata": {},
   "outputs": [
    {
     "data": {
      "image/png": "[encoded data removed]",
      "text/plain": [
       "<Figure size 432x288 with 1 Axes>"
      ]
     },
     "metadata": {
      "needs_background": "light"
     },
     "output_type": "display_data"
    }
   ],
   "source": [
    "data['year_of_release'].value_counts().sort_index().plot( title = 'Выпуск игр (по годам)');"
   ]
  },
  {
   "cell_type": "markdown",
   "metadata": {},
   "source": [
    "Данные за весь период времени не так важны для целей нашего исследования, к тому же сравнивать 9 игр в 1980 году и 1427 в 2008, будет не совсем корректно. Поэтому возьмем данные за последние 3 года для построения более точного прогноза на 2017 год"
   ]
  },
  {
   "cell_type": "markdown",
   "metadata": {},
   "source": [
    "Посмотрим как менялись продажи по платформам, для этого возьмём ТОП-10 самых продаваемых платформ"
   ]
  },
  {
   "cell_type": "code",
   "execution_count": 35,
   "metadata": {},
   "outputs": [],
   "source": [
    "pl = data.groupby('platform',as_index = False)['total_sales'].sum().round(2)"
   ]
  },
  {
   "cell_type": "code",
   "execution_count": 36,
   "metadata": {},
   "outputs": [],
   "source": [
    "top_10 = pl.sort_values(by = 'total_sales',ascending = False).head(10)"
   ]
  },
  {
   "cell_type": "code",
   "execution_count": 37,
   "metadata": {},
   "outputs": [],
   "source": [
    "top_10 = top_10['platform'].to_list()"
   ]
  },
  {
   "cell_type": "markdown",
   "metadata": {},
   "source": [
    "Теперь у нас есть ТОП-10 самых продаваемых платформ, возьмём эти значения и создадим список из этих платформ. Теперь, когда у нас есть список нужных нам платформ, отберем данные из датасета, которые соответствуют условию, и присвоем их переменной `data_2`"
   ]
  },
  {
   "cell_type": "code",
   "execution_count": 38,
   "metadata": {},
   "outputs": [
    {
     "data": {
      "text/plain": [
       "['PS2', 'X360', 'PS3', 'Wii', 'DS', 'PS', 'GBA', 'PS4', 'PSP', 'PC']"
      ]
     },
     "execution_count": 38,
     "metadata": {},
     "output_type": "execute_result"
    }
   ],
   "source": [
    "top_10"
   ]
  },
  {
   "cell_type": "code",
   "execution_count": 39,
   "metadata": {
    "scrolled": false
   },
   "outputs": [
    {
     "name": "stdout",
     "output_type": "stream",
     "text": [
      "<class 'pandas.core.frame.DataFrame'>\n",
      "Int64Index: 12818 entries, 0 to 16713\n",
      "Data columns (total 12 columns):\n",
      " #   Column           Non-Null Count  Dtype  \n",
      "---  ------           --------------  -----  \n",
      " 0   name             12818 non-null  object \n",
      " 1   platform         12818 non-null  object \n",
      " 2   year_of_release  12614 non-null  Int64  \n",
      " 3   genre            12818 non-null  object \n",
      " 4   na_sales         12818 non-null  float64\n",
      " 5   eu_sales         12818 non-null  float64\n",
      " 6   jp_sales         12818 non-null  float64\n",
      " 7   other_sales      12818 non-null  float64\n",
      " 8   critic_score     6402 non-null   float64\n",
      " 9   user_score       6024 non-null   float64\n",
      " 10  rating           12818 non-null  object \n",
      " 11  total_sales      12818 non-null  float64\n",
      "dtypes: Int64(1), float64(7), object(4)\n",
      "memory usage: 1.3+ MB\n"
     ]
    }
   ],
   "source": [
    "data_2 = data.query('platform in @top_10')\n",
    "data_2.info()"
   ]
  },
  {
   "cell_type": "markdown",
   "metadata": {},
   "source": [
    "Теперь на основе этих данных, мы можем построить график \"живучести\" платформ, и увидеть, что в среднем платформы изживают себя за период примерно 10 лет, за исключением платформы `PC`, которая существует с 1985 года и удерживает свои позиции до сих пор"
   ]
  },
  {
   "cell_type": "code",
   "execution_count": 40,
   "metadata": {},
   "outputs": [
    {
     "data": {
      "image/png": "[encoded data removed]",
      "text/plain": [
       "<Figure size 1080x720 with 1 Axes>"
      ]
     },
     "metadata": {
      "needs_background": "light"
     },
     "output_type": "display_data"
    }
   ],
   "source": [
    "data_2.plot(x = 'platform', y = 'year_of_release', kind = 'scatter', c = ['0.2'],\\\n",
    "            title = 'Появление и исчезновение платформ, на примере топ-10 самых продаваемых платформ',\\\n",
    "           figsize = (15,10));"
   ]
  },
  {
   "cell_type": "markdown",
   "metadata": {},
   "source": [
    "Теперь сделаем срез из основного датафрейма с данными с 2014 года по 2016 год и поместим его в переменную `actual_period` для дальнейших задач и в переменную `data_3`, которую будем изменять"
   ]
  },
  {
   "cell_type": "code",
   "execution_count": 41,
   "metadata": {},
   "outputs": [],
   "source": [
    "years = [2014, 2015, 2016]"
   ]
  },
  {
   "cell_type": "code",
   "execution_count": 42,
   "metadata": {},
   "outputs": [],
   "source": [
    "actual_period = data.query('year_of_release in @years')"
   ]
  },
  {
   "cell_type": "code",
   "execution_count": 43,
   "metadata": {
    "scrolled": true
   },
   "outputs": [
    {
     "name": "stdout",
     "output_type": "stream",
     "text": [
      "<class 'pandas.core.frame.DataFrame'>\n",
      "Int64Index: 1689 entries, 31 to 16714\n",
      "Data columns (total 12 columns):\n",
      " #   Column           Non-Null Count  Dtype  \n",
      "---  ------           --------------  -----  \n",
      " 0   name             1689 non-null   object \n",
      " 1   platform         1689 non-null   object \n",
      " 2   year_of_release  1689 non-null   Int64  \n",
      " 3   genre            1689 non-null   object \n",
      " 4   na_sales         1689 non-null   float64\n",
      " 5   eu_sales         1689 non-null   float64\n",
      " 6   jp_sales         1689 non-null   float64\n",
      " 7   other_sales      1689 non-null   float64\n",
      " 8   critic_score     718 non-null    float64\n",
      " 9   user_score       888 non-null    float64\n",
      " 10  rating           1689 non-null   object \n",
      " 11  total_sales      1689 non-null   float64\n",
      "dtypes: Int64(1), float64(7), object(4)\n",
      "memory usage: 173.2+ KB\n"
     ]
    }
   ],
   "source": [
    "data_3 = data.query('year_of_release in @years')\n",
    "data_3.info()"
   ]
  },
  {
   "cell_type": "markdown",
   "metadata": {},
   "source": [
    "Посмотрим какие платформы лидируют по продажам в этот период"
   ]
  },
  {
   "cell_type": "code",
   "execution_count": 44,
   "metadata": {},
   "outputs": [
    {
     "data": {
      "text/plain": [
       "platform\n",
       "PS4     288.15\n",
       "XOne    140.36\n",
       "3DS      86.68\n",
       "PS3      68.18\n",
       "X360     48.22\n",
       "WiiU     42.98\n",
       "PC       27.05\n",
       "PSV      22.40\n",
       "Wii       5.07\n",
       "PSP       0.36\n",
       "Name: total_sales, dtype: float64"
      ]
     },
     "execution_count": 44,
     "metadata": {},
     "output_type": "execute_result"
    }
   ],
   "source": [
    "data_3.groupby('platform')['total_sales'].sum().round(2).sort_values(ascending = False)"
   ]
  },
  {
   "cell_type": "code",
   "execution_count": 45,
   "metadata": {},
   "outputs": [
    {
     "data": {
      "image/png": "[encoded data removed]",
      "text/plain": [
       "<Figure size 360x360 with 1 Axes>"
      ]
     },
     "metadata": {
      "needs_background": "light"
     },
     "output_type": "display_data"
    }
   ],
   "source": [
    "data_3.groupby('platform')['total_sales'].sum().round(2).sort_values(ascending = False)\\\n",
    ".plot(x = 'platform',kind = 'barh',figsize =  (5,5), title = 'Продажи по платформам с 2014 по 2016 год');"
   ]
  },
  {
   "cell_type": "markdown",
   "metadata": {},
   "source": [
    "По данным видно, что явным лидером является платформа `PS4`, за ней `XOne`,`3DS`, `PS3` и `X360`, эту пятерку используем для построения графика \"ящик с усами\", чтобы посмотреть как продавались данные платформы в период с 2014 по 2016 год"
   ]
  },
  {
   "cell_type": "code",
   "execution_count": 46,
   "metadata": {},
   "outputs": [],
   "source": [
    "data_3 = data_3.groupby('platform',as_index = False)['total_sales'].sum().round(2)\\\n",
    ".sort_values(by = 'total_sales',ascending = False).head(5)"
   ]
  },
  {
   "cell_type": "code",
   "execution_count": 47,
   "metadata": {},
   "outputs": [],
   "source": [
    "top_5 = data_3['platform'].to_list()"
   ]
  },
  {
   "cell_type": "code",
   "execution_count": 48,
   "metadata": {},
   "outputs": [
    {
     "data": {
      "text/plain": [
       "['PS4', 'XOne', '3DS', 'PS3', 'X360']"
      ]
     },
     "execution_count": 48,
     "metadata": {},
     "output_type": "execute_result"
    }
   ],
   "source": [
    "top_5"
   ]
  },
  {
   "cell_type": "markdown",
   "metadata": {},
   "source": [
    "Сделаем запрос к датафрейму с продажами по ТОП 5 платформ в период с 2014 по 2016 год и поместим в переменную `data_4`"
   ]
  },
  {
   "cell_type": "code",
   "execution_count": 49,
   "metadata": {},
   "outputs": [
    {
     "name": "stdout",
     "output_type": "stream",
     "text": [
      "<class 'pandas.core.frame.DataFrame'>\n",
      "Int64Index: 1146 entries, 31 to 16710\n",
      "Data columns (total 12 columns):\n",
      " #   Column           Non-Null Count  Dtype  \n",
      "---  ------           --------------  -----  \n",
      " 0   name             1146 non-null   object \n",
      " 1   platform         1146 non-null   object \n",
      " 2   year_of_release  1146 non-null   Int64  \n",
      " 3   genre            1146 non-null   object \n",
      " 4   na_sales         1146 non-null   float64\n",
      " 5   eu_sales         1146 non-null   float64\n",
      " 6   jp_sales         1146 non-null   float64\n",
      " 7   other_sales      1146 non-null   float64\n",
      " 8   critic_score     505 non-null    float64\n",
      " 9   user_score       643 non-null    float64\n",
      " 10  rating           1146 non-null   object \n",
      " 11  total_sales      1146 non-null   float64\n",
      "dtypes: Int64(1), float64(7), object(4)\n",
      "memory usage: 117.5+ KB\n"
     ]
    }
   ],
   "source": [
    "data_4 = data.query('platform in @top_5 & year_of_release in @ years')\n",
    "data_4.info()"
   ]
  },
  {
   "cell_type": "code",
   "execution_count": 50,
   "metadata": {
    "scrolled": true
   },
   "outputs": [
    {
     "data": {
      "image/png": "[encoded data removed]",
      "text/plain": [
       "<Figure size 720x360 with 1 Axes>"
      ]
     },
     "metadata": {
      "needs_background": "light"
     },
     "output_type": "display_data"
    }
   ],
   "source": [
    "pd.pivot_table(data_4,index = 'platform', values = 'total_sales', aggfunc = 'sum')\\\n",
    ".plot(title = 'Продажи пяти лидирующих платформ с 2014 по 2016 год', figsize = (10,5), style = 'o-');"
   ]
  },
  {
   "cell_type": "markdown",
   "metadata": {},
   "source": [
    "Было принято решение построить два графика \"ящик с усами\" для указания различий данных и демонстрации того, что можно потерять значимые данные, если строить график с параметром `showfliers`"
   ]
  },
  {
   "cell_type": "code",
   "execution_count": 51,
   "metadata": {},
   "outputs": [
    {
     "data": {
      "image/png": "[encoded data removed]",
      "text/plain": [
       "<Figure size 792x576 with 1 Axes>"
      ]
     },
     "metadata": {
      "needs_background": "light"
     },
     "output_type": "display_data"
    }
   ],
   "source": [
    "sns.boxplot(data = data_4, x = 'total_sales', y = 'platform', whis=3)\n",
    "fig = plt.gcf()\n",
    "fig.set_size_inches(11, 8)"
   ]
  },
  {
   "cell_type": "code",
   "execution_count": 52,
   "metadata": {},
   "outputs": [
    {
     "data": {
      "image/png": "[encoded data removed]",
      "text/plain": [
       "<Figure size 792x576 with 1 Axes>"
      ]
     },
     "metadata": {
      "needs_background": "light"
     },
     "output_type": "display_data"
    }
   ],
   "source": [
    "sns.boxplot(data = data_4, x = 'total_sales', y = 'platform', whis=2, showfliers = False)\n",
    "fig = plt.gcf()\n",
    "fig.set_size_inches(11, 8)"
   ]
  },
  {
   "cell_type": "markdown",
   "metadata": {},
   "source": [
    "Из графиков видно, что наибольшие продажи были у платформ `PS4`, за ней с отрывом в половину продаж идет `XOne`, маленькие продажи остальных платформ, возможно связаны с окончанием их \"расцвета\" и появлением новых платформ"
   ]
  },
  {
   "cell_type": "markdown",
   "metadata": {},
   "source": [
    "Рассмотрим зависимость продаж платформ от отзывов, на примере платформ `XOne` и `3DS` "
   ]
  },
  {
   "cell_type": "code",
   "execution_count": 53,
   "metadata": {},
   "outputs": [],
   "source": [
    "xone = actual_period.query('platform == \"XOne\" ')"
   ]
  },
  {
   "cell_type": "markdown",
   "metadata": {},
   "source": [
    "Посмотрим зависимость продаж от оценок пользователей и отобразим это на графике, тоже самое сделаем с оценками критиков"
   ]
  },
  {
   "cell_type": "code",
   "execution_count": 54,
   "metadata": {},
   "outputs": [
    {
     "data": {
      "text/plain": [
       "-0.0703839280647581"
      ]
     },
     "execution_count": 54,
     "metadata": {},
     "output_type": "execute_result"
    }
   ],
   "source": [
    "xone['user_score'].corr(xone['total_sales'])"
   ]
  },
  {
   "cell_type": "code",
   "execution_count": 55,
   "metadata": {},
   "outputs": [
    {
     "data": {
      "image/png": "[encoded data removed]",
      "text/plain": [
       "<Figure size 432x288 with 1 Axes>"
      ]
     },
     "metadata": {
      "needs_background": "light"
     },
     "output_type": "display_data"
    }
   ],
   "source": [
    "xone.plot(x = 'user_score', y = 'total_sales', kind = 'scatter',\\\n",
    "          title = 'Зависимость продаж платформы XOne от оценок пользователей');"
   ]
  },
  {
   "cell_type": "code",
   "execution_count": 56,
   "metadata": {},
   "outputs": [
    {
     "data": {
      "text/plain": [
       "0.42867694370333226"
      ]
     },
     "execution_count": 56,
     "metadata": {},
     "output_type": "execute_result"
    }
   ],
   "source": [
    "xone['critic_score'].corr(xone['total_sales'])"
   ]
  },
  {
   "cell_type": "code",
   "execution_count": 57,
   "metadata": {},
   "outputs": [
    {
     "data": {
      "image/png": "[encoded data removed]",
      "text/plain": [
       "<Figure size 432x288 with 1 Axes>"
      ]
     },
     "metadata": {
      "needs_background": "light"
     },
     "output_type": "display_data"
    }
   ],
   "source": [
    "xone.plot(x = 'critic_score', y = 'total_sales', kind = 'scatter',\\\n",
    "          title = 'Зависимость продаж платформы XOne от оценок критиков');"
   ]
  },
  {
   "cell_type": "markdown",
   "metadata": {},
   "source": [
    "Из графиков видно среднюю зависимость продаж платформы от отзывов критиков, и почти нулевую зависимость от отзывов пользователей "
   ]
  },
  {
   "cell_type": "code",
   "execution_count": 58,
   "metadata": {},
   "outputs": [],
   "source": [
    "ds = actual_period.query('platform == \"3DS\"')"
   ]
  },
  {
   "cell_type": "code",
   "execution_count": 59,
   "metadata": {},
   "outputs": [
    {
     "data": {
      "text/plain": [
       "0.2151932718527028"
      ]
     },
     "execution_count": 59,
     "metadata": {},
     "output_type": "execute_result"
    }
   ],
   "source": [
    "ds['user_score'].corr(ds['total_sales'])"
   ]
  },
  {
   "cell_type": "code",
   "execution_count": 60,
   "metadata": {},
   "outputs": [
    {
     "data": {
      "image/png": "[encoded data removed]",
      "text/plain": [
       "<Figure size 432x288 with 1 Axes>"
      ]
     },
     "metadata": {
      "needs_background": "light"
     },
     "output_type": "display_data"
    }
   ],
   "source": [
    "ds.plot(x = 'user_score', y = 'total_sales', kind = 'scatter',\\\n",
    "        title = 'Зависимость продаж платформы 3DS от оценок пользователей');"
   ]
  },
  {
   "cell_type": "code",
   "execution_count": 61,
   "metadata": {},
   "outputs": [
    {
     "data": {
      "text/plain": [
       "0.314117492869051"
      ]
     },
     "execution_count": 61,
     "metadata": {},
     "output_type": "execute_result"
    }
   ],
   "source": [
    "ds['critic_score'].corr(ds['total_sales'])"
   ]
  },
  {
   "cell_type": "code",
   "execution_count": 62,
   "metadata": {
    "scrolled": true
   },
   "outputs": [
    {
     "data": {
      "image/png": "[encoded data removed]",
      "text/plain": [
       "<Figure size 432x288 with 1 Axes>"
      ]
     },
     "metadata": {
      "needs_background": "light"
     },
     "output_type": "display_data"
    }
   ],
   "source": [
    "ds.plot(x = 'critic_score', y = 'total_sales', kind = 'scatter', title = 'Зависимость продаж платформы 3DS от оценок критиков');"
   ]
  },
  {
   "cell_type": "markdown",
   "metadata": {},
   "source": [
    "По продажам платформы `3DS` зависимость от оценки пользователей и критиков почти одинакова"
   ]
  },
  {
   "cell_type": "markdown",
   "metadata": {},
   "source": [
    "Посмотрим какой жанр игр приносит наибольшие продажи в актуальном периоде, из таблицы ниже видно, всего жанров у нас 12, чаще продаются игры жанра `Shooter`, а игры жанра `Advanture` меньше пользуются популярностью у любителей видеоигр "
   ]
  },
  {
   "cell_type": "code",
   "execution_count": 63,
   "metadata": {},
   "outputs": [],
   "source": [
    "genre = actual_period.groupby('genre')['total_sales'].mean().sort_values(ascending = False)"
   ]
  },
  {
   "cell_type": "code",
   "execution_count": 64,
   "metadata": {},
   "outputs": [
    {
     "data": {
      "text/plain": [
       "genre\n",
       "Shooter         1.335469\n",
       "Sports          0.680000\n",
       "Platform        0.476053\n",
       "Fighting        0.470333\n",
       "Role-Playing    0.459005\n",
       "Racing          0.398841\n",
       "Misc            0.332301\n",
       "Action          0.322068\n",
       "Simulation      0.298409\n",
       "Puzzle          0.157857\n",
       "Strategy        0.107027\n",
       "Adventure       0.094865\n",
       "Name: total_sales, dtype: float64"
      ]
     },
     "execution_count": 64,
     "metadata": {},
     "output_type": "execute_result"
    }
   ],
   "source": [
    "genre"
   ]
  },
  {
   "cell_type": "markdown",
   "metadata": {},
   "source": [
    "### Составление портрета пользователя каждого региона (NA, EU, JP)"
   ]
  },
  {
   "cell_type": "markdown",
   "metadata": {},
   "source": [
    "Посмотрим на портреты пользователей в разных регионах за период с 2014 по 2016 год"
   ]
  },
  {
   "cell_type": "code",
   "execution_count": 65,
   "metadata": {},
   "outputs": [],
   "source": [
    "na = actual_period.groupby('platform')['na_sales'].sum().sort_values(ascending = False).head(5).to_frame()"
   ]
  },
  {
   "cell_type": "code",
   "execution_count": 66,
   "metadata": {},
   "outputs": [],
   "source": [
    "eu = actual_period.groupby('platform')['eu_sales'].sum().sort_values(ascending = False).head(5).to_frame()"
   ]
  },
  {
   "cell_type": "code",
   "execution_count": 67,
   "metadata": {},
   "outputs": [],
   "source": [
    "jp = actual_period.groupby('platform')['jp_sales'].sum().sort_values(ascending = False).head(5).to_frame()"
   ]
  },
  {
   "cell_type": "code",
   "execution_count": 68,
   "metadata": {
    "scrolled": true
   },
   "outputs": [
    {
     "data": {
      "text/html": [
       "<div>\n",
       "<style scoped>\n",
       "    .dataframe tbody tr th:only-of-type {\n",
       "        vertical-align: middle;\n",
       "    }\n",
       "\n",
       "    .dataframe tbody tr th {\n",
       "        vertical-align: top;\n",
       "    }\n",
       "\n",
       "    .dataframe thead th {\n",
       "        text-align: right;\n",
       "    }\n",
       "</style>\n",
       "<table border=\"1\" class=\"dataframe\">\n",
       "  <thead>\n",
       "    <tr style=\"text-align: right;\">\n",
       "      <th></th>\n",
       "      <th>na_sales</th>\n",
       "      <th>eu_sales</th>\n",
       "      <th>jp_sales</th>\n",
       "    </tr>\n",
       "    <tr>\n",
       "      <th>platform</th>\n",
       "      <th></th>\n",
       "      <th></th>\n",
       "      <th></th>\n",
       "    </tr>\n",
       "  </thead>\n",
       "  <tbody>\n",
       "    <tr>\n",
       "      <th>PS3</th>\n",
       "      <td>22.05</td>\n",
       "      <td>25.54</td>\n",
       "      <td>11.22</td>\n",
       "    </tr>\n",
       "    <tr>\n",
       "      <th>3DS</th>\n",
       "      <td>22.64</td>\n",
       "      <td>16.12</td>\n",
       "      <td>44.24</td>\n",
       "    </tr>\n",
       "    <tr>\n",
       "      <th>X360</th>\n",
       "      <td>28.30</td>\n",
       "      <td>NaN</td>\n",
       "      <td>NaN</td>\n",
       "    </tr>\n",
       "    <tr>\n",
       "      <th>XOne</th>\n",
       "      <td>81.27</td>\n",
       "      <td>46.25</td>\n",
       "      <td>NaN</td>\n",
       "    </tr>\n",
       "    <tr>\n",
       "      <th>PS4</th>\n",
       "      <td>98.61</td>\n",
       "      <td>130.04</td>\n",
       "      <td>15.02</td>\n",
       "    </tr>\n",
       "    <tr>\n",
       "      <th>PC</th>\n",
       "      <td>NaN</td>\n",
       "      <td>17.97</td>\n",
       "      <td>NaN</td>\n",
       "    </tr>\n",
       "    <tr>\n",
       "      <th>WiiU</th>\n",
       "      <td>NaN</td>\n",
       "      <td>NaN</td>\n",
       "      <td>7.31</td>\n",
       "    </tr>\n",
       "    <tr>\n",
       "      <th>PSV</th>\n",
       "      <td>NaN</td>\n",
       "      <td>NaN</td>\n",
       "      <td>14.54</td>\n",
       "    </tr>\n",
       "  </tbody>\n",
       "</table>\n",
       "</div>"
      ],
      "text/plain": [
       "          na_sales  eu_sales  jp_sales\n",
       "platform                              \n",
       "PS3          22.05     25.54     11.22\n",
       "3DS          22.64     16.12     44.24\n",
       "X360         28.30       NaN       NaN\n",
       "XOne         81.27     46.25       NaN\n",
       "PS4          98.61    130.04     15.02\n",
       "PC             NaN     17.97       NaN\n",
       "WiiU           NaN       NaN      7.31\n",
       "PSV            NaN       NaN     14.54"
      ]
     },
     "execution_count": 68,
     "metadata": {},
     "output_type": "execute_result"
    }
   ],
   "source": [
    "na.join(eu, lsuffix = '2', how = 'outer').join(jp, lsuffix='3', how = 'outer')\\\n",
    ".sort_values(by = ['na_sales', 'eu_sales','jp_sales'])"
   ]
  },
  {
   "cell_type": "markdown",
   "metadata": {},
   "source": [
    "Во всех трех регионах присутствуют платформы `PS4`,`3DS` и `PS3`, в Америке и Европе также пользуется популярностью платформа `XOne`, в Японии предпочтительны другие платформы - `WiiU` и `PSV`"
   ]
  },
  {
   "cell_type": "code",
   "execution_count": 69,
   "metadata": {},
   "outputs": [],
   "source": [
    "na2 = actual_period.groupby('genre')['na_sales'].mean().sort_values(ascending = False).head(5).to_frame()"
   ]
  },
  {
   "cell_type": "code",
   "execution_count": 70,
   "metadata": {},
   "outputs": [
    {
     "data": {
      "image/png": "[encoded data removed]",
      "text/plain": [
       "<Figure size 576x288 with 1 Axes>"
      ]
     },
     "metadata": {},
     "output_type": "display_data"
    }
   ],
   "source": [
    "na2.plot(kind = 'pie', y = 'na_sales', autopct = '%1.0f%%', figsize=(8, 4), legend = False, ylabel = '',\\\n",
    "         title = 'Предпочтения по жанрам в регионе Северная Америка');"
   ]
  },
  {
   "cell_type": "code",
   "execution_count": 71,
   "metadata": {},
   "outputs": [],
   "source": [
    "eu2 = actual_period.groupby('genre')['eu_sales'].mean().sort_values(ascending = False).head(5).to_frame()"
   ]
  },
  {
   "cell_type": "code",
   "execution_count": 72,
   "metadata": {},
   "outputs": [
    {
     "data": {
      "image/png": "[encoded data removed]",
      "text/plain": [
       "<Figure size 576x288 with 1 Axes>"
      ]
     },
     "metadata": {},
     "output_type": "display_data"
    }
   ],
   "source": [
    "eu2.plot(kind = 'pie', y = 'eu_sales', autopct = '%1.0f%%', figsize=(8, 4), legend = False, ylabel = '',\\\n",
    "         title = 'Предпочтения по жанрам в Европейском регионе');"
   ]
  },
  {
   "cell_type": "code",
   "execution_count": 97,
   "metadata": {},
   "outputs": [],
   "source": [
    "jp2 = actual_period.groupby('genre')['jp_sales'].mean().sort_values(ascending = False).head(5).to_frame()"
   ]
  },
  {
   "cell_type": "code",
   "execution_count": 98,
   "metadata": {
    "scrolled": true
   },
   "outputs": [
    {
     "data": {
      "image/png": "[encoded data removed]",
      "text/plain": [
       "<Figure size 576x288 with 1 Axes>"
      ]
     },
     "metadata": {},
     "output_type": "display_data"
    }
   ],
   "source": [
    "jp2.plot(kind = 'pie', y = 'jp_sales', autopct = '%1.0f%%', figsize=(8, 4), legend = False, ylabel = '',\\\n",
    "         title = 'Предпочтения по жанрам в Японии', normalize = False);"
   ]
  },
  {
   "cell_type": "code",
   "execution_count": 75,
   "metadata": {},
   "outputs": [
    {
     "data": {
      "text/html": [
       "<div>\n",
       "<style scoped>\n",
       "    .dataframe tbody tr th:only-of-type {\n",
       "        vertical-align: middle;\n",
       "    }\n",
       "\n",
       "    .dataframe tbody tr th {\n",
       "        vertical-align: top;\n",
       "    }\n",
       "\n",
       "    .dataframe thead th {\n",
       "        text-align: right;\n",
       "    }\n",
       "</style>\n",
       "<table border=\"1\" class=\"dataframe\">\n",
       "  <thead>\n",
       "    <tr style=\"text-align: right;\">\n",
       "      <th></th>\n",
       "      <th>na_sales</th>\n",
       "      <th>eu_sales</th>\n",
       "      <th>jp_sales</th>\n",
       "    </tr>\n",
       "    <tr>\n",
       "      <th>genre</th>\n",
       "      <th></th>\n",
       "      <th></th>\n",
       "      <th></th>\n",
       "    </tr>\n",
       "  </thead>\n",
       "  <tbody>\n",
       "    <tr>\n",
       "      <th>Fighting</th>\n",
       "      <td>0.207167</td>\n",
       "      <td>NaN</td>\n",
       "      <td>0.106167</td>\n",
       "    </tr>\n",
       "    <tr>\n",
       "      <th>Platform</th>\n",
       "      <td>0.178684</td>\n",
       "      <td>0.178947</td>\n",
       "      <td>0.070789</td>\n",
       "    </tr>\n",
       "    <tr>\n",
       "      <th>Puzzle</th>\n",
       "      <td>NaN</td>\n",
       "      <td>NaN</td>\n",
       "      <td>0.066429</td>\n",
       "    </tr>\n",
       "    <tr>\n",
       "      <th>Racing</th>\n",
       "      <td>NaN</td>\n",
       "      <td>0.204783</td>\n",
       "      <td>NaN</td>\n",
       "    </tr>\n",
       "    <tr>\n",
       "      <th>Role-Playing</th>\n",
       "      <td>0.151448</td>\n",
       "      <td>NaN</td>\n",
       "      <td>0.140995</td>\n",
       "    </tr>\n",
       "    <tr>\n",
       "      <th>Shooter</th>\n",
       "      <td>0.617344</td>\n",
       "      <td>0.511875</td>\n",
       "      <td>NaN</td>\n",
       "    </tr>\n",
       "    <tr>\n",
       "      <th>Simulation</th>\n",
       "      <td>NaN</td>\n",
       "      <td>0.165909</td>\n",
       "      <td>0.052500</td>\n",
       "    </tr>\n",
       "    <tr>\n",
       "      <th>Sports</th>\n",
       "      <td>0.286522</td>\n",
       "      <td>0.284037</td>\n",
       "      <td>NaN</td>\n",
       "    </tr>\n",
       "  </tbody>\n",
       "</table>\n",
       "</div>"
      ],
      "text/plain": [
       "              na_sales  eu_sales  jp_sales\n",
       "genre                                     \n",
       "Fighting      0.207167       NaN  0.106167\n",
       "Platform      0.178684  0.178947  0.070789\n",
       "Puzzle             NaN       NaN  0.066429\n",
       "Racing             NaN  0.204783       NaN\n",
       "Role-Playing  0.151448       NaN  0.140995\n",
       "Shooter       0.617344  0.511875       NaN\n",
       "Simulation         NaN  0.165909  0.052500\n",
       "Sports        0.286522  0.284037       NaN"
      ]
     },
     "execution_count": 75,
     "metadata": {},
     "output_type": "execute_result"
    }
   ],
   "source": [
    "na2.join(eu2, lsuffix = '2', how = 'outer').join(jp2, lsuffix='3', how = 'outer')"
   ]
  },
  {
   "cell_type": "markdown",
   "metadata": {},
   "source": [
    "Во всех регионах предпочтения по жанрам разнообразные, например, в Америке, как и в Европе больше всего любят жанр `Shooter`, а в Японии предпочитают жанр `Platform` и `Puzzle`, вот почему японцы самая умная нация"
   ]
  },
  {
   "cell_type": "code",
   "execution_count": 76,
   "metadata": {
    "scrolled": true
   },
   "outputs": [
    {
     "data": {
      "text/plain": [
       "rating\n",
       "M       96.42\n",
       "1000    64.72\n",
       "E       50.74\n",
       "T       38.95\n",
       "E10+    33.23\n",
       "Name: na_sales, dtype: float64"
      ]
     },
     "execution_count": 76,
     "metadata": {},
     "output_type": "execute_result"
    }
   ],
   "source": [
    "actual_period.groupby('rating')['na_sales'].sum().sort_values(ascending = False)"
   ]
  },
  {
   "cell_type": "code",
   "execution_count": 77,
   "metadata": {},
   "outputs": [
    {
     "data": {
      "text/plain": [
       "rating\n",
       "M       93.44\n",
       "1000    58.95\n",
       "E       58.06\n",
       "T       34.07\n",
       "E10+    26.16\n",
       "Name: eu_sales, dtype: float64"
      ]
     },
     "execution_count": 77,
     "metadata": {},
     "output_type": "execute_result"
    }
   ],
   "source": [
    "actual_period.groupby('rating')['eu_sales'].sum().sort_values(ascending = False)"
   ]
  },
  {
   "cell_type": "code",
   "execution_count": 78,
   "metadata": {},
   "outputs": [
    {
     "data": {
      "text/plain": [
       "rating\n",
       "1000    56.90\n",
       "T       14.78\n",
       "E        8.94\n",
       "M        8.01\n",
       "E10+     4.46\n",
       "Name: jp_sales, dtype: float64"
      ]
     },
     "execution_count": 78,
     "metadata": {},
     "output_type": "execute_result"
    }
   ],
   "source": [
    "actual_period.groupby('rating')['jp_sales'].sum().sort_values(ascending = False)"
   ]
  },
  {
   "cell_type": "markdown",
   "metadata": {},
   "source": [
    "В Европе и Америке люди предпочитают покупать игры для взрослых и это примерно 1/3 от всех продаж, а в Японии предпочитают \"свой\" рейтинг, именно он составляет половину продаж, возможно по причине того, что система оценки игр ESRB, была изобретена в Канаде и США, и не распространена в Японии"
   ]
  },
  {
   "cell_type": "markdown",
   "metadata": {},
   "source": [
    "### Проверка гипотез"
   ]
  },
  {
   "cell_type": "markdown",
   "metadata": {},
   "source": [
    "Проверим две гипотезы: \n",
    "- Средние пользовательские рейтинги платформ Xbox One и PC одинаковые;\n",
    "- Средние пользовательские рейтинги жанров Action (англ. «действие», экшен-игры) и Sports (англ. «спортивные соревнования») разные."
   ]
  },
  {
   "cell_type": "markdown",
   "metadata": {},
   "source": [
    "Для проверки первого утверждения сформулируем 0 и альтернативную гипотезы:\\\n",
    "`H0`: Средние пользовательские рейтинги платформ Xbox One и PC одинаковые\\\n",
    "`H1`: Средние пользовательские рейтинги платформ Xbox One и PC не равны"
   ]
  },
  {
   "cell_type": "markdown",
   "metadata": {},
   "source": [
    "Для этого возьмем пользовательские рейтинги за весь период платформ `XOne` и `PS`"
   ]
  },
  {
   "cell_type": "code",
   "execution_count": 79,
   "metadata": {},
   "outputs": [],
   "source": [
    "x = data.query('platform == \"XOne\"')"
   ]
  },
  {
   "cell_type": "code",
   "execution_count": 80,
   "metadata": {},
   "outputs": [],
   "source": [
    "x = x['user_score'].dropna().to_list()"
   ]
  },
  {
   "cell_type": "code",
   "execution_count": 81,
   "metadata": {},
   "outputs": [],
   "source": [
    "ps = data.query('platform == \"PS\"')"
   ]
  },
  {
   "cell_type": "code",
   "execution_count": 82,
   "metadata": {},
   "outputs": [],
   "source": [
    "y = ps['user_score'].dropna().to_list()"
   ]
  },
  {
   "cell_type": "markdown",
   "metadata": {},
   "source": [
    "Проверим гипотезу о равенстве среднего из двух генеральных совокупностей"
   ]
  },
  {
   "cell_type": "code",
   "execution_count": 83,
   "metadata": {},
   "outputs": [
    {
     "name": "stdout",
     "output_type": "stream",
     "text": [
      "p-значение: 4.8107256198405024e-18\n",
      "Отвергаем нулевую гипотезу\n"
     ]
    }
   ],
   "source": [
    "results = st.ttest_ind(x,y)\n",
    "\n",
    "alpha = 0.05\n",
    "\n",
    "print('p-значение:', results.pvalue)\n",
    "\n",
    "if results.pvalue < alpha:\n",
    "    print(\"Отвергаем нулевую гипотезу\")\n",
    "else:\n",
    "    print(\"Не получилось отвергнуть нулевую гипотезу\") "
   ]
  },
  {
   "cell_type": "markdown",
   "metadata": {},
   "source": [
    "В данном случае средние пользовательские рейтинги платформ Xbox One и PC разные"
   ]
  },
  {
   "cell_type": "markdown",
   "metadata": {},
   "source": [
    "Проверим второе утверждение:\\\n",
    "`H0`: Средние пользовательские рейтинги жанров Action и Sports разные\\\n",
    "`H1`: Средние рейтинги жанров Action и Sports одинаковые"
   ]
  },
  {
   "cell_type": "code",
   "execution_count": 84,
   "metadata": {},
   "outputs": [],
   "source": [
    "act = data.query('genre == \"Action\"')"
   ]
  },
  {
   "cell_type": "code",
   "execution_count": 85,
   "metadata": {},
   "outputs": [],
   "source": [
    "a = act['user_score'].dropna().to_list()"
   ]
  },
  {
   "cell_type": "code",
   "execution_count": 86,
   "metadata": {},
   "outputs": [],
   "source": [
    "sport = data.query('genre == \"Sports\"')"
   ]
  },
  {
   "cell_type": "code",
   "execution_count": 87,
   "metadata": {},
   "outputs": [],
   "source": [
    "b = sport['user_score'].dropna().to_list()"
   ]
  },
  {
   "cell_type": "code",
   "execution_count": 88,
   "metadata": {},
   "outputs": [
    {
     "name": "stdout",
     "output_type": "stream",
     "text": [
      "p-значение: 0.05763969046781938\n",
      "Не получилось отвергнуть нулевую гипотезу\n"
     ]
    }
   ],
   "source": [
    "results = st.ttest_ind(a,b, equal_var = False)\n",
    "\n",
    "alpha = 0.05\n",
    "\n",
    "print('p-значение:', results.pvalue/2)\n",
    "\n",
    "if results.pvalue/2 < alpha:\n",
    "    print(\"Отвергаем нулевую гипотезу\")\n",
    "else:\n",
    "    print(\"Не получилось отвергнуть нулевую гипотезу\") "
   ]
  },
  {
   "cell_type": "markdown",
   "metadata": {},
   "source": [
    "Здесь мы имеем дело с двусторонней гипотезой, поэтому мы делим значение p-value на 2"
   ]
  },
  {
   "cell_type": "markdown",
   "metadata": {},
   "source": [
    "### Общий вывод"
   ]
  },
  {
   "cell_type": "code",
   "execution_count": 89,
   "metadata": {},
   "outputs": [
    {
     "data": {
      "text/plain": [
       "['PS4', 'XOne', '3DS', 'PS3', 'X360']"
      ]
     },
     "execution_count": 89,
     "metadata": {},
     "output_type": "execute_result"
    }
   ],
   "source": [
    "top_5"
   ]
  },
  {
   "cell_type": "markdown",
   "metadata": {},
   "source": [
    "Проведя анализ по данным о компьютерных играх, можно сделать несколько выводов:\n",
    "- В среднем платформы \"живут\" около 10 лет, за исключением редких экземпляров;\n",
    "- Продажа игровой платформы имеет зависимость от оценки критиков в большей степени, чем от оценки пользователей;\n",
    "- По прогнозам на 2017 год, рекомендую ориентироваться на платформы в `top_5`, исходя из данных о продажах за последние три года, за исключением платформы `3DS`, которая не является перспективной, исходя из теории о времени \"жизни\" платформы;\n",
    "- По поводу жанров я бы посоветовала ориентрироваться на большую часть рынка и покупать игры с жанром `Shooter`, `Sports `,`\n",
    "Platform`, `Fighting` и `Role-Playing`\n",
    "- Также из-за того, что больше всего продаж в регионе Северной Америки, я бы закупила платформу `X360`, так как она является популярной в этом регионе"
   ]
  }
 ],
 "metadata": {
  "ExecuteTimeLog": [
   {
    "duration": 405,
    "start_time": "2022-11-15T15:55:20.947Z"
   },
   {
    "duration": 216,
    "start_time": "2022-11-15T15:56:23.852Z"
   },
   {
    "duration": 20,
    "start_time": "2022-11-15T15:56:44.851Z"
   },
   {
    "duration": 13,
    "start_time": "2022-11-15T15:57:23.606Z"
   },
   {
    "duration": 19,
    "start_time": "2022-11-15T16:04:55.882Z"
   },
   {
    "duration": 4,
    "start_time": "2022-11-15T16:07:36.484Z"
   },
   {
    "duration": 8,
    "start_time": "2022-11-15T16:07:49.432Z"
   },
   {
    "duration": 7,
    "start_time": "2022-11-15T16:08:17.679Z"
   },
   {
    "duration": 63,
    "start_time": "2022-11-15T16:10:20.345Z"
   },
   {
    "duration": 8,
    "start_time": "2022-11-15T16:11:32.196Z"
   },
   {
    "duration": 18,
    "start_time": "2022-11-15T16:14:17.845Z"
   },
   {
    "duration": 46,
    "start_time": "2022-11-16T14:54:54.232Z"
   },
   {
    "duration": 341,
    "start_time": "2022-11-16T14:55:03.386Z"
   },
   {
    "duration": 86,
    "start_time": "2022-11-16T14:55:03.729Z"
   },
   {
    "duration": 20,
    "start_time": "2022-11-16T14:55:03.816Z"
   },
   {
    "duration": 17,
    "start_time": "2022-11-16T14:55:03.837Z"
   },
   {
    "duration": 14,
    "start_time": "2022-11-16T14:55:03.856Z"
   },
   {
    "duration": 3,
    "start_time": "2022-11-16T14:55:03.872Z"
   },
   {
    "duration": 16,
    "start_time": "2022-11-16T14:55:03.876Z"
   },
   {
    "duration": 14,
    "start_time": "2022-11-16T14:55:03.893Z"
   },
   {
    "duration": 54,
    "start_time": "2022-11-16T14:55:59.050Z"
   },
   {
    "duration": 7,
    "start_time": "2022-11-16T14:58:50.478Z"
   },
   {
    "duration": 3,
    "start_time": "2022-11-16T15:00:03.827Z"
   },
   {
    "duration": 3,
    "start_time": "2022-11-16T15:00:18.891Z"
   },
   {
    "duration": 4,
    "start_time": "2022-11-16T15:00:27.235Z"
   },
   {
    "duration": 6,
    "start_time": "2022-11-16T15:00:56.604Z"
   },
   {
    "duration": 7,
    "start_time": "2022-11-16T15:01:22.043Z"
   },
   {
    "duration": 6,
    "start_time": "2022-11-16T15:02:36.179Z"
   },
   {
    "duration": 6,
    "start_time": "2022-11-16T15:02:48.717Z"
   },
   {
    "duration": 352,
    "start_time": "2022-11-16T15:03:02.380Z"
   },
   {
    "duration": 45,
    "start_time": "2022-11-16T15:03:02.733Z"
   },
   {
    "duration": 19,
    "start_time": "2022-11-16T15:03:02.779Z"
   },
   {
    "duration": 18,
    "start_time": "2022-11-16T15:03:02.800Z"
   },
   {
    "duration": 15,
    "start_time": "2022-11-16T15:03:02.820Z"
   },
   {
    "duration": 28,
    "start_time": "2022-11-16T15:03:02.836Z"
   },
   {
    "duration": 17,
    "start_time": "2022-11-16T15:03:02.866Z"
   },
   {
    "duration": 18,
    "start_time": "2022-11-16T15:03:02.885Z"
   },
   {
    "duration": 14,
    "start_time": "2022-11-16T15:03:02.905Z"
   },
   {
    "duration": 4,
    "start_time": "2022-11-16T15:03:32.905Z"
   },
   {
    "duration": 18,
    "start_time": "2022-11-16T15:06:38.583Z"
   },
   {
    "duration": 7,
    "start_time": "2022-11-16T15:12:30.987Z"
   },
   {
    "duration": 19,
    "start_time": "2022-11-16T15:12:47.025Z"
   },
   {
    "duration": 4,
    "start_time": "2022-11-16T15:13:34.994Z"
   },
   {
    "duration": 25,
    "start_time": "2022-11-16T15:13:38.181Z"
   },
   {
    "duration": 4,
    "start_time": "2022-11-16T15:13:44.300Z"
   },
   {
    "duration": 18,
    "start_time": "2022-11-16T15:13:47.738Z"
   },
   {
    "duration": 67,
    "start_time": "2022-11-16T15:14:03.697Z"
   },
   {
    "duration": 16,
    "start_time": "2022-11-16T15:14:09.037Z"
   },
   {
    "duration": 4,
    "start_time": "2022-11-16T15:14:31.498Z"
   },
   {
    "duration": 57,
    "start_time": "2022-11-16T15:14:35.097Z"
   },
   {
    "duration": 12,
    "start_time": "2022-11-16T15:14:48.994Z"
   },
   {
    "duration": 8,
    "start_time": "2022-11-16T15:15:02.653Z"
   },
   {
    "duration": 369,
    "start_time": "2022-11-16T15:15:11.753Z"
   },
   {
    "duration": 43,
    "start_time": "2022-11-16T15:15:12.124Z"
   },
   {
    "duration": 19,
    "start_time": "2022-11-16T15:15:12.168Z"
   },
   {
    "duration": 16,
    "start_time": "2022-11-16T15:15:12.188Z"
   },
   {
    "duration": 14,
    "start_time": "2022-11-16T15:15:12.205Z"
   },
   {
    "duration": 1188,
    "start_time": "2022-11-16T15:15:12.220Z"
   },
   {
    "duration": 0,
    "start_time": "2022-11-16T15:15:13.410Z"
   },
   {
    "duration": 0,
    "start_time": "2022-11-16T15:15:13.411Z"
   },
   {
    "duration": 0,
    "start_time": "2022-11-16T15:15:13.411Z"
   },
   {
    "duration": 0,
    "start_time": "2022-11-16T15:15:13.412Z"
   },
   {
    "duration": 3,
    "start_time": "2022-11-16T15:15:41.236Z"
   },
   {
    "duration": 5,
    "start_time": "2022-11-16T15:15:45.355Z"
   },
   {
    "duration": 15,
    "start_time": "2022-11-16T15:15:49.505Z"
   },
   {
    "duration": 4,
    "start_time": "2022-11-16T15:15:59.984Z"
   },
   {
    "duration": 11,
    "start_time": "2022-11-16T15:16:03.280Z"
   },
   {
    "duration": 12,
    "start_time": "2022-11-16T15:20:20.843Z"
   },
   {
    "duration": 45,
    "start_time": "2022-11-17T15:10:37.923Z"
   },
   {
    "duration": 417,
    "start_time": "2022-11-17T15:11:38.208Z"
   },
   {
    "duration": 97,
    "start_time": "2022-11-17T15:11:38.627Z"
   },
   {
    "duration": 23,
    "start_time": "2022-11-17T15:11:38.725Z"
   },
   {
    "duration": 18,
    "start_time": "2022-11-17T15:11:38.750Z"
   },
   {
    "duration": 13,
    "start_time": "2022-11-17T15:11:38.770Z"
   },
   {
    "duration": 3,
    "start_time": "2022-11-17T15:11:38.785Z"
   },
   {
    "duration": 74,
    "start_time": "2022-11-17T15:11:38.805Z"
   },
   {
    "duration": 0,
    "start_time": "2022-11-17T15:11:38.881Z"
   },
   {
    "duration": 0,
    "start_time": "2022-11-17T15:11:38.883Z"
   },
   {
    "duration": 0,
    "start_time": "2022-11-17T15:11:38.883Z"
   },
   {
    "duration": 6,
    "start_time": "2022-11-17T15:12:03.964Z"
   },
   {
    "duration": 4,
    "start_time": "2022-11-17T15:13:11.120Z"
   },
   {
    "duration": 12,
    "start_time": "2022-11-17T15:13:26.965Z"
   },
   {
    "duration": 6,
    "start_time": "2022-11-17T15:15:28.764Z"
   },
   {
    "duration": 13,
    "start_time": "2022-11-17T15:15:31.821Z"
   },
   {
    "duration": 18,
    "start_time": "2022-11-17T15:15:39.213Z"
   },
   {
    "duration": 4,
    "start_time": "2022-11-17T15:27:17.806Z"
   },
   {
    "duration": 13,
    "start_time": "2022-11-17T15:27:21.053Z"
   },
   {
    "duration": 31,
    "start_time": "2022-11-17T15:27:25.039Z"
   },
   {
    "duration": 5,
    "start_time": "2022-11-17T15:27:41.233Z"
   },
   {
    "duration": 5,
    "start_time": "2022-11-17T15:28:00.746Z"
   },
   {
    "duration": 6,
    "start_time": "2022-11-17T15:28:04.737Z"
   },
   {
    "duration": 72,
    "start_time": "2022-11-17T15:28:36.625Z"
   },
   {
    "duration": 4,
    "start_time": "2022-11-17T15:28:43.834Z"
   },
   {
    "duration": 15,
    "start_time": "2022-11-17T15:28:46.626Z"
   },
   {
    "duration": 23,
    "start_time": "2022-11-17T15:29:01.440Z"
   },
   {
    "duration": 4,
    "start_time": "2022-11-17T15:30:59.875Z"
   },
   {
    "duration": 12,
    "start_time": "2022-11-17T15:39:28.167Z"
   },
   {
    "duration": 14,
    "start_time": "2022-11-17T15:39:50.917Z"
   },
   {
    "duration": 394,
    "start_time": "2022-11-17T15:40:02.819Z"
   },
   {
    "duration": 48,
    "start_time": "2022-11-17T15:40:03.215Z"
   },
   {
    "duration": 21,
    "start_time": "2022-11-17T15:40:03.264Z"
   },
   {
    "duration": 22,
    "start_time": "2022-11-17T15:40:03.287Z"
   },
   {
    "duration": 16,
    "start_time": "2022-11-17T15:40:03.311Z"
   },
   {
    "duration": 13,
    "start_time": "2022-11-17T15:40:03.329Z"
   },
   {
    "duration": 12,
    "start_time": "2022-11-17T15:40:03.344Z"
   },
   {
    "duration": 18,
    "start_time": "2022-11-17T15:40:03.357Z"
   },
   {
    "duration": 27,
    "start_time": "2022-11-17T15:40:03.377Z"
   },
   {
    "duration": 25,
    "start_time": "2022-11-17T15:40:03.405Z"
   },
   {
    "duration": 1214,
    "start_time": "2022-11-17T15:40:03.432Z"
   },
   {
    "duration": 0,
    "start_time": "2022-11-17T15:40:04.648Z"
   },
   {
    "duration": 8,
    "start_time": "2022-11-17T15:52:12.657Z"
   },
   {
    "duration": 13,
    "start_time": "2022-11-17T15:52:15.937Z"
   },
   {
    "duration": 10,
    "start_time": "2022-11-17T15:53:09.234Z"
   },
   {
    "duration": 13,
    "start_time": "2022-11-17T15:53:11.881Z"
   },
   {
    "duration": 19,
    "start_time": "2022-11-17T15:54:21.276Z"
   },
   {
    "duration": 9,
    "start_time": "2022-11-17T15:58:59.083Z"
   },
   {
    "duration": 5,
    "start_time": "2022-11-17T16:05:49.648Z"
   },
   {
    "duration": 8,
    "start_time": "2022-11-17T16:06:19.138Z"
   },
   {
    "duration": 7,
    "start_time": "2022-11-17T16:07:52.247Z"
   },
   {
    "duration": 6,
    "start_time": "2022-11-17T16:08:21.321Z"
   },
   {
    "duration": 403,
    "start_time": "2022-11-17T16:08:47.101Z"
   },
   {
    "duration": 51,
    "start_time": "2022-11-17T16:08:47.506Z"
   },
   {
    "duration": 24,
    "start_time": "2022-11-17T16:08:47.559Z"
   },
   {
    "duration": 18,
    "start_time": "2022-11-17T16:08:47.585Z"
   },
   {
    "duration": 23,
    "start_time": "2022-11-17T16:08:47.605Z"
   },
   {
    "duration": 30,
    "start_time": "2022-11-17T16:08:47.630Z"
   },
   {
    "duration": 17,
    "start_time": "2022-11-17T16:08:47.662Z"
   },
   {
    "duration": 20,
    "start_time": "2022-11-17T16:08:47.680Z"
   },
   {
    "duration": 35,
    "start_time": "2022-11-17T16:08:47.702Z"
   },
   {
    "duration": 38,
    "start_time": "2022-11-17T16:08:47.740Z"
   },
   {
    "duration": 12,
    "start_time": "2022-11-17T16:08:47.780Z"
   },
   {
    "duration": 20,
    "start_time": "2022-11-17T16:08:47.794Z"
   },
   {
    "duration": 13,
    "start_time": "2022-11-17T16:08:47.816Z"
   },
   {
    "duration": 22,
    "start_time": "2022-11-17T16:08:47.830Z"
   },
   {
    "duration": 5,
    "start_time": "2022-11-17T16:11:35.859Z"
   },
   {
    "duration": 380,
    "start_time": "2022-11-17T16:11:44.015Z"
   },
   {
    "duration": 44,
    "start_time": "2022-11-17T16:11:44.397Z"
   },
   {
    "duration": 21,
    "start_time": "2022-11-17T16:11:44.442Z"
   },
   {
    "duration": 14,
    "start_time": "2022-11-17T16:11:44.464Z"
   },
   {
    "duration": 3,
    "start_time": "2022-11-17T16:11:44.480Z"
   },
   {
    "duration": 18,
    "start_time": "2022-11-17T16:11:44.484Z"
   },
   {
    "duration": 9,
    "start_time": "2022-11-17T16:11:44.504Z"
   },
   {
    "duration": 12,
    "start_time": "2022-11-17T16:11:44.514Z"
   },
   {
    "duration": 8,
    "start_time": "2022-11-17T16:11:44.528Z"
   },
   {
    "duration": 16,
    "start_time": "2022-11-17T16:11:44.538Z"
   },
   {
    "duration": 22,
    "start_time": "2022-11-17T16:11:44.555Z"
   },
   {
    "duration": 29,
    "start_time": "2022-11-17T16:11:44.579Z"
   },
   {
    "duration": 6,
    "start_time": "2022-11-17T16:11:44.610Z"
   },
   {
    "duration": 14,
    "start_time": "2022-11-17T16:11:44.618Z"
   },
   {
    "duration": 7,
    "start_time": "2022-11-17T16:11:44.634Z"
   },
   {
    "duration": 4,
    "start_time": "2022-11-17T16:12:13.755Z"
   },
   {
    "duration": 6,
    "start_time": "2022-11-17T16:12:21.371Z"
   },
   {
    "duration": 6,
    "start_time": "2022-11-17T16:17:08.925Z"
   },
   {
    "duration": 404,
    "start_time": "2022-11-17T16:17:21.201Z"
   },
   {
    "duration": 46,
    "start_time": "2022-11-17T16:17:21.607Z"
   },
   {
    "duration": 22,
    "start_time": "2022-11-17T16:17:21.654Z"
   },
   {
    "duration": 14,
    "start_time": "2022-11-17T16:17:21.677Z"
   },
   {
    "duration": 3,
    "start_time": "2022-11-17T16:17:21.693Z"
   },
   {
    "duration": 9,
    "start_time": "2022-11-17T16:17:21.697Z"
   },
   {
    "duration": 11,
    "start_time": "2022-11-17T16:17:21.707Z"
   },
   {
    "duration": 9,
    "start_time": "2022-11-17T16:17:21.719Z"
   },
   {
    "duration": 12,
    "start_time": "2022-11-17T16:17:21.730Z"
   },
   {
    "duration": 19,
    "start_time": "2022-11-17T16:17:21.743Z"
   },
   {
    "duration": 42,
    "start_time": "2022-11-17T16:17:21.764Z"
   },
   {
    "duration": 6,
    "start_time": "2022-11-17T16:17:21.808Z"
   },
   {
    "duration": 17,
    "start_time": "2022-11-17T16:17:21.816Z"
   },
   {
    "duration": 9,
    "start_time": "2022-11-17T16:17:21.835Z"
   },
   {
    "duration": 24,
    "start_time": "2022-11-17T16:18:29.069Z"
   },
   {
    "duration": 4,
    "start_time": "2022-11-17T16:40:10.271Z"
   },
   {
    "duration": 65,
    "start_time": "2022-11-17T16:50:47.907Z"
   },
   {
    "duration": 9,
    "start_time": "2022-11-17T16:50:57.395Z"
   },
   {
    "duration": 7,
    "start_time": "2022-11-17T16:51:33.855Z"
   },
   {
    "duration": 4,
    "start_time": "2022-11-17T16:51:46.629Z"
   },
   {
    "duration": 7,
    "start_time": "2022-11-17T16:52:05.500Z"
   },
   {
    "duration": 9,
    "start_time": "2022-11-17T16:55:52.132Z"
   },
   {
    "duration": 1175,
    "start_time": "2022-11-17T18:31:34.612Z"
   },
   {
    "duration": 5,
    "start_time": "2022-11-17T18:32:28.414Z"
   },
   {
    "duration": 83,
    "start_time": "2022-11-17T18:41:53.687Z"
   },
   {
    "duration": 12,
    "start_time": "2022-11-17T18:42:04.471Z"
   },
   {
    "duration": 400,
    "start_time": "2022-11-17T18:42:38.904Z"
   },
   {
    "duration": 52,
    "start_time": "2022-11-17T18:42:39.306Z"
   },
   {
    "duration": 25,
    "start_time": "2022-11-17T18:42:39.360Z"
   },
   {
    "duration": 15,
    "start_time": "2022-11-17T18:42:39.387Z"
   },
   {
    "duration": 4,
    "start_time": "2022-11-17T18:42:39.404Z"
   },
   {
    "duration": 14,
    "start_time": "2022-11-17T18:42:39.410Z"
   },
   {
    "duration": 11,
    "start_time": "2022-11-17T18:42:39.426Z"
   },
   {
    "duration": 13,
    "start_time": "2022-11-17T18:42:39.439Z"
   },
   {
    "duration": 4,
    "start_time": "2022-11-17T18:42:39.453Z"
   },
   {
    "duration": 12,
    "start_time": "2022-11-17T18:42:39.459Z"
   },
   {
    "duration": 8,
    "start_time": "2022-11-17T18:42:39.473Z"
   },
   {
    "duration": 7,
    "start_time": "2022-11-17T18:42:39.504Z"
   },
   {
    "duration": 9,
    "start_time": "2022-11-17T18:42:39.512Z"
   },
   {
    "duration": 63,
    "start_time": "2022-11-17T18:42:39.524Z"
   },
   {
    "duration": 0,
    "start_time": "2022-11-17T18:42:39.605Z"
   },
   {
    "duration": 75,
    "start_time": "2022-11-17T18:43:00.410Z"
   },
   {
    "duration": 5,
    "start_time": "2022-11-17T18:44:24.044Z"
   },
   {
    "duration": 545,
    "start_time": "2022-11-17T18:46:40.598Z"
   },
   {
    "duration": 8,
    "start_time": "2022-11-17T18:48:07.489Z"
   },
   {
    "duration": 8,
    "start_time": "2022-11-17T18:48:21.845Z"
   },
   {
    "duration": 8,
    "start_time": "2022-11-17T19:40:33.713Z"
   },
   {
    "duration": 427,
    "start_time": "2022-11-17T19:43:21.889Z"
   },
   {
    "duration": 47,
    "start_time": "2022-11-17T19:43:22.318Z"
   },
   {
    "duration": 20,
    "start_time": "2022-11-17T19:43:22.367Z"
   },
   {
    "duration": 13,
    "start_time": "2022-11-17T19:43:22.389Z"
   },
   {
    "duration": 4,
    "start_time": "2022-11-17T19:43:22.405Z"
   },
   {
    "duration": 5,
    "start_time": "2022-11-17T19:43:22.411Z"
   },
   {
    "duration": 22,
    "start_time": "2022-11-17T19:43:22.417Z"
   },
   {
    "duration": 11,
    "start_time": "2022-11-17T19:43:22.440Z"
   },
   {
    "duration": 3,
    "start_time": "2022-11-17T19:43:22.452Z"
   },
   {
    "duration": 10,
    "start_time": "2022-11-17T19:43:22.457Z"
   },
   {
    "duration": 5,
    "start_time": "2022-11-17T19:43:22.468Z"
   },
   {
    "duration": 8,
    "start_time": "2022-11-17T19:43:22.474Z"
   },
   {
    "duration": 29,
    "start_time": "2022-11-17T19:43:22.483Z"
   },
   {
    "duration": 9,
    "start_time": "2022-11-17T19:43:22.514Z"
   },
   {
    "duration": 3,
    "start_time": "2022-11-17T19:43:22.524Z"
   },
   {
    "duration": 27,
    "start_time": "2022-11-17T19:43:22.529Z"
   },
   {
    "duration": 4,
    "start_time": "2022-11-17T19:45:04.238Z"
   },
   {
    "duration": 3,
    "start_time": "2022-11-17T19:45:06.512Z"
   },
   {
    "duration": 3,
    "start_time": "2022-11-17T19:45:08.962Z"
   },
   {
    "duration": 23,
    "start_time": "2022-11-17T19:45:11.225Z"
   },
   {
    "duration": 6,
    "start_time": "2022-11-17T19:57:08.924Z"
   },
   {
    "duration": 6,
    "start_time": "2022-11-17T19:59:22.694Z"
   },
   {
    "duration": 7,
    "start_time": "2022-11-17T20:00:38.902Z"
   },
   {
    "duration": 5,
    "start_time": "2022-11-17T20:09:03.630Z"
   },
   {
    "duration": 24,
    "start_time": "2022-11-17T20:09:10.164Z"
   },
   {
    "duration": 3,
    "start_time": "2022-11-17T20:12:33.132Z"
   },
   {
    "duration": 692,
    "start_time": "2022-11-17T20:12:40.922Z"
   },
   {
    "duration": 517,
    "start_time": "2022-11-17T20:13:20.423Z"
   },
   {
    "duration": 621,
    "start_time": "2022-11-17T20:13:51.596Z"
   },
   {
    "duration": 556,
    "start_time": "2022-11-17T20:14:02.022Z"
   },
   {
    "duration": 627,
    "start_time": "2022-11-17T20:14:24.608Z"
   },
   {
    "duration": 467,
    "start_time": "2022-11-17T20:14:43.818Z"
   },
   {
    "duration": 303,
    "start_time": "2022-11-17T20:16:49.702Z"
   },
   {
    "duration": 858,
    "start_time": "2022-11-17T20:17:06.082Z"
   },
   {
    "duration": 1102,
    "start_time": "2022-11-17T20:17:28.282Z"
   },
   {
    "duration": 1177,
    "start_time": "2022-11-17T20:18:16.001Z"
   },
   {
    "duration": 1092,
    "start_time": "2022-11-17T20:18:44.421Z"
   },
   {
    "duration": 1174,
    "start_time": "2022-11-17T20:21:40.242Z"
   },
   {
    "duration": 75,
    "start_time": "2022-11-17T20:22:09.941Z"
   },
   {
    "duration": 14,
    "start_time": "2022-11-17T20:22:36.962Z"
   },
   {
    "duration": 43550,
    "start_time": "2022-11-17T20:22:44.422Z"
   },
   {
    "duration": 9,
    "start_time": "2022-11-17T20:23:54.481Z"
   },
   {
    "duration": 7,
    "start_time": "2022-11-17T20:24:13.182Z"
   },
   {
    "duration": 8,
    "start_time": "2022-11-17T20:24:31.442Z"
   },
   {
    "duration": 7,
    "start_time": "2022-11-17T20:24:46.702Z"
   },
   {
    "duration": 12,
    "start_time": "2022-11-17T20:32:33.994Z"
   },
   {
    "duration": 9,
    "start_time": "2022-11-17T20:34:04.655Z"
   },
   {
    "duration": 8,
    "start_time": "2022-11-17T20:38:54.748Z"
   },
   {
    "duration": 8,
    "start_time": "2022-11-17T20:40:24.554Z"
   },
   {
    "duration": 9,
    "start_time": "2022-11-17T20:40:45.063Z"
   },
   {
    "duration": 8,
    "start_time": "2022-11-17T20:46:45.246Z"
   },
   {
    "duration": 9,
    "start_time": "2022-11-17T20:47:29.230Z"
   },
   {
    "duration": 43,
    "start_time": "2022-11-18T10:20:30.939Z"
   },
   {
    "duration": 410,
    "start_time": "2022-11-18T10:20:39.828Z"
   },
   {
    "duration": 95,
    "start_time": "2022-11-18T10:20:40.241Z"
   },
   {
    "duration": 30,
    "start_time": "2022-11-18T10:20:40.338Z"
   },
   {
    "duration": 17,
    "start_time": "2022-11-18T10:20:40.370Z"
   },
   {
    "duration": 4,
    "start_time": "2022-11-18T10:20:40.389Z"
   },
   {
    "duration": 18,
    "start_time": "2022-11-18T10:20:40.395Z"
   },
   {
    "duration": 12,
    "start_time": "2022-11-18T10:20:40.415Z"
   },
   {
    "duration": 19,
    "start_time": "2022-11-18T10:20:40.430Z"
   },
   {
    "duration": 5,
    "start_time": "2022-11-18T10:20:40.451Z"
   },
   {
    "duration": 25,
    "start_time": "2022-11-18T10:20:40.458Z"
   },
   {
    "duration": 11,
    "start_time": "2022-11-18T10:20:40.485Z"
   },
   {
    "duration": 18,
    "start_time": "2022-11-18T10:20:40.498Z"
   },
   {
    "duration": 11,
    "start_time": "2022-11-18T10:20:40.518Z"
   },
   {
    "duration": 4,
    "start_time": "2022-11-18T10:20:40.532Z"
   },
   {
    "duration": 7,
    "start_time": "2022-11-18T10:20:40.538Z"
   },
   {
    "duration": 6,
    "start_time": "2022-11-18T10:20:40.547Z"
   },
   {
    "duration": 7,
    "start_time": "2022-11-18T10:20:40.554Z"
   },
   {
    "duration": 9,
    "start_time": "2022-11-18T10:20:40.562Z"
   },
   {
    "duration": 42,
    "start_time": "2022-11-18T10:20:40.572Z"
   },
   {
    "duration": 7,
    "start_time": "2022-11-18T10:20:40.615Z"
   },
   {
    "duration": 9,
    "start_time": "2022-11-18T10:20:40.624Z"
   },
   {
    "duration": 4,
    "start_time": "2022-11-18T10:20:40.634Z"
   },
   {
    "duration": 10,
    "start_time": "2022-11-18T10:20:40.639Z"
   },
   {
    "duration": 10,
    "start_time": "2022-11-18T10:21:07.054Z"
   },
   {
    "duration": 8,
    "start_time": "2022-11-18T10:21:47.084Z"
   },
   {
    "duration": 7,
    "start_time": "2022-11-18T10:22:10.149Z"
   },
   {
    "duration": 7,
    "start_time": "2022-11-18T10:22:18.733Z"
   },
   {
    "duration": 89,
    "start_time": "2022-11-18T10:24:55.653Z"
   },
   {
    "duration": 22,
    "start_time": "2022-11-18T10:25:08.503Z"
   },
   {
    "duration": 481,
    "start_time": "2022-11-18T10:25:30.656Z"
   },
   {
    "duration": 758,
    "start_time": "2022-11-18T10:25:45.579Z"
   },
   {
    "duration": 697,
    "start_time": "2022-11-18T10:26:18.079Z"
   },
   {
    "duration": 900,
    "start_time": "2022-11-18T10:26:55.030Z"
   },
   {
    "duration": 9,
    "start_time": "2022-11-18T10:37:38.900Z"
   },
   {
    "duration": 4,
    "start_time": "2022-11-18T10:37:47.523Z"
   },
   {
    "duration": 7,
    "start_time": "2022-11-18T10:38:00.907Z"
   },
   {
    "duration": 8,
    "start_time": "2022-11-18T10:38:37.895Z"
   },
   {
    "duration": 8,
    "start_time": "2022-11-18T10:38:49.256Z"
   },
   {
    "duration": 14,
    "start_time": "2022-11-18T10:39:28.096Z"
   },
   {
    "duration": 3,
    "start_time": "2022-11-18T10:40:46.527Z"
   },
   {
    "duration": 5,
    "start_time": "2022-11-18T10:40:52.600Z"
   },
   {
    "duration": 5,
    "start_time": "2022-11-18T10:43:21.195Z"
   },
   {
    "duration": 5,
    "start_time": "2022-11-18T10:43:25.060Z"
   },
   {
    "duration": 10,
    "start_time": "2022-11-18T10:43:41.429Z"
   },
   {
    "duration": 9,
    "start_time": "2022-11-18T10:43:48.526Z"
   },
   {
    "duration": 4,
    "start_time": "2022-11-18T10:43:56.005Z"
   },
   {
    "duration": 3,
    "start_time": "2022-11-18T10:43:59.201Z"
   },
   {
    "duration": 8,
    "start_time": "2022-11-18T10:45:17.438Z"
   },
   {
    "duration": 7,
    "start_time": "2022-11-18T10:45:36.734Z"
   },
   {
    "duration": 7,
    "start_time": "2022-11-18T10:47:13.192Z"
   },
   {
    "duration": 4,
    "start_time": "2022-11-18T10:48:11.973Z"
   },
   {
    "duration": 9,
    "start_time": "2022-11-18T10:49:07.065Z"
   },
   {
    "duration": 5087,
    "start_time": "2022-11-18T10:57:37.746Z"
   },
   {
    "duration": 4505,
    "start_time": "2022-11-18T10:58:01.785Z"
   },
   {
    "duration": 5568,
    "start_time": "2022-11-18T10:58:26.781Z"
   },
   {
    "duration": 584,
    "start_time": "2022-11-18T11:00:43.091Z"
   },
   {
    "duration": 1194,
    "start_time": "2022-11-18T11:02:17.221Z"
   },
   {
    "duration": 19,
    "start_time": "2022-11-18T11:07:31.360Z"
   },
   {
    "duration": 41,
    "start_time": "2022-11-18T11:07:54.207Z"
   },
   {
    "duration": 14,
    "start_time": "2022-11-18T11:08:16.031Z"
   },
   {
    "duration": 11,
    "start_time": "2022-11-18T11:11:42.978Z"
   },
   {
    "duration": 23,
    "start_time": "2022-11-18T11:12:11.882Z"
   },
   {
    "duration": 6,
    "start_time": "2022-11-18T11:12:24.409Z"
   },
   {
    "duration": 7,
    "start_time": "2022-11-18T11:12:32.096Z"
   },
   {
    "duration": 5,
    "start_time": "2022-11-18T11:12:56.401Z"
   },
   {
    "duration": 9,
    "start_time": "2022-11-18T11:13:23.033Z"
   },
   {
    "duration": 5,
    "start_time": "2022-11-18T11:15:59.394Z"
   },
   {
    "duration": 9,
    "start_time": "2022-11-18T11:17:54.083Z"
   },
   {
    "duration": 8,
    "start_time": "2022-11-18T11:18:36.757Z"
   },
   {
    "duration": 12,
    "start_time": "2022-11-18T11:18:43.491Z"
   },
   {
    "duration": 11,
    "start_time": "2022-11-18T11:19:55.188Z"
   },
   {
    "duration": 5,
    "start_time": "2022-11-18T11:20:46.484Z"
   },
   {
    "duration": 15,
    "start_time": "2022-11-18T11:20:49.603Z"
   },
   {
    "duration": 7,
    "start_time": "2022-11-18T11:22:05.956Z"
   },
   {
    "duration": 11,
    "start_time": "2022-11-18T11:22:13.044Z"
   },
   {
    "duration": 7,
    "start_time": "2022-11-18T11:22:17.019Z"
   },
   {
    "duration": 14,
    "start_time": "2022-11-18T11:22:22.947Z"
   },
   {
    "duration": 6,
    "start_time": "2022-11-18T11:30:00.990Z"
   },
   {
    "duration": 8,
    "start_time": "2022-11-18T11:30:43.000Z"
   },
   {
    "duration": 10,
    "start_time": "2022-11-18T11:30:50.512Z"
   },
   {
    "duration": 7,
    "start_time": "2022-11-18T11:31:10.872Z"
   },
   {
    "duration": 6,
    "start_time": "2022-11-18T11:31:26.870Z"
   },
   {
    "duration": 7,
    "start_time": "2022-11-18T11:32:00.591Z"
   },
   {
    "duration": 6,
    "start_time": "2022-11-18T11:33:19.074Z"
   },
   {
    "duration": 64,
    "start_time": "2022-11-18T11:33:35.553Z"
   },
   {
    "duration": 4,
    "start_time": "2022-11-18T11:33:45.633Z"
   },
   {
    "duration": 17,
    "start_time": "2022-11-18T11:34:53.132Z"
   },
   {
    "duration": 9,
    "start_time": "2022-11-18T11:37:37.731Z"
   },
   {
    "duration": 8,
    "start_time": "2022-11-18T11:37:42.091Z"
   },
   {
    "duration": 11,
    "start_time": "2022-11-18T11:37:57.092Z"
   },
   {
    "duration": 5,
    "start_time": "2022-11-18T11:38:18.445Z"
   },
   {
    "duration": 584,
    "start_time": "2022-11-18T11:38:21.934Z"
   },
   {
    "duration": 3,
    "start_time": "2022-11-18T11:44:01.605Z"
   },
   {
    "duration": 176,
    "start_time": "2022-11-18T11:44:22.830Z"
   },
   {
    "duration": 580,
    "start_time": "2022-11-18T11:45:27.196Z"
   },
   {
    "duration": 221,
    "start_time": "2022-11-18T11:46:29.856Z"
   },
   {
    "duration": 598,
    "start_time": "2022-11-18T11:46:49.565Z"
   },
   {
    "duration": 594,
    "start_time": "2022-11-18T11:47:38.727Z"
   },
   {
    "duration": 377,
    "start_time": "2022-11-18T11:47:46.382Z"
   },
   {
    "duration": 487,
    "start_time": "2022-11-18T11:48:33.656Z"
   },
   {
    "duration": 4,
    "start_time": "2022-11-18T11:49:18.871Z"
   },
   {
    "duration": 198,
    "start_time": "2022-11-18T11:49:21.674Z"
   },
   {
    "duration": 4,
    "start_time": "2022-11-18T11:50:09.631Z"
   },
   {
    "duration": 437,
    "start_time": "2022-11-18T11:50:13.225Z"
   },
   {
    "duration": 148,
    "start_time": "2022-11-18T11:51:22.029Z"
   },
   {
    "duration": 579,
    "start_time": "2022-11-18T11:54:09.857Z"
   },
   {
    "duration": 609,
    "start_time": "2022-11-18T11:54:22.513Z"
   },
   {
    "duration": 475,
    "start_time": "2022-11-18T11:54:33.000Z"
   },
   {
    "duration": 382,
    "start_time": "2022-11-18T11:56:04.154Z"
   },
   {
    "duration": 485,
    "start_time": "2022-11-18T11:56:19.179Z"
   },
   {
    "duration": 426,
    "start_time": "2022-11-18T21:15:57.509Z"
   },
   {
    "duration": 896,
    "start_time": "2022-11-18T21:15:57.937Z"
   },
   {
    "duration": 2,
    "start_time": "2022-11-18T21:15:58.835Z"
   },
   {
    "duration": 116,
    "start_time": "2022-11-18T21:15:58.839Z"
   },
   {
    "duration": 21,
    "start_time": "2022-11-18T21:15:58.958Z"
   },
   {
    "duration": 30,
    "start_time": "2022-11-18T21:15:58.981Z"
   },
   {
    "duration": 20,
    "start_time": "2022-11-18T21:15:59.013Z"
   },
   {
    "duration": 25,
    "start_time": "2022-11-18T21:15:59.035Z"
   },
   {
    "duration": 21,
    "start_time": "2022-11-18T21:15:59.062Z"
   },
   {
    "duration": 18,
    "start_time": "2022-11-18T21:15:59.085Z"
   },
   {
    "duration": 25,
    "start_time": "2022-11-18T21:15:59.104Z"
   },
   {
    "duration": 21,
    "start_time": "2022-11-18T21:15:59.131Z"
   },
   {
    "duration": 17,
    "start_time": "2022-11-18T21:15:59.153Z"
   },
   {
    "duration": 16,
    "start_time": "2022-11-18T21:15:59.173Z"
   },
   {
    "duration": 30,
    "start_time": "2022-11-18T21:15:59.191Z"
   },
   {
    "duration": 4,
    "start_time": "2022-11-18T21:15:59.222Z"
   },
   {
    "duration": 28,
    "start_time": "2022-11-18T21:15:59.227Z"
   },
   {
    "duration": 18,
    "start_time": "2022-11-18T21:15:59.256Z"
   },
   {
    "duration": 19,
    "start_time": "2022-11-18T21:15:59.275Z"
   },
   {
    "duration": 26,
    "start_time": "2022-11-18T21:15:59.296Z"
   },
   {
    "duration": 31,
    "start_time": "2022-11-18T21:15:59.324Z"
   },
   {
    "duration": 30,
    "start_time": "2022-11-18T21:15:59.357Z"
   },
   {
    "duration": 22,
    "start_time": "2022-11-18T21:15:59.389Z"
   },
   {
    "duration": 110,
    "start_time": "2022-11-18T21:15:59.413Z"
   },
   {
    "duration": 0,
    "start_time": "2022-11-18T21:15:59.524Z"
   },
   {
    "duration": 0,
    "start_time": "2022-11-18T21:15:59.525Z"
   },
   {
    "duration": 0,
    "start_time": "2022-11-18T21:15:59.526Z"
   },
   {
    "duration": 0,
    "start_time": "2022-11-18T21:15:59.527Z"
   },
   {
    "duration": 0,
    "start_time": "2022-11-18T21:15:59.535Z"
   },
   {
    "duration": 0,
    "start_time": "2022-11-18T21:15:59.536Z"
   },
   {
    "duration": 0,
    "start_time": "2022-11-18T21:15:59.537Z"
   },
   {
    "duration": 10,
    "start_time": "2022-11-18T21:16:12.751Z"
   },
   {
    "duration": 4,
    "start_time": "2022-11-18T21:17:44.998Z"
   },
   {
    "duration": 15,
    "start_time": "2022-11-18T21:17:50.366Z"
   },
   {
    "duration": 4,
    "start_time": "2022-11-18T21:19:27.079Z"
   },
   {
    "duration": 10,
    "start_time": "2022-11-18T21:19:54.624Z"
   },
   {
    "duration": 4,
    "start_time": "2022-11-18T21:20:00.321Z"
   },
   {
    "duration": 6,
    "start_time": "2022-11-18T21:20:21.248Z"
   },
   {
    "duration": 9,
    "start_time": "2022-11-18T21:20:23.112Z"
   },
   {
    "duration": 4,
    "start_time": "2022-11-18T21:20:38.033Z"
   },
   {
    "duration": 4,
    "start_time": "2022-11-18T21:20:39.678Z"
   },
   {
    "duration": 10,
    "start_time": "2022-11-18T21:21:06.831Z"
   },
   {
    "duration": 8,
    "start_time": "2022-11-18T21:21:19.582Z"
   },
   {
    "duration": 13,
    "start_time": "2022-11-18T21:21:21.608Z"
   },
   {
    "duration": 4,
    "start_time": "2022-11-18T21:21:42.690Z"
   },
   {
    "duration": 4,
    "start_time": "2022-11-18T21:21:47.144Z"
   },
   {
    "duration": 12,
    "start_time": "2022-11-18T21:22:00.593Z"
   },
   {
    "duration": 3,
    "start_time": "2022-11-18T21:22:36.905Z"
   },
   {
    "duration": 9,
    "start_time": "2022-11-18T21:22:38.711Z"
   },
   {
    "duration": 3,
    "start_time": "2022-11-18T21:23:50.665Z"
   },
   {
    "duration": 9,
    "start_time": "2022-11-18T21:23:55.728Z"
   },
   {
    "duration": 4,
    "start_time": "2022-11-18T21:25:09.882Z"
   },
   {
    "duration": 4,
    "start_time": "2022-11-18T21:25:24.388Z"
   },
   {
    "duration": 404,
    "start_time": "2022-11-18T21:25:38.377Z"
   },
   {
    "duration": 490,
    "start_time": "2022-11-18T21:25:59.330Z"
   },
   {
    "duration": 285,
    "start_time": "2022-11-18T21:27:34.374Z"
   },
   {
    "duration": 388,
    "start_time": "2022-11-18T21:29:03.843Z"
   },
   {
    "duration": 511,
    "start_time": "2022-11-18T21:29:28.476Z"
   },
   {
    "duration": 11,
    "start_time": "2022-11-18T21:32:10.061Z"
   },
   {
    "duration": 11,
    "start_time": "2022-11-18T21:32:17.324Z"
   },
   {
    "duration": 564,
    "start_time": "2022-11-18T21:33:52.941Z"
   },
   {
    "duration": 332,
    "start_time": "2022-11-18T21:34:41.821Z"
   },
   {
    "duration": 322,
    "start_time": "2022-11-18T21:35:24.018Z"
   },
   {
    "duration": 524,
    "start_time": "2022-11-18T21:35:56.512Z"
   },
   {
    "duration": 14,
    "start_time": "2022-11-18T21:37:11.158Z"
   },
   {
    "duration": 9,
    "start_time": "2022-11-18T21:38:00.791Z"
   },
   {
    "duration": 4,
    "start_time": "2022-11-18T21:38:51.856Z"
   },
   {
    "duration": 2,
    "start_time": "2022-11-18T21:39:20.680Z"
   },
   {
    "duration": 27,
    "start_time": "2022-11-18T21:39:54.160Z"
   },
   {
    "duration": 7,
    "start_time": "2022-11-18T21:42:00.456Z"
   },
   {
    "duration": 13,
    "start_time": "2022-11-18T21:42:24.115Z"
   },
   {
    "duration": 249,
    "start_time": "2022-11-18T21:43:05.747Z"
   },
   {
    "duration": 14,
    "start_time": "2022-11-18T21:45:46.452Z"
   },
   {
    "duration": 13,
    "start_time": "2022-11-18T21:45:54.212Z"
   },
   {
    "duration": 13,
    "start_time": "2022-11-18T21:45:59.116Z"
   },
   {
    "duration": 7,
    "start_time": "2022-11-18T21:46:10.747Z"
   },
   {
    "duration": 29,
    "start_time": "2022-11-18T21:46:33.292Z"
   },
   {
    "duration": 255,
    "start_time": "2022-11-18T21:47:22.430Z"
   },
   {
    "duration": 471,
    "start_time": "2022-11-18T21:48:13.878Z"
   },
   {
    "duration": 352,
    "start_time": "2022-11-18T21:48:54.247Z"
   },
   {
    "duration": 386,
    "start_time": "2022-11-18T21:52:46.467Z"
   },
   {
    "duration": 686,
    "start_time": "2022-11-18T21:52:46.855Z"
   },
   {
    "duration": 3,
    "start_time": "2022-11-18T21:52:47.542Z"
   },
   {
    "duration": 57,
    "start_time": "2022-11-18T21:52:47.547Z"
   },
   {
    "duration": 20,
    "start_time": "2022-11-18T21:52:47.605Z"
   },
   {
    "duration": 16,
    "start_time": "2022-11-18T21:52:47.626Z"
   },
   {
    "duration": 12,
    "start_time": "2022-11-18T21:52:47.643Z"
   },
   {
    "duration": 8,
    "start_time": "2022-11-18T21:52:47.656Z"
   },
   {
    "duration": 10,
    "start_time": "2022-11-18T21:52:47.665Z"
   },
   {
    "duration": 10,
    "start_time": "2022-11-18T21:52:47.677Z"
   },
   {
    "duration": 3,
    "start_time": "2022-11-18T21:52:47.689Z"
   },
   {
    "duration": 13,
    "start_time": "2022-11-18T21:52:47.693Z"
   },
   {
    "duration": 13,
    "start_time": "2022-11-18T21:52:47.707Z"
   },
   {
    "duration": 15,
    "start_time": "2022-11-18T21:52:47.721Z"
   },
   {
    "duration": 8,
    "start_time": "2022-11-18T21:52:47.737Z"
   },
   {
    "duration": 8,
    "start_time": "2022-11-18T21:52:47.746Z"
   },
   {
    "duration": 12,
    "start_time": "2022-11-18T21:52:47.756Z"
   },
   {
    "duration": 13,
    "start_time": "2022-11-18T21:52:47.769Z"
   },
   {
    "duration": 5,
    "start_time": "2022-11-18T21:52:47.783Z"
   },
   {
    "duration": 11,
    "start_time": "2022-11-18T21:52:47.790Z"
   },
   {
    "duration": 29,
    "start_time": "2022-11-18T21:52:47.802Z"
   },
   {
    "duration": 7,
    "start_time": "2022-11-18T21:52:47.833Z"
   },
   {
    "duration": 12,
    "start_time": "2022-11-18T21:52:47.842Z"
   },
   {
    "duration": 4,
    "start_time": "2022-11-18T21:52:47.856Z"
   },
   {
    "duration": 8,
    "start_time": "2022-11-18T21:52:47.862Z"
   },
   {
    "duration": 116,
    "start_time": "2022-11-18T21:52:47.871Z"
   },
   {
    "duration": 0,
    "start_time": "2022-11-18T21:52:47.989Z"
   },
   {
    "duration": 0,
    "start_time": "2022-11-18T21:52:47.990Z"
   },
   {
    "duration": 0,
    "start_time": "2022-11-18T21:52:47.991Z"
   },
   {
    "duration": 0,
    "start_time": "2022-11-18T21:52:47.992Z"
   },
   {
    "duration": 0,
    "start_time": "2022-11-18T21:52:47.993Z"
   },
   {
    "duration": 0,
    "start_time": "2022-11-18T21:52:47.994Z"
   },
   {
    "duration": 0,
    "start_time": "2022-11-18T21:52:47.995Z"
   },
   {
    "duration": 14,
    "start_time": "2022-11-18T21:54:25.015Z"
   },
   {
    "duration": 15,
    "start_time": "2022-11-18T21:54:28.936Z"
   },
   {
    "duration": 20,
    "start_time": "2022-11-18T21:56:10.625Z"
   },
   {
    "duration": 4,
    "start_time": "2022-11-18T21:56:32.793Z"
   },
   {
    "duration": 3,
    "start_time": "2022-11-18T21:56:40.456Z"
   },
   {
    "duration": 18,
    "start_time": "2022-11-18T21:56:42.962Z"
   },
   {
    "duration": 18,
    "start_time": "2022-11-18T21:57:11.344Z"
   },
   {
    "duration": 18,
    "start_time": "2022-11-18T21:57:23.329Z"
   },
   {
    "duration": 3506,
    "start_time": "2022-11-18T21:58:24.722Z"
   },
   {
    "duration": 3721,
    "start_time": "2022-11-18T21:59:07.434Z"
   },
   {
    "duration": 3838,
    "start_time": "2022-11-18T21:59:34.732Z"
   },
   {
    "duration": 3839,
    "start_time": "2022-11-18T22:00:08.834Z"
   },
   {
    "duration": 3756,
    "start_time": "2022-11-18T22:00:14.411Z"
   },
   {
    "duration": 3710,
    "start_time": "2022-11-18T22:00:38.219Z"
   },
   {
    "duration": 4,
    "start_time": "2022-11-18T22:01:37.869Z"
   },
   {
    "duration": 43,
    "start_time": "2022-11-19T09:12:47.214Z"
   },
   {
    "duration": 346,
    "start_time": "2022-11-19T09:12:56.049Z"
   },
   {
    "duration": 884,
    "start_time": "2022-11-19T09:12:56.397Z"
   },
   {
    "duration": 3,
    "start_time": "2022-11-19T09:12:57.295Z"
   },
   {
    "duration": 187,
    "start_time": "2022-11-19T09:12:57.300Z"
   },
   {
    "duration": 21,
    "start_time": "2022-11-19T09:12:57.489Z"
   },
   {
    "duration": 14,
    "start_time": "2022-11-19T09:12:57.511Z"
   },
   {
    "duration": 4,
    "start_time": "2022-11-19T09:12:57.527Z"
   },
   {
    "duration": 8,
    "start_time": "2022-11-19T09:12:57.532Z"
   },
   {
    "duration": 11,
    "start_time": "2022-11-19T09:12:57.541Z"
   },
   {
    "duration": 16,
    "start_time": "2022-11-19T09:12:57.555Z"
   },
   {
    "duration": 4,
    "start_time": "2022-11-19T09:12:57.573Z"
   },
   {
    "duration": 42,
    "start_time": "2022-11-19T09:12:57.579Z"
   },
   {
    "duration": 5,
    "start_time": "2022-11-19T09:12:57.623Z"
   },
   {
    "duration": 11,
    "start_time": "2022-11-19T09:12:57.630Z"
   },
   {
    "duration": 13,
    "start_time": "2022-11-19T09:12:57.643Z"
   },
   {
    "duration": 4,
    "start_time": "2022-11-19T09:12:57.658Z"
   },
   {
    "duration": 13,
    "start_time": "2022-11-19T09:12:57.664Z"
   },
   {
    "duration": 8,
    "start_time": "2022-11-19T09:12:57.678Z"
   },
   {
    "duration": 25,
    "start_time": "2022-11-19T09:12:57.688Z"
   },
   {
    "duration": 7,
    "start_time": "2022-11-19T09:12:57.714Z"
   },
   {
    "duration": 24,
    "start_time": "2022-11-19T09:12:57.722Z"
   },
   {
    "duration": 6,
    "start_time": "2022-11-19T09:12:57.747Z"
   },
   {
    "duration": 9,
    "start_time": "2022-11-19T09:12:57.754Z"
   },
   {
    "duration": 123,
    "start_time": "2022-11-19T09:12:57.764Z"
   },
   {
    "duration": 0,
    "start_time": "2022-11-19T09:12:57.889Z"
   },
   {
    "duration": 0,
    "start_time": "2022-11-19T09:12:57.890Z"
   },
   {
    "duration": 0,
    "start_time": "2022-11-19T09:12:57.891Z"
   },
   {
    "duration": 0,
    "start_time": "2022-11-19T09:12:57.892Z"
   },
   {
    "duration": 0,
    "start_time": "2022-11-19T09:12:57.893Z"
   },
   {
    "duration": 0,
    "start_time": "2022-11-19T09:12:57.894Z"
   },
   {
    "duration": 0,
    "start_time": "2022-11-19T09:12:57.895Z"
   },
   {
    "duration": 0,
    "start_time": "2022-11-19T09:12:57.896Z"
   },
   {
    "duration": 4,
    "start_time": "2022-11-19T09:13:30.716Z"
   },
   {
    "duration": 4,
    "start_time": "2022-11-19T09:13:37.069Z"
   },
   {
    "duration": 5,
    "start_time": "2022-11-19T09:15:29.036Z"
   },
   {
    "duration": 12,
    "start_time": "2022-11-19T09:15:45.123Z"
   },
   {
    "duration": 4,
    "start_time": "2022-11-19T09:16:01.067Z"
   },
   {
    "duration": 21,
    "start_time": "2022-11-19T09:16:26.933Z"
   },
   {
    "duration": 12,
    "start_time": "2022-11-19T09:17:40.188Z"
   },
   {
    "duration": 27,
    "start_time": "2022-11-19T09:17:42.013Z"
   },
   {
    "duration": 1465,
    "start_time": "2022-11-19T09:18:13.165Z"
   },
   {
    "duration": 221,
    "start_time": "2022-11-19T09:18:51.093Z"
   },
   {
    "duration": 1578,
    "start_time": "2022-11-19T09:20:08.805Z"
   },
   {
    "duration": 1382,
    "start_time": "2022-11-19T09:20:25.757Z"
   },
   {
    "duration": 1537,
    "start_time": "2022-11-19T09:20:42.374Z"
   },
   {
    "duration": 1329,
    "start_time": "2022-11-19T09:20:58.473Z"
   },
   {
    "duration": 1408,
    "start_time": "2022-11-19T09:21:04.694Z"
   },
   {
    "duration": 1387,
    "start_time": "2022-11-19T09:21:14.631Z"
   },
   {
    "duration": 1454,
    "start_time": "2022-11-19T09:21:23.934Z"
   },
   {
    "duration": 7,
    "start_time": "2022-11-19T09:22:32.486Z"
   },
   {
    "duration": 254,
    "start_time": "2022-11-19T09:22:34.279Z"
   },
   {
    "duration": 378,
    "start_time": "2022-11-19T09:29:26.023Z"
   },
   {
    "duration": 247,
    "start_time": "2022-11-19T09:29:58.154Z"
   },
   {
    "duration": 13,
    "start_time": "2022-11-19T09:30:19.249Z"
   },
   {
    "duration": 8,
    "start_time": "2022-11-19T09:30:33.272Z"
   },
   {
    "duration": 260,
    "start_time": "2022-11-19T09:30:35.270Z"
   },
   {
    "duration": 755,
    "start_time": "2022-11-19T09:33:03.603Z"
   },
   {
    "duration": 7,
    "start_time": "2022-11-19T09:33:12.811Z"
   },
   {
    "duration": 358,
    "start_time": "2022-11-19T09:33:15.027Z"
   },
   {
    "duration": 379,
    "start_time": "2022-11-19T09:33:32.938Z"
   },
   {
    "duration": 257,
    "start_time": "2022-11-19T09:34:06.225Z"
   },
   {
    "duration": 792,
    "start_time": "2022-11-19T09:38:07.400Z"
   },
   {
    "duration": 699,
    "start_time": "2022-11-19T09:38:16.559Z"
   },
   {
    "duration": 11,
    "start_time": "2022-11-19T09:40:48.175Z"
   },
   {
    "duration": 10,
    "start_time": "2022-11-19T09:47:03.615Z"
   },
   {
    "duration": 13,
    "start_time": "2022-11-19T09:49:08.994Z"
   },
   {
    "duration": 7,
    "start_time": "2022-11-19T09:49:26.611Z"
   },
   {
    "duration": 8,
    "start_time": "2022-11-19T09:49:32.242Z"
   },
   {
    "duration": 9,
    "start_time": "2022-11-19T09:52:04.779Z"
   },
   {
    "duration": 4,
    "start_time": "2022-11-19T09:52:20.648Z"
   },
   {
    "duration": 3,
    "start_time": "2022-11-19T09:52:24.276Z"
   },
   {
    "duration": 8,
    "start_time": "2022-11-19T09:52:40.540Z"
   },
   {
    "duration": 8,
    "start_time": "2022-11-19T09:53:21.468Z"
   },
   {
    "duration": 5,
    "start_time": "2022-11-19T09:56:00.110Z"
   },
   {
    "duration": 94,
    "start_time": "2022-11-19T09:56:03.118Z"
   },
   {
    "duration": 8,
    "start_time": "2022-11-19T09:56:08.318Z"
   },
   {
    "duration": 6,
    "start_time": "2022-11-19T09:56:25.885Z"
   },
   {
    "duration": 712,
    "start_time": "2022-11-19T09:57:20.973Z"
   },
   {
    "duration": 675,
    "start_time": "2022-11-19T09:58:08.717Z"
   },
   {
    "duration": 3,
    "start_time": "2022-11-19T09:58:49.823Z"
   },
   {
    "duration": 1170,
    "start_time": "2022-11-19T09:58:52.750Z"
   },
   {
    "duration": 3,
    "start_time": "2022-11-19T09:59:07.584Z"
   },
   {
    "duration": 9,
    "start_time": "2022-11-19T09:59:38.790Z"
   },
   {
    "duration": 4,
    "start_time": "2022-11-19T09:59:53.511Z"
   },
   {
    "duration": 6,
    "start_time": "2022-11-19T10:00:38.510Z"
   },
   {
    "duration": 3,
    "start_time": "2022-11-19T10:02:52.008Z"
   },
   {
    "duration": 3,
    "start_time": "2022-11-19T10:02:58.636Z"
   },
   {
    "duration": 73,
    "start_time": "2022-11-19T10:03:08.449Z"
   },
   {
    "duration": 5,
    "start_time": "2022-11-19T10:03:12.648Z"
   },
   {
    "duration": 10,
    "start_time": "2022-11-19T10:04:08.416Z"
   },
   {
    "duration": 9,
    "start_time": "2022-11-19T10:04:15.158Z"
   },
   {
    "duration": 4,
    "start_time": "2022-11-19T10:05:58.042Z"
   },
   {
    "duration": 7,
    "start_time": "2022-11-19T10:06:01.449Z"
   },
   {
    "duration": 1098,
    "start_time": "2022-11-19T10:06:22.377Z"
   },
   {
    "duration": 6,
    "start_time": "2022-11-19T10:06:32.466Z"
   },
   {
    "duration": 1156,
    "start_time": "2022-11-19T10:07:35.210Z"
   },
   {
    "duration": 7,
    "start_time": "2022-11-19T10:07:45.002Z"
   },
   {
    "duration": 7,
    "start_time": "2022-11-19T10:11:21.868Z"
   },
   {
    "duration": 10,
    "start_time": "2022-11-19T10:11:25.402Z"
   },
   {
    "duration": 8,
    "start_time": "2022-11-19T10:11:45.716Z"
   },
   {
    "duration": 3,
    "start_time": "2022-11-19T10:12:03.060Z"
   },
   {
    "duration": 4,
    "start_time": "2022-11-19T10:12:17.684Z"
   },
   {
    "duration": 3,
    "start_time": "2022-11-19T10:12:46.380Z"
   },
   {
    "duration": 799,
    "start_time": "2022-11-19T10:13:05.524Z"
   },
   {
    "duration": 12,
    "start_time": "2022-11-19T10:13:43.144Z"
   },
   {
    "duration": 16,
    "start_time": "2022-11-19T10:14:41.126Z"
   },
   {
    "duration": 10,
    "start_time": "2022-11-19T10:15:35.476Z"
   },
   {
    "duration": 8,
    "start_time": "2022-11-19T10:15:52.748Z"
   },
   {
    "duration": 4,
    "start_time": "2022-11-19T10:15:58.407Z"
   },
   {
    "duration": 4,
    "start_time": "2022-11-19T10:16:01.309Z"
   },
   {
    "duration": 2,
    "start_time": "2022-11-19T10:16:22.085Z"
   },
   {
    "duration": 18,
    "start_time": "2022-11-19T10:16:35.667Z"
   },
   {
    "duration": 8,
    "start_time": "2022-11-19T10:21:21.376Z"
   },
   {
    "duration": 9,
    "start_time": "2022-11-19T10:21:36.479Z"
   },
   {
    "duration": 204,
    "start_time": "2022-11-19T10:21:45.103Z"
   },
   {
    "duration": 302,
    "start_time": "2022-11-19T10:22:20.383Z"
   },
   {
    "duration": 464,
    "start_time": "2022-11-19T10:22:49.824Z"
   },
   {
    "duration": 12,
    "start_time": "2022-11-19T10:24:00.008Z"
   },
   {
    "duration": 11762,
    "start_time": "2022-11-19T10:24:39.983Z"
   },
   {
    "duration": 4,
    "start_time": "2022-11-19T10:28:00.346Z"
   },
   {
    "duration": 276,
    "start_time": "2022-11-19T10:30:15.288Z"
   },
   {
    "duration": 256,
    "start_time": "2022-11-19T10:31:29.269Z"
   },
   {
    "duration": 299,
    "start_time": "2022-11-19T10:32:22.308Z"
   },
   {
    "duration": 23,
    "start_time": "2022-11-19T10:33:05.378Z"
   },
   {
    "duration": 221,
    "start_time": "2022-11-19T10:33:28.821Z"
   },
   {
    "duration": 16,
    "start_time": "2022-11-19T10:33:45.732Z"
   },
   {
    "duration": 248,
    "start_time": "2022-11-19T10:34:18.828Z"
   },
   {
    "duration": 20,
    "start_time": "2022-11-19T10:34:37.084Z"
   },
   {
    "duration": 264,
    "start_time": "2022-11-19T10:34:50.383Z"
   },
   {
    "duration": 16,
    "start_time": "2022-11-19T10:35:31.621Z"
   },
   {
    "duration": 9,
    "start_time": "2022-11-19T10:35:58.523Z"
   },
   {
    "duration": 9,
    "start_time": "2022-11-19T10:36:04.700Z"
   },
   {
    "duration": 7,
    "start_time": "2022-11-19T10:36:55.245Z"
   },
   {
    "duration": 8,
    "start_time": "2022-11-19T10:37:01.431Z"
   },
   {
    "duration": 4,
    "start_time": "2022-11-19T10:40:49.581Z"
   },
   {
    "duration": 9,
    "start_time": "2022-11-19T10:41:34.888Z"
   },
   {
    "duration": 13,
    "start_time": "2022-11-19T10:41:43.504Z"
   },
   {
    "duration": 12,
    "start_time": "2022-11-19T10:43:14.728Z"
   },
   {
    "duration": 389,
    "start_time": "2022-11-19T10:43:27.813Z"
   },
   {
    "duration": 698,
    "start_time": "2022-11-19T10:43:28.204Z"
   },
   {
    "duration": 3,
    "start_time": "2022-11-19T10:43:28.903Z"
   },
   {
    "duration": 59,
    "start_time": "2022-11-19T10:43:28.908Z"
   },
   {
    "duration": 19,
    "start_time": "2022-11-19T10:43:28.968Z"
   },
   {
    "duration": 12,
    "start_time": "2022-11-19T10:43:28.989Z"
   },
   {
    "duration": 4,
    "start_time": "2022-11-19T10:43:29.002Z"
   },
   {
    "duration": 6,
    "start_time": "2022-11-19T10:43:29.007Z"
   },
   {
    "duration": 9,
    "start_time": "2022-11-19T10:43:29.015Z"
   },
   {
    "duration": 9,
    "start_time": "2022-11-19T10:43:29.026Z"
   },
   {
    "duration": 3,
    "start_time": "2022-11-19T10:43:29.037Z"
   },
   {
    "duration": 9,
    "start_time": "2022-11-19T10:43:29.042Z"
   },
   {
    "duration": 9,
    "start_time": "2022-11-19T10:43:29.052Z"
   },
   {
    "duration": 13,
    "start_time": "2022-11-19T10:43:29.062Z"
   },
   {
    "duration": 7,
    "start_time": "2022-11-19T10:43:29.076Z"
   },
   {
    "duration": 4,
    "start_time": "2022-11-19T10:43:29.084Z"
   },
   {
    "duration": 25,
    "start_time": "2022-11-19T10:43:29.089Z"
   },
   {
    "duration": 3,
    "start_time": "2022-11-19T10:43:29.115Z"
   },
   {
    "duration": 5,
    "start_time": "2022-11-19T10:43:29.120Z"
   },
   {
    "duration": 9,
    "start_time": "2022-11-19T10:43:29.126Z"
   },
   {
    "duration": 24,
    "start_time": "2022-11-19T10:43:29.137Z"
   },
   {
    "duration": 6,
    "start_time": "2022-11-19T10:43:29.162Z"
   },
   {
    "duration": 9,
    "start_time": "2022-11-19T10:43:29.169Z"
   },
   {
    "duration": 3,
    "start_time": "2022-11-19T10:43:29.179Z"
   },
   {
    "duration": 38,
    "start_time": "2022-11-19T10:43:29.184Z"
   },
   {
    "duration": 2,
    "start_time": "2022-11-19T10:43:29.224Z"
   },
   {
    "duration": 7,
    "start_time": "2022-11-19T10:43:29.228Z"
   },
   {
    "duration": 11836,
    "start_time": "2022-11-19T10:43:29.237Z"
   },
   {
    "duration": 0,
    "start_time": "2022-11-19T10:43:41.075Z"
   },
   {
    "duration": 0,
    "start_time": "2022-11-19T10:43:41.075Z"
   },
   {
    "duration": 0,
    "start_time": "2022-11-19T10:43:41.076Z"
   },
   {
    "duration": 0,
    "start_time": "2022-11-19T10:43:41.077Z"
   },
   {
    "duration": 0,
    "start_time": "2022-11-19T10:43:41.078Z"
   },
   {
    "duration": 0,
    "start_time": "2022-11-19T10:43:41.079Z"
   },
   {
    "duration": 30,
    "start_time": "2022-11-19T10:44:13.470Z"
   },
   {
    "duration": 12,
    "start_time": "2022-11-19T10:44:48.601Z"
   },
   {
    "duration": 3,
    "start_time": "2022-11-19T10:45:05.928Z"
   },
   {
    "duration": 3,
    "start_time": "2022-11-19T10:45:13.232Z"
   },
   {
    "duration": 41,
    "start_time": "2022-11-19T10:45:17.096Z"
   },
   {
    "duration": 4,
    "start_time": "2022-11-19T10:45:47.888Z"
   },
   {
    "duration": 675,
    "start_time": "2022-11-19T10:49:02.580Z"
   },
   {
    "duration": 718,
    "start_time": "2022-11-19T10:49:39.810Z"
   },
   {
    "duration": 28,
    "start_time": "2022-11-19T10:50:00.506Z"
   },
   {
    "duration": 862,
    "start_time": "2022-11-19T10:50:16.983Z"
   },
   {
    "duration": 167,
    "start_time": "2022-11-19T10:50:53.852Z"
   },
   {
    "duration": 386,
    "start_time": "2022-11-19T10:55:38.506Z"
   },
   {
    "duration": 715,
    "start_time": "2022-11-19T10:55:38.894Z"
   },
   {
    "duration": 3,
    "start_time": "2022-11-19T10:55:39.611Z"
   },
   {
    "duration": 52,
    "start_time": "2022-11-19T10:55:39.616Z"
   },
   {
    "duration": 18,
    "start_time": "2022-11-19T10:55:39.670Z"
   },
   {
    "duration": 14,
    "start_time": "2022-11-19T10:55:39.690Z"
   },
   {
    "duration": 7,
    "start_time": "2022-11-19T10:55:39.706Z"
   },
   {
    "duration": 5,
    "start_time": "2022-11-19T10:55:39.714Z"
   },
   {
    "duration": 9,
    "start_time": "2022-11-19T10:55:39.721Z"
   },
   {
    "duration": 10,
    "start_time": "2022-11-19T10:55:39.733Z"
   },
   {
    "duration": 4,
    "start_time": "2022-11-19T10:55:39.745Z"
   },
   {
    "duration": 8,
    "start_time": "2022-11-19T10:55:39.751Z"
   },
   {
    "duration": 6,
    "start_time": "2022-11-19T10:55:39.760Z"
   },
   {
    "duration": 13,
    "start_time": "2022-11-19T10:55:39.767Z"
   },
   {
    "duration": 37,
    "start_time": "2022-11-19T10:55:39.782Z"
   },
   {
    "duration": 4,
    "start_time": "2022-11-19T10:55:39.820Z"
   },
   {
    "duration": 5,
    "start_time": "2022-11-19T10:55:39.825Z"
   },
   {
    "duration": 5,
    "start_time": "2022-11-19T10:55:39.831Z"
   },
   {
    "duration": 7,
    "start_time": "2022-11-19T10:55:39.837Z"
   },
   {
    "duration": 9,
    "start_time": "2022-11-19T10:55:39.845Z"
   },
   {
    "duration": 23,
    "start_time": "2022-11-19T10:55:39.855Z"
   },
   {
    "duration": 5,
    "start_time": "2022-11-19T10:55:39.880Z"
   },
   {
    "duration": 34,
    "start_time": "2022-11-19T10:55:39.886Z"
   },
   {
    "duration": 3,
    "start_time": "2022-11-19T10:55:39.922Z"
   },
   {
    "duration": 5,
    "start_time": "2022-11-19T10:55:39.926Z"
   },
   {
    "duration": 6,
    "start_time": "2022-11-19T10:55:39.932Z"
   },
   {
    "duration": 369,
    "start_time": "2022-11-19T10:56:33.678Z"
   },
   {
    "duration": 686,
    "start_time": "2022-11-19T10:56:34.049Z"
   },
   {
    "duration": 3,
    "start_time": "2022-11-19T10:56:34.736Z"
   },
   {
    "duration": 53,
    "start_time": "2022-11-19T10:56:34.740Z"
   },
   {
    "duration": 18,
    "start_time": "2022-11-19T10:56:34.795Z"
   },
   {
    "duration": 12,
    "start_time": "2022-11-19T10:56:34.815Z"
   },
   {
    "duration": 4,
    "start_time": "2022-11-19T10:56:34.828Z"
   },
   {
    "duration": 6,
    "start_time": "2022-11-19T10:56:34.833Z"
   },
   {
    "duration": 11,
    "start_time": "2022-11-19T10:56:34.840Z"
   },
   {
    "duration": 9,
    "start_time": "2022-11-19T10:56:34.853Z"
   },
   {
    "duration": 3,
    "start_time": "2022-11-19T10:56:34.864Z"
   },
   {
    "duration": 8,
    "start_time": "2022-11-19T10:56:34.869Z"
   },
   {
    "duration": 37,
    "start_time": "2022-11-19T10:56:34.879Z"
   },
   {
    "duration": 13,
    "start_time": "2022-11-19T10:56:34.919Z"
   },
   {
    "duration": 19,
    "start_time": "2022-11-19T10:56:34.934Z"
   },
   {
    "duration": 5,
    "start_time": "2022-11-19T10:56:34.954Z"
   },
   {
    "duration": 5,
    "start_time": "2022-11-19T10:56:34.960Z"
   },
   {
    "duration": 5,
    "start_time": "2022-11-19T10:56:34.967Z"
   },
   {
    "duration": 8,
    "start_time": "2022-11-19T10:56:34.973Z"
   },
   {
    "duration": 7,
    "start_time": "2022-11-19T10:56:34.982Z"
   },
   {
    "duration": 43,
    "start_time": "2022-11-19T10:56:34.990Z"
   },
   {
    "duration": 7,
    "start_time": "2022-11-19T10:56:35.035Z"
   },
   {
    "duration": 10,
    "start_time": "2022-11-19T10:56:35.043Z"
   },
   {
    "duration": 3,
    "start_time": "2022-11-19T10:56:35.055Z"
   },
   {
    "duration": 7,
    "start_time": "2022-11-19T10:56:35.060Z"
   },
   {
    "duration": 6,
    "start_time": "2022-11-19T10:56:35.068Z"
   },
   {
    "duration": 389,
    "start_time": "2022-11-19T10:57:28.311Z"
   },
   {
    "duration": 713,
    "start_time": "2022-11-19T10:57:28.701Z"
   },
   {
    "duration": 3,
    "start_time": "2022-11-19T10:57:29.415Z"
   },
   {
    "duration": 52,
    "start_time": "2022-11-19T10:57:29.419Z"
   },
   {
    "duration": 18,
    "start_time": "2022-11-19T10:57:29.473Z"
   },
   {
    "duration": 13,
    "start_time": "2022-11-19T10:57:29.492Z"
   },
   {
    "duration": 7,
    "start_time": "2022-11-19T10:57:29.507Z"
   },
   {
    "duration": 4,
    "start_time": "2022-11-19T10:57:29.516Z"
   },
   {
    "duration": 9,
    "start_time": "2022-11-19T10:57:29.521Z"
   },
   {
    "duration": 10,
    "start_time": "2022-11-19T10:57:29.531Z"
   },
   {
    "duration": 4,
    "start_time": "2022-11-19T10:57:29.542Z"
   },
   {
    "duration": 7,
    "start_time": "2022-11-19T10:57:29.547Z"
   },
   {
    "duration": 6,
    "start_time": "2022-11-19T10:57:29.555Z"
   },
   {
    "duration": 6,
    "start_time": "2022-11-19T10:57:29.564Z"
   },
   {
    "duration": 41,
    "start_time": "2022-11-19T10:57:29.572Z"
   },
   {
    "duration": 3,
    "start_time": "2022-11-19T10:57:29.615Z"
   },
   {
    "duration": 6,
    "start_time": "2022-11-19T10:57:29.620Z"
   },
   {
    "duration": 6,
    "start_time": "2022-11-19T10:57:29.627Z"
   },
   {
    "duration": 7,
    "start_time": "2022-11-19T10:57:29.634Z"
   },
   {
    "duration": 7,
    "start_time": "2022-11-19T10:57:29.642Z"
   },
   {
    "duration": 24,
    "start_time": "2022-11-19T10:57:29.650Z"
   },
   {
    "duration": 6,
    "start_time": "2022-11-19T10:57:29.676Z"
   },
   {
    "duration": 36,
    "start_time": "2022-11-19T10:57:29.684Z"
   },
   {
    "duration": 3,
    "start_time": "2022-11-19T10:57:29.721Z"
   },
   {
    "duration": 6,
    "start_time": "2022-11-19T10:57:29.726Z"
   },
   {
    "duration": 6,
    "start_time": "2022-11-19T10:57:29.733Z"
   },
   {
    "duration": 702,
    "start_time": "2022-11-19T10:57:29.740Z"
   },
   {
    "duration": 11970,
    "start_time": "2022-11-19T10:57:30.443Z"
   },
   {
    "duration": 0,
    "start_time": "2022-11-19T10:57:42.414Z"
   },
   {
    "duration": 0,
    "start_time": "2022-11-19T10:57:42.415Z"
   },
   {
    "duration": 0,
    "start_time": "2022-11-19T10:57:42.416Z"
   },
   {
    "duration": 0,
    "start_time": "2022-11-19T10:57:42.417Z"
   },
   {
    "duration": 0,
    "start_time": "2022-11-19T10:57:42.418Z"
   },
   {
    "duration": 0,
    "start_time": "2022-11-19T10:57:42.419Z"
   },
   {
    "duration": 21,
    "start_time": "2022-11-19T10:58:28.983Z"
   },
   {
    "duration": 15,
    "start_time": "2022-11-19T10:59:08.641Z"
   },
   {
    "duration": 26,
    "start_time": "2022-11-19T10:59:22.256Z"
   },
   {
    "duration": 82,
    "start_time": "2022-11-19T11:00:59.967Z"
   },
   {
    "duration": 7,
    "start_time": "2022-11-19T11:01:06.985Z"
   },
   {
    "duration": 12179,
    "start_time": "2022-11-19T11:01:14.739Z"
   },
   {
    "duration": 10,
    "start_time": "2022-11-19T11:02:16.704Z"
   },
   {
    "duration": 16,
    "start_time": "2022-11-19T11:02:30.506Z"
   },
   {
    "duration": 12,
    "start_time": "2022-11-19T11:03:04.385Z"
   },
   {
    "duration": 16,
    "start_time": "2022-11-19T11:03:28.200Z"
   },
   {
    "duration": 406,
    "start_time": "2022-11-19T11:04:05.817Z"
   },
   {
    "duration": 731,
    "start_time": "2022-11-19T11:05:02.947Z"
   },
   {
    "duration": 14,
    "start_time": "2022-11-19T11:05:41.789Z"
   },
   {
    "duration": 381,
    "start_time": "2022-11-19T11:06:01.808Z"
   },
   {
    "duration": 13,
    "start_time": "2022-11-19T11:13:33.214Z"
   },
   {
    "duration": 411,
    "start_time": "2022-11-19T11:16:19.830Z"
   },
   {
    "duration": 794,
    "start_time": "2022-11-19T11:16:43.576Z"
   },
   {
    "duration": 25,
    "start_time": "2022-11-19T11:25:47.713Z"
   },
   {
    "duration": 68,
    "start_time": "2022-11-19T11:26:55.129Z"
   },
   {
    "duration": 11,
    "start_time": "2022-11-19T11:27:04.209Z"
   },
   {
    "duration": 686,
    "start_time": "2022-11-19T11:28:24.147Z"
   },
   {
    "duration": 8,
    "start_time": "2022-11-19T11:28:52.674Z"
   },
   {
    "duration": 13,
    "start_time": "2022-11-19T11:28:57.818Z"
   },
   {
    "duration": 792,
    "start_time": "2022-11-19T11:33:43.269Z"
   },
   {
    "duration": 842,
    "start_time": "2022-11-19T11:34:13.829Z"
   },
   {
    "duration": 800,
    "start_time": "2022-11-19T11:35:49.229Z"
   },
   {
    "duration": 866,
    "start_time": "2022-11-19T11:36:14.445Z"
   },
   {
    "duration": 10,
    "start_time": "2022-11-19T11:37:15.997Z"
   },
   {
    "duration": 415,
    "start_time": "2022-11-19T11:37:43.278Z"
   },
   {
    "duration": 254,
    "start_time": "2022-11-19T11:39:43.475Z"
   },
   {
    "duration": 250,
    "start_time": "2022-11-19T11:46:05.988Z"
   },
   {
    "duration": 276,
    "start_time": "2022-11-19T11:46:18.889Z"
   },
   {
    "duration": 262,
    "start_time": "2022-11-19T11:46:28.433Z"
   },
   {
    "duration": 252,
    "start_time": "2022-11-19T11:46:36.971Z"
   },
   {
    "duration": 272,
    "start_time": "2022-11-19T11:47:38.442Z"
   },
   {
    "duration": 282,
    "start_time": "2022-11-19T11:48:07.498Z"
   },
   {
    "duration": 3,
    "start_time": "2022-11-19T11:48:33.609Z"
   },
   {
    "duration": 501,
    "start_time": "2022-11-19T11:48:41.595Z"
   },
   {
    "duration": 250,
    "start_time": "2022-11-19T11:49:07.377Z"
   },
   {
    "duration": 243,
    "start_time": "2022-11-19T11:51:02.980Z"
   },
   {
    "duration": 268,
    "start_time": "2022-11-19T11:53:26.429Z"
   },
   {
    "duration": 223,
    "start_time": "2022-11-19T11:55:03.695Z"
   },
   {
    "duration": 238,
    "start_time": "2022-11-19T11:55:18.868Z"
   },
   {
    "duration": 233,
    "start_time": "2022-11-19T11:55:33.337Z"
   },
   {
    "duration": 27,
    "start_time": "2022-11-19T11:57:12.038Z"
   },
   {
    "duration": 17,
    "start_time": "2022-11-19T11:57:20.517Z"
   },
   {
    "duration": 219,
    "start_time": "2022-11-19T12:04:13.385Z"
   },
   {
    "duration": 289,
    "start_time": "2022-11-19T12:07:00.298Z"
   },
   {
    "duration": 210,
    "start_time": "2022-11-19T12:08:07.923Z"
   },
   {
    "duration": 225,
    "start_time": "2022-11-19T12:09:50.619Z"
   },
   {
    "duration": 233,
    "start_time": "2022-11-19T12:11:55.541Z"
   },
   {
    "duration": 223,
    "start_time": "2022-11-19T12:12:46.503Z"
   },
   {
    "duration": 372,
    "start_time": "2022-11-19T12:13:26.731Z"
   },
   {
    "duration": 73,
    "start_time": "2022-11-19T12:15:41.237Z"
   },
   {
    "duration": 240,
    "start_time": "2022-11-19T12:15:48.495Z"
   },
   {
    "duration": 212,
    "start_time": "2022-11-19T12:16:26.150Z"
   },
   {
    "duration": 234,
    "start_time": "2022-11-19T12:17:49.795Z"
   },
   {
    "duration": 223,
    "start_time": "2022-11-19T12:18:58.047Z"
   },
   {
    "duration": 219,
    "start_time": "2022-11-19T12:19:11.775Z"
   },
   {
    "duration": 168,
    "start_time": "2022-11-19T12:20:26.201Z"
   },
   {
    "duration": 272,
    "start_time": "2022-11-19T12:30:20.018Z"
   },
   {
    "duration": 222,
    "start_time": "2022-11-19T12:30:29.885Z"
   },
   {
    "duration": 164,
    "start_time": "2022-11-19T12:31:16.996Z"
   },
   {
    "duration": 27,
    "start_time": "2022-11-19T12:37:59.584Z"
   },
   {
    "duration": 2,
    "start_time": "2022-11-19T12:38:11.534Z"
   },
   {
    "duration": 8,
    "start_time": "2022-11-19T12:38:14.503Z"
   },
   {
    "duration": 24,
    "start_time": "2022-11-19T12:38:25.784Z"
   },
   {
    "duration": 16,
    "start_time": "2022-11-19T12:38:46.971Z"
   },
   {
    "duration": 7,
    "start_time": "2022-11-19T12:40:22.366Z"
   },
   {
    "duration": 8,
    "start_time": "2022-11-19T12:40:36.934Z"
   },
   {
    "duration": 8,
    "start_time": "2022-11-19T12:40:51.111Z"
   },
   {
    "duration": 3,
    "start_time": "2022-11-19T12:48:18.973Z"
   },
   {
    "duration": 21,
    "start_time": "2022-11-19T12:48:22.594Z"
   },
   {
    "duration": 9,
    "start_time": "2022-11-19T12:48:26.490Z"
   },
   {
    "duration": 3,
    "start_time": "2022-11-19T12:50:56.345Z"
   },
   {
    "duration": 15,
    "start_time": "2022-11-19T12:50:58.435Z"
   },
   {
    "duration": 8,
    "start_time": "2022-11-19T12:51:01.923Z"
   },
   {
    "duration": 3,
    "start_time": "2022-11-19T12:53:18.803Z"
   },
   {
    "duration": 15,
    "start_time": "2022-11-19T12:53:20.472Z"
   },
   {
    "duration": 7,
    "start_time": "2022-11-19T12:53:25.020Z"
   },
   {
    "duration": 3,
    "start_time": "2022-11-19T12:54:04.519Z"
   },
   {
    "duration": 16,
    "start_time": "2022-11-19T12:54:06.324Z"
   },
   {
    "duration": 7,
    "start_time": "2022-11-19T12:54:09.884Z"
   },
   {
    "duration": 2,
    "start_time": "2022-11-19T12:54:41.725Z"
   },
   {
    "duration": 14,
    "start_time": "2022-11-19T12:54:43.652Z"
   },
   {
    "duration": 8,
    "start_time": "2022-11-19T12:54:46.493Z"
   },
   {
    "duration": 3,
    "start_time": "2022-11-19T13:01:00.560Z"
   },
   {
    "duration": 19,
    "start_time": "2022-11-19T13:01:01.999Z"
   },
   {
    "duration": 10,
    "start_time": "2022-11-19T13:01:05.281Z"
   },
   {
    "duration": 256,
    "start_time": "2022-11-19T13:06:04.533Z"
   },
   {
    "duration": 204,
    "start_time": "2022-11-19T13:06:21.658Z"
   },
   {
    "duration": 215,
    "start_time": "2022-11-19T13:07:17.425Z"
   },
   {
    "duration": 170,
    "start_time": "2022-11-19T13:07:44.754Z"
   },
   {
    "duration": 201,
    "start_time": "2022-11-19T13:07:58.080Z"
   },
   {
    "duration": 204,
    "start_time": "2022-11-19T13:08:08.955Z"
   },
   {
    "duration": 119,
    "start_time": "2022-11-19T13:08:25.235Z"
   },
   {
    "duration": 154,
    "start_time": "2022-11-19T13:09:05.604Z"
   },
   {
    "duration": 12,
    "start_time": "2022-11-19T13:10:04.793Z"
   },
   {
    "duration": 542,
    "start_time": "2022-11-19T13:10:17.197Z"
   },
   {
    "duration": 149,
    "start_time": "2022-11-19T13:10:36.324Z"
   },
   {
    "duration": 168,
    "start_time": "2022-11-19T13:30:50.410Z"
   },
   {
    "duration": 157,
    "start_time": "2022-11-19T13:31:58.305Z"
   },
   {
    "duration": 157,
    "start_time": "2022-11-19T13:32:27.511Z"
   },
   {
    "duration": 329,
    "start_time": "2022-11-19T13:40:42.070Z"
   },
   {
    "duration": 332,
    "start_time": "2022-11-19T13:42:00.367Z"
   },
   {
    "duration": 22,
    "start_time": "2022-11-19T13:44:05.910Z"
   },
   {
    "duration": 10,
    "start_time": "2022-11-19T13:46:00.401Z"
   },
   {
    "duration": 17,
    "start_time": "2022-11-19T13:46:05.354Z"
   },
   {
    "duration": 15,
    "start_time": "2022-11-19T13:46:22.301Z"
   },
   {
    "duration": 11,
    "start_time": "2022-11-19T13:51:23.052Z"
   },
   {
    "duration": 17,
    "start_time": "2022-11-19T13:52:10.515Z"
   },
   {
    "duration": 83,
    "start_time": "2022-11-19T13:52:46.198Z"
   },
   {
    "duration": 174,
    "start_time": "2022-11-19T13:52:54.026Z"
   },
   {
    "duration": 310,
    "start_time": "2022-11-19T13:53:30.799Z"
   },
   {
    "duration": 71,
    "start_time": "2022-11-19T13:55:45.196Z"
   },
   {
    "duration": 17,
    "start_time": "2022-11-19T13:55:52.863Z"
   },
   {
    "duration": 394,
    "start_time": "2022-11-19T13:57:56.303Z"
   },
   {
    "duration": 299,
    "start_time": "2022-11-19T13:59:01.238Z"
   },
   {
    "duration": 561,
    "start_time": "2022-11-19T14:01:16.943Z"
   },
   {
    "duration": 546,
    "start_time": "2022-11-19T14:02:07.653Z"
   },
   {
    "duration": 314,
    "start_time": "2022-11-19T14:03:30.770Z"
   },
   {
    "duration": 15,
    "start_time": "2022-11-19T14:04:54.199Z"
   },
   {
    "duration": 20,
    "start_time": "2022-11-19T14:05:58.416Z"
   },
   {
    "duration": 18,
    "start_time": "2022-11-19T14:06:46.922Z"
   },
   {
    "duration": 560,
    "start_time": "2022-11-19T14:06:57.921Z"
   },
   {
    "duration": 12,
    "start_time": "2022-11-19T14:10:43.284Z"
   },
   {
    "duration": 528,
    "start_time": "2022-11-19T14:10:49.359Z"
   },
   {
    "duration": 552,
    "start_time": "2022-11-19T14:11:50.780Z"
   },
   {
    "duration": 470,
    "start_time": "2022-11-19T14:12:42.269Z"
   },
   {
    "duration": 544,
    "start_time": "2022-11-19T14:18:53.456Z"
   },
   {
    "duration": 496,
    "start_time": "2022-11-19T14:21:08.312Z"
   },
   {
    "duration": 479,
    "start_time": "2022-11-19T14:21:16.127Z"
   },
   {
    "duration": 7,
    "start_time": "2022-11-19T14:28:25.931Z"
   },
   {
    "duration": 6,
    "start_time": "2022-11-19T14:29:57.179Z"
   },
   {
    "duration": 4,
    "start_time": "2022-11-19T14:30:11.427Z"
   },
   {
    "duration": 19,
    "start_time": "2022-11-19T14:30:53.405Z"
   },
   {
    "duration": 9,
    "start_time": "2022-11-19T14:31:25.326Z"
   },
   {
    "duration": 15,
    "start_time": "2022-11-19T14:31:58.363Z"
   },
   {
    "duration": 82,
    "start_time": "2022-11-19T14:32:17.526Z"
   },
   {
    "duration": 13,
    "start_time": "2022-11-19T14:32:25.430Z"
   },
   {
    "duration": 11,
    "start_time": "2022-11-19T14:32:53.014Z"
   },
   {
    "duration": 5,
    "start_time": "2022-11-19T14:32:55.811Z"
   },
   {
    "duration": 2,
    "start_time": "2022-11-19T14:33:30.854Z"
   },
   {
    "duration": 17,
    "start_time": "2022-11-19T14:34:09.069Z"
   },
   {
    "duration": 28,
    "start_time": "2022-11-19T14:35:28.206Z"
   },
   {
    "duration": 6,
    "start_time": "2022-11-19T14:36:19.903Z"
   },
   {
    "duration": 312,
    "start_time": "2022-11-19T14:36:44.031Z"
   },
   {
    "duration": 294,
    "start_time": "2022-11-19T14:37:23.582Z"
   },
   {
    "duration": 455,
    "start_time": "2022-11-19T14:38:19.744Z"
   },
   {
    "duration": 299,
    "start_time": "2022-11-19T14:39:43.304Z"
   },
   {
    "duration": 12,
    "start_time": "2022-11-19T14:50:55.485Z"
   },
   {
    "duration": 399,
    "start_time": "2022-11-19T14:51:06.052Z"
   },
   {
    "duration": 13,
    "start_time": "2022-11-19T14:52:04.951Z"
   },
   {
    "duration": 269,
    "start_time": "2022-11-19T14:52:32.126Z"
   },
   {
    "duration": 4,
    "start_time": "2022-11-19T15:14:37.886Z"
   },
   {
    "duration": 12,
    "start_time": "2022-11-19T15:16:55.942Z"
   },
   {
    "duration": 14,
    "start_time": "2022-11-19T15:17:44.199Z"
   },
   {
    "duration": 17,
    "start_time": "2022-11-19T15:17:54.696Z"
   },
   {
    "duration": 170,
    "start_time": "2022-11-19T16:21:09.730Z"
   },
   {
    "duration": 17,
    "start_time": "2022-11-19T16:21:20.111Z"
   },
   {
    "duration": 215,
    "start_time": "2022-11-19T16:24:14.160Z"
   },
   {
    "duration": 313,
    "start_time": "2022-11-19T16:24:26.910Z"
   },
   {
    "duration": 227,
    "start_time": "2022-11-19T16:24:57.352Z"
   },
   {
    "duration": 231,
    "start_time": "2022-11-19T16:25:07.111Z"
   },
   {
    "duration": 17,
    "start_time": "2022-11-19T16:25:56.906Z"
   },
   {
    "duration": 12,
    "start_time": "2022-11-19T16:25:59.736Z"
   },
   {
    "duration": 15,
    "start_time": "2022-11-19T16:26:17.429Z"
   },
   {
    "duration": 8,
    "start_time": "2022-11-19T16:26:43.945Z"
   },
   {
    "duration": 8,
    "start_time": "2022-11-19T16:26:55.690Z"
   },
   {
    "duration": 16,
    "start_time": "2022-11-19T16:27:11.913Z"
   },
   {
    "duration": 20,
    "start_time": "2022-11-19T16:27:14.610Z"
   },
   {
    "duration": 16,
    "start_time": "2022-11-19T16:27:26.854Z"
   },
   {
    "duration": 236,
    "start_time": "2022-11-19T16:27:31.626Z"
   },
   {
    "duration": 16,
    "start_time": "2022-11-19T16:27:55.530Z"
   },
   {
    "duration": 234,
    "start_time": "2022-11-19T16:28:02.457Z"
   },
   {
    "duration": 240,
    "start_time": "2022-11-19T16:28:13.201Z"
   },
   {
    "duration": 143,
    "start_time": "2022-11-19T16:28:44.114Z"
   },
   {
    "duration": 162,
    "start_time": "2022-11-19T16:34:45.486Z"
   },
   {
    "duration": 156,
    "start_time": "2022-11-19T16:34:53.695Z"
   },
   {
    "duration": 160,
    "start_time": "2022-11-19T16:35:26.061Z"
   },
   {
    "duration": 189,
    "start_time": "2022-11-19T16:35:39.685Z"
   },
   {
    "duration": 183,
    "start_time": "2022-11-19T16:35:46.142Z"
   },
   {
    "duration": 86,
    "start_time": "2022-11-19T16:36:11.574Z"
   },
   {
    "duration": 80,
    "start_time": "2022-11-19T16:37:59.073Z"
   },
   {
    "duration": 158,
    "start_time": "2022-11-19T16:38:05.510Z"
   },
   {
    "duration": 5,
    "start_time": "2022-11-19T17:34:25.556Z"
   },
   {
    "duration": 26,
    "start_time": "2022-11-19T17:34:29.527Z"
   },
   {
    "duration": 375,
    "start_time": "2022-11-19T17:34:51.413Z"
   },
   {
    "duration": 741,
    "start_time": "2022-11-19T17:34:51.790Z"
   },
   {
    "duration": 3,
    "start_time": "2022-11-19T17:34:52.533Z"
   },
   {
    "duration": 6,
    "start_time": "2022-11-19T17:34:52.538Z"
   },
   {
    "duration": 57,
    "start_time": "2022-11-19T17:34:52.547Z"
   },
   {
    "duration": 24,
    "start_time": "2022-11-19T17:34:52.605Z"
   },
   {
    "duration": 18,
    "start_time": "2022-11-19T17:34:52.631Z"
   },
   {
    "duration": 6,
    "start_time": "2022-11-19T17:34:52.650Z"
   },
   {
    "duration": 10,
    "start_time": "2022-11-19T17:34:52.657Z"
   },
   {
    "duration": 12,
    "start_time": "2022-11-19T17:34:52.669Z"
   },
   {
    "duration": 9,
    "start_time": "2022-11-19T17:34:52.682Z"
   },
   {
    "duration": 4,
    "start_time": "2022-11-19T17:34:52.693Z"
   },
   {
    "duration": 19,
    "start_time": "2022-11-19T17:34:52.699Z"
   },
   {
    "duration": 13,
    "start_time": "2022-11-19T17:34:52.723Z"
   },
   {
    "duration": 9,
    "start_time": "2022-11-19T17:34:52.738Z"
   },
   {
    "duration": 9,
    "start_time": "2022-11-19T17:34:52.749Z"
   },
   {
    "duration": 5,
    "start_time": "2022-11-19T17:34:52.759Z"
   },
   {
    "duration": 25,
    "start_time": "2022-11-19T17:34:52.765Z"
   },
   {
    "duration": 27,
    "start_time": "2022-11-19T17:34:52.792Z"
   },
   {
    "duration": 101,
    "start_time": "2022-11-19T17:34:52.828Z"
   },
   {
    "duration": 0,
    "start_time": "2022-11-19T17:34:52.931Z"
   },
   {
    "duration": 0,
    "start_time": "2022-11-19T17:34:52.933Z"
   },
   {
    "duration": 0,
    "start_time": "2022-11-19T17:34:52.936Z"
   },
   {
    "duration": 0,
    "start_time": "2022-11-19T17:34:52.938Z"
   },
   {
    "duration": 0,
    "start_time": "2022-11-19T17:34:52.939Z"
   },
   {
    "duration": 0,
    "start_time": "2022-11-19T17:34:52.941Z"
   },
   {
    "duration": 0,
    "start_time": "2022-11-19T17:34:52.942Z"
   },
   {
    "duration": 0,
    "start_time": "2022-11-19T17:34:52.943Z"
   },
   {
    "duration": 0,
    "start_time": "2022-11-19T17:34:52.945Z"
   },
   {
    "duration": 0,
    "start_time": "2022-11-19T17:34:52.946Z"
   },
   {
    "duration": 0,
    "start_time": "2022-11-19T17:34:52.948Z"
   },
   {
    "duration": 0,
    "start_time": "2022-11-19T17:34:52.950Z"
   },
   {
    "duration": 0,
    "start_time": "2022-11-19T17:34:52.951Z"
   },
   {
    "duration": 0,
    "start_time": "2022-11-19T17:34:52.953Z"
   },
   {
    "duration": 0,
    "start_time": "2022-11-19T17:34:52.954Z"
   },
   {
    "duration": 0,
    "start_time": "2022-11-19T17:34:52.956Z"
   },
   {
    "duration": 0,
    "start_time": "2022-11-19T17:34:52.957Z"
   },
   {
    "duration": 8,
    "start_time": "2022-11-19T17:35:45.629Z"
   },
   {
    "duration": 3,
    "start_time": "2022-11-19T17:35:54.130Z"
   },
   {
    "duration": 3,
    "start_time": "2022-11-19T17:35:58.348Z"
   },
   {
    "duration": 3,
    "start_time": "2022-11-19T17:36:02.092Z"
   },
   {
    "duration": 18,
    "start_time": "2022-11-19T17:36:20.364Z"
   },
   {
    "duration": 229,
    "start_time": "2022-11-19T17:36:29.901Z"
   },
   {
    "duration": 160,
    "start_time": "2022-11-19T17:36:38.101Z"
   },
   {
    "duration": 157,
    "start_time": "2022-11-19T17:37:18.130Z"
   },
   {
    "duration": 184,
    "start_time": "2022-11-19T17:38:53.679Z"
   },
   {
    "duration": 155,
    "start_time": "2022-11-19T17:40:29.040Z"
   },
   {
    "duration": 2,
    "start_time": "2022-11-19T17:42:26.474Z"
   },
   {
    "duration": 367,
    "start_time": "2022-11-19T17:42:34.848Z"
   },
   {
    "duration": 727,
    "start_time": "2022-11-19T17:42:35.217Z"
   },
   {
    "duration": 2,
    "start_time": "2022-11-19T17:42:35.945Z"
   },
   {
    "duration": 6,
    "start_time": "2022-11-19T17:42:35.949Z"
   },
   {
    "duration": 54,
    "start_time": "2022-11-19T17:42:35.957Z"
   },
   {
    "duration": 32,
    "start_time": "2022-11-19T17:42:36.012Z"
   },
   {
    "duration": 12,
    "start_time": "2022-11-19T17:42:36.046Z"
   },
   {
    "duration": 3,
    "start_time": "2022-11-19T17:42:36.060Z"
   },
   {
    "duration": 6,
    "start_time": "2022-11-19T17:42:36.065Z"
   },
   {
    "duration": 14,
    "start_time": "2022-11-19T17:42:36.072Z"
   },
   {
    "duration": 40,
    "start_time": "2022-11-19T17:42:36.088Z"
   },
   {
    "duration": 4,
    "start_time": "2022-11-19T17:42:36.131Z"
   },
   {
    "duration": 10,
    "start_time": "2022-11-19T17:42:36.136Z"
   },
   {
    "duration": 4,
    "start_time": "2022-11-19T17:42:36.148Z"
   },
   {
    "duration": 7,
    "start_time": "2022-11-19T17:42:36.153Z"
   },
   {
    "duration": 11,
    "start_time": "2022-11-19T17:42:36.161Z"
   },
   {
    "duration": 4,
    "start_time": "2022-11-19T17:42:36.174Z"
   },
   {
    "duration": 59,
    "start_time": "2022-11-19T17:42:36.180Z"
   },
   {
    "duration": 8,
    "start_time": "2022-11-19T17:42:36.241Z"
   },
   {
    "duration": 10,
    "start_time": "2022-11-19T17:42:36.251Z"
   },
   {
    "duration": 3,
    "start_time": "2022-11-19T17:42:36.263Z"
   },
   {
    "duration": 6,
    "start_time": "2022-11-19T17:42:36.267Z"
   },
   {
    "duration": 7,
    "start_time": "2022-11-19T17:42:36.275Z"
   },
   {
    "duration": 45,
    "start_time": "2022-11-19T17:42:36.283Z"
   },
   {
    "duration": 223,
    "start_time": "2022-11-19T17:42:36.330Z"
   },
   {
    "duration": 3,
    "start_time": "2022-11-19T17:42:36.554Z"
   },
   {
    "duration": 19,
    "start_time": "2022-11-19T17:42:36.558Z"
   },
   {
    "duration": 115,
    "start_time": "2022-11-19T17:42:36.579Z"
   },
   {
    "duration": 0,
    "start_time": "2022-11-19T17:42:36.696Z"
   },
   {
    "duration": 0,
    "start_time": "2022-11-19T17:42:36.697Z"
   },
   {
    "duration": 0,
    "start_time": "2022-11-19T17:42:36.697Z"
   },
   {
    "duration": 0,
    "start_time": "2022-11-19T17:42:36.699Z"
   },
   {
    "duration": 0,
    "start_time": "2022-11-19T17:42:36.714Z"
   },
   {
    "duration": 0,
    "start_time": "2022-11-19T17:42:36.715Z"
   },
   {
    "duration": 0,
    "start_time": "2022-11-19T17:42:36.715Z"
   },
   {
    "duration": 0,
    "start_time": "2022-11-19T17:42:36.719Z"
   },
   {
    "duration": 12,
    "start_time": "2022-11-19T17:42:53.015Z"
   },
   {
    "duration": 14,
    "start_time": "2022-11-19T17:43:17.408Z"
   },
   {
    "duration": 153,
    "start_time": "2022-11-19T17:43:27.313Z"
   },
   {
    "duration": 10,
    "start_time": "2022-11-19T17:44:38.137Z"
   },
   {
    "duration": 17,
    "start_time": "2022-11-19T17:44:49.274Z"
   },
   {
    "duration": 8,
    "start_time": "2022-11-19T17:45:14.489Z"
   },
   {
    "duration": 2,
    "start_time": "2022-11-19T17:45:18.201Z"
   },
   {
    "duration": 3,
    "start_time": "2022-11-19T17:45:21.473Z"
   },
   {
    "duration": 16,
    "start_time": "2022-11-19T17:45:36.570Z"
   },
   {
    "duration": 12,
    "start_time": "2022-11-19T17:45:41.641Z"
   },
   {
    "duration": 164,
    "start_time": "2022-11-19T17:45:52.134Z"
   },
   {
    "duration": 17,
    "start_time": "2022-11-19T17:46:14.334Z"
   },
   {
    "duration": 36493,
    "start_time": "2022-11-19T17:46:24.035Z"
   },
   {
    "duration": 179,
    "start_time": "2022-11-19T17:48:17.156Z"
   },
   {
    "duration": 172,
    "start_time": "2022-11-19T17:49:12.602Z"
   },
   {
    "duration": 194,
    "start_time": "2022-11-19T17:50:27.861Z"
   },
   {
    "duration": 9,
    "start_time": "2022-11-19T18:20:52.006Z"
   },
   {
    "duration": 69,
    "start_time": "2022-11-19T18:21:09.967Z"
   },
   {
    "duration": 23,
    "start_time": "2022-11-19T18:21:16.738Z"
   },
   {
    "duration": 7,
    "start_time": "2022-11-19T18:23:55.520Z"
   },
   {
    "duration": 10,
    "start_time": "2022-11-19T18:27:17.810Z"
   },
   {
    "duration": 11,
    "start_time": "2022-11-19T18:27:48.472Z"
   },
   {
    "duration": 5,
    "start_time": "2022-11-19T18:29:16.571Z"
   },
   {
    "duration": 13,
    "start_time": "2022-11-19T18:32:57.740Z"
   },
   {
    "duration": 37,
    "start_time": "2022-11-19T18:33:33.859Z"
   },
   {
    "duration": 25,
    "start_time": "2022-11-19T18:34:34.612Z"
   },
   {
    "duration": 5,
    "start_time": "2022-11-19T18:35:57.902Z"
   },
   {
    "duration": 6,
    "start_time": "2022-11-19T18:36:31.725Z"
   },
   {
    "duration": 121,
    "start_time": "2022-11-19T18:40:29.966Z"
   },
   {
    "duration": 135,
    "start_time": "2022-11-19T18:41:13.410Z"
   },
   {
    "duration": 128,
    "start_time": "2022-11-19T18:53:10.081Z"
   },
   {
    "duration": 141,
    "start_time": "2022-11-19T18:53:49.897Z"
   },
   {
    "duration": 75,
    "start_time": "2022-11-19T18:59:41.980Z"
   },
   {
    "duration": 7,
    "start_time": "2022-11-19T19:00:01.321Z"
   },
   {
    "duration": 5,
    "start_time": "2022-11-19T19:01:09.693Z"
   },
   {
    "duration": 5,
    "start_time": "2022-11-19T19:01:32.605Z"
   },
   {
    "duration": 139,
    "start_time": "2022-11-19T19:02:08.230Z"
   },
   {
    "duration": 5,
    "start_time": "2022-11-19T19:03:02.037Z"
   },
   {
    "duration": 135,
    "start_time": "2022-11-19T19:03:36.097Z"
   },
   {
    "duration": 131,
    "start_time": "2022-11-19T19:04:53.742Z"
   },
   {
    "duration": 149,
    "start_time": "2022-11-19T19:05:04.478Z"
   },
   {
    "duration": 141,
    "start_time": "2022-11-19T19:05:24.366Z"
   },
   {
    "duration": 138,
    "start_time": "2022-11-19T19:06:20.449Z"
   },
   {
    "duration": 129,
    "start_time": "2022-11-19T19:06:36.335Z"
   },
   {
    "duration": 4,
    "start_time": "2022-11-19T19:15:14.846Z"
   },
   {
    "duration": 7,
    "start_time": "2022-11-19T19:15:51.029Z"
   },
   {
    "duration": 7,
    "start_time": "2022-11-19T19:16:16.805Z"
   },
   {
    "duration": 7,
    "start_time": "2022-11-19T19:29:50.664Z"
   },
   {
    "duration": 9,
    "start_time": "2022-11-19T19:30:52.141Z"
   },
   {
    "duration": 9,
    "start_time": "2022-11-19T19:31:11.152Z"
   },
   {
    "duration": 8,
    "start_time": "2022-11-19T19:32:12.934Z"
   },
   {
    "duration": 7,
    "start_time": "2022-11-19T19:32:35.685Z"
   },
   {
    "duration": 8,
    "start_time": "2022-11-19T19:36:01.287Z"
   },
   {
    "duration": 8,
    "start_time": "2022-11-19T19:36:41.297Z"
   },
   {
    "duration": 7,
    "start_time": "2022-11-19T19:36:56.320Z"
   },
   {
    "duration": 8,
    "start_time": "2022-11-19T19:38:53.462Z"
   },
   {
    "duration": 7,
    "start_time": "2022-11-19T19:39:59.960Z"
   },
   {
    "duration": 8,
    "start_time": "2022-11-19T19:40:04.578Z"
   },
   {
    "duration": 6,
    "start_time": "2022-11-19T19:45:03.973Z"
   },
   {
    "duration": 5,
    "start_time": "2022-11-19T19:45:32.364Z"
   },
   {
    "duration": 3,
    "start_time": "2022-11-19T19:45:48.807Z"
   },
   {
    "duration": 4,
    "start_time": "2022-11-19T19:45:53.644Z"
   },
   {
    "duration": 6,
    "start_time": "2022-11-19T19:47:28.013Z"
   },
   {
    "duration": 9,
    "start_time": "2022-11-19T19:48:23.509Z"
   },
   {
    "duration": 3,
    "start_time": "2022-11-19T19:48:34.731Z"
   },
   {
    "duration": 9,
    "start_time": "2022-11-19T19:50:31.635Z"
   },
   {
    "duration": 2,
    "start_time": "2022-11-19T19:53:03.089Z"
   },
   {
    "duration": 4,
    "start_time": "2022-11-19T19:53:14.633Z"
   },
   {
    "duration": 5,
    "start_time": "2022-11-19T19:53:38.763Z"
   },
   {
    "duration": 5,
    "start_time": "2022-11-19T19:57:14.049Z"
   },
   {
    "duration": 3,
    "start_time": "2022-11-19T19:57:42.936Z"
   },
   {
    "duration": 4,
    "start_time": "2022-11-19T19:58:02.241Z"
   },
   {
    "duration": 3,
    "start_time": "2022-11-19T19:58:18.114Z"
   },
   {
    "duration": 4,
    "start_time": "2022-11-19T19:58:21.684Z"
   },
   {
    "duration": 48,
    "start_time": "2022-11-20T11:04:39.594Z"
   },
   {
    "duration": 5,
    "start_time": "2022-11-20T11:04:53.514Z"
   },
   {
    "duration": 436,
    "start_time": "2022-11-20T11:04:58.201Z"
   },
   {
    "duration": 199,
    "start_time": "2022-11-20T11:05:01.392Z"
   },
   {
    "duration": 1204,
    "start_time": "2022-11-20T11:05:06.409Z"
   },
   {
    "duration": 436,
    "start_time": "2022-11-20T11:05:26.685Z"
   },
   {
    "duration": 967,
    "start_time": "2022-11-20T11:05:27.125Z"
   },
   {
    "duration": 3,
    "start_time": "2022-11-20T11:05:28.094Z"
   },
   {
    "duration": 8,
    "start_time": "2022-11-20T11:05:28.098Z"
   },
   {
    "duration": 5,
    "start_time": "2022-11-20T11:05:28.108Z"
   },
   {
    "duration": 64,
    "start_time": "2022-11-20T11:05:28.115Z"
   },
   {
    "duration": 21,
    "start_time": "2022-11-20T11:05:28.180Z"
   },
   {
    "duration": 16,
    "start_time": "2022-11-20T11:05:28.203Z"
   },
   {
    "duration": 5,
    "start_time": "2022-11-20T11:05:28.221Z"
   },
   {
    "duration": 8,
    "start_time": "2022-11-20T11:05:28.227Z"
   },
   {
    "duration": 13,
    "start_time": "2022-11-20T11:05:28.237Z"
   },
   {
    "duration": 29,
    "start_time": "2022-11-20T11:05:28.251Z"
   },
   {
    "duration": 15,
    "start_time": "2022-11-20T11:05:28.281Z"
   },
   {
    "duration": 4,
    "start_time": "2022-11-20T11:05:28.299Z"
   },
   {
    "duration": 10,
    "start_time": "2022-11-20T11:05:28.304Z"
   },
   {
    "duration": 8,
    "start_time": "2022-11-20T11:05:28.316Z"
   },
   {
    "duration": 10,
    "start_time": "2022-11-20T11:05:28.325Z"
   },
   {
    "duration": 47,
    "start_time": "2022-11-20T11:05:28.336Z"
   },
   {
    "duration": 5,
    "start_time": "2022-11-20T11:05:28.385Z"
   },
   {
    "duration": 24,
    "start_time": "2022-11-20T11:05:28.392Z"
   },
   {
    "duration": 8,
    "start_time": "2022-11-20T11:05:28.418Z"
   },
   {
    "duration": 10,
    "start_time": "2022-11-20T11:05:28.428Z"
   },
   {
    "duration": 38,
    "start_time": "2022-11-20T11:05:28.440Z"
   },
   {
    "duration": 4,
    "start_time": "2022-11-20T11:05:28.480Z"
   },
   {
    "duration": 7,
    "start_time": "2022-11-20T11:05:28.485Z"
   },
   {
    "duration": 19,
    "start_time": "2022-11-20T11:05:28.494Z"
   },
   {
    "duration": 269,
    "start_time": "2022-11-20T11:05:28.515Z"
   },
   {
    "duration": 3,
    "start_time": "2022-11-20T11:05:28.786Z"
   },
   {
    "duration": 19,
    "start_time": "2022-11-20T11:05:28.790Z"
   },
   {
    "duration": 8,
    "start_time": "2022-11-20T11:05:28.811Z"
   },
   {
    "duration": 187,
    "start_time": "2022-11-20T11:05:28.820Z"
   },
   {
    "duration": 10,
    "start_time": "2022-11-20T11:05:29.009Z"
   },
   {
    "duration": 9,
    "start_time": "2022-11-20T11:05:29.020Z"
   },
   {
    "duration": 11,
    "start_time": "2022-11-20T11:05:29.031Z"
   },
   {
    "duration": 20,
    "start_time": "2022-11-20T11:05:29.044Z"
   },
   {
    "duration": 196,
    "start_time": "2022-11-20T11:05:29.077Z"
   },
   {
    "duration": 188,
    "start_time": "2022-11-20T11:05:29.275Z"
   },
   {
    "duration": 12,
    "start_time": "2022-11-20T11:05:29.465Z"
   },
   {
    "duration": 8,
    "start_time": "2022-11-20T11:05:29.479Z"
   },
   {
    "duration": 158,
    "start_time": "2022-11-20T11:05:29.489Z"
   },
   {
    "duration": 6,
    "start_time": "2022-11-20T11:05:29.651Z"
   },
   {
    "duration": 168,
    "start_time": "2022-11-20T11:05:29.658Z"
   },
   {
    "duration": 6,
    "start_time": "2022-11-20T11:05:29.828Z"
   },
   {
    "duration": 14,
    "start_time": "2022-11-20T11:05:29.836Z"
   },
   {
    "duration": 155,
    "start_time": "2022-11-20T11:05:29.852Z"
   },
   {
    "duration": 7,
    "start_time": "2022-11-20T11:05:30.009Z"
   },
   {
    "duration": 166,
    "start_time": "2022-11-20T11:05:30.018Z"
   },
   {
    "duration": 10,
    "start_time": "2022-11-20T11:05:30.186Z"
   },
   {
    "duration": 25,
    "start_time": "2022-11-20T11:05:30.198Z"
   },
   {
    "duration": 35,
    "start_time": "2022-11-20T11:05:30.225Z"
   },
   {
    "duration": 41,
    "start_time": "2022-11-20T11:05:30.262Z"
   },
   {
    "duration": 12,
    "start_time": "2022-11-20T11:05:30.305Z"
   },
   {
    "duration": 19,
    "start_time": "2022-11-20T11:05:30.318Z"
   },
   {
    "duration": 31,
    "start_time": "2022-11-20T11:05:30.339Z"
   },
   {
    "duration": 25,
    "start_time": "2022-11-20T11:05:30.372Z"
   },
   {
    "duration": 35,
    "start_time": "2022-11-20T11:05:30.399Z"
   },
   {
    "duration": 31,
    "start_time": "2022-11-20T11:05:30.435Z"
   },
   {
    "duration": 20,
    "start_time": "2022-11-20T11:05:30.468Z"
   },
   {
    "duration": 38,
    "start_time": "2022-11-20T11:05:30.490Z"
   },
   {
    "duration": 20,
    "start_time": "2022-11-20T11:05:30.530Z"
   },
   {
    "duration": 19,
    "start_time": "2022-11-20T11:05:30.552Z"
   },
   {
    "duration": 11,
    "start_time": "2022-11-20T11:05:53.628Z"
   },
   {
    "duration": 445,
    "start_time": "2022-11-20T11:07:19.247Z"
   },
   {
    "duration": 770,
    "start_time": "2022-11-20T11:07:19.694Z"
   },
   {
    "duration": 3,
    "start_time": "2022-11-20T11:07:20.466Z"
   },
   {
    "duration": 10,
    "start_time": "2022-11-20T11:07:20.471Z"
   },
   {
    "duration": 7,
    "start_time": "2022-11-20T11:07:20.482Z"
   },
   {
    "duration": 61,
    "start_time": "2022-11-20T11:07:20.491Z"
   },
   {
    "duration": 22,
    "start_time": "2022-11-20T11:07:20.553Z"
   },
   {
    "duration": 15,
    "start_time": "2022-11-20T11:07:20.577Z"
   },
   {
    "duration": 7,
    "start_time": "2022-11-20T11:07:20.594Z"
   },
   {
    "duration": 6,
    "start_time": "2022-11-20T11:07:20.604Z"
   },
   {
    "duration": 13,
    "start_time": "2022-11-20T11:07:20.612Z"
   },
   {
    "duration": 4,
    "start_time": "2022-11-20T11:07:20.627Z"
   },
   {
    "duration": 47,
    "start_time": "2022-11-20T11:07:20.632Z"
   },
   {
    "duration": 13,
    "start_time": "2022-11-20T11:07:20.680Z"
   },
   {
    "duration": 4,
    "start_time": "2022-11-20T11:07:20.694Z"
   },
   {
    "duration": 10,
    "start_time": "2022-11-20T11:07:20.699Z"
   },
   {
    "duration": 7,
    "start_time": "2022-11-20T11:07:20.711Z"
   },
   {
    "duration": 14,
    "start_time": "2022-11-20T11:07:20.719Z"
   },
   {
    "duration": 44,
    "start_time": "2022-11-20T11:07:20.735Z"
   },
   {
    "duration": 8,
    "start_time": "2022-11-20T11:07:20.781Z"
   },
   {
    "duration": 26,
    "start_time": "2022-11-20T11:07:20.791Z"
   },
   {
    "duration": 9,
    "start_time": "2022-11-20T11:07:20.818Z"
   },
   {
    "duration": 8,
    "start_time": "2022-11-20T11:07:20.829Z"
   },
   {
    "duration": 4,
    "start_time": "2022-11-20T11:07:20.839Z"
   },
   {
    "duration": 3,
    "start_time": "2022-11-20T11:07:20.878Z"
   },
   {
    "duration": 15,
    "start_time": "2022-11-20T11:07:20.883Z"
   },
   {
    "duration": 22,
    "start_time": "2022-11-20T11:07:20.900Z"
   },
   {
    "duration": 258,
    "start_time": "2022-11-20T11:07:20.926Z"
   },
   {
    "duration": 3,
    "start_time": "2022-11-20T11:07:21.187Z"
   },
   {
    "duration": 19,
    "start_time": "2022-11-20T11:07:21.192Z"
   },
   {
    "duration": 9,
    "start_time": "2022-11-20T11:07:21.214Z"
   },
   {
    "duration": 189,
    "start_time": "2022-11-20T11:07:21.224Z"
   },
   {
    "duration": 9,
    "start_time": "2022-11-20T11:07:21.415Z"
   },
   {
    "duration": 3,
    "start_time": "2022-11-20T11:07:21.426Z"
   },
   {
    "duration": 8,
    "start_time": "2022-11-20T11:07:21.430Z"
   },
   {
    "duration": 20,
    "start_time": "2022-11-20T11:07:21.440Z"
   },
   {
    "duration": 198,
    "start_time": "2022-11-20T11:07:21.462Z"
   },
   {
    "duration": 184,
    "start_time": "2022-11-20T11:07:21.662Z"
   },
   {
    "duration": 7,
    "start_time": "2022-11-20T11:07:21.848Z"
   },
   {
    "duration": 26,
    "start_time": "2022-11-20T11:07:21.857Z"
   },
   {
    "duration": 166,
    "start_time": "2022-11-20T11:07:21.885Z"
   },
   {
    "duration": 5,
    "start_time": "2022-11-20T11:07:22.053Z"
   },
   {
    "duration": 165,
    "start_time": "2022-11-20T11:07:22.060Z"
   },
   {
    "duration": 7,
    "start_time": "2022-11-20T11:07:22.227Z"
   },
   {
    "duration": 7,
    "start_time": "2022-11-20T11:07:22.235Z"
   },
   {
    "duration": 171,
    "start_time": "2022-11-20T11:07:22.244Z"
   },
   {
    "duration": 6,
    "start_time": "2022-11-20T11:07:22.417Z"
   },
   {
    "duration": 169,
    "start_time": "2022-11-20T11:07:22.424Z"
   },
   {
    "duration": 8,
    "start_time": "2022-11-20T11:07:22.595Z"
   },
   {
    "duration": 8,
    "start_time": "2022-11-20T11:07:22.606Z"
   },
   {
    "duration": 11,
    "start_time": "2022-11-20T11:07:22.616Z"
   },
   {
    "duration": 10,
    "start_time": "2022-11-20T11:07:22.629Z"
   },
   {
    "duration": 45,
    "start_time": "2022-11-20T11:07:22.641Z"
   },
   {
    "duration": 18,
    "start_time": "2022-11-20T11:07:22.688Z"
   },
   {
    "duration": 11,
    "start_time": "2022-11-20T11:07:22.708Z"
   },
   {
    "duration": 11,
    "start_time": "2022-11-20T11:07:22.721Z"
   },
   {
    "duration": 11,
    "start_time": "2022-11-20T11:07:22.734Z"
   },
   {
    "duration": 36,
    "start_time": "2022-11-20T11:07:22.747Z"
   },
   {
    "duration": 8,
    "start_time": "2022-11-20T11:07:22.785Z"
   },
   {
    "duration": 27,
    "start_time": "2022-11-20T11:07:22.795Z"
   },
   {
    "duration": 11,
    "start_time": "2022-11-20T11:07:22.824Z"
   },
   {
    "duration": 12,
    "start_time": "2022-11-20T11:07:22.837Z"
   },
   {
    "duration": 9,
    "start_time": "2022-11-20T11:11:23.637Z"
   },
   {
    "duration": 172,
    "start_time": "2022-11-20T11:11:46.703Z"
   },
   {
    "duration": 11,
    "start_time": "2022-11-20T11:14:13.888Z"
   },
   {
    "duration": 8,
    "start_time": "2022-11-20T11:14:39.512Z"
   },
   {
    "duration": 3,
    "start_time": "2022-11-20T11:14:47.684Z"
   },
   {
    "duration": 4,
    "start_time": "2022-11-20T11:14:50.625Z"
   },
   {
    "duration": 16,
    "start_time": "2022-11-20T11:14:59.492Z"
   },
   {
    "duration": 17,
    "start_time": "2022-11-20T11:15:04.530Z"
   },
   {
    "duration": 19,
    "start_time": "2022-11-20T11:18:45.978Z"
   },
   {
    "duration": 18,
    "start_time": "2022-11-20T11:20:24.506Z"
   },
   {
    "duration": 261,
    "start_time": "2022-11-20T11:21:58.851Z"
   },
   {
    "duration": 178,
    "start_time": "2022-11-20T11:22:09.818Z"
   },
   {
    "duration": 182,
    "start_time": "2022-11-20T11:22:35.101Z"
   },
   {
    "duration": 174,
    "start_time": "2022-11-20T11:22:42.394Z"
   },
   {
    "duration": 29,
    "start_time": "2022-11-20T11:28:13.949Z"
   },
   {
    "duration": 19,
    "start_time": "2022-11-20T11:28:29.870Z"
   },
   {
    "duration": 11,
    "start_time": "2022-11-20T11:28:41.615Z"
   },
   {
    "duration": 4,
    "start_time": "2022-11-20T11:28:55.999Z"
   },
   {
    "duration": 415,
    "start_time": "2022-11-20T11:29:21.840Z"
   },
   {
    "duration": 847,
    "start_time": "2022-11-20T11:29:22.257Z"
   },
   {
    "duration": 3,
    "start_time": "2022-11-20T11:29:23.105Z"
   },
   {
    "duration": 7,
    "start_time": "2022-11-20T11:29:23.110Z"
   },
   {
    "duration": 6,
    "start_time": "2022-11-20T11:29:23.119Z"
   },
   {
    "duration": 66,
    "start_time": "2022-11-20T11:29:23.127Z"
   },
   {
    "duration": 20,
    "start_time": "2022-11-20T11:29:23.195Z"
   },
   {
    "duration": 17,
    "start_time": "2022-11-20T11:29:23.217Z"
   },
   {
    "duration": 3,
    "start_time": "2022-11-20T11:29:23.236Z"
   },
   {
    "duration": 7,
    "start_time": "2022-11-20T11:29:23.240Z"
   },
   {
    "duration": 40,
    "start_time": "2022-11-20T11:29:23.249Z"
   },
   {
    "duration": 4,
    "start_time": "2022-11-20T11:29:23.291Z"
   },
   {
    "duration": 19,
    "start_time": "2022-11-20T11:29:23.297Z"
   },
   {
    "duration": 16,
    "start_time": "2022-11-20T11:29:23.319Z"
   },
   {
    "duration": 4,
    "start_time": "2022-11-20T11:29:23.336Z"
   },
   {
    "duration": 18,
    "start_time": "2022-11-20T11:29:23.342Z"
   },
   {
    "duration": 6,
    "start_time": "2022-11-20T11:29:23.362Z"
   },
   {
    "duration": 9,
    "start_time": "2022-11-20T11:29:23.384Z"
   },
   {
    "duration": 14,
    "start_time": "2022-11-20T11:29:23.394Z"
   },
   {
    "duration": 6,
    "start_time": "2022-11-20T11:29:23.410Z"
   },
   {
    "duration": 26,
    "start_time": "2022-11-20T11:29:23.417Z"
   },
   {
    "duration": 10,
    "start_time": "2022-11-20T11:29:23.444Z"
   },
   {
    "duration": 37,
    "start_time": "2022-11-20T11:29:23.456Z"
   },
   {
    "duration": 4,
    "start_time": "2022-11-20T11:29:23.495Z"
   },
   {
    "duration": 9,
    "start_time": "2022-11-20T11:29:23.500Z"
   },
   {
    "duration": 7,
    "start_time": "2022-11-20T11:29:23.511Z"
   },
   {
    "duration": 19,
    "start_time": "2022-11-20T11:29:23.519Z"
   },
   {
    "duration": 279,
    "start_time": "2022-11-20T11:29:23.540Z"
   },
   {
    "duration": 3,
    "start_time": "2022-11-20T11:29:23.821Z"
   },
   {
    "duration": 22,
    "start_time": "2022-11-20T11:29:23.825Z"
   },
   {
    "duration": 7,
    "start_time": "2022-11-20T11:29:23.849Z"
   },
   {
    "duration": 207,
    "start_time": "2022-11-20T11:29:23.858Z"
   },
   {
    "duration": 25,
    "start_time": "2022-11-20T11:29:24.067Z"
   },
   {
    "duration": 17,
    "start_time": "2022-11-20T11:29:24.098Z"
   },
   {
    "duration": 15,
    "start_time": "2022-11-20T11:29:24.117Z"
   },
   {
    "duration": 30,
    "start_time": "2022-11-20T11:29:24.134Z"
   },
   {
    "duration": 185,
    "start_time": "2022-11-20T11:29:24.166Z"
   },
   {
    "duration": 205,
    "start_time": "2022-11-20T11:29:24.353Z"
   },
   {
    "duration": 7,
    "start_time": "2022-11-20T11:29:24.560Z"
   },
   {
    "duration": 22,
    "start_time": "2022-11-20T11:29:24.569Z"
   },
   {
    "duration": 154,
    "start_time": "2022-11-20T11:29:24.595Z"
   },
   {
    "duration": 4,
    "start_time": "2022-11-20T11:29:24.751Z"
   },
   {
    "duration": 180,
    "start_time": "2022-11-20T11:29:24.757Z"
   },
   {
    "duration": 7,
    "start_time": "2022-11-20T11:29:24.938Z"
   },
   {
    "duration": 8,
    "start_time": "2022-11-20T11:29:24.946Z"
   },
   {
    "duration": 175,
    "start_time": "2022-11-20T11:29:24.956Z"
   },
   {
    "duration": 6,
    "start_time": "2022-11-20T11:29:25.135Z"
   },
   {
    "duration": 175,
    "start_time": "2022-11-20T11:29:25.143Z"
   },
   {
    "duration": 17,
    "start_time": "2022-11-20T11:29:25.320Z"
   },
   {
    "duration": 13,
    "start_time": "2022-11-20T11:29:25.339Z"
   },
   {
    "duration": 9,
    "start_time": "2022-11-20T11:29:25.354Z"
   },
   {
    "duration": 22,
    "start_time": "2022-11-20T11:29:25.365Z"
   },
   {
    "duration": 10,
    "start_time": "2022-11-20T11:29:25.388Z"
   },
   {
    "duration": 13,
    "start_time": "2022-11-20T11:29:25.399Z"
   },
   {
    "duration": 8,
    "start_time": "2022-11-20T11:29:25.413Z"
   },
   {
    "duration": 11,
    "start_time": "2022-11-20T11:29:25.423Z"
   },
   {
    "duration": 10,
    "start_time": "2022-11-20T11:29:25.436Z"
   },
   {
    "duration": 9,
    "start_time": "2022-11-20T11:29:25.477Z"
   },
   {
    "duration": 8,
    "start_time": "2022-11-20T11:29:25.488Z"
   },
   {
    "duration": 11,
    "start_time": "2022-11-20T11:29:25.498Z"
   },
   {
    "duration": 5,
    "start_time": "2022-11-20T11:29:25.511Z"
   },
   {
    "duration": 8,
    "start_time": "2022-11-20T11:29:25.517Z"
   },
   {
    "duration": 3,
    "start_time": "2022-11-20T11:31:53.720Z"
   },
   {
    "duration": 3,
    "start_time": "2022-11-20T11:31:58.919Z"
   },
   {
    "duration": 16,
    "start_time": "2022-11-20T11:32:01.896Z"
   },
   {
    "duration": 9,
    "start_time": "2022-11-20T11:32:08.196Z"
   },
   {
    "duration": 147,
    "start_time": "2022-11-20T11:32:12.490Z"
   },
   {
    "duration": 8,
    "start_time": "2022-11-20T11:34:24.615Z"
   },
   {
    "duration": 3,
    "start_time": "2022-11-20T11:34:27.201Z"
   },
   {
    "duration": 4,
    "start_time": "2022-11-20T11:34:30.255Z"
   },
   {
    "duration": 17,
    "start_time": "2022-11-20T11:34:37.508Z"
   },
   {
    "duration": 236,
    "start_time": "2022-11-20T11:34:42.100Z"
   },
   {
    "duration": 188,
    "start_time": "2022-11-20T11:35:09.284Z"
   },
   {
    "duration": 106,
    "start_time": "2022-11-20T11:46:44.173Z"
   },
   {
    "duration": 7,
    "start_time": "2022-11-20T11:47:31.302Z"
   },
   {
    "duration": 1106,
    "start_time": "2022-11-20T11:47:37.406Z"
   },
   {
    "duration": 396,
    "start_time": "2022-11-20T11:47:56.121Z"
   },
   {
    "duration": 800,
    "start_time": "2022-11-20T11:47:56.520Z"
   },
   {
    "duration": 3,
    "start_time": "2022-11-20T11:47:57.322Z"
   },
   {
    "duration": 13,
    "start_time": "2022-11-20T11:47:57.326Z"
   },
   {
    "duration": 12,
    "start_time": "2022-11-20T11:47:57.342Z"
   },
   {
    "duration": 73,
    "start_time": "2022-11-20T11:47:57.355Z"
   },
   {
    "duration": 29,
    "start_time": "2022-11-20T11:47:57.430Z"
   },
   {
    "duration": 16,
    "start_time": "2022-11-20T11:47:57.461Z"
   },
   {
    "duration": 6,
    "start_time": "2022-11-20T11:47:57.479Z"
   },
   {
    "duration": 13,
    "start_time": "2022-11-20T11:47:57.486Z"
   },
   {
    "duration": 16,
    "start_time": "2022-11-20T11:47:57.501Z"
   },
   {
    "duration": 4,
    "start_time": "2022-11-20T11:47:57.519Z"
   },
   {
    "duration": 14,
    "start_time": "2022-11-20T11:47:57.525Z"
   },
   {
    "duration": 12,
    "start_time": "2022-11-20T11:47:57.542Z"
   },
   {
    "duration": 4,
    "start_time": "2022-11-20T11:47:57.579Z"
   },
   {
    "duration": 24,
    "start_time": "2022-11-20T11:47:57.585Z"
   },
   {
    "duration": 11,
    "start_time": "2022-11-20T11:47:57.611Z"
   },
   {
    "duration": 9,
    "start_time": "2022-11-20T11:47:57.624Z"
   },
   {
    "duration": 11,
    "start_time": "2022-11-20T11:47:57.634Z"
   },
   {
    "duration": 17,
    "start_time": "2022-11-20T11:47:57.647Z"
   },
   {
    "duration": 39,
    "start_time": "2022-11-20T11:47:57.666Z"
   },
   {
    "duration": 11,
    "start_time": "2022-11-20T11:47:57.707Z"
   },
   {
    "duration": 14,
    "start_time": "2022-11-20T11:47:57.719Z"
   },
   {
    "duration": 12,
    "start_time": "2022-11-20T11:47:57.734Z"
   },
   {
    "duration": 12,
    "start_time": "2022-11-20T11:47:57.747Z"
   },
   {
    "duration": 8,
    "start_time": "2022-11-20T11:47:57.761Z"
   },
   {
    "duration": 29,
    "start_time": "2022-11-20T11:47:57.770Z"
   },
   {
    "duration": 253,
    "start_time": "2022-11-20T11:47:57.801Z"
   },
   {
    "duration": 3,
    "start_time": "2022-11-20T11:47:58.056Z"
   },
   {
    "duration": 28,
    "start_time": "2022-11-20T11:47:58.060Z"
   },
   {
    "duration": 9,
    "start_time": "2022-11-20T11:47:58.090Z"
   },
   {
    "duration": 171,
    "start_time": "2022-11-20T11:47:58.102Z"
   },
   {
    "duration": 10,
    "start_time": "2022-11-20T11:47:58.275Z"
   },
   {
    "duration": 7,
    "start_time": "2022-11-20T11:47:58.286Z"
   },
   {
    "duration": 9,
    "start_time": "2022-11-20T11:47:58.294Z"
   },
   {
    "duration": 19,
    "start_time": "2022-11-20T11:47:58.304Z"
   },
   {
    "duration": 186,
    "start_time": "2022-11-20T11:47:58.324Z"
   },
   {
    "duration": 198,
    "start_time": "2022-11-20T11:47:58.512Z"
   },
   {
    "duration": 5,
    "start_time": "2022-11-20T11:47:58.711Z"
   },
   {
    "duration": 1275,
    "start_time": "2022-11-20T11:47:58.718Z"
   },
   {
    "duration": 0,
    "start_time": "2022-11-20T11:47:59.996Z"
   },
   {
    "duration": 0,
    "start_time": "2022-11-20T11:47:59.997Z"
   },
   {
    "duration": 0,
    "start_time": "2022-11-20T11:47:59.998Z"
   },
   {
    "duration": 0,
    "start_time": "2022-11-20T11:47:59.999Z"
   },
   {
    "duration": 0,
    "start_time": "2022-11-20T11:48:00.001Z"
   },
   {
    "duration": 0,
    "start_time": "2022-11-20T11:48:00.002Z"
   },
   {
    "duration": 0,
    "start_time": "2022-11-20T11:48:00.003Z"
   },
   {
    "duration": 0,
    "start_time": "2022-11-20T11:48:00.005Z"
   },
   {
    "duration": 0,
    "start_time": "2022-11-20T11:48:00.006Z"
   },
   {
    "duration": 0,
    "start_time": "2022-11-20T11:48:00.007Z"
   },
   {
    "duration": 0,
    "start_time": "2022-11-20T11:48:00.008Z"
   },
   {
    "duration": 0,
    "start_time": "2022-11-20T11:48:00.009Z"
   },
   {
    "duration": 0,
    "start_time": "2022-11-20T11:48:00.010Z"
   },
   {
    "duration": 0,
    "start_time": "2022-11-20T11:48:00.011Z"
   },
   {
    "duration": 0,
    "start_time": "2022-11-20T11:48:00.012Z"
   },
   {
    "duration": 0,
    "start_time": "2022-11-20T11:48:00.013Z"
   },
   {
    "duration": 0,
    "start_time": "2022-11-20T11:48:00.014Z"
   },
   {
    "duration": 0,
    "start_time": "2022-11-20T11:48:00.015Z"
   },
   {
    "duration": 0,
    "start_time": "2022-11-20T11:48:00.016Z"
   },
   {
    "duration": 0,
    "start_time": "2022-11-20T11:48:00.018Z"
   },
   {
    "duration": 0,
    "start_time": "2022-11-20T11:48:00.019Z"
   },
   {
    "duration": 0,
    "start_time": "2022-11-20T11:48:00.020Z"
   },
   {
    "duration": 9,
    "start_time": "2022-11-20T11:48:58.663Z"
   },
   {
    "duration": 6,
    "start_time": "2022-11-20T11:49:01.879Z"
   },
   {
    "duration": 154,
    "start_time": "2022-11-20T11:49:06.039Z"
   },
   {
    "duration": 6,
    "start_time": "2022-11-20T11:49:18.615Z"
   },
   {
    "duration": 153,
    "start_time": "2022-11-20T11:49:21.454Z"
   },
   {
    "duration": 31,
    "start_time": "2022-11-20T11:49:49.638Z"
   },
   {
    "duration": 9,
    "start_time": "2022-11-20T11:50:04.584Z"
   },
   {
    "duration": 7,
    "start_time": "2022-11-20T11:50:07.702Z"
   },
   {
    "duration": 157,
    "start_time": "2022-11-20T11:50:11.630Z"
   },
   {
    "duration": 5,
    "start_time": "2022-11-20T11:50:15.752Z"
   },
   {
    "duration": 164,
    "start_time": "2022-11-20T11:50:18.678Z"
   },
   {
    "duration": 14,
    "start_time": "2022-11-20T11:50:32.480Z"
   },
   {
    "duration": 8,
    "start_time": "2022-11-20T11:50:43.527Z"
   },
   {
    "duration": 9,
    "start_time": "2022-11-20T11:52:45.256Z"
   },
   {
    "duration": 3,
    "start_time": "2022-11-20T11:52:48.455Z"
   },
   {
    "duration": 5,
    "start_time": "2022-11-20T11:52:53.590Z"
   },
   {
    "duration": 15,
    "start_time": "2022-11-20T11:53:01.216Z"
   },
   {
    "duration": 17,
    "start_time": "2022-11-20T11:53:06.248Z"
   },
   {
    "duration": 168,
    "start_time": "2022-11-20T11:53:20.790Z"
   },
   {
    "duration": 271,
    "start_time": "2022-11-20T11:53:29.520Z"
   },
   {
    "duration": 20,
    "start_time": "2022-11-20T11:54:13.272Z"
   },
   {
    "duration": 9,
    "start_time": "2022-11-20T11:54:39.096Z"
   },
   {
    "duration": 8,
    "start_time": "2022-11-20T12:00:01.547Z"
   },
   {
    "duration": 84,
    "start_time": "2022-11-20T12:02:55.763Z"
   },
   {
    "duration": 8,
    "start_time": "2022-11-20T12:03:04.924Z"
   },
   {
    "duration": 9,
    "start_time": "2022-11-20T12:04:56.663Z"
   },
   {
    "duration": 3,
    "start_time": "2022-11-20T12:05:01.757Z"
   },
   {
    "duration": 4,
    "start_time": "2022-11-20T12:05:04.720Z"
   },
   {
    "duration": 18,
    "start_time": "2022-11-20T12:05:15.096Z"
   },
   {
    "duration": 176,
    "start_time": "2022-11-20T12:05:21.446Z"
   },
   {
    "duration": 194,
    "start_time": "2022-11-20T12:05:27.724Z"
   },
   {
    "duration": 6,
    "start_time": "2022-11-20T12:06:16.013Z"
   },
   {
    "duration": 5,
    "start_time": "2022-11-20T12:06:19.470Z"
   },
   {
    "duration": 186,
    "start_time": "2022-11-20T12:06:22.765Z"
   },
   {
    "duration": 6,
    "start_time": "2022-11-20T12:06:26.254Z"
   },
   {
    "duration": 177,
    "start_time": "2022-11-20T12:06:29.429Z"
   },
   {
    "duration": 5,
    "start_time": "2022-11-20T12:06:51.862Z"
   },
   {
    "duration": 7,
    "start_time": "2022-11-20T12:06:54.797Z"
   },
   {
    "duration": 162,
    "start_time": "2022-11-20T12:06:58.045Z"
   },
   {
    "duration": 6,
    "start_time": "2022-11-20T12:07:01.830Z"
   },
   {
    "duration": 174,
    "start_time": "2022-11-20T12:07:04.752Z"
   },
   {
    "duration": 8,
    "start_time": "2022-11-20T12:07:30.125Z"
   },
   {
    "duration": 9,
    "start_time": "2022-11-20T12:07:49.958Z"
   },
   {
    "duration": 5,
    "start_time": "2022-11-20T12:09:19.798Z"
   },
   {
    "duration": 5,
    "start_time": "2022-11-20T12:09:28.191Z"
   },
   {
    "duration": 452,
    "start_time": "2022-11-20T12:10:31.776Z"
   },
   {
    "duration": 899,
    "start_time": "2022-11-20T12:10:32.230Z"
   },
   {
    "duration": 2,
    "start_time": "2022-11-20T12:10:33.131Z"
   },
   {
    "duration": 7,
    "start_time": "2022-11-20T12:10:33.136Z"
   },
   {
    "duration": 8,
    "start_time": "2022-11-20T12:10:33.145Z"
   },
   {
    "duration": 86,
    "start_time": "2022-11-20T12:10:33.155Z"
   },
   {
    "duration": 30,
    "start_time": "2022-11-20T12:10:33.244Z"
   },
   {
    "duration": 28,
    "start_time": "2022-11-20T12:10:33.276Z"
   },
   {
    "duration": 4,
    "start_time": "2022-11-20T12:10:33.306Z"
   },
   {
    "duration": 6,
    "start_time": "2022-11-20T12:10:33.314Z"
   },
   {
    "duration": 16,
    "start_time": "2022-11-20T12:10:33.322Z"
   },
   {
    "duration": 6,
    "start_time": "2022-11-20T12:10:33.340Z"
   },
   {
    "duration": 44,
    "start_time": "2022-11-20T12:10:33.348Z"
   },
   {
    "duration": 13,
    "start_time": "2022-11-20T12:10:33.394Z"
   },
   {
    "duration": 7,
    "start_time": "2022-11-20T12:10:33.408Z"
   },
   {
    "duration": 11,
    "start_time": "2022-11-20T12:10:33.416Z"
   },
   {
    "duration": 5,
    "start_time": "2022-11-20T12:10:33.429Z"
   },
   {
    "duration": 11,
    "start_time": "2022-11-20T12:10:33.436Z"
   },
   {
    "duration": 50,
    "start_time": "2022-11-20T12:10:33.448Z"
   },
   {
    "duration": 10,
    "start_time": "2022-11-20T12:10:33.500Z"
   },
   {
    "duration": 29,
    "start_time": "2022-11-20T12:10:33.512Z"
   },
   {
    "duration": 13,
    "start_time": "2022-11-20T12:10:33.543Z"
   },
   {
    "duration": 38,
    "start_time": "2022-11-20T12:10:33.559Z"
   },
   {
    "duration": 5,
    "start_time": "2022-11-20T12:10:33.599Z"
   },
   {
    "duration": 5,
    "start_time": "2022-11-20T12:10:33.606Z"
   },
   {
    "duration": 6,
    "start_time": "2022-11-20T12:10:33.613Z"
   },
   {
    "duration": 28,
    "start_time": "2022-11-20T12:10:33.621Z"
   },
   {
    "duration": 276,
    "start_time": "2022-11-20T12:10:33.654Z"
   },
   {
    "duration": 8,
    "start_time": "2022-11-20T12:10:33.932Z"
   },
   {
    "duration": 11,
    "start_time": "2022-11-20T12:10:33.942Z"
   },
   {
    "duration": 49,
    "start_time": "2022-11-20T12:10:33.955Z"
   },
   {
    "duration": 10,
    "start_time": "2022-11-20T12:10:34.006Z"
   },
   {
    "duration": 199,
    "start_time": "2022-11-20T12:10:34.018Z"
   },
   {
    "duration": 11,
    "start_time": "2022-11-20T12:10:34.219Z"
   },
   {
    "duration": 14,
    "start_time": "2022-11-20T12:10:34.232Z"
   },
   {
    "duration": 6,
    "start_time": "2022-11-20T12:10:34.248Z"
   },
   {
    "duration": 42,
    "start_time": "2022-11-20T12:10:34.256Z"
   },
   {
    "duration": 219,
    "start_time": "2022-11-20T12:10:34.300Z"
   },
   {
    "duration": 208,
    "start_time": "2022-11-20T12:10:34.520Z"
   },
   {
    "duration": 6,
    "start_time": "2022-11-20T12:10:34.730Z"
   },
   {
    "duration": 8,
    "start_time": "2022-11-20T12:10:34.738Z"
   },
   {
    "duration": 176,
    "start_time": "2022-11-20T12:10:34.748Z"
   },
   {
    "duration": 7,
    "start_time": "2022-11-20T12:10:34.925Z"
   },
   {
    "duration": 191,
    "start_time": "2022-11-20T12:10:34.933Z"
   },
   {
    "duration": 9,
    "start_time": "2022-11-20T12:10:35.126Z"
   },
   {
    "duration": 18,
    "start_time": "2022-11-20T12:10:35.136Z"
   },
   {
    "duration": 183,
    "start_time": "2022-11-20T12:10:35.155Z"
   },
   {
    "duration": 6,
    "start_time": "2022-11-20T12:10:35.340Z"
   },
   {
    "duration": 189,
    "start_time": "2022-11-20T12:10:35.348Z"
   },
   {
    "duration": 5,
    "start_time": "2022-11-20T12:10:35.539Z"
   },
   {
    "duration": 9,
    "start_time": "2022-11-20T12:10:35.545Z"
   },
   {
    "duration": 23,
    "start_time": "2022-11-20T12:10:35.556Z"
   },
   {
    "duration": 15,
    "start_time": "2022-11-20T12:10:35.581Z"
   },
   {
    "duration": 13,
    "start_time": "2022-11-20T12:10:35.598Z"
   },
   {
    "duration": 11,
    "start_time": "2022-11-20T12:10:35.613Z"
   },
   {
    "duration": 9,
    "start_time": "2022-11-20T12:10:35.625Z"
   },
   {
    "duration": 9,
    "start_time": "2022-11-20T12:10:35.635Z"
   },
   {
    "duration": 38,
    "start_time": "2022-11-20T12:10:35.646Z"
   },
   {
    "duration": 15,
    "start_time": "2022-11-20T12:10:35.686Z"
   },
   {
    "duration": 9,
    "start_time": "2022-11-20T12:10:35.703Z"
   },
   {
    "duration": 7,
    "start_time": "2022-11-20T12:10:35.714Z"
   },
   {
    "duration": 10,
    "start_time": "2022-11-20T12:10:35.723Z"
   },
   {
    "duration": 3,
    "start_time": "2022-11-20T12:10:35.735Z"
   },
   {
    "duration": 15,
    "start_time": "2022-11-20T12:10:35.740Z"
   },
   {
    "duration": 8,
    "start_time": "2022-11-20T12:13:57.322Z"
   },
   {
    "duration": 9,
    "start_time": "2022-11-20T12:14:03.472Z"
   },
   {
    "duration": 6,
    "start_time": "2022-11-20T12:14:09.041Z"
   },
   {
    "duration": 121,
    "start_time": "2022-11-20T12:14:49.033Z"
   },
   {
    "duration": 6,
    "start_time": "2022-11-20T12:15:37.758Z"
   },
   {
    "duration": 6,
    "start_time": "2022-11-20T12:15:53.770Z"
   },
   {
    "duration": 7,
    "start_time": "2022-11-20T12:15:57.890Z"
   },
   {
    "duration": 21,
    "start_time": "2022-11-20T12:16:01.138Z"
   },
   {
    "duration": 10,
    "start_time": "2022-11-20T12:16:16.295Z"
   },
   {
    "duration": 16,
    "start_time": "2022-11-20T12:17:04.591Z"
   },
   {
    "duration": 10,
    "start_time": "2022-11-20T12:17:20.930Z"
   },
   {
    "duration": 5,
    "start_time": "2022-11-20T12:19:12.992Z"
   },
   {
    "duration": 14,
    "start_time": "2022-11-20T12:19:40.795Z"
   },
   {
    "duration": 13,
    "start_time": "2022-11-20T12:30:13.790Z"
   },
   {
    "duration": 13,
    "start_time": "2022-11-20T12:31:46.811Z"
   },
   {
    "duration": 14,
    "start_time": "2022-11-20T12:32:20.321Z"
   },
   {
    "duration": 15,
    "start_time": "2022-11-20T12:32:54.025Z"
   },
   {
    "duration": 13,
    "start_time": "2022-11-20T12:33:26.921Z"
   },
   {
    "duration": 13,
    "start_time": "2022-11-20T12:33:42.522Z"
   },
   {
    "duration": 5,
    "start_time": "2022-11-20T12:46:28.638Z"
   },
   {
    "duration": 5,
    "start_time": "2022-11-20T12:46:43.422Z"
   },
   {
    "duration": 8,
    "start_time": "2022-11-20T12:47:09.798Z"
   },
   {
    "duration": 13,
    "start_time": "2022-11-20T12:47:12.594Z"
   },
   {
    "duration": 13,
    "start_time": "2022-11-20T12:47:44.438Z"
   },
   {
    "duration": 25,
    "start_time": "2022-11-20T12:48:04.367Z"
   },
   {
    "duration": 10,
    "start_time": "2022-11-20T12:58:49.731Z"
   },
   {
    "duration": 6,
    "start_time": "2022-11-20T12:58:56.913Z"
   },
   {
    "duration": 6,
    "start_time": "2022-11-20T12:58:59.993Z"
   },
   {
    "duration": 8,
    "start_time": "2022-11-20T12:59:02.372Z"
   },
   {
    "duration": 15,
    "start_time": "2022-11-20T12:59:04.155Z"
   },
   {
    "duration": 12,
    "start_time": "2022-11-20T13:00:12.122Z"
   },
   {
    "duration": 15,
    "start_time": "2022-11-20T13:00:33.947Z"
   },
   {
    "duration": 13,
    "start_time": "2022-11-20T13:01:49.664Z"
   },
   {
    "duration": 16,
    "start_time": "2022-11-20T13:04:51.749Z"
   },
   {
    "duration": 13,
    "start_time": "2022-11-20T13:12:25.286Z"
   },
   {
    "duration": 8,
    "start_time": "2022-11-20T13:12:40.090Z"
   },
   {
    "duration": 10,
    "start_time": "2022-11-20T13:12:57.319Z"
   },
   {
    "duration": 7,
    "start_time": "2022-11-20T13:13:18.505Z"
   },
   {
    "duration": 5,
    "start_time": "2022-11-20T13:13:48.190Z"
   },
   {
    "duration": 5,
    "start_time": "2022-11-20T13:13:57.792Z"
   },
   {
    "duration": 4,
    "start_time": "2022-11-20T13:14:07.792Z"
   },
   {
    "duration": 11,
    "start_time": "2022-11-20T13:15:34.737Z"
   },
   {
    "duration": 9,
    "start_time": "2022-11-20T13:15:51.248Z"
   },
   {
    "duration": 12,
    "start_time": "2022-11-20T13:16:28.209Z"
   },
   {
    "duration": 5,
    "start_time": "2022-11-20T13:17:05.594Z"
   },
   {
    "duration": 6,
    "start_time": "2022-11-20T13:17:19.208Z"
   },
   {
    "duration": 7,
    "start_time": "2022-11-20T13:17:21.329Z"
   },
   {
    "duration": 15,
    "start_time": "2022-11-20T13:17:23.826Z"
   },
   {
    "duration": 7,
    "start_time": "2022-11-20T13:17:51.734Z"
   },
   {
    "duration": 4,
    "start_time": "2022-11-20T13:17:59.654Z"
   },
   {
    "duration": 5,
    "start_time": "2022-11-20T13:18:07.597Z"
   },
   {
    "duration": 11,
    "start_time": "2022-11-20T13:18:09.842Z"
   },
   {
    "duration": 9,
    "start_time": "2022-11-20T13:19:18.266Z"
   },
   {
    "duration": 9,
    "start_time": "2022-11-20T13:20:07.409Z"
   },
   {
    "duration": 11,
    "start_time": "2022-11-20T13:20:17.947Z"
   },
   {
    "duration": 15,
    "start_time": "2022-11-20T13:20:39.474Z"
   },
   {
    "duration": 5,
    "start_time": "2022-11-20T13:20:40.931Z"
   },
   {
    "duration": 5,
    "start_time": "2022-11-20T13:20:42.558Z"
   },
   {
    "duration": 17,
    "start_time": "2022-11-20T13:20:44.195Z"
   },
   {
    "duration": 18,
    "start_time": "2022-11-20T13:20:55.796Z"
   },
   {
    "duration": 18,
    "start_time": "2022-11-20T13:21:01.434Z"
   },
   {
    "duration": 28,
    "start_time": "2022-11-20T13:21:47.968Z"
   },
   {
    "duration": 7,
    "start_time": "2022-11-20T13:22:05.308Z"
   },
   {
    "duration": 5,
    "start_time": "2022-11-20T13:22:14.652Z"
   },
   {
    "duration": 5,
    "start_time": "2022-11-20T13:22:18.525Z"
   },
   {
    "duration": 13,
    "start_time": "2022-11-20T13:22:21.524Z"
   },
   {
    "duration": 8,
    "start_time": "2022-11-20T13:27:34.718Z"
   },
   {
    "duration": 8,
    "start_time": "2022-11-20T13:27:50.593Z"
   },
   {
    "duration": 7,
    "start_time": "2022-11-20T13:28:13.829Z"
   },
   {
    "duration": 9,
    "start_time": "2022-11-20T13:28:55.646Z"
   },
   {
    "duration": 25,
    "start_time": "2022-11-20T13:29:05.326Z"
   },
   {
    "duration": 8,
    "start_time": "2022-11-20T13:30:46.742Z"
   },
   {
    "duration": 7,
    "start_time": "2022-11-20T13:30:56.142Z"
   },
   {
    "duration": 7,
    "start_time": "2022-11-20T13:31:00.622Z"
   },
   {
    "duration": 252,
    "start_time": "2022-11-20T13:32:59.702Z"
   },
   {
    "duration": 93,
    "start_time": "2022-11-20T13:34:33.989Z"
   },
   {
    "duration": 156,
    "start_time": "2022-11-20T13:34:42.520Z"
   },
   {
    "duration": 4,
    "start_time": "2022-11-20T13:40:32.779Z"
   },
   {
    "duration": 7,
    "start_time": "2022-11-20T13:40:34.898Z"
   },
   {
    "duration": 5,
    "start_time": "2022-11-20T13:40:38.163Z"
   },
   {
    "duration": 9,
    "start_time": "2022-11-20T13:40:51.715Z"
   },
   {
    "duration": 8,
    "start_time": "2022-11-20T13:41:07.108Z"
   },
   {
    "duration": 5,
    "start_time": "2022-11-20T13:41:11.898Z"
   },
   {
    "duration": 6,
    "start_time": "2022-11-20T13:41:14.914Z"
   },
   {
    "duration": 11,
    "start_time": "2022-11-20T13:41:40.681Z"
   },
   {
    "duration": 4,
    "start_time": "2022-11-20T13:43:44.925Z"
   },
   {
    "duration": 8,
    "start_time": "2022-11-20T13:44:04.015Z"
   },
   {
    "duration": 4,
    "start_time": "2022-11-20T13:44:06.932Z"
   },
   {
    "duration": 5,
    "start_time": "2022-11-20T13:44:08.403Z"
   },
   {
    "duration": 6,
    "start_time": "2022-11-20T13:44:46.893Z"
   },
   {
    "duration": 3,
    "start_time": "2022-11-20T13:44:49.157Z"
   },
   {
    "duration": 15,
    "start_time": "2022-11-20T13:44:52.178Z"
   },
   {
    "duration": 5,
    "start_time": "2022-11-20T13:44:55.094Z"
   },
   {
    "duration": 19,
    "start_time": "2022-11-20T13:46:27.473Z"
   },
   {
    "duration": 5,
    "start_time": "2022-11-20T13:46:30.837Z"
   },
   {
    "duration": 6,
    "start_time": "2022-11-20T13:46:32.366Z"
   },
   {
    "duration": 14,
    "start_time": "2022-11-20T13:46:33.935Z"
   },
   {
    "duration": 81,
    "start_time": "2022-11-20T13:47:06.990Z"
   },
   {
    "duration": 6,
    "start_time": "2022-11-20T13:47:22.621Z"
   },
   {
    "duration": 63,
    "start_time": "2022-11-20T13:47:34.805Z"
   },
   {
    "duration": 7,
    "start_time": "2022-11-20T13:47:43.150Z"
   },
   {
    "duration": 5,
    "start_time": "2022-11-20T13:51:29.648Z"
   },
   {
    "duration": 7,
    "start_time": "2022-11-20T13:51:33.011Z"
   },
   {
    "duration": 6,
    "start_time": "2022-11-20T13:52:14.696Z"
   },
   {
    "duration": 5,
    "start_time": "2022-11-20T13:52:16.521Z"
   },
   {
    "duration": 5,
    "start_time": "2022-11-20T13:52:39.545Z"
   },
   {
    "duration": 12,
    "start_time": "2022-11-20T13:52:44.180Z"
   },
   {
    "duration": 5,
    "start_time": "2022-11-20T14:10:10.839Z"
   },
   {
    "duration": 6,
    "start_time": "2022-11-20T14:14:57.769Z"
   },
   {
    "duration": 20,
    "start_time": "2022-11-20T14:15:51.017Z"
   },
   {
    "duration": 3,
    "start_time": "2022-11-20T14:16:00.874Z"
   },
   {
    "duration": 7,
    "start_time": "2022-11-20T14:16:38.010Z"
   },
   {
    "duration": 5,
    "start_time": "2022-11-20T14:17:02.399Z"
   },
   {
    "duration": 6,
    "start_time": "2022-11-20T14:17:39.746Z"
   },
   {
    "duration": 9,
    "start_time": "2022-11-20T14:18:08.673Z"
   },
   {
    "duration": 6,
    "start_time": "2022-11-20T14:18:10.722Z"
   },
   {
    "duration": 5,
    "start_time": "2022-11-20T14:18:27.092Z"
   },
   {
    "duration": 9,
    "start_time": "2022-11-20T14:21:45.205Z"
   },
   {
    "duration": 9,
    "start_time": "2022-11-20T14:22:07.637Z"
   },
   {
    "duration": 7,
    "start_time": "2022-11-20T14:22:52.540Z"
   },
   {
    "duration": 5,
    "start_time": "2022-11-20T14:23:09.390Z"
   },
   {
    "duration": 5,
    "start_time": "2022-11-20T14:30:58.816Z"
   },
   {
    "duration": 3,
    "start_time": "2022-11-20T14:46:15.766Z"
   },
   {
    "duration": 5,
    "start_time": "2022-11-20T14:53:03.099Z"
   },
   {
    "duration": 5,
    "start_time": "2022-11-20T14:53:09.672Z"
   },
   {
    "duration": 5,
    "start_time": "2022-11-20T14:53:41.145Z"
   },
   {
    "duration": 6,
    "start_time": "2022-11-20T14:54:03.494Z"
   },
   {
    "duration": 6,
    "start_time": "2022-11-20T14:54:26.011Z"
   },
   {
    "duration": 5,
    "start_time": "2022-11-20T14:54:35.647Z"
   },
   {
    "duration": 55,
    "start_time": "2022-11-20T15:25:07.675Z"
   },
   {
    "duration": 52,
    "start_time": "2022-11-20T15:33:05.414Z"
   },
   {
    "duration": 103,
    "start_time": "2022-11-20T15:50:37.925Z"
   },
   {
    "duration": 64,
    "start_time": "2022-11-20T15:57:22.003Z"
   },
   {
    "duration": 49,
    "start_time": "2022-11-21T08:09:08.162Z"
   },
   {
    "duration": 473,
    "start_time": "2022-11-21T08:09:15.443Z"
   },
   {
    "duration": 923,
    "start_time": "2022-11-21T08:09:15.918Z"
   },
   {
    "duration": 3,
    "start_time": "2022-11-21T08:09:16.843Z"
   },
   {
    "duration": 7,
    "start_time": "2022-11-21T08:09:16.847Z"
   },
   {
    "duration": 5,
    "start_time": "2022-11-21T08:09:16.856Z"
   },
   {
    "duration": 98,
    "start_time": "2022-11-21T08:09:16.863Z"
   },
   {
    "duration": 22,
    "start_time": "2022-11-21T08:09:16.962Z"
   },
   {
    "duration": 15,
    "start_time": "2022-11-21T08:09:16.986Z"
   },
   {
    "duration": 5,
    "start_time": "2022-11-21T08:09:17.003Z"
   },
   {
    "duration": 6,
    "start_time": "2022-11-21T08:09:17.010Z"
   },
   {
    "duration": 24,
    "start_time": "2022-11-21T08:09:17.018Z"
   },
   {
    "duration": 4,
    "start_time": "2022-11-21T08:09:17.044Z"
   },
   {
    "duration": 12,
    "start_time": "2022-11-21T08:09:17.050Z"
   },
   {
    "duration": 10,
    "start_time": "2022-11-21T08:09:17.066Z"
   },
   {
    "duration": 3,
    "start_time": "2022-11-21T08:09:17.078Z"
   },
   {
    "duration": 10,
    "start_time": "2022-11-21T08:09:17.082Z"
   },
   {
    "duration": 8,
    "start_time": "2022-11-21T08:09:17.093Z"
   },
   {
    "duration": 38,
    "start_time": "2022-11-21T08:09:17.102Z"
   },
   {
    "duration": 13,
    "start_time": "2022-11-21T08:09:17.142Z"
   },
   {
    "duration": 15,
    "start_time": "2022-11-21T08:09:17.157Z"
   },
   {
    "duration": 9,
    "start_time": "2022-11-21T08:09:17.173Z"
   },
   {
    "duration": 7,
    "start_time": "2022-11-21T08:09:17.184Z"
   },
   {
    "duration": 9,
    "start_time": "2022-11-21T08:09:17.192Z"
   },
   {
    "duration": 15,
    "start_time": "2022-11-21T08:09:17.202Z"
   },
   {
    "duration": 25,
    "start_time": "2022-11-21T08:09:17.219Z"
   },
   {
    "duration": 6,
    "start_time": "2022-11-21T08:09:17.245Z"
   },
   {
    "duration": 148,
    "start_time": "2022-11-21T08:09:17.252Z"
   },
   {
    "duration": 8,
    "start_time": "2022-11-21T08:09:17.401Z"
   },
   {
    "duration": 3,
    "start_time": "2022-11-21T08:09:17.411Z"
   },
   {
    "duration": 20,
    "start_time": "2022-11-21T08:09:17.415Z"
   },
   {
    "duration": 3,
    "start_time": "2022-11-21T08:09:17.436Z"
   },
   {
    "duration": 17,
    "start_time": "2022-11-21T08:09:17.441Z"
   },
   {
    "duration": 219,
    "start_time": "2022-11-21T08:09:17.460Z"
   },
   {
    "duration": 2,
    "start_time": "2022-11-21T08:09:17.681Z"
   },
   {
    "duration": 10,
    "start_time": "2022-11-21T08:09:17.684Z"
   },
   {
    "duration": 14,
    "start_time": "2022-11-21T08:09:17.695Z"
   },
   {
    "duration": 6,
    "start_time": "2022-11-21T08:09:17.710Z"
   },
   {
    "duration": 144,
    "start_time": "2022-11-21T08:09:17.736Z"
   },
   {
    "duration": 7,
    "start_time": "2022-11-21T08:09:17.881Z"
   },
   {
    "duration": 7,
    "start_time": "2022-11-21T08:09:17.889Z"
   },
   {
    "duration": 6,
    "start_time": "2022-11-21T08:09:17.899Z"
   },
   {
    "duration": 29,
    "start_time": "2022-11-21T08:09:17.907Z"
   },
   {
    "duration": 147,
    "start_time": "2022-11-21T08:09:17.938Z"
   },
   {
    "duration": 175,
    "start_time": "2022-11-21T08:09:18.087Z"
   },
   {
    "duration": 6,
    "start_time": "2022-11-21T08:09:18.264Z"
   },
   {
    "duration": 9,
    "start_time": "2022-11-21T08:09:18.272Z"
   },
   {
    "duration": 136,
    "start_time": "2022-11-21T08:09:18.283Z"
   },
   {
    "duration": 5,
    "start_time": "2022-11-21T08:09:18.420Z"
   },
   {
    "duration": 154,
    "start_time": "2022-11-21T08:09:18.427Z"
   },
   {
    "duration": 6,
    "start_time": "2022-11-21T08:09:18.583Z"
   },
   {
    "duration": 11,
    "start_time": "2022-11-21T08:09:18.590Z"
   },
   {
    "duration": 165,
    "start_time": "2022-11-21T08:09:18.603Z"
   },
   {
    "duration": 5,
    "start_time": "2022-11-21T08:09:18.769Z"
   },
   {
    "duration": 168,
    "start_time": "2022-11-21T08:09:18.776Z"
   },
   {
    "duration": 4,
    "start_time": "2022-11-21T08:09:18.946Z"
   },
   {
    "duration": 10,
    "start_time": "2022-11-21T08:09:18.952Z"
   },
   {
    "duration": 8,
    "start_time": "2022-11-21T08:09:18.964Z"
   },
   {
    "duration": 12,
    "start_time": "2022-11-21T08:09:18.974Z"
   },
   {
    "duration": 8,
    "start_time": "2022-11-21T08:09:18.987Z"
   },
   {
    "duration": 25,
    "start_time": "2022-11-21T08:09:18.997Z"
   },
   {
    "duration": 12,
    "start_time": "2022-11-21T08:09:19.024Z"
   },
   {
    "duration": 10,
    "start_time": "2022-11-21T08:09:19.038Z"
   },
   {
    "duration": 19,
    "start_time": "2022-11-21T08:09:19.049Z"
   },
   {
    "duration": 15,
    "start_time": "2022-11-21T08:09:19.071Z"
   },
   {
    "duration": 88,
    "start_time": "2022-11-21T08:09:19.088Z"
   },
   {
    "duration": 16,
    "start_time": "2022-11-21T08:09:19.178Z"
   },
   {
    "duration": 14,
    "start_time": "2022-11-21T08:09:19.196Z"
   },
   {
    "duration": 10,
    "start_time": "2022-11-21T08:09:19.212Z"
   },
   {
    "duration": 12,
    "start_time": "2022-11-21T08:09:19.224Z"
   },
   {
    "duration": 11,
    "start_time": "2022-11-21T08:09:19.238Z"
   },
   {
    "duration": 7,
    "start_time": "2022-11-21T08:09:19.251Z"
   },
   {
    "duration": 16,
    "start_time": "2022-11-21T08:09:19.260Z"
   },
   {
    "duration": 49,
    "start_time": "2022-11-21T08:09:19.278Z"
   },
   {
    "duration": 16,
    "start_time": "2022-11-21T08:09:19.329Z"
   },
   {
    "duration": 17,
    "start_time": "2022-11-21T08:09:19.347Z"
   },
   {
    "duration": 9,
    "start_time": "2022-11-21T08:09:19.366Z"
   },
   {
    "duration": 17,
    "start_time": "2022-11-21T08:09:19.377Z"
   },
   {
    "duration": 17,
    "start_time": "2022-11-21T08:09:19.396Z"
   },
   {
    "duration": 123,
    "start_time": "2022-11-21T08:09:59.301Z"
   },
   {
    "duration": 122,
    "start_time": "2022-11-21T08:12:14.403Z"
   },
   {
    "duration": 138,
    "start_time": "2022-11-21T08:12:28.776Z"
   },
   {
    "duration": 153,
    "start_time": "2022-11-21T08:12:58.666Z"
   },
   {
    "duration": 132,
    "start_time": "2022-11-21T08:13:33.585Z"
   },
   {
    "duration": 17,
    "start_time": "2022-11-21T08:15:51.755Z"
   },
   {
    "duration": 13,
    "start_time": "2022-11-21T08:16:11.252Z"
   },
   {
    "duration": 105,
    "start_time": "2022-11-21T08:17:42.176Z"
   },
   {
    "duration": 13,
    "start_time": "2022-11-21T08:18:01.273Z"
   },
   {
    "duration": 5,
    "start_time": "2022-11-21T08:20:08.052Z"
   },
   {
    "duration": 8,
    "start_time": "2022-11-21T08:20:49.125Z"
   },
   {
    "duration": 5,
    "start_time": "2022-11-21T08:21:09.444Z"
   },
   {
    "duration": 9,
    "start_time": "2022-11-21T08:21:27.774Z"
   },
   {
    "duration": 8,
    "start_time": "2022-11-21T08:21:31.924Z"
   },
   {
    "duration": 8,
    "start_time": "2022-11-21T08:21:36.872Z"
   },
   {
    "duration": 441,
    "start_time": "2022-11-21T08:22:13.971Z"
   },
   {
    "duration": 757,
    "start_time": "2022-11-21T08:22:14.414Z"
   },
   {
    "duration": 3,
    "start_time": "2022-11-21T08:22:15.173Z"
   },
   {
    "duration": 13,
    "start_time": "2022-11-21T08:22:15.177Z"
   },
   {
    "duration": 5,
    "start_time": "2022-11-21T08:22:15.193Z"
   },
   {
    "duration": 59,
    "start_time": "2022-11-21T08:22:15.200Z"
   },
   {
    "duration": 20,
    "start_time": "2022-11-21T08:22:15.260Z"
   },
   {
    "duration": 14,
    "start_time": "2022-11-21T08:22:15.281Z"
   },
   {
    "duration": 3,
    "start_time": "2022-11-21T08:22:15.297Z"
   },
   {
    "duration": 8,
    "start_time": "2022-11-21T08:22:15.301Z"
   },
   {
    "duration": 17,
    "start_time": "2022-11-21T08:22:15.335Z"
   },
   {
    "duration": 5,
    "start_time": "2022-11-21T08:22:15.354Z"
   },
   {
    "duration": 16,
    "start_time": "2022-11-21T08:22:15.360Z"
   },
   {
    "duration": 6,
    "start_time": "2022-11-21T08:22:15.381Z"
   },
   {
    "duration": 11,
    "start_time": "2022-11-21T08:22:15.389Z"
   },
   {
    "duration": 36,
    "start_time": "2022-11-21T08:22:15.401Z"
   },
   {
    "duration": 5,
    "start_time": "2022-11-21T08:22:15.439Z"
   },
   {
    "duration": 14,
    "start_time": "2022-11-21T08:22:15.446Z"
   },
   {
    "duration": 10,
    "start_time": "2022-11-21T08:22:15.462Z"
   },
   {
    "duration": 15,
    "start_time": "2022-11-21T08:22:15.474Z"
   },
   {
    "duration": 31,
    "start_time": "2022-11-21T08:22:15.491Z"
   },
   {
    "duration": 9,
    "start_time": "2022-11-21T08:22:15.523Z"
   },
   {
    "duration": 6,
    "start_time": "2022-11-21T08:22:15.534Z"
   },
   {
    "duration": 6,
    "start_time": "2022-11-21T08:22:15.542Z"
   },
   {
    "duration": 9,
    "start_time": "2022-11-21T08:22:15.550Z"
   },
   {
    "duration": 7,
    "start_time": "2022-11-21T08:22:15.561Z"
   },
   {
    "duration": 23,
    "start_time": "2022-11-21T08:22:15.570Z"
   },
   {
    "duration": 16,
    "start_time": "2022-11-21T08:22:15.595Z"
   },
   {
    "duration": 8,
    "start_time": "2022-11-21T08:22:15.636Z"
   },
   {
    "duration": 164,
    "start_time": "2022-11-21T08:22:15.646Z"
   },
   {
    "duration": 10,
    "start_time": "2022-11-21T08:22:15.812Z"
   },
   {
    "duration": 4,
    "start_time": "2022-11-21T08:22:15.836Z"
   },
   {
    "duration": 11,
    "start_time": "2022-11-21T08:22:15.841Z"
   },
   {
    "duration": 8,
    "start_time": "2022-11-21T08:22:15.854Z"
   },
   {
    "duration": 19,
    "start_time": "2022-11-21T08:22:15.864Z"
   },
   {
    "duration": 256,
    "start_time": "2022-11-21T08:22:15.885Z"
   },
   {
    "duration": 3,
    "start_time": "2022-11-21T08:22:16.143Z"
   },
   {
    "duration": 22,
    "start_time": "2022-11-21T08:22:16.148Z"
   },
   {
    "duration": 27,
    "start_time": "2022-11-21T08:22:16.172Z"
   },
   {
    "duration": 8,
    "start_time": "2022-11-21T08:22:16.201Z"
   },
   {
    "duration": 167,
    "start_time": "2022-11-21T08:22:16.215Z"
   },
   {
    "duration": 10,
    "start_time": "2022-11-21T08:22:16.384Z"
   },
   {
    "duration": 14,
    "start_time": "2022-11-21T08:22:16.395Z"
   },
   {
    "duration": 13,
    "start_time": "2022-11-21T08:22:16.410Z"
   },
   {
    "duration": 17,
    "start_time": "2022-11-21T08:22:16.436Z"
   },
   {
    "duration": 183,
    "start_time": "2022-11-21T08:22:16.455Z"
   },
   {
    "duration": 233,
    "start_time": "2022-11-21T08:22:16.640Z"
   },
   {
    "duration": 6,
    "start_time": "2022-11-21T08:22:16.876Z"
   },
   {
    "duration": 16,
    "start_time": "2022-11-21T08:22:16.883Z"
   },
   {
    "duration": 171,
    "start_time": "2022-11-21T08:22:16.902Z"
   },
   {
    "duration": 6,
    "start_time": "2022-11-21T08:22:17.075Z"
   },
   {
    "duration": 190,
    "start_time": "2022-11-21T08:22:17.083Z"
   },
   {
    "duration": 5,
    "start_time": "2022-11-21T08:22:17.275Z"
   },
   {
    "duration": 9,
    "start_time": "2022-11-21T08:22:17.282Z"
   },
   {
    "duration": 156,
    "start_time": "2022-11-21T08:22:17.292Z"
   },
   {
    "duration": 5,
    "start_time": "2022-11-21T08:22:17.449Z"
   },
   {
    "duration": 152,
    "start_time": "2022-11-21T08:22:17.456Z"
   },
   {
    "duration": 5,
    "start_time": "2022-11-21T08:22:17.609Z"
   },
   {
    "duration": 12,
    "start_time": "2022-11-21T08:22:17.615Z"
   },
   {
    "duration": 6,
    "start_time": "2022-11-21T08:22:17.636Z"
   },
   {
    "duration": 8,
    "start_time": "2022-11-21T08:22:17.644Z"
   },
   {
    "duration": 8,
    "start_time": "2022-11-21T08:22:17.654Z"
   },
   {
    "duration": 22,
    "start_time": "2022-11-21T08:22:17.664Z"
   },
   {
    "duration": 19,
    "start_time": "2022-11-21T08:22:17.688Z"
   },
   {
    "duration": 8,
    "start_time": "2022-11-21T08:22:17.709Z"
   },
   {
    "duration": 22,
    "start_time": "2022-11-21T08:22:17.719Z"
   },
   {
    "duration": 93,
    "start_time": "2022-11-21T08:22:17.743Z"
   },
   {
    "duration": 9,
    "start_time": "2022-11-21T08:22:17.839Z"
   },
   {
    "duration": 7,
    "start_time": "2022-11-21T08:22:17.851Z"
   },
   {
    "duration": 22,
    "start_time": "2022-11-21T08:22:17.860Z"
   },
   {
    "duration": 32,
    "start_time": "2022-11-21T08:22:17.883Z"
   },
   {
    "duration": 9,
    "start_time": "2022-11-21T08:22:17.917Z"
   },
   {
    "duration": 12,
    "start_time": "2022-11-21T08:22:17.928Z"
   },
   {
    "duration": 5,
    "start_time": "2022-11-21T08:22:17.942Z"
   },
   {
    "duration": 13,
    "start_time": "2022-11-21T08:22:17.948Z"
   },
   {
    "duration": 9,
    "start_time": "2022-11-21T08:22:17.963Z"
   },
   {
    "duration": 11,
    "start_time": "2022-11-21T08:22:17.974Z"
   },
   {
    "duration": 13,
    "start_time": "2022-11-21T08:22:17.987Z"
   },
   {
    "duration": 5,
    "start_time": "2022-11-21T08:22:18.002Z"
   },
   {
    "duration": 9,
    "start_time": "2022-11-21T08:22:18.009Z"
   },
   {
    "duration": 20,
    "start_time": "2022-11-21T08:22:18.020Z"
   },
   {
    "duration": 6,
    "start_time": "2022-11-21T08:22:44.477Z"
   },
   {
    "duration": 226,
    "start_time": "2022-11-21T08:40:27.997Z"
   },
   {
    "duration": 128,
    "start_time": "2022-11-21T08:40:45.886Z"
   },
   {
    "duration": 199,
    "start_time": "2022-11-21T08:41:48.815Z"
   },
   {
    "duration": 179,
    "start_time": "2022-11-21T08:45:43.368Z"
   },
   {
    "duration": 192,
    "start_time": "2022-11-21T08:46:09.370Z"
   },
   {
    "duration": 60,
    "start_time": "2022-11-21T17:19:17.905Z"
   },
   {
    "duration": 440,
    "start_time": "2022-11-21T17:19:27.142Z"
   },
   {
    "duration": 937,
    "start_time": "2022-11-21T17:19:27.584Z"
   },
   {
    "duration": 3,
    "start_time": "2022-11-21T17:19:28.522Z"
   },
   {
    "duration": 30,
    "start_time": "2022-11-21T17:19:28.527Z"
   },
   {
    "duration": 22,
    "start_time": "2022-11-21T17:19:28.559Z"
   },
   {
    "duration": 184,
    "start_time": "2022-11-21T17:19:28.583Z"
   },
   {
    "duration": 21,
    "start_time": "2022-11-21T17:19:28.769Z"
   },
   {
    "duration": 14,
    "start_time": "2022-11-21T17:19:28.792Z"
   },
   {
    "duration": 3,
    "start_time": "2022-11-21T17:19:28.808Z"
   },
   {
    "duration": 10,
    "start_time": "2022-11-21T17:19:28.814Z"
   },
   {
    "duration": 11,
    "start_time": "2022-11-21T17:19:28.826Z"
   },
   {
    "duration": 4,
    "start_time": "2022-11-21T17:19:28.839Z"
   },
   {
    "duration": 39,
    "start_time": "2022-11-21T17:19:28.845Z"
   },
   {
    "duration": 6,
    "start_time": "2022-11-21T17:19:28.886Z"
   },
   {
    "duration": 9,
    "start_time": "2022-11-21T17:19:28.893Z"
   },
   {
    "duration": 8,
    "start_time": "2022-11-21T17:19:28.904Z"
   },
   {
    "duration": 17,
    "start_time": "2022-11-21T17:19:28.914Z"
   },
   {
    "duration": 4,
    "start_time": "2022-11-21T17:19:28.933Z"
   },
   {
    "duration": 42,
    "start_time": "2022-11-21T17:19:28.939Z"
   },
   {
    "duration": 6,
    "start_time": "2022-11-21T17:19:28.983Z"
   },
   {
    "duration": 11,
    "start_time": "2022-11-21T17:19:28.991Z"
   },
   {
    "duration": 10,
    "start_time": "2022-11-21T17:19:29.004Z"
   },
   {
    "duration": 9,
    "start_time": "2022-11-21T17:19:29.016Z"
   },
   {
    "duration": 5,
    "start_time": "2022-11-21T17:19:29.027Z"
   },
   {
    "duration": 6,
    "start_time": "2022-11-21T17:19:29.034Z"
   },
   {
    "duration": 9,
    "start_time": "2022-11-21T17:19:29.077Z"
   },
   {
    "duration": 6,
    "start_time": "2022-11-21T17:19:29.088Z"
   },
   {
    "duration": 48,
    "start_time": "2022-11-21T17:19:29.097Z"
   },
   {
    "duration": 22,
    "start_time": "2022-11-21T17:19:29.146Z"
   },
   {
    "duration": 9,
    "start_time": "2022-11-21T17:19:29.170Z"
   },
   {
    "duration": 162,
    "start_time": "2022-11-21T17:19:29.181Z"
   },
   {
    "duration": 9,
    "start_time": "2022-11-21T17:19:29.344Z"
   },
   {
    "duration": 6,
    "start_time": "2022-11-21T17:19:29.355Z"
   },
   {
    "duration": 15,
    "start_time": "2022-11-21T17:19:29.363Z"
   },
   {
    "duration": 9,
    "start_time": "2022-11-21T17:19:29.380Z"
   },
   {
    "duration": 21,
    "start_time": "2022-11-21T17:19:29.391Z"
   },
   {
    "duration": 240,
    "start_time": "2022-11-21T17:19:29.414Z"
   },
   {
    "duration": 3,
    "start_time": "2022-11-21T17:19:29.656Z"
   },
   {
    "duration": 21,
    "start_time": "2022-11-21T17:19:29.660Z"
   },
   {
    "duration": 15,
    "start_time": "2022-11-21T17:19:29.683Z"
   },
   {
    "duration": 7,
    "start_time": "2022-11-21T17:19:29.700Z"
   },
   {
    "duration": 174,
    "start_time": "2022-11-21T17:19:29.709Z"
   },
   {
    "duration": 8,
    "start_time": "2022-11-21T17:19:29.885Z"
   },
   {
    "duration": 8,
    "start_time": "2022-11-21T17:19:29.895Z"
   },
   {
    "duration": 8,
    "start_time": "2022-11-21T17:19:29.905Z"
   },
   {
    "duration": 18,
    "start_time": "2022-11-21T17:19:29.915Z"
   },
   {
    "duration": 175,
    "start_time": "2022-11-21T17:19:29.935Z"
   },
   {
    "duration": 200,
    "start_time": "2022-11-21T17:19:30.112Z"
   },
   {
    "duration": 209,
    "start_time": "2022-11-21T17:19:30.313Z"
   },
   {
    "duration": 6,
    "start_time": "2022-11-21T17:19:30.524Z"
   },
   {
    "duration": 40,
    "start_time": "2022-11-21T17:19:30.531Z"
   },
   {
    "duration": 178,
    "start_time": "2022-11-21T17:19:30.572Z"
   },
   {
    "duration": 5,
    "start_time": "2022-11-21T17:19:30.752Z"
   },
   {
    "duration": 160,
    "start_time": "2022-11-21T17:19:30.759Z"
   },
   {
    "duration": 6,
    "start_time": "2022-11-21T17:19:30.921Z"
   },
   {
    "duration": 30,
    "start_time": "2022-11-21T17:19:30.929Z"
   },
   {
    "duration": 167,
    "start_time": "2022-11-21T17:19:30.961Z"
   },
   {
    "duration": 5,
    "start_time": "2022-11-21T17:19:31.130Z"
   },
   {
    "duration": 266,
    "start_time": "2022-11-21T17:19:31.137Z"
   },
   {
    "duration": 6,
    "start_time": "2022-11-21T17:19:31.405Z"
   },
   {
    "duration": 22,
    "start_time": "2022-11-21T17:19:31.413Z"
   },
   {
    "duration": 11,
    "start_time": "2022-11-21T17:19:31.436Z"
   },
   {
    "duration": 8,
    "start_time": "2022-11-21T17:19:31.449Z"
   },
   {
    "duration": 6,
    "start_time": "2022-11-21T17:19:31.459Z"
   },
   {
    "duration": 16,
    "start_time": "2022-11-21T17:19:31.478Z"
   },
   {
    "duration": 5,
    "start_time": "2022-11-21T17:19:31.496Z"
   },
   {
    "duration": 13,
    "start_time": "2022-11-21T17:19:31.502Z"
   },
   {
    "duration": 6,
    "start_time": "2022-11-21T17:19:31.517Z"
   },
   {
    "duration": 15,
    "start_time": "2022-11-21T17:19:31.525Z"
   },
   {
    "duration": 38,
    "start_time": "2022-11-21T17:19:31.541Z"
   },
   {
    "duration": 17,
    "start_time": "2022-11-21T17:19:31.581Z"
   },
   {
    "duration": 8,
    "start_time": "2022-11-21T17:19:31.600Z"
   },
   {
    "duration": 12,
    "start_time": "2022-11-21T17:19:31.610Z"
   },
   {
    "duration": 6,
    "start_time": "2022-11-21T17:19:31.624Z"
   },
   {
    "duration": 10,
    "start_time": "2022-11-21T17:19:31.631Z"
   },
   {
    "duration": 35,
    "start_time": "2022-11-21T17:19:31.643Z"
   },
   {
    "duration": 5,
    "start_time": "2022-11-21T17:19:31.680Z"
   },
   {
    "duration": 9,
    "start_time": "2022-11-21T17:19:31.687Z"
   },
   {
    "duration": 4,
    "start_time": "2022-11-21T17:19:31.698Z"
   },
   {
    "duration": 10,
    "start_time": "2022-11-21T17:19:31.704Z"
   },
   {
    "duration": 13,
    "start_time": "2022-11-21T17:19:31.716Z"
   },
   {
    "duration": 6,
    "start_time": "2022-11-21T17:19:31.734Z"
   },
   {
    "duration": 36,
    "start_time": "2022-11-21T17:19:31.742Z"
   },
   {
    "duration": 5,
    "start_time": "2022-11-21T17:23:01.494Z"
   },
   {
    "duration": 7,
    "start_time": "2022-11-21T17:30:01.346Z"
   },
   {
    "duration": 105,
    "start_time": "2022-11-21T17:30:52.040Z"
   },
   {
    "duration": 20,
    "start_time": "2022-11-21T17:31:03.372Z"
   },
   {
    "duration": 6,
    "start_time": "2022-11-21T17:31:41.478Z"
   },
   {
    "duration": 11,
    "start_time": "2022-11-21T18:11:07.630Z"
   },
   {
    "duration": 176,
    "start_time": "2022-11-21T18:12:53.226Z"
   },
   {
    "duration": 73,
    "start_time": "2022-11-21T18:14:50.533Z"
   },
   {
    "duration": 194,
    "start_time": "2022-11-21T18:16:35.526Z"
   },
   {
    "duration": 211,
    "start_time": "2022-11-21T18:27:02.843Z"
   },
   {
    "duration": 85,
    "start_time": "2022-11-21T18:27:13.706Z"
   },
   {
    "duration": 218,
    "start_time": "2022-11-21T18:27:20.618Z"
   },
   {
    "duration": 195,
    "start_time": "2022-11-21T18:27:29.605Z"
   },
   {
    "duration": 151,
    "start_time": "2022-11-21T18:30:53.773Z"
   },
   {
    "duration": 207,
    "start_time": "2022-11-21T18:31:05.142Z"
   },
   {
    "duration": 91,
    "start_time": "2022-11-21T18:33:16.700Z"
   },
   {
    "duration": 238,
    "start_time": "2022-11-21T18:38:31.641Z"
   },
   {
    "duration": 179,
    "start_time": "2022-11-21T18:40:16.315Z"
   },
   {
    "duration": 183,
    "start_time": "2022-11-21T18:40:29.153Z"
   },
   {
    "duration": 190,
    "start_time": "2022-11-21T18:40:38.336Z"
   },
   {
    "duration": 308,
    "start_time": "2022-11-21T18:40:45.209Z"
   },
   {
    "duration": 195,
    "start_time": "2022-11-21T18:42:49.588Z"
   },
   {
    "duration": 209,
    "start_time": "2022-11-21T18:43:51.794Z"
   },
   {
    "duration": 107,
    "start_time": "2022-11-21T18:44:54.733Z"
   },
   {
    "duration": 152,
    "start_time": "2022-11-21T18:48:45.625Z"
   },
   {
    "duration": 120,
    "start_time": "2022-11-21T19:27:52.788Z"
   },
   {
    "duration": 91,
    "start_time": "2022-11-21T19:28:04.540Z"
   },
   {
    "duration": 53,
    "start_time": "2022-11-22T10:29:45.729Z"
   },
   {
    "duration": 449,
    "start_time": "2022-11-22T10:29:54.201Z"
   },
   {
    "duration": 960,
    "start_time": "2022-11-22T10:29:54.653Z"
   },
   {
    "duration": 3,
    "start_time": "2022-11-22T10:29:55.615Z"
   },
   {
    "duration": 41,
    "start_time": "2022-11-22T10:29:55.620Z"
   },
   {
    "duration": 10,
    "start_time": "2022-11-22T10:29:55.664Z"
   },
   {
    "duration": 191,
    "start_time": "2022-11-22T10:29:55.676Z"
   },
   {
    "duration": 20,
    "start_time": "2022-11-22T10:29:55.869Z"
   },
   {
    "duration": 18,
    "start_time": "2022-11-22T10:29:55.891Z"
   },
   {
    "duration": 4,
    "start_time": "2022-11-22T10:29:55.910Z"
   },
   {
    "duration": 8,
    "start_time": "2022-11-22T10:29:55.915Z"
   },
   {
    "duration": 13,
    "start_time": "2022-11-22T10:29:55.924Z"
   },
   {
    "duration": 12,
    "start_time": "2022-11-22T10:29:55.939Z"
   },
   {
    "duration": 16,
    "start_time": "2022-11-22T10:29:55.953Z"
   },
   {
    "duration": 6,
    "start_time": "2022-11-22T10:29:55.972Z"
   },
   {
    "duration": 16,
    "start_time": "2022-11-22T10:29:55.979Z"
   },
   {
    "duration": 7,
    "start_time": "2022-11-22T10:29:55.997Z"
   },
   {
    "duration": 14,
    "start_time": "2022-11-22T10:29:56.006Z"
   },
   {
    "duration": 30,
    "start_time": "2022-11-22T10:29:56.021Z"
   },
   {
    "duration": 11,
    "start_time": "2022-11-22T10:29:56.053Z"
   },
   {
    "duration": 13,
    "start_time": "2022-11-22T10:29:56.065Z"
   },
   {
    "duration": 10,
    "start_time": "2022-11-22T10:29:56.079Z"
   },
   {
    "duration": 12,
    "start_time": "2022-11-22T10:29:56.090Z"
   },
   {
    "duration": 10,
    "start_time": "2022-11-22T10:29:56.103Z"
   },
   {
    "duration": 6,
    "start_time": "2022-11-22T10:29:56.115Z"
   },
   {
    "duration": 28,
    "start_time": "2022-11-22T10:29:56.123Z"
   },
   {
    "duration": 5,
    "start_time": "2022-11-22T10:29:56.153Z"
   },
   {
    "duration": 22,
    "start_time": "2022-11-22T10:29:56.160Z"
   },
   {
    "duration": 37,
    "start_time": "2022-11-22T10:29:56.184Z"
   },
   {
    "duration": 20,
    "start_time": "2022-11-22T10:29:56.222Z"
   },
   {
    "duration": 6,
    "start_time": "2022-11-22T10:29:56.244Z"
   },
   {
    "duration": 16,
    "start_time": "2022-11-22T10:29:56.252Z"
   },
   {
    "duration": 153,
    "start_time": "2022-11-22T10:29:56.270Z"
   },
   {
    "duration": 9,
    "start_time": "2022-11-22T10:29:56.425Z"
   },
   {
    "duration": 4,
    "start_time": "2022-11-22T10:29:56.450Z"
   },
   {
    "duration": 18,
    "start_time": "2022-11-22T10:29:56.456Z"
   },
   {
    "duration": 13,
    "start_time": "2022-11-22T10:29:56.476Z"
   },
   {
    "duration": 20,
    "start_time": "2022-11-22T10:29:56.490Z"
   },
   {
    "duration": 243,
    "start_time": "2022-11-22T10:29:56.511Z"
   },
   {
    "duration": 3,
    "start_time": "2022-11-22T10:29:56.757Z"
   },
   {
    "duration": 13,
    "start_time": "2022-11-22T10:29:56.762Z"
   },
   {
    "duration": 16,
    "start_time": "2022-11-22T10:29:56.780Z"
   },
   {
    "duration": 8,
    "start_time": "2022-11-22T10:29:56.798Z"
   },
   {
    "duration": 203,
    "start_time": "2022-11-22T10:29:56.808Z"
   },
   {
    "duration": 8,
    "start_time": "2022-11-22T10:29:57.013Z"
   },
   {
    "duration": 10,
    "start_time": "2022-11-22T10:29:57.023Z"
   },
   {
    "duration": 7,
    "start_time": "2022-11-22T10:29:57.035Z"
   },
   {
    "duration": 22,
    "start_time": "2022-11-22T10:29:57.043Z"
   },
   {
    "duration": 186,
    "start_time": "2022-11-22T10:29:57.067Z"
   },
   {
    "duration": 303,
    "start_time": "2022-11-22T10:29:57.255Z"
   },
   {
    "duration": 227,
    "start_time": "2022-11-22T10:29:57.560Z"
   },
   {
    "duration": 6,
    "start_time": "2022-11-22T10:29:57.789Z"
   },
   {
    "duration": 8,
    "start_time": "2022-11-22T10:29:57.797Z"
   },
   {
    "duration": 166,
    "start_time": "2022-11-22T10:29:57.806Z"
   },
   {
    "duration": 5,
    "start_time": "2022-11-22T10:29:57.974Z"
   },
   {
    "duration": 168,
    "start_time": "2022-11-22T10:29:57.980Z"
   },
   {
    "duration": 6,
    "start_time": "2022-11-22T10:29:58.151Z"
   },
   {
    "duration": 23,
    "start_time": "2022-11-22T10:29:58.160Z"
   },
   {
    "duration": 167,
    "start_time": "2022-11-22T10:29:58.185Z"
   },
   {
    "duration": 6,
    "start_time": "2022-11-22T10:29:58.354Z"
   },
   {
    "duration": 242,
    "start_time": "2022-11-22T10:29:58.361Z"
   },
   {
    "duration": 5,
    "start_time": "2022-11-22T10:29:58.605Z"
   },
   {
    "duration": 9,
    "start_time": "2022-11-22T10:29:58.612Z"
   },
   {
    "duration": 7,
    "start_time": "2022-11-22T10:29:58.622Z"
   },
   {
    "duration": 6,
    "start_time": "2022-11-22T10:29:58.651Z"
   },
   {
    "duration": 6,
    "start_time": "2022-11-22T10:29:58.659Z"
   },
   {
    "duration": 18,
    "start_time": "2022-11-22T10:29:58.666Z"
   },
   {
    "duration": 5,
    "start_time": "2022-11-22T10:29:58.685Z"
   },
   {
    "duration": 127,
    "start_time": "2022-11-22T10:29:58.692Z"
   },
   {
    "duration": 5,
    "start_time": "2022-11-22T10:29:58.821Z"
   },
   {
    "duration": 7,
    "start_time": "2022-11-22T10:29:58.828Z"
   },
   {
    "duration": 12,
    "start_time": "2022-11-22T10:29:58.851Z"
   },
   {
    "duration": 8,
    "start_time": "2022-11-22T10:29:58.864Z"
   },
   {
    "duration": 17,
    "start_time": "2022-11-22T10:29:58.874Z"
   },
   {
    "duration": 11,
    "start_time": "2022-11-22T10:29:58.893Z"
   },
   {
    "duration": 13,
    "start_time": "2022-11-22T10:29:58.905Z"
   },
   {
    "duration": 6,
    "start_time": "2022-11-22T10:29:58.920Z"
   },
   {
    "duration": 24,
    "start_time": "2022-11-22T10:29:58.927Z"
   },
   {
    "duration": 4,
    "start_time": "2022-11-22T10:29:58.952Z"
   },
   {
    "duration": 13,
    "start_time": "2022-11-22T10:29:58.957Z"
   },
   {
    "duration": 9,
    "start_time": "2022-11-22T10:29:58.972Z"
   },
   {
    "duration": 4,
    "start_time": "2022-11-22T10:29:58.983Z"
   },
   {
    "duration": 10,
    "start_time": "2022-11-22T10:29:58.988Z"
   },
   {
    "duration": 9,
    "start_time": "2022-11-22T10:29:58.999Z"
   },
   {
    "duration": 9,
    "start_time": "2022-11-22T10:29:59.010Z"
   },
   {
    "duration": 8,
    "start_time": "2022-11-22T10:29:59.021Z"
   },
   {
    "duration": 103,
    "start_time": "2022-11-22T10:31:23.113Z"
   },
   {
    "duration": 96,
    "start_time": "2022-11-22T10:32:07.411Z"
   },
   {
    "duration": 15,
    "start_time": "2022-11-22T10:36:04.332Z"
   },
   {
    "duration": 5,
    "start_time": "2022-11-22T10:41:32.358Z"
   },
   {
    "duration": 111,
    "start_time": "2022-11-22T10:42:04.215Z"
   },
   {
    "duration": 16,
    "start_time": "2022-11-22T10:43:31.480Z"
   },
   {
    "duration": 447,
    "start_time": "2022-11-22T10:43:57.522Z"
   },
   {
    "duration": 755,
    "start_time": "2022-11-22T10:43:57.971Z"
   },
   {
    "duration": 3,
    "start_time": "2022-11-22T10:43:58.728Z"
   },
   {
    "duration": 11,
    "start_time": "2022-11-22T10:43:58.733Z"
   },
   {
    "duration": 6,
    "start_time": "2022-11-22T10:43:58.745Z"
   },
   {
    "duration": 61,
    "start_time": "2022-11-22T10:43:58.752Z"
   },
   {
    "duration": 22,
    "start_time": "2022-11-22T10:43:58.814Z"
   },
   {
    "duration": 16,
    "start_time": "2022-11-22T10:43:58.837Z"
   },
   {
    "duration": 7,
    "start_time": "2022-11-22T10:43:58.855Z"
   },
   {
    "duration": 8,
    "start_time": "2022-11-22T10:43:58.864Z"
   },
   {
    "duration": 22,
    "start_time": "2022-11-22T10:43:58.874Z"
   },
   {
    "duration": 5,
    "start_time": "2022-11-22T10:43:58.897Z"
   },
   {
    "duration": 19,
    "start_time": "2022-11-22T10:43:58.903Z"
   },
   {
    "duration": 5,
    "start_time": "2022-11-22T10:43:58.924Z"
   },
   {
    "duration": 10,
    "start_time": "2022-11-22T10:43:58.931Z"
   },
   {
    "duration": 12,
    "start_time": "2022-11-22T10:43:58.950Z"
   },
   {
    "duration": 22,
    "start_time": "2022-11-22T10:43:58.964Z"
   },
   {
    "duration": 5,
    "start_time": "2022-11-22T10:43:58.988Z"
   },
   {
    "duration": 12,
    "start_time": "2022-11-22T10:43:58.995Z"
   },
   {
    "duration": 11,
    "start_time": "2022-11-22T10:43:59.009Z"
   },
   {
    "duration": 29,
    "start_time": "2022-11-22T10:43:59.022Z"
   },
   {
    "duration": 10,
    "start_time": "2022-11-22T10:43:59.052Z"
   },
   {
    "duration": 19,
    "start_time": "2022-11-22T10:43:59.064Z"
   },
   {
    "duration": 5,
    "start_time": "2022-11-22T10:43:59.085Z"
   },
   {
    "duration": 7,
    "start_time": "2022-11-22T10:43:59.091Z"
   },
   {
    "duration": 5,
    "start_time": "2022-11-22T10:43:59.100Z"
   },
   {
    "duration": 7,
    "start_time": "2022-11-22T10:43:59.107Z"
   },
   {
    "duration": 6,
    "start_time": "2022-11-22T10:43:59.150Z"
   },
   {
    "duration": 11,
    "start_time": "2022-11-22T10:43:59.158Z"
   },
   {
    "duration": 36,
    "start_time": "2022-11-22T10:43:59.170Z"
   },
   {
    "duration": 23,
    "start_time": "2022-11-22T10:43:59.208Z"
   },
   {
    "duration": 21,
    "start_time": "2022-11-22T10:43:59.233Z"
   },
   {
    "duration": 11,
    "start_time": "2022-11-22T10:43:59.256Z"
   },
   {
    "duration": 170,
    "start_time": "2022-11-22T10:43:59.268Z"
   },
   {
    "duration": 18,
    "start_time": "2022-11-22T10:43:59.440Z"
   },
   {
    "duration": 5,
    "start_time": "2022-11-22T10:43:59.459Z"
   },
   {
    "duration": 8,
    "start_time": "2022-11-22T10:43:59.465Z"
   },
   {
    "duration": 11,
    "start_time": "2022-11-22T10:43:59.475Z"
   },
   {
    "duration": 21,
    "start_time": "2022-11-22T10:43:59.487Z"
   },
   {
    "duration": 317,
    "start_time": "2022-11-22T10:43:59.510Z"
   },
   {
    "duration": 4,
    "start_time": "2022-11-22T10:43:59.829Z"
   },
   {
    "duration": 21,
    "start_time": "2022-11-22T10:43:59.834Z"
   },
   {
    "duration": 26,
    "start_time": "2022-11-22T10:43:59.857Z"
   },
   {
    "duration": 10,
    "start_time": "2022-11-22T10:43:59.886Z"
   },
   {
    "duration": 190,
    "start_time": "2022-11-22T10:43:59.899Z"
   },
   {
    "duration": 9,
    "start_time": "2022-11-22T10:44:00.091Z"
   },
   {
    "duration": 10,
    "start_time": "2022-11-22T10:44:00.102Z"
   },
   {
    "duration": 7,
    "start_time": "2022-11-22T10:44:00.114Z"
   },
   {
    "duration": 30,
    "start_time": "2022-11-22T10:44:00.122Z"
   },
   {
    "duration": 188,
    "start_time": "2022-11-22T10:44:00.155Z"
   },
   {
    "duration": 223,
    "start_time": "2022-11-22T10:44:00.346Z"
   },
   {
    "duration": 216,
    "start_time": "2022-11-22T10:44:00.571Z"
   },
   {
    "duration": 7,
    "start_time": "2022-11-22T10:44:00.789Z"
   },
   {
    "duration": 11,
    "start_time": "2022-11-22T10:44:00.798Z"
   },
   {
    "duration": 185,
    "start_time": "2022-11-22T10:44:00.811Z"
   },
   {
    "duration": 6,
    "start_time": "2022-11-22T10:44:00.998Z"
   },
   {
    "duration": 191,
    "start_time": "2022-11-22T10:44:01.006Z"
   },
   {
    "duration": 6,
    "start_time": "2022-11-22T10:44:01.199Z"
   },
   {
    "duration": 35,
    "start_time": "2022-11-22T10:44:01.206Z"
   },
   {
    "duration": 191,
    "start_time": "2022-11-22T10:44:01.243Z"
   },
   {
    "duration": 7,
    "start_time": "2022-11-22T10:44:01.436Z"
   },
   {
    "duration": 276,
    "start_time": "2022-11-22T10:44:01.444Z"
   },
   {
    "duration": 5,
    "start_time": "2022-11-22T10:44:01.722Z"
   },
   {
    "duration": 19,
    "start_time": "2022-11-22T10:44:01.728Z"
   },
   {
    "duration": 25,
    "start_time": "2022-11-22T10:44:01.751Z"
   },
   {
    "duration": 41,
    "start_time": "2022-11-22T10:44:01.778Z"
   },
   {
    "duration": 25,
    "start_time": "2022-11-22T10:44:01.820Z"
   },
   {
    "duration": 34,
    "start_time": "2022-11-22T10:44:01.847Z"
   },
   {
    "duration": 9,
    "start_time": "2022-11-22T10:44:01.883Z"
   },
   {
    "duration": 123,
    "start_time": "2022-11-22T10:44:01.894Z"
   },
   {
    "duration": 6,
    "start_time": "2022-11-22T10:44:02.019Z"
   },
   {
    "duration": 140,
    "start_time": "2022-11-22T10:44:02.027Z"
   },
   {
    "duration": 6,
    "start_time": "2022-11-22T10:44:02.170Z"
   },
   {
    "duration": 139,
    "start_time": "2022-11-22T10:44:02.178Z"
   },
   {
    "duration": 13,
    "start_time": "2022-11-22T10:44:02.319Z"
   },
   {
    "duration": 28,
    "start_time": "2022-11-22T10:44:02.334Z"
   },
   {
    "duration": 37,
    "start_time": "2022-11-22T10:44:02.364Z"
   },
   {
    "duration": 24,
    "start_time": "2022-11-22T10:44:02.403Z"
   },
   {
    "duration": 30,
    "start_time": "2022-11-22T10:44:02.428Z"
   },
   {
    "duration": 8,
    "start_time": "2022-11-22T10:44:02.460Z"
   },
   {
    "duration": 23,
    "start_time": "2022-11-22T10:44:02.469Z"
   },
   {
    "duration": 10,
    "start_time": "2022-11-22T10:44:02.498Z"
   },
   {
    "duration": 18,
    "start_time": "2022-11-22T10:44:02.510Z"
   },
   {
    "duration": 17,
    "start_time": "2022-11-22T10:44:02.530Z"
   },
   {
    "duration": 5,
    "start_time": "2022-11-22T10:44:02.549Z"
   },
   {
    "duration": 14,
    "start_time": "2022-11-22T10:44:02.556Z"
   },
   {
    "duration": 13,
    "start_time": "2022-11-22T10:44:02.572Z"
   },
   {
    "duration": 6,
    "start_time": "2022-11-22T10:44:02.587Z"
   },
   {
    "duration": 10,
    "start_time": "2022-11-22T10:44:02.594Z"
   },
   {
    "duration": 97,
    "start_time": "2022-11-22T10:48:05.613Z"
   },
   {
    "duration": 225,
    "start_time": "2022-11-22T10:49:33.852Z"
   },
   {
    "duration": 105,
    "start_time": "2022-11-22T10:49:43.755Z"
   },
   {
    "duration": 99,
    "start_time": "2022-11-22T10:50:05.722Z"
   },
   {
    "duration": 97,
    "start_time": "2022-11-22T10:50:21.069Z"
   },
   {
    "duration": 7,
    "start_time": "2022-11-22T10:51:45.036Z"
   },
   {
    "duration": 96,
    "start_time": "2022-11-22T10:51:48.756Z"
   },
   {
    "duration": 5,
    "start_time": "2022-11-22T10:52:11.957Z"
   },
   {
    "duration": 94,
    "start_time": "2022-11-22T10:52:15.565Z"
   },
   {
    "duration": 384,
    "start_time": "2022-11-22T10:53:37.228Z"
   },
   {
    "duration": 570,
    "start_time": "2022-11-22T10:56:48.813Z"
   }
  ],
  "kernelspec": {
   "display_name": "Python 3 (ipykernel)",
   "language": "python",
   "name": "python3"
  },
  "language_info": {
   "codemirror_mode": {
    "name": "ipython",
    "version": 3
   },
   "file_extension": ".py",
   "mimetype": "text/x-python",
   "name": "python",
   "nbconvert_exporter": "python",
   "pygments_lexer": "ipython3",
   "version": "3.9.13"
  },
  "toc": {
   "base_numbering": 1,
   "nav_menu": {},
   "number_sections": true,
   "sideBar": true,
   "skip_h1_title": true,
   "title_cell": "Table of Contents",
   "title_sidebar": "Contents",
   "toc_cell": false,
   "toc_position": {},
   "toc_section_display": true,
   "toc_window_display": false
  }
 },
 "nbformat": 4,
 "nbformat_minor": 2
}
