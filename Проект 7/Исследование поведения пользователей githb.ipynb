{
 "cells": [
  {
   "cell_type": "markdown",
   "metadata": {},
   "source": [
    "# Исследование поведения пользователей"
   ]
  },
  {
   "cell_type": "markdown",
   "metadata": {},
   "source": [
    "## Описание проекта\n",
    "Работая в стартапе по продаже продуктов питания, необходимо посмотреть, как ведут себя пользователи нашего мобильного приложения, проследить их путь до покупки товара, провести ААВ тест "
   ]
  },
  {
   "cell_type": "markdown",
   "metadata": {},
   "source": [
    "## Описание данных\n",
    "\n",
    "`event` — название события;\\\n",
    "`userid` — уникальный идентификатор пользователя;\\\n",
    "`dwt` — (date with time) время события;\\\n",
    "`group` — номер эксперимента: 246 и 247 — контрольные группы, а 248 — экспериментальная;\\\n",
    "`date` - дата события"
   ]
  },
  {
   "cell_type": "markdown",
   "metadata": {},
   "source": [
    "## Цели проекта"
   ]
  },
  {
   "cell_type": "markdown",
   "metadata": {},
   "source": [
    "- Подготовить данные к анализу\n",
    "- Проверить данные в датасете\n",
    "- Изученить воронку продаж\n",
    "- Изучить результат, проведенного A/A/B-эксперимента (Дизайнеры захотели поменять шрифты во всём приложении, а менеджеры испугались, что пользователям будет непривычно. Договорились принять решение по результатам A/A/B-теста. Пользователей разбили на 3 группы: 2 контрольные со старыми шрифтами и одну экспериментальную — с новыми)"
   ]
  },
  {
   "cell_type": "markdown",
   "metadata": {},
   "source": [
    "### Подготовка данных"
   ]
  },
  {
   "cell_type": "markdown",
   "metadata": {},
   "source": [
    "Для начала импортируем необходимые нам библиотеки"
   ]
  },
  {
   "cell_type": "code",
   "execution_count": 1,
   "metadata": {},
   "outputs": [],
   "source": [
    "import pandas as pd"
   ]
  },
  {
   "cell_type": "code",
   "execution_count": 2,
   "metadata": {},
   "outputs": [],
   "source": [
    "import scipy.stats as stats"
   ]
  },
  {
   "cell_type": "code",
   "execution_count": 3,
   "metadata": {},
   "outputs": [],
   "source": [
    "import matplotlib.pyplot as plt"
   ]
  },
  {
   "cell_type": "code",
   "execution_count": 4,
   "metadata": {},
   "outputs": [],
   "source": [
    "import numpy as np"
   ]
  },
  {
   "cell_type": "code",
   "execution_count": 5,
   "metadata": {},
   "outputs": [],
   "source": [
    "import datetime as dt"
   ]
  },
  {
   "cell_type": "code",
   "execution_count": 6,
   "metadata": {},
   "outputs": [],
   "source": [
    "import plotly.express as px"
   ]
  },
  {
   "cell_type": "code",
   "execution_count": 7,
   "metadata": {},
   "outputs": [],
   "source": [
    "from plotly import graph_objects as go"
   ]
  },
  {
   "cell_type": "code",
   "execution_count": 8,
   "metadata": {},
   "outputs": [],
   "source": [
    "from scipy import stats as st"
   ]
  },
  {
   "cell_type": "code",
   "execution_count": 9,
   "metadata": {},
   "outputs": [],
   "source": [
    "import math as mth"
   ]
  },
  {
   "cell_type": "code",
   "execution_count": 10,
   "metadata": {},
   "outputs": [],
   "source": [
    "import seaborn as sns"
   ]
  },
  {
   "cell_type": "markdown",
   "metadata": {},
   "source": [
    "Откроем файл и выведем первые 5 строк для ознакомления"
   ]
  },
  {
   "cell_type": "code",
   "execution_count": 11,
   "metadata": {},
   "outputs": [],
   "source": [
    "data = pd.read_csv('/datasets/logs_exp.csv', sep = '\\t')"
   ]
  },
  {
   "cell_type": "code",
   "execution_count": 12,
   "metadata": {},
   "outputs": [
    {
     "data": {
      "text/html": [
       "<div>\n",
       "<style scoped>\n",
       "    .dataframe tbody tr th:only-of-type {\n",
       "        vertical-align: middle;\n",
       "    }\n",
       "\n",
       "    .dataframe tbody tr th {\n",
       "        vertical-align: top;\n",
       "    }\n",
       "\n",
       "    .dataframe thead th {\n",
       "        text-align: right;\n",
       "    }\n",
       "</style>\n",
       "<table border=\"1\" class=\"dataframe\">\n",
       "  <thead>\n",
       "    <tr style=\"text-align: right;\">\n",
       "      <th></th>\n",
       "      <th>EventName</th>\n",
       "      <th>DeviceIDHash</th>\n",
       "      <th>EventTimestamp</th>\n",
       "      <th>ExpId</th>\n",
       "    </tr>\n",
       "  </thead>\n",
       "  <tbody>\n",
       "    <tr>\n",
       "      <th>0</th>\n",
       "      <td>MainScreenAppear</td>\n",
       "      <td>4575588528974610257</td>\n",
       "      <td>1564029816</td>\n",
       "      <td>246</td>\n",
       "    </tr>\n",
       "    <tr>\n",
       "      <th>1</th>\n",
       "      <td>MainScreenAppear</td>\n",
       "      <td>7416695313311560658</td>\n",
       "      <td>1564053102</td>\n",
       "      <td>246</td>\n",
       "    </tr>\n",
       "    <tr>\n",
       "      <th>2</th>\n",
       "      <td>PaymentScreenSuccessful</td>\n",
       "      <td>3518123091307005509</td>\n",
       "      <td>1564054127</td>\n",
       "      <td>248</td>\n",
       "    </tr>\n",
       "    <tr>\n",
       "      <th>3</th>\n",
       "      <td>CartScreenAppear</td>\n",
       "      <td>3518123091307005509</td>\n",
       "      <td>1564054127</td>\n",
       "      <td>248</td>\n",
       "    </tr>\n",
       "    <tr>\n",
       "      <th>4</th>\n",
       "      <td>PaymentScreenSuccessful</td>\n",
       "      <td>6217807653094995999</td>\n",
       "      <td>1564055322</td>\n",
       "      <td>248</td>\n",
       "    </tr>\n",
       "  </tbody>\n",
       "</table>\n",
       "</div>"
      ],
      "text/plain": [
       "                 EventName         DeviceIDHash  EventTimestamp  ExpId\n",
       "0         MainScreenAppear  4575588528974610257      1564029816    246\n",
       "1         MainScreenAppear  7416695313311560658      1564053102    246\n",
       "2  PaymentScreenSuccessful  3518123091307005509      1564054127    248\n",
       "3         CartScreenAppear  3518123091307005509      1564054127    248\n",
       "4  PaymentScreenSuccessful  6217807653094995999      1564055322    248"
      ]
     },
     "execution_count": 12,
     "metadata": {},
     "output_type": "execute_result"
    }
   ],
   "source": [
    "data.head()"
   ]
  },
  {
   "cell_type": "markdown",
   "metadata": {},
   "source": [
    "Итак, из выведенного фрагмента, можно видеть проблему с названиями столбцов, во-первых, их регистр не соответствует правилам хорошего тона, во-вторых, в таких названиях легко запутаться и допустить ошибку. Приведем название столбцов к нижнему регистру и переименуем столбцы"
   ]
  },
  {
   "cell_type": "code",
   "execution_count": 13,
   "metadata": {},
   "outputs": [],
   "source": [
    "data.columns = data.columns.str.lower()"
   ]
  },
  {
   "cell_type": "code",
   "execution_count": 14,
   "metadata": {},
   "outputs": [],
   "source": [
    "data = data.rename(columns = {'eventname':'event', 'deviceidhash':'userid', 'eventtimestamp':'dwt', 'expid':'group'})"
   ]
  },
  {
   "cell_type": "markdown",
   "metadata": {},
   "source": [
    "Новая проблема, вместо даты что-то странное, причина этому, \"эпоха Unix\". Это система описания моментов, которая расчитывается в секундах от 1 января 1970 года. Воспользуемся функцией `pd.to_datetime`, применив параметр `unit = 's'` для предотвращения этой проблемы"
   ]
  },
  {
   "cell_type": "code",
   "execution_count": 15,
   "metadata": {},
   "outputs": [],
   "source": [
    "data['dwt'] = pd.to_datetime(data['dwt'],unit = 's')"
   ]
  },
  {
   "cell_type": "markdown",
   "metadata": {},
   "source": [
    "Посмотрим на результат"
   ]
  },
  {
   "cell_type": "code",
   "execution_count": 16,
   "metadata": {},
   "outputs": [
    {
     "data": {
      "text/html": [
       "<div>\n",
       "<style scoped>\n",
       "    .dataframe tbody tr th:only-of-type {\n",
       "        vertical-align: middle;\n",
       "    }\n",
       "\n",
       "    .dataframe tbody tr th {\n",
       "        vertical-align: top;\n",
       "    }\n",
       "\n",
       "    .dataframe thead th {\n",
       "        text-align: right;\n",
       "    }\n",
       "</style>\n",
       "<table border=\"1\" class=\"dataframe\">\n",
       "  <thead>\n",
       "    <tr style=\"text-align: right;\">\n",
       "      <th></th>\n",
       "      <th>event</th>\n",
       "      <th>userid</th>\n",
       "      <th>dwt</th>\n",
       "      <th>group</th>\n",
       "    </tr>\n",
       "  </thead>\n",
       "  <tbody>\n",
       "    <tr>\n",
       "      <th>0</th>\n",
       "      <td>MainScreenAppear</td>\n",
       "      <td>4575588528974610257</td>\n",
       "      <td>2019-07-25 04:43:36</td>\n",
       "      <td>246</td>\n",
       "    </tr>\n",
       "    <tr>\n",
       "      <th>1</th>\n",
       "      <td>MainScreenAppear</td>\n",
       "      <td>7416695313311560658</td>\n",
       "      <td>2019-07-25 11:11:42</td>\n",
       "      <td>246</td>\n",
       "    </tr>\n",
       "    <tr>\n",
       "      <th>2</th>\n",
       "      <td>PaymentScreenSuccessful</td>\n",
       "      <td>3518123091307005509</td>\n",
       "      <td>2019-07-25 11:28:47</td>\n",
       "      <td>248</td>\n",
       "    </tr>\n",
       "    <tr>\n",
       "      <th>3</th>\n",
       "      <td>CartScreenAppear</td>\n",
       "      <td>3518123091307005509</td>\n",
       "      <td>2019-07-25 11:28:47</td>\n",
       "      <td>248</td>\n",
       "    </tr>\n",
       "    <tr>\n",
       "      <th>4</th>\n",
       "      <td>PaymentScreenSuccessful</td>\n",
       "      <td>6217807653094995999</td>\n",
       "      <td>2019-07-25 11:48:42</td>\n",
       "      <td>248</td>\n",
       "    </tr>\n",
       "  </tbody>\n",
       "</table>\n",
       "</div>"
      ],
      "text/plain": [
       "                     event               userid                 dwt  group\n",
       "0         MainScreenAppear  4575588528974610257 2019-07-25 04:43:36    246\n",
       "1         MainScreenAppear  7416695313311560658 2019-07-25 11:11:42    246\n",
       "2  PaymentScreenSuccessful  3518123091307005509 2019-07-25 11:28:47    248\n",
       "3         CartScreenAppear  3518123091307005509 2019-07-25 11:28:47    248\n",
       "4  PaymentScreenSuccessful  6217807653094995999 2019-07-25 11:48:42    248"
      ]
     },
     "execution_count": 16,
     "metadata": {},
     "output_type": "execute_result"
    }
   ],
   "source": [
    "data.head()"
   ]
  },
  {
   "cell_type": "markdown",
   "metadata": {},
   "source": [
    "Добавим новый столбец `date` с датой события и приведем его к типу `datetime 64`"
   ]
  },
  {
   "cell_type": "code",
   "execution_count": 17,
   "metadata": {},
   "outputs": [],
   "source": [
    "data['date'] = data['dwt'].dt.date.astype('datetime64[D]')"
   ]
  },
  {
   "cell_type": "code",
   "execution_count": 18,
   "metadata": {},
   "outputs": [
    {
     "data": {
      "text/html": [
       "<div>\n",
       "<style scoped>\n",
       "    .dataframe tbody tr th:only-of-type {\n",
       "        vertical-align: middle;\n",
       "    }\n",
       "\n",
       "    .dataframe tbody tr th {\n",
       "        vertical-align: top;\n",
       "    }\n",
       "\n",
       "    .dataframe thead th {\n",
       "        text-align: right;\n",
       "    }\n",
       "</style>\n",
       "<table border=\"1\" class=\"dataframe\">\n",
       "  <thead>\n",
       "    <tr style=\"text-align: right;\">\n",
       "      <th></th>\n",
       "      <th>event</th>\n",
       "      <th>userid</th>\n",
       "      <th>dwt</th>\n",
       "      <th>group</th>\n",
       "      <th>date</th>\n",
       "    </tr>\n",
       "  </thead>\n",
       "  <tbody>\n",
       "    <tr>\n",
       "      <th>0</th>\n",
       "      <td>MainScreenAppear</td>\n",
       "      <td>4575588528974610257</td>\n",
       "      <td>2019-07-25 04:43:36</td>\n",
       "      <td>246</td>\n",
       "      <td>2019-07-25</td>\n",
       "    </tr>\n",
       "    <tr>\n",
       "      <th>1</th>\n",
       "      <td>MainScreenAppear</td>\n",
       "      <td>7416695313311560658</td>\n",
       "      <td>2019-07-25 11:11:42</td>\n",
       "      <td>246</td>\n",
       "      <td>2019-07-25</td>\n",
       "    </tr>\n",
       "    <tr>\n",
       "      <th>2</th>\n",
       "      <td>PaymentScreenSuccessful</td>\n",
       "      <td>3518123091307005509</td>\n",
       "      <td>2019-07-25 11:28:47</td>\n",
       "      <td>248</td>\n",
       "      <td>2019-07-25</td>\n",
       "    </tr>\n",
       "    <tr>\n",
       "      <th>3</th>\n",
       "      <td>CartScreenAppear</td>\n",
       "      <td>3518123091307005509</td>\n",
       "      <td>2019-07-25 11:28:47</td>\n",
       "      <td>248</td>\n",
       "      <td>2019-07-25</td>\n",
       "    </tr>\n",
       "    <tr>\n",
       "      <th>4</th>\n",
       "      <td>PaymentScreenSuccessful</td>\n",
       "      <td>6217807653094995999</td>\n",
       "      <td>2019-07-25 11:48:42</td>\n",
       "      <td>248</td>\n",
       "      <td>2019-07-25</td>\n",
       "    </tr>\n",
       "  </tbody>\n",
       "</table>\n",
       "</div>"
      ],
      "text/plain": [
       "                     event               userid                 dwt  group  \\\n",
       "0         MainScreenAppear  4575588528974610257 2019-07-25 04:43:36    246   \n",
       "1         MainScreenAppear  7416695313311560658 2019-07-25 11:11:42    246   \n",
       "2  PaymentScreenSuccessful  3518123091307005509 2019-07-25 11:28:47    248   \n",
       "3         CartScreenAppear  3518123091307005509 2019-07-25 11:28:47    248   \n",
       "4  PaymentScreenSuccessful  6217807653094995999 2019-07-25 11:48:42    248   \n",
       "\n",
       "        date  \n",
       "0 2019-07-25  \n",
       "1 2019-07-25  \n",
       "2 2019-07-25  \n",
       "3 2019-07-25  \n",
       "4 2019-07-25  "
      ]
     },
     "execution_count": 18,
     "metadata": {},
     "output_type": "execute_result"
    }
   ],
   "source": [
    "data.head()"
   ]
  },
  {
   "cell_type": "markdown",
   "metadata": {},
   "source": [
    "Выведем информацию о датасете на экран"
   ]
  },
  {
   "cell_type": "code",
   "execution_count": 19,
   "metadata": {},
   "outputs": [
    {
     "name": "stdout",
     "output_type": "stream",
     "text": [
      "<class 'pandas.core.frame.DataFrame'>\n",
      "RangeIndex: 244126 entries, 0 to 244125\n",
      "Data columns (total 5 columns):\n",
      " #   Column  Non-Null Count   Dtype         \n",
      "---  ------  --------------   -----         \n",
      " 0   event   244126 non-null  object        \n",
      " 1   userid  244126 non-null  int64         \n",
      " 2   dwt     244126 non-null  datetime64[ns]\n",
      " 3   group   244126 non-null  int64         \n",
      " 4   date    244126 non-null  datetime64[ns]\n",
      "dtypes: datetime64[ns](2), int64(2), object(1)\n",
      "memory usage: 9.3+ MB\n"
     ]
    }
   ],
   "source": [
    "data.info()"
   ]
  },
  {
   "cell_type": "markdown",
   "metadata": {},
   "source": [
    "Проверим есть ли дубликаты, если есть удалим их и проверим информацию о датасете"
   ]
  },
  {
   "cell_type": "code",
   "execution_count": 20,
   "metadata": {},
   "outputs": [
    {
     "data": {
      "text/plain": [
       "413"
      ]
     },
     "execution_count": 20,
     "metadata": {},
     "output_type": "execute_result"
    }
   ],
   "source": [
    "data.duplicated().sum()"
   ]
  },
  {
   "cell_type": "code",
   "execution_count": 21,
   "metadata": {},
   "outputs": [],
   "source": [
    "data = data.drop_duplicates()"
   ]
  },
  {
   "cell_type": "code",
   "execution_count": 22,
   "metadata": {},
   "outputs": [
    {
     "name": "stdout",
     "output_type": "stream",
     "text": [
      "<class 'pandas.core.frame.DataFrame'>\n",
      "Int64Index: 243713 entries, 0 to 244125\n",
      "Data columns (total 5 columns):\n",
      " #   Column  Non-Null Count   Dtype         \n",
      "---  ------  --------------   -----         \n",
      " 0   event   243713 non-null  object        \n",
      " 1   userid  243713 non-null  int64         \n",
      " 2   dwt     243713 non-null  datetime64[ns]\n",
      " 3   group   243713 non-null  int64         \n",
      " 4   date    243713 non-null  datetime64[ns]\n",
      "dtypes: datetime64[ns](2), int64(2), object(1)\n",
      "memory usage: 11.2+ MB\n"
     ]
    }
   ],
   "source": [
    "data.info()"
   ]
  },
  {
   "cell_type": "markdown",
   "metadata": {},
   "source": [
    "Из информации о датасете видно, что пропусков у нас нет, поэтому можем смело переходить дальше"
   ]
  },
  {
   "cell_type": "markdown",
   "metadata": {},
   "source": [
    "### Изучение и проверка данных"
   ]
  },
  {
   "cell_type": "markdown",
   "metadata": {},
   "source": [
    "Посмотрим сколько всего событий в логе и как они распределяются"
   ]
  },
  {
   "cell_type": "code",
   "execution_count": 23,
   "metadata": {
    "scrolled": true
   },
   "outputs": [
    {
     "data": {
      "text/plain": [
       "243713"
      ]
     },
     "execution_count": 23,
     "metadata": {},
     "output_type": "execute_result"
    }
   ],
   "source": [
    "data.event.count()"
   ]
  },
  {
   "cell_type": "code",
   "execution_count": 24,
   "metadata": {},
   "outputs": [
    {
     "data": {
      "text/plain": [
       "MainScreenAppear           119101\n",
       "OffersScreenAppear          46808\n",
       "CartScreenAppear            42668\n",
       "PaymentScreenSuccessful     34118\n",
       "Tutorial                     1018\n",
       "Name: event, dtype: int64"
      ]
     },
     "execution_count": 24,
     "metadata": {},
     "output_type": "execute_result"
    }
   ],
   "source": [
    "data.event.value_counts()"
   ]
  },
  {
   "cell_type": "markdown",
   "metadata": {},
   "source": [
    "Посмотрим на количество уникальных пользователей в логе"
   ]
  },
  {
   "cell_type": "code",
   "execution_count": 25,
   "metadata": {},
   "outputs": [
    {
     "data": {
      "text/plain": [
       "7551"
      ]
     },
     "execution_count": 25,
     "metadata": {},
     "output_type": "execute_result"
    }
   ],
   "source": [
    "data.userid.nunique()"
   ]
  },
  {
   "cell_type": "markdown",
   "metadata": {},
   "source": [
    "Посмотрим на среднее количество событий на пользователя"
   ]
  },
  {
   "cell_type": "code",
   "execution_count": 26,
   "metadata": {},
   "outputs": [
    {
     "data": {
      "text/plain": [
       "32"
      ]
     },
     "execution_count": 26,
     "metadata": {},
     "output_type": "execute_result"
    }
   ],
   "source": [
    "event_total = data['event'].count()\n",
    "unique_user = data.userid.nunique()\n",
    "avg_event = event_total / unique_user\n",
    "round(avg_event)"
   ]
  },
  {
   "cell_type": "markdown",
   "metadata": {},
   "source": [
    "У нас получилось 32 события на 1 пользователя, видимо некоторые пользователи очень любят заходить на главную страницу и просматривать предложения. Далее посмотрим за какой период мы располагаем данными"
   ]
  },
  {
   "cell_type": "code",
   "execution_count": 27,
   "metadata": {},
   "outputs": [
    {
     "data": {
      "text/plain": [
       "max   2019-08-07\n",
       "min   2019-07-25\n",
       "Name: date, dtype: datetime64[ns]"
      ]
     },
     "execution_count": 27,
     "metadata": {},
     "output_type": "execute_result"
    }
   ],
   "source": [
    "data.date.agg({'min','max'})"
   ]
  },
  {
   "cell_type": "code",
   "execution_count": 28,
   "metadata": {},
   "outputs": [
    {
     "data": {
      "image/png": "[encoded data removed]",
      "text/plain": [
       "<Figure size 1080x360 with 1 Axes>"
      ]
     },
     "metadata": {
      "needs_background": "light"
     },
     "output_type": "display_data"
    }
   ],
   "source": [
    "data.date.hist(figsize = (15,5), legend = True);"
   ]
  },
  {
   "cell_type": "markdown",
   "metadata": {},
   "source": [
    "У нас есть данные с 25 июля 2019 года по 7 августа 2019 года, но из графика видно, что у нас не одинаково полные данные за весь период, поэтому было решено взять данные с 1 августа 2019 года, где данные становятся наиболее полными, отсортируем наш датафрейм с учетом корректировки"
   ]
  },
  {
   "cell_type": "code",
   "execution_count": 29,
   "metadata": {},
   "outputs": [],
   "source": [
    "data_new = data.query('date >= \"2019-08-01\"')"
   ]
  },
  {
   "cell_type": "code",
   "execution_count": 30,
   "metadata": {},
   "outputs": [
    {
     "data": {
      "text/html": [
       "<div>\n",
       "<style scoped>\n",
       "    .dataframe tbody tr th:only-of-type {\n",
       "        vertical-align: middle;\n",
       "    }\n",
       "\n",
       "    .dataframe tbody tr th {\n",
       "        vertical-align: top;\n",
       "    }\n",
       "\n",
       "    .dataframe thead th {\n",
       "        text-align: right;\n",
       "    }\n",
       "</style>\n",
       "<table border=\"1\" class=\"dataframe\">\n",
       "  <thead>\n",
       "    <tr style=\"text-align: right;\">\n",
       "      <th></th>\n",
       "      <th>event</th>\n",
       "      <th>userid</th>\n",
       "      <th>dwt</th>\n",
       "      <th>group</th>\n",
       "      <th>date</th>\n",
       "    </tr>\n",
       "  </thead>\n",
       "  <tbody>\n",
       "    <tr>\n",
       "      <th>2828</th>\n",
       "      <td>Tutorial</td>\n",
       "      <td>3737462046622621720</td>\n",
       "      <td>2019-08-01 00:07:28</td>\n",
       "      <td>246</td>\n",
       "      <td>2019-08-01</td>\n",
       "    </tr>\n",
       "    <tr>\n",
       "      <th>2829</th>\n",
       "      <td>MainScreenAppear</td>\n",
       "      <td>3737462046622621720</td>\n",
       "      <td>2019-08-01 00:08:00</td>\n",
       "      <td>246</td>\n",
       "      <td>2019-08-01</td>\n",
       "    </tr>\n",
       "    <tr>\n",
       "      <th>2830</th>\n",
       "      <td>MainScreenAppear</td>\n",
       "      <td>3737462046622621720</td>\n",
       "      <td>2019-08-01 00:08:55</td>\n",
       "      <td>246</td>\n",
       "      <td>2019-08-01</td>\n",
       "    </tr>\n",
       "    <tr>\n",
       "      <th>2831</th>\n",
       "      <td>OffersScreenAppear</td>\n",
       "      <td>3737462046622621720</td>\n",
       "      <td>2019-08-01 00:08:58</td>\n",
       "      <td>246</td>\n",
       "      <td>2019-08-01</td>\n",
       "    </tr>\n",
       "    <tr>\n",
       "      <th>2832</th>\n",
       "      <td>MainScreenAppear</td>\n",
       "      <td>1433840883824088890</td>\n",
       "      <td>2019-08-01 00:08:59</td>\n",
       "      <td>247</td>\n",
       "      <td>2019-08-01</td>\n",
       "    </tr>\n",
       "  </tbody>\n",
       "</table>\n",
       "</div>"
      ],
      "text/plain": [
       "                   event               userid                 dwt  group  \\\n",
       "2828            Tutorial  3737462046622621720 2019-08-01 00:07:28    246   \n",
       "2829    MainScreenAppear  3737462046622621720 2019-08-01 00:08:00    246   \n",
       "2830    MainScreenAppear  3737462046622621720 2019-08-01 00:08:55    246   \n",
       "2831  OffersScreenAppear  3737462046622621720 2019-08-01 00:08:58    246   \n",
       "2832    MainScreenAppear  1433840883824088890 2019-08-01 00:08:59    247   \n",
       "\n",
       "           date  \n",
       "2828 2019-08-01  \n",
       "2829 2019-08-01  \n",
       "2830 2019-08-01  \n",
       "2831 2019-08-01  \n",
       "2832 2019-08-01  "
      ]
     },
     "execution_count": 30,
     "metadata": {},
     "output_type": "execute_result"
    }
   ],
   "source": [
    "data_new.head()"
   ]
  },
  {
   "cell_type": "markdown",
   "metadata": {},
   "source": [
    "Посмотрим сколько событий и пользователей мы потеряли при фильтрации данных"
   ]
  },
  {
   "cell_type": "code",
   "execution_count": 31,
   "metadata": {},
   "outputs": [],
   "source": [
    "event_new = data_new.event.count()"
   ]
  },
  {
   "cell_type": "code",
   "execution_count": 32,
   "metadata": {},
   "outputs": [
    {
     "data": {
      "text/plain": [
       "2826"
      ]
     },
     "execution_count": 32,
     "metadata": {},
     "output_type": "execute_result"
    }
   ],
   "source": [
    "event_total - event_new"
   ]
  },
  {
   "cell_type": "code",
   "execution_count": 33,
   "metadata": {},
   "outputs": [
    {
     "data": {
      "text/plain": [
       "99"
      ]
     },
     "execution_count": 33,
     "metadata": {},
     "output_type": "execute_result"
    }
   ],
   "source": [
    "100 - round(event_new/event_total)"
   ]
  },
  {
   "cell_type": "code",
   "execution_count": 34,
   "metadata": {},
   "outputs": [],
   "source": [
    "unique_user_new = data_new.userid.nunique()"
   ]
  },
  {
   "cell_type": "code",
   "execution_count": 35,
   "metadata": {},
   "outputs": [
    {
     "data": {
      "text/plain": [
       "17"
      ]
     },
     "execution_count": 35,
     "metadata": {},
     "output_type": "execute_result"
    }
   ],
   "source": [
    "unique_user - unique_user_new"
   ]
  },
  {
   "cell_type": "code",
   "execution_count": 36,
   "metadata": {},
   "outputs": [
    {
     "data": {
      "text/plain": [
       "99"
      ]
     },
     "execution_count": 36,
     "metadata": {},
     "output_type": "execute_result"
    }
   ],
   "source": [
    "100 - round(unique_user_new/unique_user)"
   ]
  },
  {
   "cell_type": "markdown",
   "metadata": {},
   "source": [
    "Мы потеряли около 3 тысяч событий и 17 пользователей, то есть не более 1 % данных. Посмотрим располагаем ли мы данными из всех трёх групп"
   ]
  },
  {
   "cell_type": "code",
   "execution_count": 37,
   "metadata": {},
   "outputs": [
    {
     "data": {
      "text/plain": [
       "group\n",
       "246    2484\n",
       "247    2513\n",
       "248    2537\n",
       "Name: userid, dtype: int64"
      ]
     },
     "execution_count": 37,
     "metadata": {},
     "output_type": "execute_result"
    }
   ],
   "source": [
    "data_new.groupby('group')['userid'].agg('nunique')"
   ]
  },
  {
   "cell_type": "markdown",
   "metadata": {},
   "source": [
    "Данные есть из всех трёх групп, количество участников отличается, рассмотрим этот момент в дальнейшем исследовании"
   ]
  },
  {
   "cell_type": "markdown",
   "metadata": {},
   "source": [
    "### Изучение воронки событий"
   ]
  },
  {
   "cell_type": "markdown",
   "metadata": {},
   "source": [
    "Плсмотрим какие события у нас есть в логах"
   ]
  },
  {
   "cell_type": "code",
   "execution_count": 38,
   "metadata": {},
   "outputs": [
    {
     "data": {
      "text/plain": [
       "array(['Tutorial', 'MainScreenAppear', 'OffersScreenAppear',\n",
       "       'CartScreenAppear', 'PaymentScreenSuccessful'], dtype=object)"
      ]
     },
     "execution_count": 38,
     "metadata": {},
     "output_type": "execute_result"
    }
   ],
   "source": [
    "data_new.event.unique()"
   ]
  },
  {
   "cell_type": "markdown",
   "metadata": {},
   "source": [
    "У нас есть следующие события:\n",
    "- `Tutorial`(руководство пользователя);\n",
    "- `MainScreenAppear` (просмотр главного экрана);\n",
    "- `OffersScreenAppear` (просмотр предложения);\n",
    "- `CartScreenAppear` (введение данных карты);\n",
    "- `PaymentScreenSuccessful` (окно успешной оплаты)"
   ]
  },
  {
   "cell_type": "code",
   "execution_count": 39,
   "metadata": {},
   "outputs": [
    {
     "data": {
      "text/plain": [
       "MainScreenAppear           117328\n",
       "OffersScreenAppear          46333\n",
       "CartScreenAppear            42303\n",
       "PaymentScreenSuccessful     33918\n",
       "Tutorial                     1005\n",
       "Name: event, dtype: int64"
      ]
     },
     "execution_count": 39,
     "metadata": {},
     "output_type": "execute_result"
    }
   ],
   "source": [
    "data_new.event.value_counts()"
   ]
  },
  {
   "cell_type": "markdown",
   "metadata": {},
   "source": [
    "Итак, больше всего пользователей совершают просмотр главного экрана, следующим по частоте просмотр страницы с предложением, далее введение данных о банковской карте и наконец страница успешной оплаты. Событие `tutorial` это обучение пользователя работы с сайтом практически не востребовано, поэтому будет логичным исключить данное событие из воронки событий. Проверим сколько событий приходится на одного уникального пользователя, для этого создадим переменную `event_users`, в которой будет распределение уникальных пользователей по событиям и их количество, и создадим индексацию "
   ]
  },
  {
   "cell_type": "code",
   "execution_count": 40,
   "metadata": {},
   "outputs": [],
   "source": [
    "event_users = data_new.groupby('event')['userid'].agg(['count','nunique']).reset_index()\n",
    "event_users.columns =['event_name', 'n_events', 'n_users']"
   ]
  },
  {
   "cell_type": "code",
   "execution_count": 41,
   "metadata": {
    "scrolled": true
   },
   "outputs": [
    {
     "data": {
      "text/html": [
       "<div>\n",
       "<style scoped>\n",
       "    .dataframe tbody tr th:only-of-type {\n",
       "        vertical-align: middle;\n",
       "    }\n",
       "\n",
       "    .dataframe tbody tr th {\n",
       "        vertical-align: top;\n",
       "    }\n",
       "\n",
       "    .dataframe thead th {\n",
       "        text-align: right;\n",
       "    }\n",
       "</style>\n",
       "<table border=\"1\" class=\"dataframe\">\n",
       "  <thead>\n",
       "    <tr style=\"text-align: right;\">\n",
       "      <th></th>\n",
       "      <th>event_name</th>\n",
       "      <th>n_events</th>\n",
       "      <th>n_users</th>\n",
       "    </tr>\n",
       "  </thead>\n",
       "  <tbody>\n",
       "    <tr>\n",
       "      <th>0</th>\n",
       "      <td>CartScreenAppear</td>\n",
       "      <td>42303</td>\n",
       "      <td>3734</td>\n",
       "    </tr>\n",
       "    <tr>\n",
       "      <th>1</th>\n",
       "      <td>MainScreenAppear</td>\n",
       "      <td>117328</td>\n",
       "      <td>7419</td>\n",
       "    </tr>\n",
       "    <tr>\n",
       "      <th>2</th>\n",
       "      <td>OffersScreenAppear</td>\n",
       "      <td>46333</td>\n",
       "      <td>4593</td>\n",
       "    </tr>\n",
       "    <tr>\n",
       "      <th>3</th>\n",
       "      <td>PaymentScreenSuccessful</td>\n",
       "      <td>33918</td>\n",
       "      <td>3539</td>\n",
       "    </tr>\n",
       "    <tr>\n",
       "      <th>4</th>\n",
       "      <td>Tutorial</td>\n",
       "      <td>1005</td>\n",
       "      <td>840</td>\n",
       "    </tr>\n",
       "  </tbody>\n",
       "</table>\n",
       "</div>"
      ],
      "text/plain": [
       "                event_name  n_events  n_users\n",
       "0         CartScreenAppear     42303     3734\n",
       "1         MainScreenAppear    117328     7419\n",
       "2       OffersScreenAppear     46333     4593\n",
       "3  PaymentScreenSuccessful     33918     3539\n",
       "4                 Tutorial      1005      840"
      ]
     },
     "execution_count": 41,
     "metadata": {},
     "output_type": "execute_result"
    }
   ],
   "source": [
    "event_users"
   ]
  },
  {
   "cell_type": "markdown",
   "metadata": {},
   "source": [
    "Посмотрим сколько пользователей совершили хотя бы одно событие, возьмем ситуацию, когда у нас пользователи сначала переходят на главный экран, а потом уже совершают все остальные действия"
   ]
  },
  {
   "cell_type": "code",
   "execution_count": 42,
   "metadata": {},
   "outputs": [
    {
     "data": {
      "text/plain": [
       "3734"
      ]
     },
     "execution_count": 42,
     "metadata": {},
     "output_type": "execute_result"
    }
   ],
   "source": [
    "event_users['n_users'][0]"
   ]
  },
  {
   "cell_type": "code",
   "execution_count": 43,
   "metadata": {},
   "outputs": [
    {
     "data": {
      "text/plain": [
       "7534"
      ]
     },
     "execution_count": 43,
     "metadata": {},
     "output_type": "execute_result"
    }
   ],
   "source": [
    "unique_user_new"
   ]
  },
  {
   "cell_type": "code",
   "execution_count": 44,
   "metadata": {},
   "outputs": [
    {
     "data": {
      "text/plain": [
       "98"
      ]
     },
     "execution_count": 44,
     "metadata": {},
     "output_type": "execute_result"
    }
   ],
   "source": [
    "100 - round(unique_user_new / event_users['n_users'][0])"
   ]
  },
  {
   "cell_type": "markdown",
   "metadata": {},
   "source": [
    "То есть 99 % пользователей совершают действия сразу начиная с посещения главного экрана, скорее всего 1 % пользователей начинают со знакомства с руководством пользователя и понимают что это слишком сложно и перестают взаимодействовать с платформой, поэтому принято решение удалить их из воронки продаж, что мы и сделали в переменной `event_users_w`"
   ]
  },
  {
   "cell_type": "code",
   "execution_count": 45,
   "metadata": {},
   "outputs": [],
   "source": [
    "event_users_w = event_users[event_users['event_name'] != 'Tutorial']\\\n",
    ".sort_values(by = ['n_events', 'n_users'], ascending = False)"
   ]
  },
  {
   "cell_type": "code",
   "execution_count": 46,
   "metadata": {},
   "outputs": [
    {
     "data": {
      "text/html": [
       "<div>\n",
       "<style scoped>\n",
       "    .dataframe tbody tr th:only-of-type {\n",
       "        vertical-align: middle;\n",
       "    }\n",
       "\n",
       "    .dataframe tbody tr th {\n",
       "        vertical-align: top;\n",
       "    }\n",
       "\n",
       "    .dataframe thead th {\n",
       "        text-align: right;\n",
       "    }\n",
       "</style>\n",
       "<table border=\"1\" class=\"dataframe\">\n",
       "  <thead>\n",
       "    <tr style=\"text-align: right;\">\n",
       "      <th></th>\n",
       "      <th>event_name</th>\n",
       "      <th>n_events</th>\n",
       "      <th>n_users</th>\n",
       "    </tr>\n",
       "  </thead>\n",
       "  <tbody>\n",
       "    <tr>\n",
       "      <th>1</th>\n",
       "      <td>MainScreenAppear</td>\n",
       "      <td>117328</td>\n",
       "      <td>7419</td>\n",
       "    </tr>\n",
       "    <tr>\n",
       "      <th>2</th>\n",
       "      <td>OffersScreenAppear</td>\n",
       "      <td>46333</td>\n",
       "      <td>4593</td>\n",
       "    </tr>\n",
       "    <tr>\n",
       "      <th>0</th>\n",
       "      <td>CartScreenAppear</td>\n",
       "      <td>42303</td>\n",
       "      <td>3734</td>\n",
       "    </tr>\n",
       "    <tr>\n",
       "      <th>3</th>\n",
       "      <td>PaymentScreenSuccessful</td>\n",
       "      <td>33918</td>\n",
       "      <td>3539</td>\n",
       "    </tr>\n",
       "  </tbody>\n",
       "</table>\n",
       "</div>"
      ],
      "text/plain": [
       "                event_name  n_events  n_users\n",
       "1         MainScreenAppear    117328     7419\n",
       "2       OffersScreenAppear     46333     4593\n",
       "0         CartScreenAppear     42303     3734\n",
       "3  PaymentScreenSuccessful     33918     3539"
      ]
     },
     "execution_count": 46,
     "metadata": {},
     "output_type": "execute_result"
    }
   ],
   "source": [
    "event_users_w"
   ]
  },
  {
   "cell_type": "markdown",
   "metadata": {},
   "source": [
    "По действиям, предположительно, пользователи посещают главную страницу - просматривают предложения - далее принимают решения о покупке (вводят данные карты) - оплачивают товар, но существует и другой путь, пропуская посещение главного экрана и, начиная сразу с просмотра страниц с предложениями"
   ]
  },
  {
   "cell_type": "code",
   "execution_count": 47,
   "metadata": {},
   "outputs": [
    {
     "data": {
      "image/png": "[encoded data removed]",
      "text/plain": [
       "<Figure size 1080x360 with 2 Axes>"
      ]
     },
     "metadata": {
      "needs_background": "light"
     },
     "output_type": "display_data"
    }
   ],
   "source": [
    "fig, axes = plt.subplots(1, 2)\n",
    "event_users_w.plot(kind = 'line', x = 'event_name', y = 'n_users',\\\n",
    "                   title = 'Переход пользователей с одного шага на другой', ax = axes[1]);\n",
    "event_users_w.plot(kind = 'barh', x = 'event_name', y = 'n_users', figsize = (15,5),\\\n",
    "                   title = 'Переход пользователей с одного шага на другой', ax = axes[0]);"
   ]
  },
  {
   "cell_type": "markdown",
   "metadata": {},
   "source": [
    "Наши предположения по действиям пользователей можно проследить на графиках, наибольшее количество пользователей на событии - посещение главной страницы, а наименьшее - на успешном оформлении заказа.\n",
    "\n",
    "Посмотрим какой процент пользователей \"отваливается\" при переходе с шага на шаг. Для этого скопируем датафрейм `event_user_w` в переменную `users` и посчитаем первоначаьный процент пользователей на каждом шагу, процент потери при переходе с шага на шаг, процент оставшихся пользователей, их положим в переменные `per`, `new_step` и `alive` соответственно"
   ]
  },
  {
   "cell_type": "code",
   "execution_count": 48,
   "metadata": {},
   "outputs": [],
   "source": [
    "users = event_users_w.copy()"
   ]
  },
  {
   "cell_type": "code",
   "execution_count": 49,
   "metadata": {},
   "outputs": [],
   "source": [
    "users['per'] = round(users['n_users'].div(unique_user_new) *100,2)\n",
    "users['new_step'] = round(users['n_users'] / users['n_users'].shift() *100, 2)\n",
    "users['alive'] = 100 - users['new_step']"
   ]
  },
  {
   "cell_type": "code",
   "execution_count": 50,
   "metadata": {},
   "outputs": [
    {
     "data": {
      "text/html": [
       "<div>\n",
       "<style scoped>\n",
       "    .dataframe tbody tr th:only-of-type {\n",
       "        vertical-align: middle;\n",
       "    }\n",
       "\n",
       "    .dataframe tbody tr th {\n",
       "        vertical-align: top;\n",
       "    }\n",
       "\n",
       "    .dataframe thead th {\n",
       "        text-align: right;\n",
       "    }\n",
       "</style>\n",
       "<table border=\"1\" class=\"dataframe\">\n",
       "  <thead>\n",
       "    <tr style=\"text-align: right;\">\n",
       "      <th></th>\n",
       "      <th>event_name</th>\n",
       "      <th>n_events</th>\n",
       "      <th>n_users</th>\n",
       "      <th>per</th>\n",
       "      <th>new_step</th>\n",
       "      <th>alive</th>\n",
       "    </tr>\n",
       "  </thead>\n",
       "  <tbody>\n",
       "    <tr>\n",
       "      <th>1</th>\n",
       "      <td>MainScreenAppear</td>\n",
       "      <td>117328</td>\n",
       "      <td>7419</td>\n",
       "      <td>98.47</td>\n",
       "      <td>NaN</td>\n",
       "      <td>NaN</td>\n",
       "    </tr>\n",
       "    <tr>\n",
       "      <th>2</th>\n",
       "      <td>OffersScreenAppear</td>\n",
       "      <td>46333</td>\n",
       "      <td>4593</td>\n",
       "      <td>60.96</td>\n",
       "      <td>61.91</td>\n",
       "      <td>38.09</td>\n",
       "    </tr>\n",
       "    <tr>\n",
       "      <th>0</th>\n",
       "      <td>CartScreenAppear</td>\n",
       "      <td>42303</td>\n",
       "      <td>3734</td>\n",
       "      <td>49.56</td>\n",
       "      <td>81.30</td>\n",
       "      <td>18.70</td>\n",
       "    </tr>\n",
       "    <tr>\n",
       "      <th>3</th>\n",
       "      <td>PaymentScreenSuccessful</td>\n",
       "      <td>33918</td>\n",
       "      <td>3539</td>\n",
       "      <td>46.97</td>\n",
       "      <td>94.78</td>\n",
       "      <td>5.22</td>\n",
       "    </tr>\n",
       "  </tbody>\n",
       "</table>\n",
       "</div>"
      ],
      "text/plain": [
       "                event_name  n_events  n_users    per  new_step  alive\n",
       "1         MainScreenAppear    117328     7419  98.47       NaN    NaN\n",
       "2       OffersScreenAppear     46333     4593  60.96     61.91  38.09\n",
       "0         CartScreenAppear     42303     3734  49.56     81.30  18.70\n",
       "3  PaymentScreenSuccessful     33918     3539  46.97     94.78   5.22"
      ]
     },
     "execution_count": 50,
     "metadata": {},
     "output_type": "execute_result"
    }
   ],
   "source": [
    "users"
   ]
  },
  {
   "cell_type": "markdown",
   "metadata": {},
   "source": [
    "Больше всего пользователей мы теряем на 2 шаге (почти 62 %) на переходе со страницы основного экрана на страницу предложения, из причин могу предположить, не цепляющий интерфейс или не интересная информация на главном экране, которая не подталкивает пользователя сделать выбор в пользу того или иного товара"
   ]
  },
  {
   "cell_type": "markdown",
   "metadata": {},
   "source": [
    "Посмотрим какая доля пользователей доходит от первого события до оплаты, для этого мы пользователей с оплаты поделим на пользователей с первого события и умножим на 100"
   ]
  },
  {
   "cell_type": "code",
   "execution_count": 51,
   "metadata": {},
   "outputs": [
    {
     "data": {
      "text/plain": [
       "94.78"
      ]
     },
     "execution_count": 51,
     "metadata": {},
     "output_type": "execute_result"
    }
   ],
   "source": [
    "round(event_users_w['n_users'][3] / event_users_w['n_users'][0] * 100, 2)"
   ]
  },
  {
   "cell_type": "markdown",
   "metadata": {},
   "source": [
    "47.7 % пользователей доходит от первого шага до оплаты, посмотрим на результаты эксперимента, может там мы найдем разгадку как увеличить эту цифру"
   ]
  },
  {
   "cell_type": "markdown",
   "metadata": {},
   "source": [
    "### Изучение результатов эксперимента"
   ]
  },
  {
   "cell_type": "markdown",
   "metadata": {},
   "source": [
    "Посмотрим сколько пользователей в каждой экспериментальной группе"
   ]
  },
  {
   "cell_type": "code",
   "execution_count": 52,
   "metadata": {},
   "outputs": [],
   "source": [
    "data_new = data_new.query('event != \"Tutorial\"')"
   ]
  },
  {
   "cell_type": "code",
   "execution_count": 53,
   "metadata": {},
   "outputs": [],
   "source": [
    "users_total = data_new.groupby('group')['userid'].agg('nunique')"
   ]
  },
  {
   "cell_type": "code",
   "execution_count": 54,
   "metadata": {
    "scrolled": true
   },
   "outputs": [
    {
     "data": {
      "text/plain": [
       "group\n",
       "246    2483\n",
       "247    2512\n",
       "248    2535\n",
       "Name: userid, dtype: int64"
      ]
     },
     "execution_count": 54,
     "metadata": {},
     "output_type": "execute_result"
    }
   ],
   "source": [
    "users_total"
   ]
  },
  {
   "cell_type": "markdown",
   "metadata": {},
   "source": [
    "Проверим пользователей, которые могли участвовать в двух или нескольких группах одновременно"
   ]
  },
  {
   "cell_type": "code",
   "execution_count": 55,
   "metadata": {},
   "outputs": [
    {
     "data": {
      "text/plain": [
       "group    0\n",
       "dtype: int64"
      ]
     },
     "execution_count": 55,
     "metadata": {},
     "output_type": "execute_result"
    }
   ],
   "source": [
    "data_new.groupby('userid').agg({'group':'nunique'}).query('group > 1').count()"
   ]
  },
  {
   "cell_type": "markdown",
   "metadata": {},
   "source": [
    "Похоже, что у нас честный эксперимент и пользователи участвуют только в одной группе"
   ]
  },
  {
   "cell_type": "markdown",
   "metadata": {},
   "source": [
    "Выведем только те столбцы, с которыми мы будем работать и создадим сводную таблицу по этим данным, также добавим столбец `total`, в котором посчитаем сколько всего gjkmpjdfntktq в каждой из групп"
   ]
  },
  {
   "cell_type": "code",
   "execution_count": 56,
   "metadata": {},
   "outputs": [],
   "source": [
    "data_new_3 = data_new[['event','userid','group']]"
   ]
  },
  {
   "cell_type": "code",
   "execution_count": 57,
   "metadata": {},
   "outputs": [
    {
     "name": "stderr",
     "output_type": "stream",
     "text": [
      "/tmp/ipykernel_49/2669507418.py:1: SettingWithCopyWarning: \n",
      "A value is trying to be set on a copy of a slice from a DataFrame.\n",
      "Try using .loc[row_indexer,col_indexer] = value instead\n",
      "\n",
      "See the caveats in the documentation: https://pandas.pydata.org/pandas-docs/stable/user_guide/indexing.html#returning-a-view-versus-a-copy\n",
      "  data_new_3['total'] = data_new_3.groupby('group')['userid'].transform('nunique')\n"
     ]
    }
   ],
   "source": [
    "data_new_3['total'] = data_new_3.groupby('group')['userid'].transform('nunique')"
   ]
  },
  {
   "cell_type": "code",
   "execution_count": 58,
   "metadata": {},
   "outputs": [
    {
     "data": {
      "text/html": [
       "<div>\n",
       "<style scoped>\n",
       "    .dataframe tbody tr th:only-of-type {\n",
       "        vertical-align: middle;\n",
       "    }\n",
       "\n",
       "    .dataframe tbody tr th {\n",
       "        vertical-align: top;\n",
       "    }\n",
       "\n",
       "    .dataframe thead th {\n",
       "        text-align: right;\n",
       "    }\n",
       "</style>\n",
       "<table border=\"1\" class=\"dataframe\">\n",
       "  <thead>\n",
       "    <tr style=\"text-align: right;\">\n",
       "      <th></th>\n",
       "      <th>event</th>\n",
       "      <th>userid</th>\n",
       "      <th>group</th>\n",
       "      <th>total</th>\n",
       "    </tr>\n",
       "  </thead>\n",
       "  <tbody>\n",
       "    <tr>\n",
       "      <th>2829</th>\n",
       "      <td>MainScreenAppear</td>\n",
       "      <td>3737462046622621720</td>\n",
       "      <td>246</td>\n",
       "      <td>2483</td>\n",
       "    </tr>\n",
       "    <tr>\n",
       "      <th>2830</th>\n",
       "      <td>MainScreenAppear</td>\n",
       "      <td>3737462046622621720</td>\n",
       "      <td>246</td>\n",
       "      <td>2483</td>\n",
       "    </tr>\n",
       "    <tr>\n",
       "      <th>2831</th>\n",
       "      <td>OffersScreenAppear</td>\n",
       "      <td>3737462046622621720</td>\n",
       "      <td>246</td>\n",
       "      <td>2483</td>\n",
       "    </tr>\n",
       "    <tr>\n",
       "      <th>2832</th>\n",
       "      <td>MainScreenAppear</td>\n",
       "      <td>1433840883824088890</td>\n",
       "      <td>247</td>\n",
       "      <td>2512</td>\n",
       "    </tr>\n",
       "    <tr>\n",
       "      <th>2833</th>\n",
       "      <td>MainScreenAppear</td>\n",
       "      <td>4899590676214355127</td>\n",
       "      <td>247</td>\n",
       "      <td>2512</td>\n",
       "    </tr>\n",
       "  </tbody>\n",
       "</table>\n",
       "</div>"
      ],
      "text/plain": [
       "                   event               userid  group  total\n",
       "2829    MainScreenAppear  3737462046622621720    246   2483\n",
       "2830    MainScreenAppear  3737462046622621720    246   2483\n",
       "2831  OffersScreenAppear  3737462046622621720    246   2483\n",
       "2832    MainScreenAppear  1433840883824088890    247   2512\n",
       "2833    MainScreenAppear  4899590676214355127    247   2512"
      ]
     },
     "execution_count": 58,
     "metadata": {},
     "output_type": "execute_result"
    }
   ],
   "source": [
    "data_new_3.head()"
   ]
  },
  {
   "cell_type": "markdown",
   "metadata": {},
   "source": [
    "Создадим датафрейм с числом пользователей по каждому событию в разбиении на группы"
   ]
  },
  {
   "cell_type": "code",
   "execution_count": 59,
   "metadata": {},
   "outputs": [
    {
     "data": {
      "text/html": [
       "<div>\n",
       "<style scoped>\n",
       "    .dataframe tbody tr th:only-of-type {\n",
       "        vertical-align: middle;\n",
       "    }\n",
       "\n",
       "    .dataframe tbody tr th {\n",
       "        vertical-align: top;\n",
       "    }\n",
       "\n",
       "    .dataframe thead th {\n",
       "        text-align: right;\n",
       "    }\n",
       "</style>\n",
       "<table border=\"1\" class=\"dataframe\">\n",
       "  <thead>\n",
       "    <tr style=\"text-align: right;\">\n",
       "      <th>group</th>\n",
       "      <th>246</th>\n",
       "      <th>247</th>\n",
       "      <th>248</th>\n",
       "      <th>246+247</th>\n",
       "    </tr>\n",
       "    <tr>\n",
       "      <th>event</th>\n",
       "      <th></th>\n",
       "      <th></th>\n",
       "      <th></th>\n",
       "      <th></th>\n",
       "    </tr>\n",
       "  </thead>\n",
       "  <tbody>\n",
       "    <tr>\n",
       "      <th>MainScreenAppear</th>\n",
       "      <td>2450</td>\n",
       "      <td>2476</td>\n",
       "      <td>2493</td>\n",
       "      <td>4926</td>\n",
       "    </tr>\n",
       "    <tr>\n",
       "      <th>OffersScreenAppear</th>\n",
       "      <td>1542</td>\n",
       "      <td>1520</td>\n",
       "      <td>1531</td>\n",
       "      <td>3062</td>\n",
       "    </tr>\n",
       "    <tr>\n",
       "      <th>CartScreenAppear</th>\n",
       "      <td>1266</td>\n",
       "      <td>1238</td>\n",
       "      <td>1230</td>\n",
       "      <td>2504</td>\n",
       "    </tr>\n",
       "    <tr>\n",
       "      <th>PaymentScreenSuccessful</th>\n",
       "      <td>1200</td>\n",
       "      <td>1158</td>\n",
       "      <td>1181</td>\n",
       "      <td>2358</td>\n",
       "    </tr>\n",
       "  </tbody>\n",
       "</table>\n",
       "</div>"
      ],
      "text/plain": [
       "group                     246   247   248  246+247\n",
       "event                                             \n",
       "MainScreenAppear         2450  2476  2493     4926\n",
       "OffersScreenAppear       1542  1520  1531     3062\n",
       "CartScreenAppear         1266  1238  1230     2504\n",
       "PaymentScreenSuccessful  1200  1158  1181     2358"
      ]
     },
     "execution_count": 59,
     "metadata": {},
     "output_type": "execute_result"
    }
   ],
   "source": [
    "event_groups = data_new_3.pivot_table(index='event', columns='group',values='userid',aggfunc='nunique')\\\n",
    "                       .sort_values(246,ascending=False)\n",
    "event_groups['246+247'] = event_groups[246] + event_groups[247]\n",
    "\n",
    "event_groups"
   ]
  },
  {
   "cell_type": "markdown",
   "metadata": {},
   "source": [
    "Также для эксперимента, нам понадобится таблица с суммарным количеством пользователей по группам"
   ]
  },
  {
   "cell_type": "code",
   "execution_count": 68,
   "metadata": {},
   "outputs": [
    {
     "data": {
      "text/html": [
       "<div>\n",
       "<style scoped>\n",
       "    .dataframe tbody tr th:only-of-type {\n",
       "        vertical-align: middle;\n",
       "    }\n",
       "\n",
       "    .dataframe tbody tr th {\n",
       "        vertical-align: top;\n",
       "    }\n",
       "\n",
       "    .dataframe thead th {\n",
       "        text-align: right;\n",
       "    }\n",
       "</style>\n",
       "<table border=\"1\" class=\"dataframe\">\n",
       "  <thead>\n",
       "    <tr style=\"text-align: right;\">\n",
       "      <th></th>\n",
       "      <th>userid</th>\n",
       "    </tr>\n",
       "    <tr>\n",
       "      <th>group</th>\n",
       "      <th></th>\n",
       "    </tr>\n",
       "  </thead>\n",
       "  <tbody>\n",
       "    <tr>\n",
       "      <th>246</th>\n",
       "      <td>2483</td>\n",
       "    </tr>\n",
       "    <tr>\n",
       "      <th>247</th>\n",
       "      <td>2512</td>\n",
       "    </tr>\n",
       "    <tr>\n",
       "      <th>248</th>\n",
       "      <td>2535</td>\n",
       "    </tr>\n",
       "    <tr>\n",
       "      <th>246+247</th>\n",
       "      <td>4997</td>\n",
       "    </tr>\n",
       "  </tbody>\n",
       "</table>\n",
       "</div>"
      ],
      "text/plain": [
       "         userid\n",
       "group          \n",
       "246        2483\n",
       "247        2512\n",
       "248        2535\n",
       "246+247    4997"
      ]
     },
     "execution_count": 68,
     "metadata": {},
     "output_type": "execute_result"
    }
   ],
   "source": [
    "users = data_new_3.groupby('group')['userid'].nunique().reset_index()\n",
    "users.loc[3] = ['246+247', 4997]\n",
    "users = users.set_index(users.columns[0])\n",
    "users"
   ]
  },
  {
   "cell_type": "markdown",
   "metadata": {},
   "source": [
    "Посмотрим распределение пользователей по группам на основании круговой диаграмме, где отдельным сектором выделена экспериментальная группа"
   ]
  },
  {
   "cell_type": "code",
   "execution_count": 60,
   "metadata": {},
   "outputs": [],
   "source": [
    "group = data_new_3.groupby('group')['userid'].agg('nunique')"
   ]
  },
  {
   "cell_type": "code",
   "execution_count": 61,
   "metadata": {
    "scrolled": false
   },
   "outputs": [
    {
     "data": {
      "image/png": "[encoded data removed]",
      "text/plain": [
       "<Figure size 504x504 with 1 Axes>"
      ]
     },
     "metadata": {},
     "output_type": "display_data"
    }
   ],
   "source": [
    "my_explode=(0.0,0.0,0.1)\n",
    "group.plot(kind = 'pie', autopct='%1.0f%%', figsize=(7,7), explode=my_explode,\\\n",
    "          title = 'Распределение пользователей по группам');"
   ]
  },
  {
   "cell_type": "markdown",
   "metadata": {},
   "source": [
    "Можно приступать к написанию функции для Z теста"
   ]
  },
  {
   "cell_type": "code",
   "execution_count": 63,
   "metadata": {},
   "outputs": [],
   "source": [
    "alpha = .05 # критический уровень статистической значимости\n",
    "def z_test(exp1, exp2, event, alpha): \n",
    "    p1_event = event_groups.loc[event, exp1] \n",
    "    p2_event = event_groups.loc[event, exp2] \n",
    "    p1_users = users.loc[exp1, 'userid'] \n",
    "    p2_users = users.loc[exp2, 'userid'] \n",
    "    p1 = p1_event / p1_users # пропорция успехов в первой группе\n",
    "    p2 = p2_event / p2_users # пропорция успехов во второй группе\n",
    "    difference = p1 - p2 # разница пропорций\n",
    "    p_combined = (p1_event + p2_event) / (p1_users + p2_users) # пропорция успехов в комбинированном датасете\n",
    "    # считаем статистику в ст.отклонениях стандартного нормального распределения\n",
    "    z_value = difference / mth.sqrt(p_combined * (1 - p_combined) * (1 / p1_users + 1 / p2_users))\n",
    "    # задаем стандартное нормальное распределение (среднее 0, ст.отклонение 1)\n",
    "    distr = st.norm(0, 1)\n",
    "    p_value = (1 - distr.cdf(abs(z_value))) * 2\n",
    "    print('Проверка для  {} и {}, событие: {}, p-значение: {p_value:.2f}'.format(exp1, exp2, event, p_value=p_value))\n",
    "    if (p_value < alpha):\n",
    "        print(\"Отвергаем нулевую гипотезу о равенстве конверсии в группах\")\n",
    "    else:\n",
    "        print(\"Не получилось отвергнуть нулевую гипотезу о равенстве конверсии в группах\")"
   ]
  },
  {
   "cell_type": "markdown",
   "metadata": {},
   "source": [
    "Проверим, находят ли статистические критерии разницу между выборками 246 и 247, для этого выполним `Проверку гипотезы о равенстве долей`, используя таблицу `event_groups`"
   ]
  },
  {
   "cell_type": "code",
   "execution_count": 64,
   "metadata": {},
   "outputs": [
    {
     "name": "stdout",
     "output_type": "stream",
     "text": [
      "Проверка для  246 и 247, событие: MainScreenAppear, p-значение: 0.75\n",
      "Не получилось отвергнуть нулевую гипотезу о равенстве конверсии в группах\n",
      "\n",
      "Проверка для  246 и 247, событие: OffersScreenAppear, p-значение: 0.25\n",
      "Не получилось отвергнуть нулевую гипотезу о равенстве конверсии в группах\n",
      "\n",
      "Проверка для  246 и 247, событие: CartScreenAppear, p-значение: 0.23\n",
      "Не получилось отвергнуть нулевую гипотезу о равенстве конверсии в группах\n",
      "\n",
      "Проверка для  246 и 247, событие: PaymentScreenSuccessful, p-значение: 0.11\n",
      "Не получилось отвергнуть нулевую гипотезу о равенстве конверсии в группах\n",
      "\n"
     ]
    }
   ],
   "source": [
    "# Группы 246 и 247\n",
    "for event in event_groups.index:\n",
    "    z_test(246, 247, event, alpha)\n",
    "    print()"
   ]
  },
  {
   "cell_type": "markdown",
   "metadata": {},
   "source": [
    "То же самое проделаем и с данными из других групп"
   ]
  },
  {
   "cell_type": "code",
   "execution_count": 65,
   "metadata": {},
   "outputs": [
    {
     "name": "stdout",
     "output_type": "stream",
     "text": [
      "Проверка для  246 и 248, событие: MainScreenAppear, p-значение: 0.34\n",
      "Не получилось отвергнуть нулевую гипотезу о равенстве конверсии в группах\n",
      "\n",
      "Проверка для  246 и 248, событие: OffersScreenAppear, p-значение: 0.21\n",
      "Не получилось отвергнуть нулевую гипотезу о равенстве конверсии в группах\n",
      "\n",
      "Проверка для  246 и 248, событие: CartScreenAppear, p-значение: 0.08\n",
      "Не получилось отвергнуть нулевую гипотезу о равенстве конверсии в группах\n",
      "\n",
      "Проверка для  246 и 248, событие: PaymentScreenSuccessful, p-значение: 0.22\n",
      "Не получилось отвергнуть нулевую гипотезу о равенстве конверсии в группах\n",
      "\n"
     ]
    }
   ],
   "source": [
    "# Группы 246 и 248\n",
    "for event in event_groups.index:\n",
    "    z_test(246, 248, event, alpha)\n",
    "    print()"
   ]
  },
  {
   "cell_type": "code",
   "execution_count": 66,
   "metadata": {},
   "outputs": [
    {
     "name": "stdout",
     "output_type": "stream",
     "text": [
      "Проверка для  247 и 248, событие: MainScreenAppear, p-значение: 0.52\n",
      "Не получилось отвергнуть нулевую гипотезу о равенстве конверсии в группах\n",
      "\n",
      "Проверка для  247 и 248, событие: OffersScreenAppear, p-значение: 0.93\n",
      "Не получилось отвергнуть нулевую гипотезу о равенстве конверсии в группах\n",
      "\n",
      "Проверка для  247 и 248, событие: CartScreenAppear, p-значение: 0.59\n",
      "Не получилось отвергнуть нулевую гипотезу о равенстве конверсии в группах\n",
      "\n",
      "Проверка для  247 и 248, событие: PaymentScreenSuccessful, p-значение: 0.73\n",
      "Не получилось отвергнуть нулевую гипотезу о равенстве конверсии в группах\n",
      "\n"
     ]
    }
   ],
   "source": [
    "# Группы 247 и 248\n",
    "for event in event_groups.index:\n",
    "    z_test(247, 248, event, alpha)\n",
    "    print()"
   ]
  },
  {
   "cell_type": "code",
   "execution_count": 67,
   "metadata": {},
   "outputs": [
    {
     "name": "stdout",
     "output_type": "stream",
     "text": [
      "Проверка для  246+247 и 248, событие: MainScreenAppear, p-значение: 0.43\n",
      "Не получилось отвергнуть нулевую гипотезу о равенстве конверсии в группах\n",
      "\n",
      "Проверка для  246+247 и 248, событие: OffersScreenAppear, p-значение: 0.46\n",
      "Не получилось отвергнуть нулевую гипотезу о равенстве конверсии в группах\n",
      "\n",
      "Проверка для  246+247 и 248, событие: CartScreenAppear, p-значение: 0.19\n",
      "Не получилось отвергнуть нулевую гипотезу о равенстве конверсии в группах\n",
      "\n",
      "Проверка для  246+247 и 248, событие: PaymentScreenSuccessful, p-значение: 0.62\n",
      "Не получилось отвергнуть нулевую гипотезу о равенстве конверсии в группах\n",
      "\n"
     ]
    }
   ],
   "source": [
    "# Группы 246+247 и 248\n",
    "for event in event_groups.index:\n",
    "    z_test('246+247', 248, event, alpha)\n",
    "    print()"
   ]
  },
  {
   "cell_type": "markdown",
   "metadata": {},
   "source": [
    "На основании проведенных тестов, с уверенностью можно сказать, что поведение пользователей групп не зависят от изменении шрифта приложения, поэтому менять или не менять шрифт решать уже руководству компании, в любом случае прибыль останется на прежднем уровне"
   ]
  }
 ],
 "metadata": {
  "ExecuteTimeLog": [
   {
    "duration": 376,
    "start_time": "2023-01-30T10:40:52.924Z"
   },
   {
    "duration": 454,
    "start_time": "2023-01-30T10:47:01.700Z"
   },
   {
    "duration": 384,
    "start_time": "2023-01-30T10:47:14.069Z"
   },
   {
    "duration": 3,
    "start_time": "2023-01-30T10:47:28.213Z"
   },
   {
    "duration": 3,
    "start_time": "2023-01-30T10:47:43.430Z"
   },
   {
    "duration": 675,
    "start_time": "2023-01-30T10:48:33.720Z"
   },
   {
    "duration": 13,
    "start_time": "2023-01-30T10:48:39.684Z"
   },
   {
    "duration": 93,
    "start_time": "2023-01-30T10:49:06.118Z"
   },
   {
    "duration": 302,
    "start_time": "2023-01-30T10:49:21.773Z"
   },
   {
    "duration": 9,
    "start_time": "2023-01-30T10:49:24.739Z"
   },
   {
    "duration": 643,
    "start_time": "2023-01-30T10:52:36.959Z"
   },
   {
    "duration": 286,
    "start_time": "2023-01-30T10:52:43.069Z"
   },
   {
    "duration": 8,
    "start_time": "2023-01-30T10:52:46.383Z"
   },
   {
    "duration": 266,
    "start_time": "2023-01-30T10:54:03.591Z"
   },
   {
    "duration": 11,
    "start_time": "2023-01-30T10:54:06.130Z"
   },
   {
    "duration": 139,
    "start_time": "2023-01-30T10:54:31.729Z"
   },
   {
    "duration": 10,
    "start_time": "2023-01-30T10:54:34.847Z"
   },
   {
    "duration": 7,
    "start_time": "2023-01-30T10:54:54.858Z"
   },
   {
    "duration": 3,
    "start_time": "2023-01-30T10:55:25.137Z"
   },
   {
    "duration": 55,
    "start_time": "2023-01-30T10:55:48.856Z"
   },
   {
    "duration": 4,
    "start_time": "2023-01-30T10:57:45.848Z"
   },
   {
    "duration": 409,
    "start_time": "2023-01-30T17:11:49.258Z"
   },
   {
    "duration": 420,
    "start_time": "2023-01-30T17:11:49.669Z"
   },
   {
    "duration": 367,
    "start_time": "2023-01-30T17:11:50.091Z"
   },
   {
    "duration": 2,
    "start_time": "2023-01-30T17:11:50.460Z"
   },
   {
    "duration": 4,
    "start_time": "2023-01-30T17:11:50.465Z"
   },
   {
    "duration": 828,
    "start_time": "2023-01-30T17:11:50.470Z"
   },
   {
    "duration": 12,
    "start_time": "2023-01-30T17:11:51.299Z"
   },
   {
    "duration": 3,
    "start_time": "2023-01-30T17:11:51.312Z"
   },
   {
    "duration": 69,
    "start_time": "2023-01-30T17:11:51.316Z"
   },
   {
    "duration": 4,
    "start_time": "2023-01-30T17:11:51.387Z"
   },
   {
    "duration": 97,
    "start_time": "2023-01-30T17:13:14.498Z"
   },
   {
    "duration": 354,
    "start_time": "2023-01-30T17:22:49.001Z"
   },
   {
    "duration": 3,
    "start_time": "2023-01-30T17:26:23.930Z"
   },
   {
    "duration": 198,
    "start_time": "2023-01-30T17:26:26.256Z"
   },
   {
    "duration": 207,
    "start_time": "2023-01-30T17:33:12.980Z"
   },
   {
    "duration": 8,
    "start_time": "2023-01-30T17:38:31.300Z"
   },
   {
    "duration": 200,
    "start_time": "2023-01-30T17:38:35.481Z"
   },
   {
    "duration": 13,
    "start_time": "2023-01-30T17:38:43.558Z"
   },
   {
    "duration": 7,
    "start_time": "2023-01-30T17:39:11.219Z"
   },
   {
    "duration": 14,
    "start_time": "2023-01-30T18:01:16.805Z"
   },
   {
    "duration": 9,
    "start_time": "2023-01-30T18:02:01.496Z"
   },
   {
    "duration": 17,
    "start_time": "2023-01-30T18:02:12.435Z"
   },
   {
    "duration": 420,
    "start_time": "2023-01-31T09:51:09.606Z"
   },
   {
    "duration": 488,
    "start_time": "2023-01-31T09:51:10.029Z"
   },
   {
    "duration": 386,
    "start_time": "2023-01-31T09:51:10.518Z"
   },
   {
    "duration": 3,
    "start_time": "2023-01-31T09:51:10.906Z"
   },
   {
    "duration": 10,
    "start_time": "2023-01-31T09:51:10.910Z"
   },
   {
    "duration": 817,
    "start_time": "2023-01-31T09:51:10.922Z"
   },
   {
    "duration": 12,
    "start_time": "2023-01-31T09:51:11.741Z"
   },
   {
    "duration": 7,
    "start_time": "2023-01-31T09:51:11.754Z"
   },
   {
    "duration": 12,
    "start_time": "2023-01-31T09:51:11.763Z"
   },
   {
    "duration": 14,
    "start_time": "2023-01-31T09:51:11.778Z"
   },
   {
    "duration": 9,
    "start_time": "2023-01-31T09:51:11.794Z"
   },
   {
    "duration": 118,
    "start_time": "2023-01-31T09:51:11.805Z"
   },
   {
    "duration": 4,
    "start_time": "2023-01-31T09:51:11.925Z"
   },
   {
    "duration": 52,
    "start_time": "2023-01-31T09:53:20.056Z"
   },
   {
    "duration": 1091,
    "start_time": "2023-01-31T09:56:15.305Z"
   },
   {
    "duration": 767,
    "start_time": "2023-01-31T10:01:56.643Z"
   },
   {
    "duration": 102,
    "start_time": "2023-01-31T10:02:09.420Z"
   },
   {
    "duration": 13,
    "start_time": "2023-01-31T10:02:22.035Z"
   },
   {
    "duration": 494,
    "start_time": "2023-01-31T10:03:45.509Z"
   },
   {
    "duration": 481,
    "start_time": "2023-01-31T10:03:46.005Z"
   },
   {
    "duration": 272,
    "start_time": "2023-01-31T10:03:46.488Z"
   },
   {
    "duration": 2,
    "start_time": "2023-01-31T10:03:46.763Z"
   },
   {
    "duration": 10,
    "start_time": "2023-01-31T10:03:46.769Z"
   },
   {
    "duration": 233,
    "start_time": "2023-01-31T10:03:46.781Z"
   },
   {
    "duration": 11,
    "start_time": "2023-01-31T10:03:47.016Z"
   },
   {
    "duration": 12,
    "start_time": "2023-01-31T10:03:47.029Z"
   },
   {
    "duration": 24,
    "start_time": "2023-01-31T10:03:47.043Z"
   },
   {
    "duration": 18,
    "start_time": "2023-01-31T10:03:47.070Z"
   },
   {
    "duration": 12,
    "start_time": "2023-01-31T10:03:47.091Z"
   },
   {
    "duration": 89,
    "start_time": "2023-01-31T10:03:47.105Z"
   },
   {
    "duration": 9,
    "start_time": "2023-01-31T10:03:47.196Z"
   },
   {
    "duration": 140,
    "start_time": "2023-01-31T10:03:47.207Z"
   },
   {
    "duration": 4,
    "start_time": "2023-01-31T10:03:47.349Z"
   },
   {
    "duration": 7,
    "start_time": "2023-01-31T10:03:57.060Z"
   },
   {
    "duration": 12,
    "start_time": "2023-01-31T10:03:59.981Z"
   },
   {
    "duration": 454,
    "start_time": "2023-01-31T10:04:12.597Z"
   },
   {
    "duration": 492,
    "start_time": "2023-01-31T10:04:13.053Z"
   },
   {
    "duration": 220,
    "start_time": "2023-01-31T10:04:13.547Z"
   },
   {
    "duration": 3,
    "start_time": "2023-01-31T10:04:13.769Z"
   },
   {
    "duration": 11,
    "start_time": "2023-01-31T10:04:13.774Z"
   },
   {
    "duration": 272,
    "start_time": "2023-01-31T10:04:13.787Z"
   },
   {
    "duration": 12,
    "start_time": "2023-01-31T10:04:14.061Z"
   },
   {
    "duration": 21,
    "start_time": "2023-01-31T10:04:14.075Z"
   },
   {
    "duration": 30,
    "start_time": "2023-01-31T10:04:14.098Z"
   },
   {
    "duration": 21,
    "start_time": "2023-01-31T10:04:14.130Z"
   },
   {
    "duration": 11,
    "start_time": "2023-01-31T10:04:14.154Z"
   },
   {
    "duration": 91,
    "start_time": "2023-01-31T10:04:14.167Z"
   },
   {
    "duration": 16,
    "start_time": "2023-01-31T10:04:14.260Z"
   },
   {
    "duration": 106,
    "start_time": "2023-01-31T10:04:14.279Z"
   },
   {
    "duration": 5,
    "start_time": "2023-01-31T10:04:14.387Z"
   },
   {
    "duration": 6,
    "start_time": "2023-01-31T10:05:31.853Z"
   },
   {
    "duration": 9,
    "start_time": "2023-01-31T10:05:36.479Z"
   },
   {
    "duration": 13,
    "start_time": "2023-01-31T10:05:44.611Z"
   },
   {
    "duration": 9,
    "start_time": "2023-01-31T10:05:51.596Z"
   },
   {
    "duration": 107,
    "start_time": "2023-01-31T10:06:43.876Z"
   },
   {
    "duration": 5,
    "start_time": "2023-01-31T10:06:53.261Z"
   },
   {
    "duration": 70,
    "start_time": "2023-01-31T10:09:15.510Z"
   },
   {
    "duration": 57,
    "start_time": "2023-01-31T10:09:49.094Z"
   },
   {
    "duration": 34,
    "start_time": "2023-01-31T10:12:07.671Z"
   },
   {
    "duration": 40,
    "start_time": "2023-01-31T10:12:17.816Z"
   },
   {
    "duration": 52,
    "start_time": "2023-01-31T10:13:00.018Z"
   },
   {
    "duration": 52,
    "start_time": "2023-01-31T10:15:19.313Z"
   },
   {
    "duration": 143,
    "start_time": "2023-01-31T10:17:29.674Z"
   },
   {
    "duration": 24,
    "start_time": "2023-01-31T10:17:33.057Z"
   },
   {
    "duration": 14,
    "start_time": "2023-01-31T10:17:42.354Z"
   },
   {
    "duration": 12,
    "start_time": "2023-01-31T10:17:59.426Z"
   },
   {
    "duration": 47,
    "start_time": "2023-01-31T10:18:03.338Z"
   },
   {
    "duration": 14,
    "start_time": "2023-01-31T10:18:25.435Z"
   },
   {
    "duration": 17,
    "start_time": "2023-01-31T10:18:31.797Z"
   },
   {
    "duration": 24,
    "start_time": "2023-01-31T10:18:34.914Z"
   },
   {
    "duration": 15,
    "start_time": "2023-01-31T10:20:32.411Z"
   },
   {
    "duration": 93,
    "start_time": "2023-01-31T10:20:42.011Z"
   },
   {
    "duration": 120,
    "start_time": "2023-01-31T10:20:52.067Z"
   },
   {
    "duration": 39,
    "start_time": "2023-01-31T10:21:15.716Z"
   },
   {
    "duration": 39,
    "start_time": "2023-01-31T10:22:42.427Z"
   },
   {
    "duration": 9,
    "start_time": "2023-01-31T10:23:51.716Z"
   },
   {
    "duration": 11,
    "start_time": "2023-01-31T10:24:03.701Z"
   },
   {
    "duration": 14,
    "start_time": "2023-01-31T10:24:19.082Z"
   },
   {
    "duration": 13,
    "start_time": "2023-01-31T10:29:47.334Z"
   },
   {
    "duration": 18,
    "start_time": "2023-01-31T10:33:07.155Z"
   },
   {
    "duration": 12,
    "start_time": "2023-01-31T10:33:17.823Z"
   },
   {
    "duration": 8,
    "start_time": "2023-01-31T10:33:28.082Z"
   },
   {
    "duration": 43,
    "start_time": "2023-01-31T10:34:05.441Z"
   },
   {
    "duration": 47,
    "start_time": "2023-01-31T10:34:29.627Z"
   },
   {
    "duration": 35,
    "start_time": "2023-01-31T10:34:37.096Z"
   },
   {
    "duration": 13,
    "start_time": "2023-01-31T10:36:46.914Z"
   },
   {
    "duration": 27,
    "start_time": "2023-01-31T10:37:50.090Z"
   },
   {
    "duration": 58,
    "start_time": "2023-01-31T10:38:17.284Z"
   },
   {
    "duration": 67,
    "start_time": "2023-01-31T10:38:24.906Z"
   },
   {
    "duration": 298,
    "start_time": "2023-01-31T10:39:23.418Z"
   },
   {
    "duration": 215,
    "start_time": "2023-01-31T10:40:02.587Z"
   },
   {
    "duration": 219,
    "start_time": "2023-01-31T10:40:14.723Z"
   },
   {
    "duration": 309,
    "start_time": "2023-01-31T10:44:18.917Z"
   },
   {
    "duration": 231,
    "start_time": "2023-01-31T10:44:30.366Z"
   },
   {
    "duration": 223,
    "start_time": "2023-01-31T10:44:46.288Z"
   },
   {
    "duration": 238,
    "start_time": "2023-01-31T10:45:34.267Z"
   },
   {
    "duration": 225,
    "start_time": "2023-01-31T10:47:00.767Z"
   },
   {
    "duration": 146,
    "start_time": "2023-01-31T10:48:18.839Z"
   },
   {
    "duration": 218,
    "start_time": "2023-01-31T10:48:47.058Z"
   },
   {
    "duration": 358,
    "start_time": "2023-01-31T10:50:47.887Z"
   },
   {
    "duration": 48,
    "start_time": "2023-02-01T09:47:19.558Z"
   },
   {
    "duration": 413,
    "start_time": "2023-02-01T09:47:27.390Z"
   },
   {
    "duration": 436,
    "start_time": "2023-02-01T09:47:27.805Z"
   },
   {
    "duration": 362,
    "start_time": "2023-02-01T09:47:28.243Z"
   },
   {
    "duration": 3,
    "start_time": "2023-02-01T09:47:28.608Z"
   },
   {
    "duration": 6,
    "start_time": "2023-02-01T09:47:28.612Z"
   },
   {
    "duration": 536,
    "start_time": "2023-02-01T09:47:28.620Z"
   },
   {
    "duration": 12,
    "start_time": "2023-02-01T09:47:29.158Z"
   },
   {
    "duration": 4,
    "start_time": "2023-02-01T09:47:29.172Z"
   },
   {
    "duration": 18,
    "start_time": "2023-02-01T09:47:29.178Z"
   },
   {
    "duration": 14,
    "start_time": "2023-02-01T09:47:29.199Z"
   },
   {
    "duration": 12,
    "start_time": "2023-02-01T09:47:29.214Z"
   },
   {
    "duration": 152,
    "start_time": "2023-02-01T09:47:29.227Z"
   },
   {
    "duration": 15,
    "start_time": "2023-02-01T09:47:29.381Z"
   },
   {
    "duration": 23,
    "start_time": "2023-02-01T09:47:29.398Z"
   },
   {
    "duration": 78,
    "start_time": "2023-02-01T09:47:29.423Z"
   },
   {
    "duration": 77,
    "start_time": "2023-02-01T09:47:29.503Z"
   },
   {
    "duration": 28,
    "start_time": "2023-02-01T09:47:29.582Z"
   },
   {
    "duration": 422,
    "start_time": "2023-02-01T09:48:03.163Z"
   },
   {
    "duration": 438,
    "start_time": "2023-02-01T09:48:03.588Z"
   },
   {
    "duration": 206,
    "start_time": "2023-02-01T09:48:04.028Z"
   },
   {
    "duration": 2,
    "start_time": "2023-02-01T09:48:04.236Z"
   },
   {
    "duration": 7,
    "start_time": "2023-02-01T09:48:04.241Z"
   },
   {
    "duration": 212,
    "start_time": "2023-02-01T09:48:04.250Z"
   },
   {
    "duration": 10,
    "start_time": "2023-02-01T09:48:04.464Z"
   },
   {
    "duration": 15,
    "start_time": "2023-02-01T09:48:04.476Z"
   },
   {
    "duration": 9,
    "start_time": "2023-02-01T09:48:04.493Z"
   },
   {
    "duration": 14,
    "start_time": "2023-02-01T09:48:04.504Z"
   },
   {
    "duration": 8,
    "start_time": "2023-02-01T09:48:04.520Z"
   },
   {
    "duration": 140,
    "start_time": "2023-02-01T09:48:04.530Z"
   },
   {
    "duration": 9,
    "start_time": "2023-02-01T09:48:04.672Z"
   },
   {
    "duration": 25,
    "start_time": "2023-02-01T09:48:04.684Z"
   },
   {
    "duration": 58,
    "start_time": "2023-02-01T09:48:04.711Z"
   },
   {
    "duration": 92,
    "start_time": "2023-02-01T09:48:04.771Z"
   },
   {
    "duration": 32,
    "start_time": "2023-02-01T09:48:04.864Z"
   },
   {
    "duration": 37643,
    "start_time": "2023-02-01T09:49:22.150Z"
   },
   {
    "duration": 37455,
    "start_time": "2023-02-01T09:50:08.670Z"
   },
   {
    "duration": 72,
    "start_time": "2023-02-01T09:50:46.127Z"
   },
   {
    "duration": 9,
    "start_time": "2023-02-01T09:51:29.590Z"
   },
   {
    "duration": 37551,
    "start_time": "2023-02-01T10:04:17.121Z"
   },
   {
    "duration": 27,
    "start_time": "2023-02-01T10:04:54.675Z"
   },
   {
    "duration": 10,
    "start_time": "2023-02-01T10:05:15.589Z"
   },
   {
    "duration": 6,
    "start_time": "2023-02-01T10:06:51.954Z"
   },
   {
    "duration": 3,
    "start_time": "2023-02-01T10:07:34.564Z"
   },
   {
    "duration": 4,
    "start_time": "2023-02-01T10:07:55.042Z"
   },
   {
    "duration": 14,
    "start_time": "2023-02-01T10:08:50.502Z"
   },
   {
    "duration": 15,
    "start_time": "2023-02-01T10:10:40.083Z"
   },
   {
    "duration": 7,
    "start_time": "2023-02-01T10:13:32.145Z"
   },
   {
    "duration": 235,
    "start_time": "2023-02-01T10:13:36.941Z"
   },
   {
    "duration": 13,
    "start_time": "2023-02-01T10:21:21.602Z"
   },
   {
    "duration": 10,
    "start_time": "2023-02-01T10:21:37.793Z"
   },
   {
    "duration": 17,
    "start_time": "2023-02-01T10:23:26.090Z"
   },
   {
    "duration": 4,
    "start_time": "2023-02-01T10:23:44.251Z"
   },
   {
    "duration": 4,
    "start_time": "2023-02-01T10:24:12.796Z"
   },
   {
    "duration": 8,
    "start_time": "2023-02-01T10:24:56.724Z"
   },
   {
    "duration": 5,
    "start_time": "2023-02-01T10:25:19.874Z"
   },
   {
    "duration": 4,
    "start_time": "2023-02-01T10:27:43.349Z"
   },
   {
    "duration": 3,
    "start_time": "2023-02-01T10:27:52.043Z"
   },
   {
    "duration": 4,
    "start_time": "2023-02-01T10:28:16.224Z"
   },
   {
    "duration": 3,
    "start_time": "2023-02-01T10:29:06.947Z"
   },
   {
    "duration": 4,
    "start_time": "2023-02-01T10:31:54.846Z"
   },
   {
    "duration": 4,
    "start_time": "2023-02-01T10:32:14.583Z"
   },
   {
    "duration": 5,
    "start_time": "2023-02-01T10:32:45.225Z"
   },
   {
    "duration": 4,
    "start_time": "2023-02-01T10:34:31.274Z"
   },
   {
    "duration": 5,
    "start_time": "2023-02-01T10:34:34.840Z"
   },
   {
    "duration": 112,
    "start_time": "2023-02-01T10:36:07.647Z"
   },
   {
    "duration": 4,
    "start_time": "2023-02-01T10:36:12.624Z"
   },
   {
    "duration": 4,
    "start_time": "2023-02-01T10:36:43.061Z"
   },
   {
    "duration": 4,
    "start_time": "2023-02-01T10:37:53.705Z"
   },
   {
    "duration": 4,
    "start_time": "2023-02-01T10:38:14.146Z"
   },
   {
    "duration": 4,
    "start_time": "2023-02-01T10:38:30.979Z"
   },
   {
    "duration": 4,
    "start_time": "2023-02-01T10:38:42.961Z"
   },
   {
    "duration": 4,
    "start_time": "2023-02-01T10:39:00.899Z"
   },
   {
    "duration": 4,
    "start_time": "2023-02-01T10:39:11.018Z"
   },
   {
    "duration": 11,
    "start_time": "2023-02-01T10:40:53.186Z"
   },
   {
    "duration": 7,
    "start_time": "2023-02-01T10:40:59.878Z"
   },
   {
    "duration": 74,
    "start_time": "2023-02-01T10:42:17.443Z"
   },
   {
    "duration": 35,
    "start_time": "2023-02-01T10:42:35.915Z"
   },
   {
    "duration": 21,
    "start_time": "2023-02-01T10:51:07.192Z"
   },
   {
    "duration": 21,
    "start_time": "2023-02-01T10:57:08.258Z"
   },
   {
    "duration": 421,
    "start_time": "2023-02-02T09:39:11.374Z"
   },
   {
    "duration": 469,
    "start_time": "2023-02-02T09:39:11.797Z"
   },
   {
    "duration": 380,
    "start_time": "2023-02-02T09:39:12.268Z"
   },
   {
    "duration": 3,
    "start_time": "2023-02-02T09:39:12.650Z"
   },
   {
    "duration": 9,
    "start_time": "2023-02-02T09:39:12.654Z"
   },
   {
    "duration": 793,
    "start_time": "2023-02-02T09:39:12.665Z"
   },
   {
    "duration": 12,
    "start_time": "2023-02-02T09:39:13.460Z"
   },
   {
    "duration": 7,
    "start_time": "2023-02-02T09:39:13.474Z"
   },
   {
    "duration": 17,
    "start_time": "2023-02-02T09:39:13.483Z"
   },
   {
    "duration": 14,
    "start_time": "2023-02-02T09:39:13.503Z"
   },
   {
    "duration": 9,
    "start_time": "2023-02-02T09:39:13.520Z"
   },
   {
    "duration": 143,
    "start_time": "2023-02-02T09:39:13.531Z"
   },
   {
    "duration": 10,
    "start_time": "2023-02-02T09:39:13.675Z"
   },
   {
    "duration": 33,
    "start_time": "2023-02-02T09:39:13.686Z"
   },
   {
    "duration": 61,
    "start_time": "2023-02-02T09:39:13.721Z"
   },
   {
    "duration": 86,
    "start_time": "2023-02-02T09:39:13.784Z"
   },
   {
    "duration": 18,
    "start_time": "2023-02-02T09:39:13.872Z"
   },
   {
    "duration": 10,
    "start_time": "2023-02-02T09:39:13.905Z"
   },
   {
    "duration": 24,
    "start_time": "2023-02-02T09:39:13.917Z"
   },
   {
    "duration": 12,
    "start_time": "2023-02-02T09:39:13.943Z"
   },
   {
    "duration": 15,
    "start_time": "2023-02-02T09:39:13.957Z"
   },
   {
    "duration": 33,
    "start_time": "2023-02-02T09:39:13.973Z"
   },
   {
    "duration": 353,
    "start_time": "2023-02-02T09:39:14.007Z"
   },
   {
    "duration": 14,
    "start_time": "2023-02-02T09:39:14.362Z"
   },
   {
    "duration": 16,
    "start_time": "2023-02-02T09:39:14.378Z"
   },
   {
    "duration": 20,
    "start_time": "2023-02-02T09:39:14.395Z"
   },
   {
    "duration": 15,
    "start_time": "2023-02-02T09:39:14.417Z"
   },
   {
    "duration": 9,
    "start_time": "2023-02-02T09:39:14.435Z"
   },
   {
    "duration": 15,
    "start_time": "2023-02-02T09:39:14.445Z"
   },
   {
    "duration": 9,
    "start_time": "2023-02-02T09:39:14.462Z"
   },
   {
    "duration": 24,
    "start_time": "2023-02-02T09:39:14.472Z"
   },
   {
    "duration": 36,
    "start_time": "2023-02-02T09:39:14.497Z"
   },
   {
    "duration": 18,
    "start_time": "2023-02-02T09:39:14.535Z"
   },
   {
    "duration": 21,
    "start_time": "2023-02-02T09:39:14.554Z"
   },
   {
    "duration": 49,
    "start_time": "2023-02-02T09:42:55.280Z"
   },
   {
    "duration": 58,
    "start_time": "2023-02-02T09:44:21.996Z"
   },
   {
    "duration": 47,
    "start_time": "2023-02-02T09:44:34.582Z"
   },
   {
    "duration": 63,
    "start_time": "2023-02-02T09:44:42.864Z"
   },
   {
    "duration": 52,
    "start_time": "2023-02-02T09:44:56.958Z"
   },
   {
    "duration": 4,
    "start_time": "2023-02-02T09:49:32.376Z"
   },
   {
    "duration": 4,
    "start_time": "2023-02-02T09:49:51.400Z"
   },
   {
    "duration": 5,
    "start_time": "2023-02-02T09:50:04.626Z"
   },
   {
    "duration": 4,
    "start_time": "2023-02-02T09:50:25.621Z"
   },
   {
    "duration": 4,
    "start_time": "2023-02-02T09:50:35.724Z"
   },
   {
    "duration": 4,
    "start_time": "2023-02-02T09:51:23.042Z"
   },
   {
    "duration": 4,
    "start_time": "2023-02-02T09:51:44.833Z"
   },
   {
    "duration": 4,
    "start_time": "2023-02-02T09:52:07.191Z"
   },
   {
    "duration": 3,
    "start_time": "2023-02-02T09:52:29.609Z"
   },
   {
    "duration": 4,
    "start_time": "2023-02-02T09:52:44.377Z"
   },
   {
    "duration": 4,
    "start_time": "2023-02-02T09:52:57.667Z"
   },
   {
    "duration": 49,
    "start_time": "2023-02-02T09:58:38.619Z"
   },
   {
    "duration": 5,
    "start_time": "2023-02-02T09:58:51.572Z"
   },
   {
    "duration": 4,
    "start_time": "2023-02-02T09:59:21.196Z"
   },
   {
    "duration": 4,
    "start_time": "2023-02-02T10:16:01.180Z"
   },
   {
    "duration": 4,
    "start_time": "2023-02-02T10:16:12.043Z"
   },
   {
    "duration": 4,
    "start_time": "2023-02-02T10:16:26.300Z"
   },
   {
    "duration": 142,
    "start_time": "2023-02-02T10:26:33.079Z"
   },
   {
    "duration": 42,
    "start_time": "2023-02-02T10:27:47.342Z"
   },
   {
    "duration": 47,
    "start_time": "2023-02-02T10:27:52.938Z"
   },
   {
    "duration": 93,
    "start_time": "2023-02-02T10:27:57.985Z"
   },
   {
    "duration": 145,
    "start_time": "2023-02-02T10:28:19.915Z"
   },
   {
    "duration": 151,
    "start_time": "2023-02-02T10:29:30.534Z"
   },
   {
    "duration": 155,
    "start_time": "2023-02-02T10:29:45.285Z"
   },
   {
    "duration": 154,
    "start_time": "2023-02-02T10:30:23.213Z"
   },
   {
    "duration": 170,
    "start_time": "2023-02-02T10:31:01.093Z"
   },
   {
    "duration": 47,
    "start_time": "2023-02-02T10:32:46.805Z"
   },
   {
    "duration": 142,
    "start_time": "2023-02-02T10:32:52.556Z"
   },
   {
    "duration": 203,
    "start_time": "2023-02-02T10:33:14.025Z"
   },
   {
    "duration": 10,
    "start_time": "2023-02-02T10:35:00.066Z"
   },
   {
    "duration": 710,
    "start_time": "2023-02-02T10:37:19.085Z"
   },
   {
    "duration": 62,
    "start_time": "2023-02-02T10:38:08.622Z"
   },
   {
    "duration": 50,
    "start_time": "2023-02-02T10:38:51.195Z"
   },
   {
    "duration": 4,
    "start_time": "2023-02-02T10:38:54.676Z"
   },
   {
    "duration": 9,
    "start_time": "2023-02-02T10:39:17.299Z"
   },
   {
    "duration": 51,
    "start_time": "2023-02-02T10:41:59.631Z"
   },
   {
    "duration": 7,
    "start_time": "2023-02-02T10:42:03.101Z"
   },
   {
    "duration": 779,
    "start_time": "2023-02-02T10:42:30.655Z"
   },
   {
    "duration": 61,
    "start_time": "2023-02-02T10:45:28.227Z"
   },
   {
    "duration": 56,
    "start_time": "2023-02-02T10:45:42.690Z"
   },
   {
    "duration": 55,
    "start_time": "2023-02-02T10:46:12.934Z"
   },
   {
    "duration": 8,
    "start_time": "2023-02-02T10:46:16.224Z"
   },
   {
    "duration": 800,
    "start_time": "2023-02-02T10:46:30.807Z"
   },
   {
    "duration": 16,
    "start_time": "2023-02-02T10:47:31.330Z"
   },
   {
    "duration": 7,
    "start_time": "2023-02-02T10:48:19.787Z"
   },
   {
    "duration": 5,
    "start_time": "2023-02-02T10:48:35.045Z"
   },
   {
    "duration": 4,
    "start_time": "2023-02-02T10:48:42.248Z"
   },
   {
    "duration": 4,
    "start_time": "2023-02-02T10:49:01.011Z"
   },
   {
    "duration": 4,
    "start_time": "2023-02-02T10:49:15.811Z"
   },
   {
    "duration": 3,
    "start_time": "2023-02-02T10:52:28.818Z"
   },
   {
    "duration": 355,
    "start_time": "2023-02-02T10:52:47.236Z"
   },
   {
    "duration": 268,
    "start_time": "2023-02-02T10:53:02.226Z"
   },
   {
    "duration": 281,
    "start_time": "2023-02-02T10:53:27.318Z"
   },
   {
    "duration": 4,
    "start_time": "2023-02-02T10:54:25.926Z"
   },
   {
    "duration": 274,
    "start_time": "2023-02-02T10:54:28.603Z"
   },
   {
    "duration": 270,
    "start_time": "2023-02-02T10:54:35.535Z"
   },
   {
    "duration": 262,
    "start_time": "2023-02-02T10:54:50.595Z"
   },
   {
    "duration": 366,
    "start_time": "2023-02-02T10:55:05.442Z"
   },
   {
    "duration": 437,
    "start_time": "2023-02-02T10:55:05.809Z"
   },
   {
    "duration": 190,
    "start_time": "2023-02-02T10:55:06.248Z"
   },
   {
    "duration": 3,
    "start_time": "2023-02-02T10:55:06.441Z"
   },
   {
    "duration": 17,
    "start_time": "2023-02-02T10:55:06.446Z"
   },
   {
    "duration": 215,
    "start_time": "2023-02-02T10:55:06.465Z"
   },
   {
    "duration": 22,
    "start_time": "2023-02-02T10:55:06.682Z"
   },
   {
    "duration": 7,
    "start_time": "2023-02-02T10:55:06.706Z"
   },
   {
    "duration": 38,
    "start_time": "2023-02-02T10:55:06.715Z"
   },
   {
    "duration": 16,
    "start_time": "2023-02-02T10:55:06.756Z"
   },
   {
    "duration": 11,
    "start_time": "2023-02-02T10:55:06.774Z"
   },
   {
    "duration": 128,
    "start_time": "2023-02-02T10:55:06.787Z"
   },
   {
    "duration": 9,
    "start_time": "2023-02-02T10:55:06.917Z"
   },
   {
    "duration": 32,
    "start_time": "2023-02-02T10:55:06.928Z"
   },
   {
    "duration": 67,
    "start_time": "2023-02-02T10:55:06.962Z"
   },
   {
    "duration": 97,
    "start_time": "2023-02-02T10:55:07.031Z"
   },
   {
    "duration": 20,
    "start_time": "2023-02-02T10:55:07.130Z"
   },
   {
    "duration": 18,
    "start_time": "2023-02-02T10:55:07.152Z"
   },
   {
    "duration": 37,
    "start_time": "2023-02-02T10:55:07.171Z"
   },
   {
    "duration": 15,
    "start_time": "2023-02-02T10:55:07.210Z"
   },
   {
    "duration": 19,
    "start_time": "2023-02-02T10:55:07.227Z"
   },
   {
    "duration": 14,
    "start_time": "2023-02-02T10:55:07.248Z"
   },
   {
    "duration": 326,
    "start_time": "2023-02-02T10:55:07.264Z"
   },
   {
    "duration": 17,
    "start_time": "2023-02-02T10:55:07.592Z"
   },
   {
    "duration": 10,
    "start_time": "2023-02-02T10:55:07.611Z"
   },
   {
    "duration": 14,
    "start_time": "2023-02-02T10:55:07.623Z"
   },
   {
    "duration": 9,
    "start_time": "2023-02-02T10:55:07.638Z"
   },
   {
    "duration": 13,
    "start_time": "2023-02-02T10:55:07.650Z"
   },
   {
    "duration": 15,
    "start_time": "2023-02-02T10:55:07.665Z"
   },
   {
    "duration": 4,
    "start_time": "2023-02-02T10:55:07.683Z"
   },
   {
    "duration": 5,
    "start_time": "2023-02-02T10:55:07.704Z"
   },
   {
    "duration": 42,
    "start_time": "2023-02-02T10:55:07.710Z"
   },
   {
    "duration": 18,
    "start_time": "2023-02-02T10:55:07.753Z"
   },
   {
    "duration": 45,
    "start_time": "2023-02-02T10:55:07.773Z"
   },
   {
    "duration": 56,
    "start_time": "2023-02-02T10:55:07.820Z"
   },
   {
    "duration": 6,
    "start_time": "2023-02-02T10:55:07.878Z"
   },
   {
    "duration": 20,
    "start_time": "2023-02-02T10:55:07.886Z"
   },
   {
    "duration": 11,
    "start_time": "2023-02-02T10:55:07.907Z"
   },
   {
    "duration": 14,
    "start_time": "2023-02-02T10:55:07.920Z"
   },
   {
    "duration": 9,
    "start_time": "2023-02-02T10:55:07.936Z"
   },
   {
    "duration": 276,
    "start_time": "2023-02-02T10:55:07.946Z"
   },
   {
    "duration": 256,
    "start_time": "2023-02-02T10:55:28.752Z"
   },
   {
    "duration": 277,
    "start_time": "2023-02-02T10:56:02.392Z"
   },
   {
    "duration": 8,
    "start_time": "2023-02-02T10:57:02.960Z"
   },
   {
    "duration": 187,
    "start_time": "2023-02-02T10:57:43.367Z"
   },
   {
    "duration": 155,
    "start_time": "2023-02-02T10:57:55.088Z"
   },
   {
    "duration": 145,
    "start_time": "2023-02-02T11:00:10.634Z"
   },
   {
    "duration": 102,
    "start_time": "2023-02-02T11:00:49.002Z"
   },
   {
    "duration": 149,
    "start_time": "2023-02-02T11:01:00.019Z"
   },
   {
    "duration": 257,
    "start_time": "2023-02-02T11:01:43.124Z"
   },
   {
    "duration": 146,
    "start_time": "2023-02-02T11:02:02.484Z"
   },
   {
    "duration": 169,
    "start_time": "2023-02-02T11:02:14.459Z"
   },
   {
    "duration": 10,
    "start_time": "2023-02-02T11:04:05.733Z"
   },
   {
    "duration": 157,
    "start_time": "2023-02-02T11:04:17.412Z"
   },
   {
    "duration": 146,
    "start_time": "2023-02-02T11:05:03.589Z"
   },
   {
    "duration": 174,
    "start_time": "2023-02-02T11:07:26.132Z"
   },
   {
    "duration": 156,
    "start_time": "2023-02-02T11:10:33.054Z"
   },
   {
    "duration": 283,
    "start_time": "2023-02-02T11:11:50.304Z"
   },
   {
    "duration": 175,
    "start_time": "2023-02-02T11:12:18.599Z"
   },
   {
    "duration": 172,
    "start_time": "2023-02-02T11:12:45.793Z"
   },
   {
    "duration": 96,
    "start_time": "2023-02-02T11:30:41.890Z"
   },
   {
    "duration": 96,
    "start_time": "2023-02-02T11:31:33.156Z"
   },
   {
    "duration": 633,
    "start_time": "2023-02-02T11:33:22.261Z"
   },
   {
    "duration": 400,
    "start_time": "2023-02-02T11:33:58.806Z"
   },
   {
    "duration": 629,
    "start_time": "2023-02-02T11:34:51.317Z"
   },
   {
    "duration": 498,
    "start_time": "2023-02-02T11:35:08.443Z"
   },
   {
    "duration": 482,
    "start_time": "2023-02-02T11:35:17.296Z"
   },
   {
    "duration": 183,
    "start_time": "2023-02-02T11:36:07.428Z"
   },
   {
    "duration": 527,
    "start_time": "2023-02-02T11:36:22.467Z"
   },
   {
    "duration": 298,
    "start_time": "2023-02-02T11:36:43.173Z"
   },
   {
    "duration": 294,
    "start_time": "2023-02-02T11:37:31.228Z"
   },
   {
    "duration": 237,
    "start_time": "2023-02-02T11:37:41.635Z"
   },
   {
    "duration": 286,
    "start_time": "2023-02-02T11:37:51.674Z"
   },
   {
    "duration": 331,
    "start_time": "2023-02-02T11:42:39.427Z"
   },
   {
    "duration": 84,
    "start_time": "2023-02-02T11:57:06.830Z"
   },
   {
    "duration": 47,
    "start_time": "2023-02-02T16:32:00.419Z"
   },
   {
    "duration": 441,
    "start_time": "2023-02-02T16:32:10.169Z"
   },
   {
    "duration": 443,
    "start_time": "2023-02-02T16:32:10.612Z"
   },
   {
    "duration": 354,
    "start_time": "2023-02-02T16:32:11.057Z"
   },
   {
    "duration": 2,
    "start_time": "2023-02-02T16:32:11.413Z"
   },
   {
    "duration": 11,
    "start_time": "2023-02-02T16:32:11.418Z"
   },
   {
    "duration": 147,
    "start_time": "2023-02-02T16:32:11.431Z"
   },
   {
    "duration": 812,
    "start_time": "2023-02-02T16:32:11.580Z"
   },
   {
    "duration": 10,
    "start_time": "2023-02-02T16:32:12.394Z"
   },
   {
    "duration": 3,
    "start_time": "2023-02-02T16:32:12.406Z"
   },
   {
    "duration": 23,
    "start_time": "2023-02-02T16:32:12.410Z"
   },
   {
    "duration": 13,
    "start_time": "2023-02-02T16:32:12.435Z"
   },
   {
    "duration": 8,
    "start_time": "2023-02-02T16:32:12.450Z"
   },
   {
    "duration": 150,
    "start_time": "2023-02-02T16:32:12.460Z"
   },
   {
    "duration": 7,
    "start_time": "2023-02-02T16:32:12.613Z"
   },
   {
    "duration": 38,
    "start_time": "2023-02-02T16:32:12.622Z"
   },
   {
    "duration": 72,
    "start_time": "2023-02-02T16:32:12.661Z"
   },
   {
    "duration": 79,
    "start_time": "2023-02-02T16:32:12.734Z"
   },
   {
    "duration": 19,
    "start_time": "2023-02-02T16:32:12.815Z"
   },
   {
    "duration": 12,
    "start_time": "2023-02-02T16:32:12.836Z"
   },
   {
    "duration": 44,
    "start_time": "2023-02-02T16:32:12.850Z"
   },
   {
    "duration": 9,
    "start_time": "2023-02-02T16:32:12.896Z"
   },
   {
    "duration": 20,
    "start_time": "2023-02-02T16:32:12.906Z"
   },
   {
    "duration": 8,
    "start_time": "2023-02-02T16:32:12.928Z"
   },
   {
    "duration": 368,
    "start_time": "2023-02-02T16:32:12.938Z"
   },
   {
    "duration": 18,
    "start_time": "2023-02-02T16:32:13.308Z"
   },
   {
    "duration": 11,
    "start_time": "2023-02-02T16:32:13.328Z"
   },
   {
    "duration": 12,
    "start_time": "2023-02-02T16:32:13.341Z"
   },
   {
    "duration": 9,
    "start_time": "2023-02-02T16:32:13.356Z"
   },
   {
    "duration": 29,
    "start_time": "2023-02-02T16:32:13.367Z"
   },
   {
    "duration": 11,
    "start_time": "2023-02-02T16:32:13.398Z"
   },
   {
    "duration": 12,
    "start_time": "2023-02-02T16:32:13.411Z"
   },
   {
    "duration": 8,
    "start_time": "2023-02-02T16:32:13.425Z"
   },
   {
    "duration": 37,
    "start_time": "2023-02-02T16:32:13.434Z"
   },
   {
    "duration": 36,
    "start_time": "2023-02-02T16:32:13.472Z"
   },
   {
    "duration": 27,
    "start_time": "2023-02-02T16:32:13.510Z"
   },
   {
    "duration": 75,
    "start_time": "2023-02-02T16:32:13.539Z"
   },
   {
    "duration": 7,
    "start_time": "2023-02-02T16:32:13.616Z"
   },
   {
    "duration": 7,
    "start_time": "2023-02-02T16:32:13.625Z"
   },
   {
    "duration": 7,
    "start_time": "2023-02-02T16:32:13.634Z"
   },
   {
    "duration": 6,
    "start_time": "2023-02-02T16:32:13.643Z"
   },
   {
    "duration": 5,
    "start_time": "2023-02-02T16:32:13.653Z"
   },
   {
    "duration": 35,
    "start_time": "2023-02-02T16:32:13.660Z"
   },
   {
    "duration": 298,
    "start_time": "2023-02-02T16:32:13.697Z"
   },
   {
    "duration": 134,
    "start_time": "2023-02-02T16:32:13.998Z"
   },
   {
    "duration": 7,
    "start_time": "2023-02-02T16:32:47.227Z"
   },
   {
    "duration": 661,
    "start_time": "2023-02-02T16:34:20.701Z"
   },
   {
    "duration": 19,
    "start_time": "2023-02-02T16:35:25.861Z"
   },
   {
    "duration": 17,
    "start_time": "2023-02-02T16:36:33.526Z"
   },
   {
    "duration": 4,
    "start_time": "2023-02-02T16:37:01.664Z"
   },
   {
    "duration": 737,
    "start_time": "2023-02-02T16:37:30.053Z"
   },
   {
    "duration": 666,
    "start_time": "2023-02-02T16:37:40.860Z"
   },
   {
    "duration": 5,
    "start_time": "2023-02-02T16:37:54.804Z"
   },
   {
    "duration": 9,
    "start_time": "2023-02-02T16:38:22.230Z"
   },
   {
    "duration": 5,
    "start_time": "2023-02-02T16:39:06.741Z"
   },
   {
    "duration": 6,
    "start_time": "2023-02-02T16:39:35.558Z"
   },
   {
    "duration": 3,
    "start_time": "2023-02-02T16:39:54.950Z"
   },
   {
    "duration": 9,
    "start_time": "2023-02-02T16:40:36.997Z"
   },
   {
    "duration": 14,
    "start_time": "2023-02-02T16:40:45.061Z"
   },
   {
    "duration": 12,
    "start_time": "2023-02-02T16:40:57.679Z"
   },
   {
    "duration": 5,
    "start_time": "2023-02-02T16:41:36.654Z"
   },
   {
    "duration": 11,
    "start_time": "2023-02-02T16:41:39.664Z"
   },
   {
    "duration": 365,
    "start_time": "2023-02-02T16:41:54.933Z"
   },
   {
    "duration": 435,
    "start_time": "2023-02-02T16:41:55.300Z"
   },
   {
    "duration": 180,
    "start_time": "2023-02-02T16:41:55.736Z"
   },
   {
    "duration": 3,
    "start_time": "2023-02-02T16:41:55.918Z"
   },
   {
    "duration": 6,
    "start_time": "2023-02-02T16:41:55.924Z"
   },
   {
    "duration": 139,
    "start_time": "2023-02-02T16:41:55.932Z"
   },
   {
    "duration": 156,
    "start_time": "2023-02-02T16:41:56.073Z"
   },
   {
    "duration": 12,
    "start_time": "2023-02-02T16:41:56.231Z"
   },
   {
    "duration": 4,
    "start_time": "2023-02-02T16:41:56.244Z"
   },
   {
    "duration": 16,
    "start_time": "2023-02-02T16:41:56.250Z"
   },
   {
    "duration": 32,
    "start_time": "2023-02-02T16:41:56.268Z"
   },
   {
    "duration": 8,
    "start_time": "2023-02-02T16:41:56.301Z"
   },
   {
    "duration": 134,
    "start_time": "2023-02-02T16:41:56.311Z"
   },
   {
    "duration": 9,
    "start_time": "2023-02-02T16:41:56.448Z"
   },
   {
    "duration": 36,
    "start_time": "2023-02-02T16:41:56.458Z"
   },
   {
    "duration": 58,
    "start_time": "2023-02-02T16:41:56.496Z"
   },
   {
    "duration": 87,
    "start_time": "2023-02-02T16:41:56.556Z"
   },
   {
    "duration": 20,
    "start_time": "2023-02-02T16:41:56.645Z"
   },
   {
    "duration": 35,
    "start_time": "2023-02-02T16:41:56.668Z"
   },
   {
    "duration": 30,
    "start_time": "2023-02-02T16:41:56.705Z"
   },
   {
    "duration": 10,
    "start_time": "2023-02-02T16:41:56.737Z"
   },
   {
    "duration": 16,
    "start_time": "2023-02-02T16:41:56.749Z"
   },
   {
    "duration": 28,
    "start_time": "2023-02-02T16:41:56.767Z"
   },
   {
    "duration": 298,
    "start_time": "2023-02-02T16:41:56.797Z"
   },
   {
    "duration": 14,
    "start_time": "2023-02-02T16:41:57.097Z"
   },
   {
    "duration": 10,
    "start_time": "2023-02-02T16:41:57.112Z"
   },
   {
    "duration": 14,
    "start_time": "2023-02-02T16:41:57.123Z"
   },
   {
    "duration": 9,
    "start_time": "2023-02-02T16:41:57.138Z"
   },
   {
    "duration": 9,
    "start_time": "2023-02-02T16:41:57.149Z"
   },
   {
    "duration": 36,
    "start_time": "2023-02-02T16:41:57.159Z"
   },
   {
    "duration": 4,
    "start_time": "2023-02-02T16:41:57.196Z"
   },
   {
    "duration": 6,
    "start_time": "2023-02-02T16:41:57.202Z"
   },
   {
    "duration": 34,
    "start_time": "2023-02-02T16:41:57.210Z"
   },
   {
    "duration": 49,
    "start_time": "2023-02-02T16:41:57.245Z"
   },
   {
    "duration": 22,
    "start_time": "2023-02-02T16:41:57.296Z"
   },
   {
    "duration": 52,
    "start_time": "2023-02-02T16:41:57.320Z"
   },
   {
    "duration": 21,
    "start_time": "2023-02-02T16:41:57.374Z"
   },
   {
    "duration": 8,
    "start_time": "2023-02-02T16:41:57.397Z"
   },
   {
    "duration": 8,
    "start_time": "2023-02-02T16:41:57.407Z"
   },
   {
    "duration": 6,
    "start_time": "2023-02-02T16:41:57.417Z"
   },
   {
    "duration": 4,
    "start_time": "2023-02-02T16:41:57.428Z"
   },
   {
    "duration": 12,
    "start_time": "2023-02-02T16:41:57.433Z"
   },
   {
    "duration": 333,
    "start_time": "2023-02-02T16:41:57.446Z"
   },
   {
    "duration": 12,
    "start_time": "2023-02-02T16:41:57.781Z"
   },
   {
    "duration": 13,
    "start_time": "2023-02-02T16:41:57.795Z"
   },
   {
    "duration": 11,
    "start_time": "2023-02-02T16:42:02.105Z"
   },
   {
    "duration": 7,
    "start_time": "2023-02-02T16:42:17.774Z"
   },
   {
    "duration": 4,
    "start_time": "2023-02-02T16:42:50.538Z"
   },
   {
    "duration": 4,
    "start_time": "2023-02-02T16:42:53.662Z"
   },
   {
    "duration": 5,
    "start_time": "2023-02-02T16:43:53.307Z"
   },
   {
    "duration": 8,
    "start_time": "2023-02-02T16:44:21.393Z"
   },
   {
    "duration": 9,
    "start_time": "2023-02-02T16:44:42.609Z"
   },
   {
    "duration": 4,
    "start_time": "2023-02-02T16:44:57.055Z"
   },
   {
    "duration": 3,
    "start_time": "2023-02-02T16:45:47.836Z"
   },
   {
    "duration": 4,
    "start_time": "2023-02-02T16:46:05.025Z"
   },
   {
    "duration": 4,
    "start_time": "2023-02-02T16:46:27.472Z"
   },
   {
    "duration": 11,
    "start_time": "2023-02-02T16:46:37.904Z"
   },
   {
    "duration": 7,
    "start_time": "2023-02-02T16:46:50.407Z"
   },
   {
    "duration": 9,
    "start_time": "2023-02-02T16:46:55.801Z"
   },
   {
    "duration": 445,
    "start_time": "2023-02-02T16:47:02.466Z"
   },
   {
    "duration": 462,
    "start_time": "2023-02-02T16:47:02.914Z"
   },
   {
    "duration": 183,
    "start_time": "2023-02-02T16:47:03.379Z"
   },
   {
    "duration": 3,
    "start_time": "2023-02-02T16:47:03.564Z"
   },
   {
    "duration": 7,
    "start_time": "2023-02-02T16:47:03.571Z"
   },
   {
    "duration": 146,
    "start_time": "2023-02-02T16:47:03.580Z"
   },
   {
    "duration": 155,
    "start_time": "2023-02-02T16:47:03.728Z"
   },
   {
    "duration": 10,
    "start_time": "2023-02-02T16:47:03.885Z"
   },
   {
    "duration": 7,
    "start_time": "2023-02-02T16:47:03.896Z"
   },
   {
    "duration": 12,
    "start_time": "2023-02-02T16:47:03.905Z"
   },
   {
    "duration": 15,
    "start_time": "2023-02-02T16:47:03.918Z"
   },
   {
    "duration": 10,
    "start_time": "2023-02-02T16:47:03.935Z"
   },
   {
    "duration": 183,
    "start_time": "2023-02-02T16:47:03.949Z"
   },
   {
    "duration": 15,
    "start_time": "2023-02-02T16:47:04.134Z"
   },
   {
    "duration": 46,
    "start_time": "2023-02-02T16:47:04.150Z"
   },
   {
    "duration": 83,
    "start_time": "2023-02-02T16:47:04.198Z"
   },
   {
    "duration": 97,
    "start_time": "2023-02-02T16:47:04.284Z"
   },
   {
    "duration": 34,
    "start_time": "2023-02-02T16:47:04.394Z"
   },
   {
    "duration": 12,
    "start_time": "2023-02-02T16:47:04.431Z"
   },
   {
    "duration": 23,
    "start_time": "2023-02-02T16:47:04.444Z"
   },
   {
    "duration": 32,
    "start_time": "2023-02-02T16:47:04.469Z"
   },
   {
    "duration": 17,
    "start_time": "2023-02-02T16:47:04.503Z"
   },
   {
    "duration": 7,
    "start_time": "2023-02-02T16:47:04.522Z"
   },
   {
    "duration": 295,
    "start_time": "2023-02-02T16:47:04.530Z"
   },
   {
    "duration": 15,
    "start_time": "2023-02-02T16:47:04.827Z"
   },
   {
    "duration": 10,
    "start_time": "2023-02-02T16:47:04.843Z"
   },
   {
    "duration": 14,
    "start_time": "2023-02-02T16:47:04.854Z"
   },
   {
    "duration": 24,
    "start_time": "2023-02-02T16:47:04.870Z"
   },
   {
    "duration": 3,
    "start_time": "2023-02-02T16:47:04.896Z"
   },
   {
    "duration": 11,
    "start_time": "2023-02-02T16:47:04.901Z"
   },
   {
    "duration": 4,
    "start_time": "2023-02-02T16:47:04.914Z"
   },
   {
    "duration": 7,
    "start_time": "2023-02-02T16:47:04.920Z"
   },
   {
    "duration": 66,
    "start_time": "2023-02-02T16:47:04.929Z"
   },
   {
    "duration": 26,
    "start_time": "2023-02-02T16:47:04.997Z"
   },
   {
    "duration": 51,
    "start_time": "2023-02-02T16:47:05.027Z"
   },
   {
    "duration": 76,
    "start_time": "2023-02-02T16:47:05.083Z"
   },
   {
    "duration": 8,
    "start_time": "2023-02-02T16:47:05.161Z"
   },
   {
    "duration": 10,
    "start_time": "2023-02-02T16:47:05.171Z"
   },
   {
    "duration": 11,
    "start_time": "2023-02-02T16:47:05.183Z"
   },
   {
    "duration": 10,
    "start_time": "2023-02-02T16:47:05.198Z"
   },
   {
    "duration": 11,
    "start_time": "2023-02-02T16:47:05.210Z"
   },
   {
    "duration": 23,
    "start_time": "2023-02-02T16:47:05.224Z"
   },
   {
    "duration": 279,
    "start_time": "2023-02-02T16:47:05.249Z"
   },
   {
    "duration": 3,
    "start_time": "2023-02-02T16:47:05.530Z"
   },
   {
    "duration": 7,
    "start_time": "2023-02-02T16:47:05.534Z"
   },
   {
    "duration": 13,
    "start_time": "2023-02-02T16:47:05.543Z"
   },
   {
    "duration": 13,
    "start_time": "2023-02-02T16:47:05.558Z"
   },
   {
    "duration": 4,
    "start_time": "2023-02-02T16:47:25.556Z"
   },
   {
    "duration": 10,
    "start_time": "2023-02-02T16:47:29.169Z"
   },
   {
    "duration": 13,
    "start_time": "2023-02-02T16:47:35.082Z"
   },
   {
    "duration": 9,
    "start_time": "2023-02-02T16:47:37.258Z"
   },
   {
    "duration": 6,
    "start_time": "2023-02-02T16:49:40.555Z"
   },
   {
    "duration": 6,
    "start_time": "2023-02-02T16:49:43.667Z"
   },
   {
    "duration": 10,
    "start_time": "2023-02-02T16:49:46.523Z"
   },
   {
    "duration": 384,
    "start_time": "2023-02-02T16:52:33.509Z"
   },
   {
    "duration": 489,
    "start_time": "2023-02-02T16:52:33.895Z"
   },
   {
    "duration": 168,
    "start_time": "2023-02-02T16:52:34.385Z"
   },
   {
    "duration": 2,
    "start_time": "2023-02-02T16:52:34.555Z"
   },
   {
    "duration": 41,
    "start_time": "2023-02-02T16:52:34.559Z"
   },
   {
    "duration": 163,
    "start_time": "2023-02-02T16:52:34.602Z"
   },
   {
    "duration": 151,
    "start_time": "2023-02-02T16:52:34.766Z"
   },
   {
    "duration": 10,
    "start_time": "2023-02-02T16:52:34.918Z"
   },
   {
    "duration": 48,
    "start_time": "2023-02-02T16:52:34.930Z"
   },
   {
    "duration": 30,
    "start_time": "2023-02-02T16:52:34.980Z"
   },
   {
    "duration": 28,
    "start_time": "2023-02-02T16:52:35.012Z"
   },
   {
    "duration": 21,
    "start_time": "2023-02-02T16:52:35.042Z"
   },
   {
    "duration": 146,
    "start_time": "2023-02-02T16:52:35.064Z"
   },
   {
    "duration": 9,
    "start_time": "2023-02-02T16:52:35.213Z"
   },
   {
    "duration": 59,
    "start_time": "2023-02-02T16:52:35.223Z"
   },
   {
    "duration": 104,
    "start_time": "2023-02-02T16:52:35.284Z"
   },
   {
    "duration": 68,
    "start_time": "2023-02-02T16:52:35.390Z"
   },
   {
    "duration": 19,
    "start_time": "2023-02-02T16:52:35.460Z"
   },
   {
    "duration": 17,
    "start_time": "2023-02-02T16:52:35.481Z"
   },
   {
    "duration": 54,
    "start_time": "2023-02-02T16:52:35.500Z"
   },
   {
    "duration": 50,
    "start_time": "2023-02-02T16:52:35.555Z"
   },
   {
    "duration": 57,
    "start_time": "2023-02-02T16:52:35.606Z"
   },
   {
    "duration": 49,
    "start_time": "2023-02-02T16:52:35.665Z"
   },
   {
    "duration": 331,
    "start_time": "2023-02-02T16:52:35.715Z"
   },
   {
    "duration": 15,
    "start_time": "2023-02-02T16:52:36.048Z"
   },
   {
    "duration": 28,
    "start_time": "2023-02-02T16:52:36.065Z"
   },
   {
    "duration": 48,
    "start_time": "2023-02-02T16:52:36.095Z"
   },
   {
    "duration": 55,
    "start_time": "2023-02-02T16:52:36.144Z"
   },
   {
    "duration": 31,
    "start_time": "2023-02-02T16:52:36.201Z"
   },
   {
    "duration": 41,
    "start_time": "2023-02-02T16:52:36.234Z"
   },
   {
    "duration": 21,
    "start_time": "2023-02-02T16:52:36.276Z"
   },
   {
    "duration": 25,
    "start_time": "2023-02-02T16:52:36.298Z"
   },
   {
    "duration": 61,
    "start_time": "2023-02-02T16:52:36.325Z"
   },
   {
    "duration": 25,
    "start_time": "2023-02-02T16:52:36.388Z"
   },
   {
    "duration": 55,
    "start_time": "2023-02-02T16:52:36.414Z"
   },
   {
    "duration": 74,
    "start_time": "2023-02-02T16:52:36.470Z"
   },
   {
    "duration": 5,
    "start_time": "2023-02-02T16:52:36.546Z"
   },
   {
    "duration": 48,
    "start_time": "2023-02-02T16:52:36.553Z"
   },
   {
    "duration": 37,
    "start_time": "2023-02-02T16:52:36.602Z"
   },
   {
    "duration": 46,
    "start_time": "2023-02-02T16:52:36.641Z"
   },
   {
    "duration": 52,
    "start_time": "2023-02-02T16:52:36.690Z"
   },
   {
    "duration": 40,
    "start_time": "2023-02-02T16:52:36.744Z"
   },
   {
    "duration": 309,
    "start_time": "2023-02-02T16:52:36.786Z"
   },
   {
    "duration": 3,
    "start_time": "2023-02-02T16:52:37.097Z"
   },
   {
    "duration": 46,
    "start_time": "2023-02-02T16:52:37.102Z"
   },
   {
    "duration": 57,
    "start_time": "2023-02-02T16:52:37.150Z"
   },
   {
    "duration": 34,
    "start_time": "2023-02-02T16:52:37.208Z"
   },
   {
    "duration": 217,
    "start_time": "2023-02-02T16:54:02.899Z"
   },
   {
    "duration": 261,
    "start_time": "2023-02-02T16:54:16.595Z"
   },
   {
    "duration": 43,
    "start_time": "2023-02-02T16:54:50.758Z"
   },
   {
    "duration": 3,
    "start_time": "2023-02-02T16:56:53.967Z"
   },
   {
    "duration": 48,
    "start_time": "2023-02-02T16:58:30.934Z"
   },
   {
    "duration": 42,
    "start_time": "2023-02-02T16:58:45.463Z"
   },
   {
    "duration": 55,
    "start_time": "2023-02-02T16:59:02.630Z"
   },
   {
    "duration": 175,
    "start_time": "2023-02-02T16:59:50.254Z"
   },
   {
    "duration": 11,
    "start_time": "2023-02-02T17:01:28.392Z"
   },
   {
    "duration": 11,
    "start_time": "2023-02-02T17:01:29.648Z"
   },
   {
    "duration": 13,
    "start_time": "2023-02-02T17:02:37.233Z"
   },
   {
    "duration": 13,
    "start_time": "2023-02-02T17:06:06.214Z"
   },
   {
    "duration": 18,
    "start_time": "2023-02-02T17:06:24.369Z"
   },
   {
    "duration": 42,
    "start_time": "2023-02-02T17:09:21.042Z"
   },
   {
    "duration": 45,
    "start_time": "2023-02-02T17:17:04.830Z"
   },
   {
    "duration": 6,
    "start_time": "2023-02-02T17:17:15.333Z"
   },
   {
    "duration": 8,
    "start_time": "2023-02-02T17:17:20.838Z"
   },
   {
    "duration": 7,
    "start_time": "2023-02-02T17:31:16.787Z"
   },
   {
    "duration": 11,
    "start_time": "2023-02-02T17:31:19.260Z"
   },
   {
    "duration": 4,
    "start_time": "2023-02-02T17:38:28.430Z"
   },
   {
    "duration": 5,
    "start_time": "2023-02-02T17:38:51.813Z"
   },
   {
    "duration": 4,
    "start_time": "2023-02-02T17:39:03.694Z"
   },
   {
    "duration": 5,
    "start_time": "2023-02-02T17:39:10.259Z"
   },
   {
    "duration": 4,
    "start_time": "2023-02-02T17:39:26.894Z"
   },
   {
    "duration": 5,
    "start_time": "2023-02-02T17:39:36.895Z"
   },
   {
    "duration": 6,
    "start_time": "2023-02-02T17:39:52.528Z"
   },
   {
    "duration": 36,
    "start_time": "2023-02-02T17:43:55.479Z"
   },
   {
    "duration": 47,
    "start_time": "2023-02-02T17:46:49.710Z"
   },
   {
    "duration": 85,
    "start_time": "2023-02-02T17:46:57.274Z"
   },
   {
    "duration": 36,
    "start_time": "2023-02-02T17:48:06.674Z"
   },
   {
    "duration": 39,
    "start_time": "2023-02-02T17:49:26.907Z"
   },
   {
    "duration": 40,
    "start_time": "2023-02-02T17:49:52.716Z"
   },
   {
    "duration": 19,
    "start_time": "2023-02-02T17:49:55.958Z"
   },
   {
    "duration": 27,
    "start_time": "2023-02-02T17:50:14.842Z"
   },
   {
    "duration": 18,
    "start_time": "2023-02-02T17:50:18.027Z"
   },
   {
    "duration": 13,
    "start_time": "2023-02-02T17:51:08.604Z"
   },
   {
    "duration": 9,
    "start_time": "2023-02-02T17:52:07.268Z"
   },
   {
    "duration": 8,
    "start_time": "2023-02-02T17:52:22.842Z"
   },
   {
    "duration": 10,
    "start_time": "2023-02-02T17:52:33.324Z"
   },
   {
    "duration": 12,
    "start_time": "2023-02-02T17:52:36.404Z"
   },
   {
    "duration": 8,
    "start_time": "2023-02-02T17:52:44.871Z"
   },
   {
    "duration": 27,
    "start_time": "2023-02-02T17:55:36.372Z"
   },
   {
    "duration": 12,
    "start_time": "2023-02-02T17:57:34.638Z"
   },
   {
    "duration": 75,
    "start_time": "2023-02-02T17:57:49.749Z"
   },
   {
    "duration": 84,
    "start_time": "2023-02-02T18:02:30.736Z"
   },
   {
    "duration": 82,
    "start_time": "2023-02-02T18:02:55.712Z"
   },
   {
    "duration": 88,
    "start_time": "2023-02-02T18:03:23.448Z"
   },
   {
    "duration": 88,
    "start_time": "2023-02-02T18:03:32.212Z"
   },
   {
    "duration": 74,
    "start_time": "2023-02-02T18:05:08.281Z"
   },
   {
    "duration": 73,
    "start_time": "2023-02-02T18:09:16.771Z"
   },
   {
    "duration": 77,
    "start_time": "2023-02-02T18:16:04.126Z"
   },
   {
    "duration": 13,
    "start_time": "2023-02-02T18:16:17.792Z"
   },
   {
    "duration": 63,
    "start_time": "2023-02-02T18:16:25.519Z"
   },
   {
    "duration": 7,
    "start_time": "2023-02-02T18:16:28.405Z"
   },
   {
    "duration": 18,
    "start_time": "2023-02-02T18:16:46.109Z"
   },
   {
    "duration": 11,
    "start_time": "2023-02-02T18:17:14.801Z"
   },
   {
    "duration": 6,
    "start_time": "2023-02-02T18:17:28.478Z"
   },
   {
    "duration": 10,
    "start_time": "2023-02-02T18:17:36.175Z"
   },
   {
    "duration": 7,
    "start_time": "2023-02-02T18:18:08.014Z"
   },
   {
    "duration": 1893,
    "start_time": "2023-02-02T18:18:31.790Z"
   },
   {
    "duration": 6,
    "start_time": "2023-02-02T18:28:34.313Z"
   },
   {
    "duration": 35,
    "start_time": "2023-02-02T18:33:43.129Z"
   },
   {
    "duration": 6,
    "start_time": "2023-02-02T18:33:46.001Z"
   },
   {
    "duration": 6,
    "start_time": "2023-02-02T18:35:15.198Z"
   },
   {
    "duration": 342,
    "start_time": "2023-02-02T18:35:26.665Z"
   },
   {
    "duration": 357,
    "start_time": "2023-02-02T18:37:47.850Z"
   },
   {
    "duration": 462,
    "start_time": "2023-02-02T18:37:48.209Z"
   },
   {
    "duration": 186,
    "start_time": "2023-02-02T18:37:48.673Z"
   },
   {
    "duration": 2,
    "start_time": "2023-02-02T18:37:48.861Z"
   },
   {
    "duration": 5,
    "start_time": "2023-02-02T18:37:48.865Z"
   },
   {
    "duration": 148,
    "start_time": "2023-02-02T18:37:48.872Z"
   },
   {
    "duration": 4,
    "start_time": "2023-02-02T18:37:49.022Z"
   },
   {
    "duration": 176,
    "start_time": "2023-02-02T18:37:49.027Z"
   },
   {
    "duration": 10,
    "start_time": "2023-02-02T18:37:49.205Z"
   },
   {
    "duration": 4,
    "start_time": "2023-02-02T18:37:49.216Z"
   },
   {
    "duration": 13,
    "start_time": "2023-02-02T18:37:49.222Z"
   },
   {
    "duration": 14,
    "start_time": "2023-02-02T18:37:49.237Z"
   },
   {
    "duration": 8,
    "start_time": "2023-02-02T18:37:49.253Z"
   },
   {
    "duration": 171,
    "start_time": "2023-02-02T18:37:49.265Z"
   },
   {
    "duration": 14,
    "start_time": "2023-02-02T18:37:49.439Z"
   },
   {
    "duration": 42,
    "start_time": "2023-02-02T18:37:49.455Z"
   },
   {
    "duration": 74,
    "start_time": "2023-02-02T18:37:49.500Z"
   },
   {
    "duration": 96,
    "start_time": "2023-02-02T18:37:49.576Z"
   },
   {
    "duration": 32,
    "start_time": "2023-02-02T18:37:49.674Z"
   },
   {
    "duration": 15,
    "start_time": "2023-02-02T18:37:49.708Z"
   },
   {
    "duration": 48,
    "start_time": "2023-02-02T18:37:49.725Z"
   },
   {
    "duration": 36,
    "start_time": "2023-02-02T18:37:49.777Z"
   },
   {
    "duration": 24,
    "start_time": "2023-02-02T18:37:49.816Z"
   },
   {
    "duration": 6,
    "start_time": "2023-02-02T18:37:49.841Z"
   },
   {
    "duration": 300,
    "start_time": "2023-02-02T18:37:49.849Z"
   },
   {
    "duration": 15,
    "start_time": "2023-02-02T18:37:50.150Z"
   },
   {
    "duration": 9,
    "start_time": "2023-02-02T18:37:50.167Z"
   },
   {
    "duration": 11,
    "start_time": "2023-02-02T18:37:50.194Z"
   },
   {
    "duration": 6,
    "start_time": "2023-02-02T18:37:50.207Z"
   },
   {
    "duration": 5,
    "start_time": "2023-02-02T18:37:50.214Z"
   },
   {
    "duration": 10,
    "start_time": "2023-02-02T18:37:50.221Z"
   },
   {
    "duration": 4,
    "start_time": "2023-02-02T18:37:50.233Z"
   },
   {
    "duration": 8,
    "start_time": "2023-02-02T18:37:50.238Z"
   },
   {
    "duration": 76,
    "start_time": "2023-02-02T18:37:50.247Z"
   },
   {
    "duration": 18,
    "start_time": "2023-02-02T18:37:50.325Z"
   },
   {
    "duration": 29,
    "start_time": "2023-02-02T18:37:50.345Z"
   },
   {
    "duration": 68,
    "start_time": "2023-02-02T18:37:50.393Z"
   },
   {
    "duration": 8,
    "start_time": "2023-02-02T18:37:50.462Z"
   },
   {
    "duration": 21,
    "start_time": "2023-02-02T18:37:50.473Z"
   },
   {
    "duration": 5,
    "start_time": "2023-02-02T18:37:50.496Z"
   },
   {
    "duration": 12,
    "start_time": "2023-02-02T18:37:50.505Z"
   },
   {
    "duration": 6,
    "start_time": "2023-02-02T18:37:50.519Z"
   },
   {
    "duration": 9,
    "start_time": "2023-02-02T18:37:50.526Z"
   },
   {
    "duration": 309,
    "start_time": "2023-02-02T18:37:50.537Z"
   },
   {
    "duration": 2,
    "start_time": "2023-02-02T18:37:50.848Z"
   },
   {
    "duration": 10,
    "start_time": "2023-02-02T18:37:50.852Z"
   },
   {
    "duration": 8,
    "start_time": "2023-02-02T18:37:50.864Z"
   },
   {
    "duration": 20,
    "start_time": "2023-02-02T18:37:50.873Z"
   },
   {
    "duration": 30,
    "start_time": "2023-02-02T18:37:50.895Z"
   },
   {
    "duration": 17,
    "start_time": "2023-02-02T18:37:50.927Z"
   },
   {
    "duration": 8,
    "start_time": "2023-02-02T18:37:50.945Z"
   },
   {
    "duration": 10,
    "start_time": "2023-02-02T18:37:50.954Z"
   },
   {
    "duration": 58,
    "start_time": "2023-02-02T18:37:50.966Z"
   },
   {
    "duration": 79,
    "start_time": "2023-02-02T18:37:51.025Z"
   },
   {
    "duration": 77,
    "start_time": "2023-02-02T18:40:03.063Z"
   },
   {
    "duration": 94,
    "start_time": "2023-02-02T18:40:52.007Z"
   },
   {
    "duration": 44,
    "start_time": "2023-02-02T18:42:42.201Z"
   },
   {
    "duration": 131,
    "start_time": "2023-02-02T18:42:50.527Z"
   },
   {
    "duration": 90,
    "start_time": "2023-02-02T18:43:07.162Z"
   },
   {
    "duration": 168,
    "start_time": "2023-02-02T18:43:20.687Z"
   },
   {
    "duration": 204,
    "start_time": "2023-02-02T18:45:35.120Z"
   },
   {
    "duration": 114,
    "start_time": "2023-02-02T18:45:56.001Z"
   },
   {
    "duration": 92,
    "start_time": "2023-02-02T18:46:14.848Z"
   },
   {
    "duration": 100,
    "start_time": "2023-02-02T18:46:30.123Z"
   },
   {
    "duration": 108,
    "start_time": "2023-02-02T18:46:38.929Z"
   },
   {
    "duration": 90,
    "start_time": "2023-02-02T18:46:48.553Z"
   },
   {
    "duration": 92,
    "start_time": "2023-02-02T18:47:01.705Z"
   },
   {
    "duration": 98,
    "start_time": "2023-02-02T18:47:38.890Z"
   },
   {
    "duration": 94,
    "start_time": "2023-02-02T18:48:40.777Z"
   },
   {
    "duration": 94,
    "start_time": "2023-02-02T18:48:52.754Z"
   },
   {
    "duration": 95,
    "start_time": "2023-02-02T18:49:57.458Z"
   },
   {
    "duration": 291,
    "start_time": "2023-02-02T18:50:31.307Z"
   },
   {
    "duration": 104,
    "start_time": "2023-02-02T19:13:25.010Z"
   },
   {
    "duration": 90,
    "start_time": "2023-02-02T19:14:33.643Z"
   },
   {
    "duration": 91,
    "start_time": "2023-02-02T19:18:05.775Z"
   },
   {
    "duration": 8,
    "start_time": "2023-02-02T19:18:14.657Z"
   },
   {
    "duration": 16,
    "start_time": "2023-02-02T19:18:23.389Z"
   },
   {
    "duration": 795,
    "start_time": "2023-02-02T19:18:42.941Z"
   },
   {
    "duration": 791,
    "start_time": "2023-02-02T19:18:52.969Z"
   },
   {
    "duration": 5,
    "start_time": "2023-02-02T19:19:09.980Z"
   },
   {
    "duration": 15,
    "start_time": "2023-02-02T19:19:23.939Z"
   },
   {
    "duration": 4,
    "start_time": "2023-02-02T19:19:38.222Z"
   },
   {
    "duration": 7,
    "start_time": "2023-02-02T19:21:57.950Z"
   },
   {
    "duration": 12,
    "start_time": "2023-02-02T19:26:09.106Z"
   },
   {
    "duration": 11,
    "start_time": "2023-02-02T19:27:20.361Z"
   },
   {
    "duration": 13,
    "start_time": "2023-02-02T19:28:49.432Z"
   },
   {
    "duration": 2,
    "start_time": "2023-02-02T19:29:19.286Z"
   },
   {
    "duration": 7,
    "start_time": "2023-02-02T19:29:34.910Z"
   },
   {
    "duration": 3,
    "start_time": "2023-02-02T19:29:38.051Z"
   },
   {
    "duration": 2,
    "start_time": "2023-02-02T19:29:45.019Z"
   },
   {
    "duration": 7,
    "start_time": "2023-02-02T19:29:52.681Z"
   },
   {
    "duration": 49,
    "start_time": "2023-02-03T09:27:30.926Z"
   },
   {
    "duration": 6,
    "start_time": "2023-02-03T09:27:37.501Z"
   },
   {
    "duration": 119,
    "start_time": "2023-02-03T09:31:44.700Z"
   },
   {
    "duration": 88,
    "start_time": "2023-02-03T09:32:01.406Z"
   },
   {
    "duration": 90,
    "start_time": "2023-02-03T09:32:57.877Z"
   },
   {
    "duration": 7,
    "start_time": "2023-02-03T09:33:11.151Z"
   },
   {
    "duration": 393,
    "start_time": "2023-02-03T09:33:18.067Z"
   },
   {
    "duration": 456,
    "start_time": "2023-02-03T09:33:18.462Z"
   },
   {
    "duration": 390,
    "start_time": "2023-02-03T09:33:18.920Z"
   },
   {
    "duration": 2,
    "start_time": "2023-02-03T09:33:19.312Z"
   },
   {
    "duration": 20,
    "start_time": "2023-02-03T09:33:19.316Z"
   },
   {
    "duration": 142,
    "start_time": "2023-02-03T09:33:19.337Z"
   },
   {
    "duration": 3,
    "start_time": "2023-02-03T09:33:19.481Z"
   },
   {
    "duration": 5,
    "start_time": "2023-02-03T09:33:19.485Z"
   },
   {
    "duration": 4,
    "start_time": "2023-02-03T09:33:19.492Z"
   },
   {
    "duration": 673,
    "start_time": "2023-02-03T09:33:19.498Z"
   },
   {
    "duration": 10,
    "start_time": "2023-02-03T09:33:20.173Z"
   },
   {
    "duration": 4,
    "start_time": "2023-02-03T09:33:20.185Z"
   },
   {
    "duration": 14,
    "start_time": "2023-02-03T09:33:20.191Z"
   },
   {
    "duration": 13,
    "start_time": "2023-02-03T09:33:20.207Z"
   },
   {
    "duration": 11,
    "start_time": "2023-02-03T09:33:20.222Z"
   },
   {
    "duration": 134,
    "start_time": "2023-02-03T09:33:20.234Z"
   },
   {
    "duration": 8,
    "start_time": "2023-02-03T09:33:20.370Z"
   },
   {
    "duration": 29,
    "start_time": "2023-02-03T09:33:20.379Z"
   },
   {
    "duration": 72,
    "start_time": "2023-02-03T09:33:20.410Z"
   },
   {
    "duration": 88,
    "start_time": "2023-02-03T09:33:20.484Z"
   },
   {
    "duration": 20,
    "start_time": "2023-02-03T09:33:20.574Z"
   },
   {
    "duration": 13,
    "start_time": "2023-02-03T09:33:20.595Z"
   },
   {
    "duration": 49,
    "start_time": "2023-02-03T09:33:20.609Z"
   },
   {
    "duration": 11,
    "start_time": "2023-02-03T09:33:20.659Z"
   },
   {
    "duration": 21,
    "start_time": "2023-02-03T09:33:20.672Z"
   },
   {
    "duration": 6,
    "start_time": "2023-02-03T09:33:20.695Z"
   },
   {
    "duration": 302,
    "start_time": "2023-02-03T09:33:20.703Z"
   },
   {
    "duration": 15,
    "start_time": "2023-02-03T09:33:21.009Z"
   },
   {
    "duration": 23,
    "start_time": "2023-02-03T09:33:21.026Z"
   },
   {
    "duration": 12,
    "start_time": "2023-02-03T09:33:21.051Z"
   },
   {
    "duration": 10,
    "start_time": "2023-02-03T09:33:21.064Z"
   },
   {
    "duration": 6,
    "start_time": "2023-02-03T09:33:21.076Z"
   },
   {
    "duration": 16,
    "start_time": "2023-02-03T09:33:21.084Z"
   },
   {
    "duration": 10,
    "start_time": "2023-02-03T09:33:21.101Z"
   },
   {
    "duration": 6,
    "start_time": "2023-02-03T09:33:21.112Z"
   },
   {
    "duration": 54,
    "start_time": "2023-02-03T09:33:21.120Z"
   },
   {
    "duration": 18,
    "start_time": "2023-02-03T09:33:21.176Z"
   },
   {
    "duration": 30,
    "start_time": "2023-02-03T09:33:21.196Z"
   },
   {
    "duration": 68,
    "start_time": "2023-02-03T09:33:21.228Z"
   },
   {
    "duration": 7,
    "start_time": "2023-02-03T09:33:21.298Z"
   },
   {
    "duration": 7,
    "start_time": "2023-02-03T09:33:21.307Z"
   },
   {
    "duration": 9,
    "start_time": "2023-02-03T09:33:21.316Z"
   },
   {
    "duration": 8,
    "start_time": "2023-02-03T09:33:21.327Z"
   },
   {
    "duration": 9,
    "start_time": "2023-02-03T09:33:21.349Z"
   },
   {
    "duration": 13,
    "start_time": "2023-02-03T09:33:21.359Z"
   },
   {
    "duration": 305,
    "start_time": "2023-02-03T09:33:21.374Z"
   },
   {
    "duration": 4,
    "start_time": "2023-02-03T09:33:21.681Z"
   },
   {
    "duration": 19,
    "start_time": "2023-02-03T09:33:21.686Z"
   },
   {
    "duration": 9,
    "start_time": "2023-02-03T09:33:21.706Z"
   },
   {
    "duration": 6,
    "start_time": "2023-02-03T09:33:21.717Z"
   },
   {
    "duration": 46,
    "start_time": "2023-02-03T09:33:21.725Z"
   },
   {
    "duration": 17,
    "start_time": "2023-02-03T09:33:21.773Z"
   },
   {
    "duration": 8,
    "start_time": "2023-02-03T09:33:21.792Z"
   },
   {
    "duration": 19,
    "start_time": "2023-02-03T09:33:21.802Z"
   },
   {
    "duration": 113,
    "start_time": "2023-02-03T09:33:21.823Z"
   },
   {
    "duration": 0,
    "start_time": "2023-02-03T09:33:21.938Z"
   },
   {
    "duration": 0,
    "start_time": "2023-02-03T09:33:21.940Z"
   },
   {
    "duration": 0,
    "start_time": "2023-02-03T09:33:21.949Z"
   },
   {
    "duration": 0,
    "start_time": "2023-02-03T09:33:21.950Z"
   },
   {
    "duration": 0,
    "start_time": "2023-02-03T09:33:21.952Z"
   },
   {
    "duration": 98,
    "start_time": "2023-02-03T09:33:53.429Z"
   },
   {
    "duration": 15,
    "start_time": "2023-02-03T09:34:02.461Z"
   },
   {
    "duration": 79,
    "start_time": "2023-02-03T09:34:40.725Z"
   },
   {
    "duration": 7,
    "start_time": "2023-02-03T09:34:43.982Z"
   },
   {
    "duration": 4,
    "start_time": "2023-02-03T09:38:30.943Z"
   },
   {
    "duration": 7,
    "start_time": "2023-02-03T09:38:41.838Z"
   },
   {
    "duration": 4,
    "start_time": "2023-02-03T09:39:29.387Z"
   },
   {
    "duration": 7,
    "start_time": "2023-02-03T09:39:43.839Z"
   },
   {
    "duration": 8,
    "start_time": "2023-02-03T09:39:46.767Z"
   },
   {
    "duration": 495,
    "start_time": "2023-02-03T09:41:36.167Z"
   },
   {
    "duration": 472,
    "start_time": "2023-02-03T09:41:36.665Z"
   },
   {
    "duration": 210,
    "start_time": "2023-02-03T09:41:37.139Z"
   },
   {
    "duration": 3,
    "start_time": "2023-02-03T09:41:37.352Z"
   },
   {
    "duration": 6,
    "start_time": "2023-02-03T09:41:37.357Z"
   },
   {
    "duration": 161,
    "start_time": "2023-02-03T09:41:37.365Z"
   },
   {
    "duration": 4,
    "start_time": "2023-02-03T09:41:37.527Z"
   },
   {
    "duration": 7,
    "start_time": "2023-02-03T09:41:37.532Z"
   },
   {
    "duration": 9,
    "start_time": "2023-02-03T09:41:37.549Z"
   },
   {
    "duration": 176,
    "start_time": "2023-02-03T09:41:37.560Z"
   },
   {
    "duration": 11,
    "start_time": "2023-02-03T09:41:37.737Z"
   },
   {
    "duration": 12,
    "start_time": "2023-02-03T09:41:37.749Z"
   },
   {
    "duration": 31,
    "start_time": "2023-02-03T09:41:37.763Z"
   },
   {
    "duration": 15,
    "start_time": "2023-02-03T09:41:37.796Z"
   },
   {
    "duration": 9,
    "start_time": "2023-02-03T09:41:37.813Z"
   },
   {
    "duration": 135,
    "start_time": "2023-02-03T09:41:37.824Z"
   },
   {
    "duration": 9,
    "start_time": "2023-02-03T09:41:37.961Z"
   },
   {
    "duration": 30,
    "start_time": "2023-02-03T09:41:37.972Z"
   },
   {
    "duration": 71,
    "start_time": "2023-02-03T09:41:38.004Z"
   },
   {
    "duration": 83,
    "start_time": "2023-02-03T09:41:38.076Z"
   },
   {
    "duration": 35,
    "start_time": "2023-02-03T09:41:38.161Z"
   },
   {
    "duration": 14,
    "start_time": "2023-02-03T09:41:38.198Z"
   },
   {
    "duration": 32,
    "start_time": "2023-02-03T09:41:38.214Z"
   },
   {
    "duration": 13,
    "start_time": "2023-02-03T09:41:38.248Z"
   },
   {
    "duration": 22,
    "start_time": "2023-02-03T09:41:38.263Z"
   },
   {
    "duration": 6,
    "start_time": "2023-02-03T09:41:38.287Z"
   },
   {
    "duration": 293,
    "start_time": "2023-02-03T09:41:38.295Z"
   },
   {
    "duration": 15,
    "start_time": "2023-02-03T09:41:38.592Z"
   },
   {
    "duration": 9,
    "start_time": "2023-02-03T09:41:38.609Z"
   },
   {
    "duration": 37,
    "start_time": "2023-02-03T09:41:38.620Z"
   },
   {
    "duration": 12,
    "start_time": "2023-02-03T09:41:38.659Z"
   },
   {
    "duration": 6,
    "start_time": "2023-02-03T09:41:38.673Z"
   },
   {
    "duration": 15,
    "start_time": "2023-02-03T09:41:38.681Z"
   },
   {
    "duration": 4,
    "start_time": "2023-02-03T09:41:38.697Z"
   },
   {
    "duration": 12,
    "start_time": "2023-02-03T09:41:38.702Z"
   },
   {
    "duration": 48,
    "start_time": "2023-02-03T09:41:38.715Z"
   },
   {
    "duration": 19,
    "start_time": "2023-02-03T09:41:38.765Z"
   },
   {
    "duration": 25,
    "start_time": "2023-02-03T09:41:38.786Z"
   },
   {
    "duration": 84,
    "start_time": "2023-02-03T09:41:38.813Z"
   },
   {
    "duration": 7,
    "start_time": "2023-02-03T09:41:38.899Z"
   },
   {
    "duration": 6,
    "start_time": "2023-02-03T09:41:38.908Z"
   },
   {
    "duration": 7,
    "start_time": "2023-02-03T09:41:38.915Z"
   },
   {
    "duration": 26,
    "start_time": "2023-02-03T09:41:38.924Z"
   },
   {
    "duration": 17,
    "start_time": "2023-02-03T09:41:38.952Z"
   },
   {
    "duration": 11,
    "start_time": "2023-02-03T09:41:38.971Z"
   },
   {
    "duration": 291,
    "start_time": "2023-02-03T09:41:38.984Z"
   },
   {
    "duration": 3,
    "start_time": "2023-02-03T09:41:39.276Z"
   },
   {
    "duration": 28,
    "start_time": "2023-02-03T09:41:39.280Z"
   },
   {
    "duration": 14,
    "start_time": "2023-02-03T09:41:39.310Z"
   },
   {
    "duration": 9,
    "start_time": "2023-02-03T09:41:39.325Z"
   },
   {
    "duration": 38,
    "start_time": "2023-02-03T09:41:39.335Z"
   },
   {
    "duration": 15,
    "start_time": "2023-02-03T09:41:39.374Z"
   },
   {
    "duration": 7,
    "start_time": "2023-02-03T09:41:39.391Z"
   },
   {
    "duration": 13,
    "start_time": "2023-02-03T09:41:39.400Z"
   },
   {
    "duration": 81,
    "start_time": "2023-02-03T09:41:39.415Z"
   },
   {
    "duration": 7,
    "start_time": "2023-02-03T09:41:39.498Z"
   },
   {
    "duration": 7,
    "start_time": "2023-02-03T09:41:39.507Z"
   },
   {
    "duration": 11,
    "start_time": "2023-02-03T09:41:39.515Z"
   },
   {
    "duration": 46,
    "start_time": "2023-02-03T09:41:39.528Z"
   },
   {
    "duration": 107,
    "start_time": "2023-02-03T09:41:39.575Z"
   },
   {
    "duration": 6,
    "start_time": "2023-02-03T09:41:39.685Z"
   },
   {
    "duration": 100,
    "start_time": "2023-02-03T09:54:07.061Z"
   },
   {
    "duration": 9,
    "start_time": "2023-02-03T09:56:06.206Z"
   },
   {
    "duration": 89,
    "start_time": "2023-02-03T09:58:41.680Z"
   },
   {
    "duration": 8,
    "start_time": "2023-02-03T09:58:45.664Z"
   },
   {
    "duration": 5,
    "start_time": "2023-02-03T09:59:49.768Z"
   },
   {
    "duration": 1423,
    "start_time": "2023-02-03T09:59:51.872Z"
   },
   {
    "duration": 1260,
    "start_time": "2023-02-03T10:00:17.152Z"
   },
   {
    "duration": 5,
    "start_time": "2023-02-03T10:00:29.515Z"
   },
   {
    "duration": 18,
    "start_time": "2023-02-03T10:00:51.864Z"
   },
   {
    "duration": 3,
    "start_time": "2023-02-03T10:34:49.488Z"
   },
   {
    "duration": 10,
    "start_time": "2023-02-03T10:34:53.651Z"
   },
   {
    "duration": 8,
    "start_time": "2023-02-03T10:35:44.464Z"
   },
   {
    "duration": 5,
    "start_time": "2023-02-03T10:37:06.825Z"
   },
   {
    "duration": 13,
    "start_time": "2023-02-03T10:37:10.600Z"
   },
   {
    "duration": 31,
    "start_time": "2023-02-03T10:46:30.735Z"
   },
   {
    "duration": 8,
    "start_time": "2023-02-03T10:46:33.517Z"
   },
   {
    "duration": 31,
    "start_time": "2023-02-03T10:47:01.982Z"
   },
   {
    "duration": 9,
    "start_time": "2023-02-03T10:47:05.007Z"
   },
   {
    "duration": 14,
    "start_time": "2023-02-03T10:47:32.272Z"
   },
   {
    "duration": 30,
    "start_time": "2023-02-03T10:47:34.750Z"
   },
   {
    "duration": 12,
    "start_time": "2023-02-03T10:56:27.370Z"
   },
   {
    "duration": 8,
    "start_time": "2023-02-03T10:56:35.764Z"
   },
   {
    "duration": 71,
    "start_time": "2023-02-03T10:57:00.323Z"
   },
   {
    "duration": 8,
    "start_time": "2023-02-03T10:57:03.596Z"
   },
   {
    "duration": 10,
    "start_time": "2023-02-03T10:57:27.173Z"
   },
   {
    "duration": 7,
    "start_time": "2023-02-03T10:57:46.963Z"
   },
   {
    "duration": 1226,
    "start_time": "2023-02-03T10:58:02.044Z"
   },
   {
    "duration": 11,
    "start_time": "2023-02-03T10:58:14.916Z"
   },
   {
    "duration": 4,
    "start_time": "2023-02-03T10:58:35.452Z"
   },
   {
    "duration": 7,
    "start_time": "2023-02-03T10:58:45.316Z"
   },
   {
    "duration": 69,
    "start_time": "2023-02-03T10:59:28.972Z"
   },
   {
    "duration": 85,
    "start_time": "2023-02-03T10:59:35.013Z"
   },
   {
    "duration": 8,
    "start_time": "2023-02-03T10:59:42.005Z"
   },
   {
    "duration": 5,
    "start_time": "2023-02-03T10:59:53.692Z"
   },
   {
    "duration": 5,
    "start_time": "2023-02-03T11:00:09.884Z"
   },
   {
    "duration": 5,
    "start_time": "2023-02-03T11:00:28.194Z"
   },
   {
    "duration": 8,
    "start_time": "2023-02-03T11:00:34.973Z"
   },
   {
    "duration": 30,
    "start_time": "2023-02-03T11:04:37.584Z"
   },
   {
    "duration": 27,
    "start_time": "2023-02-03T11:04:44.158Z"
   },
   {
    "duration": 5,
    "start_time": "2023-02-03T11:04:56.206Z"
   },
   {
    "duration": 15,
    "start_time": "2023-02-03T11:05:28.018Z"
   },
   {
    "duration": 7,
    "start_time": "2023-02-03T11:05:52.104Z"
   },
   {
    "duration": 10,
    "start_time": "2023-02-03T11:14:34.424Z"
   },
   {
    "duration": 5,
    "start_time": "2023-02-03T11:57:19.492Z"
   },
   {
    "duration": 8,
    "start_time": "2023-02-03T11:57:33.467Z"
   },
   {
    "duration": 89,
    "start_time": "2023-02-03T11:59:48.918Z"
   },
   {
    "duration": 10,
    "start_time": "2023-02-03T11:59:52.753Z"
   },
   {
    "duration": 89,
    "start_time": "2023-02-03T12:01:07.813Z"
   },
   {
    "duration": 9,
    "start_time": "2023-02-03T12:01:09.548Z"
   },
   {
    "duration": 145,
    "start_time": "2023-02-03T12:02:46.567Z"
   },
   {
    "duration": 8,
    "start_time": "2023-02-03T12:02:48.838Z"
   },
   {
    "duration": 56,
    "start_time": "2023-02-03T12:04:18.062Z"
   },
   {
    "duration": 16,
    "start_time": "2023-02-03T12:04:26.197Z"
   },
   {
    "duration": 12,
    "start_time": "2023-02-03T12:04:52.863Z"
   },
   {
    "duration": 220,
    "start_time": "2023-02-03T12:05:39.103Z"
   },
   {
    "duration": 83,
    "start_time": "2023-02-03T12:06:14.705Z"
   },
   {
    "duration": 295,
    "start_time": "2023-02-03T12:06:19.255Z"
   },
   {
    "duration": 20,
    "start_time": "2023-02-03T12:10:39.256Z"
   },
   {
    "duration": 22,
    "start_time": "2023-02-03T12:11:47.984Z"
   },
   {
    "duration": 16,
    "start_time": "2023-02-03T12:12:58.441Z"
   },
   {
    "duration": 12,
    "start_time": "2023-02-03T12:13:25.184Z"
   },
   {
    "duration": 67,
    "start_time": "2023-02-03T12:15:33.338Z"
   },
   {
    "duration": 63,
    "start_time": "2023-02-03T12:15:59.011Z"
   },
   {
    "duration": 7,
    "start_time": "2023-02-03T12:16:00.969Z"
   },
   {
    "duration": 55,
    "start_time": "2023-02-03T12:18:45.915Z"
   },
   {
    "duration": 7,
    "start_time": "2023-02-03T12:18:49.385Z"
   },
   {
    "duration": 13,
    "start_time": "2023-02-03T12:19:19.891Z"
   },
   {
    "duration": 1732,
    "start_time": "2023-02-03T12:20:30.794Z"
   },
   {
    "duration": 7,
    "start_time": "2023-02-03T12:21:07.955Z"
   },
   {
    "duration": 392,
    "start_time": "2023-02-03T12:21:14.563Z"
   },
   {
    "duration": 437,
    "start_time": "2023-02-03T12:21:14.957Z"
   },
   {
    "duration": 209,
    "start_time": "2023-02-03T12:21:15.397Z"
   },
   {
    "duration": 3,
    "start_time": "2023-02-03T12:21:15.608Z"
   },
   {
    "duration": 13,
    "start_time": "2023-02-03T12:21:15.613Z"
   },
   {
    "duration": 137,
    "start_time": "2023-02-03T12:21:15.628Z"
   },
   {
    "duration": 3,
    "start_time": "2023-02-03T12:21:15.767Z"
   },
   {
    "duration": 24,
    "start_time": "2023-02-03T12:21:15.772Z"
   },
   {
    "duration": 16,
    "start_time": "2023-02-03T12:21:15.797Z"
   },
   {
    "duration": 71,
    "start_time": "2023-02-03T12:21:15.816Z"
   },
   {
    "duration": 165,
    "start_time": "2023-02-03T12:21:15.889Z"
   },
   {
    "duration": 11,
    "start_time": "2023-02-03T12:21:16.056Z"
   },
   {
    "duration": 8,
    "start_time": "2023-02-03T12:21:16.069Z"
   },
   {
    "duration": 14,
    "start_time": "2023-02-03T12:21:16.078Z"
   },
   {
    "duration": 20,
    "start_time": "2023-02-03T12:21:16.094Z"
   },
   {
    "duration": 9,
    "start_time": "2023-02-03T12:21:16.115Z"
   },
   {
    "duration": 142,
    "start_time": "2023-02-03T12:21:16.126Z"
   },
   {
    "duration": 8,
    "start_time": "2023-02-03T12:21:16.270Z"
   },
   {
    "duration": 29,
    "start_time": "2023-02-03T12:21:16.280Z"
   },
   {
    "duration": 82,
    "start_time": "2023-02-03T12:21:16.311Z"
   },
   {
    "duration": 86,
    "start_time": "2023-02-03T12:21:16.395Z"
   },
   {
    "duration": 20,
    "start_time": "2023-02-03T12:21:16.483Z"
   },
   {
    "duration": 13,
    "start_time": "2023-02-03T12:21:16.505Z"
   },
   {
    "duration": 49,
    "start_time": "2023-02-03T12:21:16.519Z"
   },
   {
    "duration": 23,
    "start_time": "2023-02-03T12:21:16.570Z"
   },
   {
    "duration": 17,
    "start_time": "2023-02-03T12:21:16.595Z"
   },
   {
    "duration": 13,
    "start_time": "2023-02-03T12:21:16.613Z"
   },
   {
    "duration": 363,
    "start_time": "2023-02-03T12:21:16.631Z"
   },
   {
    "duration": 17,
    "start_time": "2023-02-03T12:21:16.997Z"
   },
   {
    "duration": 10,
    "start_time": "2023-02-03T12:21:17.015Z"
   },
   {
    "duration": 38,
    "start_time": "2023-02-03T12:21:17.027Z"
   },
   {
    "duration": 17,
    "start_time": "2023-02-03T12:21:17.067Z"
   },
   {
    "duration": 9,
    "start_time": "2023-02-03T12:21:17.086Z"
   },
   {
    "duration": 21,
    "start_time": "2023-02-03T12:21:17.096Z"
   },
   {
    "duration": 7,
    "start_time": "2023-02-03T12:21:17.118Z"
   },
   {
    "duration": 17,
    "start_time": "2023-02-03T12:21:17.126Z"
   },
   {
    "duration": 52,
    "start_time": "2023-02-03T12:21:17.145Z"
   },
   {
    "duration": 18,
    "start_time": "2023-02-03T12:21:17.199Z"
   },
   {
    "duration": 36,
    "start_time": "2023-02-03T12:21:17.218Z"
   },
   {
    "duration": 67,
    "start_time": "2023-02-03T12:21:17.256Z"
   },
   {
    "duration": 7,
    "start_time": "2023-02-03T12:21:17.325Z"
   },
   {
    "duration": 1354,
    "start_time": "2023-02-03T12:21:17.333Z"
   },
   {
    "duration": 0,
    "start_time": "2023-02-03T12:21:18.690Z"
   },
   {
    "duration": 0,
    "start_time": "2023-02-03T12:21:18.691Z"
   },
   {
    "duration": 0,
    "start_time": "2023-02-03T12:21:18.692Z"
   },
   {
    "duration": 0,
    "start_time": "2023-02-03T12:21:18.693Z"
   },
   {
    "duration": 0,
    "start_time": "2023-02-03T12:21:18.695Z"
   },
   {
    "duration": 0,
    "start_time": "2023-02-03T12:21:18.696Z"
   },
   {
    "duration": 0,
    "start_time": "2023-02-03T12:21:18.697Z"
   },
   {
    "duration": 0,
    "start_time": "2023-02-03T12:21:18.698Z"
   },
   {
    "duration": 0,
    "start_time": "2023-02-03T12:21:18.700Z"
   },
   {
    "duration": 0,
    "start_time": "2023-02-03T12:21:18.701Z"
   },
   {
    "duration": 0,
    "start_time": "2023-02-03T12:21:18.702Z"
   },
   {
    "duration": 0,
    "start_time": "2023-02-03T12:21:18.704Z"
   },
   {
    "duration": 0,
    "start_time": "2023-02-03T12:21:18.704Z"
   },
   {
    "duration": 0,
    "start_time": "2023-02-03T12:21:18.706Z"
   },
   {
    "duration": 0,
    "start_time": "2023-02-03T12:21:18.707Z"
   },
   {
    "duration": 0,
    "start_time": "2023-02-03T12:21:18.708Z"
   },
   {
    "duration": 0,
    "start_time": "2023-02-03T12:21:18.709Z"
   },
   {
    "duration": 0,
    "start_time": "2023-02-03T12:21:18.710Z"
   },
   {
    "duration": 0,
    "start_time": "2023-02-03T12:21:18.711Z"
   },
   {
    "duration": 0,
    "start_time": "2023-02-03T12:21:18.713Z"
   },
   {
    "duration": 0,
    "start_time": "2023-02-03T12:21:18.714Z"
   },
   {
    "duration": 0,
    "start_time": "2023-02-03T12:21:18.715Z"
   },
   {
    "duration": 0,
    "start_time": "2023-02-03T12:21:18.716Z"
   },
   {
    "duration": 4,
    "start_time": "2023-02-03T12:21:45.202Z"
   },
   {
    "duration": 4,
    "start_time": "2023-02-03T12:22:09.060Z"
   },
   {
    "duration": 4,
    "start_time": "2023-02-03T12:22:11.646Z"
   },
   {
    "duration": 1409,
    "start_time": "2023-02-03T12:23:42.245Z"
   },
   {
    "duration": 1225,
    "start_time": "2023-02-03T12:24:04.765Z"
   },
   {
    "duration": 218,
    "start_time": "2023-02-03T12:24:35.685Z"
   },
   {
    "duration": 219,
    "start_time": "2023-02-03T12:25:30.947Z"
   },
   {
    "duration": 210,
    "start_time": "2023-02-03T12:26:57.558Z"
   },
   {
    "duration": 4,
    "start_time": "2023-02-03T12:30:37.568Z"
   },
   {
    "duration": 9,
    "start_time": "2023-02-03T12:30:42.703Z"
   },
   {
    "duration": 396,
    "start_time": "2023-02-03T12:31:19.858Z"
   },
   {
    "duration": 416,
    "start_time": "2023-02-03T12:31:20.256Z"
   },
   {
    "duration": 198,
    "start_time": "2023-02-03T12:31:20.674Z"
   },
   {
    "duration": 2,
    "start_time": "2023-02-03T12:31:20.874Z"
   },
   {
    "duration": 8,
    "start_time": "2023-02-03T12:31:20.878Z"
   },
   {
    "duration": 147,
    "start_time": "2023-02-03T12:31:20.888Z"
   },
   {
    "duration": 11,
    "start_time": "2023-02-03T12:31:21.037Z"
   },
   {
    "duration": 3,
    "start_time": "2023-02-03T12:31:21.050Z"
   },
   {
    "duration": 8,
    "start_time": "2023-02-03T12:31:21.055Z"
   },
   {
    "duration": 65,
    "start_time": "2023-02-03T12:31:21.064Z"
   },
   {
    "duration": 163,
    "start_time": "2023-02-03T12:31:21.131Z"
   },
   {
    "duration": 11,
    "start_time": "2023-02-03T12:31:21.295Z"
   },
   {
    "duration": 10,
    "start_time": "2023-02-03T12:31:21.308Z"
   },
   {
    "duration": 12,
    "start_time": "2023-02-03T12:31:21.322Z"
   },
   {
    "duration": 16,
    "start_time": "2023-02-03T12:31:21.336Z"
   },
   {
    "duration": 8,
    "start_time": "2023-02-03T12:31:21.353Z"
   },
   {
    "duration": 131,
    "start_time": "2023-02-03T12:31:21.363Z"
   },
   {
    "duration": 9,
    "start_time": "2023-02-03T12:31:21.496Z"
   },
   {
    "duration": 37,
    "start_time": "2023-02-03T12:31:21.506Z"
   },
   {
    "duration": 72,
    "start_time": "2023-02-03T12:31:21.545Z"
   },
   {
    "duration": 92,
    "start_time": "2023-02-03T12:31:21.619Z"
   },
   {
    "duration": 20,
    "start_time": "2023-02-03T12:31:21.713Z"
   },
   {
    "duration": 26,
    "start_time": "2023-02-03T12:31:21.734Z"
   },
   {
    "duration": 28,
    "start_time": "2023-02-03T12:31:21.761Z"
   },
   {
    "duration": 19,
    "start_time": "2023-02-03T12:31:21.790Z"
   },
   {
    "duration": 44,
    "start_time": "2023-02-03T12:31:21.812Z"
   },
   {
    "duration": 7,
    "start_time": "2023-02-03T12:31:21.858Z"
   },
   {
    "duration": 297,
    "start_time": "2023-02-03T12:31:21.866Z"
   },
   {
    "duration": 15,
    "start_time": "2023-02-03T12:31:22.165Z"
   },
   {
    "duration": 9,
    "start_time": "2023-02-03T12:31:22.182Z"
   },
   {
    "duration": 17,
    "start_time": "2023-02-03T12:31:22.192Z"
   },
   {
    "duration": 7,
    "start_time": "2023-02-03T12:31:22.211Z"
   },
   {
    "duration": 31,
    "start_time": "2023-02-03T12:31:22.219Z"
   },
   {
    "duration": 18,
    "start_time": "2023-02-03T12:31:22.251Z"
   },
   {
    "duration": 5,
    "start_time": "2023-02-03T12:31:22.271Z"
   },
   {
    "duration": 6,
    "start_time": "2023-02-03T12:31:22.277Z"
   },
   {
    "duration": 40,
    "start_time": "2023-02-03T12:31:22.284Z"
   },
   {
    "duration": 30,
    "start_time": "2023-02-03T12:31:22.325Z"
   },
   {
    "duration": 23,
    "start_time": "2023-02-03T12:31:22.357Z"
   },
   {
    "duration": 91,
    "start_time": "2023-02-03T12:31:22.382Z"
   },
   {
    "duration": 6,
    "start_time": "2023-02-03T12:31:22.477Z"
   },
   {
    "duration": 18,
    "start_time": "2023-02-03T12:31:22.485Z"
   },
   {
    "duration": 14,
    "start_time": "2023-02-03T12:31:22.505Z"
   },
   {
    "duration": 10,
    "start_time": "2023-02-03T12:31:22.521Z"
   },
   {
    "duration": 1338,
    "start_time": "2023-02-03T12:31:22.533Z"
   },
   {
    "duration": 0,
    "start_time": "2023-02-03T12:31:23.873Z"
   },
   {
    "duration": 0,
    "start_time": "2023-02-03T12:31:23.874Z"
   },
   {
    "duration": 0,
    "start_time": "2023-02-03T12:31:23.876Z"
   },
   {
    "duration": 0,
    "start_time": "2023-02-03T12:31:23.877Z"
   },
   {
    "duration": 0,
    "start_time": "2023-02-03T12:31:23.878Z"
   },
   {
    "duration": 0,
    "start_time": "2023-02-03T12:31:23.879Z"
   },
   {
    "duration": 0,
    "start_time": "2023-02-03T12:31:23.881Z"
   },
   {
    "duration": 0,
    "start_time": "2023-02-03T12:31:23.882Z"
   },
   {
    "duration": 0,
    "start_time": "2023-02-03T12:31:23.884Z"
   },
   {
    "duration": 0,
    "start_time": "2023-02-03T12:31:23.884Z"
   },
   {
    "duration": 0,
    "start_time": "2023-02-03T12:31:23.886Z"
   },
   {
    "duration": 0,
    "start_time": "2023-02-03T12:31:23.887Z"
   },
   {
    "duration": 0,
    "start_time": "2023-02-03T12:31:23.889Z"
   },
   {
    "duration": 0,
    "start_time": "2023-02-03T12:31:23.890Z"
   },
   {
    "duration": 0,
    "start_time": "2023-02-03T12:31:23.892Z"
   },
   {
    "duration": 0,
    "start_time": "2023-02-03T12:31:23.894Z"
   },
   {
    "duration": 0,
    "start_time": "2023-02-03T12:31:23.895Z"
   },
   {
    "duration": 0,
    "start_time": "2023-02-03T12:31:23.897Z"
   },
   {
    "duration": 0,
    "start_time": "2023-02-03T12:31:23.898Z"
   },
   {
    "duration": 0,
    "start_time": "2023-02-03T12:31:23.899Z"
   },
   {
    "duration": 3,
    "start_time": "2023-02-03T12:31:41.768Z"
   },
   {
    "duration": 435,
    "start_time": "2023-02-03T12:31:49.523Z"
   },
   {
    "duration": 501,
    "start_time": "2023-02-03T12:31:49.960Z"
   },
   {
    "duration": 197,
    "start_time": "2023-02-03T12:31:50.463Z"
   },
   {
    "duration": 3,
    "start_time": "2023-02-03T12:31:50.662Z"
   },
   {
    "duration": 6,
    "start_time": "2023-02-03T12:31:50.667Z"
   },
   {
    "duration": 160,
    "start_time": "2023-02-03T12:31:50.674Z"
   },
   {
    "duration": 3,
    "start_time": "2023-02-03T12:31:50.838Z"
   },
   {
    "duration": 19,
    "start_time": "2023-02-03T12:31:50.843Z"
   },
   {
    "duration": 18,
    "start_time": "2023-02-03T12:31:50.864Z"
   },
   {
    "duration": 60,
    "start_time": "2023-02-03T12:31:50.884Z"
   },
   {
    "duration": 166,
    "start_time": "2023-02-03T12:31:50.946Z"
   },
   {
    "duration": 11,
    "start_time": "2023-02-03T12:31:51.114Z"
   },
   {
    "duration": 15,
    "start_time": "2023-02-03T12:31:51.127Z"
   },
   {
    "duration": 21,
    "start_time": "2023-02-03T12:31:51.146Z"
   },
   {
    "duration": 19,
    "start_time": "2023-02-03T12:31:51.169Z"
   },
   {
    "duration": 8,
    "start_time": "2023-02-03T12:31:51.190Z"
   },
   {
    "duration": 142,
    "start_time": "2023-02-03T12:31:51.200Z"
   },
   {
    "duration": 11,
    "start_time": "2023-02-03T12:31:51.344Z"
   },
   {
    "duration": 27,
    "start_time": "2023-02-03T12:31:51.357Z"
   },
   {
    "duration": 77,
    "start_time": "2023-02-03T12:31:51.386Z"
   },
   {
    "duration": 89,
    "start_time": "2023-02-03T12:31:51.464Z"
   },
   {
    "duration": 20,
    "start_time": "2023-02-03T12:31:51.555Z"
   },
   {
    "duration": 13,
    "start_time": "2023-02-03T12:31:51.577Z"
   },
   {
    "duration": 41,
    "start_time": "2023-02-03T12:31:51.592Z"
   },
   {
    "duration": 19,
    "start_time": "2023-02-03T12:31:51.634Z"
   },
   {
    "duration": 22,
    "start_time": "2023-02-03T12:31:51.654Z"
   },
   {
    "duration": 21,
    "start_time": "2023-02-03T12:31:51.678Z"
   },
   {
    "duration": 279,
    "start_time": "2023-02-03T12:31:51.701Z"
   },
   {
    "duration": 15,
    "start_time": "2023-02-03T12:31:51.982Z"
   },
   {
    "duration": 34,
    "start_time": "2023-02-03T12:31:51.999Z"
   },
   {
    "duration": 27,
    "start_time": "2023-02-03T12:31:52.035Z"
   },
   {
    "duration": 21,
    "start_time": "2023-02-03T12:31:52.063Z"
   },
   {
    "duration": 7,
    "start_time": "2023-02-03T12:31:52.086Z"
   },
   {
    "duration": 22,
    "start_time": "2023-02-03T12:31:52.094Z"
   },
   {
    "duration": 10,
    "start_time": "2023-02-03T12:31:52.119Z"
   },
   {
    "duration": 6,
    "start_time": "2023-02-03T12:31:52.131Z"
   },
   {
    "duration": 34,
    "start_time": "2023-02-03T12:31:52.139Z"
   },
   {
    "duration": 18,
    "start_time": "2023-02-03T12:31:52.175Z"
   },
   {
    "duration": 25,
    "start_time": "2023-02-03T12:31:52.195Z"
   },
   {
    "duration": 82,
    "start_time": "2023-02-03T12:31:52.222Z"
   },
   {
    "duration": 6,
    "start_time": "2023-02-03T12:31:52.309Z"
   },
   {
    "duration": 12,
    "start_time": "2023-02-03T12:31:52.317Z"
   },
   {
    "duration": 8,
    "start_time": "2023-02-03T12:31:52.330Z"
   },
   {
    "duration": 6,
    "start_time": "2023-02-03T12:31:52.349Z"
   },
   {
    "duration": 27,
    "start_time": "2023-02-03T12:31:52.357Z"
   },
   {
    "duration": 18,
    "start_time": "2023-02-03T12:31:52.386Z"
   },
   {
    "duration": 1591,
    "start_time": "2023-02-03T12:31:52.406Z"
   },
   {
    "duration": 0,
    "start_time": "2023-02-03T12:31:53.999Z"
   },
   {
    "duration": 0,
    "start_time": "2023-02-03T12:31:54.000Z"
   },
   {
    "duration": 0,
    "start_time": "2023-02-03T12:31:54.001Z"
   },
   {
    "duration": 0,
    "start_time": "2023-02-03T12:31:54.001Z"
   },
   {
    "duration": 0,
    "start_time": "2023-02-03T12:31:54.003Z"
   },
   {
    "duration": 0,
    "start_time": "2023-02-03T12:31:54.004Z"
   },
   {
    "duration": 0,
    "start_time": "2023-02-03T12:31:54.005Z"
   },
   {
    "duration": 0,
    "start_time": "2023-02-03T12:31:54.006Z"
   },
   {
    "duration": 0,
    "start_time": "2023-02-03T12:31:54.008Z"
   },
   {
    "duration": 0,
    "start_time": "2023-02-03T12:31:54.009Z"
   },
   {
    "duration": 0,
    "start_time": "2023-02-03T12:31:54.010Z"
   },
   {
    "duration": 0,
    "start_time": "2023-02-03T12:31:54.012Z"
   },
   {
    "duration": 0,
    "start_time": "2023-02-03T12:31:54.013Z"
   },
   {
    "duration": 0,
    "start_time": "2023-02-03T12:31:54.014Z"
   },
   {
    "duration": 0,
    "start_time": "2023-02-03T12:31:54.016Z"
   },
   {
    "duration": 0,
    "start_time": "2023-02-03T12:31:54.017Z"
   },
   {
    "duration": 0,
    "start_time": "2023-02-03T12:31:54.049Z"
   },
   {
    "duration": 0,
    "start_time": "2023-02-03T12:31:54.050Z"
   },
   {
    "duration": 290,
    "start_time": "2023-02-03T12:32:55.392Z"
   },
   {
    "duration": 448,
    "start_time": "2023-02-03T12:33:01.721Z"
   },
   {
    "duration": 451,
    "start_time": "2023-02-03T12:33:02.172Z"
   },
   {
    "duration": 231,
    "start_time": "2023-02-03T12:33:02.625Z"
   },
   {
    "duration": 3,
    "start_time": "2023-02-03T12:33:02.858Z"
   },
   {
    "duration": 9,
    "start_time": "2023-02-03T12:33:02.863Z"
   },
   {
    "duration": 162,
    "start_time": "2023-02-03T12:33:02.874Z"
   },
   {
    "duration": 3,
    "start_time": "2023-02-03T12:33:03.039Z"
   },
   {
    "duration": 10,
    "start_time": "2023-02-03T12:33:03.048Z"
   },
   {
    "duration": 13,
    "start_time": "2023-02-03T12:33:03.060Z"
   },
   {
    "duration": 120,
    "start_time": "2023-02-03T12:33:03.075Z"
   },
   {
    "duration": 176,
    "start_time": "2023-02-03T12:33:03.197Z"
   },
   {
    "duration": 12,
    "start_time": "2023-02-03T12:33:03.376Z"
   },
   {
    "duration": 25,
    "start_time": "2023-02-03T12:33:03.390Z"
   },
   {
    "duration": 34,
    "start_time": "2023-02-03T12:33:03.420Z"
   },
   {
    "duration": 24,
    "start_time": "2023-02-03T12:33:03.455Z"
   },
   {
    "duration": 18,
    "start_time": "2023-02-03T12:33:03.482Z"
   },
   {
    "duration": 184,
    "start_time": "2023-02-03T12:33:03.502Z"
   },
   {
    "duration": 12,
    "start_time": "2023-02-03T12:33:03.689Z"
   },
   {
    "duration": 28,
    "start_time": "2023-02-03T12:33:03.703Z"
   },
   {
    "duration": 104,
    "start_time": "2023-02-03T12:33:03.734Z"
   },
   {
    "duration": 81,
    "start_time": "2023-02-03T12:33:03.848Z"
   },
   {
    "duration": 30,
    "start_time": "2023-02-03T12:33:03.931Z"
   },
   {
    "duration": 15,
    "start_time": "2023-02-03T12:33:03.962Z"
   },
   {
    "duration": 32,
    "start_time": "2023-02-03T12:33:03.978Z"
   },
   {
    "duration": 16,
    "start_time": "2023-02-03T12:33:04.011Z"
   },
   {
    "duration": 32,
    "start_time": "2023-02-03T12:33:04.029Z"
   },
   {
    "duration": 16,
    "start_time": "2023-02-03T12:33:04.063Z"
   },
   {
    "duration": 302,
    "start_time": "2023-02-03T12:33:04.080Z"
   },
   {
    "duration": 16,
    "start_time": "2023-02-03T12:33:04.383Z"
   },
   {
    "duration": 19,
    "start_time": "2023-02-03T12:33:04.400Z"
   },
   {
    "duration": 27,
    "start_time": "2023-02-03T12:33:04.421Z"
   },
   {
    "duration": 19,
    "start_time": "2023-02-03T12:33:04.450Z"
   },
   {
    "duration": 19,
    "start_time": "2023-02-03T12:33:04.472Z"
   },
   {
    "duration": 26,
    "start_time": "2023-02-03T12:33:04.493Z"
   },
   {
    "duration": 11,
    "start_time": "2023-02-03T12:33:04.522Z"
   },
   {
    "duration": 16,
    "start_time": "2023-02-03T12:33:04.535Z"
   },
   {
    "duration": 46,
    "start_time": "2023-02-03T12:33:04.553Z"
   },
   {
    "duration": 23,
    "start_time": "2023-02-03T12:33:04.601Z"
   },
   {
    "duration": 59,
    "start_time": "2023-02-03T12:33:04.626Z"
   },
   {
    "duration": 103,
    "start_time": "2023-02-03T12:33:04.688Z"
   },
   {
    "duration": 7,
    "start_time": "2023-02-03T12:33:04.795Z"
   },
   {
    "duration": 23,
    "start_time": "2023-02-03T12:33:04.804Z"
   },
   {
    "duration": 22,
    "start_time": "2023-02-03T12:33:04.829Z"
   },
   {
    "duration": 9,
    "start_time": "2023-02-03T12:33:04.854Z"
   },
   {
    "duration": 14,
    "start_time": "2023-02-03T12:33:04.866Z"
   },
   {
    "duration": 17,
    "start_time": "2023-02-03T12:33:04.882Z"
   },
   {
    "duration": 309,
    "start_time": "2023-02-03T12:33:04.901Z"
   },
   {
    "duration": 4,
    "start_time": "2023-02-03T12:33:05.212Z"
   },
   {
    "duration": 1440,
    "start_time": "2023-02-03T12:33:05.217Z"
   },
   {
    "duration": 0,
    "start_time": "2023-02-03T12:33:06.658Z"
   },
   {
    "duration": 0,
    "start_time": "2023-02-03T12:33:06.660Z"
   },
   {
    "duration": 0,
    "start_time": "2023-02-03T12:33:06.661Z"
   },
   {
    "duration": 0,
    "start_time": "2023-02-03T12:33:06.663Z"
   },
   {
    "duration": 0,
    "start_time": "2023-02-03T12:33:06.665Z"
   },
   {
    "duration": 0,
    "start_time": "2023-02-03T12:33:06.666Z"
   },
   {
    "duration": 0,
    "start_time": "2023-02-03T12:33:06.667Z"
   },
   {
    "duration": 0,
    "start_time": "2023-02-03T12:33:06.669Z"
   },
   {
    "duration": 0,
    "start_time": "2023-02-03T12:33:06.670Z"
   },
   {
    "duration": 0,
    "start_time": "2023-02-03T12:33:06.672Z"
   },
   {
    "duration": 0,
    "start_time": "2023-02-03T12:33:06.673Z"
   },
   {
    "duration": 0,
    "start_time": "2023-02-03T12:33:06.675Z"
   },
   {
    "duration": 0,
    "start_time": "2023-02-03T12:33:06.676Z"
   },
   {
    "duration": 0,
    "start_time": "2023-02-03T12:33:06.677Z"
   },
   {
    "duration": 0,
    "start_time": "2023-02-03T12:33:06.679Z"
   },
   {
    "duration": 0,
    "start_time": "2023-02-03T12:33:06.681Z"
   },
   {
    "duration": 6,
    "start_time": "2023-02-03T12:33:44.080Z"
   },
   {
    "duration": 389,
    "start_time": "2023-02-03T13:18:15.440Z"
   },
   {
    "duration": 454,
    "start_time": "2023-02-03T13:18:15.831Z"
   },
   {
    "duration": 389,
    "start_time": "2023-02-03T13:18:16.287Z"
   },
   {
    "duration": 3,
    "start_time": "2023-02-03T13:18:16.677Z"
   },
   {
    "duration": 10,
    "start_time": "2023-02-03T13:18:16.682Z"
   },
   {
    "duration": 149,
    "start_time": "2023-02-03T13:18:16.693Z"
   },
   {
    "duration": 4,
    "start_time": "2023-02-03T13:18:16.844Z"
   },
   {
    "duration": 4,
    "start_time": "2023-02-03T13:18:16.851Z"
   },
   {
    "duration": 6,
    "start_time": "2023-02-03T13:18:16.857Z"
   },
   {
    "duration": 83,
    "start_time": "2023-02-03T13:18:16.865Z"
   },
   {
    "duration": 740,
    "start_time": "2023-02-03T13:18:16.950Z"
   },
   {
    "duration": 11,
    "start_time": "2023-02-03T13:18:17.692Z"
   },
   {
    "duration": 17,
    "start_time": "2023-02-03T13:18:17.704Z"
   },
   {
    "duration": 10,
    "start_time": "2023-02-03T13:18:17.724Z"
   },
   {
    "duration": 14,
    "start_time": "2023-02-03T13:18:17.736Z"
   },
   {
    "duration": 8,
    "start_time": "2023-02-03T13:18:17.752Z"
   },
   {
    "duration": 145,
    "start_time": "2023-02-03T13:18:17.762Z"
   },
   {
    "duration": 11,
    "start_time": "2023-02-03T13:18:17.909Z"
   },
   {
    "duration": 32,
    "start_time": "2023-02-03T13:18:17.922Z"
   },
   {
    "duration": 86,
    "start_time": "2023-02-03T13:18:17.956Z"
   },
   {
    "duration": 90,
    "start_time": "2023-02-03T13:18:18.044Z"
   },
   {
    "duration": 20,
    "start_time": "2023-02-03T13:18:18.136Z"
   },
   {
    "duration": 12,
    "start_time": "2023-02-03T13:18:18.158Z"
   },
   {
    "duration": 48,
    "start_time": "2023-02-03T13:18:18.172Z"
   },
   {
    "duration": 11,
    "start_time": "2023-02-03T13:18:18.222Z"
   },
   {
    "duration": 17,
    "start_time": "2023-02-03T13:18:18.235Z"
   },
   {
    "duration": 8,
    "start_time": "2023-02-03T13:18:18.253Z"
   },
   {
    "duration": 323,
    "start_time": "2023-02-03T13:18:18.262Z"
   },
   {
    "duration": 22,
    "start_time": "2023-02-03T13:18:18.587Z"
   },
   {
    "duration": 9,
    "start_time": "2023-02-03T13:18:18.610Z"
   },
   {
    "duration": 12,
    "start_time": "2023-02-03T13:18:18.621Z"
   },
   {
    "duration": 9,
    "start_time": "2023-02-03T13:18:18.635Z"
   },
   {
    "duration": 9,
    "start_time": "2023-02-03T13:18:18.645Z"
   },
   {
    "duration": 14,
    "start_time": "2023-02-03T13:18:18.655Z"
   },
   {
    "duration": 4,
    "start_time": "2023-02-03T13:18:18.670Z"
   },
   {
    "duration": 4,
    "start_time": "2023-02-03T13:18:18.703Z"
   },
   {
    "duration": 39,
    "start_time": "2023-02-03T13:18:18.708Z"
   },
   {
    "duration": 18,
    "start_time": "2023-02-03T13:18:18.748Z"
   },
   {
    "duration": 44,
    "start_time": "2023-02-03T13:18:18.768Z"
   },
   {
    "duration": 65,
    "start_time": "2023-02-03T13:18:18.814Z"
   },
   {
    "duration": 21,
    "start_time": "2023-02-03T13:18:18.883Z"
   },
   {
    "duration": 4,
    "start_time": "2023-02-03T13:18:18.905Z"
   },
   {
    "duration": 9,
    "start_time": "2023-02-03T13:18:18.910Z"
   },
   {
    "duration": 8,
    "start_time": "2023-02-03T13:18:18.921Z"
   },
   {
    "duration": 23,
    "start_time": "2023-02-03T13:18:18.930Z"
   },
   {
    "duration": 10,
    "start_time": "2023-02-03T13:18:18.955Z"
   },
   {
    "duration": 313,
    "start_time": "2023-02-03T13:18:18.967Z"
   },
   {
    "duration": 3,
    "start_time": "2023-02-03T13:18:19.281Z"
   },
   {
    "duration": 20,
    "start_time": "2023-02-03T13:18:19.286Z"
   },
   {
    "duration": 10,
    "start_time": "2023-02-03T13:18:19.308Z"
   },
   {
    "duration": 7,
    "start_time": "2023-02-03T13:18:19.320Z"
   },
   {
    "duration": 19,
    "start_time": "2023-02-03T13:18:19.329Z"
   },
   {
    "duration": 55,
    "start_time": "2023-02-03T13:18:19.350Z"
   },
   {
    "duration": 4,
    "start_time": "2023-02-03T13:18:19.407Z"
   },
   {
    "duration": 10,
    "start_time": "2023-02-03T13:18:19.413Z"
   },
   {
    "duration": 14,
    "start_time": "2023-02-03T13:18:19.425Z"
   },
   {
    "duration": 140,
    "start_time": "2023-02-03T13:18:19.441Z"
   },
   {
    "duration": 8,
    "start_time": "2023-02-03T13:18:19.583Z"
   },
   {
    "duration": 263,
    "start_time": "2023-02-03T13:18:19.604Z"
   },
   {
    "duration": 310,
    "start_time": "2023-02-03T13:18:19.869Z"
   },
   {
    "duration": 0,
    "start_time": "2023-02-03T13:18:20.180Z"
   },
   {
    "duration": 0,
    "start_time": "2023-02-03T13:18:20.181Z"
   },
   {
    "duration": 0,
    "start_time": "2023-02-03T13:18:20.183Z"
   },
   {
    "duration": 0,
    "start_time": "2023-02-03T13:18:20.184Z"
   },
   {
    "duration": 363,
    "start_time": "2023-02-03T13:19:04.354Z"
   },
   {
    "duration": 441,
    "start_time": "2023-02-03T13:19:04.719Z"
   },
   {
    "duration": 207,
    "start_time": "2023-02-03T13:19:05.161Z"
   },
   {
    "duration": 3,
    "start_time": "2023-02-03T13:19:05.369Z"
   },
   {
    "duration": 8,
    "start_time": "2023-02-03T13:19:05.374Z"
   },
   {
    "duration": 146,
    "start_time": "2023-02-03T13:19:05.383Z"
   },
   {
    "duration": 4,
    "start_time": "2023-02-03T13:19:05.531Z"
   },
   {
    "duration": 5,
    "start_time": "2023-02-03T13:19:05.537Z"
   },
   {
    "duration": 5,
    "start_time": "2023-02-03T13:19:05.543Z"
   },
   {
    "duration": 73,
    "start_time": "2023-02-03T13:19:05.550Z"
   },
   {
    "duration": 148,
    "start_time": "2023-02-03T13:19:05.625Z"
   },
   {
    "duration": 10,
    "start_time": "2023-02-03T13:19:05.775Z"
   },
   {
    "duration": 5,
    "start_time": "2023-02-03T13:19:05.786Z"
   },
   {
    "duration": 11,
    "start_time": "2023-02-03T13:19:05.802Z"
   },
   {
    "duration": 14,
    "start_time": "2023-02-03T13:19:05.814Z"
   },
   {
    "duration": 9,
    "start_time": "2023-02-03T13:19:05.829Z"
   },
   {
    "duration": 153,
    "start_time": "2023-02-03T13:19:05.839Z"
   },
   {
    "duration": 17,
    "start_time": "2023-02-03T13:19:05.993Z"
   },
   {
    "duration": 26,
    "start_time": "2023-02-03T13:19:06.012Z"
   },
   {
    "duration": 76,
    "start_time": "2023-02-03T13:19:06.040Z"
   },
   {
    "duration": 89,
    "start_time": "2023-02-03T13:19:06.118Z"
   },
   {
    "duration": 20,
    "start_time": "2023-02-03T13:19:06.209Z"
   },
   {
    "duration": 11,
    "start_time": "2023-02-03T13:19:06.230Z"
   },
   {
    "duration": 31,
    "start_time": "2023-02-03T13:19:06.243Z"
   },
   {
    "duration": 30,
    "start_time": "2023-02-03T13:19:06.275Z"
   },
   {
    "duration": 16,
    "start_time": "2023-02-03T13:19:06.306Z"
   },
   {
    "duration": 13,
    "start_time": "2023-02-03T13:19:06.323Z"
   },
   {
    "duration": 317,
    "start_time": "2023-02-03T13:19:06.337Z"
   },
   {
    "duration": 39,
    "start_time": "2023-02-03T13:19:06.655Z"
   },
   {
    "duration": 13,
    "start_time": "2023-02-03T13:19:06.696Z"
   },
   {
    "duration": 18,
    "start_time": "2023-02-03T13:19:06.711Z"
   },
   {
    "duration": 11,
    "start_time": "2023-02-03T13:19:06.731Z"
   },
   {
    "duration": 18,
    "start_time": "2023-02-03T13:19:06.743Z"
   },
   {
    "duration": 15,
    "start_time": "2023-02-03T13:19:06.762Z"
   },
   {
    "duration": 3,
    "start_time": "2023-02-03T13:19:06.779Z"
   },
   {
    "duration": 20,
    "start_time": "2023-02-03T13:19:06.784Z"
   },
   {
    "duration": 50,
    "start_time": "2023-02-03T13:19:06.805Z"
   },
   {
    "duration": 18,
    "start_time": "2023-02-03T13:19:06.856Z"
   },
   {
    "duration": 43,
    "start_time": "2023-02-03T13:19:06.876Z"
   },
   {
    "duration": 66,
    "start_time": "2023-02-03T13:19:06.921Z"
   },
   {
    "duration": 8,
    "start_time": "2023-02-03T13:19:07.002Z"
   },
   {
    "duration": 7,
    "start_time": "2023-02-03T13:19:07.012Z"
   },
   {
    "duration": 6,
    "start_time": "2023-02-03T13:19:07.020Z"
   },
   {
    "duration": 6,
    "start_time": "2023-02-03T13:19:07.027Z"
   },
   {
    "duration": 13,
    "start_time": "2023-02-03T13:19:07.035Z"
   },
   {
    "duration": 10,
    "start_time": "2023-02-03T13:19:07.050Z"
   },
   {
    "duration": 361,
    "start_time": "2023-02-03T13:19:07.062Z"
   },
   {
    "duration": 3,
    "start_time": "2023-02-03T13:19:07.425Z"
   },
   {
    "duration": 13,
    "start_time": "2023-02-03T13:19:07.429Z"
   },
   {
    "duration": 10,
    "start_time": "2023-02-03T13:19:07.443Z"
   },
   {
    "duration": 6,
    "start_time": "2023-02-03T13:19:07.454Z"
   },
   {
    "duration": 42,
    "start_time": "2023-02-03T13:19:07.462Z"
   },
   {
    "duration": 28,
    "start_time": "2023-02-03T13:19:07.506Z"
   },
   {
    "duration": 4,
    "start_time": "2023-02-03T13:19:07.536Z"
   },
   {
    "duration": 15,
    "start_time": "2023-02-03T13:19:07.542Z"
   },
   {
    "duration": 12,
    "start_time": "2023-02-03T13:19:07.559Z"
   },
   {
    "duration": 128,
    "start_time": "2023-02-03T13:19:07.573Z"
   },
   {
    "duration": 8,
    "start_time": "2023-02-03T13:19:07.703Z"
   },
   {
    "duration": 258,
    "start_time": "2023-02-03T13:19:07.713Z"
   },
   {
    "duration": 47,
    "start_time": "2023-02-03T13:19:07.973Z"
   },
   {
    "duration": 111,
    "start_time": "2023-02-03T13:19:08.022Z"
   },
   {
    "duration": 946,
    "start_time": "2023-02-03T13:19:08.135Z"
   },
   {
    "duration": 0,
    "start_time": "2023-02-03T13:19:09.082Z"
   },
   {
    "duration": 1215,
    "start_time": "2023-02-03T13:20:01.974Z"
   },
   {
    "duration": 716,
    "start_time": "2023-02-03T13:20:12.107Z"
   },
   {
    "duration": 826,
    "start_time": "2023-02-03T13:20:22.653Z"
   },
   {
    "duration": 840,
    "start_time": "2023-02-03T13:20:43.046Z"
   },
   {
    "duration": 20,
    "start_time": "2023-02-03T13:21:43.846Z"
   },
   {
    "duration": 32,
    "start_time": "2023-02-03T13:21:50.070Z"
   },
   {
    "duration": 697,
    "start_time": "2023-02-03T13:21:53.246Z"
   },
   {
    "duration": 723,
    "start_time": "2023-02-03T13:23:12.405Z"
   },
   {
    "duration": 720,
    "start_time": "2023-02-03T13:24:00.477Z"
   },
   {
    "duration": 722,
    "start_time": "2023-02-03T13:25:47.054Z"
   },
   {
    "duration": 750,
    "start_time": "2023-02-03T13:31:17.439Z"
   },
   {
    "duration": 16154,
    "start_time": "2023-02-03T13:43:26.057Z"
   },
   {
    "duration": 279,
    "start_time": "2023-02-03T13:44:04.561Z"
   },
   {
    "duration": 15938,
    "start_time": "2023-02-03T13:47:38.338Z"
   },
   {
    "duration": 27536,
    "start_time": "2023-02-03T13:51:40.458Z"
   },
   {
    "duration": 656,
    "start_time": "2023-02-03T13:52:17.865Z"
   },
   {
    "duration": 641,
    "start_time": "2023-02-03T13:53:10.710Z"
   },
   {
    "duration": 635,
    "start_time": "2023-02-03T13:53:33.524Z"
   },
   {
    "duration": 15,
    "start_time": "2023-02-03T13:53:55.766Z"
   },
   {
    "duration": 11,
    "start_time": "2023-02-03T13:54:10.886Z"
   },
   {
    "duration": 11,
    "start_time": "2023-02-03T13:54:19.238Z"
   },
   {
    "duration": 13,
    "start_time": "2023-02-03T13:54:31.406Z"
   },
   {
    "duration": 718,
    "start_time": "2023-02-03T13:54:58.687Z"
   },
   {
    "duration": 10,
    "start_time": "2023-02-03T13:55:07.685Z"
   },
   {
    "duration": 644,
    "start_time": "2023-02-03T13:55:32.711Z"
   },
   {
    "duration": 8,
    "start_time": "2023-02-03T13:55:41.078Z"
   },
   {
    "duration": 10112,
    "start_time": "2023-02-03T13:56:59.758Z"
   },
   {
    "duration": 7,
    "start_time": "2023-02-03T13:57:21.065Z"
   },
   {
    "duration": 11,
    "start_time": "2023-02-03T13:59:12.984Z"
   },
   {
    "duration": 15,
    "start_time": "2023-02-03T13:59:32.058Z"
   },
   {
    "duration": 14,
    "start_time": "2023-02-03T14:00:31.169Z"
   },
   {
    "duration": 13,
    "start_time": "2023-02-03T14:00:46.136Z"
   },
   {
    "duration": 12,
    "start_time": "2023-02-03T14:02:06.409Z"
   },
   {
    "duration": 13,
    "start_time": "2023-02-03T14:02:34.913Z"
   },
   {
    "duration": 19,
    "start_time": "2023-02-03T14:03:25.456Z"
   },
   {
    "duration": 50,
    "start_time": "2023-02-03T14:04:57.134Z"
   },
   {
    "duration": 13051,
    "start_time": "2023-02-03T14:05:06.653Z"
   },
   {
    "duration": 114,
    "start_time": "2023-02-03T14:06:22.635Z"
   },
   {
    "duration": 116,
    "start_time": "2023-02-03T14:06:32.179Z"
   },
   {
    "duration": 113,
    "start_time": "2023-02-03T14:06:50.195Z"
   },
   {
    "duration": 11,
    "start_time": "2023-02-03T14:06:59.875Z"
   },
   {
    "duration": 6,
    "start_time": "2023-02-03T14:07:29.515Z"
   },
   {
    "duration": 4,
    "start_time": "2023-02-03T14:07:42.099Z"
   },
   {
    "duration": 14,
    "start_time": "2023-02-03T14:08:01.075Z"
   },
   {
    "duration": 15,
    "start_time": "2023-02-03T14:08:13.836Z"
   },
   {
    "duration": 6,
    "start_time": "2023-02-03T14:08:42.932Z"
   },
   {
    "duration": 5,
    "start_time": "2023-02-03T14:09:00.219Z"
   },
   {
    "duration": 12,
    "start_time": "2023-02-03T14:09:17.500Z"
   },
   {
    "duration": 45,
    "start_time": "2023-02-03T14:10:20.827Z"
   },
   {
    "duration": 727,
    "start_time": "2023-02-03T14:10:35.987Z"
   },
   {
    "duration": 9,
    "start_time": "2023-02-03T14:12:51.558Z"
   },
   {
    "duration": 652,
    "start_time": "2023-02-03T14:15:55.965Z"
   },
   {
    "duration": 36,
    "start_time": "2023-02-03T14:17:02.070Z"
   },
   {
    "duration": 699,
    "start_time": "2023-02-03T14:17:03.853Z"
   },
   {
    "duration": 672,
    "start_time": "2023-02-03T14:17:21.056Z"
   },
   {
    "duration": 624,
    "start_time": "2023-02-03T14:19:54.614Z"
   },
   {
    "duration": 224,
    "start_time": "2023-02-03T14:21:40.214Z"
   },
   {
    "duration": 69,
    "start_time": "2023-02-03T14:21:47.584Z"
   },
   {
    "duration": 73,
    "start_time": "2023-02-03T14:21:51.465Z"
   },
   {
    "duration": 8,
    "start_time": "2023-02-03T14:21:52.888Z"
   },
   {
    "duration": 8,
    "start_time": "2023-02-03T14:21:55.528Z"
   },
   {
    "duration": 10,
    "start_time": "2023-02-03T14:21:57.191Z"
   },
   {
    "duration": 50,
    "start_time": "2023-02-03T14:22:31.215Z"
   },
   {
    "duration": 74,
    "start_time": "2023-02-03T14:22:36.519Z"
   },
   {
    "duration": 7,
    "start_time": "2023-02-03T14:22:38.440Z"
   },
   {
    "duration": 718,
    "start_time": "2023-02-03T14:23:51.129Z"
   },
   {
    "duration": 7,
    "start_time": "2023-02-03T14:24:16.230Z"
   },
   {
    "duration": 6,
    "start_time": "2023-02-03T14:24:34.009Z"
   },
   {
    "duration": 4,
    "start_time": "2023-02-03T14:24:44.849Z"
   },
   {
    "duration": 8,
    "start_time": "2023-02-03T14:24:53.665Z"
   },
   {
    "duration": 19,
    "start_time": "2023-02-03T14:26:04.625Z"
   },
   {
    "duration": 197,
    "start_time": "2023-02-03T14:26:50.562Z"
   },
   {
    "duration": 5,
    "start_time": "2023-02-03T14:27:47.657Z"
   },
   {
    "duration": 11,
    "start_time": "2023-02-03T14:28:03.043Z"
   },
   {
    "duration": 10,
    "start_time": "2023-02-03T14:28:22.980Z"
   },
   {
    "duration": 5,
    "start_time": "2023-02-03T14:29:00.625Z"
   },
   {
    "duration": 4,
    "start_time": "2023-02-03T14:29:27.658Z"
   },
   {
    "duration": 8,
    "start_time": "2023-02-03T14:29:57.563Z"
   },
   {
    "duration": 10,
    "start_time": "2023-02-03T14:30:26.746Z"
   },
   {
    "duration": 5,
    "start_time": "2023-02-03T14:30:49.925Z"
   },
   {
    "duration": 6,
    "start_time": "2023-02-03T14:33:43.300Z"
   },
   {
    "duration": 7,
    "start_time": "2023-02-03T14:33:46.820Z"
   },
   {
    "duration": 296,
    "start_time": "2023-02-03T14:33:51.053Z"
   },
   {
    "duration": 39,
    "start_time": "2023-02-03T14:37:59.253Z"
   },
   {
    "duration": 9,
    "start_time": "2023-02-03T14:38:07.709Z"
   },
   {
    "duration": 10,
    "start_time": "2023-02-03T14:38:45.851Z"
   },
   {
    "duration": 4,
    "start_time": "2023-02-03T14:38:52.879Z"
   },
   {
    "duration": 10,
    "start_time": "2023-02-03T14:38:55.846Z"
   },
   {
    "duration": 10,
    "start_time": "2023-02-03T14:39:20.774Z"
   },
   {
    "duration": 16,
    "start_time": "2023-02-03T14:40:19.942Z"
   },
   {
    "duration": 10,
    "start_time": "2023-02-03T14:40:27.774Z"
   },
   {
    "duration": 36,
    "start_time": "2023-02-03T14:41:26.040Z"
   },
   {
    "duration": 41,
    "start_time": "2023-02-03T14:42:35.031Z"
   },
   {
    "duration": 11,
    "start_time": "2023-02-03T14:42:37.872Z"
   },
   {
    "duration": 653,
    "start_time": "2023-02-03T14:42:54.475Z"
   },
   {
    "duration": 404,
    "start_time": "2023-02-03T14:42:55.130Z"
   },
   {
    "duration": 254,
    "start_time": "2023-02-03T14:42:55.538Z"
   },
   {
    "duration": 3,
    "start_time": "2023-02-03T14:42:55.795Z"
   },
   {
    "duration": 8,
    "start_time": "2023-02-03T14:42:55.802Z"
   },
   {
    "duration": 91,
    "start_time": "2023-02-03T14:42:55.812Z"
   },
   {
    "duration": 3,
    "start_time": "2023-02-03T14:42:55.905Z"
   },
   {
    "duration": 7,
    "start_time": "2023-02-03T14:42:55.909Z"
   },
   {
    "duration": 8,
    "start_time": "2023-02-03T14:42:55.917Z"
   },
   {
    "duration": 62,
    "start_time": "2023-02-03T14:42:55.926Z"
   },
   {
    "duration": 155,
    "start_time": "2023-02-03T14:42:55.990Z"
   },
   {
    "duration": 11,
    "start_time": "2023-02-03T14:42:56.147Z"
   },
   {
    "duration": 6,
    "start_time": "2023-02-03T14:42:56.161Z"
   },
   {
    "duration": 26,
    "start_time": "2023-02-03T14:42:56.168Z"
   },
   {
    "duration": 33,
    "start_time": "2023-02-03T14:42:56.196Z"
   },
   {
    "duration": 7,
    "start_time": "2023-02-03T14:42:56.231Z"
   },
   {
    "duration": 121,
    "start_time": "2023-02-03T14:42:56.241Z"
   },
   {
    "duration": 8,
    "start_time": "2023-02-03T14:42:56.364Z"
   },
   {
    "duration": 49,
    "start_time": "2023-02-03T14:42:56.374Z"
   },
   {
    "duration": 58,
    "start_time": "2023-02-03T14:42:56.425Z"
   },
   {
    "duration": 79,
    "start_time": "2023-02-03T14:42:56.484Z"
   },
   {
    "duration": 46,
    "start_time": "2023-02-03T14:42:56.565Z"
   },
   {
    "duration": 14,
    "start_time": "2023-02-03T14:42:56.613Z"
   },
   {
    "duration": 18,
    "start_time": "2023-02-03T14:42:56.629Z"
   },
   {
    "duration": 11,
    "start_time": "2023-02-03T14:42:56.649Z"
   },
   {
    "duration": 42,
    "start_time": "2023-02-03T14:42:56.662Z"
   },
   {
    "duration": 9,
    "start_time": "2023-02-03T14:42:56.706Z"
   },
   {
    "duration": 238,
    "start_time": "2023-02-03T14:42:56.716Z"
   },
   {
    "duration": 14,
    "start_time": "2023-02-03T14:42:56.956Z"
   },
   {
    "duration": 8,
    "start_time": "2023-02-03T14:42:56.972Z"
   },
   {
    "duration": 29,
    "start_time": "2023-02-03T14:42:56.981Z"
   },
   {
    "duration": 9,
    "start_time": "2023-02-03T14:42:57.012Z"
   },
   {
    "duration": 6,
    "start_time": "2023-02-03T14:42:57.022Z"
   },
   {
    "duration": 14,
    "start_time": "2023-02-03T14:42:57.030Z"
   },
   {
    "duration": 4,
    "start_time": "2023-02-03T14:42:57.045Z"
   },
   {
    "duration": 8,
    "start_time": "2023-02-03T14:42:57.050Z"
   },
   {
    "duration": 47,
    "start_time": "2023-02-03T14:42:57.060Z"
   },
   {
    "duration": 15,
    "start_time": "2023-02-03T14:42:57.109Z"
   },
   {
    "duration": 16,
    "start_time": "2023-02-03T14:42:57.126Z"
   },
   {
    "duration": 80,
    "start_time": "2023-02-03T14:42:57.145Z"
   },
   {
    "duration": 7,
    "start_time": "2023-02-03T14:42:57.227Z"
   },
   {
    "duration": 9,
    "start_time": "2023-02-03T14:42:57.236Z"
   },
   {
    "duration": 7,
    "start_time": "2023-02-03T14:42:57.247Z"
   },
   {
    "duration": 6,
    "start_time": "2023-02-03T14:42:57.256Z"
   },
   {
    "duration": 12,
    "start_time": "2023-02-03T14:42:57.264Z"
   },
   {
    "duration": 26,
    "start_time": "2023-02-03T14:42:57.278Z"
   },
   {
    "duration": 302,
    "start_time": "2023-02-03T14:42:57.306Z"
   },
   {
    "duration": 4,
    "start_time": "2023-02-03T14:42:57.610Z"
   },
   {
    "duration": 11,
    "start_time": "2023-02-03T14:42:57.615Z"
   },
   {
    "duration": 11,
    "start_time": "2023-02-03T14:42:57.628Z"
   },
   {
    "duration": 10,
    "start_time": "2023-02-03T14:42:57.640Z"
   },
   {
    "duration": 17,
    "start_time": "2023-02-03T14:42:57.651Z"
   },
   {
    "duration": 59,
    "start_time": "2023-02-03T14:42:57.670Z"
   },
   {
    "duration": 4,
    "start_time": "2023-02-03T14:42:57.730Z"
   },
   {
    "duration": 9,
    "start_time": "2023-02-03T14:42:57.736Z"
   },
   {
    "duration": 42,
    "start_time": "2023-02-03T14:42:57.746Z"
   },
   {
    "duration": 15,
    "start_time": "2023-02-03T14:42:57.789Z"
   },
   {
    "duration": 81,
    "start_time": "2023-02-03T14:42:57.806Z"
   },
   {
    "duration": 14,
    "start_time": "2023-02-03T14:42:57.889Z"
   },
   {
    "duration": 10,
    "start_time": "2023-02-03T14:42:57.905Z"
   },
   {
    "duration": 217,
    "start_time": "2023-02-03T14:42:57.916Z"
   },
   {
    "duration": 32,
    "start_time": "2023-02-03T14:42:58.136Z"
   },
   {
    "duration": 112,
    "start_time": "2023-02-03T14:42:58.170Z"
   },
   {
    "duration": 802,
    "start_time": "2023-02-03T14:42:58.284Z"
   },
   {
    "duration": 74,
    "start_time": "2023-02-03T14:43:41.176Z"
   },
   {
    "duration": 9,
    "start_time": "2023-02-03T14:43:46.375Z"
   },
   {
    "duration": 74,
    "start_time": "2023-02-03T14:44:02.713Z"
   },
   {
    "duration": 7,
    "start_time": "2023-02-03T14:44:04.571Z"
   },
   {
    "duration": 45,
    "start_time": "2023-02-03T14:45:10.576Z"
   },
   {
    "duration": 10,
    "start_time": "2023-02-03T14:45:16.375Z"
   },
   {
    "duration": 9,
    "start_time": "2023-02-03T14:46:04.707Z"
   },
   {
    "duration": 687,
    "start_time": "2023-02-03T14:50:00.751Z"
   },
   {
    "duration": 108,
    "start_time": "2023-02-03T14:50:29.518Z"
   },
   {
    "duration": 111,
    "start_time": "2023-02-03T14:52:54.900Z"
   },
   {
    "duration": 115,
    "start_time": "2023-02-03T14:53:14.097Z"
   },
   {
    "duration": 773,
    "start_time": "2023-02-03T14:56:29.211Z"
   },
   {
    "duration": 619,
    "start_time": "2023-02-03T14:56:47.636Z"
   },
   {
    "duration": 4,
    "start_time": "2023-02-03T14:57:00.345Z"
   },
   {
    "duration": 8,
    "start_time": "2023-02-03T14:57:01.935Z"
   },
   {
    "duration": 28,
    "start_time": "2023-02-03T14:57:07.577Z"
   },
   {
    "duration": 4,
    "start_time": "2023-02-03T14:57:50.317Z"
   },
   {
    "duration": 7,
    "start_time": "2023-02-03T14:57:53.368Z"
   },
   {
    "duration": 28,
    "start_time": "2023-02-03T14:58:04.564Z"
   },
   {
    "duration": 10,
    "start_time": "2023-02-03T14:58:16.828Z"
   },
   {
    "duration": 4,
    "start_time": "2023-02-03T14:58:48.983Z"
   },
   {
    "duration": 11,
    "start_time": "2023-02-03T14:58:51.589Z"
   },
   {
    "duration": 669,
    "start_time": "2023-02-03T14:59:01.733Z"
   },
   {
    "duration": 550,
    "start_time": "2023-02-03T14:59:16.748Z"
   },
   {
    "duration": 409,
    "start_time": "2023-02-03T14:59:17.302Z"
   },
   {
    "duration": 251,
    "start_time": "2023-02-03T14:59:17.713Z"
   },
   {
    "duration": 3,
    "start_time": "2023-02-03T14:59:17.965Z"
   },
   {
    "duration": 4,
    "start_time": "2023-02-03T14:59:17.970Z"
   },
   {
    "duration": 94,
    "start_time": "2023-02-03T14:59:17.976Z"
   },
   {
    "duration": 3,
    "start_time": "2023-02-03T14:59:18.072Z"
   },
   {
    "duration": 8,
    "start_time": "2023-02-03T14:59:18.076Z"
   },
   {
    "duration": 4,
    "start_time": "2023-02-03T14:59:18.086Z"
   },
   {
    "duration": 67,
    "start_time": "2023-02-03T14:59:18.092Z"
   },
   {
    "duration": 164,
    "start_time": "2023-02-03T14:59:18.162Z"
   },
   {
    "duration": 10,
    "start_time": "2023-02-03T14:59:18.328Z"
   },
   {
    "duration": 8,
    "start_time": "2023-02-03T14:59:18.339Z"
   },
   {
    "duration": 13,
    "start_time": "2023-02-03T14:59:18.350Z"
   },
   {
    "duration": 16,
    "start_time": "2023-02-03T14:59:18.365Z"
   },
   {
    "duration": 23,
    "start_time": "2023-02-03T14:59:18.383Z"
   },
   {
    "duration": 130,
    "start_time": "2023-02-03T14:59:18.409Z"
   },
   {
    "duration": 8,
    "start_time": "2023-02-03T14:59:18.541Z"
   },
   {
    "duration": 39,
    "start_time": "2023-02-03T14:59:18.550Z"
   },
   {
    "duration": 62,
    "start_time": "2023-02-03T14:59:18.590Z"
   },
   {
    "duration": 80,
    "start_time": "2023-02-03T14:59:18.654Z"
   },
   {
    "duration": 34,
    "start_time": "2023-02-03T14:59:18.736Z"
   },
   {
    "duration": 13,
    "start_time": "2023-02-03T14:59:18.772Z"
   },
   {
    "duration": 24,
    "start_time": "2023-02-03T14:59:18.787Z"
   },
   {
    "duration": 9,
    "start_time": "2023-02-03T14:59:18.813Z"
   },
   {
    "duration": 18,
    "start_time": "2023-02-03T14:59:18.824Z"
   },
   {
    "duration": 10,
    "start_time": "2023-02-03T14:59:18.843Z"
   },
   {
    "duration": 259,
    "start_time": "2023-02-03T14:59:18.855Z"
   },
   {
    "duration": 15,
    "start_time": "2023-02-03T14:59:19.116Z"
   },
   {
    "duration": 9,
    "start_time": "2023-02-03T14:59:19.133Z"
   },
   {
    "duration": 13,
    "start_time": "2023-02-03T14:59:19.144Z"
   },
   {
    "duration": 8,
    "start_time": "2023-02-03T14:59:19.158Z"
   },
   {
    "duration": 7,
    "start_time": "2023-02-03T14:59:19.168Z"
   },
   {
    "duration": 37,
    "start_time": "2023-02-03T14:59:19.177Z"
   },
   {
    "duration": 4,
    "start_time": "2023-02-03T14:59:19.217Z"
   },
   {
    "duration": 10,
    "start_time": "2023-02-03T14:59:19.222Z"
   },
   {
    "duration": 37,
    "start_time": "2023-02-03T14:59:19.234Z"
   },
   {
    "duration": 36,
    "start_time": "2023-02-03T14:59:19.273Z"
   },
   {
    "duration": 14,
    "start_time": "2023-02-03T14:59:19.311Z"
   },
   {
    "duration": 66,
    "start_time": "2023-02-03T14:59:19.327Z"
   },
   {
    "duration": 7,
    "start_time": "2023-02-03T14:59:19.405Z"
   },
   {
    "duration": 7,
    "start_time": "2023-02-03T14:59:19.413Z"
   },
   {
    "duration": 7,
    "start_time": "2023-02-03T14:59:19.422Z"
   },
   {
    "duration": 6,
    "start_time": "2023-02-03T14:59:19.430Z"
   },
   {
    "duration": 7,
    "start_time": "2023-02-03T14:59:19.439Z"
   },
   {
    "duration": 16,
    "start_time": "2023-02-03T14:59:19.448Z"
   },
   {
    "duration": 340,
    "start_time": "2023-02-03T14:59:19.466Z"
   },
   {
    "duration": 3,
    "start_time": "2023-02-03T14:59:19.808Z"
   },
   {
    "duration": 11,
    "start_time": "2023-02-03T14:59:19.813Z"
   },
   {
    "duration": 19,
    "start_time": "2023-02-03T14:59:19.826Z"
   },
   {
    "duration": 6,
    "start_time": "2023-02-03T14:59:19.847Z"
   },
   {
    "duration": 19,
    "start_time": "2023-02-03T14:59:19.854Z"
   },
   {
    "duration": 55,
    "start_time": "2023-02-03T14:59:19.874Z"
   },
   {
    "duration": 5,
    "start_time": "2023-02-03T14:59:19.931Z"
   },
   {
    "duration": 8,
    "start_time": "2023-02-03T14:59:19.937Z"
   },
   {
    "duration": 58,
    "start_time": "2023-02-03T14:59:19.947Z"
   },
   {
    "duration": 7,
    "start_time": "2023-02-03T14:59:20.007Z"
   },
   {
    "duration": 17,
    "start_time": "2023-02-03T14:59:20.016Z"
   },
   {
    "duration": 98,
    "start_time": "2023-02-03T14:59:20.035Z"
   },
   {
    "duration": 4,
    "start_time": "2023-02-03T14:59:20.135Z"
   },
   {
    "duration": 12,
    "start_time": "2023-02-03T14:59:20.141Z"
   },
   {
    "duration": 211,
    "start_time": "2023-02-03T14:59:20.155Z"
   },
   {
    "duration": 43,
    "start_time": "2023-02-03T14:59:20.367Z"
   },
   {
    "duration": 109,
    "start_time": "2023-02-03T14:59:20.412Z"
   },
   {
    "duration": 190,
    "start_time": "2023-02-03T14:59:20.524Z"
   },
   {
    "duration": 114,
    "start_time": "2023-02-03T14:59:20.716Z"
   },
   {
    "duration": 118,
    "start_time": "2023-02-03T14:59:20.832Z"
   },
   {
    "duration": 711,
    "start_time": "2023-02-03T14:59:20.952Z"
   },
   {
    "duration": 5,
    "start_time": "2023-02-03T15:01:44.070Z"
   },
   {
    "duration": 6,
    "start_time": "2023-02-03T15:01:47.165Z"
   },
   {
    "duration": 28,
    "start_time": "2023-02-03T15:01:53.677Z"
   },
   {
    "duration": 13,
    "start_time": "2023-02-03T15:05:22.805Z"
   },
   {
    "duration": 42,
    "start_time": "2023-02-03T15:05:37.438Z"
   },
   {
    "duration": 71,
    "start_time": "2023-02-03T15:05:43.222Z"
   },
   {
    "duration": 10,
    "start_time": "2023-02-03T15:05:46.917Z"
   },
   {
    "duration": 11,
    "start_time": "2023-02-03T15:06:02.071Z"
   },
   {
    "duration": 11,
    "start_time": "2023-02-03T15:06:18.046Z"
   },
   {
    "duration": 13,
    "start_time": "2023-02-03T15:07:06.558Z"
   },
   {
    "duration": 13,
    "start_time": "2023-02-03T15:07:21.351Z"
   },
   {
    "duration": 10,
    "start_time": "2023-02-03T15:07:38.542Z"
   },
   {
    "duration": 9,
    "start_time": "2023-02-03T15:07:58.814Z"
   },
   {
    "duration": 10,
    "start_time": "2023-02-03T15:08:04.529Z"
   },
   {
    "duration": 9,
    "start_time": "2023-02-03T15:08:27.481Z"
   },
   {
    "duration": 9,
    "start_time": "2023-02-03T15:09:20.287Z"
   },
   {
    "duration": 7,
    "start_time": "2023-02-03T15:09:23.669Z"
   },
   {
    "duration": 8,
    "start_time": "2023-02-03T15:09:26.663Z"
   },
   {
    "duration": 4,
    "start_time": "2023-02-03T15:09:29.286Z"
   },
   {
    "duration": 3,
    "start_time": "2023-02-03T15:11:08.631Z"
   },
   {
    "duration": 7,
    "start_time": "2023-02-03T15:13:21.400Z"
   },
   {
    "duration": 6,
    "start_time": "2023-02-03T15:13:38.056Z"
   },
   {
    "duration": 6,
    "start_time": "2023-02-03T15:14:25.766Z"
   },
   {
    "duration": 573,
    "start_time": "2023-02-03T15:14:36.003Z"
   },
   {
    "duration": 435,
    "start_time": "2023-02-03T15:14:36.578Z"
   },
   {
    "duration": 261,
    "start_time": "2023-02-03T15:14:37.014Z"
   },
   {
    "duration": 3,
    "start_time": "2023-02-03T15:14:37.276Z"
   },
   {
    "duration": 10,
    "start_time": "2023-02-03T15:14:37.281Z"
   },
   {
    "duration": 87,
    "start_time": "2023-02-03T15:14:37.292Z"
   },
   {
    "duration": 3,
    "start_time": "2023-02-03T15:14:37.381Z"
   },
   {
    "duration": 4,
    "start_time": "2023-02-03T15:14:37.386Z"
   },
   {
    "duration": 3,
    "start_time": "2023-02-03T15:14:37.403Z"
   },
   {
    "duration": 60,
    "start_time": "2023-02-03T15:14:37.407Z"
   },
   {
    "duration": 159,
    "start_time": "2023-02-03T15:14:37.469Z"
   },
   {
    "duration": 10,
    "start_time": "2023-02-03T15:14:37.630Z"
   },
   {
    "duration": 4,
    "start_time": "2023-02-03T15:14:37.642Z"
   },
   {
    "duration": 12,
    "start_time": "2023-02-03T15:14:37.648Z"
   },
   {
    "duration": 15,
    "start_time": "2023-02-03T15:14:37.661Z"
   },
   {
    "duration": 30,
    "start_time": "2023-02-03T15:14:37.678Z"
   },
   {
    "duration": 132,
    "start_time": "2023-02-03T15:14:37.710Z"
   },
   {
    "duration": 8,
    "start_time": "2023-02-03T15:14:37.843Z"
   },
   {
    "duration": 37,
    "start_time": "2023-02-03T15:14:37.852Z"
   },
   {
    "duration": 61,
    "start_time": "2023-02-03T15:14:37.891Z"
   },
   {
    "duration": 75,
    "start_time": "2023-02-03T15:14:37.954Z"
   },
   {
    "duration": 34,
    "start_time": "2023-02-03T15:14:38.031Z"
   },
   {
    "duration": 13,
    "start_time": "2023-02-03T15:14:38.066Z"
   },
   {
    "duration": 32,
    "start_time": "2023-02-03T15:14:38.080Z"
   },
   {
    "duration": 19,
    "start_time": "2023-02-03T15:14:38.114Z"
   },
   {
    "duration": 17,
    "start_time": "2023-02-03T15:14:38.135Z"
   },
   {
    "duration": 24,
    "start_time": "2023-02-03T15:14:38.154Z"
   },
   {
    "duration": 233,
    "start_time": "2023-02-03T15:14:38.180Z"
   },
   {
    "duration": 14,
    "start_time": "2023-02-03T15:14:38.415Z"
   },
   {
    "duration": 8,
    "start_time": "2023-02-03T15:14:38.431Z"
   },
   {
    "duration": 14,
    "start_time": "2023-02-03T15:14:38.440Z"
   },
   {
    "duration": 10,
    "start_time": "2023-02-03T15:14:38.456Z"
   },
   {
    "duration": 6,
    "start_time": "2023-02-03T15:14:38.468Z"
   },
   {
    "duration": 29,
    "start_time": "2023-02-03T15:14:38.476Z"
   },
   {
    "duration": 4,
    "start_time": "2023-02-03T15:14:38.507Z"
   },
   {
    "duration": 4,
    "start_time": "2023-02-03T15:14:38.513Z"
   },
   {
    "duration": 39,
    "start_time": "2023-02-03T15:14:38.519Z"
   },
   {
    "duration": 16,
    "start_time": "2023-02-03T15:14:38.560Z"
   },
   {
    "duration": 39,
    "start_time": "2023-02-03T15:14:38.578Z"
   },
   {
    "duration": 57,
    "start_time": "2023-02-03T15:14:38.619Z"
   },
   {
    "duration": 27,
    "start_time": "2023-02-03T15:14:38.681Z"
   },
   {
    "duration": 5,
    "start_time": "2023-02-03T15:14:38.710Z"
   },
   {
    "duration": 6,
    "start_time": "2023-02-03T15:14:38.717Z"
   },
   {
    "duration": 7,
    "start_time": "2023-02-03T15:14:38.724Z"
   },
   {
    "duration": 7,
    "start_time": "2023-02-03T15:14:38.733Z"
   },
   {
    "duration": 9,
    "start_time": "2023-02-03T15:14:38.741Z"
   },
   {
    "duration": 313,
    "start_time": "2023-02-03T15:14:38.752Z"
   },
   {
    "duration": 2,
    "start_time": "2023-02-03T15:14:39.067Z"
   },
   {
    "duration": 13,
    "start_time": "2023-02-03T15:14:39.071Z"
   },
   {
    "duration": 13,
    "start_time": "2023-02-03T15:14:39.085Z"
   },
   {
    "duration": 4,
    "start_time": "2023-02-03T15:14:39.103Z"
   },
   {
    "duration": 20,
    "start_time": "2023-02-03T15:14:39.109Z"
   },
   {
    "duration": 38,
    "start_time": "2023-02-03T15:14:39.130Z"
   },
   {
    "duration": 5,
    "start_time": "2023-02-03T15:14:39.169Z"
   },
   {
    "duration": 29,
    "start_time": "2023-02-03T15:14:39.175Z"
   },
   {
    "duration": 37,
    "start_time": "2023-02-03T15:14:39.206Z"
   },
   {
    "duration": 8,
    "start_time": "2023-02-03T15:14:39.245Z"
   },
   {
    "duration": 16,
    "start_time": "2023-02-03T15:14:39.255Z"
   },
   {
    "duration": 9,
    "start_time": "2023-02-03T15:14:39.272Z"
   },
   {
    "duration": 23,
    "start_time": "2023-02-03T15:14:39.282Z"
   },
   {
    "duration": 83,
    "start_time": "2023-02-03T15:14:39.306Z"
   },
   {
    "duration": 13,
    "start_time": "2023-02-03T15:14:39.391Z"
   },
   {
    "duration": 13,
    "start_time": "2023-02-03T15:14:39.406Z"
   },
   {
    "duration": 221,
    "start_time": "2023-02-03T15:14:39.420Z"
   },
   {
    "duration": 32,
    "start_time": "2023-02-03T15:14:39.643Z"
   },
   {
    "duration": 107,
    "start_time": "2023-02-03T15:14:39.677Z"
   },
   {
    "duration": 194,
    "start_time": "2023-02-03T15:14:39.786Z"
   },
   {
    "duration": 108,
    "start_time": "2023-02-03T15:14:39.982Z"
   },
   {
    "duration": 117,
    "start_time": "2023-02-03T15:14:40.092Z"
   },
   {
    "duration": 6,
    "start_time": "2023-02-03T15:14:40.211Z"
   },
   {
    "duration": 72,
    "start_time": "2023-02-03T15:14:49.288Z"
   },
   {
    "duration": 128,
    "start_time": "2023-02-03T15:15:12.290Z"
   },
   {
    "duration": 4,
    "start_time": "2023-02-03T15:15:49.001Z"
   },
   {
    "duration": 33,
    "start_time": "2023-02-03T15:17:55.232Z"
   },
   {
    "duration": 605,
    "start_time": "2023-02-03T15:18:09.772Z"
   },
   {
    "duration": 426,
    "start_time": "2023-02-03T15:18:10.380Z"
   },
   {
    "duration": 253,
    "start_time": "2023-02-03T15:18:10.807Z"
   },
   {
    "duration": 2,
    "start_time": "2023-02-03T15:18:11.062Z"
   },
   {
    "duration": 5,
    "start_time": "2023-02-03T15:18:11.066Z"
   },
   {
    "duration": 100,
    "start_time": "2023-02-03T15:18:11.073Z"
   },
   {
    "duration": 4,
    "start_time": "2023-02-03T15:18:11.175Z"
   },
   {
    "duration": 17,
    "start_time": "2023-02-03T15:18:11.180Z"
   },
   {
    "duration": 4,
    "start_time": "2023-02-03T15:18:11.199Z"
   },
   {
    "duration": 66,
    "start_time": "2023-02-03T15:18:11.206Z"
   },
   {
    "duration": 160,
    "start_time": "2023-02-03T15:18:11.273Z"
   },
   {
    "duration": 9,
    "start_time": "2023-02-03T15:18:11.435Z"
   },
   {
    "duration": 3,
    "start_time": "2023-02-03T15:18:11.446Z"
   },
   {
    "duration": 11,
    "start_time": "2023-02-03T15:18:11.451Z"
   },
   {
    "duration": 17,
    "start_time": "2023-02-03T15:18:11.464Z"
   },
   {
    "duration": 23,
    "start_time": "2023-02-03T15:18:11.483Z"
   },
   {
    "duration": 131,
    "start_time": "2023-02-03T15:18:11.508Z"
   },
   {
    "duration": 8,
    "start_time": "2023-02-03T15:18:11.641Z"
   },
   {
    "duration": 46,
    "start_time": "2023-02-03T15:18:11.650Z"
   },
   {
    "duration": 57,
    "start_time": "2023-02-03T15:18:11.698Z"
   },
   {
    "duration": 75,
    "start_time": "2023-02-03T15:18:11.757Z"
   },
   {
    "duration": 35,
    "start_time": "2023-02-03T15:18:11.833Z"
   },
   {
    "duration": 13,
    "start_time": "2023-02-03T15:18:11.870Z"
   },
   {
    "duration": 26,
    "start_time": "2023-02-03T15:18:11.884Z"
   },
   {
    "duration": 13,
    "start_time": "2023-02-03T15:18:11.912Z"
   },
   {
    "duration": 17,
    "start_time": "2023-02-03T15:18:11.927Z"
   },
   {
    "duration": 14,
    "start_time": "2023-02-03T15:18:11.945Z"
   },
   {
    "duration": 251,
    "start_time": "2023-02-03T15:18:11.963Z"
   },
   {
    "duration": 16,
    "start_time": "2023-02-03T15:18:12.216Z"
   },
   {
    "duration": 8,
    "start_time": "2023-02-03T15:18:12.234Z"
   },
   {
    "duration": 19,
    "start_time": "2023-02-03T15:18:12.244Z"
   },
   {
    "duration": 6,
    "start_time": "2023-02-03T15:18:12.265Z"
   },
   {
    "duration": 7,
    "start_time": "2023-02-03T15:18:12.273Z"
   },
   {
    "duration": 7,
    "start_time": "2023-02-03T15:18:12.303Z"
   },
   {
    "duration": 4,
    "start_time": "2023-02-03T15:18:12.312Z"
   },
   {
    "duration": 6,
    "start_time": "2023-02-03T15:18:12.317Z"
   },
   {
    "duration": 41,
    "start_time": "2023-02-03T15:18:12.324Z"
   },
   {
    "duration": 15,
    "start_time": "2023-02-03T15:18:12.367Z"
   },
   {
    "duration": 14,
    "start_time": "2023-02-03T15:18:12.404Z"
   },
   {
    "duration": 59,
    "start_time": "2023-02-03T15:18:12.419Z"
   },
   {
    "duration": 7,
    "start_time": "2023-02-03T15:18:12.479Z"
   },
   {
    "duration": 4,
    "start_time": "2023-02-03T15:18:12.502Z"
   },
   {
    "duration": 6,
    "start_time": "2023-02-03T15:18:12.508Z"
   },
   {
    "duration": 7,
    "start_time": "2023-02-03T15:18:12.515Z"
   },
   {
    "duration": 7,
    "start_time": "2023-02-03T15:18:12.523Z"
   },
   {
    "duration": 8,
    "start_time": "2023-02-03T15:18:12.531Z"
   },
   {
    "duration": 318,
    "start_time": "2023-02-03T15:18:12.541Z"
   },
   {
    "duration": 3,
    "start_time": "2023-02-03T15:18:12.861Z"
   },
   {
    "duration": 10,
    "start_time": "2023-02-03T15:18:12.866Z"
   },
   {
    "duration": 13,
    "start_time": "2023-02-03T15:18:12.878Z"
   },
   {
    "duration": 5,
    "start_time": "2023-02-03T15:18:12.902Z"
   },
   {
    "duration": 20,
    "start_time": "2023-02-03T15:18:12.908Z"
   },
   {
    "duration": 35,
    "start_time": "2023-02-03T15:18:12.930Z"
   },
   {
    "duration": 6,
    "start_time": "2023-02-03T15:18:12.967Z"
   },
   {
    "duration": 28,
    "start_time": "2023-02-03T15:18:12.975Z"
   },
   {
    "duration": 37,
    "start_time": "2023-02-03T15:18:13.005Z"
   },
   {
    "duration": 7,
    "start_time": "2023-02-03T15:18:13.044Z"
   },
   {
    "duration": 14,
    "start_time": "2023-02-03T15:18:13.052Z"
   },
   {
    "duration": 22,
    "start_time": "2023-02-03T15:18:13.069Z"
   },
   {
    "duration": 12,
    "start_time": "2023-02-03T15:18:13.093Z"
   },
   {
    "duration": 12,
    "start_time": "2023-02-03T15:18:13.106Z"
   },
   {
    "duration": 88,
    "start_time": "2023-02-03T15:18:13.120Z"
   },
   {
    "duration": 4,
    "start_time": "2023-02-03T15:18:13.210Z"
   },
   {
    "duration": 12,
    "start_time": "2023-02-03T15:18:13.216Z"
   },
   {
    "duration": 218,
    "start_time": "2023-02-03T15:18:13.230Z"
   },
   {
    "duration": 33,
    "start_time": "2023-02-03T15:18:13.450Z"
   },
   {
    "duration": 121,
    "start_time": "2023-02-03T15:18:13.485Z"
   },
   {
    "duration": 191,
    "start_time": "2023-02-03T15:18:13.608Z"
   },
   {
    "duration": 112,
    "start_time": "2023-02-03T15:18:13.803Z"
   },
   {
    "duration": 113,
    "start_time": "2023-02-03T15:18:13.917Z"
   },
   {
    "duration": 170,
    "start_time": "2023-02-03T15:18:14.032Z"
   },
   {
    "duration": 31,
    "start_time": "2023-02-03T15:18:38.250Z"
   },
   {
    "duration": 32,
    "start_time": "2023-02-03T15:18:56.074Z"
   },
   {
    "duration": 32,
    "start_time": "2023-02-03T15:19:40.753Z"
   },
   {
    "duration": 9,
    "start_time": "2023-02-03T15:20:08.233Z"
   },
   {
    "duration": 3,
    "start_time": "2023-02-03T15:20:15.257Z"
   },
   {
    "duration": 4,
    "start_time": "2023-02-03T15:20:18.058Z"
   },
   {
    "duration": 32,
    "start_time": "2023-02-03T15:21:00.810Z"
   },
   {
    "duration": 6,
    "start_time": "2023-02-03T15:21:21.993Z"
   },
   {
    "duration": 27,
    "start_time": "2023-02-03T15:21:31.165Z"
   },
   {
    "duration": 10,
    "start_time": "2023-02-03T15:21:42.746Z"
   },
   {
    "duration": 26,
    "start_time": "2023-02-03T15:21:47.641Z"
   },
   {
    "duration": 623,
    "start_time": "2023-02-03T15:22:05.588Z"
   },
   {
    "duration": 405,
    "start_time": "2023-02-03T15:22:06.213Z"
   },
   {
    "duration": 256,
    "start_time": "2023-02-03T15:22:06.620Z"
   },
   {
    "duration": 2,
    "start_time": "2023-02-03T15:22:06.878Z"
   },
   {
    "duration": 7,
    "start_time": "2023-02-03T15:22:06.883Z"
   },
   {
    "duration": 97,
    "start_time": "2023-02-03T15:22:06.892Z"
   },
   {
    "duration": 12,
    "start_time": "2023-02-03T15:22:06.991Z"
   },
   {
    "duration": 3,
    "start_time": "2023-02-03T15:22:07.005Z"
   },
   {
    "duration": 9,
    "start_time": "2023-02-03T15:22:07.010Z"
   },
   {
    "duration": 81,
    "start_time": "2023-02-03T15:22:07.020Z"
   },
   {
    "duration": 176,
    "start_time": "2023-02-03T15:22:07.104Z"
   },
   {
    "duration": 12,
    "start_time": "2023-02-03T15:22:07.282Z"
   },
   {
    "duration": 4,
    "start_time": "2023-02-03T15:22:07.302Z"
   },
   {
    "duration": 14,
    "start_time": "2023-02-03T15:22:07.309Z"
   },
   {
    "duration": 15,
    "start_time": "2023-02-03T15:22:07.325Z"
   },
   {
    "duration": 8,
    "start_time": "2023-02-03T15:22:07.341Z"
   },
   {
    "duration": 137,
    "start_time": "2023-02-03T15:22:07.350Z"
   },
   {
    "duration": 16,
    "start_time": "2023-02-03T15:22:07.488Z"
   },
   {
    "duration": 34,
    "start_time": "2023-02-03T15:22:07.506Z"
   },
   {
    "duration": 71,
    "start_time": "2023-02-03T15:22:07.542Z"
   },
   {
    "duration": 63,
    "start_time": "2023-02-03T15:22:07.615Z"
   },
   {
    "duration": 52,
    "start_time": "2023-02-03T15:22:07.680Z"
   },
   {
    "duration": 13,
    "start_time": "2023-02-03T15:22:07.734Z"
   },
   {
    "duration": 17,
    "start_time": "2023-02-03T15:22:07.749Z"
   },
   {
    "duration": 15,
    "start_time": "2023-02-03T15:22:07.768Z"
   },
   {
    "duration": 16,
    "start_time": "2023-02-03T15:22:07.804Z"
   },
   {
    "duration": 15,
    "start_time": "2023-02-03T15:22:07.823Z"
   },
   {
    "duration": 243,
    "start_time": "2023-02-03T15:22:07.840Z"
   },
   {
    "duration": 22,
    "start_time": "2023-02-03T15:22:08.085Z"
   },
   {
    "duration": 8,
    "start_time": "2023-02-03T15:22:08.108Z"
   },
   {
    "duration": 21,
    "start_time": "2023-02-03T15:22:08.118Z"
   },
   {
    "duration": 5,
    "start_time": "2023-02-03T15:22:08.141Z"
   },
   {
    "duration": 9,
    "start_time": "2023-02-03T15:22:08.148Z"
   },
   {
    "duration": 13,
    "start_time": "2023-02-03T15:22:08.158Z"
   },
   {
    "duration": 4,
    "start_time": "2023-02-03T15:22:08.173Z"
   },
   {
    "duration": 7,
    "start_time": "2023-02-03T15:22:08.179Z"
   },
   {
    "duration": 35,
    "start_time": "2023-02-03T15:22:08.204Z"
   },
   {
    "duration": 16,
    "start_time": "2023-02-03T15:22:08.241Z"
   },
   {
    "duration": 16,
    "start_time": "2023-02-03T15:22:08.258Z"
   },
   {
    "duration": 85,
    "start_time": "2023-02-03T15:22:08.276Z"
   },
   {
    "duration": 7,
    "start_time": "2023-02-03T15:22:08.365Z"
   },
   {
    "duration": 6,
    "start_time": "2023-02-03T15:22:08.374Z"
   },
   {
    "duration": 23,
    "start_time": "2023-02-03T15:22:08.381Z"
   },
   {
    "duration": 4,
    "start_time": "2023-02-03T15:22:08.406Z"
   },
   {
    "duration": 13,
    "start_time": "2023-02-03T15:22:08.411Z"
   },
   {
    "duration": 9,
    "start_time": "2023-02-03T15:22:08.426Z"
   },
   {
    "duration": 309,
    "start_time": "2023-02-03T15:22:08.437Z"
   },
   {
    "duration": 3,
    "start_time": "2023-02-03T15:22:08.748Z"
   },
   {
    "duration": 11,
    "start_time": "2023-02-03T15:22:08.752Z"
   },
   {
    "duration": 12,
    "start_time": "2023-02-03T15:22:08.765Z"
   },
   {
    "duration": 6,
    "start_time": "2023-02-03T15:22:08.779Z"
   },
   {
    "duration": 24,
    "start_time": "2023-02-03T15:22:08.802Z"
   },
   {
    "duration": 35,
    "start_time": "2023-02-03T15:22:08.828Z"
   },
   {
    "duration": 4,
    "start_time": "2023-02-03T15:22:08.865Z"
   },
   {
    "duration": 9,
    "start_time": "2023-02-03T15:22:08.871Z"
   },
   {
    "duration": 56,
    "start_time": "2023-02-03T15:22:08.882Z"
   },
   {
    "duration": 9,
    "start_time": "2023-02-03T15:22:08.940Z"
   },
   {
    "duration": 16,
    "start_time": "2023-02-03T15:22:08.951Z"
   },
   {
    "duration": 8,
    "start_time": "2023-02-03T15:22:08.969Z"
   },
   {
    "duration": 25,
    "start_time": "2023-02-03T15:22:08.979Z"
   },
   {
    "duration": 6,
    "start_time": "2023-02-03T15:22:09.007Z"
   },
   {
    "duration": 93,
    "start_time": "2023-02-03T15:22:09.015Z"
   },
   {
    "duration": 4,
    "start_time": "2023-02-03T15:22:09.110Z"
   },
   {
    "duration": 10,
    "start_time": "2023-02-03T15:22:09.116Z"
   },
   {
    "duration": 247,
    "start_time": "2023-02-03T15:22:09.127Z"
   },
   {
    "duration": 39,
    "start_time": "2023-02-03T15:22:09.376Z"
   },
   {
    "duration": 112,
    "start_time": "2023-02-03T15:22:09.417Z"
   },
   {
    "duration": 206,
    "start_time": "2023-02-03T15:22:09.531Z"
   },
   {
    "duration": 115,
    "start_time": "2023-02-03T15:22:09.739Z"
   },
   {
    "duration": 120,
    "start_time": "2023-02-03T15:22:09.856Z"
   },
   {
    "duration": 6,
    "start_time": "2023-02-03T15:22:09.978Z"
   },
   {
    "duration": 140,
    "start_time": "2023-02-03T15:22:09.985Z"
   },
   {
    "duration": 6,
    "start_time": "2023-02-03T15:26:20.347Z"
   },
   {
    "duration": 24,
    "start_time": "2023-02-03T15:26:32.404Z"
   },
   {
    "duration": 618,
    "start_time": "2023-02-03T15:28:20.104Z"
   },
   {
    "duration": 451,
    "start_time": "2023-02-03T15:28:20.725Z"
   },
   {
    "duration": 273,
    "start_time": "2023-02-03T15:28:21.178Z"
   },
   {
    "duration": 3,
    "start_time": "2023-02-03T15:28:21.453Z"
   },
   {
    "duration": 18,
    "start_time": "2023-02-03T15:28:21.458Z"
   },
   {
    "duration": 94,
    "start_time": "2023-02-03T15:28:21.478Z"
   },
   {
    "duration": 3,
    "start_time": "2023-02-03T15:28:21.574Z"
   },
   {
    "duration": 10,
    "start_time": "2023-02-03T15:28:21.579Z"
   },
   {
    "duration": 15,
    "start_time": "2023-02-03T15:28:21.591Z"
   },
   {
    "duration": 82,
    "start_time": "2023-02-03T15:28:21.610Z"
   },
   {
    "duration": 183,
    "start_time": "2023-02-03T15:28:21.694Z"
   },
   {
    "duration": 13,
    "start_time": "2023-02-03T15:28:21.879Z"
   },
   {
    "duration": 21,
    "start_time": "2023-02-03T15:28:21.894Z"
   },
   {
    "duration": 51,
    "start_time": "2023-02-03T15:28:21.917Z"
   },
   {
    "duration": 62,
    "start_time": "2023-02-03T15:28:21.970Z"
   },
   {
    "duration": 8,
    "start_time": "2023-02-03T15:28:22.034Z"
   },
   {
    "duration": 148,
    "start_time": "2023-02-03T15:28:22.044Z"
   },
   {
    "duration": 10,
    "start_time": "2023-02-03T15:28:22.194Z"
   },
   {
    "duration": 58,
    "start_time": "2023-02-03T15:28:22.207Z"
   },
   {
    "duration": 57,
    "start_time": "2023-02-03T15:28:22.268Z"
   },
   {
    "duration": 62,
    "start_time": "2023-02-03T15:28:22.327Z"
   },
   {
    "duration": 46,
    "start_time": "2023-02-03T15:28:22.391Z"
   },
   {
    "duration": 15,
    "start_time": "2023-02-03T15:28:22.439Z"
   },
   {
    "duration": 27,
    "start_time": "2023-02-03T15:28:22.456Z"
   },
   {
    "duration": 21,
    "start_time": "2023-02-03T15:28:22.485Z"
   },
   {
    "duration": 17,
    "start_time": "2023-02-03T15:28:22.508Z"
   },
   {
    "duration": 9,
    "start_time": "2023-02-03T15:28:22.527Z"
   },
   {
    "duration": 270,
    "start_time": "2023-02-03T15:28:22.540Z"
   },
   {
    "duration": 16,
    "start_time": "2023-02-03T15:28:22.812Z"
   },
   {
    "duration": 13,
    "start_time": "2023-02-03T15:28:22.830Z"
   },
   {
    "duration": 19,
    "start_time": "2023-02-03T15:28:22.845Z"
   },
   {
    "duration": 7,
    "start_time": "2023-02-03T15:28:22.866Z"
   },
   {
    "duration": 9,
    "start_time": "2023-02-03T15:28:22.875Z"
   },
   {
    "duration": 28,
    "start_time": "2023-02-03T15:28:22.885Z"
   },
   {
    "duration": 15,
    "start_time": "2023-02-03T15:28:22.915Z"
   },
   {
    "duration": 11,
    "start_time": "2023-02-03T15:28:22.932Z"
   },
   {
    "duration": 46,
    "start_time": "2023-02-03T15:28:22.945Z"
   },
   {
    "duration": 25,
    "start_time": "2023-02-03T15:28:22.993Z"
   },
   {
    "duration": 41,
    "start_time": "2023-02-03T15:28:23.020Z"
   },
   {
    "duration": 82,
    "start_time": "2023-02-03T15:28:23.064Z"
   },
   {
    "duration": 6,
    "start_time": "2023-02-03T15:28:23.148Z"
   },
   {
    "duration": 13,
    "start_time": "2023-02-03T15:28:23.156Z"
   },
   {
    "duration": 15,
    "start_time": "2023-02-03T15:28:23.170Z"
   },
   {
    "duration": 8,
    "start_time": "2023-02-03T15:28:23.186Z"
   },
   {
    "duration": 12,
    "start_time": "2023-02-03T15:28:23.195Z"
   },
   {
    "duration": 20,
    "start_time": "2023-02-03T15:28:23.209Z"
   },
   {
    "duration": 285,
    "start_time": "2023-02-03T15:28:23.231Z"
   },
   {
    "duration": 3,
    "start_time": "2023-02-03T15:28:23.518Z"
   },
   {
    "duration": 26,
    "start_time": "2023-02-03T15:28:23.523Z"
   },
   {
    "duration": 19,
    "start_time": "2023-02-03T15:28:23.551Z"
   },
   {
    "duration": 28,
    "start_time": "2023-02-03T15:28:23.572Z"
   },
   {
    "duration": 25,
    "start_time": "2023-02-03T15:28:23.602Z"
   },
   {
    "duration": 38,
    "start_time": "2023-02-03T15:28:23.629Z"
   },
   {
    "duration": 4,
    "start_time": "2023-02-03T15:28:23.669Z"
   },
   {
    "duration": 19,
    "start_time": "2023-02-03T15:28:23.675Z"
   },
   {
    "duration": 48,
    "start_time": "2023-02-03T15:28:23.696Z"
   },
   {
    "duration": 8,
    "start_time": "2023-02-03T15:28:23.746Z"
   },
   {
    "duration": 20,
    "start_time": "2023-02-03T15:28:23.755Z"
   },
   {
    "duration": 14,
    "start_time": "2023-02-03T15:28:23.777Z"
   },
   {
    "duration": 35,
    "start_time": "2023-02-03T15:28:23.793Z"
   },
   {
    "duration": 18,
    "start_time": "2023-02-03T15:28:23.830Z"
   },
   {
    "duration": 96,
    "start_time": "2023-02-03T15:28:23.850Z"
   },
   {
    "duration": 4,
    "start_time": "2023-02-03T15:28:23.947Z"
   },
   {
    "duration": 12,
    "start_time": "2023-02-03T15:28:23.953Z"
   },
   {
    "duration": 269,
    "start_time": "2023-02-03T15:28:23.967Z"
   },
   {
    "duration": 32,
    "start_time": "2023-02-03T15:28:24.238Z"
   },
   {
    "duration": 116,
    "start_time": "2023-02-03T15:28:24.272Z"
   },
   {
    "duration": 200,
    "start_time": "2023-02-03T15:28:24.390Z"
   },
   {
    "duration": 113,
    "start_time": "2023-02-03T15:28:24.592Z"
   },
   {
    "duration": 113,
    "start_time": "2023-02-03T15:28:24.706Z"
   },
   {
    "duration": 7,
    "start_time": "2023-02-03T15:28:24.821Z"
   },
   {
    "duration": 147,
    "start_time": "2023-02-03T15:28:24.830Z"
   },
   {
    "duration": 42,
    "start_time": "2023-02-04T10:22:47.833Z"
   },
   {
    "duration": 424,
    "start_time": "2023-02-04T10:22:55.028Z"
   },
   {
    "duration": 476,
    "start_time": "2023-02-04T10:22:55.454Z"
   },
   {
    "duration": 343,
    "start_time": "2023-02-04T10:22:55.931Z"
   },
   {
    "duration": 6,
    "start_time": "2023-02-04T10:22:56.277Z"
   },
   {
    "duration": 10,
    "start_time": "2023-02-04T10:22:56.285Z"
   },
   {
    "duration": 186,
    "start_time": "2023-02-04T10:22:56.298Z"
   },
   {
    "duration": 4,
    "start_time": "2023-02-04T10:22:56.486Z"
   },
   {
    "duration": 10,
    "start_time": "2023-02-04T10:22:56.492Z"
   },
   {
    "duration": 10,
    "start_time": "2023-02-04T10:22:56.504Z"
   },
   {
    "duration": 66,
    "start_time": "2023-02-04T10:22:56.517Z"
   },
   {
    "duration": 508,
    "start_time": "2023-02-04T10:22:56.585Z"
   },
   {
    "duration": 10,
    "start_time": "2023-02-04T10:22:57.095Z"
   },
   {
    "duration": 3,
    "start_time": "2023-02-04T10:22:57.106Z"
   },
   {
    "duration": 11,
    "start_time": "2023-02-04T10:22:57.111Z"
   },
   {
    "duration": 15,
    "start_time": "2023-02-04T10:22:57.124Z"
   },
   {
    "duration": 9,
    "start_time": "2023-02-04T10:22:57.141Z"
   },
   {
    "duration": 127,
    "start_time": "2023-02-04T10:22:57.152Z"
   },
   {
    "duration": 11,
    "start_time": "2023-02-04T10:22:57.280Z"
   },
   {
    "duration": 18,
    "start_time": "2023-02-04T10:22:57.293Z"
   },
   {
    "duration": 63,
    "start_time": "2023-02-04T10:22:57.313Z"
   },
   {
    "duration": 115,
    "start_time": "2023-02-04T10:22:57.378Z"
   },
   {
    "duration": 28,
    "start_time": "2023-02-04T10:22:57.495Z"
   },
   {
    "duration": 14,
    "start_time": "2023-02-04T10:22:57.525Z"
   },
   {
    "duration": 51,
    "start_time": "2023-02-04T10:22:57.541Z"
   },
   {
    "duration": 9,
    "start_time": "2023-02-04T10:22:57.594Z"
   },
   {
    "duration": 16,
    "start_time": "2023-02-04T10:22:57.605Z"
   },
   {
    "duration": 7,
    "start_time": "2023-02-04T10:22:57.623Z"
   },
   {
    "duration": 379,
    "start_time": "2023-02-04T10:22:57.634Z"
   },
   {
    "duration": 14,
    "start_time": "2023-02-04T10:22:58.015Z"
   },
   {
    "duration": 9,
    "start_time": "2023-02-04T10:22:58.031Z"
   },
   {
    "duration": 26,
    "start_time": "2023-02-04T10:22:58.042Z"
   },
   {
    "duration": 27,
    "start_time": "2023-02-04T10:22:58.069Z"
   },
   {
    "duration": 7,
    "start_time": "2023-02-04T10:22:58.097Z"
   },
   {
    "duration": 14,
    "start_time": "2023-02-04T10:22:58.106Z"
   },
   {
    "duration": 4,
    "start_time": "2023-02-04T10:22:58.122Z"
   },
   {
    "duration": 13,
    "start_time": "2023-02-04T10:22:58.127Z"
   },
   {
    "duration": 63,
    "start_time": "2023-02-04T10:22:58.141Z"
   },
   {
    "duration": 19,
    "start_time": "2023-02-04T10:22:58.207Z"
   },
   {
    "duration": 23,
    "start_time": "2023-02-04T10:22:58.227Z"
   },
   {
    "duration": 95,
    "start_time": "2023-02-04T10:22:58.251Z"
   },
   {
    "duration": 6,
    "start_time": "2023-02-04T10:22:58.348Z"
   },
   {
    "duration": 10,
    "start_time": "2023-02-04T10:22:58.355Z"
   },
   {
    "duration": 6,
    "start_time": "2023-02-04T10:22:58.366Z"
   },
   {
    "duration": 18,
    "start_time": "2023-02-04T10:22:58.373Z"
   },
   {
    "duration": 9,
    "start_time": "2023-02-04T10:22:58.393Z"
   },
   {
    "duration": 12,
    "start_time": "2023-02-04T10:22:58.404Z"
   },
   {
    "duration": 301,
    "start_time": "2023-02-04T10:22:58.417Z"
   },
   {
    "duration": 4,
    "start_time": "2023-02-04T10:22:58.720Z"
   },
   {
    "duration": 13,
    "start_time": "2023-02-04T10:22:58.725Z"
   },
   {
    "duration": 16,
    "start_time": "2023-02-04T10:22:58.740Z"
   },
   {
    "duration": 10,
    "start_time": "2023-02-04T10:22:58.757Z"
   },
   {
    "duration": 27,
    "start_time": "2023-02-04T10:22:58.769Z"
   },
   {
    "duration": 13,
    "start_time": "2023-02-04T10:22:58.798Z"
   },
   {
    "duration": 30,
    "start_time": "2023-02-04T10:22:58.813Z"
   },
   {
    "duration": 4,
    "start_time": "2023-02-04T10:22:58.844Z"
   },
   {
    "duration": 121,
    "start_time": "2023-02-04T10:22:58.849Z"
   },
   {
    "duration": 0,
    "start_time": "2023-02-04T10:22:58.972Z"
   },
   {
    "duration": 0,
    "start_time": "2023-02-04T10:22:58.973Z"
   },
   {
    "duration": 0,
    "start_time": "2023-02-04T10:22:58.974Z"
   },
   {
    "duration": 0,
    "start_time": "2023-02-04T10:22:58.976Z"
   },
   {
    "duration": 0,
    "start_time": "2023-02-04T10:22:58.977Z"
   },
   {
    "duration": 0,
    "start_time": "2023-02-04T10:22:58.978Z"
   },
   {
    "duration": 0,
    "start_time": "2023-02-04T10:22:58.979Z"
   },
   {
    "duration": 0,
    "start_time": "2023-02-04T10:22:58.980Z"
   },
   {
    "duration": 0,
    "start_time": "2023-02-04T10:22:58.991Z"
   },
   {
    "duration": 0,
    "start_time": "2023-02-04T10:22:58.992Z"
   },
   {
    "duration": 0,
    "start_time": "2023-02-04T10:22:58.993Z"
   },
   {
    "duration": 0,
    "start_time": "2023-02-04T10:22:58.995Z"
   },
   {
    "duration": 0,
    "start_time": "2023-02-04T10:22:58.996Z"
   },
   {
    "duration": 0,
    "start_time": "2023-02-04T10:22:58.998Z"
   },
   {
    "duration": 0,
    "start_time": "2023-02-04T10:22:58.999Z"
   },
   {
    "duration": 0,
    "start_time": "2023-02-04T10:22:58.999Z"
   },
   {
    "duration": 0,
    "start_time": "2023-02-04T10:22:59.000Z"
   },
   {
    "duration": 0,
    "start_time": "2023-02-04T10:22:59.001Z"
   },
   {
    "duration": 11,
    "start_time": "2023-02-04T10:23:26.614Z"
   },
   {
    "duration": 46,
    "start_time": "2023-02-04T10:24:54.330Z"
   },
   {
    "duration": 35,
    "start_time": "2023-02-04T10:25:19.137Z"
   },
   {
    "duration": 443,
    "start_time": "2023-02-04T10:27:36.568Z"
   },
   {
    "duration": 411,
    "start_time": "2023-02-04T10:27:37.013Z"
   },
   {
    "duration": 191,
    "start_time": "2023-02-04T10:27:37.426Z"
   },
   {
    "duration": 3,
    "start_time": "2023-02-04T10:27:37.619Z"
   },
   {
    "duration": 6,
    "start_time": "2023-02-04T10:27:37.624Z"
   },
   {
    "duration": 136,
    "start_time": "2023-02-04T10:27:37.631Z"
   },
   {
    "duration": 3,
    "start_time": "2023-02-04T10:27:37.768Z"
   },
   {
    "duration": 8,
    "start_time": "2023-02-04T10:27:37.773Z"
   },
   {
    "duration": 10,
    "start_time": "2023-02-04T10:27:37.782Z"
   },
   {
    "duration": 66,
    "start_time": "2023-02-04T10:27:37.795Z"
   },
   {
    "duration": 155,
    "start_time": "2023-02-04T10:27:37.863Z"
   },
   {
    "duration": 15,
    "start_time": "2023-02-04T10:27:38.020Z"
   },
   {
    "duration": 3,
    "start_time": "2023-02-04T10:27:38.036Z"
   },
   {
    "duration": 15,
    "start_time": "2023-02-04T10:27:38.041Z"
   },
   {
    "duration": 12,
    "start_time": "2023-02-04T10:27:38.057Z"
   },
   {
    "duration": 24,
    "start_time": "2023-02-04T10:27:38.070Z"
   },
   {
    "duration": 133,
    "start_time": "2023-02-04T10:27:38.098Z"
   },
   {
    "duration": 8,
    "start_time": "2023-02-04T10:27:38.233Z"
   },
   {
    "duration": 21,
    "start_time": "2023-02-04T10:27:38.242Z"
   },
   {
    "duration": 73,
    "start_time": "2023-02-04T10:27:38.265Z"
   },
   {
    "duration": 79,
    "start_time": "2023-02-04T10:27:38.340Z"
   },
   {
    "duration": 21,
    "start_time": "2023-02-04T10:27:38.421Z"
   },
   {
    "duration": 16,
    "start_time": "2023-02-04T10:27:38.444Z"
   },
   {
    "duration": 57,
    "start_time": "2023-02-04T10:27:38.462Z"
   },
   {
    "duration": 17,
    "start_time": "2023-02-04T10:27:38.521Z"
   },
   {
    "duration": 25,
    "start_time": "2023-02-04T10:27:38.540Z"
   },
   {
    "duration": 20,
    "start_time": "2023-02-04T10:27:38.567Z"
   },
   {
    "duration": 292,
    "start_time": "2023-02-04T10:27:38.592Z"
   },
   {
    "duration": 20,
    "start_time": "2023-02-04T10:27:38.885Z"
   },
   {
    "duration": 10,
    "start_time": "2023-02-04T10:27:38.908Z"
   },
   {
    "duration": 14,
    "start_time": "2023-02-04T10:27:38.920Z"
   },
   {
    "duration": 7,
    "start_time": "2023-02-04T10:27:38.936Z"
   },
   {
    "duration": 11,
    "start_time": "2023-02-04T10:27:38.944Z"
   },
   {
    "duration": 11,
    "start_time": "2023-02-04T10:27:38.956Z"
   },
   {
    "duration": 3,
    "start_time": "2023-02-04T10:27:38.969Z"
   },
   {
    "duration": 23,
    "start_time": "2023-02-04T10:27:38.973Z"
   },
   {
    "duration": 40,
    "start_time": "2023-02-04T10:27:38.998Z"
   },
   {
    "duration": 23,
    "start_time": "2023-02-04T10:27:39.040Z"
   },
   {
    "duration": 48,
    "start_time": "2023-02-04T10:27:39.065Z"
   },
   {
    "duration": 68,
    "start_time": "2023-02-04T10:27:39.115Z"
   },
   {
    "duration": 10,
    "start_time": "2023-02-04T10:27:39.185Z"
   },
   {
    "duration": 16,
    "start_time": "2023-02-04T10:27:39.197Z"
   },
   {
    "duration": 8,
    "start_time": "2023-02-04T10:27:39.217Z"
   },
   {
    "duration": 9,
    "start_time": "2023-02-04T10:27:39.227Z"
   },
   {
    "duration": 6,
    "start_time": "2023-02-04T10:27:39.238Z"
   },
   {
    "duration": 9,
    "start_time": "2023-02-04T10:27:39.245Z"
   },
   {
    "duration": 288,
    "start_time": "2023-02-04T10:27:39.255Z"
   },
   {
    "duration": 3,
    "start_time": "2023-02-04T10:27:39.545Z"
   },
   {
    "duration": 15,
    "start_time": "2023-02-04T10:27:39.549Z"
   },
   {
    "duration": 10,
    "start_time": "2023-02-04T10:27:39.565Z"
   },
   {
    "duration": 9,
    "start_time": "2023-02-04T10:27:39.576Z"
   },
   {
    "duration": 14,
    "start_time": "2023-02-04T10:27:39.592Z"
   },
   {
    "duration": 35,
    "start_time": "2023-02-04T10:27:39.608Z"
   },
   {
    "duration": 4,
    "start_time": "2023-02-04T10:27:39.644Z"
   },
   {
    "duration": 57,
    "start_time": "2023-02-04T10:27:39.650Z"
   },
   {
    "duration": 7,
    "start_time": "2023-02-04T10:27:39.709Z"
   },
   {
    "duration": 50,
    "start_time": "2023-02-04T10:27:39.718Z"
   },
   {
    "duration": 9,
    "start_time": "2023-02-04T10:27:39.769Z"
   },
   {
    "duration": 25,
    "start_time": "2023-02-04T10:27:39.780Z"
   },
   {
    "duration": 20,
    "start_time": "2023-02-04T10:27:39.807Z"
   },
   {
    "duration": 27,
    "start_time": "2023-02-04T10:27:39.829Z"
   },
   {
    "duration": 18,
    "start_time": "2023-02-04T10:27:39.858Z"
   },
   {
    "duration": 75,
    "start_time": "2023-02-04T10:27:39.877Z"
   },
   {
    "duration": 3,
    "start_time": "2023-02-04T10:27:39.954Z"
   },
   {
    "duration": 22,
    "start_time": "2023-02-04T10:27:39.958Z"
   },
   {
    "duration": 209,
    "start_time": "2023-02-04T10:27:39.982Z"
   },
   {
    "duration": 31,
    "start_time": "2023-02-04T10:27:40.193Z"
   },
   {
    "duration": 112,
    "start_time": "2023-02-04T10:27:40.225Z"
   },
   {
    "duration": 108,
    "start_time": "2023-02-04T10:27:40.340Z"
   },
   {
    "duration": 117,
    "start_time": "2023-02-04T10:27:40.449Z"
   },
   {
    "duration": 129,
    "start_time": "2023-02-04T10:27:40.567Z"
   },
   {
    "duration": 6,
    "start_time": "2023-02-04T10:27:40.697Z"
   },
   {
    "duration": 138,
    "start_time": "2023-02-04T10:27:40.704Z"
   },
   {
    "duration": 91,
    "start_time": "2023-02-04T10:31:21.773Z"
   },
   {
    "duration": 100,
    "start_time": "2023-02-04T10:31:50.532Z"
   },
   {
    "duration": 69,
    "start_time": "2023-02-04T10:31:59.903Z"
   },
   {
    "duration": 2,
    "start_time": "2023-02-04T10:32:33.029Z"
   },
   {
    "duration": 2,
    "start_time": "2023-02-04T10:32:36.197Z"
   },
   {
    "duration": 4,
    "start_time": "2023-02-04T10:32:54.588Z"
   },
   {
    "duration": 421,
    "start_time": "2023-02-04T10:33:32.862Z"
   },
   {
    "duration": 455,
    "start_time": "2023-02-04T10:33:33.284Z"
   },
   {
    "duration": 250,
    "start_time": "2023-02-04T10:33:33.741Z"
   },
   {
    "duration": 3,
    "start_time": "2023-02-04T10:33:33.993Z"
   },
   {
    "duration": 8,
    "start_time": "2023-02-04T10:33:33.998Z"
   },
   {
    "duration": 159,
    "start_time": "2023-02-04T10:33:34.008Z"
   },
   {
    "duration": 5,
    "start_time": "2023-02-04T10:33:34.168Z"
   },
   {
    "duration": 10,
    "start_time": "2023-02-04T10:33:34.175Z"
   },
   {
    "duration": 4,
    "start_time": "2023-02-04T10:33:34.190Z"
   },
   {
    "duration": 65,
    "start_time": "2023-02-04T10:33:34.195Z"
   },
   {
    "duration": 152,
    "start_time": "2023-02-04T10:33:34.261Z"
   },
   {
    "duration": 10,
    "start_time": "2023-02-04T10:33:34.415Z"
   },
   {
    "duration": 5,
    "start_time": "2023-02-04T10:33:34.426Z"
   },
   {
    "duration": 12,
    "start_time": "2023-02-04T10:33:34.434Z"
   },
   {
    "duration": 13,
    "start_time": "2023-02-04T10:33:34.447Z"
   },
   {
    "duration": 32,
    "start_time": "2023-02-04T10:33:34.461Z"
   },
   {
    "duration": 131,
    "start_time": "2023-02-04T10:33:34.494Z"
   },
   {
    "duration": 9,
    "start_time": "2023-02-04T10:33:34.627Z"
   },
   {
    "duration": 21,
    "start_time": "2023-02-04T10:33:34.638Z"
   },
   {
    "duration": 82,
    "start_time": "2023-02-04T10:33:34.661Z"
   },
   {
    "duration": 86,
    "start_time": "2023-02-04T10:33:34.744Z"
   },
   {
    "duration": 19,
    "start_time": "2023-02-04T10:33:34.832Z"
   },
   {
    "duration": 12,
    "start_time": "2023-02-04T10:33:34.852Z"
   },
   {
    "duration": 41,
    "start_time": "2023-02-04T10:33:34.865Z"
   },
   {
    "duration": 8,
    "start_time": "2023-02-04T10:33:34.910Z"
   },
   {
    "duration": 23,
    "start_time": "2023-02-04T10:33:34.919Z"
   },
   {
    "duration": 11,
    "start_time": "2023-02-04T10:33:34.943Z"
   },
   {
    "duration": 276,
    "start_time": "2023-02-04T10:33:34.955Z"
   },
   {
    "duration": 14,
    "start_time": "2023-02-04T10:33:35.232Z"
   },
   {
    "duration": 10,
    "start_time": "2023-02-04T10:33:35.248Z"
   },
   {
    "duration": 33,
    "start_time": "2023-02-04T10:33:35.259Z"
   },
   {
    "duration": 7,
    "start_time": "2023-02-04T10:33:35.294Z"
   },
   {
    "duration": 8,
    "start_time": "2023-02-04T10:33:35.302Z"
   },
   {
    "duration": 11,
    "start_time": "2023-02-04T10:33:35.311Z"
   },
   {
    "duration": 4,
    "start_time": "2023-02-04T10:33:35.323Z"
   },
   {
    "duration": 6,
    "start_time": "2023-02-04T10:33:35.328Z"
   },
   {
    "duration": 104,
    "start_time": "2023-02-04T10:33:35.336Z"
   },
   {
    "duration": 16,
    "start_time": "2023-02-04T10:33:35.441Z"
   },
   {
    "duration": 24,
    "start_time": "2023-02-04T10:33:35.459Z"
   },
   {
    "duration": 68,
    "start_time": "2023-02-04T10:33:35.485Z"
   },
   {
    "duration": 6,
    "start_time": "2023-02-04T10:33:35.557Z"
   },
   {
    "duration": 14,
    "start_time": "2023-02-04T10:33:35.565Z"
   },
   {
    "duration": 7,
    "start_time": "2023-02-04T10:33:35.580Z"
   },
   {
    "duration": 5,
    "start_time": "2023-02-04T10:33:35.588Z"
   },
   {
    "duration": 7,
    "start_time": "2023-02-04T10:33:35.594Z"
   },
   {
    "duration": 8,
    "start_time": "2023-02-04T10:33:35.602Z"
   },
   {
    "duration": 287,
    "start_time": "2023-02-04T10:33:35.611Z"
   },
   {
    "duration": 3,
    "start_time": "2023-02-04T10:33:35.900Z"
   },
   {
    "duration": 13,
    "start_time": "2023-02-04T10:33:35.904Z"
   },
   {
    "duration": 12,
    "start_time": "2023-02-04T10:33:35.918Z"
   },
   {
    "duration": 9,
    "start_time": "2023-02-04T10:33:35.931Z"
   },
   {
    "duration": 28,
    "start_time": "2023-02-04T10:33:35.941Z"
   },
   {
    "duration": 38,
    "start_time": "2023-02-04T10:33:35.971Z"
   },
   {
    "duration": 5,
    "start_time": "2023-02-04T10:33:36.011Z"
   },
   {
    "duration": 53,
    "start_time": "2023-02-04T10:33:36.017Z"
   },
   {
    "duration": 5,
    "start_time": "2023-02-04T10:33:36.072Z"
   },
   {
    "duration": 46,
    "start_time": "2023-02-04T10:33:36.078Z"
   },
   {
    "duration": 7,
    "start_time": "2023-02-04T10:33:36.125Z"
   },
   {
    "duration": 13,
    "start_time": "2023-02-04T10:33:36.133Z"
   },
   {
    "duration": 7,
    "start_time": "2023-02-04T10:33:36.147Z"
   },
   {
    "duration": 3,
    "start_time": "2023-02-04T10:33:36.155Z"
   },
   {
    "duration": 8,
    "start_time": "2023-02-04T10:33:36.159Z"
   },
   {
    "duration": 24,
    "start_time": "2023-02-04T10:33:36.168Z"
   },
   {
    "duration": 8,
    "start_time": "2023-02-04T10:33:36.193Z"
   },
   {
    "duration": 106,
    "start_time": "2023-02-04T10:33:36.203Z"
   },
   {
    "duration": 7,
    "start_time": "2023-02-04T10:33:36.312Z"
   },
   {
    "duration": 33,
    "start_time": "2023-02-04T10:33:36.321Z"
   },
   {
    "duration": 250,
    "start_time": "2023-02-04T10:33:36.356Z"
   },
   {
    "duration": 33,
    "start_time": "2023-02-04T10:33:36.608Z"
   },
   {
    "duration": 114,
    "start_time": "2023-02-04T10:33:36.644Z"
   },
   {
    "duration": 100,
    "start_time": "2023-02-04T10:33:36.760Z"
   },
   {
    "duration": 104,
    "start_time": "2023-02-04T10:33:36.862Z"
   },
   {
    "duration": 101,
    "start_time": "2023-02-04T10:33:36.967Z"
   },
   {
    "duration": 6,
    "start_time": "2023-02-04T10:33:37.070Z"
   },
   {
    "duration": 124,
    "start_time": "2023-02-04T10:33:37.078Z"
   },
   {
    "duration": 6,
    "start_time": "2023-02-04T10:36:54.080Z"
   },
   {
    "duration": 23,
    "start_time": "2023-02-04T10:36:56.898Z"
   },
   {
    "duration": 4,
    "start_time": "2023-02-04T10:37:39.144Z"
   },
   {
    "duration": 9,
    "start_time": "2023-02-04T10:37:41.920Z"
   },
   {
    "duration": 392,
    "start_time": "2023-02-04T10:37:49.695Z"
   },
   {
    "duration": 421,
    "start_time": "2023-02-04T10:37:50.089Z"
   },
   {
    "duration": 185,
    "start_time": "2023-02-04T10:37:50.512Z"
   },
   {
    "duration": 3,
    "start_time": "2023-02-04T10:37:50.699Z"
   },
   {
    "duration": 5,
    "start_time": "2023-02-04T10:37:50.704Z"
   },
   {
    "duration": 140,
    "start_time": "2023-02-04T10:37:50.710Z"
   },
   {
    "duration": 4,
    "start_time": "2023-02-04T10:37:50.852Z"
   },
   {
    "duration": 7,
    "start_time": "2023-02-04T10:37:50.857Z"
   },
   {
    "duration": 9,
    "start_time": "2023-02-04T10:37:50.865Z"
   },
   {
    "duration": 60,
    "start_time": "2023-02-04T10:37:50.876Z"
   },
   {
    "duration": 148,
    "start_time": "2023-02-04T10:37:50.937Z"
   },
   {
    "duration": 9,
    "start_time": "2023-02-04T10:37:51.087Z"
   },
   {
    "duration": 22,
    "start_time": "2023-02-04T10:37:51.098Z"
   },
   {
    "duration": 18,
    "start_time": "2023-02-04T10:37:51.122Z"
   },
   {
    "duration": 20,
    "start_time": "2023-02-04T10:37:51.141Z"
   },
   {
    "duration": 7,
    "start_time": "2023-02-04T10:37:51.163Z"
   },
   {
    "duration": 120,
    "start_time": "2023-02-04T10:37:51.171Z"
   },
   {
    "duration": 8,
    "start_time": "2023-02-04T10:37:51.293Z"
   },
   {
    "duration": 37,
    "start_time": "2023-02-04T10:37:51.302Z"
   },
   {
    "duration": 64,
    "start_time": "2023-02-04T10:37:51.340Z"
   },
   {
    "duration": 69,
    "start_time": "2023-02-04T10:37:51.406Z"
   },
   {
    "duration": 31,
    "start_time": "2023-02-04T10:37:51.477Z"
   },
   {
    "duration": 65,
    "start_time": "2023-02-04T10:37:51.509Z"
   },
   {
    "duration": 23,
    "start_time": "2023-02-04T10:37:51.576Z"
   },
   {
    "duration": 26,
    "start_time": "2023-02-04T10:37:51.600Z"
   },
   {
    "duration": 25,
    "start_time": "2023-02-04T10:37:51.628Z"
   },
   {
    "duration": 9,
    "start_time": "2023-02-04T10:37:51.655Z"
   },
   {
    "duration": 258,
    "start_time": "2023-02-04T10:37:51.668Z"
   },
   {
    "duration": 14,
    "start_time": "2023-02-04T10:37:51.928Z"
   },
   {
    "duration": 11,
    "start_time": "2023-02-04T10:37:51.944Z"
   },
   {
    "duration": 36,
    "start_time": "2023-02-04T10:37:51.957Z"
   },
   {
    "duration": 14,
    "start_time": "2023-02-04T10:37:51.994Z"
   },
   {
    "duration": 8,
    "start_time": "2023-02-04T10:37:52.010Z"
   },
   {
    "duration": 27,
    "start_time": "2023-02-04T10:37:52.019Z"
   },
   {
    "duration": 4,
    "start_time": "2023-02-04T10:37:52.047Z"
   },
   {
    "duration": 5,
    "start_time": "2023-02-04T10:37:52.052Z"
   },
   {
    "duration": 32,
    "start_time": "2023-02-04T10:37:52.058Z"
   },
   {
    "duration": 16,
    "start_time": "2023-02-04T10:37:52.092Z"
   },
   {
    "duration": 21,
    "start_time": "2023-02-04T10:37:52.110Z"
   },
   {
    "duration": 77,
    "start_time": "2023-02-04T10:37:52.132Z"
   },
   {
    "duration": 6,
    "start_time": "2023-02-04T10:37:52.210Z"
   },
   {
    "duration": 33,
    "start_time": "2023-02-04T10:37:52.218Z"
   },
   {
    "duration": 11,
    "start_time": "2023-02-04T10:37:52.252Z"
   },
   {
    "duration": 9,
    "start_time": "2023-02-04T10:37:52.264Z"
   },
   {
    "duration": 7,
    "start_time": "2023-02-04T10:37:52.275Z"
   },
   {
    "duration": 20,
    "start_time": "2023-02-04T10:37:52.283Z"
   },
   {
    "duration": 261,
    "start_time": "2023-02-04T10:37:52.305Z"
   },
   {
    "duration": 2,
    "start_time": "2023-02-04T10:37:52.568Z"
   },
   {
    "duration": 19,
    "start_time": "2023-02-04T10:37:52.572Z"
   },
   {
    "duration": 8,
    "start_time": "2023-02-04T10:37:52.592Z"
   },
   {
    "duration": 7,
    "start_time": "2023-02-04T10:37:52.602Z"
   },
   {
    "duration": 22,
    "start_time": "2023-02-04T10:37:52.610Z"
   },
   {
    "duration": 27,
    "start_time": "2023-02-04T10:37:52.633Z"
   },
   {
    "duration": 5,
    "start_time": "2023-02-04T10:37:52.661Z"
   },
   {
    "duration": 53,
    "start_time": "2023-02-04T10:37:52.667Z"
   },
   {
    "duration": 5,
    "start_time": "2023-02-04T10:37:52.721Z"
   },
   {
    "duration": 51,
    "start_time": "2023-02-04T10:37:52.728Z"
   },
   {
    "duration": 7,
    "start_time": "2023-02-04T10:37:52.780Z"
   },
   {
    "duration": 19,
    "start_time": "2023-02-04T10:37:52.789Z"
   },
   {
    "duration": 10,
    "start_time": "2023-02-04T10:37:52.809Z"
   },
   {
    "duration": 2,
    "start_time": "2023-02-04T10:37:52.820Z"
   },
   {
    "duration": 9,
    "start_time": "2023-02-04T10:37:52.824Z"
   },
   {
    "duration": 79,
    "start_time": "2023-02-04T10:37:52.835Z"
   },
   {
    "duration": 3,
    "start_time": "2023-02-04T10:37:52.916Z"
   },
   {
    "duration": 10,
    "start_time": "2023-02-04T10:37:52.921Z"
   },
   {
    "duration": 195,
    "start_time": "2023-02-04T10:37:52.932Z"
   },
   {
    "duration": 27,
    "start_time": "2023-02-04T10:37:53.128Z"
   },
   {
    "duration": 106,
    "start_time": "2023-02-04T10:37:53.157Z"
   },
   {
    "duration": 152,
    "start_time": "2023-02-04T10:37:53.265Z"
   },
   {
    "duration": 0,
    "start_time": "2023-02-04T10:37:53.418Z"
   },
   {
    "duration": 0,
    "start_time": "2023-02-04T10:37:53.420Z"
   },
   {
    "duration": 0,
    "start_time": "2023-02-04T10:37:53.421Z"
   },
   {
    "duration": 0,
    "start_time": "2023-02-04T10:37:53.422Z"
   },
   {
    "duration": 10,
    "start_time": "2023-02-04T10:38:10.914Z"
   },
   {
    "duration": 6,
    "start_time": "2023-02-04T10:38:30.673Z"
   },
   {
    "duration": 23,
    "start_time": "2023-02-04T10:38:33.489Z"
   },
   {
    "duration": 4,
    "start_time": "2023-02-04T10:39:03.624Z"
   },
   {
    "duration": 9,
    "start_time": "2023-02-04T10:39:06.353Z"
   },
   {
    "duration": 397,
    "start_time": "2023-02-04T10:39:37.757Z"
   },
   {
    "duration": 459,
    "start_time": "2023-02-04T10:39:38.156Z"
   },
   {
    "duration": 192,
    "start_time": "2023-02-04T10:39:38.617Z"
   },
   {
    "duration": 3,
    "start_time": "2023-02-04T10:39:38.812Z"
   },
   {
    "duration": 29,
    "start_time": "2023-02-04T10:39:38.816Z"
   },
   {
    "duration": 138,
    "start_time": "2023-02-04T10:39:38.847Z"
   },
   {
    "duration": 4,
    "start_time": "2023-02-04T10:39:38.990Z"
   },
   {
    "duration": 6,
    "start_time": "2023-02-04T10:39:38.995Z"
   },
   {
    "duration": 15,
    "start_time": "2023-02-04T10:39:39.002Z"
   },
   {
    "duration": 52,
    "start_time": "2023-02-04T10:39:39.019Z"
   },
   {
    "duration": 147,
    "start_time": "2023-02-04T10:39:39.072Z"
   },
   {
    "duration": 10,
    "start_time": "2023-02-04T10:39:39.221Z"
   },
   {
    "duration": 9,
    "start_time": "2023-02-04T10:39:39.232Z"
   },
   {
    "duration": 13,
    "start_time": "2023-02-04T10:39:39.242Z"
   },
   {
    "duration": 13,
    "start_time": "2023-02-04T10:39:39.257Z"
   },
   {
    "duration": 8,
    "start_time": "2023-02-04T10:39:39.271Z"
   },
   {
    "duration": 125,
    "start_time": "2023-02-04T10:39:39.291Z"
   },
   {
    "duration": 9,
    "start_time": "2023-02-04T10:39:39.417Z"
   },
   {
    "duration": 26,
    "start_time": "2023-02-04T10:39:39.428Z"
   },
   {
    "duration": 72,
    "start_time": "2023-02-04T10:39:39.455Z"
   },
   {
    "duration": 77,
    "start_time": "2023-02-04T10:39:39.528Z"
   },
   {
    "duration": 18,
    "start_time": "2023-02-04T10:39:39.607Z"
   },
   {
    "duration": 11,
    "start_time": "2023-02-04T10:39:39.627Z"
   },
   {
    "duration": 23,
    "start_time": "2023-02-04T10:39:39.639Z"
   },
   {
    "duration": 28,
    "start_time": "2023-02-04T10:39:39.664Z"
   },
   {
    "duration": 17,
    "start_time": "2023-02-04T10:39:39.693Z"
   },
   {
    "duration": 10,
    "start_time": "2023-02-04T10:39:39.712Z"
   },
   {
    "duration": 279,
    "start_time": "2023-02-04T10:39:39.727Z"
   },
   {
    "duration": 15,
    "start_time": "2023-02-04T10:39:40.007Z"
   },
   {
    "duration": 25,
    "start_time": "2023-02-04T10:39:40.023Z"
   },
   {
    "duration": 15,
    "start_time": "2023-02-04T10:39:40.051Z"
   },
   {
    "duration": 12,
    "start_time": "2023-02-04T10:39:40.067Z"
   },
   {
    "duration": 7,
    "start_time": "2023-02-04T10:39:40.081Z"
   },
   {
    "duration": 9,
    "start_time": "2023-02-04T10:39:40.091Z"
   },
   {
    "duration": 4,
    "start_time": "2023-02-04T10:39:40.101Z"
   },
   {
    "duration": 11,
    "start_time": "2023-02-04T10:39:40.106Z"
   },
   {
    "duration": 37,
    "start_time": "2023-02-04T10:39:40.118Z"
   },
   {
    "duration": 16,
    "start_time": "2023-02-04T10:39:40.157Z"
   },
   {
    "duration": 23,
    "start_time": "2023-02-04T10:39:40.191Z"
   },
   {
    "duration": 67,
    "start_time": "2023-02-04T10:39:40.215Z"
   },
   {
    "duration": 10,
    "start_time": "2023-02-04T10:39:40.284Z"
   },
   {
    "duration": 8,
    "start_time": "2023-02-04T10:39:40.296Z"
   },
   {
    "duration": 12,
    "start_time": "2023-02-04T10:39:40.305Z"
   },
   {
    "duration": 6,
    "start_time": "2023-02-04T10:39:40.319Z"
   },
   {
    "duration": 7,
    "start_time": "2023-02-04T10:39:40.327Z"
   },
   {
    "duration": 13,
    "start_time": "2023-02-04T10:39:40.335Z"
   },
   {
    "duration": 280,
    "start_time": "2023-02-04T10:39:40.349Z"
   },
   {
    "duration": 3,
    "start_time": "2023-02-04T10:39:40.631Z"
   },
   {
    "duration": 21,
    "start_time": "2023-02-04T10:39:40.637Z"
   },
   {
    "duration": 29,
    "start_time": "2023-02-04T10:39:40.659Z"
   },
   {
    "duration": 13,
    "start_time": "2023-02-04T10:39:40.689Z"
   },
   {
    "duration": 20,
    "start_time": "2023-02-04T10:39:40.703Z"
   },
   {
    "duration": 25,
    "start_time": "2023-02-04T10:39:40.725Z"
   },
   {
    "duration": 4,
    "start_time": "2023-02-04T10:39:40.752Z"
   },
   {
    "duration": 60,
    "start_time": "2023-02-04T10:39:40.758Z"
   },
   {
    "duration": 6,
    "start_time": "2023-02-04T10:39:40.819Z"
   },
   {
    "duration": 38,
    "start_time": "2023-02-04T10:39:40.827Z"
   },
   {
    "duration": 7,
    "start_time": "2023-02-04T10:39:40.867Z"
   },
   {
    "duration": 34,
    "start_time": "2023-02-04T10:39:40.891Z"
   },
   {
    "duration": 14,
    "start_time": "2023-02-04T10:39:40.926Z"
   },
   {
    "duration": 8,
    "start_time": "2023-02-04T10:39:40.941Z"
   },
   {
    "duration": 42,
    "start_time": "2023-02-04T10:39:40.951Z"
   },
   {
    "duration": 73,
    "start_time": "2023-02-04T10:39:40.994Z"
   },
   {
    "duration": 3,
    "start_time": "2023-02-04T10:39:41.069Z"
   },
   {
    "duration": 19,
    "start_time": "2023-02-04T10:39:41.074Z"
   },
   {
    "duration": 181,
    "start_time": "2023-02-04T10:39:41.094Z"
   },
   {
    "duration": 31,
    "start_time": "2023-02-04T10:39:41.277Z"
   },
   {
    "duration": 98,
    "start_time": "2023-02-04T10:39:41.309Z"
   },
   {
    "duration": 104,
    "start_time": "2023-02-04T10:39:41.409Z"
   },
   {
    "duration": 99,
    "start_time": "2023-02-04T10:39:41.514Z"
   },
   {
    "duration": 99,
    "start_time": "2023-02-04T10:39:41.615Z"
   },
   {
    "duration": 6,
    "start_time": "2023-02-04T10:39:41.716Z"
   },
   {
    "duration": 141,
    "start_time": "2023-02-04T10:39:41.724Z"
   },
   {
    "duration": 26,
    "start_time": "2023-02-04T10:40:13.451Z"
   },
   {
    "duration": 25,
    "start_time": "2023-02-04T10:46:04.504Z"
   },
   {
    "duration": 14,
    "start_time": "2023-02-04T10:54:42.647Z"
   },
   {
    "duration": 10,
    "start_time": "2023-02-04T10:55:43.832Z"
   },
   {
    "duration": 88,
    "start_time": "2023-02-04T10:57:34.185Z"
   },
   {
    "duration": 18,
    "start_time": "2023-02-04T10:58:10.233Z"
   },
   {
    "duration": 25,
    "start_time": "2023-02-04T10:58:53.370Z"
   },
   {
    "duration": 20,
    "start_time": "2023-02-04T10:59:16.330Z"
   },
   {
    "duration": 16,
    "start_time": "2023-02-04T11:02:21.979Z"
   },
   {
    "duration": 12,
    "start_time": "2023-02-04T11:02:51.772Z"
   },
   {
    "duration": 3,
    "start_time": "2023-02-04T11:04:26.863Z"
   },
   {
    "duration": 8,
    "start_time": "2023-02-04T11:04:30.540Z"
   },
   {
    "duration": 8,
    "start_time": "2023-02-04T11:04:49.612Z"
   },
   {
    "duration": 67,
    "start_time": "2023-02-04T11:05:22.820Z"
   },
   {
    "duration": 3,
    "start_time": "2023-02-04T11:05:32.117Z"
   },
   {
    "duration": 9,
    "start_time": "2023-02-04T11:05:45.332Z"
   },
   {
    "duration": 9,
    "start_time": "2023-02-04T11:05:49.764Z"
   },
   {
    "duration": 12,
    "start_time": "2023-02-04T11:06:34.720Z"
   },
   {
    "duration": 6,
    "start_time": "2023-02-04T11:06:38.478Z"
   },
   {
    "duration": 7,
    "start_time": "2023-02-04T11:07:47.431Z"
   },
   {
    "duration": 6,
    "start_time": "2023-02-04T11:07:54.533Z"
   },
   {
    "duration": 3,
    "start_time": "2023-02-04T11:08:05.630Z"
   },
   {
    "duration": 7,
    "start_time": "2023-02-04T11:08:08.318Z"
   },
   {
    "duration": 8,
    "start_time": "2023-02-04T11:08:10.862Z"
   },
   {
    "duration": 8,
    "start_time": "2023-02-04T11:08:13.709Z"
   },
   {
    "duration": 12,
    "start_time": "2023-02-04T11:08:16.037Z"
   },
   {
    "duration": 7,
    "start_time": "2023-02-04T11:08:18.566Z"
   },
   {
    "duration": 11,
    "start_time": "2023-02-04T11:08:39.086Z"
   },
   {
    "duration": 7,
    "start_time": "2023-02-04T11:08:41.774Z"
   },
   {
    "duration": 5,
    "start_time": "2023-02-04T11:08:56.526Z"
   },
   {
    "duration": 7,
    "start_time": "2023-02-04T11:08:59.461Z"
   },
   {
    "duration": 376,
    "start_time": "2023-02-04T11:09:18.819Z"
   },
   {
    "duration": 415,
    "start_time": "2023-02-04T11:09:19.197Z"
   },
   {
    "duration": 194,
    "start_time": "2023-02-04T11:09:19.614Z"
   },
   {
    "duration": 3,
    "start_time": "2023-02-04T11:09:19.810Z"
   },
   {
    "duration": 7,
    "start_time": "2023-02-04T11:09:19.814Z"
   },
   {
    "duration": 137,
    "start_time": "2023-02-04T11:09:19.823Z"
   },
   {
    "duration": 4,
    "start_time": "2023-02-04T11:09:19.961Z"
   },
   {
    "duration": 11,
    "start_time": "2023-02-04T11:09:19.966Z"
   },
   {
    "duration": 12,
    "start_time": "2023-02-04T11:09:19.979Z"
   },
   {
    "duration": 55,
    "start_time": "2023-02-04T11:09:19.994Z"
   },
   {
    "duration": 150,
    "start_time": "2023-02-04T11:09:20.050Z"
   },
   {
    "duration": 10,
    "start_time": "2023-02-04T11:09:20.202Z"
   },
   {
    "duration": 7,
    "start_time": "2023-02-04T11:09:20.213Z"
   },
   {
    "duration": 11,
    "start_time": "2023-02-04T11:09:20.221Z"
   },
   {
    "duration": 12,
    "start_time": "2023-02-04T11:09:20.234Z"
   },
   {
    "duration": 7,
    "start_time": "2023-02-04T11:09:20.248Z"
   },
   {
    "duration": 140,
    "start_time": "2023-02-04T11:09:20.256Z"
   },
   {
    "duration": 8,
    "start_time": "2023-02-04T11:09:20.398Z"
   },
   {
    "duration": 24,
    "start_time": "2023-02-04T11:09:20.407Z"
   },
   {
    "duration": 74,
    "start_time": "2023-02-04T11:09:20.432Z"
   },
   {
    "duration": 72,
    "start_time": "2023-02-04T11:09:20.508Z"
   },
   {
    "duration": 18,
    "start_time": "2023-02-04T11:09:20.591Z"
   },
   {
    "duration": 12,
    "start_time": "2023-02-04T11:09:20.611Z"
   },
   {
    "duration": 23,
    "start_time": "2023-02-04T11:09:20.624Z"
   },
   {
    "duration": 14,
    "start_time": "2023-02-04T11:09:20.649Z"
   },
   {
    "duration": 32,
    "start_time": "2023-02-04T11:09:20.664Z"
   },
   {
    "duration": 6,
    "start_time": "2023-02-04T11:09:20.698Z"
   },
   {
    "duration": 275,
    "start_time": "2023-02-04T11:09:20.708Z"
   },
   {
    "duration": 18,
    "start_time": "2023-02-04T11:09:20.985Z"
   },
   {
    "duration": 8,
    "start_time": "2023-02-04T11:09:21.004Z"
   },
   {
    "duration": 12,
    "start_time": "2023-02-04T11:09:21.014Z"
   },
   {
    "duration": 6,
    "start_time": "2023-02-04T11:09:21.028Z"
   },
   {
    "duration": 7,
    "start_time": "2023-02-04T11:09:21.036Z"
   },
   {
    "duration": 11,
    "start_time": "2023-02-04T11:09:21.045Z"
   },
   {
    "duration": 3,
    "start_time": "2023-02-04T11:09:21.057Z"
   },
   {
    "duration": 31,
    "start_time": "2023-02-04T11:09:21.062Z"
   },
   {
    "duration": 34,
    "start_time": "2023-02-04T11:09:21.095Z"
   },
   {
    "duration": 18,
    "start_time": "2023-02-04T11:09:21.130Z"
   },
   {
    "duration": 22,
    "start_time": "2023-02-04T11:09:21.150Z"
   },
   {
    "duration": 58,
    "start_time": "2023-02-04T11:09:21.192Z"
   },
   {
    "duration": 7,
    "start_time": "2023-02-04T11:09:21.251Z"
   },
   {
    "duration": 6,
    "start_time": "2023-02-04T11:09:21.260Z"
   },
   {
    "duration": 24,
    "start_time": "2023-02-04T11:09:21.267Z"
   },
   {
    "duration": 4,
    "start_time": "2023-02-04T11:09:21.293Z"
   },
   {
    "duration": 7,
    "start_time": "2023-02-04T11:09:21.298Z"
   },
   {
    "duration": 8,
    "start_time": "2023-02-04T11:09:21.306Z"
   },
   {
    "duration": 272,
    "start_time": "2023-02-04T11:09:21.316Z"
   },
   {
    "duration": 4,
    "start_time": "2023-02-04T11:09:21.589Z"
   },
   {
    "duration": 9,
    "start_time": "2023-02-04T11:09:21.594Z"
   },
   {
    "duration": 10,
    "start_time": "2023-02-04T11:09:21.605Z"
   },
   {
    "duration": 5,
    "start_time": "2023-02-04T11:09:21.617Z"
   },
   {
    "duration": 19,
    "start_time": "2023-02-04T11:09:21.624Z"
   },
   {
    "duration": 47,
    "start_time": "2023-02-04T11:09:21.644Z"
   },
   {
    "duration": 4,
    "start_time": "2023-02-04T11:09:21.693Z"
   },
   {
    "duration": 38,
    "start_time": "2023-02-04T11:09:21.698Z"
   },
   {
    "duration": 6,
    "start_time": "2023-02-04T11:09:21.738Z"
   },
   {
    "duration": 52,
    "start_time": "2023-02-04T11:09:21.745Z"
   },
   {
    "duration": 7,
    "start_time": "2023-02-04T11:09:21.798Z"
   },
   {
    "duration": 8,
    "start_time": "2023-02-04T11:09:21.807Z"
   },
   {
    "duration": 14,
    "start_time": "2023-02-04T11:09:21.817Z"
   },
   {
    "duration": 6,
    "start_time": "2023-02-04T11:09:21.833Z"
   },
   {
    "duration": 9,
    "start_time": "2023-02-04T11:09:21.841Z"
   },
   {
    "duration": 12,
    "start_time": "2023-02-04T11:09:21.851Z"
   },
   {
    "duration": 28,
    "start_time": "2023-02-04T11:09:21.864Z"
   },
   {
    "duration": 83,
    "start_time": "2023-02-04T11:09:21.894Z"
   },
   {
    "duration": 12,
    "start_time": "2023-02-04T11:09:21.979Z"
   },
   {
    "duration": 13,
    "start_time": "2023-02-04T11:09:21.993Z"
   },
   {
    "duration": 200,
    "start_time": "2023-02-04T11:09:22.008Z"
   },
   {
    "duration": 27,
    "start_time": "2023-02-04T11:09:22.209Z"
   },
   {
    "duration": 97,
    "start_time": "2023-02-04T11:09:22.238Z"
   },
   {
    "duration": 100,
    "start_time": "2023-02-04T11:09:22.337Z"
   },
   {
    "duration": 99,
    "start_time": "2023-02-04T11:09:22.438Z"
   },
   {
    "duration": 101,
    "start_time": "2023-02-04T11:09:22.539Z"
   },
   {
    "duration": 1281,
    "start_time": "2023-02-04T11:09:22.642Z"
   },
   {
    "duration": 0,
    "start_time": "2023-02-04T11:09:23.924Z"
   },
   {
    "duration": 0,
    "start_time": "2023-02-04T11:09:23.926Z"
   },
   {
    "duration": 0,
    "start_time": "2023-02-04T11:09:23.927Z"
   },
   {
    "duration": 98,
    "start_time": "2023-02-04T11:10:15.902Z"
   },
   {
    "duration": 4,
    "start_time": "2023-02-04T11:11:10.486Z"
   },
   {
    "duration": 6,
    "start_time": "2023-02-04T11:11:28.990Z"
   },
   {
    "duration": 7,
    "start_time": "2023-02-04T11:11:49.038Z"
   },
   {
    "duration": 7,
    "start_time": "2023-02-04T11:11:51.470Z"
   },
   {
    "duration": 8,
    "start_time": "2023-02-04T11:11:54.050Z"
   },
   {
    "duration": 7,
    "start_time": "2023-02-04T11:11:56.918Z"
   },
   {
    "duration": 11,
    "start_time": "2023-02-04T11:12:03.451Z"
   },
   {
    "duration": 8,
    "start_time": "2023-02-04T11:12:05.877Z"
   },
   {
    "duration": 1472,
    "start_time": "2023-02-04T11:13:10.711Z"
   },
   {
    "duration": 5,
    "start_time": "2023-02-04T11:13:16.439Z"
   },
   {
    "duration": 1353,
    "start_time": "2023-02-04T11:14:32.951Z"
   },
   {
    "duration": 4,
    "start_time": "2023-02-04T11:14:44.562Z"
   },
   {
    "duration": 8,
    "start_time": "2023-02-04T11:15:06.191Z"
   },
   {
    "duration": 5,
    "start_time": "2023-02-04T11:16:56.026Z"
   },
   {
    "duration": 1149,
    "start_time": "2023-02-04T11:17:15.344Z"
   },
   {
    "duration": 5,
    "start_time": "2023-02-04T11:17:48.387Z"
   },
   {
    "duration": 1201,
    "start_time": "2023-02-04T11:17:52.000Z"
   },
   {
    "duration": 8,
    "start_time": "2023-02-04T11:18:42.161Z"
   },
   {
    "duration": 5,
    "start_time": "2023-02-04T11:18:52.246Z"
   },
   {
    "duration": 1141,
    "start_time": "2023-02-04T11:18:54.872Z"
   },
   {
    "duration": 1286,
    "start_time": "2023-02-04T11:19:20.385Z"
   },
   {
    "duration": 401,
    "start_time": "2023-02-04T11:19:32.087Z"
   },
   {
    "duration": 427,
    "start_time": "2023-02-04T11:19:32.492Z"
   },
   {
    "duration": 194,
    "start_time": "2023-02-04T11:19:32.920Z"
   },
   {
    "duration": 2,
    "start_time": "2023-02-04T11:19:33.116Z"
   },
   {
    "duration": 9,
    "start_time": "2023-02-04T11:19:33.119Z"
   },
   {
    "duration": 134,
    "start_time": "2023-02-04T11:19:33.129Z"
   },
   {
    "duration": 4,
    "start_time": "2023-02-04T11:19:33.264Z"
   },
   {
    "duration": 5,
    "start_time": "2023-02-04T11:19:33.270Z"
   },
   {
    "duration": 17,
    "start_time": "2023-02-04T11:19:33.276Z"
   },
   {
    "duration": 50,
    "start_time": "2023-02-04T11:19:33.296Z"
   },
   {
    "duration": 192,
    "start_time": "2023-02-04T11:19:33.347Z"
   },
   {
    "duration": 10,
    "start_time": "2023-02-04T11:19:33.541Z"
   },
   {
    "duration": 5,
    "start_time": "2023-02-04T11:19:33.552Z"
   },
   {
    "duration": 11,
    "start_time": "2023-02-04T11:19:33.558Z"
   },
   {
    "duration": 12,
    "start_time": "2023-02-04T11:19:33.570Z"
   },
   {
    "duration": 11,
    "start_time": "2023-02-04T11:19:33.583Z"
   },
   {
    "duration": 118,
    "start_time": "2023-02-04T11:19:33.596Z"
   },
   {
    "duration": 8,
    "start_time": "2023-02-04T11:19:33.715Z"
   },
   {
    "duration": 20,
    "start_time": "2023-02-04T11:19:33.724Z"
   },
   {
    "duration": 58,
    "start_time": "2023-02-04T11:19:33.745Z"
   },
   {
    "duration": 79,
    "start_time": "2023-02-04T11:19:33.805Z"
   },
   {
    "duration": 18,
    "start_time": "2023-02-04T11:19:33.891Z"
   },
   {
    "duration": 11,
    "start_time": "2023-02-04T11:19:33.910Z"
   },
   {
    "duration": 22,
    "start_time": "2023-02-04T11:19:33.923Z"
   },
   {
    "duration": 50,
    "start_time": "2023-02-04T11:19:33.947Z"
   },
   {
    "duration": 15,
    "start_time": "2023-02-04T11:19:33.998Z"
   },
   {
    "duration": 15,
    "start_time": "2023-02-04T11:19:34.015Z"
   },
   {
    "duration": 350,
    "start_time": "2023-02-04T11:19:34.034Z"
   },
   {
    "duration": 18,
    "start_time": "2023-02-04T11:19:34.385Z"
   },
   {
    "duration": 8,
    "start_time": "2023-02-04T11:19:34.405Z"
   },
   {
    "duration": 14,
    "start_time": "2023-02-04T11:19:34.414Z"
   },
   {
    "duration": 5,
    "start_time": "2023-02-04T11:19:34.429Z"
   },
   {
    "duration": 5,
    "start_time": "2023-02-04T11:19:34.435Z"
   },
   {
    "duration": 9,
    "start_time": "2023-02-04T11:19:34.442Z"
   },
   {
    "duration": 3,
    "start_time": "2023-02-04T11:19:34.453Z"
   },
   {
    "duration": 5,
    "start_time": "2023-02-04T11:19:34.457Z"
   },
   {
    "duration": 30,
    "start_time": "2023-02-04T11:19:34.491Z"
   },
   {
    "duration": 16,
    "start_time": "2023-02-04T11:19:34.522Z"
   },
   {
    "duration": 21,
    "start_time": "2023-02-04T11:19:34.539Z"
   },
   {
    "duration": 77,
    "start_time": "2023-02-04T11:19:34.562Z"
   },
   {
    "duration": 6,
    "start_time": "2023-02-04T11:19:34.641Z"
   },
   {
    "duration": 9,
    "start_time": "2023-02-04T11:19:34.648Z"
   },
   {
    "duration": 10,
    "start_time": "2023-02-04T11:19:34.658Z"
   },
   {
    "duration": 7,
    "start_time": "2023-02-04T11:19:34.670Z"
   },
   {
    "duration": 14,
    "start_time": "2023-02-04T11:19:34.679Z"
   },
   {
    "duration": 15,
    "start_time": "2023-02-04T11:19:34.694Z"
   },
   {
    "duration": 261,
    "start_time": "2023-02-04T11:19:34.710Z"
   },
   {
    "duration": 3,
    "start_time": "2023-02-04T11:19:34.972Z"
   },
   {
    "duration": 18,
    "start_time": "2023-02-04T11:19:34.977Z"
   },
   {
    "duration": 10,
    "start_time": "2023-02-04T11:19:34.997Z"
   },
   {
    "duration": 6,
    "start_time": "2023-02-04T11:19:35.009Z"
   },
   {
    "duration": 19,
    "start_time": "2023-02-04T11:19:35.016Z"
   },
   {
    "duration": 26,
    "start_time": "2023-02-04T11:19:35.037Z"
   },
   {
    "duration": 4,
    "start_time": "2023-02-04T11:19:35.065Z"
   },
   {
    "duration": 43,
    "start_time": "2023-02-04T11:19:35.090Z"
   },
   {
    "duration": 5,
    "start_time": "2023-02-04T11:19:35.134Z"
   },
   {
    "duration": 35,
    "start_time": "2023-02-04T11:19:35.140Z"
   },
   {
    "duration": 19,
    "start_time": "2023-02-04T11:19:35.177Z"
   },
   {
    "duration": 11,
    "start_time": "2023-02-04T11:19:35.198Z"
   },
   {
    "duration": 18,
    "start_time": "2023-02-04T11:19:35.211Z"
   },
   {
    "duration": 8,
    "start_time": "2023-02-04T11:19:35.230Z"
   },
   {
    "duration": 7,
    "start_time": "2023-02-04T11:19:35.239Z"
   },
   {
    "duration": 10,
    "start_time": "2023-02-04T11:19:35.247Z"
   },
   {
    "duration": 7,
    "start_time": "2023-02-04T11:19:35.258Z"
   },
   {
    "duration": 1463,
    "start_time": "2023-02-04T11:19:35.266Z"
   },
   {
    "duration": 0,
    "start_time": "2023-02-04T11:19:36.731Z"
   },
   {
    "duration": 0,
    "start_time": "2023-02-04T11:19:36.733Z"
   },
   {
    "duration": 0,
    "start_time": "2023-02-04T11:19:36.734Z"
   },
   {
    "duration": 0,
    "start_time": "2023-02-04T11:19:36.735Z"
   },
   {
    "duration": 0,
    "start_time": "2023-02-04T11:19:36.737Z"
   },
   {
    "duration": 0,
    "start_time": "2023-02-04T11:19:36.738Z"
   },
   {
    "duration": 0,
    "start_time": "2023-02-04T11:19:36.739Z"
   },
   {
    "duration": 0,
    "start_time": "2023-02-04T11:19:36.741Z"
   },
   {
    "duration": 0,
    "start_time": "2023-02-04T11:19:36.742Z"
   },
   {
    "duration": 0,
    "start_time": "2023-02-04T11:19:36.743Z"
   },
   {
    "duration": 0,
    "start_time": "2023-02-04T11:19:36.745Z"
   },
   {
    "duration": 0,
    "start_time": "2023-02-04T11:19:36.746Z"
   },
   {
    "duration": 6,
    "start_time": "2023-02-04T11:20:16.490Z"
   },
   {
    "duration": 4,
    "start_time": "2023-02-04T11:21:17.108Z"
   },
   {
    "duration": 8,
    "start_time": "2023-02-04T11:22:32.266Z"
   },
   {
    "duration": 1192,
    "start_time": "2023-02-04T11:22:47.867Z"
   },
   {
    "duration": 4,
    "start_time": "2023-02-04T11:23:12.099Z"
   },
   {
    "duration": 1355,
    "start_time": "2023-02-04T11:23:16.388Z"
   },
   {
    "duration": 11,
    "start_time": "2023-02-04T11:23:27.349Z"
   },
   {
    "duration": 5,
    "start_time": "2023-02-04T11:23:39.812Z"
   },
   {
    "duration": 5,
    "start_time": "2023-02-04T11:24:08.445Z"
   },
   {
    "duration": 17,
    "start_time": "2023-02-04T11:24:47.588Z"
   },
   {
    "duration": 8,
    "start_time": "2023-02-04T11:25:07.469Z"
   },
   {
    "duration": 7,
    "start_time": "2023-02-04T11:25:59.735Z"
   },
   {
    "duration": 3,
    "start_time": "2023-02-04T11:26:37.336Z"
   },
   {
    "duration": 7,
    "start_time": "2023-02-04T11:26:45.192Z"
   },
   {
    "duration": 5,
    "start_time": "2023-02-04T11:26:55.693Z"
   },
   {
    "duration": 6,
    "start_time": "2023-02-04T11:27:22.260Z"
   },
   {
    "duration": 11,
    "start_time": "2023-02-04T11:27:25.067Z"
   },
   {
    "duration": 484,
    "start_time": "2023-02-04T11:27:37.009Z"
   },
   {
    "duration": 438,
    "start_time": "2023-02-04T11:27:37.495Z"
   },
   {
    "duration": 293,
    "start_time": "2023-02-04T11:27:37.935Z"
   },
   {
    "duration": 3,
    "start_time": "2023-02-04T11:27:38.230Z"
   },
   {
    "duration": 7,
    "start_time": "2023-02-04T11:27:38.235Z"
   },
   {
    "duration": 139,
    "start_time": "2023-02-04T11:27:38.243Z"
   },
   {
    "duration": 8,
    "start_time": "2023-02-04T11:27:38.384Z"
   },
   {
    "duration": 4,
    "start_time": "2023-02-04T11:27:38.393Z"
   },
   {
    "duration": 5,
    "start_time": "2023-02-04T11:27:38.401Z"
   },
   {
    "duration": 97,
    "start_time": "2023-02-04T11:27:38.409Z"
   },
   {
    "duration": 162,
    "start_time": "2023-02-04T11:27:38.508Z"
   },
   {
    "duration": 11,
    "start_time": "2023-02-04T11:27:38.672Z"
   },
   {
    "duration": 4,
    "start_time": "2023-02-04T11:27:38.692Z"
   },
   {
    "duration": 11,
    "start_time": "2023-02-04T11:27:38.697Z"
   },
   {
    "duration": 13,
    "start_time": "2023-02-04T11:27:38.709Z"
   },
   {
    "duration": 9,
    "start_time": "2023-02-04T11:27:38.724Z"
   },
   {
    "duration": 173,
    "start_time": "2023-02-04T11:27:38.736Z"
   },
   {
    "duration": 12,
    "start_time": "2023-02-04T11:27:38.914Z"
   },
   {
    "duration": 26,
    "start_time": "2023-02-04T11:27:38.928Z"
   },
   {
    "duration": 98,
    "start_time": "2023-02-04T11:27:38.956Z"
   },
   {
    "duration": 112,
    "start_time": "2023-02-04T11:27:39.057Z"
   },
   {
    "duration": 32,
    "start_time": "2023-02-04T11:27:39.172Z"
   },
   {
    "duration": 22,
    "start_time": "2023-02-04T11:27:39.206Z"
   },
   {
    "duration": 25,
    "start_time": "2023-02-04T11:27:39.229Z"
   },
   {
    "duration": 20,
    "start_time": "2023-02-04T11:27:39.256Z"
   },
   {
    "duration": 38,
    "start_time": "2023-02-04T11:27:39.278Z"
   },
   {
    "duration": 11,
    "start_time": "2023-02-04T11:27:39.318Z"
   },
   {
    "duration": 297,
    "start_time": "2023-02-04T11:27:39.336Z"
   },
   {
    "duration": 19,
    "start_time": "2023-02-04T11:27:39.635Z"
   },
   {
    "duration": 12,
    "start_time": "2023-02-04T11:27:39.656Z"
   },
   {
    "duration": 37,
    "start_time": "2023-02-04T11:27:39.669Z"
   },
   {
    "duration": 15,
    "start_time": "2023-02-04T11:27:39.709Z"
   },
   {
    "duration": 6,
    "start_time": "2023-02-04T11:27:39.726Z"
   },
   {
    "duration": 13,
    "start_time": "2023-02-04T11:27:39.734Z"
   },
   {
    "duration": 5,
    "start_time": "2023-02-04T11:27:39.749Z"
   },
   {
    "duration": 5,
    "start_time": "2023-02-04T11:27:39.755Z"
   },
   {
    "duration": 75,
    "start_time": "2023-02-04T11:27:39.762Z"
   },
   {
    "duration": 30,
    "start_time": "2023-02-04T11:27:39.839Z"
   },
   {
    "duration": 56,
    "start_time": "2023-02-04T11:27:39.871Z"
   },
   {
    "duration": 103,
    "start_time": "2023-02-04T11:27:39.929Z"
   },
   {
    "duration": 8,
    "start_time": "2023-02-04T11:27:40.034Z"
   },
   {
    "duration": 13,
    "start_time": "2023-02-04T11:27:40.044Z"
   },
   {
    "duration": 13,
    "start_time": "2023-02-04T11:27:40.058Z"
   },
   {
    "duration": 17,
    "start_time": "2023-02-04T11:27:40.073Z"
   },
   {
    "duration": 18,
    "start_time": "2023-02-04T11:27:40.092Z"
   },
   {
    "duration": 16,
    "start_time": "2023-02-04T11:27:40.112Z"
   },
   {
    "duration": 321,
    "start_time": "2023-02-04T11:27:40.129Z"
   },
   {
    "duration": 3,
    "start_time": "2023-02-04T11:27:40.452Z"
   },
   {
    "duration": 9,
    "start_time": "2023-02-04T11:27:40.456Z"
   },
   {
    "duration": 26,
    "start_time": "2023-02-04T11:27:40.466Z"
   },
   {
    "duration": 11,
    "start_time": "2023-02-04T11:27:40.496Z"
   },
   {
    "duration": 27,
    "start_time": "2023-02-04T11:27:40.509Z"
   },
   {
    "duration": 29,
    "start_time": "2023-02-04T11:27:40.538Z"
   },
   {
    "duration": 4,
    "start_time": "2023-02-04T11:27:40.569Z"
   },
   {
    "duration": 51,
    "start_time": "2023-02-04T11:27:40.575Z"
   },
   {
    "duration": 7,
    "start_time": "2023-02-04T11:27:40.628Z"
   },
   {
    "duration": 53,
    "start_time": "2023-02-04T11:27:40.636Z"
   },
   {
    "duration": 9,
    "start_time": "2023-02-04T11:27:40.691Z"
   },
   {
    "duration": 11,
    "start_time": "2023-02-04T11:27:40.702Z"
   },
   {
    "duration": 21,
    "start_time": "2023-02-04T11:27:40.715Z"
   },
   {
    "duration": 9,
    "start_time": "2023-02-04T11:27:40.737Z"
   },
   {
    "duration": 10,
    "start_time": "2023-02-04T11:27:40.748Z"
   },
   {
    "duration": 13,
    "start_time": "2023-02-04T11:27:40.760Z"
   },
   {
    "duration": 5,
    "start_time": "2023-02-04T11:27:40.774Z"
   },
   {
    "duration": 15,
    "start_time": "2023-02-04T11:27:40.780Z"
   },
   {
    "duration": 82,
    "start_time": "2023-02-04T11:27:40.796Z"
   },
   {
    "duration": 3,
    "start_time": "2023-02-04T11:27:40.880Z"
   },
   {
    "duration": 14,
    "start_time": "2023-02-04T11:27:40.884Z"
   },
   {
    "duration": 8,
    "start_time": "2023-02-04T11:27:40.900Z"
   },
   {
    "duration": 190,
    "start_time": "2023-02-04T11:27:40.910Z"
   },
   {
    "duration": 29,
    "start_time": "2023-02-04T11:27:41.102Z"
   },
   {
    "duration": 109,
    "start_time": "2023-02-04T11:27:41.133Z"
   },
   {
    "duration": 110,
    "start_time": "2023-02-04T11:27:41.244Z"
   },
   {
    "duration": 124,
    "start_time": "2023-02-04T11:27:41.357Z"
   },
   {
    "duration": 101,
    "start_time": "2023-02-04T11:27:41.492Z"
   },
   {
    "duration": 7,
    "start_time": "2023-02-04T11:27:41.595Z"
   },
   {
    "duration": 1307,
    "start_time": "2023-02-04T11:27:41.604Z"
   },
   {
    "duration": 11,
    "start_time": "2023-02-04T11:28:41.184Z"
   },
   {
    "duration": 15,
    "start_time": "2023-02-04T11:29:02.238Z"
   },
   {
    "duration": 14,
    "start_time": "2023-02-04T11:29:07.817Z"
   },
   {
    "duration": 8,
    "start_time": "2023-02-04T11:40:02.795Z"
   },
   {
    "duration": 1254,
    "start_time": "2023-02-04T11:40:53.675Z"
   },
   {
    "duration": 7,
    "start_time": "2023-02-04T11:41:08.121Z"
   },
   {
    "duration": 12,
    "start_time": "2023-02-04T11:44:26.596Z"
   },
   {
    "duration": 1463,
    "start_time": "2023-02-04T11:44:40.532Z"
   },
   {
    "duration": 7,
    "start_time": "2023-02-04T11:45:18.733Z"
   },
   {
    "duration": 9,
    "start_time": "2023-02-04T11:45:23.317Z"
   },
   {
    "duration": 6,
    "start_time": "2023-02-04T11:46:34.261Z"
   },
   {
    "duration": 7,
    "start_time": "2023-02-04T11:46:37.314Z"
   },
   {
    "duration": 18,
    "start_time": "2023-02-04T11:46:55.741Z"
   },
   {
    "duration": 12,
    "start_time": "2023-02-04T11:47:04.764Z"
   },
   {
    "duration": 5,
    "start_time": "2023-02-04T11:47:13.054Z"
   },
   {
    "duration": 8,
    "start_time": "2023-02-04T11:47:24.510Z"
   },
   {
    "duration": 1214,
    "start_time": "2023-02-04T11:47:34.037Z"
   },
   {
    "duration": 12,
    "start_time": "2023-02-04T11:47:51.430Z"
   },
   {
    "duration": 13,
    "start_time": "2023-02-04T11:47:59.830Z"
   },
   {
    "duration": 6,
    "start_time": "2023-02-04T11:48:05.982Z"
   },
   {
    "duration": 9,
    "start_time": "2023-02-04T11:48:13.142Z"
   },
   {
    "duration": 5,
    "start_time": "2023-02-04T11:48:20.258Z"
   },
   {
    "duration": 7,
    "start_time": "2023-02-04T11:49:14.471Z"
   },
   {
    "duration": 7,
    "start_time": "2023-02-04T11:49:35.375Z"
   },
   {
    "duration": 12,
    "start_time": "2023-02-04T11:49:46.149Z"
   },
   {
    "duration": 6,
    "start_time": "2023-02-04T11:49:55.047Z"
   },
   {
    "duration": 5,
    "start_time": "2023-02-04T11:50:20.518Z"
   },
   {
    "duration": 12,
    "start_time": "2023-02-04T11:51:00.486Z"
   },
   {
    "duration": 103,
    "start_time": "2023-02-04T11:51:26.479Z"
   },
   {
    "duration": 9,
    "start_time": "2023-02-04T11:51:30.661Z"
   },
   {
    "duration": 1260,
    "start_time": "2023-02-04T11:51:52.048Z"
   },
   {
    "duration": 8,
    "start_time": "2023-02-04T11:52:01.405Z"
   },
   {
    "duration": 5,
    "start_time": "2023-02-04T11:53:03.232Z"
   },
   {
    "duration": 32,
    "start_time": "2023-02-04T11:53:05.505Z"
   },
   {
    "duration": 5,
    "start_time": "2023-02-04T11:53:55.872Z"
   },
   {
    "duration": 1261,
    "start_time": "2023-02-04T11:53:57.697Z"
   },
   {
    "duration": 6,
    "start_time": "2023-02-04T11:54:42.584Z"
   },
   {
    "duration": 1290,
    "start_time": "2023-02-04T11:54:45.081Z"
   },
   {
    "duration": 6,
    "start_time": "2023-02-04T11:55:43.204Z"
   },
   {
    "duration": 22,
    "start_time": "2023-02-04T11:55:44.937Z"
   },
   {
    "duration": 10,
    "start_time": "2023-02-04T11:57:29.906Z"
   },
   {
    "duration": 11,
    "start_time": "2023-02-04T11:57:50.261Z"
   },
   {
    "duration": 15,
    "start_time": "2023-02-04T11:57:54.711Z"
   },
   {
    "duration": 87,
    "start_time": "2023-02-04T11:58:34.660Z"
   },
   {
    "duration": 7,
    "start_time": "2023-02-04T12:01:41.006Z"
   },
   {
    "duration": 10,
    "start_time": "2023-02-04T12:02:04.069Z"
   },
   {
    "duration": 1288,
    "start_time": "2023-02-04T12:02:26.726Z"
   },
   {
    "duration": 7,
    "start_time": "2023-02-04T12:02:35.515Z"
   },
   {
    "duration": 6,
    "start_time": "2023-02-04T12:02:46.867Z"
   },
   {
    "duration": 22,
    "start_time": "2023-02-04T12:02:49.140Z"
   },
   {
    "duration": 7,
    "start_time": "2023-02-04T12:03:04.180Z"
   },
   {
    "duration": 6,
    "start_time": "2023-02-04T12:05:24.323Z"
   },
   {
    "duration": 52,
    "start_time": "2023-02-04T12:05:28.254Z"
   },
   {
    "duration": 1240,
    "start_time": "2023-02-04T12:10:20.632Z"
   },
   {
    "duration": 4,
    "start_time": "2023-02-04T12:10:59.934Z"
   },
   {
    "duration": 20,
    "start_time": "2023-02-04T12:11:06.030Z"
   },
   {
    "duration": 19,
    "start_time": "2023-02-04T12:11:27.567Z"
   },
   {
    "duration": 377,
    "start_time": "2023-02-04T12:12:13.130Z"
   },
   {
    "duration": 527,
    "start_time": "2023-02-04T12:12:13.510Z"
   },
   {
    "duration": 212,
    "start_time": "2023-02-04T12:12:14.039Z"
   },
   {
    "duration": 2,
    "start_time": "2023-02-04T12:12:14.253Z"
   },
   {
    "duration": 14,
    "start_time": "2023-02-04T12:12:14.256Z"
   },
   {
    "duration": 138,
    "start_time": "2023-02-04T12:12:14.271Z"
   },
   {
    "duration": 4,
    "start_time": "2023-02-04T12:12:14.410Z"
   },
   {
    "duration": 16,
    "start_time": "2023-02-04T12:12:14.416Z"
   },
   {
    "duration": 10,
    "start_time": "2023-02-04T12:12:14.434Z"
   },
   {
    "duration": 84,
    "start_time": "2023-02-04T12:12:14.447Z"
   },
   {
    "duration": 159,
    "start_time": "2023-02-04T12:12:14.533Z"
   },
   {
    "duration": 13,
    "start_time": "2023-02-04T12:12:14.694Z"
   },
   {
    "duration": 12,
    "start_time": "2023-02-04T12:12:14.709Z"
   },
   {
    "duration": 15,
    "start_time": "2023-02-04T12:12:14.724Z"
   },
   {
    "duration": 16,
    "start_time": "2023-02-04T12:12:14.740Z"
   },
   {
    "duration": 10,
    "start_time": "2023-02-04T12:12:14.757Z"
   },
   {
    "duration": 135,
    "start_time": "2023-02-04T12:12:14.769Z"
   },
   {
    "duration": 16,
    "start_time": "2023-02-04T12:12:14.908Z"
   },
   {
    "duration": 33,
    "start_time": "2023-02-04T12:12:14.926Z"
   },
   {
    "duration": 96,
    "start_time": "2023-02-04T12:12:14.961Z"
   },
   {
    "duration": 81,
    "start_time": "2023-02-04T12:12:15.058Z"
   },
   {
    "duration": 19,
    "start_time": "2023-02-04T12:12:15.141Z"
   },
   {
    "duration": 13,
    "start_time": "2023-02-04T12:12:15.161Z"
   },
   {
    "duration": 22,
    "start_time": "2023-02-04T12:12:15.191Z"
   },
   {
    "duration": 11,
    "start_time": "2023-02-04T12:12:15.215Z"
   },
   {
    "duration": 22,
    "start_time": "2023-02-04T12:12:15.228Z"
   },
   {
    "duration": 6,
    "start_time": "2023-02-04T12:12:15.252Z"
   },
   {
    "duration": 294,
    "start_time": "2023-02-04T12:12:15.263Z"
   },
   {
    "duration": 17,
    "start_time": "2023-02-04T12:12:15.559Z"
   },
   {
    "duration": 21,
    "start_time": "2023-02-04T12:12:15.577Z"
   },
   {
    "duration": 13,
    "start_time": "2023-02-04T12:12:15.599Z"
   },
   {
    "duration": 13,
    "start_time": "2023-02-04T12:12:15.614Z"
   },
   {
    "duration": 9,
    "start_time": "2023-02-04T12:12:15.629Z"
   },
   {
    "duration": 15,
    "start_time": "2023-02-04T12:12:15.640Z"
   },
   {
    "duration": 4,
    "start_time": "2023-02-04T12:12:15.657Z"
   },
   {
    "duration": 29,
    "start_time": "2023-02-04T12:12:15.662Z"
   },
   {
    "duration": 48,
    "start_time": "2023-02-04T12:12:15.693Z"
   },
   {
    "duration": 29,
    "start_time": "2023-02-04T12:12:15.742Z"
   },
   {
    "duration": 23,
    "start_time": "2023-02-04T12:12:15.791Z"
   },
   {
    "duration": 84,
    "start_time": "2023-02-04T12:12:15.816Z"
   },
   {
    "duration": 7,
    "start_time": "2023-02-04T12:12:15.902Z"
   },
   {
    "duration": 8,
    "start_time": "2023-02-04T12:12:15.910Z"
   },
   {
    "duration": 8,
    "start_time": "2023-02-04T12:12:15.920Z"
   },
   {
    "duration": 12,
    "start_time": "2023-02-04T12:12:15.930Z"
   },
   {
    "duration": 15,
    "start_time": "2023-02-04T12:12:15.944Z"
   },
   {
    "duration": 20,
    "start_time": "2023-02-04T12:12:15.960Z"
   },
   {
    "duration": 301,
    "start_time": "2023-02-04T12:12:15.982Z"
   },
   {
    "duration": 7,
    "start_time": "2023-02-04T12:12:16.285Z"
   },
   {
    "duration": 19,
    "start_time": "2023-02-04T12:12:16.293Z"
   },
   {
    "duration": 13,
    "start_time": "2023-02-04T12:12:16.315Z"
   },
   {
    "duration": 13,
    "start_time": "2023-02-04T12:12:16.330Z"
   },
   {
    "duration": 52,
    "start_time": "2023-02-04T12:12:16.345Z"
   },
   {
    "duration": 35,
    "start_time": "2023-02-04T12:12:16.400Z"
   },
   {
    "duration": 7,
    "start_time": "2023-02-04T12:12:16.440Z"
   },
   {
    "duration": 58,
    "start_time": "2023-02-04T12:12:16.449Z"
   },
   {
    "duration": 7,
    "start_time": "2023-02-04T12:12:16.511Z"
   },
   {
    "duration": 48,
    "start_time": "2023-02-04T12:12:16.520Z"
   },
   {
    "duration": 11,
    "start_time": "2023-02-04T12:12:16.570Z"
   },
   {
    "duration": 10,
    "start_time": "2023-02-04T12:12:16.590Z"
   },
   {
    "duration": 19,
    "start_time": "2023-02-04T12:12:16.602Z"
   },
   {
    "duration": 8,
    "start_time": "2023-02-04T12:12:16.623Z"
   },
   {
    "duration": 16,
    "start_time": "2023-02-04T12:12:16.633Z"
   },
   {
    "duration": 19,
    "start_time": "2023-02-04T12:12:16.653Z"
   },
   {
    "duration": 118,
    "start_time": "2023-02-04T12:12:16.674Z"
   },
   {
    "duration": 0,
    "start_time": "2023-02-04T12:12:16.793Z"
   },
   {
    "duration": 0,
    "start_time": "2023-02-04T12:12:16.795Z"
   },
   {
    "duration": 0,
    "start_time": "2023-02-04T12:12:16.796Z"
   },
   {
    "duration": 0,
    "start_time": "2023-02-04T12:12:16.797Z"
   },
   {
    "duration": 0,
    "start_time": "2023-02-04T12:12:16.798Z"
   },
   {
    "duration": 0,
    "start_time": "2023-02-04T12:12:16.799Z"
   },
   {
    "duration": 0,
    "start_time": "2023-02-04T12:12:16.800Z"
   },
   {
    "duration": 0,
    "start_time": "2023-02-04T12:12:16.801Z"
   },
   {
    "duration": 0,
    "start_time": "2023-02-04T12:12:16.802Z"
   },
   {
    "duration": 0,
    "start_time": "2023-02-04T12:12:16.803Z"
   },
   {
    "duration": 0,
    "start_time": "2023-02-04T12:12:16.804Z"
   },
   {
    "duration": 0,
    "start_time": "2023-02-04T12:12:16.806Z"
   },
   {
    "duration": 0,
    "start_time": "2023-02-04T12:12:16.807Z"
   },
   {
    "duration": 5,
    "start_time": "2023-02-04T12:12:39.319Z"
   },
   {
    "duration": 6,
    "start_time": "2023-02-04T12:12:41.432Z"
   },
   {
    "duration": 359,
    "start_time": "2023-02-04T12:12:57.128Z"
   },
   {
    "duration": 420,
    "start_time": "2023-02-04T12:12:57.489Z"
   },
   {
    "duration": 182,
    "start_time": "2023-02-04T12:12:57.911Z"
   },
   {
    "duration": 3,
    "start_time": "2023-02-04T12:12:58.095Z"
   },
   {
    "duration": 10,
    "start_time": "2023-02-04T12:12:58.100Z"
   },
   {
    "duration": 134,
    "start_time": "2023-02-04T12:12:58.111Z"
   },
   {
    "duration": 3,
    "start_time": "2023-02-04T12:12:58.247Z"
   },
   {
    "duration": 3,
    "start_time": "2023-02-04T12:12:58.253Z"
   },
   {
    "duration": 12,
    "start_time": "2023-02-04T12:12:58.258Z"
   },
   {
    "duration": 53,
    "start_time": "2023-02-04T12:12:58.271Z"
   },
   {
    "duration": 157,
    "start_time": "2023-02-04T12:12:58.325Z"
   },
   {
    "duration": 16,
    "start_time": "2023-02-04T12:12:58.484Z"
   },
   {
    "duration": 4,
    "start_time": "2023-02-04T12:12:58.501Z"
   },
   {
    "duration": 11,
    "start_time": "2023-02-04T12:12:58.509Z"
   },
   {
    "duration": 14,
    "start_time": "2023-02-04T12:12:58.522Z"
   },
   {
    "duration": 8,
    "start_time": "2023-02-04T12:12:58.538Z"
   },
   {
    "duration": 143,
    "start_time": "2023-02-04T12:12:58.548Z"
   },
   {
    "duration": 7,
    "start_time": "2023-02-04T12:12:58.693Z"
   },
   {
    "duration": 25,
    "start_time": "2023-02-04T12:12:58.702Z"
   },
   {
    "duration": 66,
    "start_time": "2023-02-04T12:12:58.728Z"
   },
   {
    "duration": 71,
    "start_time": "2023-02-04T12:12:58.796Z"
   },
   {
    "duration": 30,
    "start_time": "2023-02-04T12:12:58.869Z"
   },
   {
    "duration": 12,
    "start_time": "2023-02-04T12:12:58.901Z"
   },
   {
    "duration": 22,
    "start_time": "2023-02-04T12:12:58.914Z"
   },
   {
    "duration": 10,
    "start_time": "2023-02-04T12:12:58.938Z"
   },
   {
    "duration": 15,
    "start_time": "2023-02-04T12:12:58.949Z"
   },
   {
    "duration": 31,
    "start_time": "2023-02-04T12:12:58.965Z"
   },
   {
    "duration": 263,
    "start_time": "2023-02-04T12:12:58.997Z"
   },
   {
    "duration": 30,
    "start_time": "2023-02-04T12:12:59.261Z"
   },
   {
    "duration": 8,
    "start_time": "2023-02-04T12:12:59.293Z"
   },
   {
    "duration": 33,
    "start_time": "2023-02-04T12:12:59.302Z"
   },
   {
    "duration": 12,
    "start_time": "2023-02-04T12:12:59.336Z"
   },
   {
    "duration": 23,
    "start_time": "2023-02-04T12:12:59.349Z"
   },
   {
    "duration": 25,
    "start_time": "2023-02-04T12:12:59.373Z"
   },
   {
    "duration": 17,
    "start_time": "2023-02-04T12:12:59.400Z"
   },
   {
    "duration": 22,
    "start_time": "2023-02-04T12:12:59.419Z"
   },
   {
    "duration": 52,
    "start_time": "2023-02-04T12:12:59.443Z"
   },
   {
    "duration": 17,
    "start_time": "2023-02-04T12:12:59.496Z"
   },
   {
    "duration": 31,
    "start_time": "2023-02-04T12:12:59.514Z"
   },
   {
    "duration": 71,
    "start_time": "2023-02-04T12:12:59.546Z"
   },
   {
    "duration": 6,
    "start_time": "2023-02-04T12:12:59.621Z"
   },
   {
    "duration": 17,
    "start_time": "2023-02-04T12:12:59.629Z"
   },
   {
    "duration": 29,
    "start_time": "2023-02-04T12:12:59.648Z"
   },
   {
    "duration": 18,
    "start_time": "2023-02-04T12:12:59.678Z"
   },
   {
    "duration": 26,
    "start_time": "2023-02-04T12:12:59.698Z"
   },
   {
    "duration": 12,
    "start_time": "2023-02-04T12:12:59.726Z"
   },
   {
    "duration": 268,
    "start_time": "2023-02-04T12:12:59.740Z"
   },
   {
    "duration": 3,
    "start_time": "2023-02-04T12:13:00.010Z"
   },
   {
    "duration": 22,
    "start_time": "2023-02-04T12:13:00.015Z"
   },
   {
    "duration": 28,
    "start_time": "2023-02-04T12:13:00.039Z"
   },
   {
    "duration": 31,
    "start_time": "2023-02-04T12:13:00.069Z"
   },
   {
    "duration": 23,
    "start_time": "2023-02-04T12:13:00.102Z"
   },
   {
    "duration": 34,
    "start_time": "2023-02-04T12:13:00.127Z"
   },
   {
    "duration": 5,
    "start_time": "2023-02-04T12:13:00.163Z"
   },
   {
    "duration": 62,
    "start_time": "2023-02-04T12:13:00.170Z"
   },
   {
    "duration": 5,
    "start_time": "2023-02-04T12:13:00.233Z"
   },
   {
    "duration": 40,
    "start_time": "2023-02-04T12:13:00.240Z"
   },
   {
    "duration": 14,
    "start_time": "2023-02-04T12:13:00.283Z"
   },
   {
    "duration": 29,
    "start_time": "2023-02-04T12:13:00.299Z"
   },
   {
    "duration": 23,
    "start_time": "2023-02-04T12:13:00.330Z"
   },
   {
    "duration": 8,
    "start_time": "2023-02-04T12:13:00.355Z"
   },
   {
    "duration": 29,
    "start_time": "2023-02-04T12:13:00.364Z"
   },
   {
    "duration": 16,
    "start_time": "2023-02-04T12:13:00.395Z"
   },
   {
    "duration": 13,
    "start_time": "2023-02-04T12:13:00.413Z"
   },
   {
    "duration": 33,
    "start_time": "2023-02-04T12:13:00.427Z"
   },
   {
    "duration": 79,
    "start_time": "2023-02-04T12:13:00.462Z"
   },
   {
    "duration": 4,
    "start_time": "2023-02-04T12:13:00.543Z"
   },
   {
    "duration": 23,
    "start_time": "2023-02-04T12:13:00.548Z"
   },
   {
    "duration": 17,
    "start_time": "2023-02-04T12:13:00.573Z"
   },
   {
    "duration": 201,
    "start_time": "2023-02-04T12:13:00.592Z"
   },
   {
    "duration": 28,
    "start_time": "2023-02-04T12:13:00.796Z"
   },
   {
    "duration": 104,
    "start_time": "2023-02-04T12:13:00.826Z"
   },
   {
    "duration": 103,
    "start_time": "2023-02-04T12:13:00.932Z"
   },
   {
    "duration": 103,
    "start_time": "2023-02-04T12:13:01.037Z"
   },
   {
    "duration": 104,
    "start_time": "2023-02-04T12:13:01.141Z"
   },
   {
    "duration": 6,
    "start_time": "2023-02-04T12:13:01.246Z"
   },
   {
    "duration": 1317,
    "start_time": "2023-02-04T12:13:01.253Z"
   },
   {
    "duration": 1343,
    "start_time": "2023-02-04T12:13:10.859Z"
   },
   {
    "duration": 70,
    "start_time": "2023-02-04T12:13:29.095Z"
   },
   {
    "duration": 62,
    "start_time": "2023-02-04T12:13:38.446Z"
   },
   {
    "duration": 1557,
    "start_time": "2023-02-04T12:13:49.823Z"
   },
   {
    "duration": 6,
    "start_time": "2023-02-04T12:14:39.561Z"
   },
   {
    "duration": 1300,
    "start_time": "2023-02-04T12:14:42.208Z"
   },
   {
    "duration": 26,
    "start_time": "2023-02-04T12:14:51.511Z"
   },
   {
    "duration": 5,
    "start_time": "2023-02-04T12:16:25.033Z"
   },
   {
    "duration": 50,
    "start_time": "2023-02-04T12:16:28.001Z"
   },
   {
    "duration": 7,
    "start_time": "2023-02-04T12:30:26.173Z"
   },
   {
    "duration": 151,
    "start_time": "2023-02-04T12:31:04.913Z"
   },
   {
    "duration": 6,
    "start_time": "2023-02-04T12:31:36.038Z"
   },
   {
    "duration": 147,
    "start_time": "2023-02-04T12:31:37.590Z"
   },
   {
    "duration": 10,
    "start_time": "2023-02-04T12:33:51.750Z"
   },
   {
    "duration": 136,
    "start_time": "2023-02-04T12:33:54.016Z"
   },
   {
    "duration": 429,
    "start_time": "2023-02-04T13:17:56.890Z"
   },
   {
    "duration": 499,
    "start_time": "2023-02-04T13:17:57.321Z"
   },
   {
    "duration": 190,
    "start_time": "2023-02-04T13:17:57.822Z"
   },
   {
    "duration": 5,
    "start_time": "2023-02-04T13:17:58.017Z"
   },
   {
    "duration": 12,
    "start_time": "2023-02-04T13:17:58.024Z"
   },
   {
    "duration": 148,
    "start_time": "2023-02-04T13:17:58.038Z"
   },
   {
    "duration": 5,
    "start_time": "2023-02-04T13:17:58.190Z"
   },
   {
    "duration": 4,
    "start_time": "2023-02-04T13:17:58.333Z"
   },
   {
    "duration": 3,
    "start_time": "2023-02-04T13:17:58.521Z"
   },
   {
    "duration": 69,
    "start_time": "2023-02-04T13:17:58.728Z"
   },
   {
    "duration": 150,
    "start_time": "2023-02-04T13:17:59.085Z"
   },
   {
    "duration": 13,
    "start_time": "2023-02-04T13:17:59.256Z"
   },
   {
    "duration": 5,
    "start_time": "2023-02-04T13:17:59.617Z"
   },
   {
    "duration": 9,
    "start_time": "2023-02-04T13:17:59.784Z"
   },
   {
    "duration": 14,
    "start_time": "2023-02-04T13:18:00.140Z"
   },
   {
    "duration": 9,
    "start_time": "2023-02-04T13:18:00.485Z"
   },
   {
    "duration": 136,
    "start_time": "2023-02-04T13:18:00.864Z"
   },
   {
    "duration": 9,
    "start_time": "2023-02-04T13:18:01.058Z"
   },
   {
    "duration": 20,
    "start_time": "2023-02-04T13:18:01.390Z"
   },
   {
    "duration": 85,
    "start_time": "2023-02-04T13:18:01.734Z"
   },
   {
    "duration": 81,
    "start_time": "2023-02-04T13:18:01.913Z"
   },
   {
    "duration": 30,
    "start_time": "2023-02-04T13:18:02.076Z"
   },
   {
    "duration": 12,
    "start_time": "2023-02-04T13:18:03.540Z"
   },
   {
    "duration": 24,
    "start_time": "2023-02-04T13:18:03.736Z"
   },
   {
    "duration": 12,
    "start_time": "2023-02-04T13:18:04.100Z"
   },
   {
    "duration": 16,
    "start_time": "2023-02-04T13:18:04.455Z"
   },
   {
    "duration": 7,
    "start_time": "2023-02-04T13:18:04.833Z"
   },
   {
    "duration": 265,
    "start_time": "2023-02-04T13:18:05.025Z"
   },
   {
    "duration": 15,
    "start_time": "2023-02-04T13:18:05.405Z"
   },
   {
    "duration": 8,
    "start_time": "2023-02-04T13:18:05.574Z"
   },
   {
    "duration": 13,
    "start_time": "2023-02-04T13:18:05.956Z"
   },
   {
    "duration": 4,
    "start_time": "2023-02-04T13:18:06.143Z"
   },
   {
    "duration": 5,
    "start_time": "2023-02-04T13:18:06.347Z"
   },
   {
    "duration": 12,
    "start_time": "2023-02-04T13:18:06.522Z"
   },
   {
    "duration": 5,
    "start_time": "2023-02-04T13:18:06.715Z"
   },
   {
    "duration": 5,
    "start_time": "2023-02-04T13:18:06.895Z"
   },
   {
    "duration": 30,
    "start_time": "2023-02-04T13:18:07.238Z"
   },
   {
    "duration": 17,
    "start_time": "2023-02-04T13:18:08.172Z"
   },
   {
    "duration": 24,
    "start_time": "2023-02-04T13:18:08.532Z"
   },
   {
    "duration": 82,
    "start_time": "2023-02-04T13:18:08.925Z"
   },
   {
    "duration": 8,
    "start_time": "2023-02-04T13:18:09.097Z"
   },
   {
    "duration": 4,
    "start_time": "2023-02-04T13:18:09.472Z"
   },
   {
    "duration": 4,
    "start_time": "2023-02-04T13:18:09.663Z"
   },
   {
    "duration": 6,
    "start_time": "2023-02-04T13:18:09.833Z"
   },
   {
    "duration": 7,
    "start_time": "2023-02-04T13:18:10.224Z"
   },
   {
    "duration": 8,
    "start_time": "2023-02-04T13:18:10.415Z"
   },
   {
    "duration": 333,
    "start_time": "2023-02-04T13:18:10.791Z"
   },
   {
    "duration": 4,
    "start_time": "2023-02-04T13:18:11.166Z"
   },
   {
    "duration": 14,
    "start_time": "2023-02-04T13:18:11.360Z"
   },
   {
    "duration": 10,
    "start_time": "2023-02-04T13:18:11.546Z"
   },
   {
    "duration": 5,
    "start_time": "2023-02-04T13:18:12.114Z"
   },
   {
    "duration": 19,
    "start_time": "2023-02-04T13:18:13.435Z"
   },
   {
    "duration": 28,
    "start_time": "2023-02-04T13:18:13.641Z"
   },
   {
    "duration": 5,
    "start_time": "2023-02-04T13:18:13.827Z"
   },
   {
    "duration": 37,
    "start_time": "2023-02-04T13:18:14.222Z"
   },
   {
    "duration": 5,
    "start_time": "2023-02-04T13:18:15.184Z"
   },
   {
    "duration": 33,
    "start_time": "2023-02-04T13:18:15.388Z"
   },
   {
    "duration": 8,
    "start_time": "2023-02-04T13:18:15.579Z"
   },
   {
    "duration": 3,
    "start_time": "2023-02-04T13:18:15.780Z"
   },
   {
    "duration": 13,
    "start_time": "2023-02-04T13:18:15.968Z"
   },
   {
    "duration": 8,
    "start_time": "2023-02-04T13:18:16.171Z"
   },
   {
    "duration": 9,
    "start_time": "2023-02-04T13:18:16.359Z"
   },
   {
    "duration": 12,
    "start_time": "2023-02-04T13:18:16.580Z"
   },
   {
    "duration": 7,
    "start_time": "2023-02-04T13:18:16.763Z"
   },
   {
    "duration": 7,
    "start_time": "2023-02-04T13:18:16.952Z"
   },
   {
    "duration": 92,
    "start_time": "2023-02-04T13:18:17.157Z"
   },
   {
    "duration": 4,
    "start_time": "2023-02-04T13:18:17.342Z"
   },
   {
    "duration": 7,
    "start_time": "2023-02-04T13:18:17.553Z"
   },
   {
    "duration": 5,
    "start_time": "2023-02-04T13:18:17.741Z"
   },
   {
    "duration": 233,
    "start_time": "2023-02-04T13:18:17.935Z"
   },
   {
    "duration": 31,
    "start_time": "2023-02-04T13:18:18.333Z"
   },
   {
    "duration": 96,
    "start_time": "2023-02-04T13:18:18.526Z"
   },
   {
    "duration": 102,
    "start_time": "2023-02-04T13:18:18.924Z"
   },
   {
    "duration": 103,
    "start_time": "2023-02-04T13:18:19.115Z"
   },
   {
    "duration": 94,
    "start_time": "2023-02-04T13:18:19.315Z"
   },
   {
    "duration": 8,
    "start_time": "2023-02-04T13:18:19.895Z"
   },
   {
    "duration": 148,
    "start_time": "2023-02-04T13:18:20.101Z"
   },
   {
    "duration": 5,
    "start_time": "2023-02-04T13:18:20.515Z"
   },
   {
    "duration": 73,
    "start_time": "2023-02-04T13:18:20.738Z"
   },
   {
    "duration": 109,
    "start_time": "2023-02-04T13:18:22.113Z"
   },
   {
    "duration": 85,
    "start_time": "2023-02-04T13:18:35.616Z"
   },
   {
    "duration": 87,
    "start_time": "2023-02-04T13:18:44.155Z"
   },
   {
    "duration": 5,
    "start_time": "2023-02-04T13:19:48.821Z"
   },
   {
    "duration": 811,
    "start_time": "2023-02-04T13:19:49.474Z"
   },
   {
    "duration": 881,
    "start_time": "2023-02-04T13:20:20.657Z"
   },
   {
    "duration": 0,
    "start_time": "2023-02-04T13:20:21.540Z"
   },
   {
    "duration": 0,
    "start_time": "2023-02-04T13:20:21.541Z"
   },
   {
    "duration": 1034,
    "start_time": "2023-02-04T13:20:21.955Z"
   },
   {
    "duration": 899,
    "start_time": "2023-02-04T13:20:27.419Z"
   },
   {
    "duration": 0,
    "start_time": "2023-02-04T13:20:28.319Z"
   },
   {
    "duration": 14,
    "start_time": "2023-02-04T13:21:13.506Z"
   },
   {
    "duration": 890,
    "start_time": "2023-02-04T13:21:14.553Z"
   },
   {
    "duration": 0,
    "start_time": "2023-02-04T13:21:15.445Z"
   },
   {
    "duration": 966,
    "start_time": "2023-02-04T13:21:15.887Z"
   },
   {
    "duration": 0,
    "start_time": "2023-02-04T13:21:16.856Z"
   },
   {
    "duration": 5,
    "start_time": "2023-02-04T13:21:38.907Z"
   },
   {
    "duration": 4,
    "start_time": "2023-02-04T13:21:48.308Z"
   },
   {
    "duration": 815,
    "start_time": "2023-02-04T13:21:49.367Z"
   },
   {
    "duration": 3,
    "start_time": "2023-02-04T13:22:21.548Z"
   },
   {
    "duration": 2,
    "start_time": "2023-02-04T13:22:21.754Z"
   },
   {
    "duration": 2,
    "start_time": "2023-02-04T13:22:21.921Z"
   },
   {
    "duration": 2,
    "start_time": "2023-02-04T13:22:22.109Z"
   },
   {
    "duration": 3,
    "start_time": "2023-02-04T13:22:22.304Z"
   },
   {
    "duration": 3,
    "start_time": "2023-02-04T13:22:22.484Z"
   },
   {
    "duration": 2,
    "start_time": "2023-02-04T13:22:22.688Z"
   },
   {
    "duration": 2,
    "start_time": "2023-02-04T13:22:22.859Z"
   },
   {
    "duration": 2,
    "start_time": "2023-02-04T13:22:23.046Z"
   },
   {
    "duration": 3,
    "start_time": "2023-02-04T13:22:23.252Z"
   },
   {
    "duration": 174,
    "start_time": "2023-02-04T13:22:23.608Z"
   },
   {
    "duration": 9,
    "start_time": "2023-02-04T13:22:23.808Z"
   },
   {
    "duration": 4,
    "start_time": "2023-02-04T13:22:24.360Z"
   },
   {
    "duration": 6,
    "start_time": "2023-02-04T13:22:24.531Z"
   },
   {
    "duration": 12,
    "start_time": "2023-02-04T13:22:24.907Z"
   },
   {
    "duration": 17,
    "start_time": "2023-02-04T13:22:25.289Z"
   },
   {
    "duration": 128,
    "start_time": "2023-02-04T13:22:25.654Z"
   },
   {
    "duration": 9,
    "start_time": "2023-02-04T13:22:25.857Z"
   },
   {
    "duration": 24,
    "start_time": "2023-02-04T13:22:26.225Z"
   },
   {
    "duration": 66,
    "start_time": "2023-02-04T13:22:26.609Z"
   },
   {
    "duration": 75,
    "start_time": "2023-02-04T13:22:26.771Z"
   },
   {
    "duration": 19,
    "start_time": "2023-02-04T13:22:26.959Z"
   },
   {
    "duration": 12,
    "start_time": "2023-02-04T13:22:28.331Z"
   },
   {
    "duration": 26,
    "start_time": "2023-02-04T13:22:28.509Z"
   },
   {
    "duration": 12,
    "start_time": "2023-02-04T13:22:28.894Z"
   },
   {
    "duration": 17,
    "start_time": "2023-02-04T13:22:29.269Z"
   },
   {
    "duration": 8,
    "start_time": "2023-02-04T13:22:29.646Z"
   },
   {
    "duration": 200,
    "start_time": "2023-02-04T13:22:29.818Z"
   },
   {
    "duration": 14,
    "start_time": "2023-02-04T13:22:30.195Z"
   },
   {
    "duration": 10,
    "start_time": "2023-02-04T13:22:30.398Z"
   },
   {
    "duration": 22,
    "start_time": "2023-02-04T13:22:30.794Z"
   },
   {
    "duration": 5,
    "start_time": "2023-02-04T13:22:30.995Z"
   },
   {
    "duration": 6,
    "start_time": "2023-02-04T13:22:31.169Z"
   },
   {
    "duration": 9,
    "start_time": "2023-02-04T13:22:31.374Z"
   },
   {
    "duration": 5,
    "start_time": "2023-02-04T13:22:31.559Z"
   },
   {
    "duration": 5,
    "start_time": "2023-02-04T13:22:31.763Z"
   },
   {
    "duration": 34,
    "start_time": "2023-02-04T13:22:32.140Z"
   },
   {
    "duration": 17,
    "start_time": "2023-02-04T13:22:33.124Z"
   },
   {
    "duration": 23,
    "start_time": "2023-02-04T13:22:33.533Z"
   },
   {
    "duration": 58,
    "start_time": "2023-02-04T13:22:33.930Z"
   },
   {
    "duration": 7,
    "start_time": "2023-02-04T13:22:34.116Z"
   },
   {
    "duration": 5,
    "start_time": "2023-02-04T13:22:34.539Z"
   },
   {
    "duration": 4,
    "start_time": "2023-02-04T13:22:34.718Z"
   },
   {
    "duration": 4,
    "start_time": "2023-02-04T13:22:34.913Z"
   },
   {
    "duration": 7,
    "start_time": "2023-02-04T13:22:35.309Z"
   },
   {
    "duration": 6,
    "start_time": "2023-02-04T13:22:35.517Z"
   },
   {
    "duration": 367,
    "start_time": "2023-02-04T13:22:35.931Z"
   },
   {
    "duration": 4,
    "start_time": "2023-02-04T13:22:36.409Z"
   },
   {
    "duration": 9,
    "start_time": "2023-02-04T13:22:36.635Z"
   },
   {
    "duration": 12,
    "start_time": "2023-02-04T13:22:36.834Z"
   },
   {
    "duration": 4,
    "start_time": "2023-02-04T13:22:37.480Z"
   },
   {
    "duration": 21,
    "start_time": "2023-02-04T13:22:39.238Z"
   },
   {
    "duration": 30,
    "start_time": "2023-02-04T13:22:39.426Z"
   },
   {
    "duration": 5,
    "start_time": "2023-02-04T13:22:39.638Z"
   },
   {
    "duration": 44,
    "start_time": "2023-02-04T13:22:40.008Z"
   },
   {
    "duration": 6,
    "start_time": "2023-02-04T13:22:40.922Z"
   },
   {
    "duration": 35,
    "start_time": "2023-02-04T13:22:41.110Z"
   },
   {
    "duration": 9,
    "start_time": "2023-02-04T13:22:41.309Z"
   },
   {
    "duration": 3,
    "start_time": "2023-02-04T13:22:41.451Z"
   },
   {
    "duration": 21,
    "start_time": "2023-02-04T13:22:41.685Z"
   },
   {
    "duration": 8,
    "start_time": "2023-02-04T13:22:41.860Z"
   },
   {
    "duration": 9,
    "start_time": "2023-02-04T13:22:42.047Z"
   },
   {
    "duration": 11,
    "start_time": "2023-02-04T13:22:42.240Z"
   },
   {
    "duration": 6,
    "start_time": "2023-02-04T13:22:42.438Z"
   },
   {
    "duration": 6,
    "start_time": "2023-02-04T13:22:42.847Z"
   },
   {
    "duration": 72,
    "start_time": "2023-02-04T13:22:43.006Z"
   },
   {
    "duration": 4,
    "start_time": "2023-02-04T13:22:43.206Z"
   },
   {
    "duration": 7,
    "start_time": "2023-02-04T13:22:43.408Z"
   },
   {
    "duration": 6,
    "start_time": "2023-02-04T13:22:43.582Z"
   },
   {
    "duration": 203,
    "start_time": "2023-02-04T13:22:43.776Z"
   },
   {
    "duration": 38,
    "start_time": "2023-02-04T13:22:44.176Z"
   },
   {
    "duration": 96,
    "start_time": "2023-02-04T13:22:44.381Z"
   },
   {
    "duration": 104,
    "start_time": "2023-02-04T13:22:44.759Z"
   },
   {
    "duration": 101,
    "start_time": "2023-02-04T13:22:44.992Z"
   },
   {
    "duration": 101,
    "start_time": "2023-02-04T13:22:45.184Z"
   },
   {
    "duration": 7,
    "start_time": "2023-02-04T13:22:46.616Z"
   },
   {
    "duration": 153,
    "start_time": "2023-02-04T13:22:46.991Z"
   },
   {
    "duration": 5,
    "start_time": "2023-02-04T13:22:48.141Z"
   },
   {
    "duration": 65,
    "start_time": "2023-02-04T13:22:50.770Z"
   },
   {
    "duration": 85,
    "start_time": "2023-02-04T13:22:51.869Z"
   },
   {
    "duration": 7,
    "start_time": "2023-02-04T13:22:52.208Z"
   },
   {
    "duration": 3,
    "start_time": "2023-02-04T13:22:52.733Z"
   },
   {
    "duration": 819,
    "start_time": "2023-02-04T13:22:53.947Z"
   },
   {
    "duration": 5,
    "start_time": "2023-02-04T13:24:31.868Z"
   },
   {
    "duration": 880,
    "start_time": "2023-02-04T13:24:32.590Z"
   },
   {
    "duration": 921,
    "start_time": "2023-02-04T13:26:57.357Z"
   },
   {
    "duration": 88,
    "start_time": "2023-02-04T13:30:58.867Z"
   },
   {
    "duration": 34,
    "start_time": "2023-02-04T13:30:59.602Z"
   },
   {
    "duration": 6,
    "start_time": "2023-02-04T13:31:01.016Z"
   },
   {
    "duration": 8,
    "start_time": "2023-02-04T13:31:04.019Z"
   },
   {
    "duration": 8,
    "start_time": "2023-02-04T13:31:28.793Z"
   },
   {
    "duration": 8,
    "start_time": "2023-02-04T13:31:37.331Z"
   },
   {
    "duration": 9,
    "start_time": "2023-02-04T13:31:44.630Z"
   },
   {
    "duration": 102,
    "start_time": "2023-02-04T13:33:33.080Z"
   },
   {
    "duration": 480,
    "start_time": "2023-02-04T13:46:00.136Z"
   },
   {
    "duration": 448,
    "start_time": "2023-02-04T13:46:00.620Z"
   },
   {
    "duration": 283,
    "start_time": "2023-02-04T13:46:01.071Z"
   },
   {
    "duration": 3,
    "start_time": "2023-02-04T13:46:01.358Z"
   },
   {
    "duration": 29,
    "start_time": "2023-02-04T13:46:01.363Z"
   },
   {
    "duration": 256,
    "start_time": "2023-02-04T13:46:01.395Z"
   },
   {
    "duration": 4,
    "start_time": "2023-02-04T13:46:01.654Z"
   },
   {
    "duration": 25,
    "start_time": "2023-02-04T13:46:01.660Z"
   },
   {
    "duration": 20,
    "start_time": "2023-02-04T13:46:01.687Z"
   },
   {
    "duration": 87,
    "start_time": "2023-02-04T13:46:01.711Z"
   },
   {
    "duration": 179,
    "start_time": "2023-02-04T13:46:01.800Z"
   },
   {
    "duration": 15,
    "start_time": "2023-02-04T13:46:01.982Z"
   },
   {
    "duration": 19,
    "start_time": "2023-02-04T13:46:01.999Z"
   },
   {
    "duration": 39,
    "start_time": "2023-02-04T13:46:02.021Z"
   },
   {
    "duration": 28,
    "start_time": "2023-02-04T13:46:02.062Z"
   },
   {
    "duration": 17,
    "start_time": "2023-02-04T13:46:02.093Z"
   },
   {
    "duration": 161,
    "start_time": "2023-02-04T13:46:02.111Z"
   },
   {
    "duration": 9,
    "start_time": "2023-02-04T13:46:02.274Z"
   },
   {
    "duration": 42,
    "start_time": "2023-02-04T13:46:02.292Z"
   },
   {
    "duration": 66,
    "start_time": "2023-02-04T13:46:02.337Z"
   },
   {
    "duration": 113,
    "start_time": "2023-02-04T13:46:02.405Z"
   },
   {
    "duration": 31,
    "start_time": "2023-02-04T13:46:02.521Z"
   },
   {
    "duration": 38,
    "start_time": "2023-02-04T13:46:02.555Z"
   },
   {
    "duration": 34,
    "start_time": "2023-02-04T13:46:02.594Z"
   },
   {
    "duration": 26,
    "start_time": "2023-02-04T13:46:02.630Z"
   },
   {
    "duration": 37,
    "start_time": "2023-02-04T13:46:02.658Z"
   },
   {
    "duration": 16,
    "start_time": "2023-02-04T13:46:02.697Z"
   },
   {
    "duration": 326,
    "start_time": "2023-02-04T13:46:02.718Z"
   },
   {
    "duration": 20,
    "start_time": "2023-02-04T13:46:03.046Z"
   },
   {
    "duration": 10,
    "start_time": "2023-02-04T13:46:03.067Z"
   },
   {
    "duration": 26,
    "start_time": "2023-02-04T13:46:03.079Z"
   },
   {
    "duration": 11,
    "start_time": "2023-02-04T13:46:03.107Z"
   },
   {
    "duration": 18,
    "start_time": "2023-02-04T13:46:03.119Z"
   },
   {
    "duration": 15,
    "start_time": "2023-02-04T13:46:03.139Z"
   },
   {
    "duration": 10,
    "start_time": "2023-02-04T13:46:03.156Z"
   },
   {
    "duration": 8,
    "start_time": "2023-02-04T13:46:03.168Z"
   },
   {
    "duration": 53,
    "start_time": "2023-02-04T13:46:03.177Z"
   },
   {
    "duration": 27,
    "start_time": "2023-02-04T13:46:03.232Z"
   },
   {
    "duration": 44,
    "start_time": "2023-02-04T13:46:03.260Z"
   },
   {
    "duration": 77,
    "start_time": "2023-02-04T13:46:03.306Z"
   },
   {
    "duration": 6,
    "start_time": "2023-02-04T13:46:03.385Z"
   },
   {
    "duration": 19,
    "start_time": "2023-02-04T13:46:03.393Z"
   },
   {
    "duration": 13,
    "start_time": "2023-02-04T13:46:03.414Z"
   },
   {
    "duration": 8,
    "start_time": "2023-02-04T13:46:03.429Z"
   },
   {
    "duration": 10,
    "start_time": "2023-02-04T13:46:03.438Z"
   },
   {
    "duration": 12,
    "start_time": "2023-02-04T13:46:03.449Z"
   },
   {
    "duration": 285,
    "start_time": "2023-02-04T13:46:03.463Z"
   },
   {
    "duration": 4,
    "start_time": "2023-02-04T13:46:03.750Z"
   },
   {
    "duration": 16,
    "start_time": "2023-02-04T13:46:03.756Z"
   },
   {
    "duration": 18,
    "start_time": "2023-02-04T13:46:03.774Z"
   },
   {
    "duration": 9,
    "start_time": "2023-02-04T13:46:03.794Z"
   },
   {
    "duration": 28,
    "start_time": "2023-02-04T13:46:03.805Z"
   },
   {
    "duration": 57,
    "start_time": "2023-02-04T13:46:03.835Z"
   },
   {
    "duration": 23,
    "start_time": "2023-02-04T13:46:03.894Z"
   },
   {
    "duration": 58,
    "start_time": "2023-02-04T13:46:03.919Z"
   },
   {
    "duration": 8,
    "start_time": "2023-02-04T13:46:03.979Z"
   },
   {
    "duration": 53,
    "start_time": "2023-02-04T13:46:03.991Z"
   },
   {
    "duration": 12,
    "start_time": "2023-02-04T13:46:04.046Z"
   },
   {
    "duration": 15,
    "start_time": "2023-02-04T13:46:04.060Z"
   },
   {
    "duration": 25,
    "start_time": "2023-02-04T13:46:04.077Z"
   },
   {
    "duration": 8,
    "start_time": "2023-02-04T13:46:04.104Z"
   },
   {
    "duration": 10,
    "start_time": "2023-02-04T13:46:04.115Z"
   },
   {
    "duration": 14,
    "start_time": "2023-02-04T13:46:04.127Z"
   },
   {
    "duration": 8,
    "start_time": "2023-02-04T13:46:04.143Z"
   },
   {
    "duration": 42,
    "start_time": "2023-02-04T13:46:04.153Z"
   },
   {
    "duration": 117,
    "start_time": "2023-02-04T13:46:04.197Z"
   },
   {
    "duration": 4,
    "start_time": "2023-02-04T13:46:04.316Z"
   },
   {
    "duration": 18,
    "start_time": "2023-02-04T13:46:04.322Z"
   },
   {
    "duration": 9,
    "start_time": "2023-02-04T13:46:04.342Z"
   },
   {
    "duration": 302,
    "start_time": "2023-02-04T13:46:04.353Z"
   },
   {
    "duration": 52,
    "start_time": "2023-02-04T13:46:04.657Z"
   },
   {
    "duration": 142,
    "start_time": "2023-02-04T13:46:04.712Z"
   },
   {
    "duration": 151,
    "start_time": "2023-02-04T13:46:04.857Z"
   },
   {
    "duration": 150,
    "start_time": "2023-02-04T13:46:05.009Z"
   },
   {
    "duration": 148,
    "start_time": "2023-02-04T13:46:05.161Z"
   },
   {
    "duration": 10,
    "start_time": "2023-02-04T13:46:05.312Z"
   },
   {
    "duration": 207,
    "start_time": "2023-02-04T13:46:05.324Z"
   },
   {
    "duration": 7,
    "start_time": "2023-02-04T13:46:05.534Z"
   },
   {
    "duration": 92,
    "start_time": "2023-02-04T13:46:05.545Z"
   },
   {
    "duration": 121,
    "start_time": "2023-02-04T13:46:05.638Z"
   },
   {
    "duration": 58,
    "start_time": "2023-02-04T13:46:05.761Z"
   },
   {
    "duration": 9,
    "start_time": "2023-02-04T13:46:05.825Z"
   },
   {
    "duration": 21,
    "start_time": "2023-02-04T13:46:05.837Z"
   },
   {
    "duration": 13,
    "start_time": "2023-02-04T13:46:05.860Z"
   },
   {
    "duration": 26,
    "start_time": "2023-02-04T13:46:05.875Z"
   },
   {
    "duration": 32,
    "start_time": "2023-02-04T13:46:05.903Z"
   },
   {
    "duration": 65,
    "start_time": "2023-02-14T15:07:03.228Z"
   },
   {
    "duration": 406,
    "start_time": "2023-02-14T15:07:09.678Z"
   },
   {
    "duration": 512,
    "start_time": "2023-02-14T15:07:10.087Z"
   },
   {
    "duration": 479,
    "start_time": "2023-02-14T15:07:10.601Z"
   },
   {
    "duration": 5,
    "start_time": "2023-02-14T15:07:11.083Z"
   },
   {
    "duration": 8,
    "start_time": "2023-02-14T15:07:11.091Z"
   },
   {
    "duration": 201,
    "start_time": "2023-02-14T15:07:11.101Z"
   },
   {
    "duration": 5,
    "start_time": "2023-02-14T15:07:11.303Z"
   },
   {
    "duration": 46,
    "start_time": "2023-02-14T15:07:11.309Z"
   },
   {
    "duration": 35,
    "start_time": "2023-02-14T15:07:11.358Z"
   },
   {
    "duration": 121,
    "start_time": "2023-02-14T15:07:11.396Z"
   },
   {
    "duration": 558,
    "start_time": "2023-02-14T15:07:11.519Z"
   },
   {
    "duration": 16,
    "start_time": "2023-02-14T15:07:12.079Z"
   },
   {
    "duration": 4,
    "start_time": "2023-02-14T15:07:12.097Z"
   },
   {
    "duration": 15,
    "start_time": "2023-02-14T15:07:12.103Z"
   },
   {
    "duration": 31,
    "start_time": "2023-02-14T15:07:12.119Z"
   },
   {
    "duration": 13,
    "start_time": "2023-02-14T15:07:12.152Z"
   },
   {
    "duration": 143,
    "start_time": "2023-02-14T15:07:12.167Z"
   },
   {
    "duration": 12,
    "start_time": "2023-02-14T15:07:12.313Z"
   },
   {
    "duration": 49,
    "start_time": "2023-02-14T15:07:12.327Z"
   },
   {
    "duration": 83,
    "start_time": "2023-02-14T15:07:12.378Z"
   },
   {
    "duration": 86,
    "start_time": "2023-02-14T15:07:12.463Z"
   },
   {
    "duration": 19,
    "start_time": "2023-02-14T15:07:12.551Z"
   },
   {
    "duration": 17,
    "start_time": "2023-02-14T15:07:12.572Z"
   },
   {
    "duration": 43,
    "start_time": "2023-02-14T15:07:12.591Z"
   },
   {
    "duration": 31,
    "start_time": "2023-02-14T15:07:12.636Z"
   },
   {
    "duration": 35,
    "start_time": "2023-02-14T15:07:12.668Z"
   },
   {
    "duration": 15,
    "start_time": "2023-02-14T15:07:12.705Z"
   },
   {
    "duration": 335,
    "start_time": "2023-02-14T15:07:12.724Z"
   },
   {
    "duration": 19,
    "start_time": "2023-02-14T15:07:13.060Z"
   },
   {
    "duration": 19,
    "start_time": "2023-02-14T15:07:13.080Z"
   },
   {
    "duration": 36,
    "start_time": "2023-02-14T15:07:13.101Z"
   },
   {
    "duration": 21,
    "start_time": "2023-02-14T15:07:13.139Z"
   },
   {
    "duration": 29,
    "start_time": "2023-02-14T15:07:13.162Z"
   },
   {
    "duration": 35,
    "start_time": "2023-02-14T15:07:13.193Z"
   },
   {
    "duration": 31,
    "start_time": "2023-02-14T15:07:13.231Z"
   },
   {
    "duration": 29,
    "start_time": "2023-02-14T15:07:13.264Z"
   },
   {
    "duration": 97,
    "start_time": "2023-02-14T15:07:13.295Z"
   },
   {
    "duration": 29,
    "start_time": "2023-02-14T15:07:13.394Z"
   },
   {
    "duration": 24,
    "start_time": "2023-02-14T15:07:13.425Z"
   },
   {
    "duration": 109,
    "start_time": "2023-02-14T15:07:13.451Z"
   },
   {
    "duration": 8,
    "start_time": "2023-02-14T15:07:13.562Z"
   },
   {
    "duration": 8,
    "start_time": "2023-02-14T15:07:13.572Z"
   },
   {
    "duration": 4,
    "start_time": "2023-02-14T15:07:13.582Z"
   },
   {
    "duration": 5,
    "start_time": "2023-02-14T15:07:13.588Z"
   },
   {
    "duration": 11,
    "start_time": "2023-02-14T15:07:13.595Z"
   },
   {
    "duration": 33,
    "start_time": "2023-02-14T15:07:13.608Z"
   },
   {
    "duration": 314,
    "start_time": "2023-02-14T15:07:13.643Z"
   },
   {
    "duration": 4,
    "start_time": "2023-02-14T15:07:13.960Z"
   },
   {
    "duration": 12,
    "start_time": "2023-02-14T15:07:13.966Z"
   },
   {
    "duration": 10,
    "start_time": "2023-02-14T15:07:13.980Z"
   },
   {
    "duration": 8,
    "start_time": "2023-02-14T15:07:13.992Z"
   },
   {
    "duration": 46,
    "start_time": "2023-02-14T15:07:14.001Z"
   },
   {
    "duration": 32,
    "start_time": "2023-02-14T15:07:14.049Z"
   },
   {
    "duration": 6,
    "start_time": "2023-02-14T15:07:14.083Z"
   },
   {
    "duration": 84,
    "start_time": "2023-02-14T15:07:14.092Z"
   },
   {
    "duration": 7,
    "start_time": "2023-02-14T15:07:14.177Z"
   },
   {
    "duration": 75,
    "start_time": "2023-02-14T15:07:14.187Z"
   },
   {
    "duration": 8,
    "start_time": "2023-02-14T15:07:14.265Z"
   },
   {
    "duration": 107,
    "start_time": "2023-02-14T15:07:14.274Z"
   },
   {
    "duration": 39,
    "start_time": "2023-02-14T15:07:14.383Z"
   },
   {
    "duration": 126,
    "start_time": "2023-02-14T15:07:14.436Z"
   },
   {
    "duration": 44,
    "start_time": "2023-02-14T15:07:14.564Z"
   },
   {
    "duration": 27,
    "start_time": "2023-02-14T15:07:14.610Z"
   },
   {
    "duration": 15,
    "start_time": "2023-02-14T15:07:14.639Z"
   },
   {
    "duration": 12,
    "start_time": "2023-02-14T15:07:14.656Z"
   },
   {
    "duration": 16,
    "start_time": "2023-02-14T15:07:14.670Z"
   },
   {
    "duration": 20,
    "start_time": "2023-02-14T15:07:14.688Z"
   },
   {
    "duration": 41,
    "start_time": "2023-02-14T15:11:11.216Z"
   }
  ],
  "kernelspec": {
   "display_name": "Python 3 (ipykernel)",
   "language": "python",
   "name": "python3"
  },
  "language_info": {
   "codemirror_mode": {
    "name": "ipython",
    "version": 3
   },
   "file_extension": ".py",
   "mimetype": "text/x-python",
   "name": "python",
   "nbconvert_exporter": "python",
   "pygments_lexer": "ipython3",
   "version": "3.9.5"
  },
  "toc": {
   "base_numbering": 1,
   "nav_menu": {},
   "number_sections": true,
   "sideBar": true,
   "skip_h1_title": true,
   "title_cell": "Table of Contents",
   "title_sidebar": "Contents",
   "toc_cell": false,
   "toc_position": {},
   "toc_section_display": true,
   "toc_window_display": false
  }
 },
 "nbformat": 4,
 "nbformat_minor": 2
}
