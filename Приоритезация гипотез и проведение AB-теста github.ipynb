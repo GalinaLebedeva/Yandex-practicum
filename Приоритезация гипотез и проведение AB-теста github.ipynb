{
 "cells": [
  {
   "cell_type": "markdown",
   "metadata": {},
   "source": [
    "# Приоритезация гипотез и проведение A/B-теста"
   ]
  },
  {
   "cell_type": "markdown",
   "metadata": {},
   "source": [
    "## Описание проекта\n",
    "Являясь аналитиком крупного интернет-магазина, совместно с отделом маркетинга мы подготовили список гипотез для увеличения выручки"
   ]
  },
  {
   "cell_type": "markdown",
   "metadata": {},
   "source": [
    "## Цели проекта\n",
    "- Приоритизировать гипотезы\n",
    "- Запустить A/B-тест \n",
    "- Проанализировать результаты "
   ]
  },
  {
   "cell_type": "markdown",
   "metadata": {},
   "source": [
    "## Описание данных"
   ]
  },
  {
   "cell_type": "markdown",
   "metadata": {},
   "source": [
    "**Таблица hyp**"
   ]
  },
  {
   "cell_type": "markdown",
   "metadata": {},
   "source": [
    "`Hypothesis` — краткое описание гипотезы\\\n",
    "`Reach` — охват пользователей по 10-балльной шкале\\\n",
    "`Impact` — влияние на пользователей по 10-балльной шкале\\\n",
    "`Confidence` — уверенность в гипотезе по 10-балльной шкале\\\n",
    "`Efforts` — затраты ресурсов на проверку гипотезы по 10-балльной шкале. Чем больше значение Efforts, тем дороже проверка гипотезы"
   ]
  },
  {
   "cell_type": "markdown",
   "metadata": {},
   "source": [
    "**Таблица orders**"
   ]
  },
  {
   "cell_type": "markdown",
   "metadata": {},
   "source": [
    "`transactionId` — идентификатор заказа\\\n",
    "`visitorId` — идентификатор пользователя, совершившего заказ\\\n",
    "`date` — дата, когда был совершён заказ\\\n",
    "`revenue` — выручка заказа\\\n",
    "`group` — группа A/B-теста, в которую попал заказ"
   ]
  },
  {
   "cell_type": "markdown",
   "metadata": {},
   "source": [
    "**Таблица visitors**"
   ]
  },
  {
   "cell_type": "markdown",
   "metadata": {},
   "source": [
    "`date` — дата\\\n",
    "`group` — группа A/B-теста\\\n",
    "`visitors` — количество пользователей в указанную дату в указанной группе A/B-теста"
   ]
  },
  {
   "cell_type": "markdown",
   "metadata": {},
   "source": [
    "## План работы"
   ]
  },
  {
   "cell_type": "markdown",
   "metadata": {},
   "source": [
    "1. Изучить данные о гипотезах\n",
    "2. Приоритезировать гипотезы, посредством методов `ICE` и `RICE`, посмотреть отличия\n",
    "3. Провести анализ A/B-теста\n",
    "4. Принять решение о продолжении проведения тестирования"
   ]
  },
  {
   "cell_type": "markdown",
   "metadata": {},
   "source": [
    "### Знакомство с данными"
   ]
  },
  {
   "cell_type": "markdown",
   "metadata": {},
   "source": [
    "Для начала загрузим необходимые библиотеки для работы"
   ]
  },
  {
   "cell_type": "code",
   "execution_count": 1,
   "metadata": {},
   "outputs": [],
   "source": [
    "import pandas as pd"
   ]
  },
  {
   "cell_type": "code",
   "execution_count": 2,
   "metadata": {},
   "outputs": [],
   "source": [
    "import datetime as dt"
   ]
  },
  {
   "cell_type": "code",
   "execution_count": 3,
   "metadata": {},
   "outputs": [],
   "source": [
    "import numpy as np"
   ]
  },
  {
   "cell_type": "code",
   "execution_count": 4,
   "metadata": {},
   "outputs": [],
   "source": [
    "import matplotlib.pyplot as plt"
   ]
  },
  {
   "cell_type": "code",
   "execution_count": 5,
   "metadata": {},
   "outputs": [],
   "source": [
    "import scipy.stats as stats"
   ]
  },
  {
   "cell_type": "markdown",
   "metadata": {},
   "source": [
    "Посмотрим на данные из трёх таблиц `hyp`, `orders` и `visitors`, приведем название столбцов к нижнему регистру (где это необходимо)"
   ]
  },
  {
   "cell_type": "code",
   "execution_count": 6,
   "metadata": {},
   "outputs": [],
   "source": [
    "hyp = pd.read_csv('/datasets/hypothesis.csv')"
   ]
  },
  {
   "cell_type": "code",
   "execution_count": 7,
   "metadata": {},
   "outputs": [],
   "source": [
    "orders = pd.read_csv('/datasets/orders.csv')"
   ]
  },
  {
   "cell_type": "code",
   "execution_count": 8,
   "metadata": {},
   "outputs": [],
   "source": [
    "visitors = pd.read_csv('/datasets/visitors.csv')"
   ]
  },
  {
   "cell_type": "code",
   "execution_count": 9,
   "metadata": {},
   "outputs": [],
   "source": [
    "pd.options.display.max_colwidth = 130"
   ]
  },
  {
   "cell_type": "code",
   "execution_count": 10,
   "metadata": {},
   "outputs": [
    {
     "data": {
      "text/html": [
       "<div>\n",
       "<style scoped>\n",
       "    .dataframe tbody tr th:only-of-type {\n",
       "        vertical-align: middle;\n",
       "    }\n",
       "\n",
       "    .dataframe tbody tr th {\n",
       "        vertical-align: top;\n",
       "    }\n",
       "\n",
       "    .dataframe thead th {\n",
       "        text-align: right;\n",
       "    }\n",
       "</style>\n",
       "<table border=\"1\" class=\"dataframe\">\n",
       "  <thead>\n",
       "    <tr style=\"text-align: right;\">\n",
       "      <th></th>\n",
       "      <th>Hypothesis</th>\n",
       "      <th>Reach</th>\n",
       "      <th>Impact</th>\n",
       "      <th>Confidence</th>\n",
       "      <th>Efforts</th>\n",
       "    </tr>\n",
       "  </thead>\n",
       "  <tbody>\n",
       "    <tr>\n",
       "      <th>0</th>\n",
       "      <td>Добавить два новых канала привлечения трафика, что позволит привлекать на 30% больше пользователей</td>\n",
       "      <td>3</td>\n",
       "      <td>10</td>\n",
       "      <td>8</td>\n",
       "      <td>6</td>\n",
       "    </tr>\n",
       "    <tr>\n",
       "      <th>1</th>\n",
       "      <td>Запустить собственную службу доставки, что сократит срок доставки заказов</td>\n",
       "      <td>2</td>\n",
       "      <td>5</td>\n",
       "      <td>4</td>\n",
       "      <td>10</td>\n",
       "    </tr>\n",
       "    <tr>\n",
       "      <th>2</th>\n",
       "      <td>Добавить блоки рекомендаций товаров на сайт интернет магазина, чтобы повысить конверсию и средний чек заказа</td>\n",
       "      <td>8</td>\n",
       "      <td>3</td>\n",
       "      <td>7</td>\n",
       "      <td>3</td>\n",
       "    </tr>\n",
       "    <tr>\n",
       "      <th>3</th>\n",
       "      <td>Изменить структура категорий, что увеличит конверсию, т.к. пользователи быстрее найдут нужный товар</td>\n",
       "      <td>8</td>\n",
       "      <td>3</td>\n",
       "      <td>3</td>\n",
       "      <td>8</td>\n",
       "    </tr>\n",
       "    <tr>\n",
       "      <th>4</th>\n",
       "      <td>Изменить цвет фона главной страницы, чтобы увеличить вовлеченность пользователей</td>\n",
       "      <td>3</td>\n",
       "      <td>1</td>\n",
       "      <td>1</td>\n",
       "      <td>1</td>\n",
       "    </tr>\n",
       "    <tr>\n",
       "      <th>5</th>\n",
       "      <td>Добавить страницу отзывов клиентов о магазине, что позволит увеличить количество заказов</td>\n",
       "      <td>3</td>\n",
       "      <td>2</td>\n",
       "      <td>2</td>\n",
       "      <td>3</td>\n",
       "    </tr>\n",
       "    <tr>\n",
       "      <th>6</th>\n",
       "      <td>Показать на главной странице баннеры с актуальными акциями и распродажами, чтобы увеличить конверсию</td>\n",
       "      <td>5</td>\n",
       "      <td>3</td>\n",
       "      <td>8</td>\n",
       "      <td>3</td>\n",
       "    </tr>\n",
       "    <tr>\n",
       "      <th>7</th>\n",
       "      <td>Добавить форму подписки на все основные страницы, чтобы собрать базу клиентов для email-рассылок</td>\n",
       "      <td>10</td>\n",
       "      <td>7</td>\n",
       "      <td>8</td>\n",
       "      <td>5</td>\n",
       "    </tr>\n",
       "    <tr>\n",
       "      <th>8</th>\n",
       "      <td>Запустить акцию, дающую скидку на товар в день рождения</td>\n",
       "      <td>1</td>\n",
       "      <td>9</td>\n",
       "      <td>9</td>\n",
       "      <td>5</td>\n",
       "    </tr>\n",
       "  </tbody>\n",
       "</table>\n",
       "</div>"
      ],
      "text/plain": [
       "                                                                                                     Hypothesis  \\\n",
       "0            Добавить два новых канала привлечения трафика, что позволит привлекать на 30% больше пользователей   \n",
       "1                                     Запустить собственную службу доставки, что сократит срок доставки заказов   \n",
       "2  Добавить блоки рекомендаций товаров на сайт интернет магазина, чтобы повысить конверсию и средний чек заказа   \n",
       "3           Изменить структура категорий, что увеличит конверсию, т.к. пользователи быстрее найдут нужный товар   \n",
       "4                              Изменить цвет фона главной страницы, чтобы увеличить вовлеченность пользователей   \n",
       "5                      Добавить страницу отзывов клиентов о магазине, что позволит увеличить количество заказов   \n",
       "6          Показать на главной странице баннеры с актуальными акциями и распродажами, чтобы увеличить конверсию   \n",
       "7              Добавить форму подписки на все основные страницы, чтобы собрать базу клиентов для email-рассылок   \n",
       "8                                                       Запустить акцию, дающую скидку на товар в день рождения   \n",
       "\n",
       "   Reach  Impact  Confidence  Efforts  \n",
       "0      3      10           8        6  \n",
       "1      2       5           4       10  \n",
       "2      8       3           7        3  \n",
       "3      8       3           3        8  \n",
       "4      3       1           1        1  \n",
       "5      3       2           2        3  \n",
       "6      5       3           8        3  \n",
       "7     10       7           8        5  \n",
       "8      1       9           9        5  "
      ]
     },
     "execution_count": 10,
     "metadata": {},
     "output_type": "execute_result"
    }
   ],
   "source": [
    "hyp"
   ]
  },
  {
   "cell_type": "code",
   "execution_count": 11,
   "metadata": {},
   "outputs": [],
   "source": [
    "hyp.columns = hyp.columns.str.lower()"
   ]
  },
  {
   "cell_type": "markdown",
   "metadata": {},
   "source": [
    "Также стоит проверить таблицы `orders` и `visitors` на наличие пропусков и дубликатов"
   ]
  },
  {
   "cell_type": "code",
   "execution_count": 12,
   "metadata": {},
   "outputs": [
    {
     "data": {
      "text/html": [
       "<div>\n",
       "<style scoped>\n",
       "    .dataframe tbody tr th:only-of-type {\n",
       "        vertical-align: middle;\n",
       "    }\n",
       "\n",
       "    .dataframe tbody tr th {\n",
       "        vertical-align: top;\n",
       "    }\n",
       "\n",
       "    .dataframe thead th {\n",
       "        text-align: right;\n",
       "    }\n",
       "</style>\n",
       "<table border=\"1\" class=\"dataframe\">\n",
       "  <thead>\n",
       "    <tr style=\"text-align: right;\">\n",
       "      <th></th>\n",
       "      <th>transactionId</th>\n",
       "      <th>visitorId</th>\n",
       "      <th>date</th>\n",
       "      <th>revenue</th>\n",
       "      <th>group</th>\n",
       "    </tr>\n",
       "  </thead>\n",
       "  <tbody>\n",
       "    <tr>\n",
       "      <th>0</th>\n",
       "      <td>3667963787</td>\n",
       "      <td>3312258926</td>\n",
       "      <td>2019-08-15</td>\n",
       "      <td>1650</td>\n",
       "      <td>B</td>\n",
       "    </tr>\n",
       "    <tr>\n",
       "      <th>1</th>\n",
       "      <td>2804400009</td>\n",
       "      <td>3642806036</td>\n",
       "      <td>2019-08-15</td>\n",
       "      <td>730</td>\n",
       "      <td>B</td>\n",
       "    </tr>\n",
       "    <tr>\n",
       "      <th>2</th>\n",
       "      <td>2961555356</td>\n",
       "      <td>4069496402</td>\n",
       "      <td>2019-08-15</td>\n",
       "      <td>400</td>\n",
       "      <td>A</td>\n",
       "    </tr>\n",
       "    <tr>\n",
       "      <th>3</th>\n",
       "      <td>3797467345</td>\n",
       "      <td>1196621759</td>\n",
       "      <td>2019-08-15</td>\n",
       "      <td>9759</td>\n",
       "      <td>B</td>\n",
       "    </tr>\n",
       "    <tr>\n",
       "      <th>4</th>\n",
       "      <td>2282983706</td>\n",
       "      <td>2322279887</td>\n",
       "      <td>2019-08-15</td>\n",
       "      <td>2308</td>\n",
       "      <td>B</td>\n",
       "    </tr>\n",
       "  </tbody>\n",
       "</table>\n",
       "</div>"
      ],
      "text/plain": [
       "   transactionId   visitorId        date  revenue group\n",
       "0     3667963787  3312258926  2019-08-15     1650     B\n",
       "1     2804400009  3642806036  2019-08-15      730     B\n",
       "2     2961555356  4069496402  2019-08-15      400     A\n",
       "3     3797467345  1196621759  2019-08-15     9759     B\n",
       "4     2282983706  2322279887  2019-08-15     2308     B"
      ]
     },
     "execution_count": 12,
     "metadata": {},
     "output_type": "execute_result"
    }
   ],
   "source": [
    "orders.head()"
   ]
  },
  {
   "cell_type": "code",
   "execution_count": 13,
   "metadata": {},
   "outputs": [],
   "source": [
    "orders.rename(columns={'transactionId':'orderId', 'visitorId':'userId'}, inplace = True)"
   ]
  },
  {
   "cell_type": "code",
   "execution_count": 14,
   "metadata": {},
   "outputs": [
    {
     "name": "stdout",
     "output_type": "stream",
     "text": [
      "<class 'pandas.core.frame.DataFrame'>\n",
      "RangeIndex: 1197 entries, 0 to 1196\n",
      "Data columns (total 5 columns):\n",
      " #   Column   Non-Null Count  Dtype \n",
      "---  ------   --------------  ----- \n",
      " 0   orderId  1197 non-null   int64 \n",
      " 1   userId   1197 non-null   int64 \n",
      " 2   date     1197 non-null   object\n",
      " 3   revenue  1197 non-null   int64 \n",
      " 4   group    1197 non-null   object\n",
      "dtypes: int64(3), object(2)\n",
      "memory usage: 46.9+ KB\n"
     ]
    }
   ],
   "source": [
    "orders.info()"
   ]
  },
  {
   "cell_type": "code",
   "execution_count": 15,
   "metadata": {},
   "outputs": [
    {
     "data": {
      "text/plain": [
       "0"
      ]
     },
     "execution_count": 15,
     "metadata": {},
     "output_type": "execute_result"
    }
   ],
   "source": [
    "orders.duplicated().sum()"
   ]
  },
  {
   "cell_type": "code",
   "execution_count": 16,
   "metadata": {
    "scrolled": true
   },
   "outputs": [
    {
     "data": {
      "text/html": [
       "<div>\n",
       "<style scoped>\n",
       "    .dataframe tbody tr th:only-of-type {\n",
       "        vertical-align: middle;\n",
       "    }\n",
       "\n",
       "    .dataframe tbody tr th {\n",
       "        vertical-align: top;\n",
       "    }\n",
       "\n",
       "    .dataframe thead th {\n",
       "        text-align: right;\n",
       "    }\n",
       "</style>\n",
       "<table border=\"1\" class=\"dataframe\">\n",
       "  <thead>\n",
       "    <tr style=\"text-align: right;\">\n",
       "      <th></th>\n",
       "      <th>date</th>\n",
       "      <th>group</th>\n",
       "      <th>visitors</th>\n",
       "    </tr>\n",
       "  </thead>\n",
       "  <tbody>\n",
       "    <tr>\n",
       "      <th>0</th>\n",
       "      <td>2019-08-01</td>\n",
       "      <td>A</td>\n",
       "      <td>719</td>\n",
       "    </tr>\n",
       "    <tr>\n",
       "      <th>1</th>\n",
       "      <td>2019-08-02</td>\n",
       "      <td>A</td>\n",
       "      <td>619</td>\n",
       "    </tr>\n",
       "    <tr>\n",
       "      <th>2</th>\n",
       "      <td>2019-08-03</td>\n",
       "      <td>A</td>\n",
       "      <td>507</td>\n",
       "    </tr>\n",
       "    <tr>\n",
       "      <th>3</th>\n",
       "      <td>2019-08-04</td>\n",
       "      <td>A</td>\n",
       "      <td>717</td>\n",
       "    </tr>\n",
       "    <tr>\n",
       "      <th>4</th>\n",
       "      <td>2019-08-05</td>\n",
       "      <td>A</td>\n",
       "      <td>756</td>\n",
       "    </tr>\n",
       "  </tbody>\n",
       "</table>\n",
       "</div>"
      ],
      "text/plain": [
       "         date group  visitors\n",
       "0  2019-08-01     A       719\n",
       "1  2019-08-02     A       619\n",
       "2  2019-08-03     A       507\n",
       "3  2019-08-04     A       717\n",
       "4  2019-08-05     A       756"
      ]
     },
     "execution_count": 16,
     "metadata": {},
     "output_type": "execute_result"
    }
   ],
   "source": [
    "visitors.head()"
   ]
  },
  {
   "cell_type": "code",
   "execution_count": 17,
   "metadata": {},
   "outputs": [
    {
     "name": "stdout",
     "output_type": "stream",
     "text": [
      "<class 'pandas.core.frame.DataFrame'>\n",
      "RangeIndex: 62 entries, 0 to 61\n",
      "Data columns (total 3 columns):\n",
      " #   Column    Non-Null Count  Dtype \n",
      "---  ------    --------------  ----- \n",
      " 0   date      62 non-null     object\n",
      " 1   group     62 non-null     object\n",
      " 2   visitors  62 non-null     int64 \n",
      "dtypes: int64(1), object(2)\n",
      "memory usage: 1.6+ KB\n"
     ]
    }
   ],
   "source": [
    "visitors.info()"
   ]
  },
  {
   "cell_type": "code",
   "execution_count": 18,
   "metadata": {},
   "outputs": [
    {
     "data": {
      "text/plain": [
       "0"
      ]
     },
     "execution_count": 18,
     "metadata": {},
     "output_type": "execute_result"
    }
   ],
   "source": [
    "visitors.duplicated().sum()"
   ]
  },
  {
   "cell_type": "markdown",
   "metadata": {},
   "source": [
    "При проверке на наличие пропусков и дубликатов их не обнаружено. Проведем ещё несколько исследований для лучшего знакомства с днными. Посмотрим группы, которые у нас участвуют в исследовании, и дату начала и окончания теста"
   ]
  },
  {
   "cell_type": "code",
   "execution_count": 19,
   "metadata": {},
   "outputs": [
    {
     "data": {
      "text/plain": [
       "min    2019-08-01\n",
       "max    2019-08-31\n",
       "Name: date, dtype: object"
      ]
     },
     "execution_count": 19,
     "metadata": {},
     "output_type": "execute_result"
    }
   ],
   "source": [
    "orders.date.agg({'min','max'})"
   ]
  },
  {
   "cell_type": "code",
   "execution_count": 20,
   "metadata": {},
   "outputs": [
    {
     "data": {
      "text/plain": [
       "min    2019-08-01\n",
       "max    2019-08-31\n",
       "Name: date, dtype: object"
      ]
     },
     "execution_count": 20,
     "metadata": {},
     "output_type": "execute_result"
    }
   ],
   "source": [
    "visitors.date.agg({'min','max'})"
   ]
  },
  {
   "cell_type": "markdown",
   "metadata": {},
   "source": [
    "Посмотрим сколько у нас пользователей в группах"
   ]
  },
  {
   "cell_type": "code",
   "execution_count": 21,
   "metadata": {
    "scrolled": true
   },
   "outputs": [
    {
     "data": {
      "text/plain": [
       "B    640\n",
       "A    557\n",
       "Name: group, dtype: int64"
      ]
     },
     "execution_count": 21,
     "metadata": {},
     "output_type": "execute_result"
    }
   ],
   "source": [
    "orders.group.value_counts()"
   ]
  },
  {
   "cell_type": "markdown",
   "metadata": {},
   "source": [
    "А теперь посмотрим сколько у нас уникальных пользователей в обоих группах"
   ]
  },
  {
   "cell_type": "code",
   "execution_count": 22,
   "metadata": {},
   "outputs": [
    {
     "data": {
      "text/plain": [
       "1031"
      ]
     },
     "execution_count": 22,
     "metadata": {},
     "output_type": "execute_result"
    }
   ],
   "source": [
    "orders.groupby('userId')['group'].agg(('nunique')).count()"
   ]
  },
  {
   "cell_type": "markdown",
   "metadata": {},
   "source": [
    "В исследовании участвуют две группы А и В, в одной из них 640 человек, а в другой 557, из них уникальных пользователей 1031, то есть остальная часть присутствует в обоих группах. Посмотрим сколько пользователей присутствуют в обоих группах"
   ]
  },
  {
   "cell_type": "code",
   "execution_count": 23,
   "metadata": {},
   "outputs": [],
   "source": [
    "A = orders.query('group == \"A\"')['userId']"
   ]
  },
  {
   "cell_type": "code",
   "execution_count": 24,
   "metadata": {},
   "outputs": [],
   "source": [
    "B = orders[orders['group'] == 'B']['userId']"
   ]
  },
  {
   "cell_type": "code",
   "execution_count": 25,
   "metadata": {},
   "outputs": [
    {
     "data": {
      "text/plain": [
       "89"
      ]
     },
     "execution_count": 25,
     "metadata": {},
     "output_type": "execute_result"
    }
   ],
   "source": [
    "A.isin(B).sum()"
   ]
  },
  {
   "cell_type": "markdown",
   "metadata": {},
   "source": [
    "89 пользователей из группы А есть в группе В, для нашего теста не критично, участие пользователей в обоих группах"
   ]
  },
  {
   "cell_type": "markdown",
   "metadata": {},
   "source": [
    "### Часть 1. Приоритизация гипотез."
   ]
  },
  {
   "cell_type": "markdown",
   "metadata": {},
   "source": [
    "После знакомства с таблицами можно приступать к первой части задания: приоритезации гипотез. Напомню, что для приоритезации гипотез мы будем использовать методы `ICE` и `RICE`"
   ]
  },
  {
   "cell_type": "code",
   "execution_count": 26,
   "metadata": {},
   "outputs": [],
   "source": [
    "hyp['ICE'] = round((hyp['impact']*hyp['confidence'])/hyp['efforts'],2)"
   ]
  },
  {
   "cell_type": "code",
   "execution_count": 27,
   "metadata": {},
   "outputs": [
    {
     "data": {
      "text/html": [
       "<div>\n",
       "<style scoped>\n",
       "    .dataframe tbody tr th:only-of-type {\n",
       "        vertical-align: middle;\n",
       "    }\n",
       "\n",
       "    .dataframe tbody tr th {\n",
       "        vertical-align: top;\n",
       "    }\n",
       "\n",
       "    .dataframe thead th {\n",
       "        text-align: right;\n",
       "    }\n",
       "</style>\n",
       "<table border=\"1\" class=\"dataframe\">\n",
       "  <thead>\n",
       "    <tr style=\"text-align: right;\">\n",
       "      <th></th>\n",
       "      <th>hypothesis</th>\n",
       "      <th>ICE</th>\n",
       "    </tr>\n",
       "  </thead>\n",
       "  <tbody>\n",
       "    <tr>\n",
       "      <th>8</th>\n",
       "      <td>Запустить акцию, дающую скидку на товар в день рождения</td>\n",
       "      <td>16.20</td>\n",
       "    </tr>\n",
       "    <tr>\n",
       "      <th>0</th>\n",
       "      <td>Добавить два новых канала привлечения трафика, что позволит привлекать на 30% больше пользователей</td>\n",
       "      <td>13.33</td>\n",
       "    </tr>\n",
       "    <tr>\n",
       "      <th>7</th>\n",
       "      <td>Добавить форму подписки на все основные страницы, чтобы собрать базу клиентов для email-рассылок</td>\n",
       "      <td>11.20</td>\n",
       "    </tr>\n",
       "    <tr>\n",
       "      <th>6</th>\n",
       "      <td>Показать на главной странице баннеры с актуальными акциями и распродажами, чтобы увеличить конверсию</td>\n",
       "      <td>8.00</td>\n",
       "    </tr>\n",
       "    <tr>\n",
       "      <th>2</th>\n",
       "      <td>Добавить блоки рекомендаций товаров на сайт интернет магазина, чтобы повысить конверсию и средний чек заказа</td>\n",
       "      <td>7.00</td>\n",
       "    </tr>\n",
       "    <tr>\n",
       "      <th>1</th>\n",
       "      <td>Запустить собственную службу доставки, что сократит срок доставки заказов</td>\n",
       "      <td>2.00</td>\n",
       "    </tr>\n",
       "    <tr>\n",
       "      <th>5</th>\n",
       "      <td>Добавить страницу отзывов клиентов о магазине, что позволит увеличить количество заказов</td>\n",
       "      <td>1.33</td>\n",
       "    </tr>\n",
       "    <tr>\n",
       "      <th>3</th>\n",
       "      <td>Изменить структура категорий, что увеличит конверсию, т.к. пользователи быстрее найдут нужный товар</td>\n",
       "      <td>1.12</td>\n",
       "    </tr>\n",
       "    <tr>\n",
       "      <th>4</th>\n",
       "      <td>Изменить цвет фона главной страницы, чтобы увеличить вовлеченность пользователей</td>\n",
       "      <td>1.00</td>\n",
       "    </tr>\n",
       "  </tbody>\n",
       "</table>\n",
       "</div>"
      ],
      "text/plain": [
       "                                                                                                     hypothesis  \\\n",
       "8                                                       Запустить акцию, дающую скидку на товар в день рождения   \n",
       "0            Добавить два новых канала привлечения трафика, что позволит привлекать на 30% больше пользователей   \n",
       "7              Добавить форму подписки на все основные страницы, чтобы собрать базу клиентов для email-рассылок   \n",
       "6          Показать на главной странице баннеры с актуальными акциями и распродажами, чтобы увеличить конверсию   \n",
       "2  Добавить блоки рекомендаций товаров на сайт интернет магазина, чтобы повысить конверсию и средний чек заказа   \n",
       "1                                     Запустить собственную службу доставки, что сократит срок доставки заказов   \n",
       "5                      Добавить страницу отзывов клиентов о магазине, что позволит увеличить количество заказов   \n",
       "3           Изменить структура категорий, что увеличит конверсию, т.к. пользователи быстрее найдут нужный товар   \n",
       "4                              Изменить цвет фона главной страницы, чтобы увеличить вовлеченность пользователей   \n",
       "\n",
       "     ICE  \n",
       "8  16.20  \n",
       "0  13.33  \n",
       "7  11.20  \n",
       "6   8.00  \n",
       "2   7.00  \n",
       "1   2.00  \n",
       "5   1.33  \n",
       "3   1.12  \n",
       "4   1.00  "
      ]
     },
     "execution_count": 27,
     "metadata": {},
     "output_type": "execute_result"
    }
   ],
   "source": [
    "hyp[['hypothesis', 'ICE']].sort_values(by = 'ICE', ascending = False)"
   ]
  },
  {
   "cell_type": "markdown",
   "metadata": {},
   "source": [
    "При проведении приоритезации методом `ICE` мы получили тройку лидеров - это 8, 0 и 7 гипотеза, посмотрим, что покажет тест `RICE`"
   ]
  },
  {
   "cell_type": "code",
   "execution_count": 28,
   "metadata": {},
   "outputs": [
    {
     "data": {
      "text/plain": [
       "'Запустить акцию, дающую скидку на товар в день рождения'"
      ]
     },
     "execution_count": 28,
     "metadata": {},
     "output_type": "execute_result"
    }
   ],
   "source": [
    "hyp.hypothesis[8]"
   ]
  },
  {
   "cell_type": "code",
   "execution_count": 29,
   "metadata": {},
   "outputs": [
    {
     "data": {
      "text/plain": [
       "'Добавить два новых канала привлечения трафика, что позволит привлекать на 30% больше пользователей'"
      ]
     },
     "execution_count": 29,
     "metadata": {},
     "output_type": "execute_result"
    }
   ],
   "source": [
    "hyp.hypothesis[0]"
   ]
  },
  {
   "cell_type": "code",
   "execution_count": 30,
   "metadata": {},
   "outputs": [
    {
     "data": {
      "text/plain": [
       "'Добавить форму подписки на все основные страницы, чтобы собрать базу клиентов для email-рассылок'"
      ]
     },
     "execution_count": 30,
     "metadata": {},
     "output_type": "execute_result"
    }
   ],
   "source": [
    "hyp.hypothesis[7]"
   ]
  },
  {
   "cell_type": "code",
   "execution_count": 31,
   "metadata": {},
   "outputs": [],
   "source": [
    "hyp['RICE'] = (hyp['reach']*hyp['impact']*hyp['confidence'])/hyp['efforts']"
   ]
  },
  {
   "cell_type": "code",
   "execution_count": 32,
   "metadata": {},
   "outputs": [
    {
     "data": {
      "text/html": [
       "<div>\n",
       "<style scoped>\n",
       "    .dataframe tbody tr th:only-of-type {\n",
       "        vertical-align: middle;\n",
       "    }\n",
       "\n",
       "    .dataframe tbody tr th {\n",
       "        vertical-align: top;\n",
       "    }\n",
       "\n",
       "    .dataframe thead th {\n",
       "        text-align: right;\n",
       "    }\n",
       "</style>\n",
       "<table border=\"1\" class=\"dataframe\">\n",
       "  <thead>\n",
       "    <tr style=\"text-align: right;\">\n",
       "      <th></th>\n",
       "      <th>hypothesis</th>\n",
       "      <th>RICE</th>\n",
       "    </tr>\n",
       "  </thead>\n",
       "  <tbody>\n",
       "    <tr>\n",
       "      <th>7</th>\n",
       "      <td>Добавить форму подписки на все основные страницы, чтобы собрать базу клиентов для email-рассылок</td>\n",
       "      <td>112.0</td>\n",
       "    </tr>\n",
       "    <tr>\n",
       "      <th>2</th>\n",
       "      <td>Добавить блоки рекомендаций товаров на сайт интернет магазина, чтобы повысить конверсию и средний чек заказа</td>\n",
       "      <td>56.0</td>\n",
       "    </tr>\n",
       "    <tr>\n",
       "      <th>0</th>\n",
       "      <td>Добавить два новых канала привлечения трафика, что позволит привлекать на 30% больше пользователей</td>\n",
       "      <td>40.0</td>\n",
       "    </tr>\n",
       "    <tr>\n",
       "      <th>6</th>\n",
       "      <td>Показать на главной странице баннеры с актуальными акциями и распродажами, чтобы увеличить конверсию</td>\n",
       "      <td>40.0</td>\n",
       "    </tr>\n",
       "    <tr>\n",
       "      <th>8</th>\n",
       "      <td>Запустить акцию, дающую скидку на товар в день рождения</td>\n",
       "      <td>16.2</td>\n",
       "    </tr>\n",
       "    <tr>\n",
       "      <th>3</th>\n",
       "      <td>Изменить структура категорий, что увеличит конверсию, т.к. пользователи быстрее найдут нужный товар</td>\n",
       "      <td>9.0</td>\n",
       "    </tr>\n",
       "    <tr>\n",
       "      <th>1</th>\n",
       "      <td>Запустить собственную службу доставки, что сократит срок доставки заказов</td>\n",
       "      <td>4.0</td>\n",
       "    </tr>\n",
       "    <tr>\n",
       "      <th>5</th>\n",
       "      <td>Добавить страницу отзывов клиентов о магазине, что позволит увеличить количество заказов</td>\n",
       "      <td>4.0</td>\n",
       "    </tr>\n",
       "    <tr>\n",
       "      <th>4</th>\n",
       "      <td>Изменить цвет фона главной страницы, чтобы увеличить вовлеченность пользователей</td>\n",
       "      <td>3.0</td>\n",
       "    </tr>\n",
       "  </tbody>\n",
       "</table>\n",
       "</div>"
      ],
      "text/plain": [
       "                                                                                                     hypothesis  \\\n",
       "7              Добавить форму подписки на все основные страницы, чтобы собрать базу клиентов для email-рассылок   \n",
       "2  Добавить блоки рекомендаций товаров на сайт интернет магазина, чтобы повысить конверсию и средний чек заказа   \n",
       "0            Добавить два новых канала привлечения трафика, что позволит привлекать на 30% больше пользователей   \n",
       "6          Показать на главной странице баннеры с актуальными акциями и распродажами, чтобы увеличить конверсию   \n",
       "8                                                       Запустить акцию, дающую скидку на товар в день рождения   \n",
       "3           Изменить структура категорий, что увеличит конверсию, т.к. пользователи быстрее найдут нужный товар   \n",
       "1                                     Запустить собственную службу доставки, что сократит срок доставки заказов   \n",
       "5                      Добавить страницу отзывов клиентов о магазине, что позволит увеличить количество заказов   \n",
       "4                              Изменить цвет фона главной страницы, чтобы увеличить вовлеченность пользователей   \n",
       "\n",
       "    RICE  \n",
       "7  112.0  \n",
       "2   56.0  \n",
       "0   40.0  \n",
       "6   40.0  \n",
       "8   16.2  \n",
       "3    9.0  \n",
       "1    4.0  \n",
       "5    4.0  \n",
       "4    3.0  "
      ]
     },
     "execution_count": 32,
     "metadata": {},
     "output_type": "execute_result"
    }
   ],
   "source": [
    "hyp[['hypothesis', 'RICE']].sort_values(by = 'RICE', ascending = False)"
   ]
  },
  {
   "cell_type": "markdown",
   "metadata": {},
   "source": [
    "При проведение приоритезации методом `RICE` тройка лидеров изменилась, ими стали 7, 2 и 0 гипотеза. Сравним данные для большей наглядности"
   ]
  },
  {
   "cell_type": "code",
   "execution_count": 33,
   "metadata": {},
   "outputs": [
    {
     "data": {
      "text/html": [
       "<div>\n",
       "<style scoped>\n",
       "    .dataframe tbody tr th:only-of-type {\n",
       "        vertical-align: middle;\n",
       "    }\n",
       "\n",
       "    .dataframe tbody tr th {\n",
       "        vertical-align: top;\n",
       "    }\n",
       "\n",
       "    .dataframe thead th {\n",
       "        text-align: right;\n",
       "    }\n",
       "</style>\n",
       "<table border=\"1\" class=\"dataframe\">\n",
       "  <thead>\n",
       "    <tr style=\"text-align: right;\">\n",
       "      <th></th>\n",
       "      <th>hypothesis</th>\n",
       "      <th>ICE</th>\n",
       "      <th>RICE</th>\n",
       "    </tr>\n",
       "  </thead>\n",
       "  <tbody>\n",
       "    <tr>\n",
       "      <th>8</th>\n",
       "      <td>Запустить акцию, дающую скидку на товар в день рождения</td>\n",
       "      <td>16.20</td>\n",
       "      <td>16.2</td>\n",
       "    </tr>\n",
       "    <tr>\n",
       "      <th>0</th>\n",
       "      <td>Добавить два новых канала привлечения трафика, что позволит привлекать на 30% больше пользователей</td>\n",
       "      <td>13.33</td>\n",
       "      <td>40.0</td>\n",
       "    </tr>\n",
       "    <tr>\n",
       "      <th>7</th>\n",
       "      <td>Добавить форму подписки на все основные страницы, чтобы собрать базу клиентов для email-рассылок</td>\n",
       "      <td>11.20</td>\n",
       "      <td>112.0</td>\n",
       "    </tr>\n",
       "    <tr>\n",
       "      <th>6</th>\n",
       "      <td>Показать на главной странице баннеры с актуальными акциями и распродажами, чтобы увеличить конверсию</td>\n",
       "      <td>8.00</td>\n",
       "      <td>40.0</td>\n",
       "    </tr>\n",
       "    <tr>\n",
       "      <th>2</th>\n",
       "      <td>Добавить блоки рекомендаций товаров на сайт интернет магазина, чтобы повысить конверсию и средний чек заказа</td>\n",
       "      <td>7.00</td>\n",
       "      <td>56.0</td>\n",
       "    </tr>\n",
       "    <tr>\n",
       "      <th>1</th>\n",
       "      <td>Запустить собственную службу доставки, что сократит срок доставки заказов</td>\n",
       "      <td>2.00</td>\n",
       "      <td>4.0</td>\n",
       "    </tr>\n",
       "    <tr>\n",
       "      <th>5</th>\n",
       "      <td>Добавить страницу отзывов клиентов о магазине, что позволит увеличить количество заказов</td>\n",
       "      <td>1.33</td>\n",
       "      <td>4.0</td>\n",
       "    </tr>\n",
       "    <tr>\n",
       "      <th>3</th>\n",
       "      <td>Изменить структура категорий, что увеличит конверсию, т.к. пользователи быстрее найдут нужный товар</td>\n",
       "      <td>1.12</td>\n",
       "      <td>9.0</td>\n",
       "    </tr>\n",
       "    <tr>\n",
       "      <th>4</th>\n",
       "      <td>Изменить цвет фона главной страницы, чтобы увеличить вовлеченность пользователей</td>\n",
       "      <td>1.00</td>\n",
       "      <td>3.0</td>\n",
       "    </tr>\n",
       "  </tbody>\n",
       "</table>\n",
       "</div>"
      ],
      "text/plain": [
       "                                                                                                     hypothesis  \\\n",
       "8                                                       Запустить акцию, дающую скидку на товар в день рождения   \n",
       "0            Добавить два новых канала привлечения трафика, что позволит привлекать на 30% больше пользователей   \n",
       "7              Добавить форму подписки на все основные страницы, чтобы собрать базу клиентов для email-рассылок   \n",
       "6          Показать на главной странице баннеры с актуальными акциями и распродажами, чтобы увеличить конверсию   \n",
       "2  Добавить блоки рекомендаций товаров на сайт интернет магазина, чтобы повысить конверсию и средний чек заказа   \n",
       "1                                     Запустить собственную службу доставки, что сократит срок доставки заказов   \n",
       "5                      Добавить страницу отзывов клиентов о магазине, что позволит увеличить количество заказов   \n",
       "3           Изменить структура категорий, что увеличит конверсию, т.к. пользователи быстрее найдут нужный товар   \n",
       "4                              Изменить цвет фона главной страницы, чтобы увеличить вовлеченность пользователей   \n",
       "\n",
       "     ICE   RICE  \n",
       "8  16.20   16.2  \n",
       "0  13.33   40.0  \n",
       "7  11.20  112.0  \n",
       "6   8.00   40.0  \n",
       "2   7.00   56.0  \n",
       "1   2.00    4.0  \n",
       "5   1.33    4.0  \n",
       "3   1.12    9.0  \n",
       "4   1.00    3.0  "
      ]
     },
     "execution_count": 33,
     "metadata": {},
     "output_type": "execute_result"
    }
   ],
   "source": [
    "hyp[['hypothesis', 'ICE', 'RICE']].sort_values(by = 'ICE', ascending = False)"
   ]
  },
  {
   "cell_type": "markdown",
   "metadata": {},
   "source": [
    "Итак, мы получили пять гипотез с оценкой выше 5 баллов по методу `ICE`, это гипотезы под индексами 8, 0, 7, 6 и 2, именно на проверку этих гипотез необходимо сфокусировать внимание команды. Выведем описание данных гипотез, гипотезы под индексами 8,0 и 7 мы выводили в предыдущем тесте, а гипотезы под индексами 2 и 6 выведем ниже\n",
    "\n",
    "*P.S.* Различия в приоритезации гипотез возникают главным образов из-за параметра `reach` - охват (показывает скольких пользователей затронет изменение, которое вы хотите внести), наппример у 8 гипотезы при проведение оценки методом `ICE` самый высокий результат, но из-за того, что показатель `reach` оценен в 1 балл, она проиграла 7 гипотезе, где этот же показатель оценен в 10 баллов"
   ]
  },
  {
   "cell_type": "code",
   "execution_count": 34,
   "metadata": {},
   "outputs": [
    {
     "data": {
      "text/plain": [
       "'Добавить блоки рекомендаций товаров на сайт интернет магазина, чтобы повысить конверсию и средний чек заказа'"
      ]
     },
     "execution_count": 34,
     "metadata": {},
     "output_type": "execute_result"
    }
   ],
   "source": [
    "hyp.hypothesis[2]"
   ]
  },
  {
   "cell_type": "code",
   "execution_count": 35,
   "metadata": {},
   "outputs": [
    {
     "data": {
      "text/plain": [
       "'Показать на главной странице баннеры с актуальными акциями и распродажами, чтобы увеличить конверсию'"
      ]
     },
     "execution_count": 35,
     "metadata": {},
     "output_type": "execute_result"
    }
   ],
   "source": [
    "hyp.hypothesis[6]"
   ]
  },
  {
   "cell_type": "markdown",
   "metadata": {},
   "source": [
    "### Часть 2. Анализ A/B-теста"
   ]
  },
  {
   "cell_type": "markdown",
   "metadata": {},
   "source": [
    "Сначала преобразуем поля с датами в обоих таблицах, приведем их к единому формату Y-m-d с помощью функции `dt.datetime.strptime`  библиотеки `datetime`"
   ]
  },
  {
   "cell_type": "code",
   "execution_count": 36,
   "metadata": {},
   "outputs": [],
   "source": [
    "orders['date'] = orders['date'].map(\n",
    "    lambda x: dt.datetime.strptime(x, '%Y-%m-%d')\n",
    ")"
   ]
  },
  {
   "cell_type": "code",
   "execution_count": 37,
   "metadata": {},
   "outputs": [],
   "source": [
    "visitors['date'] = visitors['date'].map(\n",
    "    lambda x: dt.datetime.strptime(x, '%Y-%m-%d')\n",
    ")"
   ]
  },
  {
   "cell_type": "markdown",
   "metadata": {},
   "source": [
    "Создадим массив уникальных пар значений дат и групп теста методом `drop_duplicates()`"
   ]
  },
  {
   "cell_type": "code",
   "execution_count": 38,
   "metadata": {},
   "outputs": [],
   "source": [
    "dateGroups = orders[['date','group']].drop_duplicates() "
   ]
  },
  {
   "cell_type": "markdown",
   "metadata": {},
   "source": [
    "Далее создадим две переменные `ordersAggregated` и `visitorsAggregated`, в них мы посчитаем кумулятивные данные о заказах и о посетителях по дням"
   ]
  },
  {
   "cell_type": "code",
   "execution_count": 39,
   "metadata": {},
   "outputs": [],
   "source": [
    "ordersAggregated = dateGroups\\\n",
    ".apply(lambda x: orders[np.logical_and(orders['date'] <= x['date'], orders['group'] == x['group'])]\\\n",
    ".agg({'date' : 'max', 'group' : 'max', 'orderId' : 'nunique', 'userId' : 'nunique', 'revenue' : 'sum'}), axis=1)\\\n",
    ".sort_values(by=['date','group'])"
   ]
  },
  {
   "cell_type": "code",
   "execution_count": 40,
   "metadata": {},
   "outputs": [
    {
     "data": {
      "text/html": [
       "<div>\n",
       "<style scoped>\n",
       "    .dataframe tbody tr th:only-of-type {\n",
       "        vertical-align: middle;\n",
       "    }\n",
       "\n",
       "    .dataframe tbody tr th {\n",
       "        vertical-align: top;\n",
       "    }\n",
       "\n",
       "    .dataframe thead th {\n",
       "        text-align: right;\n",
       "    }\n",
       "</style>\n",
       "<table border=\"1\" class=\"dataframe\">\n",
       "  <thead>\n",
       "    <tr style=\"text-align: right;\">\n",
       "      <th></th>\n",
       "      <th>date</th>\n",
       "      <th>group</th>\n",
       "      <th>orderId</th>\n",
       "      <th>userId</th>\n",
       "      <th>revenue</th>\n",
       "    </tr>\n",
       "  </thead>\n",
       "  <tbody>\n",
       "    <tr>\n",
       "      <th>55</th>\n",
       "      <td>2019-08-01</td>\n",
       "      <td>A</td>\n",
       "      <td>24</td>\n",
       "      <td>20</td>\n",
       "      <td>148579</td>\n",
       "    </tr>\n",
       "    <tr>\n",
       "      <th>66</th>\n",
       "      <td>2019-08-01</td>\n",
       "      <td>B</td>\n",
       "      <td>21</td>\n",
       "      <td>20</td>\n",
       "      <td>101217</td>\n",
       "    </tr>\n",
       "    <tr>\n",
       "      <th>175</th>\n",
       "      <td>2019-08-02</td>\n",
       "      <td>A</td>\n",
       "      <td>44</td>\n",
       "      <td>38</td>\n",
       "      <td>242401</td>\n",
       "    </tr>\n",
       "    <tr>\n",
       "      <th>173</th>\n",
       "      <td>2019-08-02</td>\n",
       "      <td>B</td>\n",
       "      <td>45</td>\n",
       "      <td>43</td>\n",
       "      <td>266748</td>\n",
       "    </tr>\n",
       "    <tr>\n",
       "      <th>291</th>\n",
       "      <td>2019-08-03</td>\n",
       "      <td>A</td>\n",
       "      <td>68</td>\n",
       "      <td>62</td>\n",
       "      <td>354874</td>\n",
       "    </tr>\n",
       "  </tbody>\n",
       "</table>\n",
       "</div>"
      ],
      "text/plain": [
       "          date group  orderId  userId  revenue\n",
       "55  2019-08-01     A       24      20   148579\n",
       "66  2019-08-01     B       21      20   101217\n",
       "175 2019-08-02     A       44      38   242401\n",
       "173 2019-08-02     B       45      43   266748\n",
       "291 2019-08-03     A       68      62   354874"
      ]
     },
     "execution_count": 40,
     "metadata": {},
     "output_type": "execute_result"
    }
   ],
   "source": [
    "ordersAggregated.head()"
   ]
  },
  {
   "cell_type": "code",
   "execution_count": 41,
   "metadata": {},
   "outputs": [],
   "source": [
    "visitorsAggregated = dateGroups\\\n",
    ".apply(lambda x: visitors[np.logical_and(visitors['date'] <= x['date'], visitors['group'] == x['group'])]\\\n",
    ".agg({'date' : 'max', 'group' : 'max', 'visitors' : 'sum'}), axis=1)\\\n",
    ".sort_values(by=['date','group'])"
   ]
  },
  {
   "cell_type": "code",
   "execution_count": 42,
   "metadata": {
    "scrolled": true
   },
   "outputs": [
    {
     "data": {
      "text/html": [
       "<div>\n",
       "<style scoped>\n",
       "    .dataframe tbody tr th:only-of-type {\n",
       "        vertical-align: middle;\n",
       "    }\n",
       "\n",
       "    .dataframe tbody tr th {\n",
       "        vertical-align: top;\n",
       "    }\n",
       "\n",
       "    .dataframe thead th {\n",
       "        text-align: right;\n",
       "    }\n",
       "</style>\n",
       "<table border=\"1\" class=\"dataframe\">\n",
       "  <thead>\n",
       "    <tr style=\"text-align: right;\">\n",
       "      <th></th>\n",
       "      <th>date</th>\n",
       "      <th>group</th>\n",
       "      <th>visitors</th>\n",
       "    </tr>\n",
       "  </thead>\n",
       "  <tbody>\n",
       "    <tr>\n",
       "      <th>55</th>\n",
       "      <td>2019-08-01</td>\n",
       "      <td>A</td>\n",
       "      <td>719</td>\n",
       "    </tr>\n",
       "    <tr>\n",
       "      <th>66</th>\n",
       "      <td>2019-08-01</td>\n",
       "      <td>B</td>\n",
       "      <td>713</td>\n",
       "    </tr>\n",
       "    <tr>\n",
       "      <th>175</th>\n",
       "      <td>2019-08-02</td>\n",
       "      <td>A</td>\n",
       "      <td>1338</td>\n",
       "    </tr>\n",
       "    <tr>\n",
       "      <th>173</th>\n",
       "      <td>2019-08-02</td>\n",
       "      <td>B</td>\n",
       "      <td>1294</td>\n",
       "    </tr>\n",
       "    <tr>\n",
       "      <th>291</th>\n",
       "      <td>2019-08-03</td>\n",
       "      <td>A</td>\n",
       "      <td>1845</td>\n",
       "    </tr>\n",
       "  </tbody>\n",
       "</table>\n",
       "</div>"
      ],
      "text/plain": [
       "          date group  visitors\n",
       "55  2019-08-01     A       719\n",
       "66  2019-08-01     B       713\n",
       "175 2019-08-02     A      1338\n",
       "173 2019-08-02     B      1294\n",
       "291 2019-08-03     A      1845"
      ]
     },
     "execution_count": 42,
     "metadata": {},
     "output_type": "execute_result"
    }
   ],
   "source": [
    "visitorsAggregated.head()"
   ]
  },
  {
   "cell_type": "markdown",
   "metadata": {},
   "source": [
    "Теперь соединим данные о заказах и посетителях, создав новую переменную cumulativeData и использовав функцию `merge` для объединения. Переименуем столбцы для работы с таблицей"
   ]
  },
  {
   "cell_type": "code",
   "execution_count": 43,
   "metadata": {
    "scrolled": true
   },
   "outputs": [
    {
     "data": {
      "text/html": [
       "<div>\n",
       "<style scoped>\n",
       "    .dataframe tbody tr th:only-of-type {\n",
       "        vertical-align: middle;\n",
       "    }\n",
       "\n",
       "    .dataframe tbody tr th {\n",
       "        vertical-align: top;\n",
       "    }\n",
       "\n",
       "    .dataframe thead th {\n",
       "        text-align: right;\n",
       "    }\n",
       "</style>\n",
       "<table border=\"1\" class=\"dataframe\">\n",
       "  <thead>\n",
       "    <tr style=\"text-align: right;\">\n",
       "      <th></th>\n",
       "      <th>date</th>\n",
       "      <th>group</th>\n",
       "      <th>orders</th>\n",
       "      <th>buyers</th>\n",
       "      <th>revenue</th>\n",
       "      <th>visitors</th>\n",
       "    </tr>\n",
       "  </thead>\n",
       "  <tbody>\n",
       "    <tr>\n",
       "      <th>0</th>\n",
       "      <td>2019-08-01</td>\n",
       "      <td>A</td>\n",
       "      <td>24</td>\n",
       "      <td>20</td>\n",
       "      <td>148579</td>\n",
       "      <td>719</td>\n",
       "    </tr>\n",
       "    <tr>\n",
       "      <th>1</th>\n",
       "      <td>2019-08-01</td>\n",
       "      <td>B</td>\n",
       "      <td>21</td>\n",
       "      <td>20</td>\n",
       "      <td>101217</td>\n",
       "      <td>713</td>\n",
       "    </tr>\n",
       "    <tr>\n",
       "      <th>2</th>\n",
       "      <td>2019-08-02</td>\n",
       "      <td>A</td>\n",
       "      <td>44</td>\n",
       "      <td>38</td>\n",
       "      <td>242401</td>\n",
       "      <td>1338</td>\n",
       "    </tr>\n",
       "    <tr>\n",
       "      <th>3</th>\n",
       "      <td>2019-08-02</td>\n",
       "      <td>B</td>\n",
       "      <td>45</td>\n",
       "      <td>43</td>\n",
       "      <td>266748</td>\n",
       "      <td>1294</td>\n",
       "    </tr>\n",
       "    <tr>\n",
       "      <th>4</th>\n",
       "      <td>2019-08-03</td>\n",
       "      <td>A</td>\n",
       "      <td>68</td>\n",
       "      <td>62</td>\n",
       "      <td>354874</td>\n",
       "      <td>1845</td>\n",
       "    </tr>\n",
       "  </tbody>\n",
       "</table>\n",
       "</div>"
      ],
      "text/plain": [
       "        date group  orders  buyers  revenue  visitors\n",
       "0 2019-08-01     A      24      20   148579       719\n",
       "1 2019-08-01     B      21      20   101217       713\n",
       "2 2019-08-02     A      44      38   242401      1338\n",
       "3 2019-08-02     B      45      43   266748      1294\n",
       "4 2019-08-03     A      68      62   354874      1845"
      ]
     },
     "execution_count": 43,
     "metadata": {},
     "output_type": "execute_result"
    }
   ],
   "source": [
    "cumulativeData = ordersAggregated.merge(visitorsAggregated, left_on=['date', 'group'], right_on=['date', 'group'])\n",
    "cumulativeData.columns = ['date', 'group', 'orders', 'buyers', 'revenue', 'visitors']\n",
    "\n",
    "cumulativeData.head(5)"
   ]
  },
  {
   "cell_type": "markdown",
   "metadata": {},
   "source": [
    "Посмотрим правильно ли создан датафрейм `cumulativeData` для этого посмотрим дату начала и окончания эксперимента, напомним, изначально эти даты были определены с 01-08-2019 по 31-08-2019"
   ]
  },
  {
   "cell_type": "code",
   "execution_count": 44,
   "metadata": {},
   "outputs": [
    {
     "data": {
      "text/plain": [
       "Timestamp('2019-08-01 00:00:00')"
      ]
     },
     "execution_count": 44,
     "metadata": {},
     "output_type": "execute_result"
    }
   ],
   "source": [
    "cumulativeData.date.min()"
   ]
  },
  {
   "cell_type": "code",
   "execution_count": 45,
   "metadata": {},
   "outputs": [
    {
     "data": {
      "text/plain": [
       "Timestamp('2019-08-31 00:00:00')"
      ]
     },
     "execution_count": 45,
     "metadata": {},
     "output_type": "execute_result"
    }
   ],
   "source": [
    "cumulativeData.date.max()"
   ]
  },
  {
   "cell_type": "markdown",
   "metadata": {},
   "source": [
    "Даты совпадают, мы можем сделать вывод, что датафрейм построен правильно"
   ]
  },
  {
   "cell_type": "markdown",
   "metadata": {},
   "source": [
    "У нас есть таблица с кумулятивными данными о заказах и посетителях, теперь можно приступать к анализу"
   ]
  },
  {
   "cell_type": "markdown",
   "metadata": {},
   "source": [
    "Первым делом, мы посмотрим на **`кумулятивую выручку`** по группам и построим график"
   ]
  },
  {
   "cell_type": "code",
   "execution_count": 46,
   "metadata": {},
   "outputs": [],
   "source": [
    "cumulativeRevenueA = cumulativeData[cumulativeData['group']=='A'][['date','revenue', 'orders']]"
   ]
  },
  {
   "cell_type": "code",
   "execution_count": 47,
   "metadata": {},
   "outputs": [],
   "source": [
    "cumulativeRevenueB = cumulativeData[cumulativeData['group']=='B'][['date','revenue', 'orders']]"
   ]
  },
  {
   "cell_type": "code",
   "execution_count": 48,
   "metadata": {},
   "outputs": [
    {
     "data": {
      "image/png": "[encoded data removed]",
      "text/plain": [
       "<Figure size 1080x360 with 1 Axes>"
      ]
     },
     "metadata": {
      "needs_background": "light"
     },
     "output_type": "display_data"
    }
   ],
   "source": [
    "plt.figure(figsize=[15,5])\n",
    "plt.title('Кумулятивная выручка по группам')\n",
    "plt.plot(cumulativeRevenueA['date'], cumulativeRevenueA['revenue'], label='A')\n",
    "plt.plot(cumulativeRevenueB['date'], cumulativeRevenueB['revenue'], label='B')\n",
    "plt.legend();"
   ]
  },
  {
   "cell_type": "markdown",
   "metadata": {},
   "source": [
    "Из графиков видно, что пользователи группы В приносят выручку больше, чем пользователи из группы А, но пока неясна причина такого поведения графика, нужно проверить что именно повлияло на увеличение выручки - средний чек группы В или количество заказов этой группы. Посмотрим на различие **`среднего чека`** групп, для этого мы поделим общюю выручку на общее число заказов для каждой из групп "
   ]
  },
  {
   "cell_type": "code",
   "execution_count": 49,
   "metadata": {},
   "outputs": [
    {
     "data": {
      "image/png": "[encoded data removed]",
      "text/plain": [
       "<Figure size 1080x360 with 1 Axes>"
      ]
     },
     "metadata": {
      "needs_background": "light"
     },
     "output_type": "display_data"
    }
   ],
   "source": [
    "plt.figure(figsize=[15,5])\n",
    "plt.title('Кумулятивный средний чек по группам')\n",
    "plt.plot(cumulativeRevenueA['date'], cumulativeRevenueA['revenue']/cumulativeRevenueA['orders'], label='A')\n",
    "plt.plot(cumulativeRevenueB['date'], cumulativeRevenueB['revenue']/cumulativeRevenueB['orders'], label='B')\n",
    "plt.legend();"
   ]
  },
  {
   "cell_type": "markdown",
   "metadata": {},
   "source": [
    "Здесь мы также видим превосходство группы В над группой А, похоже, что в последнии числа августа число заказов группы В возросло, поэтому вырос и средний чек заказов, или это просто выбросы, необходимо это выяснить"
   ]
  },
  {
   "cell_type": "markdown",
   "metadata": {},
   "source": [
    "Объединим таблицы кумулятивных значений групп А и В для построения графика **`относительного изменения кумулятивного среднего чека группы B к группе A `**"
   ]
  },
  {
   "cell_type": "code",
   "execution_count": 50,
   "metadata": {},
   "outputs": [],
   "source": [
    "mergedCumulativeRevenue = cumulativeRevenueA\\\n",
    ".merge(cumulativeRevenueB, left_on='date', right_on='date', how='left', suffixes=['A', 'B'])"
   ]
  },
  {
   "cell_type": "code",
   "execution_count": 51,
   "metadata": {},
   "outputs": [
    {
     "data": {
      "image/png": "[encoded data removed]",
      "text/plain": [
       "<Figure size 1080x360 with 1 Axes>"
      ]
     },
     "metadata": {
      "needs_background": "light"
     },
     "output_type": "display_data"
    }
   ],
   "source": [
    "plt.figure(figsize=[15,5])\n",
    "plt.title('Относительное изменение кумулятивного среднего чека группы B к группе A')\n",
    "plt.plot(mergedCumulativeRevenue['date'],\\\n",
    "(mergedCumulativeRevenue['revenueB']/mergedCumulativeRevenue['ordersB'])\\\n",
    "/(mergedCumulativeRevenue['revenueA']/mergedCumulativeRevenue['ordersA']) -1)\n",
    "plt.axhline(y=0, color='black', linestyle='--');"
   ]
  },
  {
   "cell_type": "markdown",
   "metadata": {},
   "source": [
    "С течением времени средний чек группы В к группе А растет, за исключением 13 августа, где группа А вырвалась вперед, это же видно и на предыдущем графике `среднего чека` для двух групп. В нескольких точках график различия между сегментами резко «скачет», это происходит из-за крупных заказов и выбросов, далее в анализе мы посмотрим на эти данные конкретнее"
   ]
  },
  {
   "cell_type": "markdown",
   "metadata": {},
   "source": [
    "Сначало посмотрим на **`среднее количество заказов`** в общем по двум группам, для этого сгруппируем данные по `userId` и посчитаем количество уникальных заказов на пользователя"
   ]
  },
  {
   "cell_type": "code",
   "execution_count": 52,
   "metadata": {},
   "outputs": [],
   "source": [
    "ordersByUsers = orders.groupby('userId', as_index=False).agg({'orderId': 'nunique'})\n",
    "ordersByUsers.columns = ['userId', 'orders']"
   ]
  },
  {
   "cell_type": "code",
   "execution_count": 53,
   "metadata": {},
   "outputs": [
    {
     "data": {
      "image/png": "[encoded data removed]",
      "text/plain": [
       "<Figure size 1080x360 with 1 Axes>"
      ]
     },
     "metadata": {
      "needs_background": "light"
     },
     "output_type": "display_data"
    }
   ],
   "source": [
    "plt.figure(figsize=[15,5])\n",
    "plt.title('Среднее количество заказов')\n",
    "plt.hist(ordersByUsers['orders']);"
   ]
  },
  {
   "cell_type": "markdown",
   "metadata": {},
   "source": [
    "Посмотрим на другом виде графика"
   ]
  },
  {
   "cell_type": "code",
   "execution_count": 54,
   "metadata": {
    "scrolled": false
   },
   "outputs": [
    {
     "data": {
      "image/png": "[encoded data removed]",
      "text/plain": [
       "<Figure size 1080x360 with 1 Axes>"
      ]
     },
     "metadata": {
      "needs_background": "light"
     },
     "output_type": "display_data"
    }
   ],
   "source": [
    "x_values = pd.Series(range(0, len(ordersByUsers)))\n",
    "plt.figure(figsize=[15,5])\n",
    "plt.title('Точечное распределение среднего количество заказов')\n",
    "plt.scatter(x_values, ordersByUsers['orders']);"
   ]
  },
  {
   "cell_type": "markdown",
   "metadata": {},
   "source": [
    "Из графиков видно, что большинство пользователей совершали не больше 3 заказов, но есть те, кто совершил 10 заказов, похоже на выбросы в данных или заядлого шопоголика"
   ]
  },
  {
   "cell_type": "markdown",
   "metadata": {},
   "source": [
    "Теперь посмотрим на **`среднее распределение заказов по группам`**, для этого создадим переменные `cumulativeOrdersA` и `cmulativeOrdersB`, где посмотрим кумулятивное распределение заказов по группам и датам"
   ]
  },
  {
   "cell_type": "code",
   "execution_count": 55,
   "metadata": {},
   "outputs": [],
   "source": [
    "cumulativeOrdersA = cumulativeData[cumulativeData['group']=='A'][['date','orders', 'visitors', 'revenue']]"
   ]
  },
  {
   "cell_type": "code",
   "execution_count": 56,
   "metadata": {},
   "outputs": [],
   "source": [
    "cumulativeOrdersB = cumulativeData[cumulativeData['group']=='B'][['date','orders', 'visitors', 'revenue']]"
   ]
  },
  {
   "cell_type": "code",
   "execution_count": 57,
   "metadata": {},
   "outputs": [
    {
     "data": {
      "image/png": "[encoded data removed]",
      "text/plain": [
       "<Figure size 1080x360 with 1 Axes>"
      ]
     },
     "metadata": {
      "needs_background": "light"
     },
     "output_type": "display_data"
    }
   ],
   "source": [
    "plt.figure(figsize=[15,5])\n",
    "plt.title('Среднее распределение количества заказов по группам')\n",
    "plt.plot(cumulativeOrdersA['date'], cumulativeOrdersA['orders'] / cumulativeOrdersA['visitors'], label='A')\n",
    "plt.plot(cumulativeOrdersB['date'], cumulativeOrdersB['orders'] / cumulativeOrdersB['visitors'], label='B')\n",
    "plt.legend();"
   ]
  },
  {
   "cell_type": "markdown",
   "metadata": {},
   "source": [
    "Из графика видно, что количество заказов в первых числах августа было больше у группы А, но, начиная с 7 августа группа В опережает группу А по количеству заказов за день, это отличная новость для бизнеса и победу можно было бы отдать группе В, но ещё рано делать выводы. Посмотрим на график **`относительного изменения кумулятивного среднего количества заказов на посетителя группы B к группе A`**"
   ]
  },
  {
   "cell_type": "code",
   "execution_count": 58,
   "metadata": {},
   "outputs": [],
   "source": [
    "mergedCumulativeOrders = cumulativeOrdersA\\\n",
    ".merge(cumulativeOrdersB, left_on='date', right_on='date', how='left', suffixes=['A', 'B'])"
   ]
  },
  {
   "cell_type": "code",
   "execution_count": 59,
   "metadata": {},
   "outputs": [
    {
     "data": {
      "image/png": "[encoded data removed]",
      "text/plain": [
       "<Figure size 1080x360 with 1 Axes>"
      ]
     },
     "metadata": {
      "needs_background": "light"
     },
     "output_type": "display_data"
    }
   ],
   "source": [
    "plt.figure(figsize=[15,5])\n",
    "plt.title('Относительное изменение кумулятивного среднего количества заказов на посетителя группы B к группе A')\n",
    "plt.plot(mergedCumulativeOrders['date'],\\\n",
    "((mergedCumulativeOrders['ordersB'] / mergedCumulativeOrders['visitorsB'])\\\n",
    "/(mergedCumulativeOrders['ordersA'] / mergedCumulativeOrders['visitorsA']) -1))\n",
    "plt.axhline(y=0, color='black', linestyle='--');"
   ]
  },
  {
   "cell_type": "markdown",
   "metadata": {},
   "source": [
    "Изначально с заказами в группе В были небольшие проблемы, но после 8 августа ситуация начала меняться и количество заказов начало расти"
   ]
  },
  {
   "cell_type": "markdown",
   "metadata": {},
   "source": [
    "Посчитаем **`95-й и 99-й перцентили количества заказов на пользователя`** для определения границы аномальных пользователей"
   ]
  },
  {
   "cell_type": "code",
   "execution_count": 60,
   "metadata": {},
   "outputs": [],
   "source": [
    "ord = np.percentile(ordersByUsers['orders'], [95,99])"
   ]
  },
  {
   "cell_type": "code",
   "execution_count": 61,
   "metadata": {},
   "outputs": [
    {
     "data": {
      "text/plain": [
       "array([2., 4.])"
      ]
     },
     "execution_count": 61,
     "metadata": {},
     "output_type": "execute_result"
    }
   ],
   "source": [
    "ord"
   ]
  },
  {
   "cell_type": "markdown",
   "metadata": {},
   "source": [
    "Можно сделать вывод, что всего 1% пользователей делают больше 4 заказов, большее количество заказов делают аномальные любители покупок"
   ]
  },
  {
   "cell_type": "markdown",
   "metadata": {},
   "source": [
    "Посмотрим на **`точечный график стоимостей заказов`** для группы А и группы В"
   ]
  },
  {
   "cell_type": "code",
   "execution_count": 62,
   "metadata": {},
   "outputs": [],
   "source": [
    "ordersA = orders.query('group == \"A\"')\n",
    "x_values = pd.Series(range(0,len(ordersA['revenue'])))"
   ]
  },
  {
   "cell_type": "code",
   "execution_count": 63,
   "metadata": {},
   "outputs": [],
   "source": [
    "ordersB = orders.query('group == \"B\"')\n",
    "y_values = pd.Series(range(0,len(ordersB['revenue'])))"
   ]
  },
  {
   "cell_type": "code",
   "execution_count": 64,
   "metadata": {
    "scrolled": false
   },
   "outputs": [
    {
     "data": {
      "image/png": "[encoded data removed]",
      "text/plain": [
       "<Figure size 1080x360 with 1 Axes>"
      ]
     },
     "metadata": {
      "needs_background": "light"
     },
     "output_type": "display_data"
    }
   ],
   "source": [
    "plt.figure(figsize=[15,5])\n",
    "plt.title('Точечный график стоимостей заказов для группы А и группы В')\n",
    "plt.scatter(x_values, ordersA['revenue'], label='A')\n",
    "plt.scatter(y_values , ordersB['revenue'], label='B')\n",
    "plt.legend();"
   ]
  },
  {
   "cell_type": "markdown",
   "metadata": {},
   "source": [
    "Из графика видно, что большинство заказов имеют стоимость около 200 00, но в группе В есть один заказ, стоимость которого больше 1 000 000 , это указывает, что в данных явно есть какие-то странности. Посчитаем **`95-й и 99-й перцентили стоимости заказов`**. чтобы определить границу \"нормальности\" стоимости заказов"
   ]
  },
  {
   "cell_type": "code",
   "execution_count": 65,
   "metadata": {},
   "outputs": [],
   "source": [
    "cost = np.percentile(orders['revenue'], [95,99])"
   ]
  },
  {
   "cell_type": "code",
   "execution_count": 66,
   "metadata": {},
   "outputs": [
    {
     "data": {
      "text/plain": [
       "array([28000. , 58233.2])"
      ]
     },
     "execution_count": 66,
     "metadata": {},
     "output_type": "execute_result"
    }
   ],
   "source": [
    "cost"
   ]
  },
  {
   "cell_type": "markdown",
   "metadata": {},
   "source": [
    "Мы получили, что всего 1 % стоимости заказов больше 582332, те заказы у которых стоимость выше этого числа являются аномально дорогими"
   ]
  },
  {
   "cell_type": "markdown",
   "metadata": {},
   "source": [
    "Для того, чтобы понять на сколько будут различаться результаты по \"сырым\" и \"очищенным\" данным, нам необходимо посчитать **`статистическую значимость различий в среднем количестве заказов на посетителя между группами`** и **`статистическую значимость различий в среднем чеке заказа между группами по «сырым» данным и по \"очищенным\" данным`**. Первое, что необходимо сделать создать две переменные `ordersByUsersA` и `ordesrByUsersB`, где мы сгрупируем данные по покупателям и посчитаем количество заказов по группам"
   ]
  },
  {
   "cell_type": "code",
   "execution_count": 67,
   "metadata": {},
   "outputs": [],
   "source": [
    "ordersByUsersA = (\n",
    "    orders[orders['group'] == 'A']\n",
    "    .groupby('userId', as_index=False)\n",
    "    .agg({'orderId': pd.Series.nunique})\n",
    ")\n",
    "ordersByUsersA.columns = ['userId', 'orders']\n",
    "\n",
    "ordersByUsersB = (\n",
    "    orders[orders['group'] == 'B']\n",
    "    .groupby('userId', as_index=False)\n",
    "    .agg({'orderId': pd.Series.nunique})\n",
    ")\n",
    "ordersByUsersB.columns = ['userId', 'orders']"
   ]
  },
  {
   "cell_type": "markdown",
   "metadata": {},
   "source": [
    "Далее объявим переменные `sampleA` и `sampleB`, в которых пользователям из каждой группы будет соответствовать количество заказов, которые они совершили. Тем, кто ничего не заказал, будут соответствовать нули. Таким способом мы подготавливаем выборки к проверке критерием Манна-Уитни. \n",
    "\n",
    "Переменная `sampleA` будет состоять из двух частей: списка с количеством заказов для каждого из пользователей `ordersByUsersA['orders']` и нулей для пользователей, которые ничего не заказывали. Их можно найти, посчитав разницу между суммой посетителей и количеством записей о заказах `data['visitorsPerDateA'].sum() - len(ordersByUsersA['orders'])`"
   ]
  },
  {
   "cell_type": "markdown",
   "metadata": {},
   "source": [
    "У нас нет данны о посещениях сайта по дням, поэтому мы их создадим и схраним в переменные `visitorsADaily` и `visitorsBDaily`"
   ]
  },
  {
   "cell_type": "code",
   "execution_count": 68,
   "metadata": {},
   "outputs": [],
   "source": [
    "visitorsADaily = visitors[visitors['group'] == 'A'][['date', 'visitors']]\n",
    "visitorsADaily.columns = ['date', 'visitorsPerDateA']\n",
    "\n",
    "visitorsBDaily = visitors[visitors['group'] == 'B'][['date', 'visitors']]\n",
    "visitorsBDaily.columns = ['date', 'visitorsPerDateB']"
   ]
  },
  {
   "cell_type": "markdown",
   "metadata": {},
   "source": [
    "В объединении двух объектов Series используем функцию `pd.concat` и `axis=0` для объединения по строкам"
   ]
  },
  {
   "cell_type": "code",
   "execution_count": 69,
   "metadata": {},
   "outputs": [],
   "source": [
    "sampleA = pd.concat([ordersByUsersA['orders'],\\\n",
    "pd.Series(0, index=np.arange(visitorsADaily['visitorsPerDateA'].sum() - len(ordersByUsersA['orders'])), name='orders')],axis=0)\n",
    "\n",
    "sampleB = pd.concat([ordersByUsersB['orders'],\\\n",
    "pd.Series(0, index=np.arange(visitorsBDaily['visitorsPerDateB'].sum() - len(ordersByUsersB['orders'])), name='orders')],axis=0) "
   ]
  },
  {
   "cell_type": "markdown",
   "metadata": {},
   "source": [
    "Теперь проведем проверку критерием Манна-Уитни, для этого используем метод `mannwhitneyu` библиотеки `stats`"
   ]
  },
  {
   "cell_type": "markdown",
   "metadata": {},
   "source": [
    "**Гипотезы в A/B-тесте на статистическую значимость различий в среднем количестве заказов на посетителя между группами**\\\n",
    "`Н0`: Статистически значимых различий в данных между группами нет\\\n",
    "`Н1`: Статистически значимые различия в данных есть\n",
    "\n",
    "Уровень статистической значимости `alpha` - 0.05"
   ]
  },
  {
   "cell_type": "code",
   "execution_count": 70,
   "metadata": {
    "scrolled": true
   },
   "outputs": [
    {
     "data": {
      "text/plain": [
       "'0.017'"
      ]
     },
     "execution_count": 70,
     "metadata": {},
     "output_type": "execute_result"
    }
   ],
   "source": [
    "\"{0:.3f}\".format(stats.mannwhitneyu(sampleA, sampleB)[1])"
   ]
  },
  {
   "cell_type": "markdown",
   "metadata": {},
   "source": [
    "Мы получили p-value 0.017, что меньше чем 0.05, поэтому мы отвергаем нулевую гипотезу и признаем, что статистически значимые раличия между группами есть. Посмотрим на относительный прирост среднего числа заказов группы B. Для этого мы `среднее число заказов группы B / среднее число заказов группы A - 1`, посчитав среднее число заказов у каждой группы, применив функцию `mean()`"
   ]
  },
  {
   "cell_type": "code",
   "execution_count": 71,
   "metadata": {},
   "outputs": [
    {
     "data": {
      "text/plain": [
       "'0.138'"
      ]
     },
     "execution_count": 71,
     "metadata": {},
     "output_type": "execute_result"
    }
   ],
   "source": [
    "\"{0:.3f}\".format(sampleB.mean() / sampleA.mean() - 1)"
   ]
  },
  {
   "cell_type": "markdown",
   "metadata": {},
   "source": [
    "Относительный прирост среднего числа заказов группы B составляет почти 14%, что не может не радовать, на этом мы могли бы закончить эксперимент, но необходимо проверить эти цифры на \"очищенных\" даннных, выше мы посчитали границы количества заказов на пользователя и стоимости этих заказов, сделаем срезы по исходным данным"
   ]
  },
  {
   "cell_type": "code",
   "execution_count": 72,
   "metadata": {},
   "outputs": [
    {
     "data": {
      "text/plain": [
       "15"
      ]
     },
     "execution_count": 72,
     "metadata": {},
     "output_type": "execute_result"
    }
   ],
   "source": [
    "usersWithManyOrders = pd.concat(\n",
    "    [\n",
    "        ordersByUsersA[ordersByUsersA['orders'] > ord[1]]['userId'],\n",
    "        ordersByUsersB[ordersByUsersB['orders'] > ord[1]]['userId'],\n",
    "    ],\n",
    "    axis=0,\n",
    ")\n",
    "usersWithExpensiveOrders = orders[orders['revenue'] > cost[1]]['userId']\n",
    "abnormalUsers = (\n",
    "    pd.concat([usersWithManyOrders, usersWithExpensiveOrders], axis=0)\n",
    "    .drop_duplicates()\n",
    "    .sort_values()\n",
    ")\n",
    "abnormalUsers.head(5)\n",
    "abnormalUsers.shape[0]"
   ]
  },
  {
   "cell_type": "markdown",
   "metadata": {},
   "source": [
    "Итак, мы получили 15 пользователей, которые выходят за \"рамки\" нашего исследования, теперь посмотрим на результаты без них. Для этого отфильтруем таблицы в переменных `sampleA` и`sampleB`, исключив пользователей, выше границ 99 процентиля"
   ]
  },
  {
   "cell_type": "code",
   "execution_count": 73,
   "metadata": {},
   "outputs": [],
   "source": [
    "sampleAFiltered = pd.concat(\n",
    "    [\n",
    "        ordersByUsersA[\n",
    "            np.logical_not(ordersByUsersA['userId'].isin(abnormalUsers))\n",
    "        ]['orders'],\n",
    "        pd.Series(\n",
    "            0,\n",
    "            index=np.arange(\n",
    "                visitorsADaily['visitorsPerDateA'].sum() - len(ordersByUsersA['orders'])\n",
    "            ),\n",
    "            name='orders',\n",
    "        ),\n",
    "    ],\n",
    "    axis=0,\n",
    ")\n",
    "\n",
    "sampleBFiltered = pd.concat(\n",
    "    [\n",
    "        ordersByUsersB[\n",
    "            np.logical_not(ordersByUsersB['userId'].isin(abnormalUsers))\n",
    "        ]['orders'],\n",
    "        pd.Series(\n",
    "            0,\n",
    "            index=np.arange(\n",
    "                visitorsBDaily['visitorsPerDateB'].sum() - len(ordersByUsersB['orders'])\n",
    "            ),\n",
    "            name='orders',\n",
    "        ),\n",
    "    ],\n",
    "    axis=0,\n",
    ")"
   ]
  },
  {
   "cell_type": "code",
   "execution_count": 74,
   "metadata": {},
   "outputs": [
    {
     "data": {
      "text/plain": [
       "'0.014'"
      ]
     },
     "execution_count": 74,
     "metadata": {},
     "output_type": "execute_result"
    }
   ],
   "source": [
    "'{0:.3f}'.format(stats.mannwhitneyu(sampleAFiltered, sampleBFiltered)[1])"
   ]
  },
  {
   "cell_type": "markdown",
   "metadata": {},
   "source": [
    "p-value уменьшился на 0.03, что подтверждает факт о том, что есть значительные различия в среднем количестве заказов "
   ]
  },
  {
   "cell_type": "code",
   "execution_count": 75,
   "metadata": {},
   "outputs": [
    {
     "data": {
      "text/plain": [
       "'0.153'"
      ]
     },
     "execution_count": 75,
     "metadata": {},
     "output_type": "execute_result"
    }
   ],
   "source": [
    "'{0:.3f}'.format(sampleBFiltered.mean()/sampleAFiltered.mean()-1)"
   ]
  },
  {
   "cell_type": "markdown",
   "metadata": {},
   "source": [
    "Группа В выигрывает у группы А по количеству заказов на 15%, это подталкивает к признанию победы группы В, но нам нужно провести тест Манна-Уитни ещё раз для подсчета статистической значимости среднего чека заказа"
   ]
  },
  {
   "cell_type": "markdown",
   "metadata": {},
   "source": [
    "**Гипотезы в A/B-тесте на статистическую значимость различий в среднем чеке заказа между группами:**\\\n",
    "`Н0`: Статистически значимых различий в данных между группами нет\\\n",
    "`Н1`: Статистически значимые различия в данных есть\n",
    "\n",
    "Уровень статистической значимости `alpha` - 0.05"
   ]
  },
  {
   "cell_type": "code",
   "execution_count": 76,
   "metadata": {},
   "outputs": [
    {
     "data": {
      "text/plain": [
       "'0.729'"
      ]
     },
     "execution_count": 76,
     "metadata": {},
     "output_type": "execute_result"
    }
   ],
   "source": [
    "'{0:.3f}'.format(stats.mannwhitneyu(orders[orders['group'] == 'A']['revenue'],\n",
    "            orders[orders['group'] == 'B']['revenue'])[1])"
   ]
  },
  {
   "cell_type": "markdown",
   "metadata": {},
   "source": [
    "p-value по данным без фильтрации равен 0.729, что выше 0.05 и говорит нам о том, что различий среднего чека групп А и В нет"
   ]
  },
  {
   "cell_type": "code",
   "execution_count": 77,
   "metadata": {},
   "outputs": [
    {
     "data": {
      "text/plain": [
       "'0.259'"
      ]
     },
     "execution_count": 77,
     "metadata": {},
     "output_type": "execute_result"
    }
   ],
   "source": [
    "'{0:.3f}'.format((orders[orders['group'] == 'B']['revenue'].mean()/orders[orders['group'] == 'A']['revenue'].mean()) - 1)"
   ]
  },
  {
   "cell_type": "markdown",
   "metadata": {},
   "source": [
    "При этом средний чек группы В выше среднего чека группы А почти на 26 %, наблюдаемые различия не являются значимыми при уровне значимости в 0.05, а следовательно были получены случайно."
   ]
  },
  {
   "cell_type": "code",
   "execution_count": 78,
   "metadata": {},
   "outputs": [
    {
     "data": {
      "text/plain": [
       "'0.851'"
      ]
     },
     "execution_count": 78,
     "metadata": {},
     "output_type": "execute_result"
    }
   ],
   "source": [
    "'{0:.3f}'.format(stats.mannwhitneyu(orders[\n",
    "                np.logical_and(\n",
    "                    orders['group'] == 'A',\n",
    "                    np.logical_not(orders['userId'].isin(abnormalUsers)),\n",
    "                )\n",
    "            ]['revenue'],\n",
    "            orders[\n",
    "                np.logical_and(\n",
    "                    orders['group'] == 'B',\n",
    "                    np.logical_not(orders['userId'].isin(abnormalUsers)),\n",
    "                )\n",
    "            ]['revenue'],\n",
    "        )[1]\n",
    "    )"
   ]
  },
  {
   "cell_type": "markdown",
   "metadata": {},
   "source": [
    "По очищенным данным значение p-value выросло ещё больше, что подтверждает, что различий среднего чека групп А и В нет"
   ]
  },
  {
   "cell_type": "code",
   "execution_count": 79,
   "metadata": {},
   "outputs": [
    {
     "data": {
      "text/plain": [
       "'-0.006'"
      ]
     },
     "execution_count": 79,
     "metadata": {},
     "output_type": "execute_result"
    }
   ],
   "source": [
    "  \"{0:.3f}\".format(\n",
    "        orders[\n",
    "            np.logical_and(\n",
    "                orders['group'] == 'B',\n",
    "                np.logical_not(orders['userId'].isin(abnormalUsers)),\n",
    "            )\n",
    "        ]['revenue'].mean()\n",
    "        / orders[\n",
    "            np.logical_and(\n",
    "                orders['group'] == 'A',\n",
    "                np.logical_not(orders['userId'].isin(abnormalUsers)),\n",
    "            )\n",
    "        ]['revenue'].mean()\n",
    "        - 1\n",
    "    )"
   ]
  },
  {
   "cell_type": "markdown",
   "metadata": {},
   "source": [
    "Разница между сегментами стала менее заметной, здесь видно, что группы выравнялись по показателю среднего чека"
   ]
  },
  {
   "cell_type": "markdown",
   "metadata": {},
   "source": [
    "## Вывод\n",
    "\n",
    "В первой части проекта, мы работали с таблицей `hyp`, в ней была информация о гипотезах, которые необходимо было приоритезировать. Проведя приоритезацию методами `ICE` и `RICE` мы выделили 5 наиболее перспективных гипотез.\n",
    "\n",
    "Во второй части проекта мы работали с таблицами `orders` и `visitors`, в них была информация о датах проведения теста, пользователях, заказах, посещениях и прибыли. С помощью этих данных, мы провели A/B-тест на сравнение между группами. Проведя анализ результатов A/B-теста можно сделать следующие выводы: \n",
    "\n",
    "1. Статистически значемые различия между группами А и В есть в количестве заказов, а в средем чеке нет, это говорит нам, что группа А заказывают чаще, но на меньшую сумму, а группа В наоборот реже, но на более значительную сумму;\n",
    "2. Кумулятивный средний чек по заказам выше у группы В, как и кумулятивная выручка;\n",
    "3. Группа В выигрывает по большинству тестов и на графиках это видно, поэтому считаю разумным остановить тест и признать победу группы В \n",
    "4. Приоритезированные гипотезы разумнее проверять на группе В"
   ]
  }
 ],
 "metadata": {
  "ExecuteTimeLog": [
   {
    "duration": 74,
    "start_time": "2023-01-24T10:39:04.603Z"
   },
   {
    "duration": 375,
    "start_time": "2023-01-24T10:39:08.383Z"
   },
   {
    "duration": 67,
    "start_time": "2023-01-24T10:39:10.772Z"
   },
   {
    "duration": 16,
    "start_time": "2023-01-24T10:39:22.796Z"
   },
   {
    "duration": 46,
    "start_time": "2023-01-24T10:40:44.605Z"
   },
   {
    "duration": 21,
    "start_time": "2023-01-24T10:45:15.319Z"
   },
   {
    "duration": 6,
    "start_time": "2023-01-24T10:46:12.169Z"
   },
   {
    "duration": 802,
    "start_time": "2023-01-24T10:50:22.778Z"
   },
   {
    "duration": 926,
    "start_time": "2023-01-24T10:50:57.293Z"
   },
   {
    "duration": 14,
    "start_time": "2023-01-24T10:51:30.657Z"
   },
   {
    "duration": 989,
    "start_time": "2023-01-24T10:52:59.588Z"
   },
   {
    "duration": 892,
    "start_time": "2023-01-24T10:53:19.023Z"
   },
   {
    "duration": 5,
    "start_time": "2023-01-24T10:53:43.214Z"
   },
   {
    "duration": 67,
    "start_time": "2023-01-24T10:55:02.815Z"
   },
   {
    "duration": 63,
    "start_time": "2023-01-24T10:55:24.398Z"
   },
   {
    "duration": 62,
    "start_time": "2023-01-24T10:55:31.819Z"
   },
   {
    "duration": 4,
    "start_time": "2023-01-24T10:55:41.171Z"
   },
   {
    "duration": 5,
    "start_time": "2023-01-24T10:56:06.555Z"
   },
   {
    "duration": 7,
    "start_time": "2023-01-24T10:56:32.356Z"
   },
   {
    "duration": 5,
    "start_time": "2023-01-24T10:56:36.178Z"
   },
   {
    "duration": 6,
    "start_time": "2023-01-24T10:58:03.410Z"
   },
   {
    "duration": 46,
    "start_time": "2023-01-24T10:58:31.770Z"
   },
   {
    "duration": 419,
    "start_time": "2023-01-24T10:58:42.338Z"
   },
   {
    "duration": 33,
    "start_time": "2023-01-24T10:58:42.760Z"
   },
   {
    "duration": 24,
    "start_time": "2023-01-24T10:58:42.795Z"
   },
   {
    "duration": 20,
    "start_time": "2023-01-24T10:58:42.821Z"
   },
   {
    "duration": 39,
    "start_time": "2023-01-24T10:58:42.843Z"
   },
   {
    "duration": 106,
    "start_time": "2023-01-24T10:58:42.884Z"
   },
   {
    "duration": 10,
    "start_time": "2023-01-24T10:58:56.375Z"
   },
   {
    "duration": 6,
    "start_time": "2023-01-24T10:59:09.863Z"
   },
   {
    "duration": 14,
    "start_time": "2023-01-24T10:59:49.654Z"
   },
   {
    "duration": 425,
    "start_time": "2023-01-24T11:00:01.853Z"
   },
   {
    "duration": 24,
    "start_time": "2023-01-24T11:00:02.280Z"
   },
   {
    "duration": 82,
    "start_time": "2023-01-24T11:00:02.306Z"
   },
   {
    "duration": 86,
    "start_time": "2023-01-24T11:00:02.390Z"
   },
   {
    "duration": 95,
    "start_time": "2023-01-24T11:00:02.478Z"
   },
   {
    "duration": 122,
    "start_time": "2023-01-24T11:00:02.575Z"
   },
   {
    "duration": 4,
    "start_time": "2023-01-24T11:00:23.595Z"
   },
   {
    "duration": 69,
    "start_time": "2023-01-24T11:00:26.856Z"
   },
   {
    "duration": 8,
    "start_time": "2023-01-24T11:01:04.061Z"
   },
   {
    "duration": 12,
    "start_time": "2023-01-24T11:01:29.255Z"
   },
   {
    "duration": 375,
    "start_time": "2023-01-24T11:01:48.056Z"
   },
   {
    "duration": 41,
    "start_time": "2023-01-24T11:01:48.433Z"
   },
   {
    "duration": 17,
    "start_time": "2023-01-24T11:01:48.476Z"
   },
   {
    "duration": 4,
    "start_time": "2023-01-24T11:01:48.495Z"
   },
   {
    "duration": 86,
    "start_time": "2023-01-24T11:01:48.501Z"
   },
   {
    "duration": 0,
    "start_time": "2023-01-24T11:01:48.589Z"
   },
   {
    "duration": 6,
    "start_time": "2023-01-24T11:02:04.389Z"
   },
   {
    "duration": 9,
    "start_time": "2023-01-24T11:02:50.178Z"
   },
   {
    "duration": 23,
    "start_time": "2023-01-24T11:03:04.878Z"
   },
   {
    "duration": 9,
    "start_time": "2023-01-24T11:03:07.869Z"
   },
   {
    "duration": 4,
    "start_time": "2023-01-24T11:03:11.685Z"
   },
   {
    "duration": 5,
    "start_time": "2023-01-24T11:03:15.997Z"
   },
   {
    "duration": 11,
    "start_time": "2023-01-24T11:04:24.832Z"
   },
   {
    "duration": 137,
    "start_time": "2023-01-24T11:14:49.379Z"
   },
   {
    "duration": 102,
    "start_time": "2023-01-24T11:15:25.356Z"
   },
   {
    "duration": 12,
    "start_time": "2023-01-24T11:15:41.199Z"
   },
   {
    "duration": 10,
    "start_time": "2023-01-24T11:15:50.884Z"
   },
   {
    "duration": 7,
    "start_time": "2023-01-24T11:16:05.571Z"
   },
   {
    "duration": 48,
    "start_time": "2023-01-24T13:37:32.641Z"
   },
   {
    "duration": 427,
    "start_time": "2023-01-24T13:37:42.619Z"
   },
   {
    "duration": 61,
    "start_time": "2023-01-24T13:37:43.049Z"
   },
   {
    "duration": 73,
    "start_time": "2023-01-24T13:37:43.112Z"
   },
   {
    "duration": 68,
    "start_time": "2023-01-24T13:37:43.187Z"
   },
   {
    "duration": 14,
    "start_time": "2023-01-24T13:37:43.257Z"
   },
   {
    "duration": 30,
    "start_time": "2023-01-24T13:37:43.272Z"
   },
   {
    "duration": 15,
    "start_time": "2023-01-24T13:37:43.304Z"
   },
   {
    "duration": 12,
    "start_time": "2023-01-24T13:37:43.320Z"
   },
   {
    "duration": 13,
    "start_time": "2023-01-24T13:37:43.334Z"
   },
   {
    "duration": 9,
    "start_time": "2023-01-24T13:37:43.349Z"
   },
   {
    "duration": 10,
    "start_time": "2023-01-24T13:37:43.359Z"
   },
   {
    "duration": 9,
    "start_time": "2023-01-24T13:37:51.857Z"
   },
   {
    "duration": 12,
    "start_time": "2023-01-24T13:39:17.242Z"
   },
   {
    "duration": 4,
    "start_time": "2023-01-24T13:41:56.876Z"
   },
   {
    "duration": 12,
    "start_time": "2023-01-24T13:42:20.516Z"
   },
   {
    "duration": 15,
    "start_time": "2023-01-24T13:44:59.445Z"
   },
   {
    "duration": 11,
    "start_time": "2023-01-24T13:52:31.979Z"
   },
   {
    "duration": 4,
    "start_time": "2023-01-24T14:02:00.752Z"
   },
   {
    "duration": 4,
    "start_time": "2023-01-24T14:02:02.239Z"
   },
   {
    "duration": 3,
    "start_time": "2023-01-24T14:02:03.784Z"
   },
   {
    "duration": 4,
    "start_time": "2023-01-24T14:02:05.409Z"
   },
   {
    "duration": 3,
    "start_time": "2023-01-24T14:05:43.710Z"
   },
   {
    "duration": 41,
    "start_time": "2023-01-24T14:09:16.986Z"
   },
   {
    "duration": 51,
    "start_time": "2023-01-24T14:11:01.869Z"
   },
   {
    "duration": 44,
    "start_time": "2023-01-24T14:11:21.973Z"
   },
   {
    "duration": 67,
    "start_time": "2023-01-24T14:12:45.341Z"
   },
   {
    "duration": 47,
    "start_time": "2023-01-24T14:14:36.589Z"
   },
   {
    "duration": 42,
    "start_time": "2023-01-24T14:14:55.885Z"
   },
   {
    "duration": 50,
    "start_time": "2023-01-24T14:15:00.975Z"
   },
   {
    "duration": 65,
    "start_time": "2023-01-24T14:15:13.557Z"
   },
   {
    "duration": 3,
    "start_time": "2023-01-24T14:15:19.312Z"
   },
   {
    "duration": 3,
    "start_time": "2023-01-24T14:15:29.429Z"
   },
   {
    "duration": 7,
    "start_time": "2023-01-24T14:16:44.729Z"
   },
   {
    "duration": 339,
    "start_time": "2023-01-24T14:17:11.857Z"
   },
   {
    "duration": 26,
    "start_time": "2023-01-24T14:17:12.198Z"
   },
   {
    "duration": 32,
    "start_time": "2023-01-24T14:17:12.226Z"
   },
   {
    "duration": 14,
    "start_time": "2023-01-24T14:17:12.259Z"
   },
   {
    "duration": 14,
    "start_time": "2023-01-24T14:17:12.275Z"
   },
   {
    "duration": 9,
    "start_time": "2023-01-24T14:17:12.290Z"
   },
   {
    "duration": 12,
    "start_time": "2023-01-24T14:17:12.301Z"
   },
   {
    "duration": 6,
    "start_time": "2023-01-24T14:17:12.314Z"
   },
   {
    "duration": 9,
    "start_time": "2023-01-24T14:17:12.321Z"
   },
   {
    "duration": 70,
    "start_time": "2023-01-24T14:17:12.331Z"
   },
   {
    "duration": 0,
    "start_time": "2023-01-24T14:17:12.403Z"
   },
   {
    "duration": 0,
    "start_time": "2023-01-24T14:17:12.404Z"
   },
   {
    "duration": 0,
    "start_time": "2023-01-24T14:17:12.406Z"
   },
   {
    "duration": 0,
    "start_time": "2023-01-24T14:17:12.407Z"
   },
   {
    "duration": 0,
    "start_time": "2023-01-24T14:17:12.408Z"
   },
   {
    "duration": 0,
    "start_time": "2023-01-24T14:17:12.409Z"
   },
   {
    "duration": 0,
    "start_time": "2023-01-24T14:17:12.410Z"
   },
   {
    "duration": 0,
    "start_time": "2023-01-24T14:17:12.411Z"
   },
   {
    "duration": 0,
    "start_time": "2023-01-24T14:17:12.413Z"
   },
   {
    "duration": 0,
    "start_time": "2023-01-24T14:17:12.413Z"
   },
   {
    "duration": 0,
    "start_time": "2023-01-24T14:17:12.414Z"
   },
   {
    "duration": 7,
    "start_time": "2023-01-24T14:18:23.743Z"
   },
   {
    "duration": 9,
    "start_time": "2023-01-24T14:18:29.039Z"
   },
   {
    "duration": 7,
    "start_time": "2023-01-24T14:18:50.086Z"
   },
   {
    "duration": 41,
    "start_time": "2023-01-24T14:18:58.454Z"
   },
   {
    "duration": 8,
    "start_time": "2023-01-24T14:19:02.255Z"
   },
   {
    "duration": 3,
    "start_time": "2023-01-24T14:19:04.625Z"
   },
   {
    "duration": 3,
    "start_time": "2023-01-24T14:19:06.190Z"
   },
   {
    "duration": 12,
    "start_time": "2023-01-24T14:19:09.358Z"
   },
   {
    "duration": 9,
    "start_time": "2023-01-24T14:19:23.179Z"
   },
   {
    "duration": 11,
    "start_time": "2023-01-24T14:19:41.920Z"
   },
   {
    "duration": 45,
    "start_time": "2023-01-24T16:09:39.765Z"
   },
   {
    "duration": 361,
    "start_time": "2023-01-24T16:09:51.067Z"
   },
   {
    "duration": 83,
    "start_time": "2023-01-24T16:09:51.430Z"
   },
   {
    "duration": 96,
    "start_time": "2023-01-24T16:09:51.515Z"
   },
   {
    "duration": 65,
    "start_time": "2023-01-24T16:09:51.613Z"
   },
   {
    "duration": 15,
    "start_time": "2023-01-24T16:09:51.680Z"
   },
   {
    "duration": 3,
    "start_time": "2023-01-24T16:09:51.697Z"
   },
   {
    "duration": 11,
    "start_time": "2023-01-24T16:09:51.701Z"
   },
   {
    "duration": 4,
    "start_time": "2023-01-24T16:09:51.713Z"
   },
   {
    "duration": 12,
    "start_time": "2023-01-24T16:09:51.718Z"
   },
   {
    "duration": 18,
    "start_time": "2023-01-24T16:09:51.732Z"
   },
   {
    "duration": 11,
    "start_time": "2023-01-24T16:09:51.752Z"
   },
   {
    "duration": 11,
    "start_time": "2023-01-24T16:09:51.765Z"
   },
   {
    "duration": 14,
    "start_time": "2023-01-24T16:09:51.777Z"
   },
   {
    "duration": 9,
    "start_time": "2023-01-24T16:09:51.792Z"
   },
   {
    "duration": 6,
    "start_time": "2023-01-24T16:09:51.802Z"
   },
   {
    "duration": 21,
    "start_time": "2023-01-24T16:09:51.809Z"
   },
   {
    "duration": 22,
    "start_time": "2023-01-24T16:09:51.832Z"
   },
   {
    "duration": 12,
    "start_time": "2023-01-24T16:09:51.856Z"
   },
   {
    "duration": 25,
    "start_time": "2023-01-24T16:09:51.870Z"
   },
   {
    "duration": 20,
    "start_time": "2023-01-24T16:09:51.897Z"
   },
   {
    "duration": 8,
    "start_time": "2023-01-24T16:09:51.919Z"
   },
   {
    "duration": 11,
    "start_time": "2023-01-24T16:09:51.929Z"
   },
   {
    "duration": 370,
    "start_time": "2023-01-24T16:09:51.941Z"
   },
   {
    "duration": 2,
    "start_time": "2023-01-24T16:10:35.270Z"
   },
   {
    "duration": 3,
    "start_time": "2023-01-24T16:10:36.587Z"
   },
   {
    "duration": 13,
    "start_time": "2023-01-24T16:10:40.739Z"
   },
   {
    "duration": 305,
    "start_time": "2023-01-24T16:11:00.613Z"
   },
   {
    "duration": 4,
    "start_time": "2023-01-24T16:11:41.236Z"
   },
   {
    "duration": 6,
    "start_time": "2023-01-24T16:20:16.374Z"
   },
   {
    "duration": 11,
    "start_time": "2023-01-24T16:20:31.729Z"
   },
   {
    "duration": 9,
    "start_time": "2023-01-24T16:21:20.348Z"
   },
   {
    "duration": 5,
    "start_time": "2023-01-24T16:21:40.424Z"
   },
   {
    "duration": 6,
    "start_time": "2023-01-24T16:23:33.841Z"
   },
   {
    "duration": 7,
    "start_time": "2023-01-24T16:23:35.807Z"
   },
   {
    "duration": 9,
    "start_time": "2023-01-24T16:28:50.817Z"
   },
   {
    "duration": 6,
    "start_time": "2023-01-24T16:28:57.523Z"
   },
   {
    "duration": 9,
    "start_time": "2023-01-24T16:29:00.906Z"
   },
   {
    "duration": 6,
    "start_time": "2023-01-24T16:29:09.988Z"
   },
   {
    "duration": 10,
    "start_time": "2023-01-24T16:29:11.539Z"
   },
   {
    "duration": 6,
    "start_time": "2023-01-24T16:29:28.004Z"
   },
   {
    "duration": 8,
    "start_time": "2023-01-24T16:29:29.756Z"
   },
   {
    "duration": 8,
    "start_time": "2023-01-24T16:29:32.628Z"
   },
   {
    "duration": 4,
    "start_time": "2023-01-24T16:30:12.163Z"
   },
   {
    "duration": 11,
    "start_time": "2023-01-24T16:30:24.859Z"
   },
   {
    "duration": 25,
    "start_time": "2023-01-24T16:30:59.835Z"
   },
   {
    "duration": 6,
    "start_time": "2023-01-24T16:31:02.723Z"
   },
   {
    "duration": 25,
    "start_time": "2023-01-24T16:31:05.032Z"
   },
   {
    "duration": 4,
    "start_time": "2023-01-24T16:31:17.349Z"
   },
   {
    "duration": 22,
    "start_time": "2023-01-24T16:31:22.509Z"
   },
   {
    "duration": 3,
    "start_time": "2023-01-24T16:31:50.124Z"
   },
   {
    "duration": 22,
    "start_time": "2023-01-24T16:31:54.036Z"
   },
   {
    "duration": 22,
    "start_time": "2023-01-24T16:31:55.908Z"
   },
   {
    "duration": 436,
    "start_time": "2023-01-24T16:32:22.206Z"
   },
   {
    "duration": 3,
    "start_time": "2023-01-24T16:32:22.644Z"
   },
   {
    "duration": 9,
    "start_time": "2023-01-24T16:32:22.648Z"
   },
   {
    "duration": 48,
    "start_time": "2023-01-24T16:32:22.659Z"
   },
   {
    "duration": 38,
    "start_time": "2023-01-24T16:32:22.709Z"
   },
   {
    "duration": 16,
    "start_time": "2023-01-24T16:32:22.749Z"
   },
   {
    "duration": 14,
    "start_time": "2023-01-24T16:32:22.767Z"
   },
   {
    "duration": 5,
    "start_time": "2023-01-24T16:32:22.783Z"
   },
   {
    "duration": 15,
    "start_time": "2023-01-24T16:32:22.790Z"
   },
   {
    "duration": 15,
    "start_time": "2023-01-24T16:32:22.808Z"
   },
   {
    "duration": 15,
    "start_time": "2023-01-24T16:32:22.825Z"
   },
   {
    "duration": 12,
    "start_time": "2023-01-24T16:32:22.842Z"
   },
   {
    "duration": 23,
    "start_time": "2023-01-24T16:32:22.856Z"
   },
   {
    "duration": 22,
    "start_time": "2023-01-24T16:32:22.881Z"
   },
   {
    "duration": 13,
    "start_time": "2023-01-24T16:32:22.905Z"
   },
   {
    "duration": 9,
    "start_time": "2023-01-24T16:32:22.920Z"
   },
   {
    "duration": 16,
    "start_time": "2023-01-24T16:32:22.930Z"
   },
   {
    "duration": 17,
    "start_time": "2023-01-24T16:32:22.948Z"
   },
   {
    "duration": 11,
    "start_time": "2023-01-24T16:32:22.967Z"
   },
   {
    "duration": 11,
    "start_time": "2023-01-24T16:32:22.980Z"
   },
   {
    "duration": 20,
    "start_time": "2023-01-24T16:32:22.993Z"
   },
   {
    "duration": 19,
    "start_time": "2023-01-24T16:32:23.015Z"
   },
   {
    "duration": 13,
    "start_time": "2023-01-24T16:32:23.035Z"
   },
   {
    "duration": 31,
    "start_time": "2023-01-24T16:32:23.050Z"
   },
   {
    "duration": 9,
    "start_time": "2023-01-24T16:32:23.083Z"
   },
   {
    "duration": 17,
    "start_time": "2023-01-24T16:32:23.094Z"
   },
   {
    "duration": 160,
    "start_time": "2023-01-24T16:32:23.112Z"
   },
   {
    "duration": 62,
    "start_time": "2023-01-24T16:34:18.582Z"
   },
   {
    "duration": 9,
    "start_time": "2023-01-24T16:34:31.273Z"
   },
   {
    "duration": 116,
    "start_time": "2023-01-24T16:34:44.285Z"
   },
   {
    "duration": 152,
    "start_time": "2023-01-24T16:35:35.227Z"
   },
   {
    "duration": 122,
    "start_time": "2023-01-24T16:35:37.813Z"
   },
   {
    "duration": 12,
    "start_time": "2023-01-24T16:36:20.866Z"
   },
   {
    "duration": 9,
    "start_time": "2023-01-24T16:36:38.494Z"
   },
   {
    "duration": 8,
    "start_time": "2023-01-24T16:37:01.790Z"
   },
   {
    "duration": 7,
    "start_time": "2023-01-24T16:37:07.375Z"
   },
   {
    "duration": 12,
    "start_time": "2023-01-24T16:40:49.785Z"
   },
   {
    "duration": 423,
    "start_time": "2023-01-24T16:43:23.636Z"
   },
   {
    "duration": 6,
    "start_time": "2023-01-24T16:44:55.170Z"
   },
   {
    "duration": 4,
    "start_time": "2023-01-24T16:45:16.283Z"
   },
   {
    "duration": 231,
    "start_time": "2023-01-24T16:45:47.474Z"
   },
   {
    "duration": 163,
    "start_time": "2023-01-24T16:46:35.795Z"
   },
   {
    "duration": 224,
    "start_time": "2023-01-24T19:07:09.115Z"
   },
   {
    "duration": 171,
    "start_time": "2023-01-24T19:07:22.997Z"
   },
   {
    "duration": 189,
    "start_time": "2023-01-24T19:07:42.242Z"
   },
   {
    "duration": 169,
    "start_time": "2023-01-24T19:08:17.665Z"
   },
   {
    "duration": 77,
    "start_time": "2023-01-24T19:09:47.258Z"
   },
   {
    "duration": 155,
    "start_time": "2023-01-24T19:10:01.161Z"
   },
   {
    "duration": 171,
    "start_time": "2023-01-24T19:11:02.395Z"
   },
   {
    "duration": 179,
    "start_time": "2023-01-24T19:11:08.260Z"
   },
   {
    "duration": 184,
    "start_time": "2023-01-24T19:19:28.357Z"
   },
   {
    "duration": 176,
    "start_time": "2023-01-24T19:19:42.286Z"
   },
   {
    "duration": 6,
    "start_time": "2023-01-24T21:11:31.906Z"
   },
   {
    "duration": 154,
    "start_time": "2023-01-24T21:12:56.635Z"
   },
   {
    "duration": 89,
    "start_time": "2023-01-24T21:13:19.613Z"
   },
   {
    "duration": 344,
    "start_time": "2023-01-24T21:13:26.500Z"
   },
   {
    "duration": 339,
    "start_time": "2023-01-24T21:15:39.584Z"
   },
   {
    "duration": 230,
    "start_time": "2023-01-24T21:15:50.570Z"
   },
   {
    "duration": 248,
    "start_time": "2023-01-24T21:15:59.860Z"
   },
   {
    "duration": 263,
    "start_time": "2023-01-24T21:16:21.230Z"
   },
   {
    "duration": 253,
    "start_time": "2023-01-24T21:18:03.173Z"
   },
   {
    "duration": 277,
    "start_time": "2023-01-24T21:18:50.930Z"
   },
   {
    "duration": 256,
    "start_time": "2023-01-24T21:19:00.270Z"
   },
   {
    "duration": 318,
    "start_time": "2023-01-24T21:19:57.593Z"
   },
   {
    "duration": 256,
    "start_time": "2023-01-24T21:20:25.374Z"
   },
   {
    "duration": 265,
    "start_time": "2023-01-24T21:22:54.783Z"
   },
   {
    "duration": 251,
    "start_time": "2023-01-24T21:23:08.752Z"
   },
   {
    "duration": 279,
    "start_time": "2023-01-24T21:25:58.582Z"
   },
   {
    "duration": 378,
    "start_time": "2023-01-24T21:26:07.488Z"
   },
   {
    "duration": 281,
    "start_time": "2023-01-24T21:26:19.408Z"
   },
   {
    "duration": 279,
    "start_time": "2023-01-24T21:26:36.385Z"
   },
   {
    "duration": 280,
    "start_time": "2023-01-24T21:26:45.904Z"
   },
   {
    "duration": 355,
    "start_time": "2023-01-24T21:28:18.705Z"
   },
   {
    "duration": 326,
    "start_time": "2023-01-24T21:29:44.977Z"
   },
   {
    "duration": 257,
    "start_time": "2023-01-24T21:29:53.434Z"
   },
   {
    "duration": 288,
    "start_time": "2023-01-24T21:29:59.512Z"
   },
   {
    "duration": 307,
    "start_time": "2023-01-24T21:30:10.124Z"
   },
   {
    "duration": 323,
    "start_time": "2023-01-24T21:30:17.762Z"
   },
   {
    "duration": 354,
    "start_time": "2023-01-24T21:30:26.378Z"
   },
   {
    "duration": 427,
    "start_time": "2023-01-24T21:30:35.865Z"
   },
   {
    "duration": 357,
    "start_time": "2023-01-24T21:31:22.947Z"
   },
   {
    "duration": 278,
    "start_time": "2023-01-24T21:31:32.875Z"
   },
   {
    "duration": 302,
    "start_time": "2023-01-24T21:31:41.176Z"
   },
   {
    "duration": 358,
    "start_time": "2023-01-24T21:31:50.810Z"
   },
   {
    "duration": 251,
    "start_time": "2023-01-24T21:32:01.770Z"
   },
   {
    "duration": 240,
    "start_time": "2023-01-24T21:32:07.258Z"
   },
   {
    "duration": 298,
    "start_time": "2023-01-24T21:32:12.523Z"
   },
   {
    "duration": 271,
    "start_time": "2023-01-24T21:32:22.154Z"
   },
   {
    "duration": 297,
    "start_time": "2023-01-24T21:32:36.666Z"
   },
   {
    "duration": 296,
    "start_time": "2023-01-24T21:32:46.435Z"
   },
   {
    "duration": 298,
    "start_time": "2023-01-24T21:33:04.762Z"
   },
   {
    "duration": 296,
    "start_time": "2023-01-24T21:33:11.384Z"
   },
   {
    "duration": 177,
    "start_time": "2023-01-24T21:33:53.723Z"
   },
   {
    "duration": 186,
    "start_time": "2023-01-24T21:34:09.651Z"
   },
   {
    "duration": 257,
    "start_time": "2023-01-24T21:34:17.722Z"
   },
   {
    "duration": 229,
    "start_time": "2023-01-24T21:34:25.147Z"
   },
   {
    "duration": 196,
    "start_time": "2023-01-24T21:34:46.533Z"
   },
   {
    "duration": 178,
    "start_time": "2023-01-24T21:34:49.031Z"
   },
   {
    "duration": 212,
    "start_time": "2023-01-24T21:34:54.284Z"
   },
   {
    "duration": 196,
    "start_time": "2023-01-24T21:34:59.644Z"
   },
   {
    "duration": 202,
    "start_time": "2023-01-24T21:35:03.821Z"
   },
   {
    "duration": 238,
    "start_time": "2023-01-24T21:35:14.300Z"
   },
   {
    "duration": 196,
    "start_time": "2023-01-24T21:36:31.004Z"
   },
   {
    "duration": 180,
    "start_time": "2023-01-24T21:36:40.551Z"
   },
   {
    "duration": 193,
    "start_time": "2023-01-24T21:36:49.318Z"
   },
   {
    "duration": 270,
    "start_time": "2023-01-24T21:36:53.941Z"
   },
   {
    "duration": 197,
    "start_time": "2023-01-24T21:36:57.478Z"
   },
   {
    "duration": 198,
    "start_time": "2023-01-24T21:37:08.188Z"
   },
   {
    "duration": 195,
    "start_time": "2023-01-24T21:37:11.493Z"
   },
   {
    "duration": 232,
    "start_time": "2023-01-24T21:37:14.964Z"
   },
   {
    "duration": 205,
    "start_time": "2023-01-24T21:37:22.804Z"
   },
   {
    "duration": 201,
    "start_time": "2023-01-24T21:37:25.853Z"
   },
   {
    "duration": 204,
    "start_time": "2023-01-24T21:37:31.664Z"
   },
   {
    "duration": 242,
    "start_time": "2023-01-24T21:37:36.012Z"
   },
   {
    "duration": 64,
    "start_time": "2023-01-25T09:35:31.239Z"
   },
   {
    "duration": 367,
    "start_time": "2023-01-25T09:35:38.005Z"
   },
   {
    "duration": 2,
    "start_time": "2023-01-25T09:35:38.374Z"
   },
   {
    "duration": 5,
    "start_time": "2023-01-25T09:35:38.378Z"
   },
   {
    "duration": 401,
    "start_time": "2023-01-25T09:35:38.385Z"
   },
   {
    "duration": 97,
    "start_time": "2023-01-25T09:35:38.788Z"
   },
   {
    "duration": 100,
    "start_time": "2023-01-25T09:35:38.886Z"
   },
   {
    "duration": 75,
    "start_time": "2023-01-25T09:35:38.988Z"
   },
   {
    "duration": 15,
    "start_time": "2023-01-25T09:35:39.064Z"
   },
   {
    "duration": 5,
    "start_time": "2023-01-25T09:35:39.081Z"
   },
   {
    "duration": 14,
    "start_time": "2023-01-25T09:35:39.089Z"
   },
   {
    "duration": 30,
    "start_time": "2023-01-25T09:35:39.105Z"
   },
   {
    "duration": 14,
    "start_time": "2023-01-25T09:35:39.136Z"
   },
   {
    "duration": 22,
    "start_time": "2023-01-25T09:35:39.157Z"
   },
   {
    "duration": 13,
    "start_time": "2023-01-25T09:35:39.181Z"
   },
   {
    "duration": 10,
    "start_time": "2023-01-25T09:35:39.195Z"
   },
   {
    "duration": 7,
    "start_time": "2023-01-25T09:35:39.208Z"
   },
   {
    "duration": 11,
    "start_time": "2023-01-25T09:35:39.217Z"
   },
   {
    "duration": 5,
    "start_time": "2023-01-25T09:35:39.230Z"
   },
   {
    "duration": 37,
    "start_time": "2023-01-25T09:35:39.237Z"
   },
   {
    "duration": 10,
    "start_time": "2023-01-25T09:35:39.276Z"
   },
   {
    "duration": 9,
    "start_time": "2023-01-25T09:35:39.288Z"
   },
   {
    "duration": 6,
    "start_time": "2023-01-25T09:35:39.299Z"
   },
   {
    "duration": 9,
    "start_time": "2023-01-25T09:35:39.307Z"
   },
   {
    "duration": 7,
    "start_time": "2023-01-25T09:35:39.317Z"
   },
   {
    "duration": 9,
    "start_time": "2023-01-25T09:35:39.325Z"
   },
   {
    "duration": 28,
    "start_time": "2023-01-25T09:35:39.336Z"
   },
   {
    "duration": 5,
    "start_time": "2023-01-25T09:35:39.366Z"
   },
   {
    "duration": 9,
    "start_time": "2023-01-25T09:35:39.375Z"
   },
   {
    "duration": 158,
    "start_time": "2023-01-25T09:35:39.387Z"
   },
   {
    "duration": 18,
    "start_time": "2023-01-25T09:35:39.547Z"
   },
   {
    "duration": 118,
    "start_time": "2023-01-25T09:35:39.567Z"
   },
   {
    "duration": 7,
    "start_time": "2023-01-25T09:35:39.687Z"
   },
   {
    "duration": 26,
    "start_time": "2023-01-25T09:35:39.696Z"
   },
   {
    "duration": 11,
    "start_time": "2023-01-25T09:35:39.723Z"
   },
   {
    "duration": 35,
    "start_time": "2023-01-25T09:35:39.735Z"
   },
   {
    "duration": 254,
    "start_time": "2023-01-25T09:35:39.771Z"
   },
   {
    "duration": 190,
    "start_time": "2023-01-25T09:35:40.026Z"
   },
   {
    "duration": 5,
    "start_time": "2023-01-25T09:35:40.218Z"
   },
   {
    "duration": 344,
    "start_time": "2023-01-25T09:35:40.225Z"
   },
   {
    "duration": 4,
    "start_time": "2023-01-25T09:35:40.571Z"
   },
   {
    "duration": 17,
    "start_time": "2023-01-25T09:35:50.943Z"
   },
   {
    "duration": 5,
    "start_time": "2023-01-25T09:36:47.633Z"
   },
   {
    "duration": 5,
    "start_time": "2023-01-25T09:36:54.975Z"
   },
   {
    "duration": 9,
    "start_time": "2023-01-25T09:37:18.489Z"
   },
   {
    "duration": 13,
    "start_time": "2023-01-25T09:37:21.462Z"
   },
   {
    "duration": 12,
    "start_time": "2023-01-25T09:39:16.810Z"
   },
   {
    "duration": 12,
    "start_time": "2023-01-25T09:40:49.698Z"
   },
   {
    "duration": 9,
    "start_time": "2023-01-25T09:40:52.729Z"
   },
   {
    "duration": 13,
    "start_time": "2023-01-25T09:40:55.570Z"
   },
   {
    "duration": 14,
    "start_time": "2023-01-25T09:41:56.226Z"
   },
   {
    "duration": 78,
    "start_time": "2023-01-25T09:42:21.090Z"
   },
   {
    "duration": 15,
    "start_time": "2023-01-25T09:42:29.707Z"
   },
   {
    "duration": 15,
    "start_time": "2023-01-25T09:42:32.850Z"
   },
   {
    "duration": 246,
    "start_time": "2023-01-25T09:45:56.188Z"
   },
   {
    "duration": 187,
    "start_time": "2023-01-25T09:46:01.443Z"
   },
   {
    "duration": 208,
    "start_time": "2023-01-25T09:46:03.620Z"
   },
   {
    "duration": 210,
    "start_time": "2023-01-25T09:46:10.997Z"
   },
   {
    "duration": 13,
    "start_time": "2023-01-25T09:52:18.984Z"
   },
   {
    "duration": 12,
    "start_time": "2023-01-25T09:53:16.758Z"
   },
   {
    "duration": 5,
    "start_time": "2023-01-25T09:53:33.496Z"
   },
   {
    "duration": 10,
    "start_time": "2023-01-25T09:53:42.559Z"
   },
   {
    "duration": 5,
    "start_time": "2023-01-25T09:56:42.506Z"
   },
   {
    "duration": 10,
    "start_time": "2023-01-25T09:56:45.491Z"
   },
   {
    "duration": 13,
    "start_time": "2023-01-25T09:56:48.385Z"
   },
   {
    "duration": 14,
    "start_time": "2023-01-25T09:58:30.477Z"
   },
   {
    "duration": 8,
    "start_time": "2023-01-25T10:00:30.005Z"
   },
   {
    "duration": 12,
    "start_time": "2023-01-25T10:00:33.911Z"
   },
   {
    "duration": 6,
    "start_time": "2023-01-25T10:03:11.872Z"
   },
   {
    "duration": 7,
    "start_time": "2023-01-25T10:04:20.692Z"
   },
   {
    "duration": 104,
    "start_time": "2023-01-25T10:04:36.709Z"
   },
   {
    "duration": 115,
    "start_time": "2023-01-25T10:05:58.776Z"
   },
   {
    "duration": 399,
    "start_time": "2023-01-25T10:06:09.731Z"
   },
   {
    "duration": 3,
    "start_time": "2023-01-25T10:06:10.132Z"
   },
   {
    "duration": 14,
    "start_time": "2023-01-25T10:06:10.136Z"
   },
   {
    "duration": 220,
    "start_time": "2023-01-25T10:06:10.152Z"
   },
   {
    "duration": 26,
    "start_time": "2023-01-25T10:06:10.374Z"
   },
   {
    "duration": 48,
    "start_time": "2023-01-25T10:06:10.401Z"
   },
   {
    "duration": 15,
    "start_time": "2023-01-25T10:06:10.450Z"
   },
   {
    "duration": 10,
    "start_time": "2023-01-25T10:06:10.466Z"
   },
   {
    "duration": 3,
    "start_time": "2023-01-25T10:06:10.477Z"
   },
   {
    "duration": 13,
    "start_time": "2023-01-25T10:06:10.482Z"
   },
   {
    "duration": 9,
    "start_time": "2023-01-25T10:06:10.496Z"
   },
   {
    "duration": 15,
    "start_time": "2023-01-25T10:06:10.506Z"
   },
   {
    "duration": 13,
    "start_time": "2023-01-25T10:06:10.522Z"
   },
   {
    "duration": 13,
    "start_time": "2023-01-25T10:06:10.536Z"
   },
   {
    "duration": 11,
    "start_time": "2023-01-25T10:06:10.550Z"
   },
   {
    "duration": 16,
    "start_time": "2023-01-25T10:06:10.562Z"
   },
   {
    "duration": 9,
    "start_time": "2023-01-25T10:06:10.580Z"
   },
   {
    "duration": 22,
    "start_time": "2023-01-25T10:06:10.590Z"
   },
   {
    "duration": 6,
    "start_time": "2023-01-25T10:06:10.614Z"
   },
   {
    "duration": 15,
    "start_time": "2023-01-25T10:06:10.621Z"
   },
   {
    "duration": 11,
    "start_time": "2023-01-25T10:06:10.637Z"
   },
   {
    "duration": 8,
    "start_time": "2023-01-25T10:06:10.650Z"
   },
   {
    "duration": 6,
    "start_time": "2023-01-25T10:06:10.659Z"
   },
   {
    "duration": 6,
    "start_time": "2023-01-25T10:06:10.666Z"
   },
   {
    "duration": 13,
    "start_time": "2023-01-25T10:06:10.673Z"
   },
   {
    "duration": 7,
    "start_time": "2023-01-25T10:06:10.688Z"
   },
   {
    "duration": 14,
    "start_time": "2023-01-25T10:06:10.697Z"
   },
   {
    "duration": 5,
    "start_time": "2023-01-25T10:06:10.714Z"
   },
   {
    "duration": 7,
    "start_time": "2023-01-25T10:06:10.721Z"
   },
   {
    "duration": 164,
    "start_time": "2023-01-25T10:06:10.730Z"
   },
   {
    "duration": 8,
    "start_time": "2023-01-25T10:06:10.896Z"
   },
   {
    "duration": 118,
    "start_time": "2023-01-25T10:06:10.906Z"
   },
   {
    "duration": 12,
    "start_time": "2023-01-25T10:06:11.026Z"
   },
   {
    "duration": 18,
    "start_time": "2023-01-25T10:06:11.039Z"
   },
   {
    "duration": 7,
    "start_time": "2023-01-25T10:06:11.059Z"
   },
   {
    "duration": 16,
    "start_time": "2023-01-25T10:06:11.067Z"
   },
   {
    "duration": 233,
    "start_time": "2023-01-25T10:06:11.084Z"
   },
   {
    "duration": 169,
    "start_time": "2023-01-25T10:06:11.319Z"
   },
   {
    "duration": 7,
    "start_time": "2023-01-25T10:06:11.489Z"
   },
   {
    "duration": 252,
    "start_time": "2023-01-25T10:06:11.498Z"
   },
   {
    "duration": 7,
    "start_time": "2023-01-25T10:06:11.752Z"
   },
   {
    "duration": 163,
    "start_time": "2023-01-25T10:06:11.761Z"
   },
   {
    "duration": 115,
    "start_time": "2023-01-25T10:06:11.926Z"
   },
   {
    "duration": 323,
    "start_time": "2023-01-25T10:06:35.217Z"
   },
   {
    "duration": 291,
    "start_time": "2023-01-25T10:06:36.637Z"
   },
   {
    "duration": 285,
    "start_time": "2023-01-25T10:06:38.052Z"
   },
   {
    "duration": 169,
    "start_time": "2023-01-25T10:07:03.975Z"
   },
   {
    "duration": 201,
    "start_time": "2023-01-25T10:07:14.439Z"
   },
   {
    "duration": 224,
    "start_time": "2023-01-25T10:07:26.391Z"
   },
   {
    "duration": 339,
    "start_time": "2023-01-25T10:07:46.560Z"
   },
   {
    "duration": 5,
    "start_time": "2023-01-25T10:20:28.980Z"
   },
   {
    "duration": 13,
    "start_time": "2023-01-25T10:23:11.823Z"
   },
   {
    "duration": 10,
    "start_time": "2023-01-25T10:23:11.839Z"
   },
   {
    "duration": 8,
    "start_time": "2023-01-25T10:23:36.142Z"
   },
   {
    "duration": 238,
    "start_time": "2023-01-25T10:25:56.984Z"
   },
   {
    "duration": 82,
    "start_time": "2023-01-25T10:31:39.090Z"
   },
   {
    "duration": 93,
    "start_time": "2023-01-25T10:31:45.350Z"
   },
   {
    "duration": 269,
    "start_time": "2023-01-25T10:31:50.194Z"
   },
   {
    "duration": 213,
    "start_time": "2023-01-25T10:32:07.656Z"
   },
   {
    "duration": 148,
    "start_time": "2023-01-25T10:32:33.009Z"
   },
   {
    "duration": 151,
    "start_time": "2023-01-25T10:32:40.845Z"
   },
   {
    "duration": 180,
    "start_time": "2023-01-25T10:32:45.267Z"
   },
   {
    "duration": 164,
    "start_time": "2023-01-25T10:33:12.539Z"
   },
   {
    "duration": 169,
    "start_time": "2023-01-25T10:33:28.539Z"
   },
   {
    "duration": 366,
    "start_time": "2023-01-25T10:37:11.896Z"
   },
   {
    "duration": 3,
    "start_time": "2023-01-25T10:37:12.264Z"
   },
   {
    "duration": 16,
    "start_time": "2023-01-25T10:37:12.268Z"
   },
   {
    "duration": 241,
    "start_time": "2023-01-25T10:37:12.285Z"
   },
   {
    "duration": 29,
    "start_time": "2023-01-25T10:37:12.529Z"
   },
   {
    "duration": 36,
    "start_time": "2023-01-25T10:37:12.560Z"
   },
   {
    "duration": 16,
    "start_time": "2023-01-25T10:37:12.598Z"
   },
   {
    "duration": 14,
    "start_time": "2023-01-25T10:37:12.616Z"
   },
   {
    "duration": 3,
    "start_time": "2023-01-25T10:37:12.632Z"
   },
   {
    "duration": 19,
    "start_time": "2023-01-25T10:37:12.637Z"
   },
   {
    "duration": 33,
    "start_time": "2023-01-25T10:37:12.658Z"
   },
   {
    "duration": 47,
    "start_time": "2023-01-25T10:37:12.693Z"
   },
   {
    "duration": 15,
    "start_time": "2023-01-25T10:37:12.742Z"
   },
   {
    "duration": 13,
    "start_time": "2023-01-25T10:37:12.760Z"
   },
   {
    "duration": 15,
    "start_time": "2023-01-25T10:37:12.774Z"
   },
   {
    "duration": 13,
    "start_time": "2023-01-25T10:37:12.790Z"
   },
   {
    "duration": 21,
    "start_time": "2023-01-25T10:37:12.804Z"
   },
   {
    "duration": 14,
    "start_time": "2023-01-25T10:37:12.827Z"
   },
   {
    "duration": 11,
    "start_time": "2023-01-25T10:37:12.843Z"
   },
   {
    "duration": 14,
    "start_time": "2023-01-25T10:37:12.856Z"
   },
   {
    "duration": 17,
    "start_time": "2023-01-25T10:37:12.871Z"
   },
   {
    "duration": 17,
    "start_time": "2023-01-25T10:37:12.889Z"
   },
   {
    "duration": 9,
    "start_time": "2023-01-25T10:37:12.908Z"
   },
   {
    "duration": 9,
    "start_time": "2023-01-25T10:37:12.919Z"
   },
   {
    "duration": 8,
    "start_time": "2023-01-25T10:37:12.930Z"
   },
   {
    "duration": 18,
    "start_time": "2023-01-25T10:37:12.940Z"
   },
   {
    "duration": 23,
    "start_time": "2023-01-25T10:37:12.959Z"
   },
   {
    "duration": 16,
    "start_time": "2023-01-25T10:37:12.984Z"
   },
   {
    "duration": 29,
    "start_time": "2023-01-25T10:37:13.001Z"
   },
   {
    "duration": 243,
    "start_time": "2023-01-25T10:37:13.031Z"
   },
   {
    "duration": 10,
    "start_time": "2023-01-25T10:37:13.275Z"
   },
   {
    "duration": 161,
    "start_time": "2023-01-25T10:37:13.287Z"
   },
   {
    "duration": 14,
    "start_time": "2023-01-25T10:37:13.450Z"
   },
   {
    "duration": 20,
    "start_time": "2023-01-25T10:37:13.466Z"
   },
   {
    "duration": 13,
    "start_time": "2023-01-25T10:37:13.487Z"
   },
   {
    "duration": 7,
    "start_time": "2023-01-25T10:37:13.502Z"
   },
   {
    "duration": 233,
    "start_time": "2023-01-25T10:37:13.510Z"
   },
   {
    "duration": 247,
    "start_time": "2023-01-25T10:37:13.744Z"
   },
   {
    "duration": 6,
    "start_time": "2023-01-25T10:37:13.992Z"
   },
   {
    "duration": 351,
    "start_time": "2023-01-25T10:37:14.000Z"
   },
   {
    "duration": 7,
    "start_time": "2023-01-25T10:37:14.354Z"
   },
   {
    "duration": 222,
    "start_time": "2023-01-25T10:37:14.362Z"
   },
   {
    "duration": 165,
    "start_time": "2023-01-25T10:37:14.585Z"
   },
   {
    "duration": 5,
    "start_time": "2023-01-25T10:37:14.751Z"
   },
   {
    "duration": 7,
    "start_time": "2023-01-25T10:37:14.757Z"
   },
   {
    "duration": 238,
    "start_time": "2023-01-25T10:37:14.765Z"
   },
   {
    "duration": 5,
    "start_time": "2023-01-25T10:46:53.332Z"
   },
   {
    "duration": 79,
    "start_time": "2023-01-25T10:48:58.142Z"
   },
   {
    "duration": 84,
    "start_time": "2023-01-25T10:49:32.996Z"
   },
   {
    "duration": 330,
    "start_time": "2023-01-25T10:49:45.964Z"
   },
   {
    "duration": 5,
    "start_time": "2023-01-25T10:53:41.094Z"
   },
   {
    "duration": 6,
    "start_time": "2023-01-25T10:55:01.674Z"
   },
   {
    "duration": 53,
    "start_time": "2023-01-25T15:20:44.937Z"
   },
   {
    "duration": 447,
    "start_time": "2023-01-25T15:20:58.912Z"
   },
   {
    "duration": 3,
    "start_time": "2023-01-25T15:20:59.361Z"
   },
   {
    "duration": 46,
    "start_time": "2023-01-25T15:20:59.366Z"
   },
   {
    "duration": 521,
    "start_time": "2023-01-25T15:20:59.415Z"
   },
   {
    "duration": 63,
    "start_time": "2023-01-25T15:20:59.938Z"
   },
   {
    "duration": 94,
    "start_time": "2023-01-25T15:21:00.003Z"
   },
   {
    "duration": 59,
    "start_time": "2023-01-25T15:21:00.099Z"
   },
   {
    "duration": 15,
    "start_time": "2023-01-25T15:21:00.160Z"
   },
   {
    "duration": 38,
    "start_time": "2023-01-25T15:21:00.177Z"
   },
   {
    "duration": 41,
    "start_time": "2023-01-25T15:21:00.219Z"
   },
   {
    "duration": 57,
    "start_time": "2023-01-25T15:21:00.262Z"
   },
   {
    "duration": 60,
    "start_time": "2023-01-25T15:21:00.322Z"
   },
   {
    "duration": 42,
    "start_time": "2023-01-25T15:21:00.384Z"
   },
   {
    "duration": 53,
    "start_time": "2023-01-25T15:21:00.428Z"
   },
   {
    "duration": 75,
    "start_time": "2023-01-25T15:21:00.484Z"
   },
   {
    "duration": 56,
    "start_time": "2023-01-25T15:21:00.561Z"
   },
   {
    "duration": 79,
    "start_time": "2023-01-25T15:21:00.619Z"
   },
   {
    "duration": 65,
    "start_time": "2023-01-25T15:21:00.700Z"
   },
   {
    "duration": 49,
    "start_time": "2023-01-25T15:21:00.767Z"
   },
   {
    "duration": 38,
    "start_time": "2023-01-25T15:21:00.818Z"
   },
   {
    "duration": 36,
    "start_time": "2023-01-25T15:21:00.858Z"
   },
   {
    "duration": 52,
    "start_time": "2023-01-25T15:21:00.896Z"
   },
   {
    "duration": 21,
    "start_time": "2023-01-25T15:21:00.950Z"
   },
   {
    "duration": 36,
    "start_time": "2023-01-25T15:21:00.973Z"
   },
   {
    "duration": 26,
    "start_time": "2023-01-25T15:21:01.011Z"
   },
   {
    "duration": 42,
    "start_time": "2023-01-25T15:21:01.039Z"
   },
   {
    "duration": 67,
    "start_time": "2023-01-25T15:21:01.083Z"
   },
   {
    "duration": 55,
    "start_time": "2023-01-25T15:21:01.154Z"
   },
   {
    "duration": 52,
    "start_time": "2023-01-25T15:21:01.211Z"
   },
   {
    "duration": 231,
    "start_time": "2023-01-25T15:21:01.265Z"
   },
   {
    "duration": 9,
    "start_time": "2023-01-25T15:21:01.498Z"
   },
   {
    "duration": 219,
    "start_time": "2023-01-25T15:21:01.509Z"
   },
   {
    "duration": 25,
    "start_time": "2023-01-25T15:21:01.730Z"
   },
   {
    "duration": 47,
    "start_time": "2023-01-25T15:21:01.756Z"
   },
   {
    "duration": 46,
    "start_time": "2023-01-25T15:21:01.805Z"
   },
   {
    "duration": 32,
    "start_time": "2023-01-25T15:21:01.853Z"
   },
   {
    "duration": 334,
    "start_time": "2023-01-25T15:21:01.887Z"
   },
   {
    "duration": 297,
    "start_time": "2023-01-25T15:21:02.223Z"
   },
   {
    "duration": 7,
    "start_time": "2023-01-25T15:21:02.522Z"
   },
   {
    "duration": 458,
    "start_time": "2023-01-25T15:21:02.530Z"
   },
   {
    "duration": 8,
    "start_time": "2023-01-25T15:21:02.989Z"
   },
   {
    "duration": 279,
    "start_time": "2023-01-25T15:21:02.998Z"
   },
   {
    "duration": 208,
    "start_time": "2023-01-25T15:21:03.279Z"
   },
   {
    "duration": 7,
    "start_time": "2023-01-25T15:21:03.489Z"
   },
   {
    "duration": 32,
    "start_time": "2023-01-25T15:21:03.497Z"
   },
   {
    "duration": 294,
    "start_time": "2023-01-25T15:21:03.530Z"
   },
   {
    "duration": 6,
    "start_time": "2023-01-25T15:21:03.826Z"
   },
   {
    "duration": 432,
    "start_time": "2023-01-25T15:21:03.834Z"
   },
   {
    "duration": 6,
    "start_time": "2023-01-25T15:21:04.268Z"
   },
   {
    "duration": 87,
    "start_time": "2023-01-25T15:21:04.284Z"
   },
   {
    "duration": 344,
    "start_time": "2023-01-25T15:21:39.511Z"
   },
   {
    "duration": 7,
    "start_time": "2023-01-25T15:27:02.584Z"
   },
   {
    "duration": 468,
    "start_time": "2023-01-25T15:36:15.677Z"
   },
   {
    "duration": 154,
    "start_time": "2023-01-25T15:48:19.414Z"
   },
   {
    "duration": 8,
    "start_time": "2023-01-25T15:50:12.980Z"
   },
   {
    "duration": 287,
    "start_time": "2023-01-25T15:50:15.879Z"
   },
   {
    "duration": 206,
    "start_time": "2023-01-25T15:50:25.928Z"
   },
   {
    "duration": 173,
    "start_time": "2023-01-25T15:50:37.999Z"
   },
   {
    "duration": 163,
    "start_time": "2023-01-25T15:51:14.871Z"
   },
   {
    "duration": 41,
    "start_time": "2023-01-25T16:11:27.862Z"
   },
   {
    "duration": 8,
    "start_time": "2023-01-25T16:11:33.082Z"
   },
   {
    "duration": 8,
    "start_time": "2023-01-25T16:11:36.720Z"
   },
   {
    "duration": 14,
    "start_time": "2023-01-25T16:13:12.358Z"
   },
   {
    "duration": 7,
    "start_time": "2023-01-25T16:13:52.177Z"
   },
   {
    "duration": 7,
    "start_time": "2023-01-25T16:20:21.051Z"
   },
   {
    "duration": 26,
    "start_time": "2023-01-25T16:25:05.044Z"
   },
   {
    "duration": 6,
    "start_time": "2023-01-25T16:25:25.247Z"
   },
   {
    "duration": 37,
    "start_time": "2023-01-25T16:25:28.207Z"
   },
   {
    "duration": 16,
    "start_time": "2023-01-25T16:40:12.218Z"
   },
   {
    "duration": 15,
    "start_time": "2023-01-25T16:41:04.140Z"
   },
   {
    "duration": 9,
    "start_time": "2023-01-25T16:41:44.562Z"
   },
   {
    "duration": 5,
    "start_time": "2023-01-25T16:41:56.397Z"
   },
   {
    "duration": 11,
    "start_time": "2023-01-25T16:43:20.210Z"
   },
   {
    "duration": 13,
    "start_time": "2023-01-25T16:43:29.819Z"
   },
   {
    "duration": 8,
    "start_time": "2023-01-25T16:43:37.538Z"
   },
   {
    "duration": 3,
    "start_time": "2023-01-25T16:44:41.250Z"
   },
   {
    "duration": 7,
    "start_time": "2023-01-25T16:45:01.720Z"
   },
   {
    "duration": 4,
    "start_time": "2023-01-25T16:45:24.324Z"
   },
   {
    "duration": 5,
    "start_time": "2023-01-25T16:45:36.252Z"
   },
   {
    "duration": 3,
    "start_time": "2023-01-25T16:47:55.652Z"
   },
   {
    "duration": 4,
    "start_time": "2023-01-25T16:48:03.051Z"
   },
   {
    "duration": 3,
    "start_time": "2023-01-25T16:48:38.163Z"
   },
   {
    "duration": 18,
    "start_time": "2023-01-25T16:49:02.172Z"
   },
   {
    "duration": 10,
    "start_time": "2023-01-25T16:49:36.406Z"
   },
   {
    "duration": 3,
    "start_time": "2023-01-25T16:49:45.828Z"
   },
   {
    "duration": 12,
    "start_time": "2023-01-25T16:50:06.292Z"
   },
   {
    "duration": 11,
    "start_time": "2023-01-25T16:50:17.228Z"
   },
   {
    "duration": 9,
    "start_time": "2023-01-25T16:50:57.259Z"
   },
   {
    "duration": 4,
    "start_time": "2023-01-25T16:51:47.884Z"
   },
   {
    "duration": 11,
    "start_time": "2023-01-25T16:51:55.755Z"
   },
   {
    "duration": 4,
    "start_time": "2023-01-25T16:54:27.135Z"
   },
   {
    "duration": 4,
    "start_time": "2023-01-25T16:54:48.958Z"
   },
   {
    "duration": 15,
    "start_time": "2023-01-25T16:55:20.797Z"
   },
   {
    "duration": 13,
    "start_time": "2023-01-25T16:58:00.358Z"
   },
   {
    "duration": 13,
    "start_time": "2023-01-25T16:58:42.347Z"
   },
   {
    "duration": 9,
    "start_time": "2023-01-25T16:58:51.455Z"
   },
   {
    "duration": 26,
    "start_time": "2023-01-25T16:59:37.086Z"
   },
   {
    "duration": 6,
    "start_time": "2023-01-25T16:59:40.768Z"
   },
   {
    "duration": 56,
    "start_time": "2023-01-25T18:43:46.482Z"
   },
   {
    "duration": 397,
    "start_time": "2023-01-25T18:43:55.072Z"
   },
   {
    "duration": 3,
    "start_time": "2023-01-25T18:43:55.471Z"
   },
   {
    "duration": 5,
    "start_time": "2023-01-25T18:43:55.476Z"
   },
   {
    "duration": 385,
    "start_time": "2023-01-25T18:43:55.483Z"
   },
   {
    "duration": 411,
    "start_time": "2023-01-25T18:43:55.871Z"
   },
   {
    "duration": 81,
    "start_time": "2023-01-25T18:43:56.283Z"
   },
   {
    "duration": 90,
    "start_time": "2023-01-25T18:43:56.365Z"
   },
   {
    "duration": 63,
    "start_time": "2023-01-25T18:43:56.456Z"
   },
   {
    "duration": 10,
    "start_time": "2023-01-25T18:43:56.520Z"
   },
   {
    "duration": 3,
    "start_time": "2023-01-25T18:43:56.532Z"
   },
   {
    "duration": 10,
    "start_time": "2023-01-25T18:43:56.536Z"
   },
   {
    "duration": 5,
    "start_time": "2023-01-25T18:43:56.548Z"
   },
   {
    "duration": 12,
    "start_time": "2023-01-25T18:43:56.554Z"
   },
   {
    "duration": 13,
    "start_time": "2023-01-25T18:43:56.570Z"
   },
   {
    "duration": 13,
    "start_time": "2023-01-25T18:43:56.584Z"
   },
   {
    "duration": 9,
    "start_time": "2023-01-25T18:43:56.599Z"
   },
   {
    "duration": 11,
    "start_time": "2023-01-25T18:43:56.610Z"
   },
   {
    "duration": 14,
    "start_time": "2023-01-25T18:43:56.622Z"
   },
   {
    "duration": 9,
    "start_time": "2023-01-25T18:43:56.648Z"
   },
   {
    "duration": 6,
    "start_time": "2023-01-25T18:43:56.658Z"
   },
   {
    "duration": 14,
    "start_time": "2023-01-25T18:43:56.665Z"
   },
   {
    "duration": 18,
    "start_time": "2023-01-25T18:43:56.681Z"
   },
   {
    "duration": 8,
    "start_time": "2023-01-25T18:43:56.701Z"
   },
   {
    "duration": 6,
    "start_time": "2023-01-25T18:43:56.711Z"
   },
   {
    "duration": 5,
    "start_time": "2023-01-25T18:43:56.719Z"
   },
   {
    "duration": 5,
    "start_time": "2023-01-25T18:43:56.726Z"
   },
   {
    "duration": 3,
    "start_time": "2023-01-25T18:43:56.748Z"
   },
   {
    "duration": 13,
    "start_time": "2023-01-25T18:43:56.752Z"
   },
   {
    "duration": 3,
    "start_time": "2023-01-25T18:43:56.766Z"
   },
   {
    "duration": 9,
    "start_time": "2023-01-25T18:43:56.771Z"
   },
   {
    "duration": 166,
    "start_time": "2023-01-25T18:43:56.782Z"
   },
   {
    "duration": 7,
    "start_time": "2023-01-25T18:43:56.950Z"
   },
   {
    "duration": 128,
    "start_time": "2023-01-25T18:43:56.958Z"
   },
   {
    "duration": 7,
    "start_time": "2023-01-25T18:43:57.087Z"
   },
   {
    "duration": 42,
    "start_time": "2023-01-25T18:43:57.095Z"
   },
   {
    "duration": 34,
    "start_time": "2023-01-25T18:43:57.139Z"
   },
   {
    "duration": 53,
    "start_time": "2023-01-25T18:43:57.174Z"
   },
   {
    "duration": 249,
    "start_time": "2023-01-25T18:43:57.229Z"
   },
   {
    "duration": 235,
    "start_time": "2023-01-25T18:43:57.480Z"
   },
   {
    "duration": 6,
    "start_time": "2023-01-25T18:43:57.717Z"
   },
   {
    "duration": 392,
    "start_time": "2023-01-25T18:43:57.726Z"
   },
   {
    "duration": 7,
    "start_time": "2023-01-25T18:43:58.119Z"
   },
   {
    "duration": 158,
    "start_time": "2023-01-25T18:43:58.127Z"
   },
   {
    "duration": 165,
    "start_time": "2023-01-25T18:43:58.287Z"
   },
   {
    "duration": 4,
    "start_time": "2023-01-25T18:43:58.454Z"
   },
   {
    "duration": 25,
    "start_time": "2023-01-25T18:43:58.460Z"
   },
   {
    "duration": 238,
    "start_time": "2023-01-25T18:43:58.486Z"
   },
   {
    "duration": 6,
    "start_time": "2023-01-25T18:43:58.725Z"
   },
   {
    "duration": 340,
    "start_time": "2023-01-25T18:43:58.732Z"
   },
   {
    "duration": 98,
    "start_time": "2023-01-25T18:43:59.074Z"
   },
   {
    "duration": 0,
    "start_time": "2023-01-25T18:43:59.174Z"
   },
   {
    "duration": 0,
    "start_time": "2023-01-25T18:43:59.175Z"
   },
   {
    "duration": 0,
    "start_time": "2023-01-25T18:43:59.176Z"
   },
   {
    "duration": 0,
    "start_time": "2023-01-25T18:43:59.176Z"
   },
   {
    "duration": 0,
    "start_time": "2023-01-25T18:43:59.177Z"
   },
   {
    "duration": 0,
    "start_time": "2023-01-25T18:43:59.179Z"
   },
   {
    "duration": 0,
    "start_time": "2023-01-25T18:43:59.180Z"
   },
   {
    "duration": 0,
    "start_time": "2023-01-25T18:43:59.180Z"
   },
   {
    "duration": 0,
    "start_time": "2023-01-25T18:43:59.181Z"
   },
   {
    "duration": 0,
    "start_time": "2023-01-25T18:43:59.182Z"
   },
   {
    "duration": 0,
    "start_time": "2023-01-25T18:43:59.183Z"
   },
   {
    "duration": 0,
    "start_time": "2023-01-25T18:43:59.184Z"
   },
   {
    "duration": 0,
    "start_time": "2023-01-25T18:43:59.185Z"
   },
   {
    "duration": 9,
    "start_time": "2023-01-25T18:44:58.625Z"
   },
   {
    "duration": 8,
    "start_time": "2023-01-25T18:45:10.610Z"
   },
   {
    "duration": 3,
    "start_time": "2023-01-25T18:45:16.217Z"
   },
   {
    "duration": 4,
    "start_time": "2023-01-25T18:45:18.937Z"
   },
   {
    "duration": 367,
    "start_time": "2023-01-25T18:45:30.473Z"
   },
   {
    "duration": 2,
    "start_time": "2023-01-25T18:45:30.842Z"
   },
   {
    "duration": 22,
    "start_time": "2023-01-25T18:45:30.848Z"
   },
   {
    "duration": 271,
    "start_time": "2023-01-25T18:45:30.872Z"
   },
   {
    "duration": 445,
    "start_time": "2023-01-25T18:45:31.145Z"
   },
   {
    "duration": 27,
    "start_time": "2023-01-25T18:45:31.592Z"
   },
   {
    "duration": 72,
    "start_time": "2023-01-25T18:45:31.621Z"
   },
   {
    "duration": 16,
    "start_time": "2023-01-25T18:45:31.695Z"
   },
   {
    "duration": 14,
    "start_time": "2023-01-25T18:45:31.713Z"
   },
   {
    "duration": 26,
    "start_time": "2023-01-25T18:45:31.730Z"
   },
   {
    "duration": 42,
    "start_time": "2023-01-25T18:45:31.757Z"
   },
   {
    "duration": 41,
    "start_time": "2023-01-25T18:45:31.801Z"
   },
   {
    "duration": 35,
    "start_time": "2023-01-25T18:45:31.844Z"
   },
   {
    "duration": 35,
    "start_time": "2023-01-25T18:45:31.881Z"
   },
   {
    "duration": 25,
    "start_time": "2023-01-25T18:45:31.918Z"
   },
   {
    "duration": 39,
    "start_time": "2023-01-25T18:45:31.945Z"
   },
   {
    "duration": 36,
    "start_time": "2023-01-25T18:45:31.985Z"
   },
   {
    "duration": 57,
    "start_time": "2023-01-25T18:45:32.022Z"
   },
   {
    "duration": 26,
    "start_time": "2023-01-25T18:45:32.080Z"
   },
   {
    "duration": 34,
    "start_time": "2023-01-25T18:45:32.107Z"
   },
   {
    "duration": 33,
    "start_time": "2023-01-25T18:45:32.143Z"
   },
   {
    "duration": 25,
    "start_time": "2023-01-25T18:45:32.178Z"
   },
   {
    "duration": 22,
    "start_time": "2023-01-25T18:45:32.204Z"
   },
   {
    "duration": 28,
    "start_time": "2023-01-25T18:45:32.227Z"
   },
   {
    "duration": 30,
    "start_time": "2023-01-25T18:45:32.257Z"
   },
   {
    "duration": 14,
    "start_time": "2023-01-25T18:45:32.288Z"
   },
   {
    "duration": 33,
    "start_time": "2023-01-25T18:45:32.304Z"
   },
   {
    "duration": 25,
    "start_time": "2023-01-25T18:45:32.340Z"
   },
   {
    "duration": 26,
    "start_time": "2023-01-25T18:45:32.366Z"
   },
   {
    "duration": 26,
    "start_time": "2023-01-25T18:45:32.394Z"
   },
   {
    "duration": 175,
    "start_time": "2023-01-25T18:45:32.422Z"
   },
   {
    "duration": 8,
    "start_time": "2023-01-25T18:45:32.599Z"
   },
   {
    "duration": 151,
    "start_time": "2023-01-25T18:45:32.608Z"
   },
   {
    "duration": 19,
    "start_time": "2023-01-25T18:45:32.761Z"
   },
   {
    "duration": 36,
    "start_time": "2023-01-25T18:45:32.781Z"
   },
   {
    "duration": 36,
    "start_time": "2023-01-25T18:45:32.819Z"
   },
   {
    "duration": 22,
    "start_time": "2023-01-25T18:45:32.856Z"
   },
   {
    "duration": 319,
    "start_time": "2023-01-25T18:45:32.879Z"
   },
   {
    "duration": 242,
    "start_time": "2023-01-25T18:45:33.200Z"
   },
   {
    "duration": 7,
    "start_time": "2023-01-25T18:45:33.444Z"
   },
   {
    "duration": 332,
    "start_time": "2023-01-25T18:45:33.452Z"
   },
   {
    "duration": 6,
    "start_time": "2023-01-25T18:45:33.786Z"
   },
   {
    "duration": 184,
    "start_time": "2023-01-25T18:45:33.794Z"
   },
   {
    "duration": 179,
    "start_time": "2023-01-25T18:45:33.980Z"
   },
   {
    "duration": 5,
    "start_time": "2023-01-25T18:45:34.161Z"
   },
   {
    "duration": 27,
    "start_time": "2023-01-25T18:45:34.168Z"
   },
   {
    "duration": 246,
    "start_time": "2023-01-25T18:45:34.196Z"
   },
   {
    "duration": 5,
    "start_time": "2023-01-25T18:45:34.444Z"
   },
   {
    "duration": 332,
    "start_time": "2023-01-25T18:45:34.451Z"
   },
   {
    "duration": 4,
    "start_time": "2023-01-25T18:45:34.785Z"
   },
   {
    "duration": 8,
    "start_time": "2023-01-25T18:45:34.790Z"
   },
   {
    "duration": 274,
    "start_time": "2023-01-25T18:45:34.799Z"
   },
   {
    "duration": 4,
    "start_time": "2023-01-25T18:45:35.074Z"
   },
   {
    "duration": 8,
    "start_time": "2023-01-25T18:45:35.079Z"
   },
   {
    "duration": 132,
    "start_time": "2023-01-25T18:45:35.088Z"
   },
   {
    "duration": 5,
    "start_time": "2023-01-25T18:45:35.222Z"
   },
   {
    "duration": 7,
    "start_time": "2023-01-25T18:45:35.229Z"
   },
   {
    "duration": 30,
    "start_time": "2023-01-25T18:45:35.238Z"
   },
   {
    "duration": 93,
    "start_time": "2023-01-25T18:45:35.269Z"
   },
   {
    "duration": 19,
    "start_time": "2023-01-25T18:45:35.364Z"
   },
   {
    "duration": 10,
    "start_time": "2023-01-25T18:45:35.385Z"
   },
   {
    "duration": 36,
    "start_time": "2023-01-25T18:45:35.397Z"
   },
   {
    "duration": 7,
    "start_time": "2023-01-25T18:45:35.449Z"
   },
   {
    "duration": 11,
    "start_time": "2023-01-25T19:11:25.921Z"
   },
   {
    "duration": 9,
    "start_time": "2023-01-25T19:11:32.162Z"
   },
   {
    "duration": 9,
    "start_time": "2023-01-25T19:14:44.707Z"
   },
   {
    "duration": 124,
    "start_time": "2023-01-25T19:16:15.318Z"
   },
   {
    "duration": 114,
    "start_time": "2023-01-25T19:17:39.510Z"
   },
   {
    "duration": 12,
    "start_time": "2023-01-25T19:17:48.640Z"
   },
   {
    "duration": 120,
    "start_time": "2023-01-25T19:18:29.941Z"
   },
   {
    "duration": 68,
    "start_time": "2023-01-25T19:18:41.453Z"
   },
   {
    "duration": 69,
    "start_time": "2023-01-25T19:18:54.941Z"
   },
   {
    "duration": 102,
    "start_time": "2023-01-25T19:19:59.937Z"
   },
   {
    "duration": 75,
    "start_time": "2023-01-25T19:20:44.520Z"
   },
   {
    "duration": 99,
    "start_time": "2023-01-25T19:20:56.774Z"
   },
   {
    "duration": 7,
    "start_time": "2023-01-25T19:22:48.006Z"
   },
   {
    "duration": 433,
    "start_time": "2023-01-26T08:46:50.667Z"
   },
   {
    "duration": 3,
    "start_time": "2023-01-26T08:46:51.102Z"
   },
   {
    "duration": 10,
    "start_time": "2023-01-26T08:46:51.106Z"
   },
   {
    "duration": 455,
    "start_time": "2023-01-26T08:46:51.118Z"
   },
   {
    "duration": 512,
    "start_time": "2023-01-26T08:46:51.575Z"
   },
   {
    "duration": 80,
    "start_time": "2023-01-26T08:46:52.089Z"
   },
   {
    "duration": 89,
    "start_time": "2023-01-26T08:46:52.171Z"
   },
   {
    "duration": 64,
    "start_time": "2023-01-26T08:46:52.262Z"
   },
   {
    "duration": 13,
    "start_time": "2023-01-26T08:46:52.328Z"
   },
   {
    "duration": 17,
    "start_time": "2023-01-26T08:46:52.344Z"
   },
   {
    "duration": 32,
    "start_time": "2023-01-26T08:46:52.363Z"
   },
   {
    "duration": 26,
    "start_time": "2023-01-26T08:46:52.397Z"
   },
   {
    "duration": 19,
    "start_time": "2023-01-26T08:46:52.424Z"
   },
   {
    "duration": 29,
    "start_time": "2023-01-26T08:46:52.444Z"
   },
   {
    "duration": 25,
    "start_time": "2023-01-26T08:46:52.475Z"
   },
   {
    "duration": 30,
    "start_time": "2023-01-26T08:46:52.502Z"
   },
   {
    "duration": 27,
    "start_time": "2023-01-26T08:46:52.534Z"
   },
   {
    "duration": 21,
    "start_time": "2023-01-26T08:46:52.563Z"
   },
   {
    "duration": 18,
    "start_time": "2023-01-26T08:46:52.586Z"
   },
   {
    "duration": 20,
    "start_time": "2023-01-26T08:46:52.606Z"
   },
   {
    "duration": 49,
    "start_time": "2023-01-26T08:46:52.627Z"
   },
   {
    "duration": 31,
    "start_time": "2023-01-26T08:46:52.677Z"
   },
   {
    "duration": 32,
    "start_time": "2023-01-26T08:46:52.710Z"
   },
   {
    "duration": 31,
    "start_time": "2023-01-26T08:46:52.744Z"
   },
   {
    "duration": 24,
    "start_time": "2023-01-26T08:46:52.777Z"
   },
   {
    "duration": 19,
    "start_time": "2023-01-26T08:46:52.802Z"
   },
   {
    "duration": 21,
    "start_time": "2023-01-26T08:46:52.823Z"
   },
   {
    "duration": 29,
    "start_time": "2023-01-26T08:46:52.849Z"
   },
   {
    "duration": 34,
    "start_time": "2023-01-26T08:46:52.880Z"
   },
   {
    "duration": 37,
    "start_time": "2023-01-26T08:46:52.915Z"
   },
   {
    "duration": 204,
    "start_time": "2023-01-26T08:46:52.954Z"
   },
   {
    "duration": 8,
    "start_time": "2023-01-26T08:46:53.160Z"
   },
   {
    "duration": 137,
    "start_time": "2023-01-26T08:46:53.170Z"
   },
   {
    "duration": 7,
    "start_time": "2023-01-26T08:46:53.309Z"
   },
   {
    "duration": 33,
    "start_time": "2023-01-26T08:46:53.318Z"
   },
   {
    "duration": 33,
    "start_time": "2023-01-26T08:46:53.354Z"
   },
   {
    "duration": 39,
    "start_time": "2023-01-26T08:46:53.389Z"
   },
   {
    "duration": 281,
    "start_time": "2023-01-26T08:46:53.430Z"
   },
   {
    "duration": 272,
    "start_time": "2023-01-26T08:46:53.714Z"
   },
   {
    "duration": 7,
    "start_time": "2023-01-26T08:46:53.988Z"
   },
   {
    "duration": 435,
    "start_time": "2023-01-26T08:46:53.997Z"
   },
   {
    "duration": 8,
    "start_time": "2023-01-26T08:46:54.436Z"
   },
   {
    "duration": 197,
    "start_time": "2023-01-26T08:46:54.446Z"
   },
   {
    "duration": 186,
    "start_time": "2023-01-26T08:46:54.645Z"
   },
   {
    "duration": 5,
    "start_time": "2023-01-26T08:46:54.835Z"
   },
   {
    "duration": 23,
    "start_time": "2023-01-26T08:46:54.842Z"
   },
   {
    "duration": 256,
    "start_time": "2023-01-26T08:46:54.866Z"
   },
   {
    "duration": 13,
    "start_time": "2023-01-26T08:46:55.124Z"
   },
   {
    "duration": 355,
    "start_time": "2023-01-26T08:46:55.139Z"
   },
   {
    "duration": 5,
    "start_time": "2023-01-26T08:46:55.496Z"
   },
   {
    "duration": 14,
    "start_time": "2023-01-26T08:46:55.503Z"
   },
   {
    "duration": 297,
    "start_time": "2023-01-26T08:46:55.519Z"
   },
   {
    "duration": 4,
    "start_time": "2023-01-26T08:46:55.819Z"
   },
   {
    "duration": 4,
    "start_time": "2023-01-26T08:46:55.836Z"
   },
   {
    "duration": 152,
    "start_time": "2023-01-26T08:46:55.842Z"
   },
   {
    "duration": 6,
    "start_time": "2023-01-26T08:46:55.996Z"
   },
   {
    "duration": 25,
    "start_time": "2023-01-26T08:46:56.004Z"
   },
   {
    "duration": 36,
    "start_time": "2023-01-26T08:46:56.031Z"
   },
   {
    "duration": 104,
    "start_time": "2023-01-26T08:46:56.069Z"
   },
   {
    "duration": 12,
    "start_time": "2023-01-26T08:46:56.175Z"
   },
   {
    "duration": 23,
    "start_time": "2023-01-26T08:46:56.188Z"
   },
   {
    "duration": 23,
    "start_time": "2023-01-26T08:46:56.213Z"
   },
   {
    "duration": 8,
    "start_time": "2023-01-26T08:46:56.237Z"
   },
   {
    "duration": 21,
    "start_time": "2023-01-26T08:46:56.246Z"
   },
   {
    "duration": 31,
    "start_time": "2023-01-26T08:46:56.268Z"
   },
   {
    "duration": 28,
    "start_time": "2023-01-26T08:46:56.301Z"
   },
   {
    "duration": 33,
    "start_time": "2023-01-26T08:46:56.331Z"
   },
   {
    "duration": 377,
    "start_time": "2023-01-26T08:57:24.437Z"
   },
   {
    "duration": 240,
    "start_time": "2023-01-26T08:57:41.061Z"
   },
   {
    "duration": 275,
    "start_time": "2023-01-26T08:58:30.295Z"
   },
   {
    "duration": 275,
    "start_time": "2023-01-26T08:58:45.757Z"
   },
   {
    "duration": 395,
    "start_time": "2023-01-26T09:03:31.421Z"
   },
   {
    "duration": 203,
    "start_time": "2023-01-26T09:03:51.072Z"
   },
   {
    "duration": 226,
    "start_time": "2023-01-26T09:04:01.933Z"
   },
   {
    "duration": 218,
    "start_time": "2023-01-26T09:04:39.803Z"
   },
   {
    "duration": 283,
    "start_time": "2023-01-26T09:05:43.253Z"
   },
   {
    "duration": 53,
    "start_time": "2023-01-26T09:11:37.874Z"
   },
   {
    "duration": 73,
    "start_time": "2023-01-26T10:01:56.438Z"
   },
   {
    "duration": 454,
    "start_time": "2023-01-26T10:02:04.342Z"
   },
   {
    "duration": 3,
    "start_time": "2023-01-26T10:02:04.798Z"
   },
   {
    "duration": 14,
    "start_time": "2023-01-26T10:02:04.803Z"
   },
   {
    "duration": 526,
    "start_time": "2023-01-26T10:02:04.820Z"
   },
   {
    "duration": 492,
    "start_time": "2023-01-26T10:02:05.350Z"
   },
   {
    "duration": 75,
    "start_time": "2023-01-26T10:02:05.843Z"
   },
   {
    "duration": 84,
    "start_time": "2023-01-26T10:02:05.920Z"
   },
   {
    "duration": 75,
    "start_time": "2023-01-26T10:02:06.006Z"
   },
   {
    "duration": 13,
    "start_time": "2023-01-26T10:02:06.083Z"
   },
   {
    "duration": 4,
    "start_time": "2023-01-26T10:02:06.099Z"
   },
   {
    "duration": 15,
    "start_time": "2023-01-26T10:02:06.105Z"
   },
   {
    "duration": 14,
    "start_time": "2023-01-26T10:02:06.122Z"
   },
   {
    "duration": 25,
    "start_time": "2023-01-26T10:02:06.138Z"
   },
   {
    "duration": 11,
    "start_time": "2023-01-26T10:02:06.164Z"
   },
   {
    "duration": 13,
    "start_time": "2023-01-26T10:02:06.177Z"
   },
   {
    "duration": 10,
    "start_time": "2023-01-26T10:02:06.192Z"
   },
   {
    "duration": 12,
    "start_time": "2023-01-26T10:02:06.204Z"
   },
   {
    "duration": 7,
    "start_time": "2023-01-26T10:02:06.217Z"
   },
   {
    "duration": 10,
    "start_time": "2023-01-26T10:02:06.226Z"
   },
   {
    "duration": 5,
    "start_time": "2023-01-26T10:02:06.268Z"
   },
   {
    "duration": 16,
    "start_time": "2023-01-26T10:02:06.274Z"
   },
   {
    "duration": 12,
    "start_time": "2023-01-26T10:02:06.291Z"
   },
   {
    "duration": 6,
    "start_time": "2023-01-26T10:02:06.304Z"
   },
   {
    "duration": 6,
    "start_time": "2023-01-26T10:02:06.311Z"
   },
   {
    "duration": 10,
    "start_time": "2023-01-26T10:02:06.320Z"
   },
   {
    "duration": 35,
    "start_time": "2023-01-26T10:02:06.332Z"
   },
   {
    "duration": 4,
    "start_time": "2023-01-26T10:02:06.369Z"
   },
   {
    "duration": 15,
    "start_time": "2023-01-26T10:02:06.377Z"
   },
   {
    "duration": 13,
    "start_time": "2023-01-26T10:02:06.393Z"
   },
   {
    "duration": 16,
    "start_time": "2023-01-26T10:02:06.408Z"
   },
   {
    "duration": 174,
    "start_time": "2023-01-26T10:02:06.426Z"
   },
   {
    "duration": 8,
    "start_time": "2023-01-26T10:02:06.602Z"
   },
   {
    "duration": 156,
    "start_time": "2023-01-26T10:02:06.612Z"
   },
   {
    "duration": 7,
    "start_time": "2023-01-26T10:02:06.770Z"
   },
   {
    "duration": 19,
    "start_time": "2023-01-26T10:02:06.779Z"
   },
   {
    "duration": 39,
    "start_time": "2023-01-26T10:02:06.801Z"
   },
   {
    "duration": 15,
    "start_time": "2023-01-26T10:02:06.842Z"
   },
   {
    "duration": 290,
    "start_time": "2023-01-26T10:02:06.859Z"
   },
   {
    "duration": 278,
    "start_time": "2023-01-26T10:02:07.151Z"
   },
   {
    "duration": 7,
    "start_time": "2023-01-26T10:02:07.430Z"
   },
   {
    "duration": 432,
    "start_time": "2023-01-26T10:02:07.438Z"
   },
   {
    "duration": 7,
    "start_time": "2023-01-26T10:02:07.871Z"
   },
   {
    "duration": 184,
    "start_time": "2023-01-26T10:02:07.880Z"
   },
   {
    "duration": 207,
    "start_time": "2023-01-26T10:02:08.068Z"
   },
   {
    "duration": 8,
    "start_time": "2023-01-26T10:02:08.277Z"
   },
   {
    "duration": 14,
    "start_time": "2023-01-26T10:02:08.287Z"
   },
   {
    "duration": 267,
    "start_time": "2023-01-26T10:02:08.303Z"
   },
   {
    "duration": 8,
    "start_time": "2023-01-26T10:02:08.572Z"
   },
   {
    "duration": 346,
    "start_time": "2023-01-26T10:02:08.582Z"
   },
   {
    "duration": 4,
    "start_time": "2023-01-26T10:02:08.930Z"
   },
   {
    "duration": 7,
    "start_time": "2023-01-26T10:02:08.935Z"
   },
   {
    "duration": 351,
    "start_time": "2023-01-26T10:02:08.944Z"
   },
   {
    "duration": 3,
    "start_time": "2023-01-26T10:02:09.297Z"
   },
   {
    "duration": 7,
    "start_time": "2023-01-26T10:02:09.302Z"
   },
   {
    "duration": 169,
    "start_time": "2023-01-26T10:02:09.311Z"
   },
   {
    "duration": 6,
    "start_time": "2023-01-26T10:02:09.482Z"
   },
   {
    "duration": 11,
    "start_time": "2023-01-26T10:02:09.489Z"
   },
   {
    "duration": 26,
    "start_time": "2023-01-26T10:02:09.503Z"
   },
   {
    "duration": 86,
    "start_time": "2023-01-26T10:02:09.531Z"
   },
   {
    "duration": 15,
    "start_time": "2023-01-26T10:02:09.619Z"
   },
   {
    "duration": 9,
    "start_time": "2023-01-26T10:02:09.636Z"
   },
   {
    "duration": 41,
    "start_time": "2023-01-26T10:02:09.646Z"
   },
   {
    "duration": 4,
    "start_time": "2023-01-26T10:02:09.689Z"
   },
   {
    "duration": 11,
    "start_time": "2023-01-26T10:02:09.695Z"
   },
   {
    "duration": 7,
    "start_time": "2023-01-26T10:02:09.708Z"
   },
   {
    "duration": 14,
    "start_time": "2023-01-26T10:02:09.716Z"
   },
   {
    "duration": 42,
    "start_time": "2023-01-26T10:02:09.732Z"
   },
   {
    "duration": 9,
    "start_time": "2023-01-26T13:12:11.302Z"
   },
   {
    "duration": 2,
    "start_time": "2023-01-26T13:12:18.959Z"
   },
   {
    "duration": 133,
    "start_time": "2023-01-26T13:12:48.565Z"
   },
   {
    "duration": 398,
    "start_time": "2023-01-26T13:13:02.243Z"
   },
   {
    "duration": 2,
    "start_time": "2023-01-26T13:13:02.643Z"
   },
   {
    "duration": 7,
    "start_time": "2023-01-26T13:13:02.646Z"
   },
   {
    "duration": 245,
    "start_time": "2023-01-26T13:13:02.655Z"
   },
   {
    "duration": 483,
    "start_time": "2023-01-26T13:13:02.902Z"
   },
   {
    "duration": 25,
    "start_time": "2023-01-26T13:13:03.387Z"
   },
   {
    "duration": 34,
    "start_time": "2023-01-26T13:13:03.414Z"
   },
   {
    "duration": 16,
    "start_time": "2023-01-26T13:13:03.449Z"
   },
   {
    "duration": 119,
    "start_time": "2023-01-26T13:13:03.466Z"
   },
   {
    "duration": 0,
    "start_time": "2023-01-26T13:13:03.588Z"
   },
   {
    "duration": 0,
    "start_time": "2023-01-26T13:13:03.589Z"
   },
   {
    "duration": 0,
    "start_time": "2023-01-26T13:13:03.591Z"
   },
   {
    "duration": 0,
    "start_time": "2023-01-26T13:13:03.592Z"
   },
   {
    "duration": 0,
    "start_time": "2023-01-26T13:13:03.593Z"
   },
   {
    "duration": 0,
    "start_time": "2023-01-26T13:13:03.594Z"
   },
   {
    "duration": 0,
    "start_time": "2023-01-26T13:13:03.595Z"
   },
   {
    "duration": 0,
    "start_time": "2023-01-26T13:13:03.596Z"
   },
   {
    "duration": 0,
    "start_time": "2023-01-26T13:13:03.597Z"
   },
   {
    "duration": 0,
    "start_time": "2023-01-26T13:13:03.598Z"
   },
   {
    "duration": 0,
    "start_time": "2023-01-26T13:13:03.600Z"
   },
   {
    "duration": 0,
    "start_time": "2023-01-26T13:13:03.601Z"
   },
   {
    "duration": 0,
    "start_time": "2023-01-26T13:13:03.602Z"
   },
   {
    "duration": 0,
    "start_time": "2023-01-26T13:13:03.602Z"
   },
   {
    "duration": 0,
    "start_time": "2023-01-26T13:13:03.604Z"
   },
   {
    "duration": 0,
    "start_time": "2023-01-26T13:13:03.605Z"
   },
   {
    "duration": 0,
    "start_time": "2023-01-26T13:13:03.606Z"
   },
   {
    "duration": 0,
    "start_time": "2023-01-26T13:13:03.607Z"
   },
   {
    "duration": 0,
    "start_time": "2023-01-26T13:13:03.609Z"
   },
   {
    "duration": 0,
    "start_time": "2023-01-26T13:13:03.609Z"
   },
   {
    "duration": 0,
    "start_time": "2023-01-26T13:13:03.610Z"
   },
   {
    "duration": 0,
    "start_time": "2023-01-26T13:13:03.612Z"
   },
   {
    "duration": 0,
    "start_time": "2023-01-26T13:13:03.613Z"
   },
   {
    "duration": 0,
    "start_time": "2023-01-26T13:13:03.614Z"
   },
   {
    "duration": 0,
    "start_time": "2023-01-26T13:13:03.615Z"
   },
   {
    "duration": 0,
    "start_time": "2023-01-26T13:13:03.616Z"
   },
   {
    "duration": 0,
    "start_time": "2023-01-26T13:13:03.617Z"
   },
   {
    "duration": 0,
    "start_time": "2023-01-26T13:13:03.618Z"
   },
   {
    "duration": 0,
    "start_time": "2023-01-26T13:13:03.619Z"
   },
   {
    "duration": 0,
    "start_time": "2023-01-26T13:13:03.620Z"
   },
   {
    "duration": 0,
    "start_time": "2023-01-26T13:13:03.621Z"
   },
   {
    "duration": 0,
    "start_time": "2023-01-26T13:13:03.675Z"
   },
   {
    "duration": 0,
    "start_time": "2023-01-26T13:13:03.678Z"
   },
   {
    "duration": 0,
    "start_time": "2023-01-26T13:13:03.679Z"
   },
   {
    "duration": 0,
    "start_time": "2023-01-26T13:13:03.680Z"
   },
   {
    "duration": 0,
    "start_time": "2023-01-26T13:13:03.681Z"
   },
   {
    "duration": 0,
    "start_time": "2023-01-26T13:13:03.681Z"
   },
   {
    "duration": 0,
    "start_time": "2023-01-26T13:13:03.682Z"
   },
   {
    "duration": 0,
    "start_time": "2023-01-26T13:13:03.682Z"
   },
   {
    "duration": 0,
    "start_time": "2023-01-26T13:13:03.685Z"
   },
   {
    "duration": 0,
    "start_time": "2023-01-26T13:13:03.686Z"
   },
   {
    "duration": 0,
    "start_time": "2023-01-26T13:13:03.687Z"
   },
   {
    "duration": 0,
    "start_time": "2023-01-26T13:13:03.689Z"
   },
   {
    "duration": 0,
    "start_time": "2023-01-26T13:13:03.690Z"
   },
   {
    "duration": 0,
    "start_time": "2023-01-26T13:13:03.691Z"
   },
   {
    "duration": 0,
    "start_time": "2023-01-26T13:13:03.692Z"
   },
   {
    "duration": 0,
    "start_time": "2023-01-26T13:13:03.693Z"
   },
   {
    "duration": 0,
    "start_time": "2023-01-26T13:13:03.694Z"
   },
   {
    "duration": 0,
    "start_time": "2023-01-26T13:13:03.696Z"
   },
   {
    "duration": 0,
    "start_time": "2023-01-26T13:13:03.697Z"
   },
   {
    "duration": 0,
    "start_time": "2023-01-26T13:13:03.698Z"
   },
   {
    "duration": 0,
    "start_time": "2023-01-26T13:13:03.699Z"
   },
   {
    "duration": 0,
    "start_time": "2023-01-26T13:13:03.700Z"
   },
   {
    "duration": 0,
    "start_time": "2023-01-26T13:13:03.701Z"
   },
   {
    "duration": 0,
    "start_time": "2023-01-26T13:13:03.702Z"
   },
   {
    "duration": 0,
    "start_time": "2023-01-26T13:13:03.703Z"
   },
   {
    "duration": 0,
    "start_time": "2023-01-26T13:13:03.704Z"
   },
   {
    "duration": 0,
    "start_time": "2023-01-26T13:13:03.705Z"
   },
   {
    "duration": 2,
    "start_time": "2023-01-26T13:14:33.867Z"
   },
   {
    "duration": 11,
    "start_time": "2023-01-26T13:14:43.465Z"
   },
   {
    "duration": 8,
    "start_time": "2023-01-26T13:14:49.681Z"
   },
   {
    "duration": 11,
    "start_time": "2023-01-26T13:14:54.502Z"
   },
   {
    "duration": 445,
    "start_time": "2023-01-26T13:19:37.955Z"
   },
   {
    "duration": 3,
    "start_time": "2023-01-26T13:19:38.402Z"
   },
   {
    "duration": 8,
    "start_time": "2023-01-26T13:19:38.406Z"
   },
   {
    "duration": 243,
    "start_time": "2023-01-26T13:19:38.415Z"
   },
   {
    "duration": 460,
    "start_time": "2023-01-26T13:19:38.660Z"
   },
   {
    "duration": 26,
    "start_time": "2023-01-26T13:19:39.121Z"
   },
   {
    "duration": 47,
    "start_time": "2023-01-26T13:19:39.148Z"
   },
   {
    "duration": 13,
    "start_time": "2023-01-26T13:19:39.197Z"
   },
   {
    "duration": 3,
    "start_time": "2023-01-26T13:19:39.212Z"
   },
   {
    "duration": 16,
    "start_time": "2023-01-26T13:19:39.216Z"
   },
   {
    "duration": 3,
    "start_time": "2023-01-26T13:19:39.233Z"
   },
   {
    "duration": 9,
    "start_time": "2023-01-26T13:19:39.238Z"
   },
   {
    "duration": 9,
    "start_time": "2023-01-26T13:19:39.248Z"
   },
   {
    "duration": 15,
    "start_time": "2023-01-26T13:19:39.259Z"
   },
   {
    "duration": 17,
    "start_time": "2023-01-26T13:19:39.276Z"
   },
   {
    "duration": 9,
    "start_time": "2023-01-26T13:19:39.295Z"
   },
   {
    "duration": 20,
    "start_time": "2023-01-26T13:19:39.306Z"
   },
   {
    "duration": 12,
    "start_time": "2023-01-26T13:19:39.328Z"
   },
   {
    "duration": 5,
    "start_time": "2023-01-26T13:19:39.342Z"
   },
   {
    "duration": 25,
    "start_time": "2023-01-26T13:19:39.349Z"
   },
   {
    "duration": 11,
    "start_time": "2023-01-26T13:19:39.375Z"
   },
   {
    "duration": 13,
    "start_time": "2023-01-26T13:19:39.387Z"
   },
   {
    "duration": 11,
    "start_time": "2023-01-26T13:19:39.402Z"
   },
   {
    "duration": 5,
    "start_time": "2023-01-26T13:19:39.415Z"
   },
   {
    "duration": 5,
    "start_time": "2023-01-26T13:19:39.422Z"
   },
   {
    "duration": 6,
    "start_time": "2023-01-26T13:19:39.429Z"
   },
   {
    "duration": 5,
    "start_time": "2023-01-26T13:19:39.436Z"
   },
   {
    "duration": 5,
    "start_time": "2023-01-26T13:19:39.443Z"
   },
   {
    "duration": 30,
    "start_time": "2023-01-26T13:19:39.449Z"
   },
   {
    "duration": 12,
    "start_time": "2023-01-26T13:19:39.481Z"
   },
   {
    "duration": 8,
    "start_time": "2023-01-26T13:19:39.494Z"
   },
   {
    "duration": 179,
    "start_time": "2023-01-26T13:19:39.504Z"
   },
   {
    "duration": 7,
    "start_time": "2023-01-26T13:19:39.685Z"
   },
   {
    "duration": 123,
    "start_time": "2023-01-26T13:19:39.693Z"
   },
   {
    "duration": 8,
    "start_time": "2023-01-26T13:19:39.818Z"
   },
   {
    "duration": 14,
    "start_time": "2023-01-26T13:19:39.827Z"
   },
   {
    "duration": 6,
    "start_time": "2023-01-26T13:19:39.843Z"
   },
   {
    "duration": 12,
    "start_time": "2023-01-26T13:19:39.870Z"
   },
   {
    "duration": 263,
    "start_time": "2023-01-26T13:19:39.884Z"
   },
   {
    "duration": 260,
    "start_time": "2023-01-26T13:19:40.149Z"
   },
   {
    "duration": 5,
    "start_time": "2023-01-26T13:19:40.414Z"
   },
   {
    "duration": 380,
    "start_time": "2023-01-26T13:19:40.421Z"
   },
   {
    "duration": 5,
    "start_time": "2023-01-26T13:19:40.803Z"
   },
   {
    "duration": 174,
    "start_time": "2023-01-26T13:19:40.810Z"
   },
   {
    "duration": 216,
    "start_time": "2023-01-26T13:19:40.986Z"
   },
   {
    "duration": 5,
    "start_time": "2023-01-26T13:19:41.204Z"
   },
   {
    "duration": 67,
    "start_time": "2023-01-26T13:19:41.211Z"
   },
   {
    "duration": 380,
    "start_time": "2023-01-26T13:19:41.280Z"
   },
   {
    "duration": 21,
    "start_time": "2023-01-26T13:19:41.662Z"
   },
   {
    "duration": 387,
    "start_time": "2023-01-26T13:19:41.686Z"
   },
   {
    "duration": 7,
    "start_time": "2023-01-26T13:19:42.078Z"
   },
   {
    "duration": 13,
    "start_time": "2023-01-26T13:19:42.086Z"
   },
   {
    "duration": 290,
    "start_time": "2023-01-26T13:19:42.101Z"
   },
   {
    "duration": 4,
    "start_time": "2023-01-26T13:19:42.393Z"
   },
   {
    "duration": 7,
    "start_time": "2023-01-26T13:19:42.398Z"
   },
   {
    "duration": 160,
    "start_time": "2023-01-26T13:19:42.406Z"
   },
   {
    "duration": 11,
    "start_time": "2023-01-26T13:19:42.571Z"
   },
   {
    "duration": 9,
    "start_time": "2023-01-26T13:19:42.584Z"
   },
   {
    "duration": 27,
    "start_time": "2023-01-26T13:19:42.595Z"
   },
   {
    "duration": 85,
    "start_time": "2023-01-26T13:19:42.624Z"
   },
   {
    "duration": 16,
    "start_time": "2023-01-26T13:19:42.711Z"
   },
   {
    "duration": 11,
    "start_time": "2023-01-26T13:19:42.729Z"
   },
   {
    "duration": 41,
    "start_time": "2023-01-26T13:19:42.742Z"
   },
   {
    "duration": 4,
    "start_time": "2023-01-26T13:19:42.785Z"
   },
   {
    "duration": 16,
    "start_time": "2023-01-26T13:19:42.791Z"
   },
   {
    "duration": 8,
    "start_time": "2023-01-26T13:19:42.808Z"
   },
   {
    "duration": 14,
    "start_time": "2023-01-26T13:19:42.818Z"
   },
   {
    "duration": 9,
    "start_time": "2023-01-26T13:19:42.834Z"
   },
   {
    "duration": 111,
    "start_time": "2023-01-26T13:20:51.584Z"
   },
   {
    "duration": 9,
    "start_time": "2023-01-26T13:21:19.891Z"
   },
   {
    "duration": 6,
    "start_time": "2023-01-26T13:21:26.417Z"
   },
   {
    "duration": 6,
    "start_time": "2023-01-26T13:21:55.312Z"
   },
   {
    "duration": 5,
    "start_time": "2023-01-26T13:27:14.347Z"
   },
   {
    "duration": 6,
    "start_time": "2023-01-26T13:28:05.818Z"
   },
   {
    "duration": 45,
    "start_time": "2023-01-26T15:38:59.896Z"
   },
   {
    "duration": 435,
    "start_time": "2023-01-26T15:39:07.844Z"
   },
   {
    "duration": 2,
    "start_time": "2023-01-26T15:39:08.281Z"
   },
   {
    "duration": 6,
    "start_time": "2023-01-26T15:39:08.285Z"
   },
   {
    "duration": 401,
    "start_time": "2023-01-26T15:39:08.292Z"
   },
   {
    "duration": 534,
    "start_time": "2023-01-26T15:39:08.696Z"
   },
   {
    "duration": 85,
    "start_time": "2023-01-26T15:39:09.231Z"
   },
   {
    "duration": 97,
    "start_time": "2023-01-26T15:39:09.317Z"
   },
   {
    "duration": 63,
    "start_time": "2023-01-26T15:39:09.416Z"
   },
   {
    "duration": 3,
    "start_time": "2023-01-26T15:39:09.480Z"
   },
   {
    "duration": 22,
    "start_time": "2023-01-26T15:39:09.485Z"
   },
   {
    "duration": 4,
    "start_time": "2023-01-26T15:39:09.509Z"
   },
   {
    "duration": 41,
    "start_time": "2023-01-26T15:39:09.515Z"
   },
   {
    "duration": 19,
    "start_time": "2023-01-26T15:39:09.557Z"
   },
   {
    "duration": 24,
    "start_time": "2023-01-26T15:39:09.578Z"
   },
   {
    "duration": 10,
    "start_time": "2023-01-26T15:39:09.604Z"
   },
   {
    "duration": 6,
    "start_time": "2023-01-26T15:39:09.616Z"
   },
   {
    "duration": 12,
    "start_time": "2023-01-26T15:39:09.623Z"
   },
   {
    "duration": 7,
    "start_time": "2023-01-26T15:39:09.637Z"
   },
   {
    "duration": 15,
    "start_time": "2023-01-26T15:39:09.645Z"
   },
   {
    "duration": 11,
    "start_time": "2023-01-26T15:39:09.663Z"
   },
   {
    "duration": 8,
    "start_time": "2023-01-26T15:39:09.677Z"
   },
   {
    "duration": 13,
    "start_time": "2023-01-26T15:39:09.687Z"
   },
   {
    "duration": 7,
    "start_time": "2023-01-26T15:39:09.702Z"
   },
   {
    "duration": 13,
    "start_time": "2023-01-26T15:39:09.710Z"
   },
   {
    "duration": 29,
    "start_time": "2023-01-26T15:39:09.725Z"
   },
   {
    "duration": 5,
    "start_time": "2023-01-26T15:39:09.756Z"
   },
   {
    "duration": 4,
    "start_time": "2023-01-26T15:39:09.764Z"
   },
   {
    "duration": 5,
    "start_time": "2023-01-26T15:39:09.775Z"
   },
   {
    "duration": 5,
    "start_time": "2023-01-26T15:39:09.782Z"
   },
   {
    "duration": 8,
    "start_time": "2023-01-26T15:39:09.789Z"
   },
   {
    "duration": 58,
    "start_time": "2023-01-26T15:39:09.799Z"
   },
   {
    "duration": 17,
    "start_time": "2023-01-26T15:39:09.860Z"
   },
   {
    "duration": 8,
    "start_time": "2023-01-26T15:39:09.879Z"
   },
   {
    "duration": 175,
    "start_time": "2023-01-26T15:39:09.890Z"
   },
   {
    "duration": 9,
    "start_time": "2023-01-26T15:39:10.067Z"
   },
   {
    "duration": 132,
    "start_time": "2023-01-26T15:39:10.077Z"
   },
   {
    "duration": 8,
    "start_time": "2023-01-26T15:39:10.211Z"
   },
   {
    "duration": 30,
    "start_time": "2023-01-26T15:39:10.222Z"
   },
   {
    "duration": 6,
    "start_time": "2023-01-26T15:39:10.254Z"
   },
   {
    "duration": 7,
    "start_time": "2023-01-26T15:39:10.263Z"
   },
   {
    "duration": 269,
    "start_time": "2023-01-26T15:39:10.272Z"
   },
   {
    "duration": 241,
    "start_time": "2023-01-26T15:39:10.543Z"
   },
   {
    "duration": 7,
    "start_time": "2023-01-26T15:39:10.785Z"
   },
   {
    "duration": 446,
    "start_time": "2023-01-26T15:39:10.794Z"
   },
   {
    "duration": 92,
    "start_time": "2023-01-26T15:39:11.242Z"
   },
   {
    "duration": 0,
    "start_time": "2023-01-26T15:39:11.336Z"
   },
   {
    "duration": 0,
    "start_time": "2023-01-26T15:39:11.349Z"
   },
   {
    "duration": 0,
    "start_time": "2023-01-26T15:39:11.350Z"
   },
   {
    "duration": 0,
    "start_time": "2023-01-26T15:39:11.351Z"
   },
   {
    "duration": 0,
    "start_time": "2023-01-26T15:39:11.352Z"
   },
   {
    "duration": 0,
    "start_time": "2023-01-26T15:39:11.353Z"
   },
   {
    "duration": 0,
    "start_time": "2023-01-26T15:39:11.354Z"
   },
   {
    "duration": 0,
    "start_time": "2023-01-26T15:39:11.356Z"
   },
   {
    "duration": 0,
    "start_time": "2023-01-26T15:39:11.356Z"
   },
   {
    "duration": 0,
    "start_time": "2023-01-26T15:39:11.357Z"
   },
   {
    "duration": 0,
    "start_time": "2023-01-26T15:39:11.358Z"
   },
   {
    "duration": 0,
    "start_time": "2023-01-26T15:39:11.360Z"
   },
   {
    "duration": 0,
    "start_time": "2023-01-26T15:39:11.361Z"
   },
   {
    "duration": 0,
    "start_time": "2023-01-26T15:39:11.363Z"
   },
   {
    "duration": 0,
    "start_time": "2023-01-26T15:39:11.364Z"
   },
   {
    "duration": 0,
    "start_time": "2023-01-26T15:39:11.366Z"
   },
   {
    "duration": 0,
    "start_time": "2023-01-26T15:39:11.368Z"
   },
   {
    "duration": 0,
    "start_time": "2023-01-26T15:39:11.369Z"
   },
   {
    "duration": 0,
    "start_time": "2023-01-26T15:39:11.370Z"
   },
   {
    "duration": 0,
    "start_time": "2023-01-26T15:39:11.371Z"
   },
   {
    "duration": 0,
    "start_time": "2023-01-26T15:39:11.373Z"
   },
   {
    "duration": 0,
    "start_time": "2023-01-26T15:39:11.374Z"
   },
   {
    "duration": 0,
    "start_time": "2023-01-26T15:39:11.376Z"
   },
   {
    "duration": 0,
    "start_time": "2023-01-26T15:39:11.377Z"
   },
   {
    "duration": 0,
    "start_time": "2023-01-26T15:39:11.379Z"
   },
   {
    "duration": 13,
    "start_time": "2023-01-26T15:40:07.749Z"
   },
   {
    "duration": 6,
    "start_time": "2023-01-26T15:41:14.782Z"
   },
   {
    "duration": 10,
    "start_time": "2023-01-26T15:41:37.518Z"
   },
   {
    "duration": 19,
    "start_time": "2023-01-26T15:43:27.086Z"
   },
   {
    "duration": 7,
    "start_time": "2023-01-26T15:43:54.784Z"
   },
   {
    "duration": 6,
    "start_time": "2023-01-26T15:44:32.636Z"
   },
   {
    "duration": 5,
    "start_time": "2023-01-26T15:47:04.824Z"
   },
   {
    "duration": 10,
    "start_time": "2023-01-26T15:47:20.211Z"
   },
   {
    "duration": 7,
    "start_time": "2023-01-26T15:47:43.386Z"
   },
   {
    "duration": 8,
    "start_time": "2023-01-26T15:48:15.192Z"
   },
   {
    "duration": 6,
    "start_time": "2023-01-26T15:48:17.425Z"
   },
   {
    "duration": 5,
    "start_time": "2023-01-26T15:48:34.009Z"
   },
   {
    "duration": 7,
    "start_time": "2023-01-26T15:48:49.361Z"
   },
   {
    "duration": 7,
    "start_time": "2023-01-26T15:49:05.560Z"
   },
   {
    "duration": 14,
    "start_time": "2023-01-26T15:49:16.384Z"
   },
   {
    "duration": 7,
    "start_time": "2023-01-26T15:49:21.849Z"
   },
   {
    "duration": 11,
    "start_time": "2023-01-26T15:49:52.969Z"
   },
   {
    "duration": 7,
    "start_time": "2023-01-26T15:52:02.883Z"
   },
   {
    "duration": 5,
    "start_time": "2023-01-26T15:52:11.467Z"
   },
   {
    "duration": 8,
    "start_time": "2023-01-26T15:54:48.389Z"
   },
   {
    "duration": 3,
    "start_time": "2023-01-26T15:54:59.434Z"
   },
   {
    "duration": 4,
    "start_time": "2023-01-26T15:55:06.796Z"
   },
   {
    "duration": 68,
    "start_time": "2023-01-26T15:55:55.252Z"
   },
   {
    "duration": 105,
    "start_time": "2023-01-26T15:56:00.556Z"
   },
   {
    "duration": 13,
    "start_time": "2023-01-26T15:56:18.897Z"
   },
   {
    "duration": 6,
    "start_time": "2023-01-26T15:56:22.532Z"
   },
   {
    "duration": 6,
    "start_time": "2023-01-26T15:56:56.281Z"
   },
   {
    "duration": 7,
    "start_time": "2023-01-26T16:01:57.381Z"
   },
   {
    "duration": 5,
    "start_time": "2023-01-26T16:02:09.982Z"
   },
   {
    "duration": 7,
    "start_time": "2023-01-26T16:03:54.351Z"
   },
   {
    "duration": 5,
    "start_time": "2023-01-26T16:04:09.376Z"
   },
   {
    "duration": 5,
    "start_time": "2023-01-26T16:04:36.183Z"
   },
   {
    "duration": 9,
    "start_time": "2023-01-26T16:19:24.935Z"
   },
   {
    "duration": 9,
    "start_time": "2023-01-26T16:19:36.221Z"
   },
   {
    "duration": 7,
    "start_time": "2023-01-26T16:19:44.587Z"
   },
   {
    "duration": 98,
    "start_time": "2023-01-26T16:23:19.050Z"
   },
   {
    "duration": 1244,
    "start_time": "2023-01-26T16:27:17.018Z"
   },
   {
    "duration": 1197,
    "start_time": "2023-01-26T16:28:22.342Z"
   },
   {
    "duration": 5,
    "start_time": "2023-01-26T16:31:35.492Z"
   },
   {
    "duration": 9,
    "start_time": "2023-01-26T16:31:38.416Z"
   },
   {
    "duration": 11,
    "start_time": "2023-01-26T16:33:07.174Z"
   },
   {
    "duration": 100,
    "start_time": "2023-01-26T16:38:58.761Z"
   },
   {
    "duration": 10,
    "start_time": "2023-01-26T16:40:28.194Z"
   },
   {
    "duration": 6,
    "start_time": "2023-01-26T16:40:50.329Z"
   },
   {
    "duration": 6,
    "start_time": "2023-01-26T16:41:27.516Z"
   },
   {
    "duration": 242,
    "start_time": "2023-01-26T16:46:56.548Z"
   },
   {
    "duration": 188,
    "start_time": "2023-01-26T16:47:08.652Z"
   },
   {
    "duration": 200,
    "start_time": "2023-01-26T16:54:17.415Z"
   },
   {
    "duration": 403,
    "start_time": "2023-01-26T16:59:23.462Z"
   },
   {
    "duration": 7,
    "start_time": "2023-01-26T17:02:19.590Z"
   },
   {
    "duration": 7,
    "start_time": "2023-01-26T17:03:02.489Z"
   },
   {
    "duration": 210,
    "start_time": "2023-01-26T17:03:05.511Z"
   },
   {
    "duration": 294,
    "start_time": "2023-01-26T17:04:03.294Z"
   },
   {
    "duration": 205,
    "start_time": "2023-01-26T17:04:15.312Z"
   },
   {
    "duration": 213,
    "start_time": "2023-01-26T17:04:23.320Z"
   },
   {
    "duration": 14,
    "start_time": "2023-01-26T17:05:07.182Z"
   },
   {
    "duration": 154,
    "start_time": "2023-01-26T17:05:19.911Z"
   },
   {
    "duration": 141,
    "start_time": "2023-01-26T17:05:35.007Z"
   },
   {
    "duration": 394,
    "start_time": "2023-01-26T17:05:46.408Z"
   },
   {
    "duration": 4,
    "start_time": "2023-01-26T17:05:46.804Z"
   },
   {
    "duration": 7,
    "start_time": "2023-01-26T17:05:46.812Z"
   },
   {
    "duration": 294,
    "start_time": "2023-01-26T17:05:46.824Z"
   },
   {
    "duration": 489,
    "start_time": "2023-01-26T17:05:47.119Z"
   },
   {
    "duration": 28,
    "start_time": "2023-01-26T17:05:47.610Z"
   },
   {
    "duration": 37,
    "start_time": "2023-01-26T17:05:47.640Z"
   },
   {
    "duration": 18,
    "start_time": "2023-01-26T17:05:47.680Z"
   },
   {
    "duration": 3,
    "start_time": "2023-01-26T17:05:47.700Z"
   },
   {
    "duration": 15,
    "start_time": "2023-01-26T17:05:47.705Z"
   },
   {
    "duration": 4,
    "start_time": "2023-01-26T17:05:47.721Z"
   },
   {
    "duration": 12,
    "start_time": "2023-01-26T17:05:47.726Z"
   },
   {
    "duration": 5,
    "start_time": "2023-01-26T17:05:47.741Z"
   },
   {
    "duration": 15,
    "start_time": "2023-01-26T17:05:47.747Z"
   },
   {
    "duration": 8,
    "start_time": "2023-01-26T17:05:47.765Z"
   },
   {
    "duration": 11,
    "start_time": "2023-01-26T17:05:47.775Z"
   },
   {
    "duration": 16,
    "start_time": "2023-01-26T17:05:47.789Z"
   },
   {
    "duration": 7,
    "start_time": "2023-01-26T17:05:47.848Z"
   },
   {
    "duration": 15,
    "start_time": "2023-01-26T17:05:47.857Z"
   },
   {
    "duration": 19,
    "start_time": "2023-01-26T17:05:47.874Z"
   },
   {
    "duration": 11,
    "start_time": "2023-01-26T17:05:47.895Z"
   },
   {
    "duration": 7,
    "start_time": "2023-01-26T17:05:47.907Z"
   },
   {
    "duration": 4,
    "start_time": "2023-01-26T17:05:47.915Z"
   },
   {
    "duration": 6,
    "start_time": "2023-01-26T17:05:47.920Z"
   },
   {
    "duration": 31,
    "start_time": "2023-01-26T17:05:47.928Z"
   },
   {
    "duration": 10,
    "start_time": "2023-01-26T17:05:47.961Z"
   },
   {
    "duration": 5,
    "start_time": "2023-01-26T17:05:47.973Z"
   },
   {
    "duration": 6,
    "start_time": "2023-01-26T17:05:47.980Z"
   },
   {
    "duration": 15,
    "start_time": "2023-01-26T17:05:47.988Z"
   },
   {
    "duration": 8,
    "start_time": "2023-01-26T17:05:48.004Z"
   },
   {
    "duration": 12,
    "start_time": "2023-01-26T17:05:48.013Z"
   },
   {
    "duration": 12,
    "start_time": "2023-01-26T17:05:48.026Z"
   },
   {
    "duration": 10,
    "start_time": "2023-01-26T17:05:48.039Z"
   },
   {
    "duration": 3,
    "start_time": "2023-01-26T17:05:48.051Z"
   },
   {
    "duration": 14,
    "start_time": "2023-01-26T17:05:48.055Z"
   },
   {
    "duration": 9,
    "start_time": "2023-01-26T17:05:48.071Z"
   },
   {
    "duration": 8,
    "start_time": "2023-01-26T17:05:48.082Z"
   },
   {
    "duration": 182,
    "start_time": "2023-01-26T17:05:48.092Z"
   },
   {
    "duration": 8,
    "start_time": "2023-01-26T17:05:48.276Z"
   },
   {
    "duration": 137,
    "start_time": "2023-01-26T17:05:48.290Z"
   },
   {
    "duration": 21,
    "start_time": "2023-01-26T17:05:48.429Z"
   },
   {
    "duration": 32,
    "start_time": "2023-01-26T17:05:48.452Z"
   },
   {
    "duration": 9,
    "start_time": "2023-01-26T17:05:48.486Z"
   },
   {
    "duration": 11,
    "start_time": "2023-01-26T17:05:48.497Z"
   },
   {
    "duration": 11,
    "start_time": "2023-01-26T17:05:48.510Z"
   },
   {
    "duration": 8,
    "start_time": "2023-01-26T17:05:48.524Z"
   },
   {
    "duration": 320,
    "start_time": "2023-01-26T17:05:48.534Z"
   },
   {
    "duration": 197,
    "start_time": "2023-01-26T17:05:48.856Z"
   },
   {
    "duration": 6,
    "start_time": "2023-01-26T17:05:49.055Z"
   },
   {
    "duration": 334,
    "start_time": "2023-01-26T17:05:49.064Z"
   },
   {
    "duration": 10,
    "start_time": "2023-01-26T17:05:49.402Z"
   },
   {
    "duration": 187,
    "start_time": "2023-01-26T17:05:49.415Z"
   },
   {
    "duration": 160,
    "start_time": "2023-01-26T17:05:49.604Z"
   },
   {
    "duration": 5,
    "start_time": "2023-01-26T17:05:49.766Z"
   },
   {
    "duration": 8,
    "start_time": "2023-01-26T17:05:49.773Z"
   },
   {
    "duration": 182,
    "start_time": "2023-01-26T17:05:49.783Z"
   },
   {
    "duration": 6,
    "start_time": "2023-01-26T17:05:49.967Z"
   },
   {
    "duration": 368,
    "start_time": "2023-01-26T17:05:49.974Z"
   },
   {
    "duration": 132,
    "start_time": "2023-01-26T17:05:50.344Z"
   },
   {
    "duration": 0,
    "start_time": "2023-01-26T17:05:50.478Z"
   },
   {
    "duration": 0,
    "start_time": "2023-01-26T17:05:50.479Z"
   },
   {
    "duration": 0,
    "start_time": "2023-01-26T17:05:50.480Z"
   },
   {
    "duration": 0,
    "start_time": "2023-01-26T17:05:50.482Z"
   },
   {
    "duration": 0,
    "start_time": "2023-01-26T17:05:50.483Z"
   },
   {
    "duration": 0,
    "start_time": "2023-01-26T17:05:50.484Z"
   },
   {
    "duration": 0,
    "start_time": "2023-01-26T17:05:50.486Z"
   },
   {
    "duration": 0,
    "start_time": "2023-01-26T17:05:50.486Z"
   },
   {
    "duration": 0,
    "start_time": "2023-01-26T17:05:50.488Z"
   },
   {
    "duration": 0,
    "start_time": "2023-01-26T17:05:50.489Z"
   },
   {
    "duration": 0,
    "start_time": "2023-01-26T17:05:50.490Z"
   },
   {
    "duration": 0,
    "start_time": "2023-01-26T17:05:50.491Z"
   },
   {
    "duration": 0,
    "start_time": "2023-01-26T17:05:50.492Z"
   },
   {
    "duration": 0,
    "start_time": "2023-01-26T17:05:50.493Z"
   },
   {
    "duration": 0,
    "start_time": "2023-01-26T17:05:50.494Z"
   },
   {
    "duration": 0,
    "start_time": "2023-01-26T17:05:50.495Z"
   },
   {
    "duration": 0,
    "start_time": "2023-01-26T17:05:50.496Z"
   },
   {
    "duration": 199,
    "start_time": "2023-01-26T17:07:18.574Z"
   },
   {
    "duration": 4,
    "start_time": "2023-01-26T17:08:40.679Z"
   },
   {
    "duration": 4,
    "start_time": "2023-01-26T17:08:46.709Z"
   },
   {
    "duration": 266,
    "start_time": "2023-01-26T17:09:40.375Z"
   },
   {
    "duration": 1401,
    "start_time": "2023-01-26T17:16:42.889Z"
   },
   {
    "duration": 189,
    "start_time": "2023-01-26T17:18:20.097Z"
   },
   {
    "duration": 14,
    "start_time": "2023-01-26T17:18:57.372Z"
   },
   {
    "duration": 5,
    "start_time": "2023-01-26T17:19:07.191Z"
   },
   {
    "duration": 8,
    "start_time": "2023-01-26T17:19:09.553Z"
   },
   {
    "duration": 287,
    "start_time": "2023-01-26T17:19:12.409Z"
   },
   {
    "duration": 16,
    "start_time": "2023-01-26T17:19:16.396Z"
   },
   {
    "duration": 434,
    "start_time": "2023-01-26T17:20:24.364Z"
   },
   {
    "duration": 3,
    "start_time": "2023-01-26T17:20:24.800Z"
   },
   {
    "duration": 11,
    "start_time": "2023-01-26T17:20:24.805Z"
   },
   {
    "duration": 256,
    "start_time": "2023-01-26T17:20:24.819Z"
   },
   {
    "duration": 492,
    "start_time": "2023-01-26T17:20:25.078Z"
   },
   {
    "duration": 28,
    "start_time": "2023-01-26T17:20:25.572Z"
   },
   {
    "duration": 37,
    "start_time": "2023-01-26T17:20:25.602Z"
   },
   {
    "duration": 16,
    "start_time": "2023-01-26T17:20:25.640Z"
   },
   {
    "duration": 3,
    "start_time": "2023-01-26T17:20:25.658Z"
   },
   {
    "duration": 24,
    "start_time": "2023-01-26T17:20:25.663Z"
   },
   {
    "duration": 8,
    "start_time": "2023-01-26T17:20:25.689Z"
   },
   {
    "duration": 11,
    "start_time": "2023-01-26T17:20:25.698Z"
   },
   {
    "duration": 8,
    "start_time": "2023-01-26T17:20:25.710Z"
   },
   {
    "duration": 12,
    "start_time": "2023-01-26T17:20:25.720Z"
   },
   {
    "duration": 15,
    "start_time": "2023-01-26T17:20:25.734Z"
   },
   {
    "duration": 33,
    "start_time": "2023-01-26T17:20:25.751Z"
   },
   {
    "duration": 23,
    "start_time": "2023-01-26T17:20:25.785Z"
   },
   {
    "duration": 20,
    "start_time": "2023-01-26T17:20:25.810Z"
   },
   {
    "duration": 18,
    "start_time": "2023-01-26T17:20:25.832Z"
   },
   {
    "duration": 14,
    "start_time": "2023-01-26T17:20:25.852Z"
   },
   {
    "duration": 20,
    "start_time": "2023-01-26T17:20:25.867Z"
   },
   {
    "duration": 9,
    "start_time": "2023-01-26T17:20:25.889Z"
   },
   {
    "duration": 22,
    "start_time": "2023-01-26T17:20:25.900Z"
   },
   {
    "duration": 8,
    "start_time": "2023-01-26T17:20:25.924Z"
   },
   {
    "duration": 8,
    "start_time": "2023-01-26T17:20:25.934Z"
   },
   {
    "duration": 14,
    "start_time": "2023-01-26T17:20:25.944Z"
   },
   {
    "duration": 13,
    "start_time": "2023-01-26T17:20:25.960Z"
   },
   {
    "duration": 16,
    "start_time": "2023-01-26T17:20:25.975Z"
   },
   {
    "duration": 20,
    "start_time": "2023-01-26T17:20:25.993Z"
   },
   {
    "duration": 7,
    "start_time": "2023-01-26T17:20:26.016Z"
   },
   {
    "duration": 22,
    "start_time": "2023-01-26T17:20:26.026Z"
   },
   {
    "duration": 18,
    "start_time": "2023-01-26T17:20:26.050Z"
   },
   {
    "duration": 18,
    "start_time": "2023-01-26T17:20:26.070Z"
   },
   {
    "duration": 9,
    "start_time": "2023-01-26T17:20:26.090Z"
   },
   {
    "duration": 32,
    "start_time": "2023-01-26T17:20:26.101Z"
   },
   {
    "duration": 14,
    "start_time": "2023-01-26T17:20:26.136Z"
   },
   {
    "duration": 46,
    "start_time": "2023-01-26T17:20:26.154Z"
   },
   {
    "duration": 161,
    "start_time": "2023-01-26T17:20:26.202Z"
   },
   {
    "duration": 8,
    "start_time": "2023-01-26T17:20:26.365Z"
   },
   {
    "duration": 205,
    "start_time": "2023-01-26T17:20:26.375Z"
   },
   {
    "duration": 10,
    "start_time": "2023-01-26T17:20:26.587Z"
   },
   {
    "duration": 34,
    "start_time": "2023-01-26T17:20:26.600Z"
   },
   {
    "duration": 37,
    "start_time": "2023-01-26T17:20:26.636Z"
   },
   {
    "duration": 23,
    "start_time": "2023-01-26T17:20:26.675Z"
   },
   {
    "duration": 13,
    "start_time": "2023-01-26T17:20:26.700Z"
   },
   {
    "duration": 19,
    "start_time": "2023-01-26T17:20:26.715Z"
   },
   {
    "duration": 346,
    "start_time": "2023-01-26T17:20:26.736Z"
   },
   {
    "duration": 215,
    "start_time": "2023-01-26T17:20:27.084Z"
   },
   {
    "duration": 8,
    "start_time": "2023-01-26T17:20:27.301Z"
   },
   {
    "duration": 376,
    "start_time": "2023-01-26T17:20:27.313Z"
   },
   {
    "duration": 13,
    "start_time": "2023-01-26T17:20:27.692Z"
   },
   {
    "duration": 167,
    "start_time": "2023-01-26T17:20:27.708Z"
   },
   {
    "duration": 204,
    "start_time": "2023-01-26T17:20:27.877Z"
   },
   {
    "duration": 5,
    "start_time": "2023-01-26T17:20:28.083Z"
   },
   {
    "duration": 13,
    "start_time": "2023-01-26T17:20:28.090Z"
   },
   {
    "duration": 233,
    "start_time": "2023-01-26T17:20:28.105Z"
   },
   {
    "duration": 10,
    "start_time": "2023-01-26T17:20:28.348Z"
   },
   {
    "duration": 35,
    "start_time": "2023-01-26T17:20:28.360Z"
   },
   {
    "duration": 392,
    "start_time": "2023-01-26T17:20:28.396Z"
   },
   {
    "duration": 0,
    "start_time": "2023-01-26T17:20:28.790Z"
   },
   {
    "duration": 0,
    "start_time": "2023-01-26T17:20:28.791Z"
   },
   {
    "duration": 0,
    "start_time": "2023-01-26T17:20:28.793Z"
   },
   {
    "duration": 0,
    "start_time": "2023-01-26T17:20:28.794Z"
   },
   {
    "duration": 0,
    "start_time": "2023-01-26T17:20:28.796Z"
   },
   {
    "duration": 0,
    "start_time": "2023-01-26T17:20:28.797Z"
   },
   {
    "duration": 0,
    "start_time": "2023-01-26T17:20:28.798Z"
   },
   {
    "duration": 0,
    "start_time": "2023-01-26T17:20:28.799Z"
   },
   {
    "duration": 0,
    "start_time": "2023-01-26T17:20:28.800Z"
   },
   {
    "duration": 0,
    "start_time": "2023-01-26T17:20:28.801Z"
   },
   {
    "duration": 0,
    "start_time": "2023-01-26T17:20:28.802Z"
   },
   {
    "duration": 0,
    "start_time": "2023-01-26T17:20:28.803Z"
   },
   {
    "duration": 0,
    "start_time": "2023-01-26T17:20:28.805Z"
   },
   {
    "duration": 0,
    "start_time": "2023-01-26T17:20:28.806Z"
   },
   {
    "duration": 0,
    "start_time": "2023-01-26T17:20:28.808Z"
   },
   {
    "duration": 0,
    "start_time": "2023-01-26T17:20:28.809Z"
   },
   {
    "duration": 0,
    "start_time": "2023-01-26T17:20:28.810Z"
   },
   {
    "duration": 0,
    "start_time": "2023-01-26T17:20:28.821Z"
   },
   {
    "duration": 315,
    "start_time": "2023-01-26T17:20:59.849Z"
   },
   {
    "duration": 397,
    "start_time": "2023-01-26T17:21:51.663Z"
   },
   {
    "duration": 2,
    "start_time": "2023-01-26T17:21:52.062Z"
   },
   {
    "duration": 5,
    "start_time": "2023-01-26T17:21:52.066Z"
   },
   {
    "duration": 239,
    "start_time": "2023-01-26T17:21:52.074Z"
   },
   {
    "duration": 491,
    "start_time": "2023-01-26T17:21:52.316Z"
   },
   {
    "duration": 27,
    "start_time": "2023-01-26T17:21:52.809Z"
   },
   {
    "duration": 37,
    "start_time": "2023-01-26T17:21:52.839Z"
   },
   {
    "duration": 18,
    "start_time": "2023-01-26T17:21:52.878Z"
   },
   {
    "duration": 3,
    "start_time": "2023-01-26T17:21:52.898Z"
   },
   {
    "duration": 12,
    "start_time": "2023-01-26T17:21:52.905Z"
   },
   {
    "duration": 3,
    "start_time": "2023-01-26T17:21:52.918Z"
   },
   {
    "duration": 10,
    "start_time": "2023-01-26T17:21:52.923Z"
   },
   {
    "duration": 6,
    "start_time": "2023-01-26T17:21:52.935Z"
   },
   {
    "duration": 14,
    "start_time": "2023-01-26T17:21:52.942Z"
   },
   {
    "duration": 9,
    "start_time": "2023-01-26T17:21:52.958Z"
   },
   {
    "duration": 9,
    "start_time": "2023-01-26T17:21:52.969Z"
   },
   {
    "duration": 12,
    "start_time": "2023-01-26T17:21:52.980Z"
   },
   {
    "duration": 8,
    "start_time": "2023-01-26T17:21:52.994Z"
   },
   {
    "duration": 8,
    "start_time": "2023-01-26T17:21:53.004Z"
   },
   {
    "duration": 8,
    "start_time": "2023-01-26T17:21:53.013Z"
   },
   {
    "duration": 7,
    "start_time": "2023-01-26T17:21:53.049Z"
   },
   {
    "duration": 12,
    "start_time": "2023-01-26T17:21:53.059Z"
   },
   {
    "duration": 4,
    "start_time": "2023-01-26T17:21:53.073Z"
   },
   {
    "duration": 10,
    "start_time": "2023-01-26T17:21:53.079Z"
   },
   {
    "duration": 14,
    "start_time": "2023-01-26T17:21:53.091Z"
   },
   {
    "duration": 10,
    "start_time": "2023-01-26T17:21:53.108Z"
   },
   {
    "duration": 31,
    "start_time": "2023-01-26T17:21:53.120Z"
   },
   {
    "duration": 5,
    "start_time": "2023-01-26T17:21:53.156Z"
   },
   {
    "duration": 4,
    "start_time": "2023-01-26T17:21:53.163Z"
   },
   {
    "duration": 8,
    "start_time": "2023-01-26T17:21:53.169Z"
   },
   {
    "duration": 16,
    "start_time": "2023-01-26T17:21:53.179Z"
   },
   {
    "duration": 16,
    "start_time": "2023-01-26T17:21:53.199Z"
   },
   {
    "duration": 7,
    "start_time": "2023-01-26T17:21:53.217Z"
   },
   {
    "duration": 25,
    "start_time": "2023-01-26T17:21:53.226Z"
   },
   {
    "duration": 23,
    "start_time": "2023-01-26T17:21:53.253Z"
   },
   {
    "duration": 7,
    "start_time": "2023-01-26T17:21:53.278Z"
   },
   {
    "duration": 11,
    "start_time": "2023-01-26T17:21:53.286Z"
   },
   {
    "duration": 167,
    "start_time": "2023-01-26T17:21:53.299Z"
   },
   {
    "duration": 8,
    "start_time": "2023-01-26T17:21:53.467Z"
   },
   {
    "duration": 132,
    "start_time": "2023-01-26T17:21:53.477Z"
   },
   {
    "duration": 13,
    "start_time": "2023-01-26T17:21:53.611Z"
   },
   {
    "duration": 27,
    "start_time": "2023-01-26T17:21:53.625Z"
   },
   {
    "duration": 8,
    "start_time": "2023-01-26T17:21:53.653Z"
   },
   {
    "duration": 7,
    "start_time": "2023-01-26T17:21:53.663Z"
   },
   {
    "duration": 9,
    "start_time": "2023-01-26T17:21:53.672Z"
   },
   {
    "duration": 18,
    "start_time": "2023-01-26T17:21:53.683Z"
   },
   {
    "duration": 320,
    "start_time": "2023-01-26T17:21:53.703Z"
   },
   {
    "duration": 208,
    "start_time": "2023-01-26T17:21:54.025Z"
   },
   {
    "duration": 6,
    "start_time": "2023-01-26T17:21:54.234Z"
   },
   {
    "duration": 320,
    "start_time": "2023-01-26T17:21:54.248Z"
   },
   {
    "duration": 7,
    "start_time": "2023-01-26T17:21:54.569Z"
   },
   {
    "duration": 135,
    "start_time": "2023-01-26T17:21:54.578Z"
   },
   {
    "duration": 149,
    "start_time": "2023-01-26T17:21:54.714Z"
   },
   {
    "duration": 5,
    "start_time": "2023-01-26T17:21:54.864Z"
   },
   {
    "duration": 8,
    "start_time": "2023-01-26T17:21:54.870Z"
   },
   {
    "duration": 348,
    "start_time": "2023-01-26T17:21:54.880Z"
   },
   {
    "duration": 19,
    "start_time": "2023-01-26T17:21:55.230Z"
   },
   {
    "duration": 330,
    "start_time": "2023-01-26T17:21:55.251Z"
   },
   {
    "duration": 103,
    "start_time": "2023-01-26T17:21:55.583Z"
   },
   {
    "duration": 0,
    "start_time": "2023-01-26T17:21:55.689Z"
   },
   {
    "duration": 0,
    "start_time": "2023-01-26T17:21:55.690Z"
   },
   {
    "duration": 0,
    "start_time": "2023-01-26T17:21:55.691Z"
   },
   {
    "duration": 0,
    "start_time": "2023-01-26T17:21:55.693Z"
   },
   {
    "duration": 0,
    "start_time": "2023-01-26T17:21:55.694Z"
   },
   {
    "duration": 0,
    "start_time": "2023-01-26T17:21:55.696Z"
   },
   {
    "duration": 0,
    "start_time": "2023-01-26T17:21:55.697Z"
   },
   {
    "duration": 0,
    "start_time": "2023-01-26T17:21:55.698Z"
   },
   {
    "duration": 0,
    "start_time": "2023-01-26T17:21:55.699Z"
   },
   {
    "duration": 0,
    "start_time": "2023-01-26T17:21:55.700Z"
   },
   {
    "duration": 0,
    "start_time": "2023-01-26T17:21:55.701Z"
   },
   {
    "duration": 0,
    "start_time": "2023-01-26T17:21:55.702Z"
   },
   {
    "duration": 0,
    "start_time": "2023-01-26T17:21:55.703Z"
   },
   {
    "duration": 0,
    "start_time": "2023-01-26T17:21:55.704Z"
   },
   {
    "duration": 0,
    "start_time": "2023-01-26T17:21:55.705Z"
   },
   {
    "duration": 0,
    "start_time": "2023-01-26T17:21:55.706Z"
   },
   {
    "duration": 0,
    "start_time": "2023-01-26T17:21:55.708Z"
   },
   {
    "duration": 4,
    "start_time": "2023-01-26T17:22:19.664Z"
   },
   {
    "duration": 4,
    "start_time": "2023-01-26T17:22:21.780Z"
   },
   {
    "duration": 445,
    "start_time": "2023-01-26T17:23:49.450Z"
   },
   {
    "duration": 3,
    "start_time": "2023-01-26T17:23:49.897Z"
   },
   {
    "duration": 16,
    "start_time": "2023-01-26T17:23:49.901Z"
   },
   {
    "duration": 285,
    "start_time": "2023-01-26T17:23:49.919Z"
   },
   {
    "duration": 499,
    "start_time": "2023-01-26T17:23:50.206Z"
   },
   {
    "duration": 28,
    "start_time": "2023-01-26T17:23:50.706Z"
   },
   {
    "duration": 47,
    "start_time": "2023-01-26T17:23:50.736Z"
   },
   {
    "duration": 16,
    "start_time": "2023-01-26T17:23:50.784Z"
   },
   {
    "duration": 2,
    "start_time": "2023-01-26T17:23:50.802Z"
   },
   {
    "duration": 19,
    "start_time": "2023-01-26T17:23:50.807Z"
   },
   {
    "duration": 3,
    "start_time": "2023-01-26T17:23:50.827Z"
   },
   {
    "duration": 38,
    "start_time": "2023-01-26T17:23:50.831Z"
   },
   {
    "duration": 17,
    "start_time": "2023-01-26T17:23:50.870Z"
   },
   {
    "duration": 20,
    "start_time": "2023-01-26T17:23:50.889Z"
   },
   {
    "duration": 29,
    "start_time": "2023-01-26T17:23:50.911Z"
   },
   {
    "duration": 11,
    "start_time": "2023-01-26T17:23:50.942Z"
   },
   {
    "duration": 31,
    "start_time": "2023-01-26T17:23:50.955Z"
   },
   {
    "duration": 12,
    "start_time": "2023-01-26T17:23:50.988Z"
   },
   {
    "duration": 28,
    "start_time": "2023-01-26T17:23:51.002Z"
   },
   {
    "duration": 16,
    "start_time": "2023-01-26T17:23:51.031Z"
   },
   {
    "duration": 23,
    "start_time": "2023-01-26T17:23:51.048Z"
   },
   {
    "duration": 19,
    "start_time": "2023-01-26T17:23:51.072Z"
   },
   {
    "duration": 18,
    "start_time": "2023-01-26T17:23:51.092Z"
   },
   {
    "duration": 30,
    "start_time": "2023-01-26T17:23:51.112Z"
   },
   {
    "duration": 12,
    "start_time": "2023-01-26T17:23:51.143Z"
   },
   {
    "duration": 27,
    "start_time": "2023-01-26T17:23:51.156Z"
   },
   {
    "duration": 8,
    "start_time": "2023-01-26T17:23:51.184Z"
   },
   {
    "duration": 12,
    "start_time": "2023-01-26T17:23:51.195Z"
   },
   {
    "duration": 11,
    "start_time": "2023-01-26T17:23:51.209Z"
   },
   {
    "duration": 17,
    "start_time": "2023-01-26T17:23:51.222Z"
   },
   {
    "duration": 34,
    "start_time": "2023-01-26T17:23:51.241Z"
   },
   {
    "duration": 19,
    "start_time": "2023-01-26T17:23:51.276Z"
   },
   {
    "duration": 30,
    "start_time": "2023-01-26T17:23:51.296Z"
   },
   {
    "duration": 16,
    "start_time": "2023-01-26T17:23:51.328Z"
   },
   {
    "duration": 13,
    "start_time": "2023-01-26T17:23:51.346Z"
   },
   {
    "duration": 20,
    "start_time": "2023-01-26T17:23:51.361Z"
   },
   {
    "duration": 21,
    "start_time": "2023-01-26T17:23:51.383Z"
   },
   {
    "duration": 185,
    "start_time": "2023-01-26T17:23:51.406Z"
   },
   {
    "duration": 8,
    "start_time": "2023-01-26T17:23:51.593Z"
   },
   {
    "duration": 146,
    "start_time": "2023-01-26T17:23:51.603Z"
   },
   {
    "duration": 27,
    "start_time": "2023-01-26T17:23:51.750Z"
   },
   {
    "duration": 19,
    "start_time": "2023-01-26T17:23:51.778Z"
   },
   {
    "duration": 11,
    "start_time": "2023-01-26T17:23:51.798Z"
   },
   {
    "duration": 9,
    "start_time": "2023-01-26T17:23:51.811Z"
   },
   {
    "duration": 23,
    "start_time": "2023-01-26T17:23:51.822Z"
   },
   {
    "duration": 32,
    "start_time": "2023-01-26T17:23:51.847Z"
   },
   {
    "duration": 280,
    "start_time": "2023-01-26T17:23:51.880Z"
   },
   {
    "duration": 193,
    "start_time": "2023-01-26T17:23:52.161Z"
   },
   {
    "duration": 6,
    "start_time": "2023-01-26T17:23:52.356Z"
   },
   {
    "duration": 320,
    "start_time": "2023-01-26T17:23:52.364Z"
   },
   {
    "duration": 10,
    "start_time": "2023-01-26T17:23:52.686Z"
   },
   {
    "duration": 133,
    "start_time": "2023-01-26T17:23:52.697Z"
   },
   {
    "duration": 141,
    "start_time": "2023-01-26T17:23:52.831Z"
   },
   {
    "duration": 5,
    "start_time": "2023-01-26T17:23:52.974Z"
   },
   {
    "duration": 9,
    "start_time": "2023-01-26T17:23:52.981Z"
   },
   {
    "duration": 212,
    "start_time": "2023-01-26T17:23:52.992Z"
   },
   {
    "duration": 12,
    "start_time": "2023-01-26T17:23:53.208Z"
   },
   {
    "duration": 363,
    "start_time": "2023-01-26T17:23:53.224Z"
   },
   {
    "duration": 4,
    "start_time": "2023-01-26T17:23:53.588Z"
   },
   {
    "duration": 10,
    "start_time": "2023-01-26T17:23:53.593Z"
   },
   {
    "duration": 258,
    "start_time": "2023-01-26T17:23:53.605Z"
   },
   {
    "duration": 99,
    "start_time": "2023-01-26T17:23:53.865Z"
   },
   {
    "duration": 0,
    "start_time": "2023-01-26T17:23:53.965Z"
   },
   {
    "duration": 0,
    "start_time": "2023-01-26T17:23:53.967Z"
   },
   {
    "duration": 0,
    "start_time": "2023-01-26T17:23:53.967Z"
   },
   {
    "duration": 0,
    "start_time": "2023-01-26T17:23:53.969Z"
   },
   {
    "duration": 0,
    "start_time": "2023-01-26T17:23:53.969Z"
   },
   {
    "duration": 0,
    "start_time": "2023-01-26T17:23:53.970Z"
   },
   {
    "duration": 0,
    "start_time": "2023-01-26T17:23:53.971Z"
   },
   {
    "duration": 0,
    "start_time": "2023-01-26T17:23:53.973Z"
   },
   {
    "duration": 0,
    "start_time": "2023-01-26T17:23:53.974Z"
   },
   {
    "duration": 0,
    "start_time": "2023-01-26T17:23:53.975Z"
   },
   {
    "duration": 0,
    "start_time": "2023-01-26T17:23:53.976Z"
   },
   {
    "duration": 0,
    "start_time": "2023-01-26T17:23:53.977Z"
   },
   {
    "duration": 0,
    "start_time": "2023-01-26T17:23:53.978Z"
   },
   {
    "duration": 0,
    "start_time": "2023-01-26T17:23:53.979Z"
   },
   {
    "duration": 8,
    "start_time": "2023-01-26T17:27:40.392Z"
   },
   {
    "duration": 5,
    "start_time": "2023-01-26T17:27:54.220Z"
   },
   {
    "duration": 5,
    "start_time": "2023-01-26T17:27:58.131Z"
   },
   {
    "duration": 5,
    "start_time": "2023-01-26T17:31:00.417Z"
   },
   {
    "duration": 5,
    "start_time": "2023-01-26T17:31:01.907Z"
   },
   {
    "duration": 278,
    "start_time": "2023-01-26T17:32:25.470Z"
   },
   {
    "duration": 9,
    "start_time": "2023-01-26T17:36:04.445Z"
   },
   {
    "duration": 12,
    "start_time": "2023-01-26T17:36:16.346Z"
   },
   {
    "duration": 9,
    "start_time": "2023-01-26T17:36:50.670Z"
   },
   {
    "duration": 312,
    "start_time": "2023-01-26T17:37:09.433Z"
   },
   {
    "duration": 430,
    "start_time": "2023-01-26T17:42:57.536Z"
   },
   {
    "duration": 3,
    "start_time": "2023-01-26T17:42:57.968Z"
   },
   {
    "duration": 11,
    "start_time": "2023-01-26T17:42:57.973Z"
   },
   {
    "duration": 254,
    "start_time": "2023-01-26T17:42:57.985Z"
   },
   {
    "duration": 468,
    "start_time": "2023-01-26T17:42:58.242Z"
   },
   {
    "duration": 27,
    "start_time": "2023-01-26T17:42:58.712Z"
   },
   {
    "duration": 38,
    "start_time": "2023-01-26T17:42:58.741Z"
   },
   {
    "duration": 14,
    "start_time": "2023-01-26T17:42:58.781Z"
   },
   {
    "duration": 2,
    "start_time": "2023-01-26T17:42:58.797Z"
   },
   {
    "duration": 15,
    "start_time": "2023-01-26T17:42:58.801Z"
   },
   {
    "duration": 3,
    "start_time": "2023-01-26T17:42:58.817Z"
   },
   {
    "duration": 9,
    "start_time": "2023-01-26T17:42:58.822Z"
   },
   {
    "duration": 4,
    "start_time": "2023-01-26T17:42:58.833Z"
   },
   {
    "duration": 12,
    "start_time": "2023-01-26T17:42:58.840Z"
   },
   {
    "duration": 12,
    "start_time": "2023-01-26T17:42:58.853Z"
   },
   {
    "duration": 9,
    "start_time": "2023-01-26T17:42:58.867Z"
   },
   {
    "duration": 25,
    "start_time": "2023-01-26T17:42:58.878Z"
   },
   {
    "duration": 8,
    "start_time": "2023-01-26T17:42:58.906Z"
   },
   {
    "duration": 18,
    "start_time": "2023-01-26T17:42:58.916Z"
   },
   {
    "duration": 5,
    "start_time": "2023-01-26T17:42:58.949Z"
   },
   {
    "duration": 10,
    "start_time": "2023-01-26T17:42:58.956Z"
   },
   {
    "duration": 9,
    "start_time": "2023-01-26T17:42:58.967Z"
   },
   {
    "duration": 4,
    "start_time": "2023-01-26T17:42:58.980Z"
   },
   {
    "duration": 7,
    "start_time": "2023-01-26T17:42:58.986Z"
   },
   {
    "duration": 7,
    "start_time": "2023-01-26T17:42:58.994Z"
   },
   {
    "duration": 14,
    "start_time": "2023-01-26T17:42:59.003Z"
   },
   {
    "duration": 31,
    "start_time": "2023-01-26T17:42:59.019Z"
   },
   {
    "duration": 5,
    "start_time": "2023-01-26T17:42:59.052Z"
   },
   {
    "duration": 8,
    "start_time": "2023-01-26T17:42:59.059Z"
   },
   {
    "duration": 7,
    "start_time": "2023-01-26T17:42:59.069Z"
   },
   {
    "duration": 13,
    "start_time": "2023-01-26T17:42:59.078Z"
   },
   {
    "duration": 12,
    "start_time": "2023-01-26T17:42:59.092Z"
   },
   {
    "duration": 7,
    "start_time": "2023-01-26T17:42:59.106Z"
   },
   {
    "duration": 6,
    "start_time": "2023-01-26T17:42:59.114Z"
   },
   {
    "duration": 41,
    "start_time": "2023-01-26T17:42:59.121Z"
   },
   {
    "duration": 8,
    "start_time": "2023-01-26T17:42:59.165Z"
   },
   {
    "duration": 16,
    "start_time": "2023-01-26T17:42:59.176Z"
   },
   {
    "duration": 175,
    "start_time": "2023-01-26T17:42:59.194Z"
   },
   {
    "duration": 9,
    "start_time": "2023-01-26T17:42:59.371Z"
   },
   {
    "duration": 150,
    "start_time": "2023-01-26T17:42:59.382Z"
   },
   {
    "duration": 18,
    "start_time": "2023-01-26T17:42:59.537Z"
   },
   {
    "duration": 22,
    "start_time": "2023-01-26T17:42:59.557Z"
   },
   {
    "duration": 6,
    "start_time": "2023-01-26T17:42:59.581Z"
   },
   {
    "duration": 8,
    "start_time": "2023-01-26T17:42:59.588Z"
   },
   {
    "duration": 21,
    "start_time": "2023-01-26T17:42:59.598Z"
   },
   {
    "duration": 6,
    "start_time": "2023-01-26T17:42:59.621Z"
   },
   {
    "duration": 280,
    "start_time": "2023-01-26T17:42:59.629Z"
   },
   {
    "duration": 221,
    "start_time": "2023-01-26T17:42:59.912Z"
   },
   {
    "duration": 13,
    "start_time": "2023-01-26T17:43:00.135Z"
   },
   {
    "duration": 319,
    "start_time": "2023-01-26T17:43:00.150Z"
   },
   {
    "duration": 6,
    "start_time": "2023-01-26T17:43:00.471Z"
   },
   {
    "duration": 153,
    "start_time": "2023-01-26T17:43:00.479Z"
   },
   {
    "duration": 138,
    "start_time": "2023-01-26T17:43:00.634Z"
   },
   {
    "duration": 6,
    "start_time": "2023-01-26T17:43:00.774Z"
   },
   {
    "duration": 24,
    "start_time": "2023-01-26T17:43:00.781Z"
   },
   {
    "duration": 250,
    "start_time": "2023-01-26T17:43:00.806Z"
   },
   {
    "duration": 6,
    "start_time": "2023-01-26T17:43:01.058Z"
   },
   {
    "duration": 309,
    "start_time": "2023-01-26T17:43:01.066Z"
   },
   {
    "duration": 4,
    "start_time": "2023-01-26T17:43:01.376Z"
   },
   {
    "duration": 25,
    "start_time": "2023-01-26T17:43:01.381Z"
   },
   {
    "duration": 16,
    "start_time": "2023-01-26T17:43:01.409Z"
   },
   {
    "duration": 24,
    "start_time": "2023-01-26T17:43:01.427Z"
   },
   {
    "duration": 263,
    "start_time": "2023-01-26T17:43:01.453Z"
   },
   {
    "duration": 3,
    "start_time": "2023-01-26T17:43:01.718Z"
   },
   {
    "duration": 19,
    "start_time": "2023-01-26T17:43:01.723Z"
   },
   {
    "duration": 136,
    "start_time": "2023-01-26T17:43:01.744Z"
   },
   {
    "duration": 8,
    "start_time": "2023-01-26T17:43:01.882Z"
   },
   {
    "duration": 15,
    "start_time": "2023-01-26T17:43:01.892Z"
   },
   {
    "duration": 23,
    "start_time": "2023-01-26T17:43:01.909Z"
   },
   {
    "duration": 4,
    "start_time": "2023-01-26T17:43:01.934Z"
   },
   {
    "duration": 101,
    "start_time": "2023-01-26T17:43:01.948Z"
   },
   {
    "duration": 25,
    "start_time": "2023-01-26T17:43:02.051Z"
   },
   {
    "duration": 30,
    "start_time": "2023-01-26T17:43:02.077Z"
   },
   {
    "duration": 15,
    "start_time": "2023-01-26T17:43:02.109Z"
   },
   {
    "duration": 24,
    "start_time": "2023-01-26T17:43:02.125Z"
   },
   {
    "duration": 7,
    "start_time": "2023-01-26T17:43:02.151Z"
   },
   {
    "duration": 10,
    "start_time": "2023-01-26T17:43:02.159Z"
   },
   {
    "duration": 9,
    "start_time": "2023-01-26T17:43:02.171Z"
   },
   {
    "duration": 81,
    "start_time": "2023-01-27T16:08:30.338Z"
   },
   {
    "duration": 90,
    "start_time": "2023-01-27T16:08:36.290Z"
   },
   {
    "duration": 71,
    "start_time": "2023-01-27T16:08:45.834Z"
   },
   {
    "duration": 41,
    "start_time": "2023-01-27T16:10:06.794Z"
   },
   {
    "duration": 409,
    "start_time": "2023-01-27T16:10:14.358Z"
   },
   {
    "duration": 3,
    "start_time": "2023-01-27T16:10:14.768Z"
   },
   {
    "duration": 9,
    "start_time": "2023-01-27T16:10:14.772Z"
   },
   {
    "duration": 385,
    "start_time": "2023-01-27T16:10:14.783Z"
   },
   {
    "duration": 445,
    "start_time": "2023-01-27T16:10:15.170Z"
   },
   {
    "duration": 85,
    "start_time": "2023-01-27T16:10:15.617Z"
   },
   {
    "duration": 150,
    "start_time": "2023-01-27T16:10:15.704Z"
   },
   {
    "duration": 68,
    "start_time": "2023-01-27T16:10:15.856Z"
   },
   {
    "duration": 3,
    "start_time": "2023-01-27T16:10:15.926Z"
   },
   {
    "duration": 22,
    "start_time": "2023-01-27T16:10:15.932Z"
   },
   {
    "duration": 14,
    "start_time": "2023-01-27T16:10:15.956Z"
   },
   {
    "duration": 30,
    "start_time": "2023-01-27T16:10:15.971Z"
   },
   {
    "duration": 11,
    "start_time": "2023-01-27T16:10:16.003Z"
   },
   {
    "duration": 29,
    "start_time": "2023-01-27T16:10:16.016Z"
   },
   {
    "duration": 22,
    "start_time": "2023-01-27T16:10:16.047Z"
   },
   {
    "duration": 18,
    "start_time": "2023-01-27T16:10:16.070Z"
   },
   {
    "duration": 37,
    "start_time": "2023-01-27T16:10:16.089Z"
   },
   {
    "duration": 25,
    "start_time": "2023-01-27T16:10:16.128Z"
   },
   {
    "duration": 27,
    "start_time": "2023-01-27T16:10:16.155Z"
   },
   {
    "duration": 32,
    "start_time": "2023-01-27T16:10:16.183Z"
   },
   {
    "duration": 25,
    "start_time": "2023-01-27T16:10:16.217Z"
   },
   {
    "duration": 31,
    "start_time": "2023-01-27T16:10:16.244Z"
   },
   {
    "duration": 8,
    "start_time": "2023-01-27T16:10:16.277Z"
   },
   {
    "duration": 20,
    "start_time": "2023-01-27T16:10:16.287Z"
   },
   {
    "duration": 32,
    "start_time": "2023-01-27T16:10:16.310Z"
   },
   {
    "duration": 24,
    "start_time": "2023-01-27T16:10:16.344Z"
   },
   {
    "duration": 32,
    "start_time": "2023-01-27T16:10:16.369Z"
   },
   {
    "duration": 27,
    "start_time": "2023-01-27T16:10:16.407Z"
   },
   {
    "duration": 28,
    "start_time": "2023-01-27T16:10:16.436Z"
   },
   {
    "duration": 36,
    "start_time": "2023-01-27T16:10:16.466Z"
   },
   {
    "duration": 33,
    "start_time": "2023-01-27T16:10:16.504Z"
   },
   {
    "duration": 42,
    "start_time": "2023-01-27T16:10:16.538Z"
   },
   {
    "duration": 37,
    "start_time": "2023-01-27T16:10:16.581Z"
   },
   {
    "duration": 10,
    "start_time": "2023-01-27T16:10:16.620Z"
   },
   {
    "duration": 21,
    "start_time": "2023-01-27T16:10:16.631Z"
   },
   {
    "duration": 41,
    "start_time": "2023-01-27T16:10:16.653Z"
   },
   {
    "duration": 27,
    "start_time": "2023-01-27T16:10:16.695Z"
   },
   {
    "duration": 16,
    "start_time": "2023-01-27T16:10:16.724Z"
   },
   {
    "duration": 177,
    "start_time": "2023-01-27T16:10:16.741Z"
   },
   {
    "duration": 9,
    "start_time": "2023-01-27T16:10:16.920Z"
   },
   {
    "duration": 110,
    "start_time": "2023-01-27T16:10:16.931Z"
   },
   {
    "duration": 8,
    "start_time": "2023-01-27T16:10:17.042Z"
   },
   {
    "duration": 23,
    "start_time": "2023-01-27T16:10:17.051Z"
   },
   {
    "duration": 14,
    "start_time": "2023-01-27T16:10:17.076Z"
   },
   {
    "duration": 22,
    "start_time": "2023-01-27T16:10:17.092Z"
   },
   {
    "duration": 16,
    "start_time": "2023-01-27T16:10:17.115Z"
   },
   {
    "duration": 14,
    "start_time": "2023-01-27T16:10:17.132Z"
   },
   {
    "duration": 275,
    "start_time": "2023-01-27T16:10:17.148Z"
   },
   {
    "duration": 192,
    "start_time": "2023-01-27T16:10:17.424Z"
   },
   {
    "duration": 6,
    "start_time": "2023-01-27T16:10:17.617Z"
   },
   {
    "duration": 366,
    "start_time": "2023-01-27T16:10:17.624Z"
   },
   {
    "duration": 6,
    "start_time": "2023-01-27T16:10:17.992Z"
   },
   {
    "duration": 148,
    "start_time": "2023-01-27T16:10:18.000Z"
   },
   {
    "duration": 138,
    "start_time": "2023-01-27T16:10:18.151Z"
   },
   {
    "duration": 4,
    "start_time": "2023-01-27T16:10:18.291Z"
   },
   {
    "duration": 8,
    "start_time": "2023-01-27T16:10:18.296Z"
   },
   {
    "duration": 212,
    "start_time": "2023-01-27T16:10:18.305Z"
   },
   {
    "duration": 6,
    "start_time": "2023-01-27T16:10:18.518Z"
   },
   {
    "duration": 311,
    "start_time": "2023-01-27T16:10:18.525Z"
   },
   {
    "duration": 12,
    "start_time": "2023-01-27T16:10:18.838Z"
   },
   {
    "duration": 10,
    "start_time": "2023-01-27T16:10:18.852Z"
   },
   {
    "duration": 7,
    "start_time": "2023-01-27T16:10:18.863Z"
   },
   {
    "duration": 11,
    "start_time": "2023-01-27T16:10:18.871Z"
   },
   {
    "duration": 224,
    "start_time": "2023-01-27T16:10:18.883Z"
   },
   {
    "duration": 3,
    "start_time": "2023-01-27T16:10:19.109Z"
   },
   {
    "duration": 27,
    "start_time": "2023-01-27T16:10:19.113Z"
   },
   {
    "duration": 137,
    "start_time": "2023-01-27T16:10:19.141Z"
   },
   {
    "duration": 5,
    "start_time": "2023-01-27T16:10:19.280Z"
   },
   {
    "duration": 11,
    "start_time": "2023-01-27T16:10:19.286Z"
   },
   {
    "duration": 28,
    "start_time": "2023-01-27T16:10:19.298Z"
   },
   {
    "duration": 4,
    "start_time": "2023-01-27T16:10:19.327Z"
   },
   {
    "duration": 78,
    "start_time": "2023-01-27T16:10:19.333Z"
   },
   {
    "duration": 20,
    "start_time": "2023-01-27T16:10:19.413Z"
   },
   {
    "duration": 28,
    "start_time": "2023-01-27T16:10:19.434Z"
   },
   {
    "duration": 4,
    "start_time": "2023-01-27T16:10:19.463Z"
   },
   {
    "duration": 17,
    "start_time": "2023-01-27T16:10:19.468Z"
   },
   {
    "duration": 10,
    "start_time": "2023-01-27T16:10:19.486Z"
   },
   {
    "duration": 10,
    "start_time": "2023-01-27T16:10:19.498Z"
   },
   {
    "duration": 13,
    "start_time": "2023-01-27T16:10:19.510Z"
   },
   {
    "duration": 5,
    "start_time": "2023-01-27T16:11:13.684Z"
   },
   {
    "duration": 124,
    "start_time": "2023-01-27T16:17:32.758Z"
   },
   {
    "duration": 6,
    "start_time": "2023-01-27T16:19:06.420Z"
   },
   {
    "duration": 5,
    "start_time": "2023-01-27T16:19:29.782Z"
   },
   {
    "duration": 1297,
    "start_time": "2023-01-27T16:20:37.256Z"
   },
   {
    "duration": 458,
    "start_time": "2023-01-27T16:21:06.050Z"
   },
   {
    "duration": 2,
    "start_time": "2023-01-27T16:21:06.510Z"
   },
   {
    "duration": 8,
    "start_time": "2023-01-27T16:21:06.513Z"
   },
   {
    "duration": 223,
    "start_time": "2023-01-27T16:21:06.522Z"
   },
   {
    "duration": 450,
    "start_time": "2023-01-27T16:21:06.747Z"
   },
   {
    "duration": 30,
    "start_time": "2023-01-27T16:21:07.198Z"
   },
   {
    "duration": 37,
    "start_time": "2023-01-27T16:21:07.229Z"
   },
   {
    "duration": 15,
    "start_time": "2023-01-27T16:21:07.268Z"
   },
   {
    "duration": 3,
    "start_time": "2023-01-27T16:21:07.284Z"
   },
   {
    "duration": 11,
    "start_time": "2023-01-27T16:21:07.289Z"
   },
   {
    "duration": 3,
    "start_time": "2023-01-27T16:21:07.302Z"
   },
   {
    "duration": 12,
    "start_time": "2023-01-27T16:21:07.307Z"
   },
   {
    "duration": 5,
    "start_time": "2023-01-27T16:21:07.320Z"
   },
   {
    "duration": 10,
    "start_time": "2023-01-27T16:21:07.328Z"
   },
   {
    "duration": 9,
    "start_time": "2023-01-27T16:21:07.340Z"
   },
   {
    "duration": 7,
    "start_time": "2023-01-27T16:21:07.350Z"
   },
   {
    "duration": 12,
    "start_time": "2023-01-27T16:21:07.359Z"
   },
   {
    "duration": 12,
    "start_time": "2023-01-27T16:21:07.373Z"
   },
   {
    "duration": 9,
    "start_time": "2023-01-27T16:21:07.386Z"
   },
   {
    "duration": 8,
    "start_time": "2023-01-27T16:21:07.396Z"
   },
   {
    "duration": 8,
    "start_time": "2023-01-27T16:21:07.406Z"
   },
   {
    "duration": 13,
    "start_time": "2023-01-27T16:21:07.415Z"
   },
   {
    "duration": 22,
    "start_time": "2023-01-27T16:21:07.429Z"
   },
   {
    "duration": 4,
    "start_time": "2023-01-27T16:21:07.452Z"
   },
   {
    "duration": 15,
    "start_time": "2023-01-27T16:21:07.457Z"
   },
   {
    "duration": 6,
    "start_time": "2023-01-27T16:21:07.473Z"
   },
   {
    "duration": 10,
    "start_time": "2023-01-27T16:21:07.481Z"
   },
   {
    "duration": 5,
    "start_time": "2023-01-27T16:21:07.493Z"
   },
   {
    "duration": 7,
    "start_time": "2023-01-27T16:21:07.499Z"
   },
   {
    "duration": 5,
    "start_time": "2023-01-27T16:21:07.507Z"
   },
   {
    "duration": 12,
    "start_time": "2023-01-27T16:21:07.514Z"
   },
   {
    "duration": 22,
    "start_time": "2023-01-27T16:21:07.527Z"
   },
   {
    "duration": 9,
    "start_time": "2023-01-27T16:21:07.551Z"
   },
   {
    "duration": 9,
    "start_time": "2023-01-27T16:21:07.561Z"
   },
   {
    "duration": 6,
    "start_time": "2023-01-27T16:21:07.571Z"
   },
   {
    "duration": 16,
    "start_time": "2023-01-27T16:21:07.579Z"
   },
   {
    "duration": 10,
    "start_time": "2023-01-27T16:21:07.597Z"
   },
   {
    "duration": 8,
    "start_time": "2023-01-27T16:21:07.608Z"
   },
   {
    "duration": 173,
    "start_time": "2023-01-27T16:21:07.618Z"
   },
   {
    "duration": 8,
    "start_time": "2023-01-27T16:21:07.792Z"
   },
   {
    "duration": 145,
    "start_time": "2023-01-27T16:21:07.804Z"
   },
   {
    "duration": 11,
    "start_time": "2023-01-27T16:21:07.950Z"
   },
   {
    "duration": 15,
    "start_time": "2023-01-27T16:21:07.963Z"
   },
   {
    "duration": 9,
    "start_time": "2023-01-27T16:21:07.980Z"
   },
   {
    "duration": 7,
    "start_time": "2023-01-27T16:21:07.991Z"
   },
   {
    "duration": 7,
    "start_time": "2023-01-27T16:21:08.000Z"
   },
   {
    "duration": 8,
    "start_time": "2023-01-27T16:21:08.009Z"
   },
   {
    "duration": 283,
    "start_time": "2023-01-27T16:21:08.019Z"
   },
   {
    "duration": 194,
    "start_time": "2023-01-27T16:21:08.304Z"
   },
   {
    "duration": 7,
    "start_time": "2023-01-27T16:21:08.500Z"
   },
   {
    "duration": 286,
    "start_time": "2023-01-27T16:21:08.509Z"
   },
   {
    "duration": 7,
    "start_time": "2023-01-27T16:21:08.796Z"
   },
   {
    "duration": 131,
    "start_time": "2023-01-27T16:21:08.804Z"
   },
   {
    "duration": 132,
    "start_time": "2023-01-27T16:21:08.937Z"
   },
   {
    "duration": 4,
    "start_time": "2023-01-27T16:21:09.071Z"
   },
   {
    "duration": 7,
    "start_time": "2023-01-27T16:21:09.077Z"
   },
   {
    "duration": 218,
    "start_time": "2023-01-27T16:21:09.085Z"
   },
   {
    "duration": 5,
    "start_time": "2023-01-27T16:21:09.305Z"
   },
   {
    "duration": 315,
    "start_time": "2023-01-27T16:21:09.311Z"
   },
   {
    "duration": 3,
    "start_time": "2023-01-27T16:21:09.628Z"
   },
   {
    "duration": 17,
    "start_time": "2023-01-27T16:21:09.632Z"
   },
   {
    "duration": 18,
    "start_time": "2023-01-27T16:21:09.651Z"
   },
   {
    "duration": 9,
    "start_time": "2023-01-27T16:21:09.671Z"
   },
   {
    "duration": 1358,
    "start_time": "2023-01-27T16:21:09.682Z"
   },
   {
    "duration": 0,
    "start_time": "2023-01-27T16:21:11.042Z"
   },
   {
    "duration": 0,
    "start_time": "2023-01-27T16:21:11.043Z"
   },
   {
    "duration": 0,
    "start_time": "2023-01-27T16:21:11.049Z"
   },
   {
    "duration": 0,
    "start_time": "2023-01-27T16:21:11.050Z"
   },
   {
    "duration": 0,
    "start_time": "2023-01-27T16:21:11.051Z"
   },
   {
    "duration": 0,
    "start_time": "2023-01-27T16:21:11.052Z"
   },
   {
    "duration": 0,
    "start_time": "2023-01-27T16:21:11.053Z"
   },
   {
    "duration": 0,
    "start_time": "2023-01-27T16:21:11.054Z"
   },
   {
    "duration": 0,
    "start_time": "2023-01-27T16:21:11.056Z"
   },
   {
    "duration": 0,
    "start_time": "2023-01-27T16:21:11.057Z"
   },
   {
    "duration": 0,
    "start_time": "2023-01-27T16:21:11.058Z"
   },
   {
    "duration": 0,
    "start_time": "2023-01-27T16:21:11.059Z"
   },
   {
    "duration": 0,
    "start_time": "2023-01-27T16:21:11.060Z"
   },
   {
    "duration": 0,
    "start_time": "2023-01-27T16:21:11.061Z"
   },
   {
    "duration": 0,
    "start_time": "2023-01-27T16:21:11.062Z"
   },
   {
    "duration": 304,
    "start_time": "2023-01-27T16:21:37.961Z"
   },
   {
    "duration": 6,
    "start_time": "2023-01-27T16:24:47.562Z"
   },
   {
    "duration": 63,
    "start_time": "2023-01-27T16:24:50.218Z"
   },
   {
    "duration": 6,
    "start_time": "2023-01-27T16:25:05.194Z"
   },
   {
    "duration": 72,
    "start_time": "2023-01-27T16:25:07.650Z"
   },
   {
    "duration": 190,
    "start_time": "2023-01-27T16:25:18.737Z"
   },
   {
    "duration": 410,
    "start_time": "2023-01-27T16:28:03.098Z"
   },
   {
    "duration": 3,
    "start_time": "2023-01-27T16:28:03.510Z"
   },
   {
    "duration": 9,
    "start_time": "2023-01-27T16:28:03.514Z"
   },
   {
    "duration": 253,
    "start_time": "2023-01-27T16:28:03.525Z"
   },
   {
    "duration": 531,
    "start_time": "2023-01-27T16:28:03.781Z"
   },
   {
    "duration": 29,
    "start_time": "2023-01-27T16:28:04.313Z"
   },
   {
    "duration": 38,
    "start_time": "2023-01-27T16:28:04.343Z"
   },
   {
    "duration": 17,
    "start_time": "2023-01-27T16:28:04.383Z"
   },
   {
    "duration": 3,
    "start_time": "2023-01-27T16:28:04.402Z"
   },
   {
    "duration": 16,
    "start_time": "2023-01-27T16:28:04.407Z"
   },
   {
    "duration": 8,
    "start_time": "2023-01-27T16:28:04.424Z"
   },
   {
    "duration": 17,
    "start_time": "2023-01-27T16:28:04.433Z"
   },
   {
    "duration": 10,
    "start_time": "2023-01-27T16:28:04.452Z"
   },
   {
    "duration": 17,
    "start_time": "2023-01-27T16:28:04.466Z"
   },
   {
    "duration": 11,
    "start_time": "2023-01-27T16:28:04.485Z"
   },
   {
    "duration": 8,
    "start_time": "2023-01-27T16:28:04.497Z"
   },
   {
    "duration": 14,
    "start_time": "2023-01-27T16:28:04.507Z"
   },
   {
    "duration": 10,
    "start_time": "2023-01-27T16:28:04.523Z"
   },
   {
    "duration": 16,
    "start_time": "2023-01-27T16:28:04.535Z"
   },
   {
    "duration": 22,
    "start_time": "2023-01-27T16:28:04.552Z"
   },
   {
    "duration": 9,
    "start_time": "2023-01-27T16:28:04.576Z"
   },
   {
    "duration": 8,
    "start_time": "2023-01-27T16:28:04.587Z"
   },
   {
    "duration": 31,
    "start_time": "2023-01-27T16:28:04.597Z"
   },
   {
    "duration": 5,
    "start_time": "2023-01-27T16:28:04.629Z"
   },
   {
    "duration": 7,
    "start_time": "2023-01-27T16:28:04.636Z"
   },
   {
    "duration": 11,
    "start_time": "2023-01-27T16:28:04.645Z"
   },
   {
    "duration": 11,
    "start_time": "2023-01-27T16:28:04.658Z"
   },
   {
    "duration": 8,
    "start_time": "2023-01-27T16:28:04.671Z"
   },
   {
    "duration": 6,
    "start_time": "2023-01-27T16:28:04.680Z"
   },
   {
    "duration": 8,
    "start_time": "2023-01-27T16:28:04.687Z"
   },
   {
    "duration": 9,
    "start_time": "2023-01-27T16:28:04.697Z"
   },
   {
    "duration": 13,
    "start_time": "2023-01-27T16:28:04.708Z"
   },
   {
    "duration": 28,
    "start_time": "2023-01-27T16:28:04.723Z"
   },
   {
    "duration": 6,
    "start_time": "2023-01-27T16:28:04.753Z"
   },
   {
    "duration": 9,
    "start_time": "2023-01-27T16:28:04.761Z"
   },
   {
    "duration": 25,
    "start_time": "2023-01-27T16:28:04.772Z"
   },
   {
    "duration": 10,
    "start_time": "2023-01-27T16:28:04.798Z"
   },
   {
    "duration": 8,
    "start_time": "2023-01-27T16:28:04.809Z"
   },
   {
    "duration": 166,
    "start_time": "2023-01-27T16:28:04.818Z"
   },
   {
    "duration": 9,
    "start_time": "2023-01-27T16:28:04.986Z"
   },
   {
    "duration": 172,
    "start_time": "2023-01-27T16:28:05.001Z"
   },
   {
    "duration": 8,
    "start_time": "2023-01-27T16:28:05.176Z"
   },
   {
    "duration": 19,
    "start_time": "2023-01-27T16:28:05.186Z"
   },
   {
    "duration": 7,
    "start_time": "2023-01-27T16:28:05.207Z"
   },
   {
    "duration": 6,
    "start_time": "2023-01-27T16:28:05.216Z"
   },
   {
    "duration": 6,
    "start_time": "2023-01-27T16:28:05.248Z"
   },
   {
    "duration": 8,
    "start_time": "2023-01-27T16:28:05.256Z"
   },
   {
    "duration": 321,
    "start_time": "2023-01-27T16:28:05.266Z"
   },
   {
    "duration": 242,
    "start_time": "2023-01-27T16:28:05.589Z"
   },
   {
    "duration": 16,
    "start_time": "2023-01-27T16:28:05.833Z"
   },
   {
    "duration": 347,
    "start_time": "2023-01-27T16:28:05.850Z"
   },
   {
    "duration": 6,
    "start_time": "2023-01-27T16:28:06.199Z"
   },
   {
    "duration": 191,
    "start_time": "2023-01-27T16:28:06.207Z"
   },
   {
    "duration": 168,
    "start_time": "2023-01-27T16:28:06.400Z"
   },
   {
    "duration": 7,
    "start_time": "2023-01-27T16:28:06.569Z"
   },
   {
    "duration": 63,
    "start_time": "2023-01-27T16:28:06.577Z"
   },
   {
    "duration": 327,
    "start_time": "2023-01-27T16:28:06.641Z"
   },
   {
    "duration": 7,
    "start_time": "2023-01-27T16:28:06.970Z"
   },
   {
    "duration": 383,
    "start_time": "2023-01-27T16:28:06.979Z"
   },
   {
    "duration": 4,
    "start_time": "2023-01-27T16:28:07.364Z"
   },
   {
    "duration": 9,
    "start_time": "2023-01-27T16:28:07.369Z"
   },
   {
    "duration": 13,
    "start_time": "2023-01-27T16:28:07.380Z"
   },
   {
    "duration": 10,
    "start_time": "2023-01-27T16:28:07.395Z"
   },
   {
    "duration": 214,
    "start_time": "2023-01-27T16:28:07.407Z"
   },
   {
    "duration": 5,
    "start_time": "2023-01-27T16:28:07.623Z"
   },
   {
    "duration": 7,
    "start_time": "2023-01-27T16:28:07.630Z"
   },
   {
    "duration": 175,
    "start_time": "2023-01-27T16:28:07.649Z"
   },
   {
    "duration": 7,
    "start_time": "2023-01-27T16:28:07.826Z"
   },
   {
    "duration": 29,
    "start_time": "2023-01-27T16:28:07.835Z"
   },
   {
    "duration": 32,
    "start_time": "2023-01-27T16:28:07.866Z"
   },
   {
    "duration": 5,
    "start_time": "2023-01-27T16:28:07.900Z"
   },
   {
    "duration": 84,
    "start_time": "2023-01-27T16:28:07.907Z"
   },
   {
    "duration": 15,
    "start_time": "2023-01-27T16:28:07.992Z"
   },
   {
    "duration": 34,
    "start_time": "2023-01-27T16:28:08.009Z"
   },
   {
    "duration": 4,
    "start_time": "2023-01-27T16:28:08.049Z"
   },
   {
    "duration": 11,
    "start_time": "2023-01-27T16:28:08.055Z"
   },
   {
    "duration": 8,
    "start_time": "2023-01-27T16:28:08.067Z"
   },
   {
    "duration": 12,
    "start_time": "2023-01-27T16:28:08.076Z"
   },
   {
    "duration": 9,
    "start_time": "2023-01-27T16:28:08.089Z"
   }
  ],
  "kernelspec": {
   "display_name": "Python 3 (ipykernel)",
   "language": "python",
   "name": "python3"
  },
  "language_info": {
   "codemirror_mode": {
    "name": "ipython",
    "version": 3
   },
   "file_extension": ".py",
   "mimetype": "text/x-python",
   "name": "python",
   "nbconvert_exporter": "python",
   "pygments_lexer": "ipython3",
   "version": "3.9.13"
  },
  "toc": {
   "base_numbering": 1,
   "nav_menu": {},
   "number_sections": true,
   "sideBar": true,
   "skip_h1_title": true,
   "title_cell": "Table of Contents",
   "title_sidebar": "Contents",
   "toc_cell": false,
   "toc_position": {},
   "toc_section_display": true,
   "toc_window_display": false
  }
 },
 "nbformat": 4,
 "nbformat_minor": 2
}
